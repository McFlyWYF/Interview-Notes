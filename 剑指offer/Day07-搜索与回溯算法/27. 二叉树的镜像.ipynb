{
 "cells": [
  {
   "cell_type": "markdown",
   "metadata": {},
   "source": [
    "# 27. 二叉树的镜像"
   ]
  },
  {
   "cell_type": "markdown",
   "metadata": {},
   "source": [
    "* 请完成一个函数，输入一个二叉树，该函数输出它的镜像。"
   ]
  },
  {
   "cell_type": "markdown",
   "metadata": {},
   "source": [
    "* 输入：root = `[4,2,7,1,3,6,9]`\n",
    "* 输出：`[4,7,2,9,6,3,1]`"
   ]
  },
  {
   "cell_type": "markdown",
   "metadata": {},
   "source": [
    "### 递归法"
   ]
  },
  {
   "cell_type": "markdown",
   "metadata": {},
   "source": [
    "* 如果遍历完节点为空，返回；\n",
    "* 将左节点暂存起来，右子树赋值给左子树；\n",
    "* 左子树赋值给右子树；"
   ]
  },
  {
   "cell_type": "code",
   "execution_count": 3,
   "metadata": {},
   "outputs": [],
   "source": [
    "class Solution(object):\n",
    "    def mirrorTree(self, root):\n",
    "        \"\"\"\n",
    "        :type root: TreeNode\n",
    "        :rtype: TreeNode\n",
    "        \"\"\"\n",
    "        if root == None:\n",
    "            return None\n",
    "\n",
    "        tmp = root.left\n",
    "        root.left = mirrorTree(root.right)\n",
    "        root.right = mirrorTree(tmp)\n",
    "        return root"
   ]
  },
  {
   "cell_type": "markdown",
   "metadata": {},
   "source": [
    "### 队列"
   ]
  },
  {
   "cell_type": "markdown",
   "metadata": {},
   "source": [
    "* 如果节点为空,返回null;\n",
    "* 将根节点加入到队列中,队首元素出栈,如果元素不为空,则交换左右节点;\n",
    "* 如果左子树不空,加入队列中,如果右子树不空,加入队列中;\n",
    "* 一层一层进行左右交换;"
   ]
  },
  {
   "cell_type": "code",
   "execution_count": 4,
   "metadata": {},
   "outputs": [],
   "source": [
    "class Solution(object):\n",
    "    def mirrorTree(self, root):\n",
    "        \"\"\"\n",
    "        :type root: TreeNode\n",
    "        :rtype: TreeNode\n",
    "        \"\"\"    \n",
    "        if root == None:\n",
    "            return None\n",
    "\n",
    "        q = deque([root])\n",
    "        while q:\n",
    "            size = len(q)\n",
    "            for _ in range(size):\n",
    "                cur = q.popleft()\n",
    "                cur.left, cur.right = cur.right, cur.left\n",
    "                if cur.left:\n",
    "                    q.append(cur.left)\n",
    "                if cur.right:\n",
    "                    q.append(cur.right)\n",
    "        return root"
   ]
  }
 ],
 "metadata": {
  "kernelspec": {
   "display_name": "Python 3",
   "language": "python",
   "name": "python3"
  },
  "language_info": {
   "codemirror_mode": {
    "name": "ipython",
    "version": 3
   },
   "file_extension": ".py",
   "mimetype": "text/x-python",
   "name": "python",
   "nbconvert_exporter": "python",
   "pygments_lexer": "ipython3",
   "version": "3.9.1"
  }
 },
 "nbformat": 4,
 "nbformat_minor": 4
}
