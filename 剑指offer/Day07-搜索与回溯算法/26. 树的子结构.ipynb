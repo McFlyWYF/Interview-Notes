{
 "cells": [
  {
   "cell_type": "markdown",
   "metadata": {},
   "source": [
    "# 26. 树的子结构"
   ]
  },
  {
   "cell_type": "markdown",
   "metadata": {},
   "source": [
    "* 输入两棵二叉树A和B，判断B是不是A的子结构。(约定空树不是任意一个树的子结构)B是A的子结构， 即 A中有出现和B相同的结构和节点值。"
   ]
  },
  {
   "cell_type": "markdown",
   "metadata": {},
   "source": [
    "* 输入：A = [1,2,3], B = [3,1]\n",
    "* 输出：false"
   ]
  },
  {
   "cell_type": "markdown",
   "metadata": {},
   "source": [
    "#### 解题思路"
   ]
  },
  {
   "cell_type": "markdown",
   "metadata": {},
   "source": [
    "* 先遍历树A的每个节点；\n",
    "* 判断A中以n为根的子树是否包含树B；"
   ]
  },
  {
   "cell_type": "markdown",
   "metadata": {},
   "source": [
    "#### 终止条件"
   ]
  },
  {
   "cell_type": "markdown",
   "metadata": {},
   "source": [
    "* 当节点 B 为空：说明树 B 已匹配完成（越过叶子节点），因此返回 true ；\n",
    "* 当节点 A 为空：说明已经越过树 A 叶子节点，即匹配失败，返回 false ；\n",
    "* 当节点 A 和 B 的值不同：说明匹配失败，返回 false ；"
   ]
  },
  {
   "cell_type": "markdown",
   "metadata": {},
   "source": [
    "#### 返回值"
   ]
  },
  {
   "cell_type": "markdown",
   "metadata": {},
   "source": [
    "* 判断A和B的左子树；\n",
    "* 判断A和B的右子树；"
   ]
  },
  {
   "cell_type": "code",
   "execution_count": 3,
   "metadata": {},
   "outputs": [],
   "source": [
    "class Solution(object):\n",
    "\n",
    "    def isSubStructure(self, A, B):\n",
    "        \"\"\"\n",
    "        :type A: TreeNode\n",
    "        :type B: TreeNode\n",
    "        :rtype: bool\n",
    "        \"\"\"\n",
    "        def isSame(p, q):\n",
    "            if not q:  # B为空\n",
    "                return True\n",
    "            if not p or p.val != q.val: # A为空，已经遍历结束了，或者节点值不相等\n",
    "                return False\n",
    "\n",
    "            return isSame(p.left, q.left) and isSame(p.right, q.right)  # 遍历AB的左右子树\n",
    "            \n",
    "        if not A or not B:  # A或B为空，则不是子树\n",
    "            return False\n",
    "        return bool(A and B) and (isSame(A, B) or self.isSubStructure(A.left, B) or self.isSubStructure(A.right, B))  # A和B不为空，且B的A的子树，或B是A的左子树，或B是A的右子树"
   ]
  }
 ],
 "metadata": {
  "kernelspec": {
   "display_name": "Python 3",
   "language": "python",
   "name": "python3"
  },
  "language_info": {
   "codemirror_mode": {
    "name": "ipython",
    "version": 3
   },
   "file_extension": ".py",
   "mimetype": "text/x-python",
   "name": "python",
   "nbconvert_exporter": "python",
   "pygments_lexer": "ipython3",
   "version": "3.9.1"
  }
 },
 "nbformat": 4,
 "nbformat_minor": 4
}
