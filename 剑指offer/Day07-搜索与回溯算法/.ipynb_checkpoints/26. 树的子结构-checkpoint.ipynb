{
 "cells": [
  {
   "cell_type": "markdown",
   "metadata": {},
   "source": [
    "# 26. 树的子结构"
   ]
  },
  {
   "cell_type": "markdown",
   "metadata": {},
   "source": [
    "* 输入两棵二叉树A和B，判断B是不是A的子结构。(约定空树不是任意一个树的子结构)B是A的子结构， 即 A中有出现和B相同的结构和节点值。"
   ]
  },
  {
   "cell_type": "markdown",
   "metadata": {},
   "source": [
    "* 输入：A = [1,2,3], B = [3,1]\n",
    "* 输出：false"
   ]
  },
  {
   "cell_type": "code",
   "execution_count": 2,
   "metadata": {},
   "outputs": [],
   "source": [
    "class Solution(object):\n",
    "\n",
    "    def isSubStructure(self, A, B):\n",
    "        \"\"\"\n",
    "        :type A: TreeNode\n",
    "        :type B: TreeNode\n",
    "        :rtype: bool\n",
    "        \"\"\"\n",
    "        def isSame(p, q):\n",
    "            if not q:  # B为空\n",
    "                return True\n",
    "            if not p or p.val != q.val: # A为空，已经遍历结束了，或者节点值不相等\n",
    "                return False\n",
    "\n",
    "            return isSame(p.left, q.left) and isSame(p.right, q.right)  # 遍历AB的左右子树\n",
    "            \n",
    "        if not A or not B:  # A或B为空，则不是子树\n",
    "            return False\n",
    "        return bool(A and B) and (isSame(A, B) or self.isSubStructure(A.left, B) or self.isSubStructure(A.right, B))  # A和B不为空，且B的A的子树，或B是A的左子树，或B是A的右子树"
   ]
  }
 ],
 "metadata": {
  "kernelspec": {
   "display_name": "Python 3",
   "language": "python",
   "name": "python3"
  },
  "language_info": {
   "codemirror_mode": {
    "name": "ipython",
    "version": 3
   },
   "file_extension": ".py",
   "mimetype": "text/x-python",
   "name": "python",
   "nbconvert_exporter": "python",
   "pygments_lexer": "ipython3",
   "version": "3.6.5"
  }
 },
 "nbformat": 4,
 "nbformat_minor": 2
}
