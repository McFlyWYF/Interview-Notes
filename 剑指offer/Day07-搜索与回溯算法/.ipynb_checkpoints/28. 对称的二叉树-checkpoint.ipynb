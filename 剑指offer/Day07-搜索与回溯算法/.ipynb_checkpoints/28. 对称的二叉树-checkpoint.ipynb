{
 "cells": [
  {
   "cell_type": "markdown",
   "metadata": {},
   "source": [
    "# 28. 对称的二叉树"
   ]
  },
  {
   "cell_type": "markdown",
   "metadata": {},
   "source": [
    "* 请实现一个函数，用来判断一棵二叉树是不是对称的。如果一棵二叉树和它的镜像一样，那么它是对称的。"
   ]
  },
  {
   "cell_type": "markdown",
   "metadata": {},
   "source": [
    "#### 递归法"
   ]
  },
  {
   "cell_type": "markdown",
   "metadata": {},
   "source": [
    "* 如果左右子树只要有一个为空,则返回false;\n",
    "* 如果左右子树值不相等,返回false;\n",
    "* 比较左子树左节点和右子树右节点;左子树右节点和右子树左节点;"
   ]
  },
  {
   "cell_type": "code",
   "execution_count": 2,
   "metadata": {},
   "outputs": [],
   "source": [
    "class Solution(object):\n",
    "    def isSymmetric(self, root):\n",
    "        \"\"\"\n",
    "        :type root: TreeNode\n",
    "        :rtype: bool\n",
    "        \"\"\"\n",
    "        if root == None:\n",
    "            return True\n",
    "        \n",
    "        def travel(l, r):\n",
    "            if not l and r:\n",
    "                return False\n",
    "            elif not r and l:\n",
    "                return False\n",
    "            elif not l and not r:\n",
    "                return True\n",
    "            elif l.val != r.val:\n",
    "                return False\n",
    "            else:\n",
    "                return travel(l.left, r.right) and travel(l.right, r.left)\n",
    "\n",
    "        return travel(root.left, root.right)\n"
   ]
  },
  {
   "cell_type": "markdown",
   "metadata": {},
   "source": [
    "#### 队列"
   ]
  },
  {
   "cell_type": "code",
   "execution_count": 5,
   "metadata": {},
   "outputs": [],
   "source": [
    "class Solution(object):\n",
    "    def isSymmetric(self, root):\n",
    "        \"\"\"\n",
    "        :type root: TreeNode\n",
    "        :rtype: bool\n",
    "        \"\"\"\n",
    "        if root == None:\n",
    "            return True\n",
    "\n",
    "        q = deque()\n",
    "        q.append(root.left)\n",
    "        q.append(root.right)\n",
    "        while q:\n",
    "            cur1 = q.popleft()\n",
    "            cur2 = q.popleft()\n",
    "            # 左右都为空,继续比较\n",
    "            if not cur1 and not cur2:\n",
    "                continue\n",
    "            # 有一个为空或值不相等\n",
    "            if not cur1 or not cur2 or cur1.val != cur2.val:\n",
    "                return False\n",
    "            \n",
    "            q.append(cur1.left)\n",
    "            q.append(cur2.right)\n",
    "            q.append(cur1.right)\n",
    "            q.append(cur2.left)\n",
    "            \n",
    "        return True"
   ]
  }
 ],
 "metadata": {
  "kernelspec": {
   "display_name": "Python 3",
   "language": "python",
   "name": "python3"
  },
  "language_info": {
   "codemirror_mode": {
    "name": "ipython",
    "version": 3
   },
   "file_extension": ".py",
   "mimetype": "text/x-python",
   "name": "python",
   "nbconvert_exporter": "python",
   "pygments_lexer": "ipython3",
   "version": "3.6.5"
  }
 },
 "nbformat": 4,
 "nbformat_minor": 2
}
