{
 "cells": [
  {
   "cell_type": "markdown",
   "id": "bb99778e-21a5-49b8-8b08-b28704c163bc",
   "metadata": {},
   "source": [
    "# 64. 求1+2+…+n的值"
   ]
  },
  {
   "cell_type": "markdown",
   "id": "ebe196ea-3c64-4e22-84c6-bb76a6d2c1f8",
   "metadata": {},
   "source": [
    "* 求 `1+2+...+n` ，要求不能使用`乘除法、for、while、if、else、switch、case`等关键字及条件判断语句（A?B:C）。"
   ]
  },
  {
   "cell_type": "markdown",
   "id": "920ab5ed-4751-4395-8186-bb700f20873b",
   "metadata": {},
   "source": [
    "#### 解题思路"
   ]
  },
  {
   "cell_type": "markdown",
   "id": "8a8949d5-318a-4ca6-b8a6-1892ce930bab",
   "metadata": {},
   "source": [
    "* `n > 1 && sumNums(n - 1)` // 当 n = 1 时 n > 1 不成立 ，此时 “短路” ，终止后续递归"
   ]
  },
  {
   "cell_type": "code",
   "execution_count": 1,
   "id": "6d35e56b-b5ac-47eb-ba6d-09a93e107cf5",
   "metadata": {},
   "outputs": [],
   "source": [
    "class Solution(object):\n",
    "    def __init__(self):\n",
    "        self.res = 0\n",
    "    def sumNums(self, n):\n",
    "        \"\"\"\n",
    "        :type n: int\n",
    "        :rtype: int\n",
    "        \"\"\"\n",
    "        n > 1 and self.sumNums(n - 1)\n",
    "        self.res += n\n",
    "        return self.res"
   ]
  },
  {
   "cell_type": "markdown",
   "id": "c2dca43e-5b9b-46cc-aaea-16a9e0065e30",
   "metadata": {},
   "source": [
    "* 时间复杂度：$O(N)$\n",
    "* 空间复杂度：$O(N)$"
   ]
  }
 ],
 "metadata": {
  "kernelspec": {
   "display_name": "Python 3",
   "language": "python",
   "name": "python3"
  },
  "language_info": {
   "codemirror_mode": {
    "name": "ipython",
    "version": 3
   },
   "file_extension": ".py",
   "mimetype": "text/x-python",
   "name": "python",
   "nbconvert_exporter": "python",
   "pygments_lexer": "ipython3",
   "version": "3.9.1"
  }
 },
 "nbformat": 4,
 "nbformat_minor": 5
}
