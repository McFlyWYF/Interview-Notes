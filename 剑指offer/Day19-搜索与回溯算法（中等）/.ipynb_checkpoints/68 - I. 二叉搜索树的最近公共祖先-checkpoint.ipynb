{
 "cells": [
  {
   "cell_type": "markdown",
   "id": "d5c6612f-dc0d-4831-9fed-41e51a54c6e3",
   "metadata": {},
   "source": [
    "# 68 - I. 二叉搜索树的最近公共祖先"
   ]
  },
  {
   "cell_type": "markdown",
   "id": "99bd27a0-6e0b-4744-b4d2-f170a2a09c14",
   "metadata": {},
   "source": [
    "* 给定一个二叉搜索树, 找到该树中两个指定节点的最近公共祖先。\n",
    "    * 最近公共祖先的定义为：“对于有根树 T 的两个结点 p、q，最近公共祖先表示为一个结点 x，满足 x 是 p、q 的祖先且 x 的深度尽可能大（一个节点也可以是它自己的祖先）。”"
   ]
  },
  {
   "cell_type": "markdown",
   "id": "f76e065c-9b0e-4827-a5d7-0e2775ed9536",
   "metadata": {},
   "source": [
    "* 例如：\n",
    "    * 输入: `root = [6,2,8,0,4,7,9,null,null,3,5], p = 2, q = 8`\n",
    "    * 输出: `6 `\n",
    "    * 解释: 节点 2 和节点 8 的最近公共祖先是 6。"
   ]
  },
  {
   "cell_type": "markdown",
   "id": "95b03a81-a566-48b7-827c-fc77e9b131be",
   "metadata": {},
   "source": [
    "#### 方法一：递归法"
   ]
  },
  {
   "cell_type": "code",
   "execution_count": 1,
   "id": "70cf7bcb-980b-413d-9c3a-51f23c2b6c30",
   "metadata": {},
   "outputs": [],
   "source": [
    "# Definition for a binary tree node.\n",
    "# class TreeNode(object):\n",
    "#     def __init__(self, x):\n",
    "#         self.val = x\n",
    "#         self.left = None\n",
    "#         self.right = None\n",
    "\n",
    "class Solution(object):\n",
    "    def lowestCommonAncestor(self, root, p, q):\n",
    "        \"\"\"\n",
    "        :type root: TreeNode\n",
    "        :type p: TreeNode\n",
    "        :type q: TreeNode\n",
    "        :rtype: TreeNode\n",
    "        \"\"\"\n",
    "        # p, q的值大于root，在右子树中找\n",
    "        if root.val < p.val and root.val < q.val:\n",
    "            return self.lowestCommonAncestor(root.right, p, q)\n",
    "        # p, q的值小于root，在左子树中找\n",
    "        if root.val > p.val and root.val > q.val:\n",
    "            return self.lowestCommonAncestor(root.left, p, q)\n",
    "        # 否则返回root\n",
    "        return root"
   ]
  },
  {
   "cell_type": "markdown",
   "id": "2df457f9-917d-46c0-b7b3-355b64560d3f",
   "metadata": {},
   "source": [
    "* 时间复杂度：$O(N)$\n",
    "* 空间复杂度：$O(N)$"
   ]
  },
  {
   "cell_type": "markdown",
   "id": "96b2a1bd-0b86-429e-927f-2e0f10f0ce16",
   "metadata": {},
   "source": [
    "#### 方法二：迭代法"
   ]
  },
  {
   "cell_type": "code",
   "execution_count": 2,
   "id": "73f3dacf-8618-4bc5-b346-255a351e6d0a",
   "metadata": {},
   "outputs": [],
   "source": [
    "# Definition for a binary tree node.\n",
    "# class TreeNode(object):\n",
    "#     def __init__(self, x):\n",
    "#         self.val = x\n",
    "#         self.left = None\n",
    "#         self.right = None\n",
    "\n",
    "class Solution(object):\n",
    "    def lowestCommonAncestor(self, root, p, q):\n",
    "        \"\"\"\n",
    "        :type root: TreeNode\n",
    "        :type p: TreeNode\n",
    "        :type q: TreeNode\n",
    "        :rtype: TreeNode\n",
    "        \"\"\"\n",
    "        while root:\n",
    "            if root.val < p.val and root.val < q.val:\n",
    "                root = root.right\n",
    "            elif root.val > p.val and root.val > q.val:\n",
    "                root = root.left\n",
    "            else:\n",
    "                break\n",
    "        return root"
   ]
  },
  {
   "cell_type": "markdown",
   "id": "492cf628-f2f9-4985-8777-8b0083dc053c",
   "metadata": {},
   "source": [
    "* 时间复杂度：$O(N)$\n",
    "* 空间复杂度：$O(1)$"
   ]
  }
 ],
 "metadata": {
  "kernelspec": {
   "display_name": "Python 3",
   "language": "python",
   "name": "python3"
  },
  "language_info": {
   "codemirror_mode": {
    "name": "ipython",
    "version": 3
   },
   "file_extension": ".py",
   "mimetype": "text/x-python",
   "name": "python",
   "nbconvert_exporter": "python",
   "pygments_lexer": "ipython3",
   "version": "3.9.1"
  }
 },
 "nbformat": 4,
 "nbformat_minor": 5
}
