{
 "cells": [
  {
   "cell_type": "markdown",
   "id": "c7375707-ddeb-4adb-b604-c749a67626a6",
   "metadata": {},
   "source": [
    "# 68 - II. 二叉树的最近公共祖先"
   ]
  },
  {
   "cell_type": "markdown",
   "id": "700e2058-35bf-45f8-baff-c0835c9397d9",
   "metadata": {},
   "source": [
    "* 给定一个二叉树, 找到该树中两个指定节点的最近公共祖先。\n",
    "    * 最近公共祖先的定义为：“对于有根树 T 的两个结点 p、q，最近公共祖先表示为一个结点 x，满足 x 是 p、q 的祖先且 x 的深度尽可能大（一个节点也可以是它自己的祖先）。”"
   ]
  },
  {
   "cell_type": "markdown",
   "id": "76c45298-c5d0-438a-8ed4-85ed604052ed",
   "metadata": {},
   "source": [
    "* 例如：\n",
    "    * 输入: `root = [3,5,1,6,2,0,8,null,null,7,4], p = 5, q = 1`\n",
    "    * 输出: `3`\n",
    "    * 解释: 节点 5 和节点 1 的最近公共祖先是节点 3。"
   ]
  },
  {
   "cell_type": "markdown",
   "id": "b2d06cbe-618c-4713-a199-22e40c6602ce",
   "metadata": {},
   "source": [
    "#### 解题思路"
   ]
  },
  {
   "cell_type": "markdown",
   "id": "1a6e9b71-c07b-40f9-9ad6-96914e094926",
   "metadata": {},
   "source": [
    "* 若 root 是 p, q 的 最近公共祖先 ，则只可能为以下情况之一：\n",
    "    * p 和 qq 在 root 的子树中，且分列 root 的 异侧（即分别在左、右子树中）；\n",
    "    * p = root ，且 q 在 root 的左或右子树中；\n",
    "    * q = root ，且 p 在 root 的左或右子树中；"
   ]
  },
  {
   "cell_type": "markdown",
   "id": "27900979-55c7-4a3c-9ec9-acae252b7afc",
   "metadata": {},
   "source": [
    "* 终止条件：\n",
    "    * 当越过叶节点，则直接返回 null ；\n",
    "    * 当 root 等于 p, q，则直接返回 root ；\n",
    "* 递推工作：\n",
    "    * 开启递归左子节点，返回值记为 left ；\n",
    "    * 开启递归右子节点，返回值记为 right ；\n",
    "* 返回值： 根据 left 和 right ，可展开为四种情况；\n",
    "    * 当 `left 和 right` 同时为空 ：说明 root 的左 / 右子树中都不包含 p,q ，返回 null ；\n",
    "    * 当 `left 和 right` 同时不为空 ：说明 p, q 分列在 root 的 异侧 （分别在 左 / 右子树），因此 root 为最近公共祖先，返回 root ；\n",
    "    * 当 `left 为空 ，right` 不为空 ：p,q 都不在 root 的左子树中，直接返回 right 。具体可分为两种情况：\n",
    "        * `p,q` 其中一个在 root 的 右子树 中，此时 right 指向 p（假设为 p ）；\n",
    "        * `p,q` 两节点都在 root 的 右子树 中，此时的 right 指向 最近公共祖先节点 ；\n",
    "    * 当 left 不为空 ， right 为空 ：与情况 3. 同理；"
   ]
  },
  {
   "cell_type": "code",
   "execution_count": 1,
   "id": "37dcdfe9-4c57-479f-9e07-a3fc1f1a73f6",
   "metadata": {},
   "outputs": [],
   "source": [
    "# Definition for a binary tree node.\n",
    "# class TreeNode(object):\n",
    "#     def __init__(self, x):\n",
    "#         self.val = x\n",
    "#         self.left = None\n",
    "#         self.right = None\n",
    "\n",
    "class Solution(object):\n",
    "    def lowestCommonAncestor(self, root, p, q):\n",
    "        \"\"\"\n",
    "        :type root: TreeNode\n",
    "        :type p: TreeNode\n",
    "        :type q: TreeNode\n",
    "        :rtype: TreeNode\n",
    "        \"\"\"\n",
    "        if not root or root == p or root == q: return root\n",
    "        left = self.lowestCommonAncestor(root.left, p, q)\n",
    "        right = self.lowestCommonAncestor(root.right, p, q)\n",
    "        if not left and not right: return # 1.\n",
    "        if not left: return right # 3.\n",
    "        if not right: return left # 4.\n",
    "        return root # 2. if left and right:"
   ]
  },
  {
   "cell_type": "markdown",
   "id": "367f2c83-d4cb-4d8e-8131-33c88d54591d",
   "metadata": {},
   "source": [
    "* 时间复杂度：$O(N)$\n",
    "* 框架复杂度：$O(N)$"
   ]
  }
 ],
 "metadata": {
  "kernelspec": {
   "display_name": "Python 3",
   "language": "python",
   "name": "python3"
  },
  "language_info": {
   "codemirror_mode": {
    "name": "ipython",
    "version": 3
   },
   "file_extension": ".py",
   "mimetype": "text/x-python",
   "name": "python",
   "nbconvert_exporter": "python",
   "pygments_lexer": "ipython3",
   "version": "3.9.1"
  }
 },
 "nbformat": 4,
 "nbformat_minor": 5
}
