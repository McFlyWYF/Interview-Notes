{
 "cells": [
  {
   "cell_type": "markdown",
   "metadata": {},
   "source": [
    "# 45. 把数组排成最小的数"
   ]
  },
  {
   "cell_type": "markdown",
   "metadata": {},
   "source": [
    "* 输入一个非负整数数组，把数组里所有数字拼接起来排成一个数，打印能拼接出的所有数字中最小的一个。"
   ]
  },
  {
   "cell_type": "markdown",
   "metadata": {},
   "source": [
    "* 例如：\n",
    "    * 输入: `[10,2]`\n",
    "    * 输出: `\"102\"`"
   ]
  },
  {
   "cell_type": "markdown",
   "metadata": {},
   "source": [
    "### 解题思路"
   ]
  },
  {
   "cell_type": "markdown",
   "metadata": {},
   "source": [
    "* 此题求拼接起来的最小数字，本质上是一个排序问题。设数组 numsnums 中任意两数字的字符串为 xx 和 yy ，则规定 排序判断规则为：\n",
    "    * 若拼接字符串 `x + y > y + x`，则` x “大于” y `；\n",
    "    * 反之，若 `x + y < y + x`，则 `x“小于” y `；"
   ]
  },
  {
   "cell_type": "markdown",
   "metadata": {},
   "source": [
    "##### 算法流程：\n",
    "* 初始化： 字符串列表 strs ，保存各数字的字符串格式；\n",
    "* 列表排序： 应用以上 “排序判断规则” ，对 strs 执行排序；\n",
    "* 返回值： 拼接 strs 中的所有字符串，并返回。"
   ]
  },
  {
   "cell_type": "code",
   "execution_count": 1,
   "metadata": {},
   "outputs": [],
   "source": [
    "class Solution(object):\n",
    "    def minNumber(self, nums):\n",
    "        \"\"\"\n",
    "        :type nums: List[int]\n",
    "        :rtype: str\n",
    "        \"\"\"\n",
    "\n",
    "        def quick_sort(l , r):\n",
    "            if l >= r: return\n",
    "            i, j = l, r\n",
    "            while i < j:\n",
    "                while strs[j] + strs[l] >= strs[l] + strs[j] and i < j: j -= 1\n",
    "                while strs[i] + strs[l] <= strs[l] + strs[i] and i < j: i += 1\n",
    "                strs[i], strs[j] = strs[j], strs[i]\n",
    "            strs[i], strs[l] = strs[l], strs[i]\n",
    "            quick_sort(l, i - 1)\n",
    "            quick_sort(i + 1, r)\n",
    "        \n",
    "        strs = [str(num) for num in nums]\n",
    "        quick_sort(0, len(strs) - 1)\n",
    "        return ''.join(strs)"
   ]
  },
  {
   "cell_type": "markdown",
   "metadata": {},
   "source": [
    "* 时间复杂度：$O(NlogN)$\n",
    "* 空间复杂度：$O(N)$"
   ]
  }
 ],
 "metadata": {
  "kernelspec": {
   "display_name": "Python 3",
   "language": "python",
   "name": "python3"
  },
  "language_info": {
   "codemirror_mode": {
    "name": "ipython",
    "version": 3
   },
   "file_extension": ".py",
   "mimetype": "text/x-python",
   "name": "python",
   "nbconvert_exporter": "python",
   "pygments_lexer": "ipython3",
   "version": "3.6.5"
  }
 },
 "nbformat": 4,
 "nbformat_minor": 2
}
