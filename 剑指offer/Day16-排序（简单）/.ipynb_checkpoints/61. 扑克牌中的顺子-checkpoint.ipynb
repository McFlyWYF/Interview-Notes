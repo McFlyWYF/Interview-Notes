{
 "cells": [
  {
   "cell_type": "markdown",
   "metadata": {},
   "source": [
    "# 61. 扑克牌中的顺子"
   ]
  },
  {
   "cell_type": "markdown",
   "metadata": {},
   "source": [
    "* 从若干副扑克牌中随机抽 5 张牌，判断是不是一个顺子，即这5张牌是不是连续的。2～10为数字本身，A为1，J为11，Q为12，K为13，而大、小王为 0 ，可以看成任意数字。A 不能视为 14。"
   ]
  },
  {
   "cell_type": "markdown",
   "metadata": {},
   "source": [
    "* 例如：\n",
    "    * 输入: `[1,2,3,4,5]`\n",
    "    * 输出: `True` "
   ]
  },
  {
   "cell_type": "markdown",
   "metadata": {},
   "source": [
    "* 根据题意，此 55 张牌是顺子的 充分条件 如下：\n",
    "    * 除大小王外，所有牌 无重复 ；\n",
    "    * 设此 55 张牌中最大的牌为 maxmax ，最小的牌为 minmin （大小王除外），则需满足：\n",
    "        * max - min < 5"
   ]
  },
  {
   "cell_type": "markdown",
   "metadata": {},
   "source": [
    "### 方法一：集合set+遍历"
   ]
  },
  {
   "cell_type": "markdown",
   "metadata": {},
   "source": [
    "* 遍历五张牌，遇到大小王直接跳过。\n",
    "* 判别重复，利用set实现遍历判重。\n",
    "* 获取最大/最小的牌：连续的5张顺子，最大值和最小值的差小于5，借助max和min，遍历统计即可。"
   ]
  },
  {
   "cell_type": "code",
   "execution_count": 1,
   "metadata": {},
   "outputs": [],
   "source": [
    "class Solution(object):\n",
    "    def isStraight(self, nums):\n",
    "        \"\"\"\n",
    "        :type nums: List[int]\n",
    "        :rtype: bool\n",
    "        \"\"\"\n",
    "        s = set()\n",
    "        ma = 0\n",
    "        mi = 14\n",
    "        for num in nums:\n",
    "            if num == 0:\n",
    "                continue\n",
    "            ma = max(ma, num)\n",
    "            mi = min(mi, num)\n",
    "            if num in s:\n",
    "                return False\n",
    "            s.add(num)\n",
    "        return ma - mi < 5    "
   ]
  },
  {
   "cell_type": "markdown",
   "metadata": {},
   "source": [
    "* 时间复杂度：$O(N)$\n",
    "* 空间复杂度：$O(N)$"
   ]
  },
  {
   "cell_type": "markdown",
   "metadata": {},
   "source": [
    "### 方法二：排序+遍历"
   ]
  },
  {
   "cell_type": "code",
   "execution_count": 3,
   "metadata": {},
   "outputs": [],
   "source": [
    "class Solution(object):\n",
    "    def isStraight(self, nums):\n",
    "        \"\"\"\n",
    "        :type nums: List[int]\n",
    "        :rtype: bool\n",
    "        \"\"\"\n",
    "        nums.sort()\n",
    "        index = 0\n",
    "        for i in range(len(nums) - 1):\n",
    "            if nums[i] == 0:\n",
    "                index += 1  # 统计0的个数\n",
    "            elif nums[i] == nums[i + 1]:  # 如果相邻元素相等，直接返回FALSE\n",
    "                return False\n",
    "        \n",
    "        return nums[len(nums) - 1] - nums[index] < 5  # 判别最大值和最小的差是否小于5"
   ]
  },
  {
   "cell_type": "markdown",
   "metadata": {},
   "source": [
    "* 时间复杂度：$O(NlogN)$\n",
    "* 空间复杂度：$O(1)$"
   ]
  }
 ],
 "metadata": {
  "kernelspec": {
   "display_name": "Python 3",
   "language": "python",
   "name": "python3"
  },
  "language_info": {
   "codemirror_mode": {
    "name": "ipython",
    "version": 3
   },
   "file_extension": ".py",
   "mimetype": "text/x-python",
   "name": "python",
   "nbconvert_exporter": "python",
   "pygments_lexer": "ipython3",
   "version": "3.6.5"
  }
 },
 "nbformat": 4,
 "nbformat_minor": 2
}
