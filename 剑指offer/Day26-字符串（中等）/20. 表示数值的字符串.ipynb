{
 "cells": [
  {
   "cell_type": "markdown",
   "metadata": {},
   "source": [
    "# 20. 表示数值的字符串"
   ]
  },
  {
   "cell_type": "markdown",
   "metadata": {},
   "source": [
    "* 请实现一个函数用来判断字符串是否表示数值（包括整数和小数）。\n",
    "\n",
    "* 数值（按顺序）可以分成以下几个部分：\n",
    "    * 若干空格\n",
    "    * 一个 小数 或者 整数\n",
    "    * （可选）一个 'e' 或 'E' ，后面跟着一个 整数\n",
    "    * 若干空格\n",
    "\n",
    "* 小数（按顺序）可以分成以下几个部分：\n",
    "    * （可选）一个符号字符（'+' 或 '-'）\n",
    "    * 下述格式之一：\n",
    "        * 至少一位数字，后面跟着一个点 '.'\n",
    "        * 至少一位数字，后面跟着一个点 '.' ，后面再跟着至少一位数字\n",
    "        * 一个点 '.' ，后面跟着至少一位数字\n",
    "\n",
    "* 整数（按顺序）可以分成以下几个部分：\n",
    "    * （可选）一个符号字符（'+' 或 '-'）\n",
    "    * 至少一位数字\n",
    "\n",
    "* 部分数值列举如下：\n",
    "    * `[\"+100\", \"5e2\", \"-123\", \"3.1416\", \"-1E-16\", \"0123\"]`\n",
    "    \n",
    "* 部分非数值列举如下：\n",
    "    `[\"12e\", \"1a3.14\", \"1.2.3\", \"+-5\", \"12e+5.4\"]`"
   ]
  },
  {
   "cell_type": "markdown",
   "metadata": {},
   "source": [
    "* 例如：\n",
    "    * 输入：`s = \"0\"`\n",
    "    * 输出：`true`"
   ]
  },
  {
   "cell_type": "markdown",
   "metadata": {},
   "source": [
    "### 解题思路"
   ]
  },
  {
   "cell_type": "markdown",
   "metadata": {},
   "source": [
    "* 使用有限状态自动机解决。"
   ]
  },
  {
   "cell_type": "markdown",
   "metadata": {},
   "source": [
    "* 字符类型：空格，数字，正负号，小数点，幂符号；\n",
    "* 状态定义：\n",
    "    * 0.开始的空格\n",
    "    * 1.幂符号前的正负号\n",
    "    * 2.小数点前的数字\n",
    "    * 3.小数点、小数点后的数字\n",
    "    * 4.当小数点前为空格时，小数点、小数点后的数字\n",
    "    * 5.幂符号\n",
    "    * 6.幂符号后的正负号\n",
    "    * 7.幂符号后的数字\n",
    "    * 8.结尾的空格\n",
    "* 结束状态：\n",
    "    * 合法的结束状态有2,3,7,8；"
   ]
  },
  {
   "cell_type": "markdown",
   "metadata": {},
   "source": [
    "* 初始化：\n",
    "    * 状态转移表states：使用哈希表存储；\n",
    "    * 当前状态p：起始状态初始化为p=0;\n",
    "* 状态转移循环：遍历字符串s的每个字符c；\n",
    "    * 记录字符类型t：\n",
    "        * 当c为正负号时，执行t = 's'；\n",
    "        * 当c为数字时，执行t = 'd'；\n",
    "        * 当c为e，E时，执行t = 'e'；\n",
    "        * 当c为.，空格时，执行t = c;\n",
    "        * 否则，执行t = '?'，代表为不属于判断范围的非法字符，直接返回false。\n",
    "    * 终止条件：若字符类型t不在哈希表，说明无法转移至下一状态，因此返回false。\n",
    "    * 状态转移：状态p转移至states[p][t]。\n",
    "* 返回值：跳出循环后，若状态p属于2,3,7,8，说明结尾合法，返回true，否则返回false。"
   ]
  },
  {
   "cell_type": "code",
   "execution_count": 1,
   "metadata": {},
   "outputs": [],
   "source": [
    "class Solution(object):\n",
    "    def isNumber(self, s):\n",
    "        \"\"\"\n",
    "        :type s: str\n",
    "        :rtype: bool\n",
    "        \"\"\"\n",
    "        states = [\n",
    "            {' ':0, 's':1, 'd':2, '.':4},\n",
    "            {'d':2, '.':4},\n",
    "            {'d':2, '.':3, 'e':5, ' ':8},\n",
    "            {'d':3, 'e':5, ' ':8},\n",
    "            {'d':3},\n",
    "            {'s':6, 'd':7},\n",
    "            {'d':7},\n",
    "            {'d':7, ' ':8},\n",
    "            {' ':8}\n",
    "        ]\n",
    "\n",
    "        p = 0\n",
    "        for c in s:\n",
    "            if '0' <= c <= '9':\n",
    "                t = 'd'  # 数字\n",
    "            elif c in '+-':\n",
    "                t = 's'  # sign\n",
    "            elif c in 'eE':\n",
    "                t = 'e'  # e or E\n",
    "            elif c in '. ':\n",
    "                t = c  # dot, black\n",
    "            else:\n",
    "                t = '?'  # unknown\n",
    "            if t not in states[p]:\n",
    "                return False\n",
    "            \n",
    "            p = states[p][t]\n",
    "        return p in (2, 3, 7, 8)"
   ]
  },
  {
   "cell_type": "markdown",
   "metadata": {},
   "source": [
    "* 时间复杂度：$O(N)$\n",
    "* 空间复杂度：$O(1)$"
   ]
  }
 ],
 "metadata": {
  "kernelspec": {
   "display_name": "Python 3",
   "language": "python",
   "name": "python3"
  },
  "language_info": {
   "codemirror_mode": {
    "name": "ipython",
    "version": 3
   },
   "file_extension": ".py",
   "mimetype": "text/x-python",
   "name": "python",
   "nbconvert_exporter": "python",
   "pygments_lexer": "ipython3",
   "version": "3.6.5"
  }
 },
 "nbformat": 4,
 "nbformat_minor": 2
}
