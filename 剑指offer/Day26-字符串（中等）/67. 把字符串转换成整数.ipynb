{
 "cells": [
  {
   "cell_type": "markdown",
   "metadata": {},
   "source": [
    "# 67. 把字符串转换成整数"
   ]
  },
  {
   "cell_type": "markdown",
   "metadata": {},
   "source": [
    "* 写一个函数 StrToInt，实现把字符串转换成整数这个功能。不能使用 atoi 或者其他类似的库函数。"
   ]
  },
  {
   "cell_type": "markdown",
   "metadata": {},
   "source": [
    "* 例如：\n",
    "    * 输入: `\"   -42\"`\n",
    "    * 输出: `-42`"
   ]
  },
  {
   "cell_type": "markdown",
   "metadata": {},
   "source": [
    "* 四种字符：\n",
    "    * 首部空格：删除即可；\n",
    "    * 符号位：“+”， “-” 和无符号；\n",
    "    * 非数字字符：遇到首个非数字的字符时，应立即返回；\n",
    "    * 数字字符：\n",
    "        * 字符转数字：ASCII与0的ASCII相减；\n",
    "        * 数字拼接：若从左向右遍历数字，设当前位字符位C，当前位数字为x，数字结果为res，则数字拼接公式为：$res = 10 · res + x$，$x = ascii(c) - ascii('0')$"
   ]
  },
  {
   "cell_type": "code",
   "execution_count": 63,
   "metadata": {},
   "outputs": [],
   "source": [
    "class Solution(object):\n",
    "    def strToInt(self, str):\n",
    "        \"\"\"\n",
    "        :type str: str\n",
    "        :rtype: int\n",
    "        \"\"\"\n",
    "        sign = 1\n",
    "        res = []\n",
    "        i = 1\n",
    "        \n",
    "        int_min = -2 ** 31\n",
    "        int_max = 2 ** 31 - 1\n",
    "        # 去掉首尾空格\n",
    "        str = str.strip()\n",
    "        if not str:\n",
    "            return 0\n",
    "        # 首位是符号位\n",
    "        if str[0] == '-':\n",
    "            sign = -1\n",
    "        elif str[0] != '+':\n",
    "            i = 0\n",
    "\n",
    "        for s in str[i:]:\n",
    "            # 非字符直接跳出\n",
    "            if not '0' <= s <= '9':\n",
    "                break\n",
    "            elif '9' >= s >= '0':\n",
    "                res.append(s)\n",
    "            else:\n",
    "                break\n",
    "        # 非数字\n",
    "        if res == []:\n",
    "            return 0\n",
    "        \n",
    "        res = int(''.join(res))\n",
    "        res = sign * res\n",
    "        \n",
    "        if res < int_min:\n",
    "            return int_min\n",
    "        \n",
    "        if res > int_max:\n",
    "            return int_max\n",
    "        return res"
   ]
  },
  {
   "cell_type": "code",
   "execution_count": 58,
   "metadata": {},
   "outputs": [],
   "source": [
    "class Solution(object):\n",
    "    def strToInt(self, str):\n",
    "        \"\"\"\n",
    "        :type str: str\n",
    "        :rtype: int\n",
    "        \"\"\"\n",
    "        str = str.strip()  # 删除首尾空格\n",
    "        if not str:  # 字符串为空直接返回\n",
    "            return 0\n",
    "        res, i, sign = 0, 1, 1\n",
    "        int_max, int_min, bndry = 2 **31 - 1, -2 ** 31, 2 ** 31 // 10\n",
    "        if str[0] == '-':  # 保存负号\n",
    "            sign = -1\n",
    "        elif str[0] != '+':   # 若无符号位，则需从 i = 0 开始数字拼接\n",
    "            i = 0\n",
    "        for c in str[i:]:\n",
    "            if not '0' <= c <= '9':\n",
    "                break  # 遇到非数字的字符则跳出\n",
    "            if res > bndry or res == bndry and c > '7':\n",
    "                if sign == 1:  # 越界处理\n",
    "                    return int_max\n",
    "                else:\n",
    "                    return int_min\n",
    "            res = 10 * res + ord(c) - ord('0')  # 数字拼接\n",
    "        return sign * res"
   ]
  },
  {
   "cell_type": "markdown",
   "metadata": {},
   "source": [
    "* 时间复杂度：$O(N)$\n",
    "* 空间复杂度：$O(N)$"
   ]
  }
 ],
 "metadata": {
  "kernelspec": {
   "display_name": "Python 3",
   "language": "python",
   "name": "python3"
  },
  "language_info": {
   "codemirror_mode": {
    "name": "ipython",
    "version": 3
   },
   "file_extension": ".py",
   "mimetype": "text/x-python",
   "name": "python",
   "nbconvert_exporter": "python",
   "pygments_lexer": "ipython3",
   "version": "3.6.5"
  }
 },
 "nbformat": 4,
 "nbformat_minor": 2
}
