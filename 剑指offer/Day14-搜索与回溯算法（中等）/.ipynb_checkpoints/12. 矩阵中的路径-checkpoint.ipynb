{
 "cells": [
  {
   "cell_type": "markdown",
   "metadata": {},
   "source": [
    "# 12. 矩阵中的路径"
   ]
  },
  {
   "cell_type": "markdown",
   "metadata": {},
   "source": [
    "* 给定一个 m x n 二维字符网格 board 和一个字符串单词 word 。如果 word 存在于网格中，返回 true ；否则，返回 false 。\n",
    "\n",
    "单词必须按照字母顺序，通过相邻的单元格内的字母构成，其中“相邻”单元格是那些水平相邻或垂直相邻的单元格。同一个单元格内的字母不允许被重复使用。"
   ]
  },
  {
   "cell_type": "markdown",
   "metadata": {},
   "source": [
    "* 例如：\n",
    "    * 输入：`board = [[\"A\",\"B\",\"C\",\"E\"],[\"S\",\"F\",\"C\",\"S\"],[\"A\",\"D\",\"E\",\"E\"]], word = \"ABCCED\"`\n",
    "    * 输出：`true`"
   ]
  },
  {
   "cell_type": "markdown",
   "metadata": {},
   "source": [
    "#### 解题思路（DFS+剪枝）"
   ]
  },
  {
   "cell_type": "markdown",
   "metadata": {},
   "source": [
    "##### 递归参数：\n",
    "* 当前元素在矩阵`board`中的行列索引`i`和`j`，当前目标字符在`word`中的索引为`k`。\n",
    "    \n",
    "##### 终止条件：\n",
    "* 返回`false`：\n",
    "    * 行或列索引越界\n",
    "    * 当前矩阵元素与目标字符不同\n",
    "* 返回`true`：\n",
    "    * `k = len(word) - 1`，即字符串word已全部匹配\n",
    "\n",
    "##### 递推工作：\n",
    "* 标记当前矩阵元素：将`board[i][j]`修改为空字符`''`，代表此元素已访问过，防止之后搜索时重复。\n",
    "* 搜索下一单元格：朝当前元素的上下左右四个方向开启下层递归，使用或连接，并记录结果至`res`。\n",
    "* 还原当前矩阵元素：将`board[i][j]`元素还原至初始值，即`work[k]`。\n",
    "\n",
    "##### 返回值：\n",
    "* 返回布尔值`res`，代表是否搜索到目标字符串。"
   ]
  },
  {
   "cell_type": "code",
   "execution_count": 2,
   "metadata": {},
   "outputs": [],
   "source": [
    "class Solution(object):\n",
    "    def exist(self, board, word):\n",
    "        \"\"\"\n",
    "        :type board: List[List[str]]\n",
    "        :type word: str\n",
    "        :rtype: bool\n",
    "        \"\"\"\n",
    "\n",
    "        def dfs(i, j, k):\n",
    "            # 终止条件\n",
    "            if not 0 <= i < len(board) or not 0 <= j < len(board[0]) or board[i][j] != word[k]:\n",
    "                return False\n",
    "            \n",
    "            if k == len(word) - 1:\n",
    "                return True\n",
    "            \n",
    "            board[i][j] = ''  # 处理当前元素\n",
    "            res = dfs(i - 1, j, k + 1) or dfs(i + 1, j, k + 1) or dfs(i, j - 1, k + 1) or dfs(i, j + 1, k + 1)  # 回溯\n",
    "            board[i][j] = word[k]  # 撤销操作\n",
    "            return res \n",
    "        \n",
    "        for i in range(len(board)):\n",
    "            for j in range(len(board[0])):\n",
    "                if dfs(i, j, 0):\n",
    "                    return True\n",
    "        return False"
   ]
  },
  {
   "cell_type": "markdown",
   "metadata": {},
   "source": [
    "* 时间复杂度：$O(3^kMN)$\n",
    "* 空间复杂度：$O(MN)$"
   ]
  }
 ],
 "metadata": {
  "kernelspec": {
   "display_name": "Python 3",
   "language": "python",
   "name": "python3"
  },
  "language_info": {
   "codemirror_mode": {
    "name": "ipython",
    "version": 3
   },
   "file_extension": ".py",
   "mimetype": "text/x-python",
   "name": "python",
   "nbconvert_exporter": "python",
   "pygments_lexer": "ipython3",
   "version": "3.6.5"
  }
 },
 "nbformat": 4,
 "nbformat_minor": 2
}
