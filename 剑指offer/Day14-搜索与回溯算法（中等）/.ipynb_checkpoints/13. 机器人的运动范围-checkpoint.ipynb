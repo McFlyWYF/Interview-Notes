{
 "cells": [
  {
   "cell_type": "markdown",
   "metadata": {},
   "source": [
    "# 13. 机器人的运动范围"
   ]
  },
  {
   "cell_type": "markdown",
   "metadata": {},
   "source": [
    "* 地上有一个m行n列的方格，从坐标 [0,0] 到坐标 [m-1,n-1] 。一个机器人从坐标 [0, 0] 的格子开始移动，它每次可以向左、右、上、下移动一格（不能移动到方格外），也不能进入行坐标和列坐标的数位之和大于k的格子。例如，当k为18时，机器人能够进入方格 [35, 37] ，因为3+5+3+7=18。但它不能进入方格 [35, 38]，因为3+5+3+8=19。请问该机器人能够到达多少个格子？"
   ]
  },
  {
   "cell_type": "markdown",
   "metadata": {},
   "source": [
    "* 例如：\n",
    "    * 输入：`m = 2, n = 3, k = 1`\n",
    "    * 输出：`3`"
   ]
  },
  {
   "cell_type": "markdown",
   "metadata": {},
   "source": [
    "### 解题思路"
   ]
  },
  {
   "cell_type": "markdown",
   "metadata": {},
   "source": [
    "根据可达解得结构和连通性，可以推出机器人可仅通过向右和向下移动，访问所有可达解。"
   ]
  },
  {
   "cell_type": "markdown",
   "metadata": {},
   "source": [
    "#### 方法一：深度优先遍历DFS"
   ]
  },
  {
   "cell_type": "markdown",
   "metadata": {},
   "source": [
    "##### 递归参数：\n",
    "* 当前元素在矩阵中的行列索引i和j，两者的数位和si, sj；\n",
    "\n",
    "##### 终止条件：\n",
    "* 行或列索引越界\n",
    "* 数位和超出目标值k\n",
    "* 当前元素已访问过，返回0\n",
    "\n",
    "##### 递推：\n",
    "* 标记当前单元格：\n",
    "    * 将索引(i, j)存入visited中，代表此单元格已被访问过。\n",
    "* 搜索下一单元格：\n",
    "    * 计算当前元素的下、右两个方向元素的数位和，并开启下层递归。\n",
    "\n",
    "##### 返回值：\n",
    "* 返回`1 + 右方搜索的可达解总数 + 下方搜索的可达解总数`，代表从本单元格递归搜索的可达解总数。"
   ]
  },
  {
   "cell_type": "code",
   "execution_count": 2,
   "metadata": {},
   "outputs": [],
   "source": [
    "class Solution(object):\n",
    "    def movingCount(self, m, n, k):\n",
    "        \"\"\"\n",
    "        :type m: int\n",
    "        :type n: int\n",
    "        :type k: int\n",
    "        :rtype: int\n",
    "        \"\"\"\n",
    "        def dfs(i, j, si, sj):\n",
    "            # 终止条件\n",
    "            if not i < m or not j < n or si + sj > k or (i, j) in visited:\n",
    "                return 0\n",
    "            # 已访问，加入visited\n",
    "            visited.add((i, j))\n",
    "            return 1 +  dfs(i + 1, j, si + 1 if (i + 1) % 10 else si - 8, sj) + dfs(i, j + 1, si, sj + 1 if (j + 1) % 10 else sj - 8)\n",
    "\n",
    "        visited = set()\n",
    "        return dfs(0, 0, 0, 0)"
   ]
  },
  {
   "cell_type": "markdown",
   "metadata": {},
   "source": [
    "* 时间复杂度：$O(MN)$\n",
    "* 空间复杂度：$O(MN)$"
   ]
  },
  {
   "cell_type": "markdown",
   "metadata": {},
   "source": [
    "#### 方法二：广度优先遍历BFS"
   ]
  },
  {
   "cell_type": "markdown",
   "metadata": {},
   "source": [
    "#### 初始化：\n",
    "* 将机器人初始点(0, 0)加入队列queue；\n",
    "\n",
    "#### 迭代终止条件：\n",
    "* queue为空，代表已遍历完所有可达解；\n",
    "\n",
    "#### 迭代工作：\n",
    "* 单元格出队\n",
    "    * 将队首单元格的索引、数位和弹出，作为当前搜索单元格；\n",
    "* 判断是否跳过\n",
    "    * 行列索引越界；\n",
    "    * 数位和超出目标值k；\n",
    "    * 当前元素已访问过，执行continue；\n",
    "* 标记当前单元格\n",
    "    * 将单元格索引(i, j)存入visited中，代表此单元格已被访问过；\n",
    "* 单元格入队\n",
    "    * 将当前元素的下方、右方单元格的索引、数位和加入queue；\n",
    "    \n",
    "#### 返回值：\n",
    "* visited的长度，即可达解得数量；"
   ]
  },
  {
   "cell_type": "code",
   "execution_count": 3,
   "metadata": {},
   "outputs": [],
   "source": [
    "class Solution:\n",
    "    def movingCount(self, m: int, n: int, k: int) -> int:\n",
    "        q = [(0,0,0,0)]\n",
    "        visited = set()\n",
    "        while q:\n",
    "            i, j, si, sj = q.pop(0)\n",
    "            if not i < m or not j < n or si + sj > k or (i, j) in visited:\n",
    "                continue\n",
    "            visited.add((i, j))\n",
    "            q.append((i + 1, j, si + 1 if (i + 1) % 10 else si - 8, sj))\n",
    "            q.append((i, j + 1, si, sj + 1 if (j + 1) % 10 else sj - 8))                \n",
    "        return len(visited)"
   ]
  },
  {
   "cell_type": "markdown",
   "metadata": {},
   "source": [
    "* 时间复杂度：$O(MN)$\n",
    "* 空间复杂度：$O(MN)$"
   ]
  }
 ],
 "metadata": {
  "kernelspec": {
   "display_name": "Python 3",
   "language": "python",
   "name": "python3"
  },
  "language_info": {
   "codemirror_mode": {
    "name": "ipython",
    "version": 3
   },
   "file_extension": ".py",
   "mimetype": "text/x-python",
   "name": "python",
   "nbconvert_exporter": "python",
   "pygments_lexer": "ipython3",
   "version": "3.6.5"
  }
 },
 "nbformat": 4,
 "nbformat_minor": 2
}
