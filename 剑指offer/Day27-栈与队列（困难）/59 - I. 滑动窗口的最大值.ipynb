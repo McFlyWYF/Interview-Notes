{
 "cells": [
  {
   "cell_type": "markdown",
   "metadata": {},
   "source": [
    "# 59 - I. 滑动窗口的最大值"
   ]
  },
  {
   "cell_type": "markdown",
   "metadata": {},
   "source": [
    "* 给定一个数组 nums 和滑动窗口的大小 k，请找出所有滑动窗口里的最大值。"
   ]
  },
  {
   "cell_type": "markdown",
   "metadata": {},
   "source": [
    "* 例如：\n",
    "    * 输入: `nums = [1,3,-1,-3,5,3,6,7], 和 k = 3`\n",
    "    * 输出: `[3,3,5,5,6,7] `"
   ]
  },
  {
   "cell_type": "markdown",
   "metadata": {},
   "source": [
    "### 解题思路"
   ]
  },
  {
   "cell_type": "markdown",
   "metadata": {},
   "source": [
    "* 初始化： 双端队列 deque，结果列表 res，数组长度 n；\n",
    "* 滑动窗口： 左边界范围 $i \\in [1 - k, n - k]$ ，右边界范围 $j \\in [0, n - 1]$；\n",
    "    * 若 i > 0 且 队首元素 deque[0] = 被删除元素 nums[i - 1] ：则队首元素出队；\n",
    "    * 删除 deque 内所有 < nums[j] 的元素，以保持 deque 递减；\n",
    "    * 将 nums[j] 添加至 deque 尾部；\n",
    "    * 若已形成窗口（即 $i \\geq 0$）：将窗口最大值（即队首元素 deque[0] ）添加至列表 res ；\n",
    "* 返回值： 返回结果列表 res；"
   ]
  },
  {
   "cell_type": "code",
   "execution_count": 2,
   "metadata": {},
   "outputs": [],
   "source": [
    "class Solution(object):\n",
    "    def maxSlidingWindow(self, nums, k):\n",
    "        \"\"\"\n",
    "        :type nums: List[int]\n",
    "        :type k: int\n",
    "        :rtype: List[int]\n",
    "        \"\"\"\n",
    "        deque = collections.deque()\n",
    "        res = []\n",
    "        n = len(nums)\n",
    "        for i, j in zip(range(1 - k, n + 1 - k), range(n)):\n",
    "            # 删除deque中对应的nums[i - 1]\n",
    "            if i > 0 and deque[0] == nums[i - 1]:\n",
    "                deque.popleft()\n",
    "            # 保持deque递减\n",
    "            while deque and deque[-1] < nums[j]:\n",
    "                deque.pop()\n",
    "\n",
    "            deque.append(nums[j])\n",
    "            # 记录窗口最大值\n",
    "            if i >= 0:\n",
    "                res.append(deque[0])\n",
    "        return res"
   ]
  },
  {
   "cell_type": "markdown",
   "metadata": {},
   "source": [
    "* 时间复杂度：$O(n)$\n",
    "* 空间复杂度：$O(k)$"
   ]
  },
  {
   "cell_type": "code",
   "execution_count": 3,
   "metadata": {},
   "outputs": [
    {
     "data": {
      "text/plain": [
       "3"
      ]
     },
     "execution_count": 3,
     "metadata": {},
     "output_type": "execute_result"
    }
   ],
   "source": [
    "a = [1,2,3]\n",
    "a.pop()"
   ]
  },
  {
   "cell_type": "code",
   "execution_count": null,
   "metadata": {},
   "outputs": [],
   "source": []
  }
 ],
 "metadata": {
  "kernelspec": {
   "display_name": "Python 3",
   "language": "python",
   "name": "python3"
  },
  "language_info": {
   "codemirror_mode": {
    "name": "ipython",
    "version": 3
   },
   "file_extension": ".py",
   "mimetype": "text/x-python",
   "name": "python",
   "nbconvert_exporter": "python",
   "pygments_lexer": "ipython3",
   "version": "3.6.5"
  }
 },
 "nbformat": 4,
 "nbformat_minor": 2
}
