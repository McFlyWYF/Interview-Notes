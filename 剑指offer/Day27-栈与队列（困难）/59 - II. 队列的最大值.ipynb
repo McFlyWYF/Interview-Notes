{
 "cells": [
  {
   "cell_type": "markdown",
   "metadata": {},
   "source": [
    "# 59 - II. 队列的最大值"
   ]
  },
  {
   "cell_type": "markdown",
   "metadata": {},
   "source": [
    "* 请定义一个队列并实现函数 max_value 得到队列里的最大值，要求函数max_value、push_back 和 pop_front 的均摊时间复杂度都是O(1)。若队列为空，pop_front 和 max_value 需要返回 -1"
   ]
  },
  {
   "cell_type": "markdown",
   "metadata": {},
   "source": [
    "* 例如：\n",
    "    * 输入: `[\"MaxQueue\",\"push_back\",\"push_back\",\"max_value\",\"pop_front\",\"max_value\"]`\n",
    "   ` [[],[1],[2],[],[],[]]`\n",
    "    * 输出: `[null,null,null,2,1,2]`"
   ]
  },
  {
   "cell_type": "markdown",
   "metadata": {},
   "source": [
    "### 解题思路"
   ]
  },
  {
   "cell_type": "markdown",
   "metadata": {},
   "source": [
    "* 函数设计：\n",
    "    * 初始化队列 queue（保存入栈元素），双向队列 deque（保存最大值）；\n",
    "\n",
    "* 最大值 max_value() ：\n",
    "    * 当双向队列 deque 为空，则返回 -1；\n",
    "    * 否则，返回 deque 队首元素；\n",
    "\n",
    "* 入队 push_back() ：\n",
    "    * 将元素 value 入队 queue ；\n",
    "    * 将双向队列中队尾所有小于 value 的元素弹出（以保持 deque 非单调递减），并将元素 value 入队 deque ；\n",
    "\n",
    "* 出队 pop_front() ：\n",
    "    * 若队列 queue 为空，则直接返回 -1；\n",
    "    * 否则，将 queue 首元素出队；\n",
    "    * 若 deque 首元素和 queue 首元素相等 ，则将 deque 首元素出队（以保持两队列元素一致 ） ；"
   ]
  },
  {
   "cell_type": "code",
   "execution_count": 3,
   "metadata": {},
   "outputs": [],
   "source": [
    "import queue\n",
    "\n",
    "class MaxQueue:\n",
    "\n",
    "    def __init__(self):\n",
    "        self.deque1 = queue.Queue()\n",
    "        self.deque2 = queue.deque()\n",
    "\n",
    "    def max_value(self) -> int:\n",
    "        return self.deque2[0] if self.deque2 else -1\n",
    "\n",
    "\n",
    "    def push_back(self, value: int) -> None:\n",
    "        self.deque1.put(value)\n",
    "        while self.deque2 and self.deque2[-1] < value:\n",
    "            self.deque2.pop()\n",
    "        self.deque2.append(value)\n",
    "\n",
    "    def pop_front(self) -> int:\n",
    "        if self.deque1.empty():\n",
    "            return -1\n",
    "        \n",
    "        tmp = self.deque1.get()\n",
    "        if tmp == self.deque2[0]:\n",
    "            self.deque2.popleft()\n",
    "        return tmp\n",
    "\n",
    "# Your MaxQueue object will be instantiated and called as such:\n",
    "# obj = MaxQueue()\n",
    "# param_1 = obj.max_value()\n",
    "# obj.push_back(value)\n",
    "# param_3 = obj.pop_front()"
   ]
  },
  {
   "cell_type": "markdown",
   "metadata": {},
   "source": [
    "* 时间复杂度：$O(1)$\n",
    "* 空间复杂度：$O(n)$"
   ]
  }
 ],
 "metadata": {
  "kernelspec": {
   "display_name": "Python 3",
   "language": "python",
   "name": "python3"
  },
  "language_info": {
   "codemirror_mode": {
    "name": "ipython",
    "version": 3
   },
   "file_extension": ".py",
   "mimetype": "text/x-python",
   "name": "python",
   "nbconvert_exporter": "python",
   "pygments_lexer": "ipython3",
   "version": "3.6.5"
  }
 },
 "nbformat": 4,
 "nbformat_minor": 2
}
