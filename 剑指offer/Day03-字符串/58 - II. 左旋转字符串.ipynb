{
 "cells": [
  {
   "cell_type": "markdown",
   "id": "c9dd1dab-fd55-4174-b5f9-8dda8238465c",
   "metadata": {},
   "source": [
    "# 58 - II. 左旋转字符串"
   ]
  },
  {
   "cell_type": "markdown",
   "id": "9b25d870-6df9-4564-a732-d9f962e6bf3d",
   "metadata": {},
   "source": [
    "* 字符串的左旋转操作是把字符串前面的若干个字符转移到字符串的尾部。请定义一个函数实现字符串左旋转操作的功能。比如，输入字符串\"abcdefg\"和数字2，该函数将返回左旋转两位得到的结果\"cdefgab\"。"
   ]
  },
  {
   "cell_type": "markdown",
   "id": "77a27684-bfdc-4efd-9c33-3474a7279430",
   "metadata": {},
   "source": [
    "* 输入: s = \"abcdefg\", k = 2\n",
    "* 输出: \"cdefgab\""
   ]
  },
  {
   "cell_type": "code",
   "execution_count": 1,
   "id": "5789ccd4-65ee-4853-83b6-20eecd4ac918",
   "metadata": {},
   "outputs": [],
   "source": [
    "class Solution(object):\n",
    "    def reverseLeftWords(self, s, n):\n",
    "        \"\"\"\n",
    "        :type s: str\n",
    "        :type n: int\n",
    "        :rtype: str\n",
    "        \"\"\"\n",
    " \n",
    "        return s[n:] + s[:n]"
   ]
  }
 ],
 "metadata": {
  "kernelspec": {
   "display_name": "Python 3",
   "language": "python",
   "name": "python3"
  },
  "language_info": {
   "codemirror_mode": {
    "name": "ipython",
    "version": 3
   },
   "file_extension": ".py",
   "mimetype": "text/x-python",
   "name": "python",
   "nbconvert_exporter": "python",
   "pygments_lexer": "ipython3",
   "version": "3.9.1"
  }
 },
 "nbformat": 4,
 "nbformat_minor": 5
}
