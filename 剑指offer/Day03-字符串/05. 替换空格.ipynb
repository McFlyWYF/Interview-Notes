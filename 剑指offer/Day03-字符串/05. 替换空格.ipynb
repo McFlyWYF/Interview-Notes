{
 "cells": [
  {
   "cell_type": "markdown",
   "id": "a68b3961-c139-4d56-b8f2-6e8059d54ec9",
   "metadata": {},
   "source": [
    "# 05. 替换空格"
   ]
  },
  {
   "cell_type": "markdown",
   "id": "0c0bb85b-f71b-43b7-8f9d-5f3fe8eb0929",
   "metadata": {},
   "source": [
    "* 请实现一个函数，把字符串 s 中的每个空格替换成\"%20\"。"
   ]
  },
  {
   "cell_type": "markdown",
   "id": "27636cd6-4516-4821-a0bc-c291a00d02f1",
   "metadata": {},
   "source": [
    "* 输入：s = \"We are happy.\"\n",
    "* 输出：\"We%20are%20happy.\""
   ]
  },
  {
   "cell_type": "code",
   "execution_count": 1,
   "id": "ae5173f3-6a59-48d5-b1ed-cfb63ef87944",
   "metadata": {},
   "outputs": [],
   "source": [
    "class Solution(object):\n",
    "    def replaceSpace(self, s):\n",
    "        \"\"\"\n",
    "        :type s: str\n",
    "        :rtype: str\n",
    "        \"\"\"\n",
    "        count = 0\n",
    "        for i in range(len(s)):\n",
    "            if s[i] == ' ':\n",
    "                count += 1\n",
    "        left = len(s) - 1\n",
    "        \n",
    "        s = list(s)\n",
    "        for i in range(count * 2):\n",
    "            s.append(' ')\n",
    "        \n",
    "        right = len(s) - 1\n",
    "        while left < right:        \n",
    "            if s[left] != ' ':\n",
    "                s[right] = s[left]\n",
    "                right -= 1\n",
    "                left -= 1\n",
    "            if s[left] == ' ':\n",
    "                for s1 in \"02%\":\n",
    "                    s[right] = s1\n",
    "                    right -= 1\n",
    "                left -= 1\n",
    "        return ''.join(s)"
   ]
  }
 ],
 "metadata": {
  "kernelspec": {
   "display_name": "Python 3",
   "language": "python",
   "name": "python3"
  },
  "language_info": {
   "codemirror_mode": {
    "name": "ipython",
    "version": 3
   },
   "file_extension": ".py",
   "mimetype": "text/x-python",
   "name": "python",
   "nbconvert_exporter": "python",
   "pygments_lexer": "ipython3",
   "version": "3.9.1"
  }
 },
 "nbformat": 4,
 "nbformat_minor": 5
}
