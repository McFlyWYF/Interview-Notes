{
 "cells": [
  {
   "cell_type": "markdown",
   "id": "e8d447f8-10a7-496d-8ba8-f416efd4de15",
   "metadata": {},
   "source": [
    "# 30. 包含min函数的栈"
   ]
  },
  {
   "cell_type": "markdown",
   "id": "b56423d5-2647-4dc4-bb23-c83ba031d3d1",
   "metadata": {},
   "source": [
    "* 定义栈的数据结构，请在该类型中实现一个能够得到栈的最小元素的 min 函数在该栈中，调用 min、push 及 pop 的时间复杂度都是 O(1)。"
   ]
  },
  {
   "cell_type": "markdown",
   "id": "ddf0e4bc-568c-4aa2-bb2d-1a6d5b748afe",
   "metadata": {},
   "source": [
    "```\n",
    "MinStack minStack = new MinStack();\n",
    "minStack.push(-2);\n",
    "minStack.push(0);\n",
    "minStack.push(-3);\n",
    "minStack.min();   --> 返回 -3.\n",
    "minStack.pop();\n",
    "minStack.top();      --> 返回 0.\n",
    "minStack.min();   --> 返回 -2.\n",
    "```"
   ]
  },
  {
   "cell_type": "code",
   "execution_count": 2,
   "id": "4a24addb-494f-4f14-a7b5-bf368b228862",
   "metadata": {},
   "outputs": [],
   "source": [
    "class MinStack:\n",
    "\n",
    "    def __init__(self):\n",
    "        \"\"\"\n",
    "        initialize your data structure here.\n",
    "        \"\"\"\n",
    "        self.s1 = list()\n",
    "        self.s2 = list()\n",
    "\n",
    "    def push(self, x: int) -> None:\n",
    "        self.s1.append(x)\n",
    "        if not self.s2 or self.s2[-1] >= x:\n",
    "            self.s2.append(x)\n",
    "        \n",
    "    def pop(self) -> None:\n",
    "        if self.s1.pop() == self.s2[-1]:\n",
    "            self.s2.pop()\n",
    "\n",
    "    def top(self) -> int:\n",
    "        return self.s1[-1]\n",
    "\n",
    "    def min(self) -> int:\n",
    "        return self.s2[-1]"
   ]
  }
 ],
 "metadata": {
  "kernelspec": {
   "display_name": "Python 3",
   "language": "python",
   "name": "python3"
  },
  "language_info": {
   "codemirror_mode": {
    "name": "ipython",
    "version": 3
   },
   "file_extension": ".py",
   "mimetype": "text/x-python",
   "name": "python",
   "nbconvert_exporter": "python",
   "pygments_lexer": "ipython3",
   "version": "3.9.1"
  }
 },
 "nbformat": 4,
 "nbformat_minor": 5
}
