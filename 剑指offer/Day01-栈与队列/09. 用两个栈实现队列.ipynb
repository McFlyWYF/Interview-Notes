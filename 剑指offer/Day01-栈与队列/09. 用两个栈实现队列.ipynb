{
 "cells": [
  {
   "cell_type": "markdown",
   "id": "3c2a9f9c-8e2b-4c5a-88b8-38cd32bb11e4",
   "metadata": {},
   "source": [
    "# 09. 用两个栈实现队列"
   ]
  },
  {
   "cell_type": "markdown",
   "id": "448553e0-fb61-4272-99dd-45c792a3f2a0",
   "metadata": {},
   "source": [
    "* 用两个栈实现一个队列。队列的声明如下，请实现它的两个函数 appendTail 和 deleteHead ，分别完成在队列尾部插入整数和在队列头部删除整数的功能。(若队列中没有元素，deleteHead 操作返回 -1 )"
   ]
  },
  {
   "cell_type": "markdown",
   "id": "7a94e530-80c0-4c1a-a0e0-d7d53b65d6cd",
   "metadata": {},
   "source": [
    "* 输入：[\"CQueue\",\"appendTail\",\"deleteHead\",\"deleteHead\"] [[],[3],[],[]]\n",
    "* 输出：[null,null,3,-1]"
   ]
  },
  {
   "cell_type": "code",
   "execution_count": 2,
   "id": "6fce1dca-9a46-4f79-817e-1748ddaed43b",
   "metadata": {},
   "outputs": [],
   "source": [
    "class CQueue:\n",
    "\n",
    "    def __init__(self):\n",
    "        self.sin = list()\n",
    "        self.sout = list()\n",
    "\n",
    "    def appendTail(self, value: int) -> None:\n",
    "        self.sin.append(value)\n",
    "\n",
    "    def deleteHead(self) -> int:\n",
    "        if self.sout == []:\n",
    "            if self.sin == []:\n",
    "                return -1\n",
    "            while self.sin:\n",
    "                self.sout.append(self.sin.pop()) # 将栈1中的数据拷贝打栈2中，弹出栈2中的顶部元素\n",
    "            return self.sout.pop()\n",
    "        else:\n",
    "            return self.sout.pop() # 如果栈2不为空，继续弹出栈顶元素\n",
    "\n",
    "        # if self.sin == []:\n",
    "            # return -1\n",
    "\n",
    "# Your CQueue object will be instantiated and called as such:\n",
    "# obj = CQueue()\n",
    "# obj.appendTail(value)\n",
    "# param_2 = obj.deleteHead()"
   ]
  }
 ],
 "metadata": {
  "kernelspec": {
   "display_name": "Python 3",
   "language": "python",
   "name": "python3"
  },
  "language_info": {
   "codemirror_mode": {
    "name": "ipython",
    "version": 3
   },
   "file_extension": ".py",
   "mimetype": "text/x-python",
   "name": "python",
   "nbconvert_exporter": "python",
   "pygments_lexer": "ipython3",
   "version": "3.9.1"
  }
 },
 "nbformat": 4,
 "nbformat_minor": 5
}
