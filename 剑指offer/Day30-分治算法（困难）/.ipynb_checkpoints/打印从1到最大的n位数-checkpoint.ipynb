{
 "cells": [
  {
   "cell_type": "markdown",
   "id": "9a032d90-eb87-4c4e-9f96-eb43c9171a6b",
   "metadata": {},
   "source": [
    "# 17. 打印从1到最大的n位数"
   ]
  },
  {
   "cell_type": "markdown",
   "id": "6dc787af-b32e-47dd-addc-e39f4bc20304",
   "metadata": {},
   "source": [
    "* 输入数字n，按顺序打印出从1到最大的n位十进制数。"
   ]
  },
  {
   "cell_type": "markdown",
   "id": "9e2e42d4-23c8-40e7-84f0-f5b6b48a17d5",
   "metadata": {},
   "source": [
    "* 例如：\n",
    "    * 输入：`n = 1`\n",
    "    * 输出：`[1,2,3,4,5,6,7,8,9]`"
   ]
  },
  {
   "cell_type": "code",
   "execution_count": 1,
   "id": "4fbaa5ed-078a-4f79-91d8-a72ee739376b",
   "metadata": {},
   "outputs": [],
   "source": [
    "def printNumbers(n):\n",
    "    res = []\n",
    "    for i in range(1, 10 **n):\n",
    "        res.append(i)\n",
    "    return res"
   ]
  },
  {
   "cell_type": "code",
   "execution_count": 4,
   "id": "fdbb76ef-5ac9-43b0-99d9-99921993f5fa",
   "metadata": {},
   "outputs": [
    {
     "data": {
      "text/plain": [
       "[1, 2, 3, 4, 5, 6, 7, 8, 9]"
      ]
     },
     "execution_count": 4,
     "metadata": {},
     "output_type": "execute_result"
    }
   ],
   "source": [
    "printNumbers(1)"
   ]
  },
  {
   "cell_type": "markdown",
   "id": "b0cad235-ee12-4773-b2dc-52cc5a1a71dd",
   "metadata": {},
   "source": [
    "* 时间复杂度：$O(10^n)$\n",
    "* 空间复杂度：$O(1)$"
   ]
  }
 ],
 "metadata": {
  "kernelspec": {
   "display_name": "Python 3",
   "language": "python",
   "name": "python3"
  },
  "language_info": {
   "codemirror_mode": {
    "name": "ipython",
    "version": 3
   },
   "file_extension": ".py",
   "mimetype": "text/x-python",
   "name": "python",
   "nbconvert_exporter": "python",
   "pygments_lexer": "ipython3",
   "version": "3.9.1"
  }
 },
 "nbformat": 4,
 "nbformat_minor": 5
}
