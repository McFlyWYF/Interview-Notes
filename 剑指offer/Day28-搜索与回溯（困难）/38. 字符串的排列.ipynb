{
 "cells": [
  {
   "cell_type": "markdown",
   "metadata": {},
   "source": [
    "# 38. 字符串的排列"
   ]
  },
  {
   "cell_type": "markdown",
   "metadata": {},
   "source": [
    "* 输入一个字符串，打印出该字符串中字符的所有排列。你可以以任意顺序返回这个字符串数组，但里面不能有重复元素。"
   ]
  },
  {
   "cell_type": "markdown",
   "metadata": {},
   "source": [
    "* 例如：\n",
    "    * 输入：`s = \"abc\"`\n",
    "    * 输出：`[\"abc\",\"acb\",\"bac\",\"bca\",\"cab\",\"cba\"]`"
   ]
  },
  {
   "cell_type": "markdown",
   "metadata": {},
   "source": [
    "### 方法1：使用全排列"
   ]
  },
  {
   "cell_type": "code",
   "execution_count": 1,
   "metadata": {},
   "outputs": [],
   "source": [
    "class Solution(object):\n",
    "    def permutation(self, s):\n",
    "        \"\"\"\n",
    "        :type s: str\n",
    "        :rtype: List[str]\n",
    "        \"\"\"\n",
    "        res = []\n",
    "        path = []\n",
    "        def backtrack(s, used):\n",
    "            if len(path) == len(s):\n",
    "                res.append(''.join(path[:]))\n",
    "            for i in range(len(s)):\n",
    "                if i > 0 and s[i] == s[i - 1] and used[i - 1] == False:\n",
    "                    continue\n",
    "                if used[i] == True:\n",
    "                    continue\n",
    "                path.append(s[i])\n",
    "                used[i] = True\n",
    "                backtrack(s, used)\n",
    "                path.pop()\n",
    "                used[i] = False\n",
    "        used = [False for _ in range(len(s))]\n",
    "        l1=list(s)\n",
    "        l1.sort()   \n",
    "        s=\"\".join(l1)\n",
    "        backtrack(s, used)\n",
    "        # res = list(set(res))  # set去重\n",
    "        return res"
   ]
  },
  {
   "cell_type": "markdown",
   "metadata": {},
   "source": [
    "### 方法2：交换顺序"
   ]
  },
  {
   "cell_type": "markdown",
   "metadata": {},
   "source": [
    "* 先固定第一位，再固定第二位..."
   ]
  },
  {
   "cell_type": "markdown",
   "metadata": {},
   "source": [
    "* 终止条件： 当 x = len(c) - 1 时，代表所有位已固定（最后一位只有 1 种情况），则将当前组合 c 转化为字符串并加入 res ，并返回；\n",
    "* 递推参数： 当前固定位 x ；\n",
    "* 递推工作： 初始化一个 Set ，用于排除重复的字符；将第 x 位字符与 i ∈ [x, len(c)] 字符分别交换，并进入下层递归；\n",
    "    * 剪枝： 若 c[i] 在 Set 中，代表其是重复字符，因此 “剪枝” ；\n",
    "    * 将 c[i] 加入 Set ，以便之后遇到重复字符时剪枝；\n",
    "    * 固定字符： 将字符 c[i] 和 c[x] 交换，即固定 c[i] 为当前位字符；\n",
    "    * 开启下层递归： 调用 dfs(x + 1) ，即开始固定第 x + 1 个字符；\n",
    "    * 还原交换： 将字符 c[i] 和 c[x] 交换（还原之前的交换）；"
   ]
  },
  {
   "cell_type": "code",
   "execution_count": 4,
   "metadata": {},
   "outputs": [],
   "source": [
    "class Solution:\n",
    "    def permutation(self, s):\n",
    "        c, res = list(s), []\n",
    "        def dfs(x):\n",
    "            if x == len(c) - 1:\n",
    "                res.append(''.join(c))  # 添加排列方式\n",
    "                return\n",
    "            dic = set()\n",
    "            for i in range(x, len(c)):\n",
    "                if c[i] in dic:  # 重复，剪枝\n",
    "                    continue\n",
    "                dic.add(c[i])\n",
    "                c[i], c[x] = c[x], c[i]  # 交换，将c[i]固定在第x位\n",
    "                dfs(x + 1)\n",
    "                c[i], c[x] = c[x], c[i]  # 恢复交换\n",
    "        dfs(0)\n",
    "        return res"
   ]
  },
  {
   "cell_type": "markdown",
   "metadata": {},
   "source": [
    "* 时间复杂度：$O(N!N)$\n",
    "* 空间复杂度：$O(N^2)$"
   ]
  }
 ],
 "metadata": {
  "kernelspec": {
   "display_name": "Python 3",
   "language": "python",
   "name": "python3"
  },
  "language_info": {
   "codemirror_mode": {
    "name": "ipython",
    "version": 3
   },
   "file_extension": ".py",
   "mimetype": "text/x-python",
   "name": "python",
   "nbconvert_exporter": "python",
   "pygments_lexer": "ipython3",
   "version": "3.6.5"
  }
 },
 "nbformat": 4,
 "nbformat_minor": 2
}
