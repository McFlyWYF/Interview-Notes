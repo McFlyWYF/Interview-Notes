{
 "cells": [
  {
   "cell_type": "markdown",
   "metadata": {},
   "source": [
    "# 37. 序列化二叉树"
   ]
  },
  {
   "cell_type": "markdown",
   "metadata": {},
   "source": [
    "* 请实现两个函数，分别用来序列化和反序列化二叉树。\n",
    "* 你需要设计一个算法来实现二叉树的序列化与反序列化。这里不限定你的序列 / 反序列化算法执行逻辑，你只需要保证一个二叉树可以被序列化为一个字符串并且将这个字符串反序列化为原始的树结构。"
   ]
  },
  {
   "cell_type": "markdown",
   "metadata": {},
   "source": [
    "### 序列化（层序遍历）"
   ]
  },
  {
   "cell_type": "markdown",
   "metadata": {},
   "source": [
    "* 算法流程：\n",
    "* 特例处理： 若 root 为空，则直接返回空列表 \"[]\" ；\n",
    "* 初始化： 队列 queue （包含根节点 root ）；序列化列表 res ；\n",
    "* 层序遍历： 当 queue 为空时跳出；\n",
    "    * 节点出队，记为 node ；\n",
    "    * 若 node 不为空：① 打印字符串 node.val ，② 将左、右子节点加入 queue ；\n",
    "    * 否则（若 node 为空）：打印字符串 \"null\" ；\n",
    "* 返回值： 拼接列表，用 ',' 隔开，首尾添加中括号；"
   ]
  },
  {
   "cell_type": "code",
   "execution_count": 1,
   "metadata": {},
   "outputs": [],
   "source": [
    "def serialize(self, root):\n",
    "        \"\"\"Encodes a tree to a single string.\n",
    "        \n",
    "        :type root: TreeNode\n",
    "        :rtype: str\n",
    "        \"\"\"\n",
    "        if not root:\n",
    "            return '[]'\n",
    "        queue = collections.deque()\n",
    "        queue.append(root)\n",
    "        res = []\n",
    "        while queue:\n",
    "            node = queue.popleft()\n",
    "            if node:\n",
    "                res.append(str(node.val))\n",
    "                queue.append(node.left)\n",
    "                queue.append(node.right)\n",
    "            else:\n",
    "                res.append('null')\n",
    "        return '[' + ','.join(res) + ']'"
   ]
  },
  {
   "cell_type": "markdown",
   "metadata": {},
   "source": [
    "* 时间复杂度：$O(N)$\n",
    "* 空间复杂度：$O(N)$"
   ]
  },
  {
   "cell_type": "markdown",
   "metadata": {},
   "source": [
    "### 反序列化（根据序列化数组构建树）"
   ]
  },
  {
   "cell_type": "markdown",
   "metadata": {},
   "source": [
    "* 利用队列按层构建二叉树，借助一个指针 i 指向节点 node 的左、右子节点，每构建一个 node 的左、右子节点，指针 i 就向右移动 1 位。"
   ]
  },
  {
   "cell_type": "markdown",
   "metadata": {},
   "source": [
    "* 特例处理： 若 data 为空，直接返回 null ；\n",
    "* 初始化： 序列化列表 vals （先去掉首尾中括号，再用逗号隔开），指针 i = 1 ，根节点 root （值为 vals[0] ），队列 queue（包含 root ）；\n",
    "* 按层构建： 当 queue 为空时跳出；\n",
    "    * 节点出队，记为 node ；\n",
    "    * 构建 node 的左子节点：node.left 的值为 vals[i] ，并将 node.left 入队；\n",
    "    * 执行 i += 1 ；\n",
    "    * 构建 node 的右子节点：node.left 的值为 vals[i] ，并将 node.left 入队；\n",
    "    * 执行 i += 1 ；\n",
    "* 返回值： 返回根节点 root 即可；"
   ]
  },
  {
   "cell_type": "code",
   "execution_count": 2,
   "metadata": {},
   "outputs": [],
   "source": [
    "def deserialize(self, data):\n",
    "        \"\"\"Decodes your encoded data to tree.\n",
    "        \n",
    "        :type data: str\n",
    "        :rtype: TreeNode\n",
    "        \"\"\"\n",
    "        if data == '[]':\n",
    "            return\n",
    "        vals, i = data[1:-1].split(','), 1\n",
    "        root = TreeNode(int(vals[0]))\n",
    "        queue = collections.deque()\n",
    "        queue.append(root)\n",
    "        while queue:\n",
    "            node = queue.popleft()\n",
    "            if vals[i] != 'null':\n",
    "                node.left = TreeNode(int(vals[i]))\n",
    "                queue.append(node.left)\n",
    "            i += 1\n",
    "            if vals[i] != 'null':\n",
    "                node.right = TreeNode(int(vals[i]))\n",
    "                queue.append(node.right)\n",
    "            i += 1\n",
    "        return root"
   ]
  },
  {
   "cell_type": "markdown",
   "metadata": {},
   "source": [
    "* 时间复杂度：$O(N)$\n",
    "* 空间复杂度：$O(N)$"
   ]
  }
 ],
 "metadata": {
  "kernelspec": {
   "display_name": "Python 3",
   "language": "python",
   "name": "python3"
  },
  "language_info": {
   "codemirror_mode": {
    "name": "ipython",
    "version": 3
   },
   "file_extension": ".py",
   "mimetype": "text/x-python",
   "name": "python",
   "nbconvert_exporter": "python",
   "pygments_lexer": "ipython3",
   "version": "3.6.5"
  }
 },
 "nbformat": 4,
 "nbformat_minor": 2
}
