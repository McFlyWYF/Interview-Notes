{
 "cells": [
  {
   "cell_type": "markdown",
   "metadata": {},
   "source": [
    "# 29. 顺时针打印矩阵"
   ]
  },
  {
   "cell_type": "markdown",
   "metadata": {},
   "source": [
    "* 输入一个矩阵，按照从外向里以顺时针的顺序依次打印出每一个数字。"
   ]
  },
  {
   "cell_type": "markdown",
   "metadata": {},
   "source": [
    "* 例如：\n",
    "    * 输入：`matrix = [[1,2,3],[4,5,6],[7,8,9]]`\n",
    "    * 输出：`[1,2,3,6,9,8,7,4,5]`"
   ]
  },
  {
   "cell_type": "markdown",
   "metadata": {},
   "source": [
    "### 解题思路"
   ]
  },
  {
   "cell_type": "markdown",
   "metadata": {},
   "source": [
    "* 从左到右：\n",
    "    * 打印方向：左边界l，右边界r；\n",
    "    * 边界向内收缩：上边界 t 加 1；\n",
    "    * 是否打印完毕：是否t > b；\n",
    "    \n",
    "* 从上向下：\n",
    "    * 打印方向：上边界 t ，下边界b；\n",
    "    * 边界向内收缩：右边界 r 减 1；\n",
    "    * 是否打印完毕：是否l > r；\n",
    "    \n",
    "* 从右向左：\n",
    "    * 打印方向：右边界 r ，左边界l；\n",
    "    * 边界向内收缩：下边界 b 减 1；\n",
    "    * 是否打印完毕：是否t > b；\n",
    "    \n",
    "* 从下向上：\n",
    "    * 打印方向：下边界 b ，上边界t；\n",
    "    * 边界向内收缩：左边界 l 加 1；\n",
    "    * 是否打印完毕：是否l > r；"
   ]
  },
  {
   "cell_type": "code",
   "execution_count": 1,
   "metadata": {},
   "outputs": [],
   "source": [
    "class Solution(object):\n",
    "    def spiralOrder(self, matrix):\n",
    "        \"\"\"\n",
    "        :type matrix: List[List[int]]\n",
    "        :rtype: List[int]\n",
    "        \"\"\"\n",
    "        res = []\n",
    "        \n",
    "        if len(matrix) == 0:\n",
    "            return []\n",
    "\n",
    "        left = 0\n",
    "        right = len(matrix[0]) - 1\n",
    "        top = 0\n",
    "        bottom = len(matrix) - 1\n",
    "\n",
    "        while(1):\n",
    "            # 从左到右\n",
    "            for i in range(left ,right + 1):\n",
    "                res.append(matrix[top][i])\n",
    "            top += 1\n",
    "            if top > bottom:\n",
    "                break\n",
    "\n",
    "            # 从上到下\n",
    "            for i in range(top, bottom + 1):\n",
    "                res.append(matrix[i][right])\n",
    "            right -= 1\n",
    "            if left > right:\n",
    "                break\n",
    "\n",
    "            # 从右到左\n",
    "            for i in range(right, left - 1, -1):\n",
    "                res.append(matrix[bottom][i])\n",
    "            bottom -= 1\n",
    "            if top > bottom:\n",
    "                break\n",
    "\n",
    "            # 从下到上\n",
    "            for i in range(bottom, top - 1, -1):\n",
    "                res.append(matrix[i][left])\n",
    "            left += 1\n",
    "            if left > right:\n",
    "                break\n",
    "\n",
    "        return res"
   ]
  },
  {
   "cell_type": "markdown",
   "metadata": {},
   "source": [
    "* 时间复杂度：$O(MN)$\n",
    "* 空间复杂度：$O(1)$"
   ]
  }
 ],
 "metadata": {
  "kernelspec": {
   "display_name": "Python 3",
   "language": "python",
   "name": "python3"
  },
  "language_info": {
   "codemirror_mode": {
    "name": "ipython",
    "version": 3
   },
   "file_extension": ".py",
   "mimetype": "text/x-python",
   "name": "python",
   "nbconvert_exporter": "python",
   "pygments_lexer": "ipython3",
   "version": "3.6.5"
  }
 },
 "nbformat": 4,
 "nbformat_minor": 2
}
