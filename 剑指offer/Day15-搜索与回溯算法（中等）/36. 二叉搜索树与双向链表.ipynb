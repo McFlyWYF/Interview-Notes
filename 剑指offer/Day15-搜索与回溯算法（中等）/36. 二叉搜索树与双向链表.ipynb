{
 "cells": [
  {
   "cell_type": "markdown",
   "metadata": {},
   "source": [
    "# 36. 二叉搜索树与双向链表"
   ]
  },
  {
   "cell_type": "markdown",
   "metadata": {},
   "source": [
    "* 输入一棵二叉搜索树，将该二叉搜索树转换成一个排序的循环双向链表。要求不能创建任何新的节点，只能调整树中节点指针的指向。"
   ]
  },
  {
   "cell_type": "markdown",
   "metadata": {},
   "source": [
    "* 我们希望将这个二叉搜索树转化为双向循环链表。链表中的每个节点都有一个前驱和后继指针。对于双向循环链表，第一个节点的前驱是最后一个节点，最后一个节点的后继是第一个节点。"
   ]
  },
  {
   "cell_type": "markdown",
   "metadata": {},
   "source": [
    "#### 解题思路"
   ]
  },
  {
   "cell_type": "markdown",
   "metadata": {},
   "source": [
    "* `dfs(cur)`: 递归法中序遍历；\n",
    "    * 终止条件： 当节点 cur 为空，代表越过叶节点，直接返回；\n",
    "    * 递归左子树，即 `dfs(cur.left)` ；\n",
    "\n",
    "    * 构建链表：\n",
    "        * 当 pre 为空时： 代表正在访问链表头节点，记为 head ；\n",
    "        * 当 pre 不为空时： 修改双向节点引用，即 `pre.right = cur ， cur.left = pre` ；\n",
    "        * 保存 cur ： 更新 `pre = cur` ，即节点 cur 是后继节点的 pre ；\n",
    "        \n",
    "    * 递归右子树，即 `dfs(cur.right)` ；\n",
    "    \n",
    "\n",
    "* `treeToDoublyList(root)`：\n",
    "    * 特例处理： 若节点 root 为空，则直接返回；\n",
    "    * 初始化： 空节点 pre ；\n",
    "    * 转化为双向链表： 调用 dfs(root) ；\n",
    "    * 构建循环链表： 中序遍历完成后，head 指向头节点， pre 指向尾节点，因此修改 head 和 pre 的双向节点引用即可；\n",
    "    * 返回值： 返回链表的头节点 head 即可；"
   ]
  },
  {
   "cell_type": "code",
   "execution_count": 1,
   "metadata": {},
   "outputs": [],
   "source": [
    "\"\"\"\n",
    "# Definition for a Node.\n",
    "class Node(object):\n",
    "    def __init__(self, val, left=None, right=None):\n",
    "        self.val = val\n",
    "        self.left = left\n",
    "        self.right = right\n",
    "\"\"\"\n",
    "class Solution(object):\n",
    "    def treeToDoublyList(self, root):\n",
    "        \"\"\"\n",
    "        :type root: Node\n",
    "        :rtype: Node\n",
    "        \"\"\"\n",
    "\n",
    "        def dfs(cur):\n",
    "            if not cur:\n",
    "                return\n",
    "            dfs(cur.left)\n",
    "            if not self.pre:\n",
    "                self.head = cur\n",
    "            else:\n",
    "                self.pre.right = cur\n",
    "                cur.left = self.pre\n",
    "            self.pre = cur\n",
    "            dfs(cur.right)\n",
    "\n",
    "        if not root:\n",
    "            return\n",
    "\n",
    "        self.pre = None\n",
    "        dfs(root)\n",
    "        self.head.left = self.pre\n",
    "        self.pre.right = self.head\n",
    "\n",
    "        return self.head"
   ]
  },
  {
   "cell_type": "code",
   "execution_count": null,
   "metadata": {},
   "outputs": [],
   "source": []
  }
 ],
 "metadata": {
  "kernelspec": {
   "display_name": "Python 3",
   "language": "python",
   "name": "python3"
  },
  "language_info": {
   "codemirror_mode": {
    "name": "ipython",
    "version": 3
   },
   "file_extension": ".py",
   "mimetype": "text/x-python",
   "name": "python",
   "nbconvert_exporter": "python",
   "pygments_lexer": "ipython3",
   "version": "3.6.5"
  }
 },
 "nbformat": 4,
 "nbformat_minor": 2
}
