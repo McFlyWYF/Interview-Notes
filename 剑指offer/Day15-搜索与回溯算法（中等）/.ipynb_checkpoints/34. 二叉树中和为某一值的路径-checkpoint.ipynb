{
 "cells": [
  {
   "cell_type": "markdown",
   "metadata": {},
   "source": [
    "# 34. 二叉树中和为某一值的路径"
   ]
  },
  {
   "cell_type": "markdown",
   "metadata": {},
   "source": [
    "* 给你二叉树的根节点 root 和一个整数目标和 targetSum ，找出所有 从根节点到叶子节点 路径总和等于给定目标和的路径。叶子节点 是指没有子节点的节点。"
   ]
  },
  {
   "cell_type": "markdown",
   "metadata": {},
   "source": [
    "* 例如：\n",
    "    * 输入：`root = [5,4,8,11,null,13,4,7,2,null,null,5,1], targetSum = 22`\n",
    "    * 输出：`[[5,4,11,2],[5,8,4,5]]`"
   ]
  },
  {
   "cell_type": "markdown",
   "metadata": {},
   "source": [
    "#### 解题思路"
   ]
  },
  {
   "cell_type": "markdown",
   "metadata": {},
   "source": [
    "* pathSum(root, sum) 函数：\n",
    "    * 初始化： 结果列表 result ，路径列表 path \n",
    "    * 返回值： 返回 result 即可。\n",
    "\n",
    "* getpath(cur, path, result) 函数：\n",
    "    * 终止条件： 若节点 cur.left, cur.right 为空, sum(path) == target，则直接返回。\n",
    "\n",
    "    * 递推工作：\n",
    "        * 路径更新： 将当前节点值 cur.val 加入路径 path ；\n",
    "        * 路径记录：当 ① cur 为叶节点 且 ② 路径和等于目标值 ，则将此路径 path 加入 result 。\n",
    "        * 先序遍历： 递归左 / 右子节点。\n",
    "        * 路径恢复： 向上回溯前，需要将当前节点从路径 path 中删除，即执行 path.pop() 。"
   ]
  },
  {
   "cell_type": "code",
   "execution_count": 3,
   "metadata": {},
   "outputs": [],
   "source": [
    "# Definition for a binary tree node.\n",
    "# class TreeNode(object):\n",
    "#     def __init__(self, val=0, left=None, right=None):\n",
    "#         self.val = val\n",
    "#         self.left = left\n",
    "#         self.right = right\n",
    "\n",
    "class Solution(object):\n",
    "    def pathSum(self, root, target):\n",
    "        \"\"\"\n",
    "        :type root: TreeNode\n",
    "        :type target: int\n",
    "        :rtype: List[List[int]]\n",
    "        \"\"\"\n",
    "\n",
    "        path = []\n",
    "        result = []\n",
    "        if root == None:\n",
    "            return result\n",
    "\n",
    "        def getpath(cur, path, result):\n",
    "            path.append(cur.val)  # 保存当前节点的值\n",
    "\n",
    "            if cur.left:\n",
    "                getpath(cur.left, path, result)  # 遍历左子树\n",
    "                path.pop()  # 回溯\n",
    "            if cur.right:\n",
    "                getpath(cur.right, path, result)  # 遍历右子树\n",
    "                path.pop()  # 回溯\n",
    "\n",
    "            if not cur.left and not cur.right and target == sum(path[:]):  # 左右子树为空且当前路径总和等于target，加入result中\n",
    "                result.append(path[:])\n",
    "        \n",
    "        getpath(root, path, result)\n",
    "        return result"
   ]
  },
  {
   "cell_type": "markdown",
   "metadata": {},
   "source": [
    "* 时间复杂度：$O(N)$\n",
    "* 空间复杂度：$O(N)$"
   ]
  }
 ],
 "metadata": {
  "kernelspec": {
   "display_name": "Python 3",
   "language": "python",
   "name": "python3"
  },
  "language_info": {
   "codemirror_mode": {
    "name": "ipython",
    "version": 3
   },
   "file_extension": ".py",
   "mimetype": "text/x-python",
   "name": "python",
   "nbconvert_exporter": "python",
   "pygments_lexer": "ipython3",
   "version": "3.6.5"
  }
 },
 "nbformat": 4,
 "nbformat_minor": 2
}
