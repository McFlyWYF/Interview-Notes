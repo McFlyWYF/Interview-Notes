{
 "cells": [
  {
   "cell_type": "markdown",
   "id": "4e841177-22c2-44de-8798-51fa7ee3d4dc",
   "metadata": {},
   "source": [
    "# 11. 旋转数组的最小数字"
   ]
  },
  {
   "cell_type": "markdown",
   "id": "72840840-3473-4195-9e60-917af8c632dc",
   "metadata": {},
   "source": [
    "* 把一个数组最开始的若干个元素搬到数组的末尾，我们称之为数组的旋转。"
   ]
  },
  {
   "cell_type": "markdown",
   "id": "11c2bd99-67b4-430d-ad05-678d8effcb31",
   "metadata": {},
   "source": [
    "* 给你一个可能存在 重复 元素值的数组 numbers ，它原来是一个升序排列的数组，并按上述情形进行了一次旋转。请返回旋转数组的最小元素。例如，数组 [3,4,5,1,2] 为 [1,2,3,4,5] 的一次旋转，该数组的最小值为1。"
   ]
  },
  {
   "cell_type": "markdown",
   "id": "c1496da0-89c0-4cc1-8e55-35d60b7afdd0",
   "metadata": {},
   "source": [
    "* 输入：[3,4,5,1,2]\n",
    "* 输出：1"
   ]
  },
  {
   "cell_type": "markdown",
   "id": "41102928-e9e0-42a4-9a76-791144bbafcb",
   "metadata": {},
   "source": [
    "* 使用二分法进行查找。如果右区间最后一个数比中位数大，则说明右区间是有序的，right = mid；否则，left = mid + 1。"
   ]
  },
  {
   "cell_type": "code",
   "execution_count": 3,
   "id": "18d02885-ff47-48a2-99e4-3e6c29426f8c",
   "metadata": {},
   "outputs": [],
   "source": [
    "class Solution(object):\n",
    "    def minArray(self, numbers):\n",
    "        \"\"\"\n",
    "        :type numbers: List[int]\n",
    "        :rtype: int\n",
    "        \"\"\"\n",
    "\n",
    "        left = 0\n",
    "        right = len(numbers) - 1\n",
    "\n",
    "        while left <= right:\n",
    "            mid = (left + right) / 2\n",
    "            if numbers[mid] < numbers[right]:  # 后区间有序\n",
    "                right = mid\n",
    "            elif numbers[mid] > numbers[right]:\n",
    "                left = mid + 1\n",
    "            else:\n",
    "                right -= 1\n",
    "        return numbers[left]"
   ]
  }
 ],
 "metadata": {
  "kernelspec": {
   "display_name": "Python 3",
   "language": "python",
   "name": "python3"
  },
  "language_info": {
   "codemirror_mode": {
    "name": "ipython",
    "version": 3
   },
   "file_extension": ".py",
   "mimetype": "text/x-python",
   "name": "python",
   "nbconvert_exporter": "python",
   "pygments_lexer": "ipython3",
   "version": "3.9.1"
  }
 },
 "nbformat": 4,
 "nbformat_minor": 5
}
