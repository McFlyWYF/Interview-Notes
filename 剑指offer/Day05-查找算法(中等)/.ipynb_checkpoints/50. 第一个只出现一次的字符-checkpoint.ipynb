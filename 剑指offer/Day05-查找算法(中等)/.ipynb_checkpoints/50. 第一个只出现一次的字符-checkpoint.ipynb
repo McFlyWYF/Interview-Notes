{
 "cells": [
  {
   "cell_type": "markdown",
   "id": "36ce97b8-242c-405d-86cf-c589f220d792",
   "metadata": {},
   "source": [
    "# 50. 第一个只出现一次的字符"
   ]
  },
  {
   "cell_type": "markdown",
   "id": "2e43da72-dc01-452a-90e6-f0e8e16d1971",
   "metadata": {},
   "source": [
    "* 在字符串 s 中找出第一个只出现一次的字符。如果没有，返回一个单空格。 s 只包含小写字母。"
   ]
  },
  {
   "cell_type": "markdown",
   "id": "d82de497-9233-40e9-9c2a-2151adba897f",
   "metadata": {},
   "source": [
    "* 输入：s = \"abaccdeff\"\n",
    "* 输出：'b'"
   ]
  },
  {
   "cell_type": "markdown",
   "id": "cdc87a86-676f-4e28-bc7f-0ca7a74a2f0c",
   "metadata": {},
   "source": [
    "* 通过哈希表统计每个字符出现的次数，然后再遍历每个字符，返回第一个次数为1的字符。"
   ]
  },
  {
   "cell_type": "code",
   "execution_count": 1,
   "id": "21663033-fbf6-4563-bdbe-66310d07de03",
   "metadata": {},
   "outputs": [],
   "source": [
    "class Solution(object):\n",
    "    def firstUniqChar(self, s):\n",
    "        \"\"\"\n",
    "        :type s: str\n",
    "        :rtype: str\n",
    "        \"\"\"\n",
    "        if s == \"\":\n",
    "            return \" \"\n",
    "        d = {}\n",
    "        for s1 in s:\n",
    "            d[s1] = 1 + d.get(s1, 0)\n",
    "\n",
    "        flag = False\n",
    "        for s2 in s:\n",
    "            if d[s2] == 1:\n",
    "                flag = True\n",
    "                return s2\n",
    "        if flag == False:\n",
    "            return \" \""
   ]
  }
 ],
 "metadata": {
  "kernelspec": {
   "display_name": "Python 3",
   "language": "python",
   "name": "python3"
  },
  "language_info": {
   "codemirror_mode": {
    "name": "ipython",
    "version": 3
   },
   "file_extension": ".py",
   "mimetype": "text/x-python",
   "name": "python",
   "nbconvert_exporter": "python",
   "pygments_lexer": "ipython3",
   "version": "3.9.1"
  }
 },
 "nbformat": 4,
 "nbformat_minor": 5
}
