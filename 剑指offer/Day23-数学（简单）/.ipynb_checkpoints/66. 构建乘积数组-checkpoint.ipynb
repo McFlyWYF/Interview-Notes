{
 "cells": [
  {
   "cell_type": "markdown",
   "id": "dfa7d860-951d-43e6-80a8-d06e43e98969",
   "metadata": {},
   "source": [
    "# 66. 构建乘积数组"
   ]
  },
  {
   "cell_type": "markdown",
   "id": "22d76adb-26f8-4e6e-9733-50bae93f9118",
   "metadata": {},
   "source": [
    "* 给定一个数组 `A[0,1,…,n-1]`，请构建一个数组 `B[0,1,…,n-1]`，其中 B[i] 的值是数组 A 中除了下标 i 以外的元素的积, 即 `B[i]=A[0]×A[1]×…×A[i-1]×A[i+1]×…×A[n-1]`。不能使用除法。"
   ]
  },
  {
   "cell_type": "markdown",
   "id": "3ebf40f6-274f-459d-8b41-a0987f11b24e",
   "metadata": {},
   "source": [
    "### 解题思路"
   ]
  },
  {
   "cell_type": "markdown",
   "id": "a1a03e5e-a3c5-41d8-afdd-c64ba4ee2652",
   "metadata": {},
   "source": [
    "* 初始化：数组 B ，其中B[0] = 1；辅助变量tmp=1 ；\n",
    "* 计算 B[i] 的 下三角各元素的乘积，直接乘入B[i] ；\n",
    "* 计算 B[i] 的 上三角各元素的乘积，记为tmp ，并乘入B[i] ；\n",
    "* 返回 B 。"
   ]
  },
  {
   "cell_type": "code",
   "execution_count": 13,
   "id": "1b8c668f-fcf7-42d9-bfd0-43fb7cb008cd",
   "metadata": {},
   "outputs": [],
   "source": [
    "class Solution(object):\n",
    "    def constructArr(self, a):\n",
    "        \"\"\"\n",
    "        :type a: List[int]\n",
    "        :rtype: List[int]\n",
    "        \"\"\"\n",
    "        b = [1] * len(a)\n",
    "        tmp = 1\n",
    "\n",
    "        for i in range(1, len(a)):\n",
    "            b[i] = b[i - 1] * a[i - 1]  # 上三角\n",
    "\n",
    "        for j in range(len(a) - 2, -1, -1):\n",
    "            tmp *= a[j + 1]  # 下三角\n",
    "            b[j] *= tmp  # 上*下三角\n",
    "        return b"
   ]
  },
  {
   "cell_type": "code",
   "execution_count": 14,
   "id": "0790a6bd-4676-445a-af66-496ec3795002",
   "metadata": {},
   "outputs": [
    {
     "data": {
      "text/plain": [
       "[120, 60, 40, 30, 24]"
      ]
     },
     "execution_count": 14,
     "metadata": {},
     "output_type": "execute_result"
    }
   ],
   "source": [
    "a = [1, 2, 3, 4, 5]\n",
    "f(a)"
   ]
  },
  {
   "cell_type": "markdown",
   "id": "4b280206-7c09-4b86-86dc-f6954268e4cc",
   "metadata": {},
   "source": [
    "* 时间复杂度：$O(N)$\n",
    "* 空间复杂度：$O(1)$"
   ]
  }
 ],
 "metadata": {
  "kernelspec": {
   "display_name": "Python 3",
   "language": "python",
   "name": "python3"
  },
  "language_info": {
   "codemirror_mode": {
    "name": "ipython",
    "version": 3
   },
   "file_extension": ".py",
   "mimetype": "text/x-python",
   "name": "python",
   "nbconvert_exporter": "python",
   "pygments_lexer": "ipython3",
   "version": "3.9.1"
  }
 },
 "nbformat": 4,
 "nbformat_minor": 5
}
