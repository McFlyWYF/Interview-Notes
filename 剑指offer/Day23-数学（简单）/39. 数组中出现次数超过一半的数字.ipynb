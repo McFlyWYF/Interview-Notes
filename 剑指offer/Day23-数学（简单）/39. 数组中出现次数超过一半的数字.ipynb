{
 "cells": [
  {
   "cell_type": "markdown",
   "id": "7f73f202-81cd-4de0-b79a-2a7e0c3b1844",
   "metadata": {},
   "source": [
    "# 39. 数组中出现次数超过一半的数字"
   ]
  },
  {
   "cell_type": "markdown",
   "id": "68318fcb-b57d-4b26-aee8-402e611bace9",
   "metadata": {},
   "source": [
    "* 数组中有一个数字出现的次数超过数组长度的一半，请找出这个数字。你可以假设数组是非空的，并且给定的数组总是存在多数元素。"
   ]
  },
  {
   "cell_type": "markdown",
   "id": "7bcf05be-d7a5-4fea-a402-a0381c0052e8",
   "metadata": {},
   "source": [
    "### 方法1:哈希表计数器"
   ]
  },
  {
   "cell_type": "code",
   "execution_count": 2,
   "id": "aa49119c-835b-46e8-96a5-976c7d3340b8",
   "metadata": {},
   "outputs": [],
   "source": [
    "class Solution(object):\n",
    "    def majorityElement(self, nums):\n",
    "        \"\"\"\n",
    "        :type nums: List[int]\n",
    "        :rtype: int\n",
    "        \"\"\"\n",
    "        d = {}\n",
    "        for n in nums:\n",
    "            d[n] = d.get(n, 0) + 1\n",
    "        for (key, value) in d.items():\n",
    "            if value > len(nums) // 2:\n",
    "                return key"
   ]
  },
  {
   "cell_type": "markdown",
   "id": "e5a74ef8-7ae1-43bc-914f-6c0c8650fb58",
   "metadata": {},
   "source": [
    "* 时间复杂度：$O(N)$\n",
    "* 空间复杂度：$O(N)$"
   ]
  },
  {
   "cell_type": "markdown",
   "id": "f8cd3118-2360-4856-88de-c56d5841e619",
   "metadata": {},
   "source": [
    "### 方法2:投票法"
   ]
  },
  {
   "cell_type": "markdown",
   "id": "bd37e51b-eef1-4876-9e06-aeb44eff4380",
   "metadata": {},
   "source": [
    "* 若记众数的票数为+1，非众数的票数为-1，则一定有所有数字的票数和>0。\n",
    "* 若数组的前a个数字的票数和=0，则数组剩余(n-a)个数字的票数和一定仍>0，即后(n-a)个数字的众数仍为x。"
   ]
  },
  {
   "cell_type": "code",
   "execution_count": 3,
   "id": "65ecd1b0-a4db-41aa-a8a2-45cf0b600842",
   "metadata": {},
   "outputs": [],
   "source": [
    "class Solution(object):\n",
    "    def majorityElement(self, nums):\n",
    "        \"\"\"\n",
    "        :type nums: List[int]\n",
    "        :rtype: int\n",
    "        \"\"\"\n",
    "        vote = 0  #初始化投票为0\n",
    "        for num in nums:\n",
    "            if vote == 0:  # 如果投票数=0，当前数为众数\n",
    "                x = num\n",
    "            if num == x:  # 如果当前数等于众数，加1\n",
    "                vote += 1\n",
    "            else:\n",
    "                vote -= 1  # 否则减1\n",
    "        return x"
   ]
  },
  {
   "cell_type": "markdown",
   "id": "f5915574-7872-4328-ae9d-759237e4bc0a",
   "metadata": {},
   "source": [
    "* 时间复杂度：$O(N)$\n",
    "* 空间复杂度：$O(1)$"
   ]
  }
 ],
 "metadata": {
  "kernelspec": {
   "display_name": "Python 3",
   "language": "python",
   "name": "python3"
  },
  "language_info": {
   "codemirror_mode": {
    "name": "ipython",
    "version": 3
   },
   "file_extension": ".py",
   "mimetype": "text/x-python",
   "name": "python",
   "nbconvert_exporter": "python",
   "pygments_lexer": "ipython3",
   "version": "3.9.1"
  }
 },
 "nbformat": 4,
 "nbformat_minor": 5
}
