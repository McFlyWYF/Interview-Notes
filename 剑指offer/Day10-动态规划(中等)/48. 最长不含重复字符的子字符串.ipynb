{
 "cells": [
  {
   "cell_type": "markdown",
   "metadata": {},
   "source": [
    "# 48. 最长不含重复字符的子字符串"
   ]
  },
  {
   "cell_type": "markdown",
   "metadata": {},
   "source": [
    "* 请从字符串中找出一个最长的不包含重复字符的子字符串，计算该最长子字符串的长度。"
   ]
  },
  {
   "cell_type": "markdown",
   "metadata": {},
   "source": [
    "* 例如：\n",
    "    * 输入: \"abcabcbb\"\n",
    "    * 输出: 3 \n",
    "    * 解释: 因为无重复字符的最长子串是 \"abc\"，所以其长度为3。"
   ]
  },
  {
   "cell_type": "markdown",
   "metadata": {},
   "source": [
    "#### 解题思路"
   ]
  },
  {
   "cell_type": "markdown",
   "metadata": {},
   "source": [
    "##### 动态规划"
   ]
  },
  {
   "cell_type": "markdown",
   "metadata": {},
   "source": [
    "* `dp[j] < j - i`：说明字符`s[i]`在字符串`dp[j-1]`区间之外，`dp[j] = dp[j - 1] + 1`\n",
    "* `dp[j] >= j - i`：说明字符`s[i]`在字符串`dp[j-1]`区间之中，左边界由s[i]决定，`dp[j] = j - i`"
   ]
  },
  {
   "cell_type": "code",
   "execution_count": 3,
   "metadata": {},
   "outputs": [],
   "source": [
    "class Solution(object):\n",
    "    def lengthOfLongestSubstring(self, s):\n",
    "        \"\"\"\n",
    "        :type s: str\n",
    "        :rtype: int\n",
    "        \"\"\"\n",
    "    \n",
    "        tmp = i = res = 0\n",
    "        for j in range(len(s)):\n",
    "            i = j - 1\n",
    "            while i >=0 and s[i] != s[j]:\n",
    "                i -= 1\n",
    "            if tmp < j - i:\n",
    "                tmp = tmp + 1\n",
    "            else:\n",
    "                tmp = j - i\n",
    "            res = max(res, tmp)\n",
    "        return res"
   ]
  },
  {
   "cell_type": "markdown",
   "metadata": {},
   "source": [
    "* 时间复杂度：$O(n^2)$\n",
    "* 空间复杂度：$O(1)$"
   ]
  },
  {
   "cell_type": "markdown",
   "metadata": {},
   "source": [
    "##### 滑动窗口+哈希表"
   ]
  },
  {
   "cell_type": "markdown",
   "metadata": {},
   "source": [
    "* 创建一个哈希表，存储字符最后一次出现的索引位置。\n",
    "* 如果当前字符没有出现在之前序列中，则长度+1。\n",
    "* 否则，左边指针右移，继续寻找。"
   ]
  },
  {
   "cell_type": "code",
   "execution_count": 4,
   "metadata": {},
   "outputs": [],
   "source": [
    "class Solution(object):\n",
    "    def lengthOfLongestSubstring(self, s):\n",
    "        \"\"\"\n",
    "        :type s: str\n",
    "        :rtype: int\n",
    "        \"\"\"\n",
    "        d = {}\n",
    "        tmp = res = 0\n",
    "        for i in range(len(s)):\n",
    "            j = d.get(s[i], -1)\n",
    "            d[s[i]] = i\n",
    "            if tmp < i - j:\n",
    "                tmp = tmp + 1\n",
    "            else:\n",
    "                tmp = i - j   \n",
    "            res = max(tmp, res)\n",
    "        return res"
   ]
  },
  {
   "cell_type": "markdown",
   "metadata": {},
   "source": [
    "* 时间复杂度：$O(n)$\n",
    "* 空间复杂度：$O(1)$"
   ]
  }
 ],
 "metadata": {
  "kernelspec": {
   "display_name": "Python 3",
   "language": "python",
   "name": "python3"
  },
  "language_info": {
   "codemirror_mode": {
    "name": "ipython",
    "version": 3
   },
   "file_extension": ".py",
   "mimetype": "text/x-python",
   "name": "python",
   "nbconvert_exporter": "python",
   "pygments_lexer": "ipython3",
   "version": "3.6.5"
  }
 },
 "nbformat": 4,
 "nbformat_minor": 2
}
