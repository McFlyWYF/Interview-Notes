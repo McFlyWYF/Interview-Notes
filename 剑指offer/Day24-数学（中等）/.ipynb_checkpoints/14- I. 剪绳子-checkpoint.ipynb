{
 "cells": [
  {
   "cell_type": "markdown",
   "id": "faf99c92-9186-4270-8896-5f51fbf21939",
   "metadata": {},
   "source": [
    "# 14- I. 剪绳子"
   ]
  },
  {
   "cell_type": "markdown",
   "id": "045d9933-d12d-4cfa-afc7-6c87ecfa6cca",
   "metadata": {},
   "source": [
    "* 给你一根长度为 n 的绳子，请把绳子剪成整数长度的 m 段（m、n都是整数，n>1并且m>1），每段绳子的长度记为 `k[0],k[1]...k[m-1]` 。请问` k[0]*k[1]*...*k[m-1]` 可能的最大乘积是多少？例如，当绳子的长度是8时，我们把它剪成长度分别为2、3、3的三段，此时得到的最大乘积是18。"
   ]
  },
  {
   "cell_type": "markdown",
   "id": "36920827-6145-4346-8771-67c3d516ded6",
   "metadata": {},
   "source": [
    "* 例如：\n",
    "    * 输入：10\n",
    "    * 输出：36\n",
    "    * 解释：10 = 3 + 3 + 4，3 x 3 x 4 = 36"
   ]
  },
  {
   "cell_type": "code",
   "execution_count": 9,
   "id": "e341619a-e376-43a2-8181-db9ecdd2da20",
   "metadata": {},
   "outputs": [],
   "source": [
    "class Solution(object):\n",
    "    def cuttingRope(self, n):\n",
    "        \"\"\"\n",
    "        :type n: int\n",
    "        :rtype: int\n",
    "        \"\"\"\n",
    "        if n <= 3:\n",
    "            return n - 1\n",
    "        b = n % 3\n",
    "        if b == 0:\n",
    "            return pow(3, n // 3)\n",
    "        elif b == 1:\n",
    "            return pow(3, n // 3 - 1) * 4\n",
    "        elif b == 2:\n",
    "            return pow(3, n // 3) * 2"
   ]
  },
  {
   "cell_type": "markdown",
   "id": "695bc10f-228d-417b-9d69-f06ad2ef2957",
   "metadata": {},
   "source": [
    "* 时间复杂度：$O(1)$\n",
    "* 空间复杂度：$O(1)$"
   ]
  }
 ],
 "metadata": {
  "kernelspec": {
   "display_name": "Python 3",
   "language": "python",
   "name": "python3"
  },
  "language_info": {
   "codemirror_mode": {
    "name": "ipython",
    "version": 3
   },
   "file_extension": ".py",
   "mimetype": "text/x-python",
   "name": "python",
   "nbconvert_exporter": "python",
   "pygments_lexer": "ipython3",
   "version": "3.9.1"
  }
 },
 "nbformat": 4,
 "nbformat_minor": 5
}
