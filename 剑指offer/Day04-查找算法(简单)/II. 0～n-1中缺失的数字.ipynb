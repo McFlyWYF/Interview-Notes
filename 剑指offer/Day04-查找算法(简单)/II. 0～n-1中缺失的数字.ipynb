{
 "cells": [
  {
   "cell_type": "markdown",
   "id": "58fb6464-fb86-47c5-a516-e30ef74b9d80",
   "metadata": {},
   "source": [
    "# 53 - II. 0～n-1中缺失的数字"
   ]
  },
  {
   "cell_type": "markdown",
   "id": "610fc624-6ede-4d9a-9de2-d356ea540329",
   "metadata": {},
   "source": [
    "* 一个长度为n-1的递增排序数组中的所有数字都是唯一的，并且每个数字都在范围0～n-1之内。在范围0～n-1内的n个数字中有且只有一个数字不在该数组中，请找出这个数字。"
   ]
  },
  {
   "cell_type": "markdown",
   "id": "b8fff9e3-d0b4-41de-9db2-383e0c758cd2",
   "metadata": {},
   "source": [
    "* 输入: [0,1,3]\n",
    "* 输出: 2"
   ]
  },
  {
   "cell_type": "markdown",
   "id": "40c17215-cfda-45db-a215-0cb641adfed7",
   "metadata": {},
   "source": [
    "#### 暴力解法"
   ]
  },
  {
   "cell_type": "code",
   "execution_count": 2,
   "id": "f63c6d4b-ff9d-4645-b6a0-039934af0f5b",
   "metadata": {},
   "outputs": [],
   "source": [
    "class Solution(object):\n",
    "    def missingNumber(self, nums):\n",
    "        for i in range(len(nums)):\n",
    "            if nums[i] != i:\n",
    "                return i\n",
    "        return len(nums)"
   ]
  },
  {
   "cell_type": "markdown",
   "id": "cabb2df0-e239-4491-b150-fc678bab185d",
   "metadata": {},
   "source": [
    "#### 二分法"
   ]
  },
  {
   "cell_type": "code",
   "execution_count": null,
   "id": "59d2bf07-c24e-4de4-b277-85e355909475",
   "metadata": {},
   "outputs": [],
   "source": [
    "class Solution(object):\n",
    "    def missingNumber(self, nums):\n",
    "        # 二分查找\n",
    "        left = 0\n",
    "        right = len(nums) - 1\n",
    "        while left <= right:\n",
    "            mid = (left + right) / 2\n",
    "            if nums[mid] == mid: # 如果相等，说明缺失的在后半区间\n",
    "                left = mid + 1\n",
    "            else:  # 如果不相等，缺失的在前半区间\n",
    "                right = mid - 1\n",
    "\n",
    "        return left"
   ]
  }
 ],
 "metadata": {
  "kernelspec": {
   "display_name": "Python 3",
   "language": "python",
   "name": "python3"
  },
  "language_info": {
   "codemirror_mode": {
    "name": "ipython",
    "version": 3
   },
   "file_extension": ".py",
   "mimetype": "text/x-python",
   "name": "python",
   "nbconvert_exporter": "python",
   "pygments_lexer": "ipython3",
   "version": "3.9.1"
  }
 },
 "nbformat": 4,
 "nbformat_minor": 5
}
