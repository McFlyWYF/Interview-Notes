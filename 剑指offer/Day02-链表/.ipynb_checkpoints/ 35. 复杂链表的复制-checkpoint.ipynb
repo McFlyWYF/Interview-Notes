{
 "cells": [
  {
   "cell_type": "markdown",
   "id": "ca147395-13d0-4ed2-b95c-7367dfa6191a",
   "metadata": {},
   "source": [
    "# 35. 复杂链表的复制"
   ]
  },
  {
   "cell_type": "markdown",
   "id": "cc4f8b40-bfae-4ddf-9970-2a4fde2a331c",
   "metadata": {},
   "source": [
    "* 请实现 copyRandomList 函数，复制一个复杂链表。在复杂链表中，每个节点除了有一个 next 指针指向下一个节点，还有一个 random 指针指向链表中的任意节点或者 null。"
   ]
  },
  {
   "cell_type": "markdown",
   "id": "cfdd205f-731c-4bbd-bbd8-df97da07d06d",
   "metadata": {},
   "source": [
    "* 输入：head = [[7,null],[13,0],[11,4],[10,2],[1,0]]\n",
    "* 输出：[[7,null],[13,0],[11,4],[10,2],[1,0]]"
   ]
  },
  {
   "cell_type": "code",
   "execution_count": 2,
   "id": "9a609cff-c715-4631-a3e0-29447198a00b",
   "metadata": {},
   "outputs": [],
   "source": [
    "\"\"\"\n",
    "# Definition for a Node.\n",
    "class Node:\n",
    "    def __init__(self, x, next=None, random=None):\n",
    "        self.val = int(x)\n",
    "        self.next = next\n",
    "        self.random = random\n",
    "\"\"\"\n",
    "class Solution(object):\n",
    "    def copyRandomList(self, head):\n",
    "        if not head:\n",
    "            return None\n",
    "        dic = {}\n",
    "        # 3. 复制各节点，并建立 “原节点 -> 新节点” 的 Map 映射\n",
    "        cur = head\n",
    "        while cur:\n",
    "            dic[cur] = Node(cur.val)\n",
    "            cur = cur.next\n",
    "        cur = head\n",
    "        # 4. 构建新节点的 next 和 random 指向\n",
    "        while cur:\n",
    "            dic[cur].next = dic.get(cur.next)\n",
    "            dic[cur].random = dic.get(cur.random)\n",
    "            cur = cur.next\n",
    "        # 5. 返回新链表的头节点\n",
    "        return dic[head]"
   ]
  }
 ],
 "metadata": {
  "kernelspec": {
   "display_name": "Python 3",
   "language": "python",
   "name": "python3"
  },
  "language_info": {
   "codemirror_mode": {
    "name": "ipython",
    "version": 3
   },
   "file_extension": ".py",
   "mimetype": "text/x-python",
   "name": "python",
   "nbconvert_exporter": "python",
   "pygments_lexer": "ipython3",
   "version": "3.9.1"
  }
 },
 "nbformat": 4,
 "nbformat_minor": 5
}
