{
 "cells": [
  {
   "cell_type": "markdown",
   "id": "fa17e200-0044-4831-9b94-e35269b5afc2",
   "metadata": {},
   "source": [
    "# 06. 从尾到头打印链表"
   ]
  },
  {
   "cell_type": "markdown",
   "id": "1c872e1a-86d7-41a8-ad12-51a72aec0061",
   "metadata": {},
   "source": [
    "* 输入一个链表的头节点，从尾到头反过来返回每个节点的值（用数组返回）。"
   ]
  },
  {
   "cell_type": "markdown",
   "id": "3a33e5ca-4e9c-43df-8940-fe88a9c63c33",
   "metadata": {},
   "source": [
    "* 输入：head = [1,3,2]\n",
    "* 输出：[2,3,1]"
   ]
  },
  {
   "cell_type": "code",
   "execution_count": 1,
   "id": "b8f7c335-5b00-4b44-beef-085f2874d188",
   "metadata": {},
   "outputs": [],
   "source": [
    "# Definition for singly-linked list.\n",
    "# class ListNode(object):\n",
    "#     def __init__(self, x):\n",
    "#         self.val = x\n",
    "#         self.next = None\n",
    "\n",
    "class Solution(object):\n",
    "    def reversePrint(self, head):\n",
    "        \"\"\"\n",
    "        :type head: ListNode\n",
    "        :rtype: List[int]\n",
    "        \"\"\"\n",
    "        p = head\n",
    "        result = []\n",
    "        while(p):\n",
    "            result.append(p.val)\n",
    "            p = p.next\n",
    "        return result[::-1]"
   ]
  }
 ],
 "metadata": {
  "kernelspec": {
   "display_name": "Python 3",
   "language": "python",
   "name": "python3"
  },
  "language_info": {
   "codemirror_mode": {
    "name": "ipython",
    "version": 3
   },
   "file_extension": ".py",
   "mimetype": "text/x-python",
   "name": "python",
   "nbconvert_exporter": "python",
   "pygments_lexer": "ipython3",
   "version": "3.9.1"
  }
 },
 "nbformat": 4,
 "nbformat_minor": 5
}
