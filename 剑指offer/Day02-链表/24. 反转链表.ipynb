{
 "cells": [
  {
   "cell_type": "markdown",
   "id": "b8910a9d-8fe4-41ec-95b8-4018f9abd9a0",
   "metadata": {},
   "source": [
    "# 24. 反转链表"
   ]
  },
  {
   "cell_type": "markdown",
   "id": "9913414d-b85d-438f-9b85-fe038e947395",
   "metadata": {},
   "source": [
    "* 定义一个函数，输入一个链表的头节点，反转该链表并输出反转后链表的头节点。"
   ]
  },
  {
   "cell_type": "markdown",
   "id": "357c4671-d428-4218-8198-dbc2ddbcffbd",
   "metadata": {},
   "source": [
    "* 输入: 1->2->3->4->5->NULL\n",
    "* 输出: 5->4->3->2->1->NULL"
   ]
  },
  {
   "cell_type": "code",
   "execution_count": 2,
   "id": "26e0c848-01d9-4642-ae4b-1e30eeb05b17",
   "metadata": {},
   "outputs": [],
   "source": [
    "# Definition for singly-linked list.\n",
    "# class ListNode(object):\n",
    "#     def __init__(self, x):\n",
    "#         self.val = x\n",
    "#         self.next = None\n",
    "\n",
    "class Solution(object):\n",
    "    def reverseList(self, head):\n",
    "        \"\"\"\n",
    "        :type head: ListNode\n",
    "        :rtype: ListNode\n",
    "        \"\"\"\n",
    "        pre = None\n",
    "        cur = head\n",
    "        nextt = None\n",
    "\n",
    "        while(cur):\n",
    "            next = cur.next\n",
    "            cur.next = pre\n",
    "            pre = cur\n",
    "            cur = next\n",
    "        \n",
    "        return pre"
   ]
  }
 ],
 "metadata": {
  "kernelspec": {
   "display_name": "Python 3",
   "language": "python",
   "name": "python3"
  },
  "language_info": {
   "codemirror_mode": {
    "name": "ipython",
    "version": 3
   },
   "file_extension": ".py",
   "mimetype": "text/x-python",
   "name": "python",
   "nbconvert_exporter": "python",
   "pygments_lexer": "ipython3",
   "version": "3.9.1"
  }
 },
 "nbformat": 4,
 "nbformat_minor": 5
}
