{
 "cells": [
  {
   "cell_type": "markdown",
   "metadata": {},
   "source": [
    "# 40. 最小的 k 个数"
   ]
  },
  {
   "cell_type": "markdown",
   "metadata": {},
   "source": [
    "* 输入整数数组 arr ，找出其中最小的 k 个数。例如，输入`4、5、1、6、2、7、3、8`这8个数字，则最小的4个数字是`1、2、3、4`。"
   ]
  },
  {
   "cell_type": "markdown",
   "metadata": {},
   "source": [
    "* 例如：\n",
    "    * 输入：`arr = [3,2,1], k = 2`\n",
    "    * 输出：`[1,2] 或者 [2,1]`"
   ]
  },
  {
   "cell_type": "markdown",
   "metadata": {},
   "source": [
    "#### 解题思路"
   ]
  },
  {
   "cell_type": "markdown",
   "metadata": {},
   "source": [
    "##### 方法一：采用任意排序算法排序，返回前k个数"
   ]
  },
  {
   "cell_type": "code",
   "execution_count": 3,
   "metadata": {},
   "outputs": [],
   "source": [
    "def min_k(arr, k):\n",
    "    def quick_sort(arr, l, r):\n",
    "        if l >= r:\n",
    "            return\n",
    "        # 哨兵划分操作，以arr[l]作为基准\n",
    "        i, j = l, r\n",
    "        while i < j:\n",
    "            while i < j and arr[j] >= arr[l]:\n",
    "                j -= 1\n",
    "            while i < j and arr[i] <= arr[l]:\n",
    "                i += 1\n",
    "            arr[i], arr[j] = arr[j], arr[i]\n",
    "            \n",
    "        arr[l], arr[i] = arr[i], arr[l]\n",
    "        # 递归左右子数组执行哨兵划分\n",
    "        quick_sort(arr, l, i - 1)\n",
    "        quick_sort(arr, i +  1, r)\n",
    "    quick_sort(arr, 0, len(arr) - 1)\n",
    "    return arr[:k]"
   ]
  },
  {
   "cell_type": "code",
   "execution_count": 4,
   "metadata": {},
   "outputs": [
    {
     "data": {
      "text/plain": [
       "[0, 1]"
      ]
     },
     "execution_count": 4,
     "metadata": {},
     "output_type": "execute_result"
    }
   ],
   "source": [
    "arr = [2,4,1,0,3,5]\n",
    "min_k(arr, 2)"
   ]
  },
  {
   "cell_type": "markdown",
   "metadata": {},
   "source": [
    "* 时间复杂度：$O(NlogN)$\n",
    "* 空间复杂度：$O(N)$"
   ]
  },
  {
   "cell_type": "markdown",
   "metadata": {},
   "source": [
    "##### 方法二： 基于快速排序的数组划分"
   ]
  },
  {
   "cell_type": "markdown",
   "metadata": {},
   "source": [
    "* 只需要将数组划分为最小的k个数和其他数字两部分即可。如果某次哨兵划分后是基准数正好是第k+1小的数字，那此时基准数左边的所有数字就是所求的最小的k个数。考虑在每次哨兵划分后，判断基准数在数组中的索引是否等于k，若true则直接返回此时数组的前k个数字即可。"
   ]
  },
  {
   "cell_type": "code",
   "execution_count": 5,
   "metadata": {},
   "outputs": [],
   "source": [
    "def min_k(arr, k):\n",
    "    if k >= len(arr):\n",
    "        return arr\n",
    "\n",
    "    def quick_sort(l, r):\n",
    "        # 哨兵划分操作，以arr[l]作为基准\n",
    "        i, j = l, r\n",
    "        while i < j:\n",
    "            while i < j and arr[j] >= arr[l]:\n",
    "                j -= 1\n",
    "            while i < j and arr[i] <= arr[l]:\n",
    "                i += 1\n",
    "            arr[i], arr[j] = arr[j], arr[i]\n",
    "        arr[l], arr[i] = arr[i], arr[l]\n",
    "        if k < i:\n",
    "            return quick_sort(l, i - 1)\n",
    "        if k > i:\n",
    "            return quick_sort(i +  1, r)\n",
    "        return arr[:k]        \n",
    "    return quick_sort(0, len(arr) - 1)"
   ]
  },
  {
   "cell_type": "code",
   "execution_count": 7,
   "metadata": {},
   "outputs": [
    {
     "data": {
      "text/plain": [
       "[1, 0, 2, 3]"
      ]
     },
     "execution_count": 7,
     "metadata": {},
     "output_type": "execute_result"
    }
   ],
   "source": [
    "arr = [2,4,1,0,3,5]\n",
    "min_k(arr, 4)"
   ]
  },
  {
   "cell_type": "markdown",
   "metadata": {},
   "source": [
    "* 时间复杂度：$O(N)$\n",
    "* 空间复杂度：$O(logN)$"
   ]
  }
 ],
 "metadata": {
  "kernelspec": {
   "display_name": "Python 3",
   "language": "python",
   "name": "python3"
  },
  "language_info": {
   "codemirror_mode": {
    "name": "ipython",
    "version": 3
   },
   "file_extension": ".py",
   "mimetype": "text/x-python",
   "name": "python",
   "nbconvert_exporter": "python",
   "pygments_lexer": "ipython3",
   "version": "3.6.5"
  }
 },
 "nbformat": 4,
 "nbformat_minor": 2
}
