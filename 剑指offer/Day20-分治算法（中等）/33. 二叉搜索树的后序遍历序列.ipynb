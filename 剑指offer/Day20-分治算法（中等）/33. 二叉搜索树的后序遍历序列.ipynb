{
 "cells": [
  {
   "cell_type": "markdown",
   "id": "cc2ef1e9-f3a1-4da6-9d6d-c04621addf1f",
   "metadata": {},
   "source": [
    "# 33. 二叉搜索树的后序遍历序列"
   ]
  },
  {
   "cell_type": "markdown",
   "id": "e060be30-3b3c-401e-89be-29584644725c",
   "metadata": {},
   "source": [
    "* 输入一个整数数组，判断该数组是不是某二叉搜索树的后序遍历结果。如果是则返回 true，否则返回 false。假设输入的数组的任意两个数字都互不相同。"
   ]
  },
  {
   "cell_type": "markdown",
   "id": "f8c642d9-d123-4faf-951f-3d6fc211851c",
   "metadata": {},
   "source": [
    "* 例如：\n",
    "    * 输入: `[1,6,3,2,5]`\n",
    "    * 输出: `false`"
   ]
  },
  {
   "cell_type": "markdown",
   "id": "0305f1be-6192-48ba-ba13-ec465c29f01a",
   "metadata": {},
   "source": [
    "### 解题思路"
   ]
  },
  {
   "cell_type": "markdown",
   "id": "4cdd67d2-e3a2-430f-bb1b-08b33c658174",
   "metadata": {},
   "source": [
    "#### 方法1:递归分治"
   ]
  },
  {
   "cell_type": "markdown",
   "id": "86d97edb-c9b8-49ee-b313-5257cb4d9489",
   "metadata": {},
   "source": [
    "* 左子树所有节点小于根节点，右子树所有节点大于根节点。"
   ]
  },
  {
   "cell_type": "markdown",
   "id": "ed770672-e6a6-4f6e-8c07-043e3de98c91",
   "metadata": {},
   "source": [
    "* 终止条件：当i>=j，说明此子树节点数量<=1，无需判别正确性，返回true。\n",
    "* 递推：\n",
    "    * 划分左右子树：遍历后序遍历的[i,j]区间，寻找第一个大于根节点的节点，索引记为m。此时可划分左子树区间[i, m - 1]、右子树区间[m, j - 1]、根节点索引j。\n",
    "    * 判断是否为二叉搜索树：\n",
    "        * 左子树区间[i, m - 1]内的所有节点都应< postorder[j]，而第一步已经保证了正确性，只需判断右子树区间即可。\n",
    "        * 右子树区间[m, j - 1]内所有节点都应>postorder[j]，实现方式为遍历，当遇到<=postorder[j]的节点则跳出，则可通过p=j判断是否为二叉搜索树。\n",
    "    * 返回值：所有子树都需正确才可判定正确。\n",
    "        * p=j：判断此时是否正确。\n",
    "        * recur(i, m - 1):判断左子树是否正确。\n",
    "        * recur(m, j - 1):判断右子树是否正确。"
   ]
  },
  {
   "cell_type": "code",
   "execution_count": 7,
   "id": "b1ea3c77-a53f-49e5-98da-fecec1e6c1b4",
   "metadata": {},
   "outputs": [],
   "source": [
    "class Solution(object):\n",
    "    def verifyPostorder(self, postorder):\n",
    "        \"\"\"\n",
    "        :type postorder: List[int]\n",
    "        :rtype: bool\n",
    "        \"\"\"\n",
    "        def recur(i, j):\n",
    "            if i >= j:\n",
    "                return True\n",
    "            p = i\n",
    "            while postorder[p] < postorder[j]:\n",
    "                p += 1\n",
    "            m = p\n",
    "            while postorder[p] > postorder[j]:\n",
    "                p += 1\n",
    "            return p == j and recur(i, m - 1) and recur(m, j - 1)\n",
    "        return recur(0, len(postorder) - 1)"
   ]
  },
  {
   "cell_type": "markdown",
   "id": "f0600589-fa90-4cc3-9f7b-b1614dfc7af5",
   "metadata": {},
   "source": [
    "* 时间复杂度：$O(N^2)$\n",
    "* 空间复杂度：$O(N)$"
   ]
  }
 ],
 "metadata": {
  "kernelspec": {
   "display_name": "Python 3",
   "language": "python",
   "name": "python3"
  },
  "language_info": {
   "codemirror_mode": {
    "name": "ipython",
    "version": 3
   },
   "file_extension": ".py",
   "mimetype": "text/x-python",
   "name": "python",
   "nbconvert_exporter": "python",
   "pygments_lexer": "ipython3",
   "version": "3.9.1"
  }
 },
 "nbformat": 4,
 "nbformat_minor": 5
}
