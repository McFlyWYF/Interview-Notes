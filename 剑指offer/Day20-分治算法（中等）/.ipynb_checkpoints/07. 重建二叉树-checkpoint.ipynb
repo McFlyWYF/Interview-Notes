{
 "cells": [
  {
   "cell_type": "markdown",
   "id": "50f6f2b5-12d3-4c0c-84b0-12ec058092d1",
   "metadata": {},
   "source": [
    "# 07. 重建二叉树"
   ]
  },
  {
   "cell_type": "markdown",
   "id": "f984dbae-129c-4245-b7cf-d0d3b4ece635",
   "metadata": {},
   "source": [
    "* 输入某二叉树的前序遍历和中序遍历的结果，请构建该二叉树并返回其根节点。假设输入的前序遍历和中序遍历的结果中都不含重复的数字。"
   ]
  },
  {
   "cell_type": "markdown",
   "id": "2b56d0d5-45e0-4855-88e3-de3f7a116b1a",
   "metadata": {},
   "source": [
    "* 例如：\n",
    "    * `Input: preorder = [3,9,20,15,7], inorder = [9,3,15,20,7]`\n",
    "    * `Output: [3,9,20,null,null,15,7]`"
   ]
  },
  {
   "cell_type": "markdown",
   "id": "abf6720a-ba89-4c3f-8a63-e56e343e4bab",
   "metadata": {},
   "source": [
    "#### 解题思路"
   ]
  },
  {
   "cell_type": "markdown",
   "id": "3ec2e2f1-2ad2-44a4-9b04-2839874f5932",
   "metadata": {},
   "source": [
    "* 先根据前序数组找到根节点；\n",
    "* 根节点作为切割点；\n",
    "* 根据根节点切割中序数组；\n",
    "* 再根据切割后的中序数组切割前序数组；\n",
    "* 递归左右子树。"
   ]
  },
  {
   "cell_type": "code",
   "execution_count": 1,
   "id": "3a94195c-94fd-4625-9747-d3faef038bdd",
   "metadata": {},
   "outputs": [],
   "source": [
    "# Definition for a binary tree node.\n",
    "# class TreeNode(object):\n",
    "#     def __init__(self, x):\n",
    "#         self.val = x\n",
    "#         self.left = None\n",
    "#         self.right = None\n",
    "\n",
    "class Solution(object):\n",
    "    def buildTree(self, preorder, inorder):\n",
    "        \"\"\"\n",
    "        :type preorder: List[int]\n",
    "        :type inorder: List[int]\n",
    "        :rtype: TreeNode\n",
    "        \"\"\"\n",
    "        if not preorder:\n",
    "            return None\n",
    "        # 根\n",
    "        rootvalue = preorder[0]\n",
    "        root = TreeNode(rootvalue)\n",
    "        # 切割点\n",
    "        last = inorder.index(rootvalue)\n",
    "\n",
    "        # 切割中序数组\n",
    "        leftinorder = inorder[:last]\n",
    "        rightinorder = inorder[last + 1:]\n",
    "        # 切割前序数组\n",
    "        leftpre = preorder[1:len(leftinorder)+1]\n",
    "        rightpre = preorder[len(leftinorder) + 1:]\n",
    "\n",
    "        # 递归\n",
    "        root.left = self.buildTree(leftpre, leftinorder)\n",
    "        root.right = self.buildTree(rightpre, rightinorder)\n",
    "        return root"
   ]
  }
 ],
 "metadata": {
  "kernelspec": {
   "display_name": "Python 3",
   "language": "python",
   "name": "python3"
  },
  "language_info": {
   "codemirror_mode": {
    "name": "ipython",
    "version": 3
   },
   "file_extension": ".py",
   "mimetype": "text/x-python",
   "name": "python",
   "nbconvert_exporter": "python",
   "pygments_lexer": "ipython3",
   "version": "3.9.1"
  }
 },
 "nbformat": 4,
 "nbformat_minor": 5
}
