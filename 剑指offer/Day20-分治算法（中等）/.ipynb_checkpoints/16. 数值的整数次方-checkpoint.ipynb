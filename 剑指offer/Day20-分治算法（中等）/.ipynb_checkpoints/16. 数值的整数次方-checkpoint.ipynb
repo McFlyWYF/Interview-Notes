{
 "cells": [
  {
   "cell_type": "markdown",
   "id": "ba5b2541-4506-4319-beb2-523419c7b11f",
   "metadata": {},
   "source": [
    "# 16. 数值的整数次方"
   ]
  },
  {
   "cell_type": "markdown",
   "id": "5ab7312a-4c34-4cb0-a5ab-74af09cd0125",
   "metadata": {},
   "source": [
    "* 实现 `pow(x, n)` ，即计算 `x` 的 `n` 次幂函数（即，$x^n$）。不得使用库函数，同时不需要考虑大数问题。"
   ]
  },
  {
   "cell_type": "markdown",
   "id": "7b19ffe9-1b86-4622-b4f9-f9ee30c85c77",
   "metadata": {},
   "source": [
    "#### 解题思路"
   ]
  },
  {
   "cell_type": "markdown",
   "id": "cf86bf95-8a63-410d-bcdf-2307ee86d2d6",
   "metadata": {},
   "source": [
    "##### 快速幂（二分法）"
   ]
  },
  {
   "cell_type": "markdown",
   "id": "6b482b7e-65d7-4e86-9bff-d0084adef4cc",
   "metadata": {},
   "source": [
    "* 二分推导\n",
    "    * 当n为偶数：$x^n=(x^2)^{n//2}$\n",
    "    * 当n为奇数：$x^n=x(x^2)^{n//2}$"
   ]
  },
  {
   "cell_type": "markdown",
   "id": "d7081226-eecb-4cf6-894a-36111b24dee1",
   "metadata": {},
   "source": [
    "* 幂结果获取\n",
    "    * 根据二分推导，通过循环$x=x^2$，每次把幂从n降至n//2，直至将幂降为0；\n",
    "    * 设res=1，则初始状态$x^n=x^n · res$。在循环二分时，每当n为奇数时，将多出的一项x乘入res，则最终可化至$x^n=x^0·res=res$，返回res即可。"
   ]
  },
  {
   "cell_type": "markdown",
   "id": "725bf542-a286-42bb-9220-f430aa910f5c",
   "metadata": {},
   "source": [
    "* 转化为位运算\n",
    "    * 向下整除n//2等价于右移一位n>>1；\n",
    "    * 取余数n%2等价于判断二进制最右一位值n&1；"
   ]
  },
  {
   "cell_type": "markdown",
   "id": "e7dbf52f-7100-4ce8-a291-7d7d9a224527",
   "metadata": {},
   "source": [
    "##### 算法流程"
   ]
  },
  {
   "cell_type": "markdown",
   "id": "ec43e68a-a49c-433d-97d2-6704b56366be",
   "metadata": {},
   "source": [
    "* 当 x = 0 时：直接返回 0 （避免后续 x = 1 / x 操作报错）。\n",
    "* 初始化 res = 1；\n",
    "* 当 n < 0 时：把问题转化至 n ≥ 0 的范围内，即执行 x = 1/x，n = - n ；\n",
    "* 循环计算：当 n = 0时跳出；\n",
    "    * 当 n & 1 = 1 时：将当前 x 乘入 res （即 res *= x）；\n",
    "    * 执行 x = x^2   （即 x *= x）；\n",
    "    * 执行 n 右移一位（即 n >>= 1）。\n",
    "* 返回 res。"
   ]
  },
  {
   "cell_type": "code",
   "execution_count": 5,
   "id": "6bb70043-4f1c-4809-978d-af4206ab1809",
   "metadata": {},
   "outputs": [],
   "source": [
    "class Solution(object):\n",
    "    def myPow(self, x, n):\n",
    "        \"\"\"\n",
    "        :type x: float\n",
    "        :type n: int\n",
    "        :rtype: float\n",
    "        \"\"\"\n",
    "        if x == 0:\n",
    "            return 0\n",
    "        res = 1\n",
    "        if n < 0:\n",
    "            x = 1 / x\n",
    "            n = -n\n",
    "        while n:\n",
    "            if n&1:  # n % 2 == 1\n",
    "                res *= x\n",
    "            x *= x\n",
    "            n >>= 1  # n //= 2\n",
    "        return res"
   ]
  },
  {
   "cell_type": "markdown",
   "id": "0bf1295d-bd3f-48b2-971b-fab581a1c0e7",
   "metadata": {},
   "source": [
    "* 时间复杂度：$O(log_2n)$\n",
    "* 空间复杂度：$O(1)$"
   ]
  }
 ],
 "metadata": {
  "kernelspec": {
   "display_name": "Python 3",
   "language": "python",
   "name": "python3"
  },
  "language_info": {
   "codemirror_mode": {
    "name": "ipython",
    "version": 3
   },
   "file_extension": ".py",
   "mimetype": "text/x-python",
   "name": "python",
   "nbconvert_exporter": "python",
   "pygments_lexer": "ipython3",
   "version": "3.9.1"
  }
 },
 "nbformat": 4,
 "nbformat_minor": 5
}
