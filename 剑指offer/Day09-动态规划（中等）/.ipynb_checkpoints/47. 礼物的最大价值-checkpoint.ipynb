{
 "cells": [
  {
   "cell_type": "markdown",
   "metadata": {},
   "source": [
    "# 47. 礼物的最大价值"
   ]
  },
  {
   "cell_type": "markdown",
   "metadata": {},
   "source": [
    "* 在一个 m*n 的棋盘的每一格都放有一个礼物，每个礼物都有一定的价值（价值大于 0）。你可以从棋盘的左上角开始拿格子里的礼物，并每次向右或者向下移动一格、直到到达棋盘的右下角。给定一个棋盘及其上面的礼物的价值，请计算你最多能拿到多少价值的礼物？"
   ]
  },
  {
   "cell_type": "markdown",
   "metadata": {},
   "source": [
    "* 例如：\n",
    "    * 输入: \n",
    "`[\n",
    "  [1,3,1],\n",
    "  [1,5,1],\n",
    "  [4,2,1]\n",
    "]`\n",
    "    * 输出: 12\n",
    "    * 解释: 路径 1→3→5→2→1 可以拿到最多价值的礼物"
   ]
  },
  {
   "cell_type": "markdown",
   "metadata": {},
   "source": [
    "#### 解题思路"
   ]
  },
  {
   "cell_type": "markdown",
   "metadata": {},
   "source": [
    "* 定义dp数组\n",
    "    * dp[i][j]表示第i行第j列的最大价值。（这里为了节省空间，可以在grid的基础上进行操作，将空间复杂度降到$O(1)$）\n",
    "\n",
    "* 递推公式\n",
    "    * dp[i][j]位置的最大价值等于`dp[i][j] = max(dp[i - 1][j] + grid[i][j], dp[i][j - 1] + grid[i][j])`\n",
    "\n",
    "* 初始化\n",
    "    * 先初始化第一行和第一列，它们的最大价值是加上左边或上边的价值和。\n",
    "* 遍历\n",
    "    * 从左到右，从上到下依次遍历"
   ]
  },
  {
   "cell_type": "code",
   "execution_count": 2,
   "metadata": {},
   "outputs": [],
   "source": [
    "class Solution(object):\n",
    "    def maxValue(self, grid):\n",
    "        \"\"\"\n",
    "        :type grid: List[List[int]]\n",
    "        :rtype: int\n",
    "        \"\"\"\n",
    "        dp = [[0] * len(grid[0]) for _ in range(len(grid))]\n",
    "        print(dp)\n",
    "\n",
    "        dp[0][0] = grid[0][0]\n",
    "        for i in range(1, len(grid[0])):\n",
    "            dp[0][i] = dp[0][i - 1] + grid[0][i] \n",
    "\n",
    "        for j in range(1, len(grid)):\n",
    "            dp[j][0] = dp[j - 1][0] + grid[j][0]\n",
    "\n",
    "        for i in range(1, len(grid)):\n",
    "            for j in range(1, len(grid[0])):\n",
    "                dp[i][j] = max(dp[i - 1][j] + grid[i][j], dp[i][j -1] + grid[i][j])\n",
    "\n",
    "        return dp[-1][-1]"
   ]
  }
 ],
 "metadata": {
  "kernelspec": {
   "display_name": "Python 3",
   "language": "python",
   "name": "python3"
  },
  "language_info": {
   "codemirror_mode": {
    "name": "ipython",
    "version": 3
   },
   "file_extension": ".py",
   "mimetype": "text/x-python",
   "name": "python",
   "nbconvert_exporter": "python",
   "pygments_lexer": "ipython3",
   "version": "3.6.5"
  }
 },
 "nbformat": 4,
 "nbformat_minor": 2
}
