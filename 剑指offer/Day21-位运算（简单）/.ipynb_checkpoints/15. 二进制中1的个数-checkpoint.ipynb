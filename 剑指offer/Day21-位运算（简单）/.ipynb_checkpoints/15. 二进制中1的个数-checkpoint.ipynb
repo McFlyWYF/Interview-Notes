{
 "cells": [
  {
   "cell_type": "markdown",
   "id": "7e7fca09-f063-49bc-9cb3-70f86037424f",
   "metadata": {},
   "source": [
    "# 15. 二进制中1的个数"
   ]
  },
  {
   "cell_type": "markdown",
   "id": "995d6a22-2b86-43d4-a232-1c038b564d82",
   "metadata": {},
   "source": [
    "* 编写一个函数，输入是一个无符号整数（以二进制串的形式），返回其二进制表达式中数字位数为 '1' 的个数"
   ]
  },
  {
   "cell_type": "markdown",
   "id": "95fa7ffd-a1f5-4fda-9ae3-f63f9b047f50",
   "metadata": {},
   "source": [
    "* 例如：\n",
    "    * 输入：`n = 11 (控制台输入 00000000000000000000000000001011)`\n",
    "    * 输出：`3`\n",
    "    * 解释：输入的二进制串 `00000000000000000000000000001011` 中，共有三位为 '1'。"
   ]
  },
  {
   "cell_type": "markdown",
   "id": "09213ee7-f026-40cd-b440-09b338d85882",
   "metadata": {},
   "source": [
    "#### 解题思路"
   ]
  },
  {
   "cell_type": "markdown",
   "id": "5ff8ad10-d723-4a1b-b6e2-dad8ce574ab1",
   "metadata": {},
   "source": [
    "* 最右一位和**1**做**与**运算，如果等于1，`count+=1`，n右移一位。"
   ]
  },
  {
   "cell_type": "code",
   "execution_count": 1,
   "id": "995e84fc-54fc-43a3-844d-a7c57e893c2a",
   "metadata": {},
   "outputs": [],
   "source": [
    "class Solution(object):\n",
    "    def hammingWeight(self, n):\n",
    "        \"\"\"\n",
    "        :type n: int\n",
    "        :rtype: int\n",
    "        \"\"\"\n",
    "        count = 0\n",
    "        while n:\n",
    "            if n & 1:\n",
    "                count += 1\n",
    "            n >>= 1\n",
    "        return count"
   ]
  }
 ],
 "metadata": {
  "kernelspec": {
   "display_name": "Python 3",
   "language": "python",
   "name": "python3"
  },
  "language_info": {
   "codemirror_mode": {
    "name": "ipython",
    "version": 3
   },
   "file_extension": ".py",
   "mimetype": "text/x-python",
   "name": "python",
   "nbconvert_exporter": "python",
   "pygments_lexer": "ipython3",
   "version": "3.9.1"
  }
 },
 "nbformat": 4,
 "nbformat_minor": 5
}
