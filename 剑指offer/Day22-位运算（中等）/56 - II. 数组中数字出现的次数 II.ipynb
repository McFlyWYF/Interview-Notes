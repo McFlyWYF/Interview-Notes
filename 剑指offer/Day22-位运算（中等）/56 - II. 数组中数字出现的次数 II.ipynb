{
 "cells": [
  {
   "cell_type": "markdown",
   "id": "120f4119-b54b-428a-887e-6690fe18f546",
   "metadata": {},
   "source": [
    "# 56 - II. 数组中数字出现的次数 II"
   ]
  },
  {
   "cell_type": "markdown",
   "id": "bcbec278-cc2a-4922-b512-449a11b49117",
   "metadata": {},
   "source": [
    "* 在一个数组 nums 中除一个数字只出现一次之外，其他数字都出现了三次。请找出那个只出现一次的数字。"
   ]
  },
  {
   "cell_type": "markdown",
   "id": "73d8baa5-71c0-4941-b377-b054b35a6633",
   "metadata": {},
   "source": [
    "* 例如：\n",
    "    * 输入：`nums = [3,4,3,3]`\n",
    "    * 输出：4"
   ]
  },
  {
   "cell_type": "markdown",
   "id": "cdcddc6c-6930-4a4d-82bd-051630589289",
   "metadata": {},
   "source": [
    "### 解题思路"
   ]
  },
  {
   "cell_type": "markdown",
   "id": "6c33289b-901b-496c-ae57-3c5743ac8dbf",
   "metadata": {},
   "source": [
    "#### 方法1:哈希表"
   ]
  },
  {
   "cell_type": "code",
   "execution_count": 3,
   "id": "7362d23d-e87e-4138-83de-67a6376d414b",
   "metadata": {},
   "outputs": [],
   "source": [
    "class Solution(object):\n",
    "    def singleNumber(self, nums):\n",
    "        \"\"\"\n",
    "        :type nums: List[int]\n",
    "        :rtype: int\n",
    "        \"\"\"\n",
    "        d = {}\n",
    "        for num in nums:\n",
    "            d[num] = 1 + d.get(num, 0)\n",
    "        print(d)\n",
    "        for (key, value) in d.items():\n",
    "            if value == 1:\n",
    "                return key"
   ]
  },
  {
   "cell_type": "code",
   "execution_count": 5,
   "id": "8fc07962-2dd6-4826-88c6-2af7fdc66b33",
   "metadata": {},
   "outputs": [
    {
     "name": "stdout",
     "output_type": "stream",
     "text": [
      "{1: 1, 4: 3}\n"
     ]
    },
    {
     "data": {
      "text/plain": [
       "1"
      ]
     },
     "execution_count": 5,
     "metadata": {},
     "output_type": "execute_result"
    }
   ],
   "source": [
    "s = Solution()\n",
    "s.singleNumber([1, 4, 4, 4])"
   ]
  },
  {
   "cell_type": "markdown",
   "id": "1d176bb5-60e9-41f9-a188-70638c53643b",
   "metadata": {},
   "source": [
    "* 时间复杂度：$O(N)$\n",
    "* 空间复杂度：$O(N)$"
   ]
  }
 ],
 "metadata": {
  "kernelspec": {
   "display_name": "Python 3",
   "language": "python",
   "name": "python3"
  },
  "language_info": {
   "codemirror_mode": {
    "name": "ipython",
    "version": 3
   },
   "file_extension": ".py",
   "mimetype": "text/x-python",
   "name": "python",
   "nbconvert_exporter": "python",
   "pygments_lexer": "ipython3",
   "version": "3.9.1"
  }
 },
 "nbformat": 4,
 "nbformat_minor": 5
}
