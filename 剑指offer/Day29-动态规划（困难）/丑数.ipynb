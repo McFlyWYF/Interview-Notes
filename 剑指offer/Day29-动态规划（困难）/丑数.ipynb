{
 "cells": [
  {
   "cell_type": "markdown",
   "metadata": {},
   "source": [
    "# 49. 丑数"
   ]
  },
  {
   "cell_type": "markdown",
   "metadata": {},
   "source": [
    "* 我们把只包含质因子 2、3 和 5 的数称作丑数（Ugly Number）。求按从小到大的顺序的第 n 个丑数。"
   ]
  },
  {
   "cell_type": "markdown",
   "metadata": {},
   "source": [
    "* 例如：\n",
    "    * 输入: n = 10\n",
    "    * 输出: 12"
   ]
  },
  {
   "cell_type": "markdown",
   "metadata": {},
   "source": [
    "### 解题思路"
   ]
  },
  {
   "cell_type": "markdown",
   "metadata": {},
   "source": [
    "* 丑数只包含因子2,3,5，因此丑数=某较小丑数x某因子。"
   ]
  },
  {
   "cell_type": "markdown",
   "metadata": {},
   "source": [
    "* 状态定义：dp[i]代表第i+1个丑数；\n",
    "* 转移方程：\n",
    "    * 当索引a,b,c满足以下条件时，dp[i]为三种情况的最小值；\n",
    "    * 每轮计算dp[i]后，需要更新索引a,b,c的值，使其始终满足方程条件。实现方法：分别独立判断`dp[i]和dp[a]x2,dp[b]x3,dp[c]x5`的大小关系。若相等则将对应索引a,b,c加1；\n",
    "    * 递推公式：`dp[i] = min(dp[a]x2,dp[b]x3,dp[c]x5)`；\n",
    "* 初始状态：dp[0]=1,即第一个丑数为1；\n",
    "* 返回值：dp[n-1]，即返回第n个丑数；"
   ]
  },
  {
   "cell_type": "code",
   "execution_count": 14,
   "metadata": {},
   "outputs": [],
   "source": [
    "def f(n):\n",
    "    dp = [1] * n\n",
    "    a, b, c = 0, 0, 0\n",
    "    for i in range(1, n):\n",
    "        n2, n3, n5 = dp[a] * 2, dp[b] * 3, dp[c] * 5\n",
    "        dp[i] = min(n2, n3, n5)\n",
    "        if dp[i] == n2:\n",
    "            a += 1\n",
    "        if dp[i] == n3:\n",
    "            b += 1\n",
    "        if dp[i] == n5:\n",
    "            c += 1\n",
    "    return dp[-1]"
   ]
  },
  {
   "cell_type": "code",
   "execution_count": 15,
   "metadata": {},
   "outputs": [
    {
     "data": {
      "text/plain": [
       "12"
      ]
     },
     "execution_count": 15,
     "metadata": {},
     "output_type": "execute_result"
    }
   ],
   "source": [
    "f(10)"
   ]
  },
  {
   "cell_type": "markdown",
   "metadata": {},
   "source": [
    "* 时间复杂度：$O(N)$\n",
    "* 空间复杂度：$O(N)$"
   ]
  }
 ],
 "metadata": {
  "kernelspec": {
   "display_name": "Python 3",
   "language": "python",
   "name": "python3"
  },
  "language_info": {
   "codemirror_mode": {
    "name": "ipython",
    "version": 3
   },
   "file_extension": ".py",
   "mimetype": "text/x-python",
   "name": "python",
   "nbconvert_exporter": "python",
   "pygments_lexer": "ipython3",
   "version": "3.9.1"
  }
 },
 "nbformat": 4,
 "nbformat_minor": 4
}
