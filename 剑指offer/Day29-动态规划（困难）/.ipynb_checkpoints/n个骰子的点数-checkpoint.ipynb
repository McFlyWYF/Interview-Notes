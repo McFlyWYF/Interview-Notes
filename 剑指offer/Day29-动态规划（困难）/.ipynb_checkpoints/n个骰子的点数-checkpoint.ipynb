{
 "cells": [
  {
   "cell_type": "markdown",
   "id": "ce0fc776-bede-4a31-a4df-3ad802e88d49",
   "metadata": {},
   "source": [
    "# n个骰子的点数"
   ]
  },
  {
   "cell_type": "markdown",
   "id": "b7939a48-c841-4356-bcf2-103ffe622257",
   "metadata": {},
   "source": [
    "* 把n个骰子扔在地上，所有骰子朝上一面的点数之和为s。输入n，打印出s的所有可能的值出现的概率。"
   ]
  },
  {
   "cell_type": "markdown",
   "id": "dc07fac2-6734-45f7-bf01-d4942f45f299",
   "metadata": {},
   "source": [
    "* 例如：\n",
    "    * 输入：1\n",
    "    * 输出：`[0.16667,0.16667,0.16667,0.16667,0.16667,0.16667]`"
   ]
  },
  {
   "cell_type": "markdown",
   "id": "7f8b7fa6-3e3a-4746-8622-4447cd394851",
   "metadata": {},
   "source": [
    "### 解题思路"
   ]
  },
  {
   "cell_type": "markdown",
   "id": "9b47ac86-2184-4de3-9bb5-38a736147cc3",
   "metadata": {},
   "source": [
    "* 设输入n个骰子的解为f(n)，其中点数和为x的概率为f(n,x)。\n",
    "* 假设已知n-1个骰子的解f(n-1)，此时添加一枚骰子，求n个骰子的点数和为x的概率f(n,x)。当添加骰子的点数为1时，前n-1个骰子的点数和应为x-1，可组成点数和x；同理，当骰子为2时，前n-1个骰子应为x-2；以此类推，直至骰子点数为6.将这6种情况的概率相加，即可得到概率f(n,x)。（会产生越界现象）\n",
    "* 遍历f(n-1)，统计每项f(n-1,i)对概率f(n,i+1)，f(n,i+2)，...，f(n,i+6)产生的贡献。由于新增骰子的点数只可能为1至6，因此概率f(n-1,x)仅与f(n,x+1),f(n,x+2)，...相关。因此，遍历f(n-1)中各点数和的概率，并将其相加至f(n)中所有相关项，即可完成f(n-1)至f(n)的递推。"
   ]
  },
  {
   "cell_type": "markdown",
   "id": "28bba7a0-b9bb-414d-9e0e-e56e8362bc1d",
   "metadata": {},
   "source": [
    "* dp[i][j]表示前i个骰子的点数和j的概率，执行状态转移。"
   ]
  },
  {
   "cell_type": "code",
   "execution_count": 1,
   "id": "cefd6ac6-eef7-48d6-951a-db2e3d2a2347",
   "metadata": {},
   "outputs": [],
   "source": [
    "def dicesProbability(n):\n",
    "    dp = [1 / 6] * 6\n",
    "    for i in range(2, n+1):\n",
    "        tmp = [0] * (5 * i + 1)\n",
    "        for j in range(len(dp)):\n",
    "            for k in range(6):\n",
    "                tmp[j+k] += dp[j] / 6\n",
    "        dp = tmp\n",
    "    return dp"
   ]
  },
  {
   "cell_type": "markdown",
   "id": "f5c80188-3ca6-440f-b0b8-c3463dde65a7",
   "metadata": {},
   "source": [
    "* 时间复杂度：$O(n^2)$\n",
    "* 空间复杂度：$O(n)$"
   ]
  }
 ],
 "metadata": {
  "kernelspec": {
   "display_name": "Python 3",
   "language": "python",
   "name": "python3"
  },
  "language_info": {
   "codemirror_mode": {
    "name": "ipython",
    "version": 3
   },
   "file_extension": ".py",
   "mimetype": "text/x-python",
   "name": "python",
   "nbconvert_exporter": "python",
   "pygments_lexer": "ipython3",
   "version": "3.9.1"
  }
 },
 "nbformat": 4,
 "nbformat_minor": 5
}
