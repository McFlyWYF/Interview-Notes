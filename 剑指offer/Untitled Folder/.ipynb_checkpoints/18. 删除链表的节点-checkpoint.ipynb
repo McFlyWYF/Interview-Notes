{
 "cells": [
  {
   "cell_type": "markdown",
   "metadata": {},
   "source": [
    "# 18. 删除链表的节点"
   ]
  },
  {
   "cell_type": "markdown",
   "metadata": {},
   "source": [
    "* 给定单向链表的头指针和一个要删除的节点的值，定义一个函数删除该节点。返回删除后的链表的头节点。"
   ]
  },
  {
   "cell_type": "markdown",
   "metadata": {},
   "source": [
    "* 例如：\n",
    "    * 输入: `head = [4,5,1,9], val = 5`\n",
    "    * 输出: `[4,1,9]`"
   ]
  },
  {
   "cell_type": "markdown",
   "metadata": {},
   "source": [
    "#### 解题思路"
   ]
  },
  {
   "cell_type": "markdown",
   "metadata": {},
   "source": [
    "* 新建一个虚拟头节点，可以统一化删除操作。初始化一个q指针指向前一个节点，p指针指向当前节点，比较p.val是否等于val，如果等于，则删除当前节点，q.next = p.next，否则继续寻找p = p.next, q = p。\n",
    "* 注意：最后返回的时候，返回head.next，虚拟头节点的下一个元素。"
   ]
  },
  {
   "cell_type": "code",
   "execution_count": 2,
   "metadata": {},
   "outputs": [],
   "source": [
    "# Definition for singly-linked list.\n",
    "# class ListNode(object):\n",
    "#     def __init__(self, x):\n",
    "#         self.val = x\n",
    "#         self.next = None\n",
    "class Solution(object):\n",
    "    def deleteNode(self, head, val):\n",
    "        \"\"\"\n",
    "        :type head: ListNode\n",
    "        :type val: int\n",
    "        :rtype: ListNode\n",
    "        \"\"\"\n",
    "\n",
    "        q = ListNode(0)\n",
    "        q.next = head\n",
    "        head = q\n",
    "        p = head.next\n",
    "        while p:\n",
    "            if p.val != val:\n",
    "                q = p\n",
    "                p = p.next\n",
    "            else:\n",
    "                q.next = p.next\n",
    "                return head.next"
   ]
  }
 ],
 "metadata": {
  "kernelspec": {
   "display_name": "Python 3",
   "language": "python",
   "name": "python3"
  },
  "language_info": {
   "codemirror_mode": {
    "name": "ipython",
    "version": 3
   },
   "file_extension": ".py",
   "mimetype": "text/x-python",
   "name": "python",
   "nbconvert_exporter": "python",
   "pygments_lexer": "ipython3",
   "version": "3.6.5"
  }
 },
 "nbformat": 4,
 "nbformat_minor": 2
}
