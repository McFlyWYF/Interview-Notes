{
 "cells": [
  {
   "cell_type": "markdown",
   "id": "1e4628c4-62c7-405a-a96d-94f48c51dfde",
   "metadata": {},
   "source": [
    "# 55 - II. 平衡二叉树"
   ]
  },
  {
   "cell_type": "markdown",
   "id": "e3b4bcf8-ff7f-4a3a-89e7-176e61c1ca3b",
   "metadata": {},
   "source": [
    "* 输入一棵二叉树的根节点，判断该树是不是平衡二叉树。如果某二叉树中任意节点的左右子树的深度相差不超过1，那么它就是一棵平衡二叉树。"
   ]
  },
  {
   "cell_type": "markdown",
   "id": "a42f8b83-1a4d-4bda-840c-a27c728541ec",
   "metadata": {},
   "source": [
    "* 例如：\n",
    "    * 给定二叉树 `[3,9,20,null,null,15,7]`\n",
    "    * 返回 `true`"
   ]
  },
  {
   "cell_type": "markdown",
   "id": "3c13784f-4b42-473e-8d5e-1c96f9da6455",
   "metadata": {},
   "source": [
    "#### 解题思路"
   ]
  },
  {
   "cell_type": "markdown",
   "id": "bd97e46c-ff9e-48f3-8885-3a7dd303e736",
   "metadata": {},
   "source": [
    "##### 方法一：递归法"
   ]
  },
  {
   "cell_type": "markdown",
   "id": "7850eee9-0949-4bde-9c8f-a0abeb9e0669",
   "metadata": {},
   "source": [
    "* 返回值\n",
    "    * 当节点root左右子树的深度差<=1，返回当前子树的深度，即左右子树深度最大值+1\n",
    "    * 当节点root左右子树的深度差>2，返回-1，代表不是平衡树\n",
    "* 终止条件\n",
    "    * 当root为空，说明越过叶节点，返回高度0\n",
    "    * 当左右子树深度为-1，代表此树的左右子树不是平衡树，因此剪枝，返回-1"
   ]
  },
  {
   "cell_type": "code",
   "execution_count": 6,
   "id": "08d5aa09-5559-48fb-b496-45843cb773b5",
   "metadata": {},
   "outputs": [],
   "source": [
    "# Definition for a binary tree node.\n",
    "# class TreeNode(object):\n",
    "#     def __init__(self, x):\n",
    "#         self.val = x\n",
    "#         self.left = None\n",
    "#         self.right = None\n",
    "\n",
    "class Solution(object):\n",
    "    def isBalanced(self, root):\n",
    "        \"\"\"\n",
    "        :type root: TreeNode\n",
    "        :rtype: bool\n",
    "        \"\"\"\n",
    "        def getdepth(root):\n",
    "            if not root:\n",
    "                return 0\n",
    "            left = getdepth(root.left)\n",
    "            if left == -1:\n",
    "                return -1\n",
    "            right = getdepth(root.right)\n",
    "            if right == -1:\n",
    "                return -1\n",
    "            return max(left, right) + 1 if abs(left - right) <= 1 else -1\n",
    "        return getdepth(root) != -1"
   ]
  },
  {
   "cell_type": "markdown",
   "id": "aa250d94-2cfd-42af-b0b0-426460831305",
   "metadata": {},
   "source": [
    "##### 方法二：迭代法"
   ]
  },
  {
   "cell_type": "code",
   "execution_count": 3,
   "id": "a0ead30d-1701-41bd-8e79-13956220fe16",
   "metadata": {},
   "outputs": [],
   "source": [
    "# Definition for a binary tree node.\n",
    "# class TreeNode(object):\n",
    "#     def __init__(self, x):\n",
    "#         self.val = x\n",
    "#         self.left = None\n",
    "#         self.right = None\n",
    "\n",
    "class Solution(object):\n",
    "    def isBalanced(self, root):\n",
    "        \"\"\"\n",
    "        :type root: TreeNode\n",
    "        :rtype: bool\n",
    "        \"\"\"\n",
    "        \n",
    "        def getdepth(cur):\n",
    "            # 后序遍历每一个节点的高度，将当前传入的节点作为根节点\n",
    "            st = []\n",
    "            if cur:\n",
    "                st.append(cur)\n",
    "            depth = 0\n",
    "            result = 0\n",
    "            while st:\n",
    "                node = st.pop()\n",
    "                if node:\n",
    "                    st.append(node)\n",
    "                    st.append(None)\n",
    "                    depth += 1\n",
    "                    if node.right:\n",
    "                        st.append(node.right)\n",
    "                    if node.left:\n",
    "                        st.append(node.left)\n",
    "                else:\n",
    "                    node = st.pop()\n",
    "                    depth -= 1\n",
    "                result = max(result, depth)\n",
    "            return result\n",
    "\n",
    "        # 前序遍历每个节点，判断左右孩子高度是否符合\n",
    "        if root == None:\n",
    "            return True\n",
    "        stack = [root]\n",
    "        while stack:\n",
    "            node = stack.pop()  # 根\n",
    "            if abs(getdepth(node.left) - getdepth(node.right)) > 1:\n",
    "                return False\n",
    "            if node.right:  # 右\n",
    "                stack.append(node.right)\n",
    "            if node.left:  # 左\n",
    "                stack.append(node.left)\n",
    "            \n",
    "        return True"
   ]
  },
  {
   "cell_type": "code",
   "execution_count": null,
   "id": "2febaee6-6dee-4e17-a96d-58fb72d37f6c",
   "metadata": {},
   "outputs": [],
   "source": []
  }
 ],
 "metadata": {
  "kernelspec": {
   "display_name": "Python 3",
   "language": "python",
   "name": "python3"
  },
  "language_info": {
   "codemirror_mode": {
    "name": "ipython",
    "version": 3
   },
   "file_extension": ".py",
   "mimetype": "text/x-python",
   "name": "python",
   "nbconvert_exporter": "python",
   "pygments_lexer": "ipython3",
   "version": "3.9.1"
  }
 },
 "nbformat": 4,
 "nbformat_minor": 5
}
