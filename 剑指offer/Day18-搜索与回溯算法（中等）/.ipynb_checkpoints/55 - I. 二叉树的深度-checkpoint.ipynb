{
 "cells": [
  {
   "cell_type": "markdown",
   "id": "c397b3eb-f0e4-4562-a369-92bb63e7b8d1",
   "metadata": {},
   "source": [
    "# 55 - I. 二叉树的深度"
   ]
  },
  {
   "cell_type": "markdown",
   "id": "16b978aa-321b-41b4-9bc0-cea4626976bc",
   "metadata": {},
   "source": [
    "* 输入一棵二叉树的根节点，求该树的深度。从根节点到叶节点依次经过的节点（含根、叶节点）形成树的一条路径，最长路径的长度为树的深度。"
   ]
  },
  {
   "cell_type": "markdown",
   "id": "5c723fda-318e-48bf-b46b-e332bd88c81c",
   "metadata": {},
   "source": [
    "* 例如：\n",
    "    * 给定二叉树 [3,9,20,null,null,15,7]，\n",
    "    * 返回它的最大深度 3 。"
   ]
  },
  {
   "cell_type": "markdown",
   "id": "d4a3755b-4bd1-4cbf-a6cc-10a6dd37c8db",
   "metadata": {},
   "source": [
    "#### 解题思路"
   ]
  },
  {
   "cell_type": "markdown",
   "id": "c0949e6a-0135-4a12-af19-c9180f66e430",
   "metadata": {},
   "source": [
    "##### 方法一：递归"
   ]
  },
  {
   "cell_type": "code",
   "execution_count": 3,
   "id": "ce3844f1-fa9b-452f-9a9a-1ceb5dc424d2",
   "metadata": {},
   "outputs": [],
   "source": [
    "# Definition for a binary tree node.\n",
    "# class TreeNode(object):\n",
    "#     def __init__(self, x):\n",
    "#         self.val = x\n",
    "#         self.left = None\n",
    "#         self.right = None\n",
    "\n",
    "class Solution(object):\n",
    "    def maxDepth(self, root):\n",
    "        \"\"\"\n",
    "        :type root: TreeNode\n",
    "        :rtype: int\n",
    "        \"\"\"\n",
    "        if root == None:\n",
    "            return 0\n",
    "        return 1 + max(self.maxDepth(root.left), self.maxDepth(root.right))"
   ]
  },
  {
   "cell_type": "markdown",
   "id": "e9a4a1d5-39a8-4e5d-86d2-ebd9005f390a",
   "metadata": {},
   "source": [
    "##### 方法二：迭代法"
   ]
  },
  {
   "cell_type": "code",
   "execution_count": 4,
   "id": "6a0e0781-9649-4684-927d-b438d0636b27",
   "metadata": {},
   "outputs": [],
   "source": [
    "# Definition for a binary tree node.\n",
    "# class TreeNode(object):\n",
    "#     def __init__(self, x):\n",
    "#         self.val = x\n",
    "#         self.left = None\n",
    "#         self.right = None\n",
    "\n",
    "class Solution(object):\n",
    "    def maxDepth(self, root):\n",
    "        \"\"\"\n",
    "        :type root: TreeNode\n",
    "        :rtype: int\n",
    "        \"\"\"\n",
    "        from collections import deque\n",
    "        \n",
    "        if root == None:\n",
    "            return 0\n",
    "        \n",
    "        maxdepth = 0\n",
    "        q = deque([root])\n",
    "        while q:\n",
    "            size = len(q)\n",
    "            maxdepth += 1\n",
    "            for i in range(size):\n",
    "                cur = q.popleft()\n",
    "                if cur.left:\n",
    "                    q.append(cur.left)\n",
    "                if cur.right:\n",
    "                    q.append(cur.right)\n",
    "        return maxdepth"
   ]
  }
 ],
 "metadata": {
  "kernelspec": {
   "display_name": "Python 3",
   "language": "python",
   "name": "python3"
  },
  "language_info": {
   "codemirror_mode": {
    "name": "ipython",
    "version": 3
   },
   "file_extension": ".py",
   "mimetype": "text/x-python",
   "name": "python",
   "nbconvert_exporter": "python",
   "pygments_lexer": "ipython3",
   "version": "3.9.1"
  }
 },
 "nbformat": 4,
 "nbformat_minor": 5
}
