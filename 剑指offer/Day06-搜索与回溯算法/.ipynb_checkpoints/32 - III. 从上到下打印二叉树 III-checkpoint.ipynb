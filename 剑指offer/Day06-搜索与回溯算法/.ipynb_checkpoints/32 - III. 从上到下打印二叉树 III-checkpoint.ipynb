{
 "cells": [
  {
   "cell_type": "markdown",
   "metadata": {},
   "source": [
    "# 32 - III. 从上到下打印二叉树 III"
   ]
  },
  {
   "cell_type": "markdown",
   "metadata": {},
   "source": [
    "* 请实现一个函数按照之字形顺序打印二叉树，即第一行按照从左到右的顺序打印，第二层按照从右到左的顺序打印，第三行再按照从左到右的顺序打印，其他行以此类推。"
   ]
  },
  {
   "cell_type": "markdown",
   "metadata": {},
   "source": [
    "* 给定二叉树: `[3,9,20,null,null,15,7]`\n",
    "* `[\n",
    "  [3],\n",
    "  [20,9],\n",
    "  [15,7]\n",
    "]`"
   ]
  },
  {
   "cell_type": "markdown",
   "metadata": {},
   "source": [
    "### 递归法"
   ]
  },
  {
   "cell_type": "code",
   "execution_count": 1,
   "metadata": {},
   "outputs": [],
   "source": [
    "class Solution(object):\n",
    "    def levelOrder(self, root):\n",
    "        \"\"\"\n",
    "        :type root: TreeNode\n",
    "        :rtype: List[List[int]]\n",
    "        \"\"\"\n",
    "        def transvel(cur, depth):\n",
    "            if len(result) == depth:\n",
    "                result.append([])\n",
    "            result[depth].append(cur.val)\n",
    "            if cur.left:\n",
    "                transvel(cur.left,depth+1)\n",
    "            if cur.right:\n",
    "                transvel(cur.right,depth+1)\n",
    "        \n",
    "        if root == None:\n",
    "            return []\n",
    "        result = []\n",
    "        transvel(root, 0)\n",
    "\n",
    "        for i in range(1, len(result), 2):\n",
    "            result[i] = result[i][::-1]\n",
    "\n",
    "        return result"
   ]
  },
  {
   "cell_type": "markdown",
   "metadata": {},
   "source": [
    "### 队列法"
   ]
  },
  {
   "cell_type": "code",
   "execution_count": 2,
   "metadata": {},
   "outputs": [],
   "source": [
    "class Solution(object):\n",
    "    def levelOrder(self, root):\n",
    "        q = deque()\n",
    "        result = []\n",
    "        if root == None:\n",
    "            return result\n",
    "        q = deque([root])\n",
    "        j = 0\n",
    "        while q:\n",
    "            size = len(q)\n",
    "            path = []\n",
    "            for _ in range(size):\n",
    "                cur = q.popleft()\n",
    "                path.append(cur.val)\n",
    "                if cur.left:\n",
    "                    q.append(cur.left)\n",
    "                if cur.right:\n",
    "                    q.append(cur.right)\n",
    "            if j % 2 == 1:\n",
    "                result.append(path[::-1])\n",
    "            else:\n",
    "                result.append(path)\n",
    "            j += 1\n",
    "        return result\n",
    "            "
   ]
  }
 ],
 "metadata": {
  "kernelspec": {
   "display_name": "Python 3",
   "language": "python",
   "name": "python3"
  },
  "language_info": {
   "codemirror_mode": {
    "name": "ipython",
    "version": 3
   },
   "file_extension": ".py",
   "mimetype": "text/x-python",
   "name": "python",
   "nbconvert_exporter": "python",
   "pygments_lexer": "ipython3",
   "version": "3.6.5"
  }
 },
 "nbformat": 4,
 "nbformat_minor": 2
}
