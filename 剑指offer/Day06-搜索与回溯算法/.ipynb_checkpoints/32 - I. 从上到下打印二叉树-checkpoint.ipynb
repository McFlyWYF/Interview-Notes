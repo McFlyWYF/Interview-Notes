{
 "cells": [
  {
   "cell_type": "markdown",
   "metadata": {},
   "source": [
    "# 32 - I. 从上到下打印二叉树"
   ]
  },
  {
   "cell_type": "markdown",
   "metadata": {},
   "source": [
    "* 从上到下打印出二叉树的每个节点，同一层的节点按照从左到右的顺序打印。"
   ]
  },
  {
   "cell_type": "markdown",
   "metadata": {},
   "source": [
    "例如:给定二叉树: `[3,9,20,null,null,15,7]`\n",
    "\n",
    "返回：`[3,9,20,15,7]`"
   ]
  },
  {
   "cell_type": "markdown",
   "metadata": {},
   "source": [
    "### 递归法"
   ]
  },
  {
   "cell_type": "code",
   "execution_count": 3,
   "metadata": {},
   "outputs": [],
   "source": [
    "class Solution(object):\n",
    "    def levelOrder(self, root):\n",
    "        \"\"\"\n",
    "        :type root: TreeNode\n",
    "        :rtype: List[int]\n",
    "        \"\"\"\n",
    "        def transvel(cur, depth):\n",
    "            if len(result) == depth:\n",
    "                result.append([])\n",
    "            result[depth].append(cur.val)\n",
    "            if cur.left:\n",
    "                transvel(cur.left,depth+1)\n",
    "            if cur.right:\n",
    "                transvel(cur.right,depth+1)\n",
    "        \n",
    "        if root == None:\n",
    "            return []\n",
    "        result = []\n",
    "        transvel(root, 0)\n",
    "        res = []\n",
    "        for i in result:\n",
    "            for j in i:\n",
    "                res.append(j)\n",
    "        return res"
   ]
  },
  {
   "cell_type": "markdown",
   "metadata": {},
   "source": [
    "### 队列法"
   ]
  },
  {
   "cell_type": "code",
   "execution_count": 4,
   "metadata": {},
   "outputs": [],
   "source": [
    "class Solution(object):\n",
    "    def levelOrder(self, root):\n",
    "        result = []\n",
    "        if root == None:\n",
    "            return result\n",
    "        q = deque([root])\n",
    "        while q:\n",
    "            size = len(q)\n",
    "            for _ in range(size):\n",
    "                cur = q.popleft()\n",
    "                result.append(cur.val)\n",
    "                if cur.left:\n",
    "                    q.append(cur.left)\n",
    "                if cur.right:\n",
    "                    q.append(cur.right)\n",
    "        return result"
   ]
  }
 ],
 "metadata": {
  "kernelspec": {
   "display_name": "Python 3",
   "language": "python",
   "name": "python3"
  },
  "language_info": {
   "codemirror_mode": {
    "name": "ipython",
    "version": 3
   },
   "file_extension": ".py",
   "mimetype": "text/x-python",
   "name": "python",
   "nbconvert_exporter": "python",
   "pygments_lexer": "ipython3",
   "version": "3.6.5"
  }
 },
 "nbformat": 4,
 "nbformat_minor": 2
}
