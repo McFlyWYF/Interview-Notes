{
 "cells": [
  {
   "cell_type": "markdown",
   "id": "f0d6901c-0ee4-4740-918d-917b8ce2bb4b",
   "metadata": {},
   "source": [
    "# 53 - I. 在排序数组中查找数字 I"
   ]
  },
  {
   "cell_type": "markdown",
   "id": "57e9a755-82a5-4a01-8c97-ca2e503de0ee",
   "metadata": {},
   "source": [
    "* 统计一个数字在排序数组中出现的次数。"
   ]
  },
  {
   "cell_type": "markdown",
   "id": "2663ff01-01ee-454b-a35c-a14c0f0dedb5",
   "metadata": {},
   "source": [
    "* 输入: nums = [5,7,7,8,8,10], target = 8\n",
    "* 输出: 2"
   ]
  },
  {
   "cell_type": "markdown",
   "id": "7acff9dd-3ac8-4efd-8d18-e8dbe11b2aa7",
   "metadata": {},
   "source": [
    "#### 二分法"
   ]
  },
  {
   "cell_type": "code",
   "execution_count": 1,
   "id": "067bbb21-3875-406e-81e1-dfed894304c5",
   "metadata": {},
   "outputs": [],
   "source": [
    "class Solution(object):\n",
    "    def search(self, nums, target):\n",
    "        \"\"\"\n",
    "        :type nums: List[int]\n",
    "        :type target: int\n",
    "        :rtype: int\n",
    "        \"\"\"\n",
    "        left = 0\n",
    "        right = len(nums) - 1\n",
    "        count = 0\n",
    "        while left < right: ############## \n",
    "            mid = (left + right) / 2\n",
    "            if nums[mid] < target:\n",
    "                left = mid + 1\n",
    "            elif nums[mid] >= target: #############\n",
    "                right = mid ##############\n",
    "\n",
    "        while(left < len(nums) and nums[left] == target):\n",
    "            count += 1\n",
    "            left += 1\n",
    "  \n",
    "        return count"
   ]
  }
 ],
 "metadata": {
  "kernelspec": {
   "display_name": "Python 3",
   "language": "python",
   "name": "python3"
  },
  "language_info": {
   "codemirror_mode": {
    "name": "ipython",
    "version": 3
   },
   "file_extension": ".py",
   "mimetype": "text/x-python",
   "name": "python",
   "nbconvert_exporter": "python",
   "pygments_lexer": "ipython3",
   "version": "3.9.1"
  }
 },
 "nbformat": 4,
 "nbformat_minor": 5
}
