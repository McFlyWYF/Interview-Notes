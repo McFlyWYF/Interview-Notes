{
 "cells": [
  {
   "cell_type": "markdown",
   "id": "034fcef3-ad00-4876-a2e5-dd823f7f8b85",
   "metadata": {},
   "source": [
    "03. 数组中重复的数字"
   ]
  },
  {
   "cell_type": "markdown",
   "id": "f6764285-97be-40c4-8384-07bbef2eca21",
   "metadata": {},
   "source": [
    "* 找出数组中重复的数字。在一个长度为 n 的数组 nums 里的所有数字都在 0～n-1 的范围内。数组中某些数字是重复的，但不知道有几个数字重复了，也不知道每个数字重复了几次。请找出数组中任意一个重复的数字。"
   ]
  },
  {
   "cell_type": "markdown",
   "id": "921379fa-78fb-4efc-9e5f-7a653db77a59",
   "metadata": {},
   "source": [
    "* 输入：[2, 3, 1, 0, 2, 5, 3]\n",
    "* 输出：2 或 3 "
   ]
  },
  {
   "cell_type": "code",
   "execution_count": 1,
   "id": "4b37ee62-f192-4be3-9461-ba7183993303",
   "metadata": {},
   "outputs": [],
   "source": [
    "class Solution(object):\n",
    "    def findRepeatNumber(self, nums):\n",
    "        # 排序\n",
    "        nums.sort()\n",
    "        for i in range(len(nums) - 1):\n",
    "            if nums[i] == nums[i + 1]:\n",
    "                return nums[i]"
   ]
  },
  {
   "cell_type": "code",
   "execution_count": 2,
   "id": "71dab573-32ba-42dc-981b-f245fb4edb5a",
   "metadata": {},
   "outputs": [],
   "source": [
    "class Solution(object):\n",
    "    def findRepeatNumber(self, nums):\n",
    "        # 哈希表\n",
    "        d = {}\n",
    "        for i in nums:\n",
    "            d[i] = 1 + d.get(i, 0)\n",
    "        for i in nums:\n",
    "            if d[i] > 1:\n",
    "                return i"
   ]
  }
 ],
 "metadata": {
  "kernelspec": {
   "display_name": "Python 3",
   "language": "python",
   "name": "python3"
  },
  "language_info": {
   "codemirror_mode": {
    "name": "ipython",
    "version": 3
   },
   "file_extension": ".py",
   "mimetype": "text/x-python",
   "name": "python",
   "nbconvert_exporter": "python",
   "pygments_lexer": "ipython3",
   "version": "3.9.1"
  }
 },
 "nbformat": 4,
 "nbformat_minor": 5
}
