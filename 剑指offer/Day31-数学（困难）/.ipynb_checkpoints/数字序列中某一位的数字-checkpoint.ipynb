{
 "cells": [
  {
   "cell_type": "markdown",
   "id": "dbc01654-e2ad-403a-b8ce-9e29886f8964",
   "metadata": {},
   "source": [
    "# 数字序列中某一位的数字"
   ]
  },
  {
   "cell_type": "markdown",
   "id": "5d12181c-f92e-4914-b682-2ba72d1c13dc",
   "metadata": {},
   "source": [
    "* 数字以`0123456789101112131415...`的格式序列化到一个字符序列中。在这个序列中，第5位（从0开始）是5，第13位是1，第19位是4等等。请写一个函数，求任意第n位对应的数字。"
   ]
  },
  {
   "cell_type": "code",
   "execution_count": 12,
   "id": "b871b88a-68a4-49dd-8cfa-1cf6795bbc6d",
   "metadata": {},
   "outputs": [],
   "source": [
    "def findNthDigit(n):\n",
    "        \"\"\"\n",
    "        :type n: int\n",
    "        :rtype: int\n",
    "        \"\"\"\n",
    "        # 位数\n",
    "        digit = 1\n",
    "        # 起始数字\n",
    "        start = 1\n",
    "        # 数字总数\n",
    "        count = 9\n",
    "        while n > count:\n",
    "            n -= count\n",
    "            digit += 1\n",
    "            start = start * 10\n",
    "            count = 9 * digit * start\n",
    "        # 求是哪个数字\n",
    "        num = start + (n - 1) // digit\n",
    "        # (n - 1) % digit是数字的第几位\n",
    "        return int(str(num)[(n - 1) % digit])"
   ]
  },
  {
   "cell_type": "code",
   "execution_count": 10,
   "id": "10d572b5-94e6-4577-83f9-f02b53f5cca4",
   "metadata": {},
   "outputs": [
    {
     "data": {
      "text/plain": [
       "0"
      ]
     },
     "execution_count": 10,
     "metadata": {},
     "output_type": "execute_result"
    }
   ],
   "source": [
    "findNthDigit(11)"
   ]
  },
  {
   "cell_type": "markdown",
   "id": "a7c81c13-fb03-415c-8d8e-d919fa51ed43",
   "metadata": {},
   "source": [
    "* 时间复杂度：$O(logN)$，所求数位n对应数字num的位数digit最大为$O(logN)$；\n",
    "* 空间复杂度：$O(logN)$，将数字num转化为字符串占用$O(logN)$的额外空间；"
   ]
  }
 ],
 "metadata": {
  "kernelspec": {
   "display_name": "Python 3",
   "language": "python",
   "name": "python3"
  },
  "language_info": {
   "codemirror_mode": {
    "name": "ipython",
    "version": 3
   },
   "file_extension": ".py",
   "mimetype": "text/x-python",
   "name": "python",
   "nbconvert_exporter": "python",
   "pygments_lexer": "ipython3",
   "version": "3.9.1"
  }
 },
 "nbformat": 4,
 "nbformat_minor": 5
}
