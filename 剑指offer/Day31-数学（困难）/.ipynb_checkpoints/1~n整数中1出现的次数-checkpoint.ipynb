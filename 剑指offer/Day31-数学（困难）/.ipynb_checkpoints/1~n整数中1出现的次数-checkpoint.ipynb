{
 "cells": [
  {
   "cell_type": "markdown",
   "id": "da9dca13-b8f5-4eb8-86d5-d290e0b3cbcd",
   "metadata": {},
   "source": [
    "# 1~n整数中1出现的次数"
   ]
  },
  {
   "cell_type": "markdown",
   "id": "a563ce7d-db17-47de-89de-bcc23a7b66cf",
   "metadata": {},
   "source": [
    "* 输入一个整数n，求1~n这n个整数的十进制表示中1出现的次数。"
   ]
  },
  {
   "cell_type": "markdown",
   "id": "93101f72-5fca-4c27-a883-bda8a8a930ee",
   "metadata": {},
   "source": [
    "* 例如：\n",
    "    * 输入：n = 12\n",
    "    * 输出：5"
   ]
  },
  {
   "cell_type": "markdown",
   "id": "72b8f07f-10a1-4f83-a6ee-ad0a4dc0a37d",
   "metadata": {},
   "source": [
    "* 从最低位开始，记作当前位，前面是最高位，后面是最低位。\n",
    "    * 如果cur = 0，出现1的次数由高位决定；\n",
    "    * 如果cur = 1，出现1的次数由高低位决定；\n",
    "    * 如果cur > 1，出现1的次数由高位决定；\n",
    "* 每次cur向前移动一位。"
   ]
  },
  {
   "cell_type": "code",
   "execution_count": 3,
   "id": "2d2dedd8-5068-4875-8933-eb12687291c6",
   "metadata": {},
   "outputs": [],
   "source": [
    "def countDigitOne(n):\n",
    "    cur = n % 10\n",
    "    low = 0\n",
    "    high = n // 10\n",
    "    digit = 1\n",
    "    res = 0\n",
    "    while high != 0 or cur != 0: # 当high和cur同时为0，说明已经越过最高位，因此跳出\n",
    "        if cur == 0:\n",
    "            res += high * dight\n",
    "        elif cur == 1:\n",
    "            res += high * digit + low + 1\n",
    "        else:\n",
    "            res += (high + 1) * digit\n",
    "        \n",
    "        low += cur * digit # 将cur加入low，组成下轮low\n",
    "        cur = high % 10 # 下轮cur是本轮high的最低位\n",
    "        high //= 10 # 将本轮high最低位删除，得到下轮high\n",
    "        digit *= 10 # 位因子每轮 x 10\n",
    "        \n",
    "    return res"
   ]
  },
  {
   "cell_type": "code",
   "execution_count": 4,
   "id": "c79410e9-5f96-4fa6-b28b-2ea74936f4e9",
   "metadata": {},
   "outputs": [
    {
     "data": {
      "text/plain": [
       "5"
      ]
     },
     "execution_count": 4,
     "metadata": {},
     "output_type": "execute_result"
    }
   ],
   "source": [
    "countDigitOne(12)"
   ]
  },
  {
   "cell_type": "markdown",
   "id": "0a06f5f4-d0d5-4850-ac7b-aa9cb20e8dd3",
   "metadata": {},
   "source": [
    "* 时间复杂度：$O(log_{10}n)$\n",
    "* 空间复杂度：$O(1)$"
   ]
  }
 ],
 "metadata": {
  "kernelspec": {
   "display_name": "Python 3",
   "language": "python",
   "name": "python3"
  },
  "language_info": {
   "codemirror_mode": {
    "name": "ipython",
    "version": 3
   },
   "file_extension": ".py",
   "mimetype": "text/x-python",
   "name": "python",
   "nbconvert_exporter": "python",
   "pygments_lexer": "ipython3",
   "version": "3.9.1"
  }
 },
 "nbformat": 4,
 "nbformat_minor": 5
}
