{
 "cells": [
  {
   "cell_type": "markdown",
   "id": "b008c2be-4d0f-4b46-9164-7fed08944824",
   "metadata": {},
   "source": [
    "# II-剪绳子II"
   ]
  },
  {
   "cell_type": "markdown",
   "id": "8dc756d2-25a0-453c-8572-7aff5e76b50f",
   "metadata": {},
   "source": [
    "* 给你一根长度为n的绳子，请把绳子剪成整数长度的m段，每段绳子的长度记为`k[0],k[1]...k[m-1]`。请问`k[0]*k[1]*...*k[m-1]`可能的最大乘积是多少？"
   ]
  },
  {
   "cell_type": "code",
   "execution_count": 15,
   "id": "55d912cc-cfb1-4208-9325-0661954411e4",
   "metadata": {},
   "outputs": [],
   "source": [
    "def cuttingRope(n):\n",
    "    \"\"\"\n",
    "    :type n: int\n",
    "    :rtype: int\n",
    "    \"\"\"\n",
    "    if n <= 3:\n",
    "        return n - 1\n",
    "    b = n % 3\n",
    "    if b == 0:\n",
    "        return int(pow(3, n // 3) % 1000000007)\n",
    "    if b == 1:\n",
    "        return int((pow(3, n // 3 - 1) * 4) % 1000000007)\n",
    "    if b == 2:\n",
    "        return int((pow(3, n // 3) * 2) % 1000000007)"
   ]
  },
  {
   "cell_type": "code",
   "execution_count": 16,
   "id": "492fe8a6-033d-4b51-85a9-597aac4afb4e",
   "metadata": {},
   "outputs": [
    {
     "data": {
      "text/plain": [
       "953271190"
      ]
     },
     "execution_count": 16,
     "metadata": {},
     "output_type": "execute_result"
    }
   ],
   "source": [
    "cuttingRope(120)"
   ]
  },
  {
   "cell_type": "markdown",
   "id": "c512514a-13a0-4230-8f73-d25a6690cc50",
   "metadata": {},
   "source": [
    "* 时间复杂度：$O(1)$\n",
    "* 空间复杂度：$O(1)$"
   ]
  }
 ],
 "metadata": {
  "kernelspec": {
   "display_name": "Python 3",
   "language": "python",
   "name": "python3"
  },
  "language_info": {
   "codemirror_mode": {
    "name": "ipython",
    "version": 3
   },
   "file_extension": ".py",
   "mimetype": "text/x-python",
   "name": "python",
   "nbconvert_exporter": "python",
   "pygments_lexer": "ipython3",
   "version": "3.9.1"
  }
 },
 "nbformat": 4,
 "nbformat_minor": 5
}
