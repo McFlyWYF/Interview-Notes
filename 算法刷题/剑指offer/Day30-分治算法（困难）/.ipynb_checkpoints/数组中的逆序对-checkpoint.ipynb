{
 "cells": [
  {
   "cell_type": "markdown",
   "id": "b6ad22ef-fa41-45f7-af9e-3fd315017ccb",
   "metadata": {},
   "source": [
    "# 51.数组中的逆序对"
   ]
  },
  {
   "cell_type": "markdown",
   "id": "327b1a6e-a4ff-4867-9206-a0a5bc9a2462",
   "metadata": {},
   "source": [
    "* 在数组中的两个数字，如果前面一个数字大于后面的数字，则这两个数字组成一个逆序对。输入一个数组，求出这个数组中的逆序对的总数。"
   ]
  },
  {
   "cell_type": "markdown",
   "id": "3d6a00b6-1d3f-44b8-b3c1-972dc57fbf4d",
   "metadata": {},
   "source": [
    "* 例如：\n",
    "    * 输入：`[7,5,6,4]`\n",
    "    * 输出：5"
   ]
  },
  {
   "cell_type": "markdown",
   "id": "460fafb8-e639-4c75-92ad-240558bc061e",
   "metadata": {},
   "source": [
    "#### 解题思路"
   ]
  },
  {
   "cell_type": "markdown",
   "id": "fa30169d-954b-44d8-b6c8-b040f4707623",
   "metadata": {},
   "source": [
    "* 和归并排序思路一样，不断将数组从中点位置分解，划分到子数组长度为1时，开始向上合并。在合并的过程中，[左子数组-末尾元素] > 右子数组当前元素，则构成了逆序对。"
   ]
  },
  {
   "cell_type": "markdown",
   "id": "1549df9b-ff2f-49a8-91fe-08ebb2039df4",
   "metadata": {},
   "source": [
    "* 如果左子数组当前元素-末尾元素大于右子数组当前元素，则逆序对增加，右子数组当前元素填入排序数组，右子数组后移一位，继续比较；\n",
    "* 如果左子数组当前元素小于右子数组当前元素，左子数组当前元素插入排序数组，左子数组后移一位，继续比较；"
   ]
  },
  {
   "cell_type": "markdown",
   "id": "e3c3a04e-274c-40fe-9eab-64475d8e6a1f",
   "metadata": {},
   "source": [
    "##### 终止条件\n",
    "* 当l >= r时，代表子数组长度为1，终止划分；\n",
    "\n",
    "##### 递归划分\n",
    "* 计算数组中点m，递归划分左子数组merge_sort(l,m)和右子数组merge_sort(m + 1, r)；\n",
    "\n",
    "##### 合并与逆序对统计\n",
    "* 暂存数组nums闭区间[i,r]内的元素至辅助数组tmp；\n",
    "* 循环合并：设置双指针分别指向左/右子数组的首元素；\n",
    "    * 当i = m+1时：代表左子数组已合并完，因此添加右子数组当前元素tmp[j]，执行j + 1；\n",
    "    * 当j = r+1时：代表右子数组已合并完，因此添加左子数组当前元素tmp[i]，执行i + 1；\n",
    "    * 否则，当tmp[i] <= tmp[j]时：添加左子数组当前元素tmp[i]，执行i + 1；\n",
    "    * 否则，当tmp[i] > tmp[j]时：添加右子数组当前元素tmp[j]，执行j + 1；此时构成m - i + 1个逆序对，添加至res；\n",
    "\n",
    "##### 返回值\n",
    "* 返回逆序对总数res。"
   ]
  },
  {
   "cell_type": "code",
   "execution_count": 5,
   "id": "845543d1-3372-416a-ab7e-ea4e6046e21b",
   "metadata": {},
   "outputs": [],
   "source": [
    "class Solution(object):\n",
    "    def reversePairs(self, nums):\n",
    "        \"\"\"\n",
    "        :type nums: List[int]\n",
    "        :rtype: int\n",
    "        \"\"\"\n",
    "        def merge_sort(l, r):\n",
    "            # 终止条件\n",
    "            if l >= r:\n",
    "                return 0\n",
    "            # 递归划分\n",
    "            m = (l + r) // 2\n",
    "            res = merge_sort(l, m) + merge_sort(m + 1, r)\n",
    "            # 合并阶段\n",
    "            i, j = l, m + 1\n",
    "            tmp[l:r + 1] = nums[l:r + 1]\n",
    "            for k in range(l, r + 1):\n",
    "                if i == m + 1:\n",
    "                    nums[k] = tmp[j]\n",
    "                    j += 1\n",
    "                elif j == r + 1 or tmp[i] <= tmp[j]:\n",
    "                    nums[k] = tmp[i]\n",
    "                    i += 1\n",
    "                else:\n",
    "                    nums[k] = tmp[j]\n",
    "                    j += 1\n",
    "                    res += m - i + 1 # 统计逆序对\n",
    "            return res\n",
    "        tmp = [0] * len(nums)\n",
    "        return merge_sort(0, len(nums) - 1)"
   ]
  },
  {
   "cell_type": "markdown",
   "id": "429ec910-b192-4d05-8d80-256348744ffb",
   "metadata": {},
   "source": [
    "* 时间复杂度：$O(NlogN)$\n",
    "* 空间复杂度：$O(N)$"
   ]
  }
 ],
 "metadata": {
  "kernelspec": {
   "display_name": "Python 3",
   "language": "python",
   "name": "python3"
  },
  "language_info": {
   "codemirror_mode": {
    "name": "ipython",
    "version": 3
   },
   "file_extension": ".py",
   "mimetype": "text/x-python",
   "name": "python",
   "nbconvert_exporter": "python",
   "pygments_lexer": "ipython3",
   "version": "3.9.1"
  }
 },
 "nbformat": 4,
 "nbformat_minor": 5
}
