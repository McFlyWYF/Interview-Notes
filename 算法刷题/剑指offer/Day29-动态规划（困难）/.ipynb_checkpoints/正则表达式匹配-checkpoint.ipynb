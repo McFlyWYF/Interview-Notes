{
 "cells": [
  {
   "cell_type": "markdown",
   "id": "a4fc441b-e95c-431b-9b75-aa13868fd4ea",
   "metadata": {},
   "source": [
    "# 正则表达式匹配"
   ]
  },
  {
   "cell_type": "markdown",
   "id": "4c9298ca-2b45-4b3b-8474-bff4f31b1eeb",
   "metadata": {},
   "source": [
    "* 请实现一个函数用来匹配包含'.'和'\\*'的正则表达式。模式中的字符'.'表示任意一个字符，而'\\*'表示它前面的字符可以出现任意次（含0次）。在本题中，匹配是指字符串的所有字符匹配整个模式。例如，字符串\"aaa\"与模式\"a.a\"和\"ab\\*ac\\*a\"匹配，但与\"aa.a\"和\"ab\\*a\"均不匹配。"
   ]
  },
  {
   "cell_type": "markdown",
   "id": "621aa2d2-acdf-4f51-a8dc-4122905dde18",
   "metadata": {},
   "source": [
    "### 解题思路"
   ]
  },
  {
   "cell_type": "markdown",
   "id": "fbe43abd-6db5-4d18-a838-c377392f78b1",
   "metadata": {},
   "source": [
    "* 将整个模式串和主串的每个字符进行匹配，也就是遍历$mxn$次。"
   ]
  },
  {
   "cell_type": "markdown",
   "id": "f5edbe8b-1f5a-4e2b-b140-960ad5b98688",
   "metadata": {},
   "source": [
    "##### 状态定义：\n",
    "* dp[i][j]代表字符串s的前i个字符和p的前j个字符能否匹配。\n",
    "\n",
    "##### 转移方程：\n",
    "* 初始化\n",
    "    * dp[0][0]代表的是空字符的状态，初始化为true。\n",
    "    * dp[0][j] = dp[0][j-2] and p[j - 1] = '*'，p的偶数位为‘*’时才匹配。\n",
    "* 当p[j-1]='*'时，dp[i][j]在以下任一情况为true时等于true：\n",
    "    * dp[i][j - 2]:将字符p[j-2]看作出现0次；\n",
    "    * dp[i-1][j] and s[i-1] = p[j - 2]:让字符p[j-2]多出现1次；\n",
    "    * dp[i-1][j] and p[j-2] = '.':让字符'.'多出现1次；\n",
    "* 当p[j-1] $\\ne$ '*'时：\n",
    "    * dp[i-1][j-1] and s[i-1] = p[j-1]：让字符p[j-1]多出现1次；\n",
    "    * dp[i-1][j-1] and p[j-1]='.'：将字符'.'看作字符s[i-1]；\n",
    "\n",
    "##### 返回值：\n",
    "* 返回dp右下角的值。"
   ]
  },
  {
   "cell_type": "code",
   "execution_count": 4,
   "id": "d06100f2-9c94-49f5-b0ba-0e5b81d9ac72",
   "metadata": {},
   "outputs": [],
   "source": [
    "class Solution(object):\n",
    "    def isMatch(self, s, p):\n",
    "        \"\"\"\n",
    "        :type s: str\n",
    "        :type p: str\n",
    "        :rtype: bool\n",
    "        \"\"\"\n",
    "        dp = [[False] * (len(p) + 1) for i in range(len(s) + 1)]\n",
    "        dp[0][0] = True\n",
    "        # 初始化首行\n",
    "        for j in range(2, len(p) + 1, 2):\n",
    "            dp[0][j] = dp[0][j - 2] and p[j - 1] == '*'\n",
    "        # 遍历\n",
    "        for i in range(1, len(s) + 1):\n",
    "            for j in range(1, len(p) + 1):\n",
    "                if p[j - 1] == '*':\n",
    "                    # 出现0次（是*）\n",
    "                    if dp[i][j - 2]:\n",
    "                        dp[i][j] = True\n",
    "                    # 让字符p[j-2]多出现1次\n",
    "                    elif dp[i-1][j] and s[i - 1] == p[j - 2]:\n",
    "                        dp[i][j] = True\n",
    "                    # 让字符'.'多出现1次（.后面是*）                    \n",
    "                    elif dp[i-1][j] and p[j-2]=='.':\n",
    "                        dp[i][j] = True\n",
    "                elif p[j - 1] != '*':\n",
    "                    # 让字符p[j-1]多出现1次（两个字符相等）\n",
    "                    if dp[i-1][j-1] and s[i-1] == p[j-1]:\n",
    "                        dp[i][j]=True\n",
    "                    # 字符'.'看作字符s[i-1]（是.)\n",
    "                    elif dp[i-1][j-1] and p[j-1] == '.':\n",
    "                        dp[i][j] = True\n",
    "\n",
    "        return dp[-1][-1]"
   ]
  },
  {
   "cell_type": "markdown",
   "id": "56aa504b-6d42-45c7-b234-afdc6f6d2609",
   "metadata": {},
   "source": [
    "* 时间复杂度：$O(MN)$\n",
    "* 空间复杂度：$O(MN)$"
   ]
  }
 ],
 "metadata": {
  "kernelspec": {
   "display_name": "Python 3",
   "language": "python",
   "name": "python3"
  },
  "language_info": {
   "codemirror_mode": {
    "name": "ipython",
    "version": 3
   },
   "file_extension": ".py",
   "mimetype": "text/x-python",
   "name": "python",
   "nbconvert_exporter": "python",
   "pygments_lexer": "ipython3",
   "version": "3.9.1"
  }
 },
 "nbformat": 4,
 "nbformat_minor": 5
}
