{
 "cells": [
  {
   "cell_type": "markdown",
   "id": "7f4cc4b0-7fc2-4492-b8d2-a024e8769e8f",
   "metadata": {},
   "source": [
    "# 柠檬水找零"
   ]
  },
  {
   "cell_type": "markdown",
   "id": "796a7239-608a-445a-994e-0e4d0ba67ab5",
   "metadata": {},
   "source": [
    "### 在柠檬水摊上，每一杯柠檬水的售价为5美元。顾客排队购买你的产品，一次购买一杯。每位顾客只买一杯柠檬水，然后想你付5美元，10美元，20美元。你必须给每位顾客正确找零，也就是说净交易是每位顾客向你支付5美元。一开始手头没有任何零钱，如果能给每位顾客正确找零，返回true，否则返回false。"
   ]
  },
  {
   "cell_type": "markdown",
   "id": "0b90a9b2-ccbd-4ed4-b06f-7e3a024bcc22",
   "metadata": {},
   "source": [
    "* 例如：\n",
    "    * 输入：[5,5,5,10,20]\n",
    "    * 输出：true"
   ]
  },
  {
   "cell_type": "code",
   "execution_count": 51,
   "id": "45e32a02-8273-47d3-a954-b1f471d7842d",
   "metadata": {},
   "outputs": [],
   "source": [
    "def solve(bills):\n",
    "    if bills[0] == 10 or bills[0] == 20:\n",
    "        return False\n",
    "        \n",
    "    count = [0,0,0]\n",
    "    for i in range(len(bills)):\n",
    "        # 情况1；账单是5，直接收下\n",
    "        if bills[i] == 5:\n",
    "            count[0] += 1\n",
    "        \n",
    "        # 情况2：账单是10，消耗一个5，增加一个10，判断10是否大于等于1\n",
    "        elif bills[i] == 10 and count[0] >= 1:\n",
    "            count[1] += 1\n",
    "            count[0] -= 1\n",
    "        # 情况3:账单是20，优先消耗一个10和一个5.\n",
    "        elif bills[i] == 20 and count[0] >= 1 and count[1] >= 1:\n",
    "            count[2] += 1\n",
    "            count[0] -= 1\n",
    "            count[1] -= 1\n",
    "        # 情况3:账单是20，如果不够，消耗三个5\n",
    "        elif bills[i] == 20 and count[0] >= 3 and count[1] < 1:\n",
    "            count[2] += 1\n",
    "            count[0] -= 3\n",
    "        else:\n",
    "            return False\n",
    "        \n",
    "    return True"
   ]
  },
  {
   "cell_type": "markdown",
   "id": "0c1f0e94-2b81-454a-a471-76f50bca17fd",
   "metadata": {},
   "source": [
    "局部最优：遇到20，优先消耗10。全局最优：完成全部账单的找零"
   ]
  },
  {
   "cell_type": "code",
   "execution_count": 52,
   "id": "fb8a1c96-1198-483c-bd35-0dfef8302def",
   "metadata": {},
   "outputs": [
    {
     "data": {
      "text/plain": [
       "False"
      ]
     },
     "execution_count": 52,
     "metadata": {},
     "output_type": "execute_result"
    }
   ],
   "source": [
    "nums = [5,5,10,10,20]\n",
    "solve(nums)"
   ]
  }
 ],
 "metadata": {
  "kernelspec": {
   "display_name": "Python 3",
   "language": "python",
   "name": "python3"
  },
  "language_info": {
   "codemirror_mode": {
    "name": "ipython",
    "version": 3
   },
   "file_extension": ".py",
   "mimetype": "text/x-python",
   "name": "python",
   "nbconvert_exporter": "python",
   "pygments_lexer": "ipython3",
   "version": "3.9.1"
  }
 },
 "nbformat": 4,
 "nbformat_minor": 5
}
