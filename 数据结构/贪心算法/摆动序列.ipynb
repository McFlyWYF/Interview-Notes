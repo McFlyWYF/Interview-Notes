{
 "cells": [
  {
   "cell_type": "markdown",
   "id": "46c09c60-928b-483e-8e57-faae3f90bd9b",
   "metadata": {},
   "source": [
    "# 摆动序列"
   ]
  },
  {
   "cell_type": "markdown",
   "id": "9ffac820-0c65-4b36-a6e8-4098cf60de60",
   "metadata": {},
   "source": [
    "### 如果连续数字之间的差严格地在正数和负数之间交替，则数字序列称为摆动序列。第一个差可能是正数或负数。少于两个元素的序列也是摆动序列。"
   ]
  },
  {
   "cell_type": "markdown",
   "id": "da2564bf-d23e-4d5f-9a4d-d39d0446a01f",
   "metadata": {},
   "source": [
    "* 直接统计峰值的数量。默认最右边有一个峰值，每次计算前后两次的差值。"
   ]
  },
  {
   "cell_type": "markdown",
   "id": "f095a1a1-60a0-452a-baec-28d239ee881d",
   "metadata": {},
   "source": [
    "* 局部最优，删除单调坡度上的节点（不包括两端的节点），那么这个坡度就可以有两个局部峰值。\n",
    "* 整体最优：整个序列有最多的局部峰值，从而达到最长摆动序列。"
   ]
  },
  {
   "cell_type": "code",
   "execution_count": 7,
   "id": "11be8f07-4b16-4484-85d8-68e964d0406d",
   "metadata": {},
   "outputs": [],
   "source": [
    "def solve(nums):\n",
    "    if len(nums) <= 1:\n",
    "        return len(nums)\n",
    "\n",
    "    prediff = 0  # 前一个差值\n",
    "    curdiff = 0  # 当前差值\n",
    "    result = 1  # 记录峰值个数，默认最右边有一个峰值\n",
    "        \n",
    "    for i in range(1, len(nums)):\n",
    "        curdiff = nums[i] - nums[i - 1]\n",
    "        if curdiff > 0 and prediff <= 0 or curdiff < 0 and prediff >= 0:\n",
    "            result += 1\n",
    "            prediff = curdiff\n",
    "    return result"
   ]
  },
  {
   "cell_type": "code",
   "execution_count": 8,
   "id": "5cfc8644-7046-4e61-8b24-4afc356a7aff",
   "metadata": {},
   "outputs": [
    {
     "data": {
      "text/plain": [
       "7"
      ]
     },
     "execution_count": 8,
     "metadata": {},
     "output_type": "execute_result"
    }
   ],
   "source": [
    "nums = [1,17,5,10,13,15,10,5,16,8]\n",
    "solve(nums)"
   ]
  },
  {
   "cell_type": "markdown",
   "id": "74640b72-ee6b-4adf-850e-792393ebd0b0",
   "metadata": {},
   "source": [
    "* 时间复杂度：$O(n)$\n",
    "* 空间复杂度：$O(1)$"
   ]
  },
  {
   "cell_type": "markdown",
   "id": "ca5d197a-fd15-47dc-9f97-da783cf4cc47",
   "metadata": {},
   "source": [
    "保持区间波动，只需要把单调区间上的元素移除就可以了。"
   ]
  }
 ],
 "metadata": {
  "kernelspec": {
   "display_name": "Python 3",
   "language": "python",
   "name": "python3"
  },
  "language_info": {
   "codemirror_mode": {
    "name": "ipython",
    "version": 3
   },
   "file_extension": ".py",
   "mimetype": "text/x-python",
   "name": "python",
   "nbconvert_exporter": "python",
   "pygments_lexer": "ipython3",
   "version": "3.9.1"
  }
 },
 "nbformat": 4,
 "nbformat_minor": 5
}
