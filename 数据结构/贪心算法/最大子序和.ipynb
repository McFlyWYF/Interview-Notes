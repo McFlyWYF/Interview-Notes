{
 "cells": [
  {
   "cell_type": "markdown",
   "id": "3e5b4d4b-fe61-4812-b8f8-e352ca80013b",
   "metadata": {},
   "source": [
    "# 最大子序和"
   ]
  },
  {
   "cell_type": "markdown",
   "id": "fcc81c33-7886-4a91-b6f0-606dcb360883",
   "metadata": {},
   "source": [
    "### 给定一个整数数组nums，找到一个具有最大和的连续子数组（子数组最少包含一个元素），返回其最大和。"
   ]
  },
  {
   "cell_type": "markdown",
   "id": "a44f6035-02ed-45ee-bf68-f83756e15abe",
   "metadata": {},
   "source": [
    "* 例如：\n",
    "    * 输入：[-2,1,-3,4,-1,2,1,-5,4]\n",
    "    * 输出：6"
   ]
  },
  {
   "cell_type": "markdown",
   "id": "ba9e3964-78f7-4d8d-a9aa-d029d5834939",
   "metadata": {},
   "source": [
    "#### 暴力法（超出时间）"
   ]
  },
  {
   "cell_type": "code",
   "execution_count": 9,
   "id": "25281ca4-6071-41ab-993f-b691a5c7d54e",
   "metadata": {},
   "outputs": [],
   "source": [
    "def maxSubArray(nums):\n",
    "    maxnum = -1000000\n",
    "    for i in range(len(nums)):\n",
    "        sums = 0\n",
    "        for j in range(i, len(nums)):\n",
    "            sums += nums[j]\n",
    "            if sums > maxnum:\n",
    "                maxnum = sums\n",
    "    return maxnum"
   ]
  },
  {
   "cell_type": "code",
   "execution_count": 10,
   "id": "1f1923f0-2541-4788-a6f6-5eef4a233fed",
   "metadata": {},
   "outputs": [
    {
     "data": {
      "text/plain": [
       "6"
      ]
     },
     "execution_count": 10,
     "metadata": {},
     "output_type": "execute_result"
    }
   ],
   "source": [
    "nums = [-2,1,-3,4,-1,2,1,-5,4]\n",
    "maxSubArray(nums)"
   ]
  },
  {
   "cell_type": "markdown",
   "id": "91734743-526b-4c34-a870-c77cc8b22e0d",
   "metadata": {},
   "source": [
    "#### 贪心算法"
   ]
  },
  {
   "cell_type": "markdown",
   "id": "6043c6bb-7e20-4e33-ba85-e1db0e5b9de0",
   "metadata": {},
   "source": [
    "* 局部最优：当前“连续和”为负数的时候立刻放弃，从下一个元素重新计算“连续和”，因为负数加上下一个元素“连续和”只会越来越小。从而推出全局最优：选取最大“连续和”。"
   ]
  },
  {
   "cell_type": "markdown",
   "id": "c4b7b53a-8937-46cc-9913-5fd760bd3202",
   "metadata": {},
   "source": [
    "* 当和为负数的时候，丢弃掉当前的元素，从下一个元素重新开始计数，重置sums=0；因为当前的负数加下一个数后会越小。"
   ]
  },
  {
   "cell_type": "code",
   "execution_count": 14,
   "id": "158855e3-8829-4598-8f53-2bbc28dce0e1",
   "metadata": {},
   "outputs": [],
   "source": [
    "def maxSubArray(nums):\n",
    "    maxnum = -1000000\n",
    "    sums = 0\n",
    "    for i in range(len(nums)):\n",
    "        sums += nums[i]\n",
    "        if sums > maxnum:\n",
    "            maxnum = sums\n",
    "        if sums <= 0:\n",
    "            sums = 0\n",
    "    return maxnum"
   ]
  },
  {
   "cell_type": "code",
   "execution_count": 16,
   "id": "f0cdb218-3e9e-48a3-8004-de5279ac3b33",
   "metadata": {},
   "outputs": [
    {
     "data": {
      "text/plain": [
       "6"
      ]
     },
     "execution_count": 16,
     "metadata": {},
     "output_type": "execute_result"
    }
   ],
   "source": [
    "nums = [-2,1,-3,4,-1,2,1,-5,4]\n",
    "maxSubArray(nums)"
   ]
  },
  {
   "cell_type": "markdown",
   "id": "1f58e79e-9fa3-47ea-af31-9ba4b89952d2",
   "metadata": {},
   "source": [
    "* 时间复杂度：$O(n)$\n",
    "* 空间复杂度：$O(1)$"
   ]
  },
  {
   "cell_type": "markdown",
   "id": "c930f47c-73e2-4d00-9549-238b82567c38",
   "metadata": {},
   "source": [
    "#### 动态规划"
   ]
  },
  {
   "cell_type": "code",
   "execution_count": null,
   "id": "bd38e97e-3695-49c5-bf9b-d8139466eb7b",
   "metadata": {},
   "outputs": [],
   "source": []
  }
 ],
 "metadata": {
  "kernelspec": {
   "display_name": "Python 3",
   "language": "python",
   "name": "python3"
  },
  "language_info": {
   "codemirror_mode": {
    "name": "ipython",
    "version": 3
   },
   "file_extension": ".py",
   "mimetype": "text/x-python",
   "name": "python",
   "nbconvert_exporter": "python",
   "pygments_lexer": "ipython3",
   "version": "3.9.1"
  }
 },
 "nbformat": 4,
 "nbformat_minor": 5
}
