{
 "cells": [
  {
   "cell_type": "markdown",
   "id": "60ba4323-41b7-45f8-9db8-72c5efff2bca",
   "metadata": {},
   "source": [
    "# 监控二叉树"
   ]
  },
  {
   "cell_type": "markdown",
   "id": "61da6e15-42d5-492b-9c9d-d9948af3c50b",
   "metadata": {},
   "source": [
    "### 给定一个二叉树，在树的节点上安装摄像头。节点上的每个摄像头都可以监视其父对象、自身及其直接子对象。计算监控树的所有节点所需的最小摄像头数量。"
   ]
  },
  {
   "cell_type": "markdown",
   "id": "99923c38-eb33-40d6-8e2e-99cd0d239443",
   "metadata": {},
   "source": [
    "* 例如：\n",
    "    * 输入：[0,0,null,0,0]\n",
    "    * 输出：1"
   ]
  },
  {
   "cell_type": "markdown",
   "id": "81fec930-8cb9-451c-881f-bcfc94cead00",
   "metadata": {},
   "source": [
    "* 把摄像头放在叶子节点的父结点位置，才能充分利用摄像头的覆盖面积。\n",
    "* 从下往上看。局部最优：让叶子节点的父结点安装摄像头，所用摄像头最少。整体最优：全部摄像头数量所用最少。"
   ]
  },
  {
   "cell_type": "markdown",
   "id": "276bbf7b-ca2e-43c8-956a-f91dc1224035",
   "metadata": {},
   "source": [
    "* 从下往上，先给叶子节点的父结点安装摄像头，然后隔两个节点放一个摄像头，直至到二叉树头节点。"
   ]
  },
  {
   "cell_type": "markdown",
   "id": "de89e874-47e0-4b43-b54b-134338adb609",
   "metadata": {},
   "source": [
    "##### 难点\n",
    "* 1.二叉树的遍历\n",
    "* 2.如何隔两个节点放一个摄像头"
   ]
  },
  {
   "cell_type": "markdown",
   "id": "85e32f95-1582-4098-abbc-8a46de8474a6",
   "metadata": {},
   "source": [
    "#### 确定遍历顺序"
   ]
  },
  {
   "cell_type": "markdown",
   "id": "3be7a77e-7ea9-40fe-9379-e85595c98f72",
   "metadata": {},
   "source": [
    "* 使用后序遍历就是左右中的顺序，可以在回溯的过程中从下到上进行推导了。"
   ]
  },
  {
   "cell_type": "markdown",
   "id": "3dd0ce7f-5562-4dc9-ac99-194f76ef8ad9",
   "metadata": {},
   "source": [
    "#### 如何隔两个节点放一个摄像头"
   ]
  },
  {
   "cell_type": "markdown",
   "id": "58db5ce2-c674-4b2f-bdb4-8817f92928ec",
   "metadata": {},
   "source": [
    "* 每个节点有三种状态：\n",
    "    * 该节点无覆盖-0\n",
    "    * 本节点有摄像头-1\n",
    "    * 本节点有覆盖-2\n",
    "* 对于空节点来说，空节点的状态只能是有覆盖，这样就可以在叶子节点的父结点放摄像头了。"
   ]
  },
  {
   "cell_type": "markdown",
   "id": "57171b9b-e1ce-4c98-8260-24e15edc597d",
   "metadata": {},
   "source": [
    "递归的终止条件就是遇到了空节点，返回2"
   ]
  },
  {
   "cell_type": "markdown",
   "id": "c29b9e98-1101-4d45-b03e-b0757344cdbb",
   "metadata": {},
   "source": [
    "* 单层逻辑处理\n",
    "    * 情况1:左右节点都有覆盖，中间节点就是无覆盖状态。\n",
    "    * 情况2:左右节点至少有一个无覆盖的情况，如果是以下情况，则中间节点放摄像头：\n",
    "        * left == 0 and right == 0\n",
    "        * left == 1 and right == 0\n",
    "        * left == 0 and right == 1\n",
    "        * left == 0 and right == 2\n",
    "        * left == 2 and right == 0\n",
    "    * 情况3:左右节点至少有一个有摄像头，如果是以下情况，父结点就是覆盖的状态；\n",
    "        * left == 1 and right == 2\n",
    "        * left == 2 and right == 1\n",
    "        * left == 1 and right == 1\n",
    "    * 情况4:头节点没有覆盖，递归结束之后，可能头节点还有一个无覆盖的情况，需要判断根节点，如果没有覆盖，result += 1."
   ]
  },
  {
   "cell_type": "code",
   "execution_count": 6,
   "id": "4090e342-dbb8-4744-9675-1fa77786c8ce",
   "metadata": {},
   "outputs": [],
   "source": [
    "def solve(root, result):\n",
    "    \n",
    "    self.result = 0\n",
    "    \n",
    "    def traversal(cur):\n",
    "        # 终止条件，遇到空节点返回2\n",
    "        if cur == None:\n",
    "            return 2\n",
    "                \n",
    "        left = traversal(cur.left)\n",
    "        right = traversal(cur.right)\n",
    "        # 情况1\n",
    "        if left == 2 and right == 2:\n",
    "            return 0\n",
    "        # 情况2\n",
    "        if left == 0 or right == 0:\n",
    "            self.result += 1\n",
    "            return 1\n",
    "        # 情况3\n",
    "        if left == 1 or right == 1:\n",
    "            return 2\n",
    "    # 情况4\n",
    "    if traversal(root) == 0:\n",
    "        self.result += 1\n",
    "    return self.result"
   ]
  },
  {
   "cell_type": "code",
   "execution_count": null,
   "id": "1c965c7b-7e77-4a1e-95ba-c4921bbc432c",
   "metadata": {},
   "outputs": [],
   "source": []
  }
 ],
 "metadata": {
  "kernelspec": {
   "display_name": "Python 3",
   "language": "python",
   "name": "python3"
  },
  "language_info": {
   "codemirror_mode": {
    "name": "ipython",
    "version": 3
   },
   "file_extension": ".py",
   "mimetype": "text/x-python",
   "name": "python",
   "nbconvert_exporter": "python",
   "pygments_lexer": "ipython3",
   "version": "3.9.1"
  }
 },
 "nbformat": 4,
 "nbformat_minor": 5
}
