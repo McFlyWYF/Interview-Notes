{
 "cells": [
  {
   "cell_type": "markdown",
   "id": "1548611f-58d2-49b6-ae8b-c843c23b53e8",
   "metadata": {},
   "source": [
    "# 跳跃游戏"
   ]
  },
  {
   "cell_type": "markdown",
   "id": "3c7a816f-10ac-4359-b52b-50406a1f4b89",
   "metadata": {},
   "source": [
    "### 给定一个非负整数数组，最初位于数组的第一个位置。数组中的每个元素代表你在该位置可以跳跃的最大长度。判断是否能够到达最后一个位置。"
   ]
  },
  {
   "cell_type": "markdown",
   "id": "e39fcc0d-6afa-4721-b209-62b9b48c646c",
   "metadata": {},
   "source": [
    "* 例如：\n",
    "    * 输入：[2,3,1,1,4]\n",
    "    * 输出：true"
   ]
  },
  {
   "cell_type": "markdown",
   "id": "045cf063-b08b-4415-b5ab-f5190ad5de09",
   "metadata": {},
   "source": [
    "* 问题转化为跳跃范围能不能覆盖终点。每次移动取最大跳跃步数，每移动一个单位，就更新最大覆盖范围。\n",
    "* 局部最优解：每次取最大跳跃步数；整体最优解：得到的最大覆盖范围是否能达到终点。"
   ]
  },
  {
   "cell_type": "code",
   "execution_count": 30,
   "id": "8da8978d-3054-4fd8-9577-812580ec6fec",
   "metadata": {},
   "outputs": [],
   "source": [
    "def solve(nums):\n",
    "    cover = 0\n",
    "    if len(nums) == 1:\n",
    "        return True\n",
    "    i = 0\n",
    "    while i <= cover:  # i只能在cover范围内跳跃\n",
    "        cover = max(i + nums[i], cover)  # 找到最大的覆盖范围\n",
    "        if cover >= len(nums) - 1:\n",
    "            return True\n",
    "        i += 1\n",
    "    return False"
   ]
  },
  {
   "cell_type": "code",
   "execution_count": 31,
   "id": "ed49fbc8-4118-4a89-9d08-f5499b11f053",
   "metadata": {},
   "outputs": [
    {
     "data": {
      "text/plain": [
       "True"
      ]
     },
     "execution_count": 31,
     "metadata": {},
     "output_type": "execute_result"
    }
   ],
   "source": [
    "nums = [2,3,1,1,4]\n",
    "solve(nums)"
   ]
  }
 ],
 "metadata": {
  "kernelspec": {
   "display_name": "Python 3",
   "language": "python",
   "name": "python3"
  },
  "language_info": {
   "codemirror_mode": {
    "name": "ipython",
    "version": 3
   },
   "file_extension": ".py",
   "mimetype": "text/x-python",
   "name": "python",
   "nbconvert_exporter": "python",
   "pygments_lexer": "ipython3",
   "version": "3.9.1"
  }
 },
 "nbformat": 4,
 "nbformat_minor": 5
}
