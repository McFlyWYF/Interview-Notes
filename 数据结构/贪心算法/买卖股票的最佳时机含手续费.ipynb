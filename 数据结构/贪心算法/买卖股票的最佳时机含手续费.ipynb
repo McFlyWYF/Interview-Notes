{
 "cells": [
  {
   "cell_type": "markdown",
   "id": "56c966a1-d2e8-4cc2-997e-3ade0c8ca484",
   "metadata": {},
   "source": [
    "# 买卖股票的最佳时机含手续费"
   ]
  },
  {
   "cell_type": "markdown",
   "id": "fa060209-cff2-4f32-924c-195efb60b6bc",
   "metadata": {},
   "source": [
    "### 给定一个整数数组prices，其中第i个元素代表了第i天的股票价格；非负整数fee代表了交易股票的手续费用。可以无限次地完成交易，但是你每笔交易都需要付手续费。如果你已经购买了一个股票，在卖出之前寄不能再继续购买股票了。返回获得利润的最大值。"
   ]
  },
  {
   "cell_type": "markdown",
   "id": "4eba2374-a552-42cb-b665-57ace4fd4755",
   "metadata": {},
   "source": [
    "* 例如：\n",
    "    * 输入：prices=[1,3,2,8,4,9], fee=2\n",
    "    * 输出：8"
   ]
  },
  {
   "cell_type": "markdown",
   "id": "07bdd190-4cf5-4259-a35f-451f66ab7cc4",
   "metadata": {},
   "source": [
    "收获利润的三种情况："
   ]
  },
  {
   "cell_type": "markdown",
   "id": "4e1ac3df-3ddf-4d75-af70-637c62b2a73a",
   "metadata": {},
   "source": [
    "* 情况一：收获利润的这一天并不是收获利润区间里的最后一天，后面要继续收获利润。\n",
    "* 情况二：前一天时收获利润区间里的最后一天，今天要重新记录最小价格了。\n",
    "* 情况三：不做操作，保持原有状态（不买，不卖）"
   ]
  },
  {
   "cell_type": "code",
   "execution_count": 34,
   "id": "ea976c77-2abf-428e-a5cb-d7ffa4af0891",
   "metadata": {},
   "outputs": [],
   "source": [
    "def solve(prices, fee):\n",
    "    result = 0\n",
    "    minprice = prices[0]\n",
    "    for i in range(1, len(prices)):\n",
    "        # 情况2\n",
    "        if prices[i] < minprice:\n",
    "            minprice = prices[i]\n",
    "        \n",
    "        # 情况3，卖则亏本\n",
    "#         if prices[i] >= minprice and prices[i] <= minprice + fee:\n",
    "#             continue\n",
    "        # 计算利润，可能有多次计算利润，最后一次集散利润才是真正的卖出\n",
    "        if prices[i] > minprice + fee:\n",
    "            result += prices[i] - minprice - fee\n",
    "            minprice = prices[i] - fee  # 情况1\n",
    "        \n",
    "    return result"
   ]
  },
  {
   "cell_type": "code",
   "execution_count": 35,
   "id": "8d8222b1-2fa9-43e1-b3c3-f47bbde1cbfa",
   "metadata": {},
   "outputs": [
    {
     "data": {
      "text/plain": [
       "6"
      ]
     },
     "execution_count": 35,
     "metadata": {},
     "output_type": "execute_result"
    }
   ],
   "source": [
    "prices = [1,3,7,5,10,3]\n",
    "fee = 3\n",
    "solve(prices, fee)"
   ]
  },
  {
   "cell_type": "markdown",
   "id": "5cfdba2f-d809-4482-ac33-3e37b91f251d",
   "metadata": {},
   "source": [
    "* 时间复杂度：$O(n)$\n",
    "* 空间复杂度：$O(1)$"
   ]
  }
 ],
 "metadata": {
  "kernelspec": {
   "display_name": "Python 3",
   "language": "python",
   "name": "python3"
  },
  "language_info": {
   "codemirror_mode": {
    "name": "ipython",
    "version": 3
   },
   "file_extension": ".py",
   "mimetype": "text/x-python",
   "name": "python",
   "nbconvert_exporter": "python",
   "pygments_lexer": "ipython3",
   "version": "3.9.1"
  }
 },
 "nbformat": 4,
 "nbformat_minor": 5
}
