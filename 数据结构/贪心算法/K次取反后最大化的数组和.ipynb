{
 "cells": [
  {
   "cell_type": "markdown",
   "id": "752178a1-7b8a-4eab-8070-a149afaea508",
   "metadata": {},
   "source": [
    "# K次取反后最大化的数组和"
   ]
  },
  {
   "cell_type": "markdown",
   "id": "04afcf1e-a8d3-42b8-b581-6a1552a325c8",
   "metadata": {},
   "source": [
    "### 给定一个整数数组A，我们只能用以下方法修改该数组：我们选择某个索引i并将A[i]替换为-A[i]，然后总共重复这个过程K次。以这种方式修改数组后，返回数组可能的最大和。"
   ]
  },
  {
   "cell_type": "markdown",
   "id": "7ebf94bc-f7c3-4114-b647-381e017fc1fe",
   "metadata": {},
   "source": [
    "* 例如：\n",
    "    * 输入：A = [4,3,2],K = 1\n",
    "    * 输出：5"
   ]
  },
  {
   "cell_type": "code",
   "execution_count": 21,
   "id": "359bfc99-fe1f-4041-b482-386428fabe4b",
   "metadata": {},
   "outputs": [],
   "source": [
    "def solve(A, k):\n",
    "    A = sorted(A, key = abs, reverse = True)\n",
    "    i = 0\n",
    "    while k > 0 and i < len(A):\n",
    "        if A[i] < 0:\n",
    "            A[i] = -A[i]\n",
    "            k -= 1\n",
    "        i += 1\n",
    "    j = len(A) - 1\n",
    "    if k % 2 != 0:  # 只需判断k是奇数或偶数即可\n",
    "        A[-1] = -A[-1]\n",
    "    return sum(A)"
   ]
  },
  {
   "cell_type": "markdown",
   "id": "1c130a27-301d-4460-9aac-c0c938dc6c41",
   "metadata": {},
   "source": [
    "局部最优：让绝对值大的负数变成正数，当前数值达到最大；整体最优：：整个数组和达到最大。"
   ]
  },
  {
   "cell_type": "markdown",
   "id": "c3758229-8d72-42a8-8461-3829af6c26db",
   "metadata": {},
   "source": [
    "* 步骤：\n",
    "    * 1.先按照绝对值从大到小排序\n",
    "    * 2.从前向后扫描，让负数变成正数，k-1\n",
    "    * 3.如果k没有用完，再反复转换最小的那个数"
   ]
  },
  {
   "cell_type": "code",
   "execution_count": 22,
   "id": "a5952d9b-6b24-498a-8e10-504882ac6c1f",
   "metadata": {},
   "outputs": [
    {
     "data": {
      "text/plain": [
       "6"
      ]
     },
     "execution_count": 22,
     "metadata": {},
     "output_type": "execute_result"
    }
   ],
   "source": [
    "A = [3, -1, 0, 2]\n",
    "solve(A, 3)"
   ]
  }
 ],
 "metadata": {
  "kernelspec": {
   "display_name": "Python 3",
   "language": "python",
   "name": "python3"
  },
  "language_info": {
   "codemirror_mode": {
    "name": "ipython",
    "version": 3
   },
   "file_extension": ".py",
   "mimetype": "text/x-python",
   "name": "python",
   "nbconvert_exporter": "python",
   "pygments_lexer": "ipython3",
   "version": "3.9.1"
  }
 },
 "nbformat": 4,
 "nbformat_minor": 5
}
