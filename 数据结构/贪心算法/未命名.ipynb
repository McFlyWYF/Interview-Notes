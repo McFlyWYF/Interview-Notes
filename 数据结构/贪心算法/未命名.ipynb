{
 "cells": [
  {
   "cell_type": "markdown",
   "id": "8c62ac40-0a34-4d7a-a149-dd2e66f10f87",
   "metadata": {},
   "source": [
    "# 时间复杂度"
   ]
  },
  {
   "cell_type": "markdown",
   "id": "1b582d64-2df0-4bc1-b682-0f012ae50c9e",
   "metadata": {},
   "source": [
    "#### 排序"
   ]
  },
  {
   "cell_type": "markdown",
   "id": "88757f21-f3e6-4332-8b9e-3ea18f39d8bc",
   "metadata": {},
   "source": [
    "$O(1)常数阶<O(logn)对数阶<O(n)线性阶<O(n^2)平方阶<O(n^3)立方阶<O(2^n)指数阶$ "
   ]
  },
  {
   "cell_type": "code",
   "execution_count": null,
   "id": "8b97f6c9-d64e-47da-a587-dceef7320dab",
   "metadata": {},
   "outputs": [],
   "source": []
  }
 ],
 "metadata": {
  "kernelspec": {
   "display_name": "Python 3",
   "language": "python",
   "name": "python3"
  },
  "language_info": {
   "codemirror_mode": {
    "name": "ipython",
    "version": 3
   },
   "file_extension": ".py",
   "mimetype": "text/x-python",
   "name": "python",
   "nbconvert_exporter": "python",
   "pygments_lexer": "ipython3",
   "version": "3.9.1"
  }
 },
 "nbformat": 4,
 "nbformat_minor": 5
}
