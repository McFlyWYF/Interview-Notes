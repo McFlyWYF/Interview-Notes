{
 "cells": [
  {
   "cell_type": "markdown",
   "id": "838746e3-a15d-45b0-bffc-724d74064aa6",
   "metadata": {},
   "source": [
    "# 分发饼干"
   ]
  },
  {
   "cell_type": "markdown",
   "id": "d7973a3f-1f4e-485a-b0d7-0f7f8d92f491",
   "metadata": {},
   "source": [
    "### 假设你是一位很棒的家长，想要给孩子们一些小饼干，但是，每个孩子最多只能给一块饼干。对每个孩子i，都有一个胃口值g[i]，这时能让孩子们满足胃口的饼干的最小尺寸；并且每块饼干j，都有一个尺寸s[j]。如果s[j]>=g[i]，我们可以将这个饼干j分配给孩子i，这个孩子会得到满足。目标是尽可能满足越多数量的孩子，并输出这个最大数值。"
   ]
  },
  {
   "cell_type": "markdown",
   "id": "b6628341-bfa2-4b35-abc2-3a3033614aa2",
   "metadata": {},
   "source": [
    "* 小饼干先喂饱胃口小的孩子，最后剩下来的都是打饼干。"
   ]
  },
  {
   "cell_type": "code",
   "execution_count": 4,
   "id": "bba1d438-bf71-48f9-8e8d-96776769e172",
   "metadata": {},
   "outputs": [],
   "source": [
    "def findChild(g, s):\n",
    "    g.sort()\n",
    "    s.sort()\n",
    "    count = 0 \n",
    "    i = 0\n",
    "    j = len(s)\n",
    "    \n",
    "    for gg in g:\n",
    "        for ss in s:\n",
    "            if ss >= gg:  # 如果满足，count+1，开始下一个孩子\n",
    "                count += 1\n",
    "                i += 1\n",
    "                break\n",
    "            else:  # 不满足则指向下一个饼干\n",
    "                i += 1\n",
    "    return count"
   ]
  },
  {
   "cell_type": "markdown",
   "id": "93ed519f-f4f3-4067-9f84-fcee375eeeab",
   "metadata": {},
   "source": [
    "* 局部最优就是大饼干喂给胃口大的，充分利用饼干尺寸喂饱一个，全局最优就是喂饱尽可能多的小孩。先将饼干数组和小孩数组排序，然后从后向前遍历小孩数组，用大饼干优先满足胃口大的，并统计小孩数量。"
   ]
  },
  {
   "cell_type": "code",
   "execution_count": 16,
   "id": "38e96d0d-ca64-4b85-924a-61c2d2ff2d84",
   "metadata": {},
   "outputs": [],
   "source": [
    "def findChild(g, s):\n",
    "    g.sort()\n",
    "    s.sort()\n",
    "    \n",
    "    i = len(s) - 1\n",
    "    count = 0\n",
    "    for gg in g[::-1]:  # 从后向前进行分配\n",
    "        if i >= 0 and s[i] >= gg:  # 满足，孩子+1，饼干下标前移一位\n",
    "            count += 1\n",
    "            i -= 1\n",
    "    return count"
   ]
  },
  {
   "cell_type": "code",
   "execution_count": 17,
   "id": "cbcd74bf-4648-4dd9-a716-db36be6ef2da",
   "metadata": {},
   "outputs": [
    {
     "data": {
      "text/plain": [
       "3"
      ]
     },
     "execution_count": 17,
     "metadata": {},
     "output_type": "execute_result"
    }
   ],
   "source": [
    "s = [1,3,5,9]\n",
    "g = [1,2,7,10]\n",
    "findChild(g, s)"
   ]
  }
 ],
 "metadata": {
  "kernelspec": {
   "display_name": "Python 3",
   "language": "python",
   "name": "python3"
  },
  "language_info": {
   "codemirror_mode": {
    "name": "ipython",
    "version": 3
   },
   "file_extension": ".py",
   "mimetype": "text/x-python",
   "name": "python",
   "nbconvert_exporter": "python",
   "pygments_lexer": "ipython3",
   "version": "3.9.1"
  }
 },
 "nbformat": 4,
 "nbformat_minor": 5
}
