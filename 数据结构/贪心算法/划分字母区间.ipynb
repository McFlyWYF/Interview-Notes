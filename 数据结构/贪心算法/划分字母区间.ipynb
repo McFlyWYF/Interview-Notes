{
 "cells": [
  {
   "cell_type": "markdown",
   "id": "cead2c74-06bc-4ebc-8534-e4a1ba3052f8",
   "metadata": {},
   "source": [
    "# 划分字母区间"
   ]
  },
  {
   "cell_type": "markdown",
   "id": "633863c6-58d0-416b-97f1-5204f2fe86b1",
   "metadata": {},
   "source": [
    "### 字符串S由小写字母组成，我们要把这个字符串划分为尽可能多的片段，同一字母最多出现在一个片段中。返回一个表示每个字符串片段的长度的列表。"
   ]
  },
  {
   "cell_type": "markdown",
   "id": "2faa0df8-da17-4d2a-8b7a-4262048ff81f",
   "metadata": {},
   "source": [
    "* 例如：\n",
    "    * 输入：S='ababcbacadefegdehijhklij'\n",
    "    * 输出：[9,7,8]"
   ]
  },
  {
   "cell_type": "markdown",
   "id": "72fc1b7a-1690-476b-9351-523c59748c17",
   "metadata": {},
   "source": [
    "* 统计每一个字符最后出现的位置\n",
    "* 从头遍历字符，并更新字符的最远出现下标，如果找到字符最远出现位置下标和当前下标相等了，则找到了分割点。"
   ]
  },
  {
   "cell_type": "code",
   "execution_count": 33,
   "id": "6826b725-a0eb-4ac7-adcb-dcf912876224",
   "metadata": {},
   "outputs": [],
   "source": [
    "def solve(s):\n",
    "    hashmap = dict()\n",
    "    maxindex = 0\n",
    "    count = 0\n",
    "    strlen = []\n",
    "    # 统计字符最后出现的位置\n",
    "    for i in range(len(s)):\n",
    "        hashmap[s[i]] = i\n",
    "    \n",
    "    # 更新最远出现下标\n",
    "    for i in range(len(s)):\n",
    "        count += 1\n",
    "        maxindex = max(maxindex, hashmap[s[i]])\n",
    "        # 如果最远下标等于当前下标，则计算字符长度\n",
    "        if maxindex == i:\n",
    "            strlen.append(count)\n",
    "            count = 0\n",
    "\n",
    "    return strlen"
   ]
  },
  {
   "cell_type": "code",
   "execution_count": 34,
   "id": "2b0bfeb4-fecc-4fd1-bd3b-306906b81a51",
   "metadata": {},
   "outputs": [
    {
     "data": {
      "text/plain": [
       "[9, 7, 8]"
      ]
     },
     "execution_count": 34,
     "metadata": {},
     "output_type": "execute_result"
    }
   ],
   "source": [
    "s = 'ababcbacadefegdehijhklij'\n",
    "solve(s)"
   ]
  },
  {
   "cell_type": "markdown",
   "id": "c2ef18b4-9e58-4a14-9025-663e4d09f80e",
   "metadata": {},
   "source": [
    "* 时间复杂度：$O(n)$\n",
    "* 空间复杂度：$O(1)$"
   ]
  }
 ],
 "metadata": {
  "kernelspec": {
   "display_name": "Python 3",
   "language": "python",
   "name": "python3"
  },
  "language_info": {
   "codemirror_mode": {
    "name": "ipython",
    "version": 3
   },
   "file_extension": ".py",
   "mimetype": "text/x-python",
   "name": "python",
   "nbconvert_exporter": "python",
   "pygments_lexer": "ipython3",
   "version": "3.9.1"
  }
 },
 "nbformat": 4,
 "nbformat_minor": 5
}
