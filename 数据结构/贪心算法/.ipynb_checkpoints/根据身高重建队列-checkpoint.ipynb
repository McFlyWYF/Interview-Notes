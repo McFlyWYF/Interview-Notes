{
 "cells": [
  {
   "cell_type": "markdown",
   "id": "cc2fae74-a126-4a0f-8431-3d68f04e3dd7",
   "metadata": {},
   "source": [
    "# 根据身高重建队列"
   ]
  },
  {
   "cell_type": "markdown",
   "id": "8e7ff5e8-c0d6-4799-aa0b-b2e59a45d6af",
   "metadata": {},
   "source": [
    "### 假设有打乱顺序的一群人站成一个队列，数组people表示队列中一些人的属性。每个people[i]=[hi,ki]表示第i个人的身高为hi，前面正好有ki个身高大于或等于hi的人。请你重新构造并返回输入数组people所表示的队列。返回的队列应该格式化为数组queue，其中queue[j]=[hj.kj]是队列中第j个人的属性。"
   ]
  },
  {
   "cell_type": "markdown",
   "id": "cd9238ac-99ad-41c7-a9ec-644b010e8da5",
   "metadata": {},
   "source": [
    "* 例如：\n",
    "    * 输入：`people=[[7,0],[4,4],[7,1],[5,0],[6,1],[5,2]]`\n",
    "    * 输出：`[[5,0],[7,0],[5,2],[6,1],[4,4],[7,1]]`"
   ]
  },
  {
   "cell_type": "markdown",
   "id": "bef3b0db-40a6-4e8e-a81e-d65611e04a38",
   "metadata": {},
   "source": [
    "* 1.先根据身高从大到小进行排序，身高相同的话k小的站前面；\n",
    "* 2.再根据第二维度为下标重新插入队列；"
   ]
  },
  {
   "cell_type": "markdown",
   "id": "069803e7-71b8-44a8-a9c0-a3e3ce47c320",
   "metadata": {},
   "source": [
    "##### 局部最优：优先按照身高高的people的k来插入；全局最优：最后都做完插入操作，整个队列满足条件；"
   ]
  },
  {
   "cell_type": "code",
   "execution_count": 48,
   "id": "e021a63d-4db5-463f-b2de-6201f907844a",
   "metadata": {},
   "outputs": [],
   "source": [
    "def solve(people):\n",
    "    # 先按第一维从大到小排序，第一维相同的按第二维升序排列\n",
    "    people.sort(key=lambda x: (x[0], -x[1]), reverse=True)\n",
    "    q = []\n",
    "    # 根据下标对其进行插入\n",
    "    for i in range(len(people)):\n",
    "        q.insert(people[i][1], people[i])\n",
    "    return q"
   ]
  },
  {
   "cell_type": "code",
   "execution_count": 49,
   "id": "13fa9564-78a7-47a9-9bd3-c60e24f4d79a",
   "metadata": {},
   "outputs": [
    {
     "data": {
      "text/plain": [
       "[[0, 0],\n",
       " [6, 0],\n",
       " [1, 1],\n",
       " [5, 1],\n",
       " [5, 2],\n",
       " [4, 3],\n",
       " [7, 0],\n",
       " [6, 2],\n",
       " [5, 5],\n",
       " [6, 3]]"
      ]
     },
     "execution_count": 49,
     "metadata": {},
     "output_type": "execute_result"
    }
   ],
   "source": [
    "people = [[0,0],[6,2],[5,5],[4,3],[5,2],[1,1],[6,0],[6,3],[7,0],[5,1]]\n",
    "solve(people)"
   ]
  }
 ],
 "metadata": {
  "kernelspec": {
   "display_name": "Python 3",
   "language": "python",
   "name": "python3"
  },
  "language_info": {
   "codemirror_mode": {
    "name": "ipython",
    "version": 3
   },
   "file_extension": ".py",
   "mimetype": "text/x-python",
   "name": "python",
   "nbconvert_exporter": "python",
   "pygments_lexer": "ipython3",
   "version": "3.9.1"
  }
 },
 "nbformat": 4,
 "nbformat_minor": 5
}
