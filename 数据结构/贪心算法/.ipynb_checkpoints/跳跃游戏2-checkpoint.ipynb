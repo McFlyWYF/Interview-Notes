{
 "cells": [
  {
   "cell_type": "markdown",
   "id": "2be84bfd-e8b9-4649-a047-ac9e509281e4",
   "metadata": {},
   "source": [
    "# 跳跃游戏2"
   ]
  },
  {
   "cell_type": "markdown",
   "id": "a6a909c0-a63f-4d92-8802-c916781f6cff",
   "metadata": {},
   "source": [
    "### 给定一个非负整数数组，最初位于数组的第一个位置。数组中的每个元素代表在该位置可以跳跃的最大长度。目标是使用最少的跳跃次数达到数组的最后一个位置。"
   ]
  },
  {
   "cell_type": "markdown",
   "id": "7a119683-0f14-442e-ac3c-b4f4db155e40",
   "metadata": {},
   "source": [
    "* 例如：\n",
    "    * 输入：[2,3,1,1,4]\n",
    "    * 输出：2"
   ]
  },
  {
   "cell_type": "markdown",
   "id": "3e0a4cbd-5867-48c3-88aa-d12dcfe4577a",
   "metadata": {},
   "source": [
    "* 从覆盖范围出发，以最小的步数增加覆盖范围，覆盖范围一旦覆盖了终点，得到的就是最小步数。"
   ]
  },
  {
   "cell_type": "markdown",
   "id": "f657114e-7611-4a63-9eea-c896419c2b1d",
   "metadata": {},
   "source": [
    "* 局部最优：当前可移动距离尽可能多走，如果还没到终点，步数再加一。整体最优：一步尽可能多走，从而达到最小步数。"
   ]
  },
  {
   "cell_type": "markdown",
   "id": "9edebc40-bb7f-4ba0-8516-f29f4da332cd",
   "metadata": {},
   "source": [
    "#### 方法一"
   ]
  },
  {
   "cell_type": "code",
   "execution_count": 37,
   "id": "62190e81-ca6e-45bf-8f98-4b0778b0b893",
   "metadata": {},
   "outputs": [],
   "source": [
    "def solve(nums):\n",
    "    if len(nums) == 1:\n",
    "        return 0\n",
    "    curdis = 0  # 当前覆盖最远距离下标\n",
    "    nextdis = 0  # 下一步覆盖最远距离下标\n",
    "    ans = 0\n",
    "    for i in range(len(nums)):\n",
    "        nextdis = max(i + nums[i], nextdis)  # 更新下一步最远距离下标\n",
    "        if i == curdis:  # 遇到当前覆盖最远距离下标\n",
    "            if curdis != len(nums) - 1:\n",
    "                ans += 1\n",
    "                curdis = nextdis  # 更新当前最远距离下标\n",
    "                if nextdis >= len(nums) - 1:  # 下一步的覆盖范围可以达到终点\n",
    "                    break\n",
    "            else:  # 当前覆盖最远距离下标是终点\n",
    "                break\n",
    "    return ans"
   ]
  },
  {
   "cell_type": "markdown",
   "id": "7dd32e35-0d87-4295-9415-b5ce25856b1e",
   "metadata": {},
   "source": [
    "到达覆盖范围最远距离下标时，如果没有到达终点，则更新最远距离下标，取覆盖范围内的最大覆盖范围，再次进行比较。"
   ]
  },
  {
   "cell_type": "code",
   "execution_count": 38,
   "id": "d090cac5-7f1d-4a44-8da8-cf172109dbc6",
   "metadata": {},
   "outputs": [
    {
     "data": {
      "text/plain": [
       "2"
      ]
     },
     "execution_count": 38,
     "metadata": {},
     "output_type": "execute_result"
    }
   ],
   "source": [
    "nums = [2,3,1,1,4]\n",
    "solve(nums)"
   ]
  },
  {
   "cell_type": "markdown",
   "id": "0eb38368-d816-4195-9e48-b4249af82e59",
   "metadata": {},
   "source": [
    "#### 方法二"
   ]
  },
  {
   "cell_type": "code",
   "execution_count": 43,
   "id": "94ea9d25-a383-45b9-adf6-e8350b3c2c82",
   "metadata": {},
   "outputs": [],
   "source": [
    "def solve(nums):\n",
    "    if len(nums) == 1:\n",
    "        return 0\n",
    "    curdis = 0\n",
    "    nextdis = 0\n",
    "    ans = 0\n",
    "    for i in range(len(nums) - 1):\n",
    "        nextdis = max(i + nums[i], nextdis)\n",
    "        if i == curdis:\n",
    "            ans += 1\n",
    "            curdis = nextdis\n",
    "    return ans"
   ]
  },
  {
   "cell_type": "markdown",
   "id": "18d1d66a-a3ca-4706-9059-f5a32a635753",
   "metadata": {},
   "source": [
    "移动下标只要遇到当前覆盖最远距离下标，直接步数加一，不考虑是不是终点的情况。让移动下标，最大只能移动到len(nums)-2的地方就可以了。"
   ]
  },
  {
   "cell_type": "code",
   "execution_count": 44,
   "id": "47d4a121-2a35-40d3-8428-deabdc425fe5",
   "metadata": {},
   "outputs": [
    {
     "data": {
      "text/plain": [
       "2"
      ]
     },
     "execution_count": 44,
     "metadata": {},
     "output_type": "execute_result"
    }
   ],
   "source": [
    "nums = [2,3,1,1,4]\n",
    "solve(nums)"
   ]
  }
 ],
 "metadata": {
  "kernelspec": {
   "display_name": "Python 3",
   "language": "python",
   "name": "python3"
  },
  "language_info": {
   "codemirror_mode": {
    "name": "ipython",
    "version": 3
   },
   "file_extension": ".py",
   "mimetype": "text/x-python",
   "name": "python",
   "nbconvert_exporter": "python",
   "pygments_lexer": "ipython3",
   "version": "3.9.1"
  }
 },
 "nbformat": 4,
 "nbformat_minor": 5
}
