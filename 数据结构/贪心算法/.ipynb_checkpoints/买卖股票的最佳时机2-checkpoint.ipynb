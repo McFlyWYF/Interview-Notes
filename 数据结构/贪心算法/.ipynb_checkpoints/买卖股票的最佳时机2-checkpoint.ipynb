{
 "cells": [
  {
   "cell_type": "markdown",
   "id": "b679279e-159f-4ba9-b8af-602a8acd9c4a",
   "metadata": {},
   "source": [
    "# 买卖股票的最佳时机2"
   ]
  },
  {
   "cell_type": "markdown",
   "id": "fe8fed4a-98cb-44f0-8485-b62d6b461f4a",
   "metadata": {},
   "source": [
    "### 给定一个数组，它的第i个元素是一支给定股票第i天的价格。设计一个算法来计算你所能获取的最大利润。你可以尽可能地完成更多的交易。"
   ]
  },
  {
   "cell_type": "markdown",
   "id": "97875db6-413e-4898-8cb5-cdd7b1cd3196",
   "metadata": {},
   "source": [
    "* 例如：\n",
    "    * 输入：[7,1,5,3,6,4]\n",
    "    * 输出：7"
   ]
  },
  {
   "cell_type": "markdown",
   "id": "6e2548ae-db4b-4b1f-a3ba-737319cefae6",
   "metadata": {},
   "source": [
    "#### 贪心算法"
   ]
  },
  {
   "cell_type": "markdown",
   "id": "5d7a05ca-e8ef-4382-83e2-7a62c4fcc38e",
   "metadata": {},
   "source": [
    "* 选一个低的买入，选个高的卖出。在统计利润的时候，只需要统计前后两天差值为正的值即可。"
   ]
  },
  {
   "cell_type": "code",
   "execution_count": 68,
   "id": "ace35083-0377-4ba4-8c1c-4d50fd0ea889",
   "metadata": {},
   "outputs": [],
   "source": [
    "def solve(nums):\n",
    "    \n",
    "    curdiff = 0  # 当前差值\n",
    "    result = 0\n",
    "    for i in range(1, len(nums)):\n",
    "        curdiff = nums[i] - nums[i - 1]\n",
    "        if curdiff > 0 :\n",
    "            result += curdiff\n",
    "    return result"
   ]
  },
  {
   "cell_type": "code",
   "execution_count": 69,
   "id": "2d80dcad-4146-4d98-b54a-45ee49cd81c6",
   "metadata": {},
   "outputs": [
    {
     "data": {
      "text/plain": [
       "7"
      ]
     },
     "execution_count": 69,
     "metadata": {},
     "output_type": "execute_result"
    }
   ],
   "source": [
    "nums = [7,1,5,3,6,4]\n",
    "solve(nums)"
   ]
  },
  {
   "cell_type": "markdown",
   "id": "6b92e6af-e8a3-4157-9aeb-bab961cb17fe",
   "metadata": {},
   "source": [
    "* 时间复杂度：$O(n)$\n",
    "* 空间复杂度：$O(1)$"
   ]
  },
  {
   "cell_type": "markdown",
   "id": "29fe19a9-cca9-421e-a192-4c5e5f8b9a46",
   "metadata": {},
   "source": [
    "#### 动态规划"
   ]
  },
  {
   "cell_type": "code",
   "execution_count": null,
   "id": "487baff3-974e-4225-94ca-0ab65dee0343",
   "metadata": {},
   "outputs": [],
   "source": []
  }
 ],
 "metadata": {
  "kernelspec": {
   "display_name": "Python 3",
   "language": "python",
   "name": "python3"
  },
  "language_info": {
   "codemirror_mode": {
    "name": "ipython",
    "version": 3
   },
   "file_extension": ".py",
   "mimetype": "text/x-python",
   "name": "python",
   "nbconvert_exporter": "python",
   "pygments_lexer": "ipython3",
   "version": "3.9.1"
  }
 },
 "nbformat": 4,
 "nbformat_minor": 5
}
