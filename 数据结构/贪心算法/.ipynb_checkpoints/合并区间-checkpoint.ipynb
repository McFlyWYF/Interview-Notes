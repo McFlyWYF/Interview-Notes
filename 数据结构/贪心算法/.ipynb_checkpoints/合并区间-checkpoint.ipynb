{
 "cells": [
  {
   "cell_type": "markdown",
   "id": "6f831f63-583c-4b87-bc0b-656d7ef44d88",
   "metadata": {},
   "source": [
    "# 合并区间"
   ]
  },
  {
   "cell_type": "markdown",
   "id": "a836f01e-9c78-47cb-9ba5-9e2048b2551a",
   "metadata": {},
   "source": [
    "### 给出一个区间的集合，请合并所有重叠的区间。"
   ]
  },
  {
   "cell_type": "markdown",
   "id": "63e738fc-0a2b-416b-97eb-c5c3dc924270",
   "metadata": {},
   "source": [
    "* 例如：\n",
    "    * 输入：intervals = [[1,3], [2,6],[8,10], [15,18]]\n",
    "    * 输出：[[1,6], [8,10], [15, 18]]"
   ]
  },
  {
   "cell_type": "markdown",
   "id": "a5644f40-3a93-4a4c-b447-cd46671b21f3",
   "metadata": {},
   "source": [
    "* 按照第一维从小到大进行排序。每次合并都取最大的右边界，整体最优：合并所有重叠的区间。"
   ]
  },
  {
   "cell_type": "code",
   "execution_count": 41,
   "id": "80e4db9e-f537-473f-9ecb-3e483e4c8e74",
   "metadata": {},
   "outputs": [],
   "source": [
    "def solve(nums):\n",
    "    comb = []\n",
    "    nums.sort()\n",
    "    comb.append(nums[0])\n",
    "    for i in range(1, len(nums)):\n",
    "        if comb[-1][1] >= nums[i][0]:\n",
    "            comb[-1][1] = max(comb[-1][1], nums[i][1])  # 更新右边界\n",
    "        else:\n",
    "            comb.append(nums[i])  # 否则添加到列表里\n",
    "       \n",
    "    return comb"
   ]
  },
  {
   "cell_type": "code",
   "execution_count": 42,
   "id": "6abb4670-7dc9-44aa-8f07-1bdbefefe197",
   "metadata": {},
   "outputs": [
    {
     "data": {
      "text/plain": [
       "[[0, 4]]"
      ]
     },
     "execution_count": 42,
     "metadata": {},
     "output_type": "execute_result"
    }
   ],
   "source": [
    "nums = [[1,4],[0,4]]\n",
    "solve(nums)"
   ]
  },
  {
   "cell_type": "markdown",
   "id": "9ccb9e92-4ef9-4c87-939a-3f36146b324e",
   "metadata": {},
   "source": [
    "* 时间复杂度：$O(nlogn)$\n",
    "* 空间复杂度：$O(1)$"
   ]
  }
 ],
 "metadata": {
  "kernelspec": {
   "display_name": "Python 3",
   "language": "python",
   "name": "python3"
  },
  "language_info": {
   "codemirror_mode": {
    "name": "ipython",
    "version": 3
   },
   "file_extension": ".py",
   "mimetype": "text/x-python",
   "name": "python",
   "nbconvert_exporter": "python",
   "pygments_lexer": "ipython3",
   "version": "3.9.1"
  }
 },
 "nbformat": 4,
 "nbformat_minor": 5
}
