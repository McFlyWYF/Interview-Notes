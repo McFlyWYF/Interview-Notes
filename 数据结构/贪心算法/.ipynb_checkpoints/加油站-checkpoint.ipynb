{
 "cells": [
  {
   "cell_type": "markdown",
   "id": "33a1ac85-abdc-4713-982c-f1cb07f5daf0",
   "metadata": {},
   "source": [
    "# 加油站"
   ]
  },
  {
   "cell_type": "markdown",
   "id": "831b6ff8-3986-45bc-addf-d532cdc38c69",
   "metadata": {},
   "source": [
    "### 在一条环路上有N个加油站，其中第i个加油站有汽油gas[i]升。你有一辆油箱容量无限的汽车，从第i个加油站开往第i+1个加油站需要消耗汽油cost[i]升。你从其中的一个加油站出发，开始时油箱为空。如果你可以绕环路行驶一周，则返回出发时加油站的编号，否则返回-1."
   ]
  },
  {
   "cell_type": "markdown",
   "id": "f44eccf6-4616-4880-97be-bf559ee3b069",
   "metadata": {},
   "source": [
    "* 例如：\n",
    "    * 输入：gas = [1,2,3,4,5]，cost = [3,4,5,1,2]\n",
    "    * 输出：3"
   ]
  },
  {
   "cell_type": "markdown",
   "id": "afff26ee-61f2-4208-aaa5-f840a7cda610",
   "metadata": {},
   "source": [
    "#### 暴力法"
   ]
  },
  {
   "cell_type": "code",
   "execution_count": 121,
   "id": "1c20c230-5496-4297-a53a-50d18637a85b",
   "metadata": {},
   "outputs": [],
   "source": [
    "def solve(gas, cost):\n",
    "    for i in range(len(cost)):\n",
    "        rest = gas[i] - cost[i]  # 剩余油量\n",
    "        index = (i + 1) % len(cost)\n",
    "        while rest > 0 and index != i:  # 模拟以i为起点行驶一圈\n",
    "            rest += gas[index] - cost[index]\n",
    "            index = (index + 1) % len(cost)\n",
    "        if rest > 0 and index == i:\n",
    "            return i\n",
    "    return -1"
   ]
  },
  {
   "cell_type": "code",
   "execution_count": 122,
   "id": "85383a80-1a0c-4ce4-bcaf-8bfff782f2ef",
   "metadata": {},
   "outputs": [
    {
     "data": {
      "text/plain": [
       "-1"
      ]
     },
     "execution_count": 122,
     "metadata": {},
     "output_type": "execute_result"
    }
   ],
   "source": [
    "gas = [4]\n",
    "cost = [5]\n",
    "solve(gas, cost)"
   ]
  },
  {
   "cell_type": "markdown",
   "id": "265b7f51-34eb-4ae0-9e9b-af94d474dc89",
   "metadata": {},
   "source": [
    "#### 贪心算法1(超时）"
   ]
  },
  {
   "cell_type": "markdown",
   "id": "5866d78b-e9a3-42dd-9f8c-55fc9aed6b45",
   "metadata": {},
   "source": [
    "* 情况1: 如果gas的总和小于cost总和，无论从哪出发，都跑不了一圈。\n",
    "* 情况2: rest[i] = gas[i]-cost[i]为一天剩余的量，i从0开始计算累加到最后一站，如果累加没有出现负数，说明从0出发，油没有断过，0就是起点。\n",
    "* 情况3：如果累加的最小值是负数，汽车就要从非0节点出发，从后向前，看哪个节点能把这个负数填平，这个填平的节点就是出发节点。"
   ]
  },
  {
   "cell_type": "code",
   "execution_count": 168,
   "id": "0b414ab4-fd5d-4a31-927c-59bdbed02813",
   "metadata": {},
   "outputs": [],
   "source": [
    "def solve(gas, cost):\n",
    "    rest = []\n",
    "    mins = 100000000\n",
    "    for i in range(len(gas)):\n",
    "        rest.append(gas[i] - cost[i])\n",
    "        if sum(rest) < mins:\n",
    "            mins = sum(rest)\n",
    "    # 情况1\n",
    "    if sum(rest) < 0:\n",
    "        return -1\n",
    "    \n",
    "    # 情况2\n",
    "    if mins >= 0:\n",
    "        return 0\n",
    "    \n",
    "    # 情况3\n",
    "    for i in range(len(rest) - 1, 0, -1):\n",
    "        mins += rest[i]\n",
    "        if mins >= 0:\n",
    "            return i\n",
    "    return -1"
   ]
  },
  {
   "cell_type": "code",
   "execution_count": 169,
   "id": "f794199e-4174-479c-8c71-904751f4e907",
   "metadata": {},
   "outputs": [
    {
     "data": {
      "text/plain": [
       "3"
      ]
     },
     "execution_count": 169,
     "metadata": {},
     "output_type": "execute_result"
    }
   ],
   "source": [
    "gas = [1,2,3,4,5]\n",
    "cost = [3,4,5,1,2]\n",
    "solve(gas, cost)"
   ]
  },
  {
   "cell_type": "markdown",
   "id": "9d19f5d3-e53b-497f-bc9b-1516ad81434b",
   "metadata": {},
   "source": [
    "#### 贪心算法2"
   ]
  },
  {
   "cell_type": "markdown",
   "id": "52f8cdc0-ddc3-4cbf-9388-d9225bcf873a",
   "metadata": {},
   "source": [
    "* 如果加油站的油量大于消耗的油量，那么一定可以跑完一圈。如果当前累加的油量差小于0，那么在该区间内就不存在起点，则起始位置从i+1算起。"
   ]
  },
  {
   "cell_type": "code",
   "execution_count": 190,
   "id": "34687b86-2a78-4fb3-8e64-9820d90376a3",
   "metadata": {},
   "outputs": [],
   "source": [
    "def solve(gas, cost):\n",
    "    index = 0\n",
    "    cursum = 0\n",
    "    totalsum = 0\n",
    "    for i in range(len(gas)):\n",
    "        cursum += gas[i] - cost[i]\n",
    "        totalsum += gas[i] - cost[i]\n",
    "        if cursum < 0:\n",
    "            cursum = 0\n",
    "            index = i + 1\n",
    "    if totalsum < 0:\n",
    "        return -1\n",
    "    return index"
   ]
  },
  {
   "cell_type": "markdown",
   "id": "82583e96-1d5e-45d0-a8bd-7900fee5e822",
   "metadata": {},
   "source": [
    "局部最优：当前累加的和小于0，起始位置是i+1，全局最优：找到可以跑一圈的起始位置。"
   ]
  },
  {
   "cell_type": "code",
   "execution_count": 191,
   "id": "de4b32b1-422e-42bb-bb86-f6f816473a70",
   "metadata": {},
   "outputs": [
    {
     "data": {
      "text/plain": [
       "3"
      ]
     },
     "execution_count": 191,
     "metadata": {},
     "output_type": "execute_result"
    }
   ],
   "source": [
    "gas = [1,2,3,4,5]\n",
    "cost = [3,4,5,1,2]\n",
    "solve(gas, cost)"
   ]
  }
 ],
 "metadata": {
  "kernelspec": {
   "display_name": "Python 3",
   "language": "python",
   "name": "python3"
  },
  "language_info": {
   "codemirror_mode": {
    "name": "ipython",
    "version": 3
   },
   "file_extension": ".py",
   "mimetype": "text/x-python",
   "name": "python",
   "nbconvert_exporter": "python",
   "pygments_lexer": "ipython3",
   "version": "3.9.1"
  }
 },
 "nbformat": 4,
 "nbformat_minor": 5
}
