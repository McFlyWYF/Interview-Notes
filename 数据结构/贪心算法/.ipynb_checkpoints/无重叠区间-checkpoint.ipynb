{
 "cells": [
  {
   "cell_type": "markdown",
   "id": "4f271a85-519a-40dd-ad75-9e699c961f4e",
   "metadata": {},
   "source": [
    "# 无重叠区间"
   ]
  },
  {
   "cell_type": "markdown",
   "id": "848f9311-e515-4a76-8c74-3a866f9e849a",
   "metadata": {},
   "source": [
    "### 给定一个区间的集合，找到需要移除区间的最小数量，使剩余区间互不重叠。"
   ]
  },
  {
   "cell_type": "markdown",
   "id": "a39b3bdf-d3ab-47be-8255-ba13e40e522e",
   "metadata": {},
   "source": [
    "* 例如：\n",
    "    * 输入：[[1,2],[2,3],[3,4],[1,3]]\n",
    "    * 输出：1"
   ]
  },
  {
   "cell_type": "markdown",
   "id": "af4bc196-43b2-4aed-806f-0965b9fa65c8",
   "metadata": {},
   "source": [
    "* 1.按照右边界排序，要从左向右遍历，右边界越小越好，优先选右边界小的。\n",
    "* 2.按照左边界排序，要从右向左遍历，做边界越大越好，优先选左边界大的。"
   ]
  },
  {
   "cell_type": "code",
   "execution_count": 15,
   "id": "25b67aff-e5eb-435b-b59e-28a5c666c80a",
   "metadata": {},
   "outputs": [],
   "source": [
    "def solve(nums):\n",
    "    nums.sort(key=lambda x : x[1])\n",
    "    result = 0\n",
    "    start = nums[0][1]\n",
    "    for i in range(1, len(nums)):\n",
    "        if nums[i][0] < start:\n",
    "            result += 1\n",
    "        else:\n",
    "            start = nums[i][1]\n",
    "    return result"
   ]
  },
  {
   "cell_type": "markdown",
   "id": "465d7694-1798-4d7d-8080-c4d553c46444",
   "metadata": {},
   "source": [
    "局部最优：优先选右边界小的区间，从左向右遍历，留给下一个区间的空间大一些，避免交叉。全局最优：选取最少的交叉空间。"
   ]
  },
  {
   "cell_type": "code",
   "execution_count": 14,
   "id": "6f04ae37-db64-482c-8b8f-662636becf8e",
   "metadata": {},
   "outputs": [
    {
     "data": {
      "text/plain": [
       "1"
      ]
     },
     "execution_count": 14,
     "metadata": {},
     "output_type": "execute_result"
    }
   ],
   "source": [
    "nums = [[1,2],[2,4],[1,3]]\n",
    "solve(nums)"
   ]
  }
 ],
 "metadata": {
  "kernelspec": {
   "display_name": "Python 3",
   "language": "python",
   "name": "python3"
  },
  "language_info": {
   "codemirror_mode": {
    "name": "ipython",
    "version": 3
   },
   "file_extension": ".py",
   "mimetype": "text/x-python",
   "name": "python",
   "nbconvert_exporter": "python",
   "pygments_lexer": "ipython3",
   "version": "3.9.1"
  }
 },
 "nbformat": 4,
 "nbformat_minor": 5
}
