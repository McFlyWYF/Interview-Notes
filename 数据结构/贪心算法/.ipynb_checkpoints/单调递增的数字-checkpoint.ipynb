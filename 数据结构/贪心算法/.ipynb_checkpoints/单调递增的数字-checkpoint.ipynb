{
 "cells": [
  {
   "cell_type": "markdown",
   "id": "c226101b-f579-4368-8b76-df2ed711e7af",
   "metadata": {},
   "source": [
    "# 单调递增的数字"
   ]
  },
  {
   "cell_type": "markdown",
   "id": "91ab8f52-b6c2-48ec-861e-83670b699543",
   "metadata": {},
   "source": [
    "### 给定一个非负整数N，找出小于或等于N的最大的整数，同时这个整数需要满足其各个位数上的数字是单调递增。"
   ]
  },
  {
   "cell_type": "markdown",
   "id": "2f25fac4-29fd-4df6-81fe-219a505956f3",
   "metadata": {},
   "source": [
    "* 例如：\n",
    "    * 输入：N=10\n",
    "    * 输出：9"
   ]
  },
  {
   "cell_type": "markdown",
   "id": "d7e32728-d996-4502-97c1-c21c0cfdd021",
   "metadata": {},
   "source": [
    "* 局部最优：遇到$s[i-1]>s[i]$的情况，让$s[i-1]-=1$，$s[i]=9$，可以保证这两位变成最大单调递增整数。全局最优：得到小于等于N的最大单调递增整数。"
   ]
  },
  {
   "cell_type": "code",
   "execution_count": 99,
   "id": "b014d1d6-c4ca-4a8b-8c02-1a8fc48e088f",
   "metadata": {},
   "outputs": [],
   "source": [
    "def solve(N):\n",
    "    if N == 0:\n",
    "        return 0\n",
    "        \n",
    "    s = []\n",
    "    # 将整数的每位保存到list中\n",
    "    while N > 0:\n",
    "        n = N % 10\n",
    "        N = N // 10\n",
    "        s.append(n)\n",
    "    s = s[::-1]\n",
    "    # flag记录的是从哪一位开始，将后面所有的位赋值为9\n",
    "    flag = len(s)\n",
    "    # 从后向前比较\n",
    "    for i in range(len(s) - 1, 0, -1):\n",
    "        if s[i - 1] > s[i]:\n",
    "            s[i - 1] -= 1\n",
    "            flag = i\n",
    "    # 对flag后每一位赋值为9\n",
    "    for i in range(flag, len(s)):\n",
    "        s[i] = 9\n",
    "    # 转换为字符串\n",
    "    ss = [str(x) for x in s]\n",
    "    # 返回整数\n",
    "    return int(''.join(ss))"
   ]
  },
  {
   "cell_type": "code",
   "execution_count": 97,
   "id": "eefa6f1f-63f3-4aef-8c73-aa7209cbbcf6",
   "metadata": {},
   "outputs": [
    {
     "data": {
      "text/plain": [
       "99"
      ]
     },
     "execution_count": 97,
     "metadata": {},
     "output_type": "execute_result"
    }
   ],
   "source": [
    "solve(100)"
   ]
  },
  {
   "cell_type": "markdown",
   "id": "c9439b58-73c4-4eac-8cb4-4a6c70add5ee",
   "metadata": {},
   "source": [
    "* 时间复杂度：$O(n)$\n",
    "* 空间复杂度：$O(n)$"
   ]
  }
 ],
 "metadata": {
  "kernelspec": {
   "display_name": "Python 3",
   "language": "python",
   "name": "python3"
  },
  "language_info": {
   "codemirror_mode": {
    "name": "ipython",
    "version": 3
   },
   "file_extension": ".py",
   "mimetype": "text/x-python",
   "name": "python",
   "nbconvert_exporter": "python",
   "pygments_lexer": "ipython3",
   "version": "3.9.1"
  }
 },
 "nbformat": 4,
 "nbformat_minor": 5
}
