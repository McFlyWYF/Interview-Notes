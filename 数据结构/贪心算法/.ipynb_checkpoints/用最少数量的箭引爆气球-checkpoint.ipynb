{
 "cells": [
  {
   "cell_type": "markdown",
   "id": "d1c00670-6bbf-42f6-8fd6-29a76550ed77",
   "metadata": {},
   "source": [
    "# 用最少数量的箭引爆气球"
   ]
  },
  {
   "cell_type": "markdown",
   "id": "b3fb73d5-c36d-4fc0-bbfc-88355165a92d",
   "metadata": {},
   "source": [
    "*  在二维空间中有许多球形的气球。对于每个气球，提供的输入是水平方向上，气球直径的开始和结束坐标。由于它是水平的，所以纵坐标并不重要，因此只需要知道开始和结束的横坐标就足够了。开始坐标总是小于结束坐标。一支弓箭可以沿着x轴从不同点完全垂直地射出。在坐标x处射出一支箭，若有一个气球的直径的开始和结束坐标为xstart，xend，且满足xstart<x<xend，则该气球会被引爆。可以射出的弓箭的数量没有限制。弓箭一旦被射出之后，可以无限地前进。我们想找到使得所有气球全部被引爆，所需的弓箭的最小数量。"
   ]
  },
  {
   "cell_type": "markdown",
   "id": "a99f7e29-e90f-45b1-8767-e112c6b456dd",
   "metadata": {},
   "source": [
    "### 给你一个数组points，其中points[i]=[xstart,xend]，返回引爆所有气球所必须射出的最小弓箭数。"
   ]
  },
  {
   "cell_type": "markdown",
   "id": "1afa5402-0e96-486b-a683-f2c7b0857ab7",
   "metadata": {},
   "source": [
    "* 例如：\n",
    "    * 输入：`points=[[10,16],[2,8],[1,6],[7,12]]`\n",
    "    * 输出：`2`"
   ]
  },
  {
   "cell_type": "code",
   "execution_count": 13,
   "id": "d36b6eec-e6da-4029-9816-fe5b2cf2501a",
   "metadata": {},
   "outputs": [],
   "source": [
    "def solve(nums):\n",
    "    nums.sort()\n",
    "    print(nums)\n",
    "    result = 1  # 不为空至少需要一支箭\n",
    "    for i in range(1, len(nums)):\n",
    "        if nums[i][0] > nums[i - 1][1]:  # 气球i和气球i-1不挨着，箭+1\n",
    "            result += 1\n",
    "        else:  # 气球i和气球i-1挨着\n",
    "            nums[i][1] = min(nums[i - 1][1], nums[i][1])  # 更新重叠气球最小右边界\n",
    "            print(nums[i][1])\n",
    "            \n",
    "    return result"
   ]
  },
  {
   "cell_type": "markdown",
   "id": "b4173e81-0312-41e1-9a37-ff9264f4b4b4",
   "metadata": {},
   "source": [
    "* 按照气球起始位置排序，从前向后遍历气球数组，如果气球重叠了，重叠气球中右边边界的最小值之前的区间一定需要一个弓箭。\n",
    "* 局部最优：当气球出现重叠，一起射，所用弓箭最少。全局最优：把所有气球射爆所有弓箭最少。"
   ]
  },
  {
   "cell_type": "markdown",
   "id": "99da666a-a944-47dc-a7c4-f7dc7e5e72c2",
   "metadata": {},
   "source": [
    "* 时间复杂度：$O(nlogn)$\n",
    "* 空间复杂度：$O(1)$"
   ]
  },
  {
   "cell_type": "code",
   "execution_count": 14,
   "id": "47579d91-b19f-417d-a9f7-39cd5db95a2b",
   "metadata": {},
   "outputs": [
    {
     "name": "stdout",
     "output_type": "stream",
     "text": [
      "[[1, 6], [2, 8], [7, 12], [10, 16]]\n",
      "6\n",
      "12\n"
     ]
    },
    {
     "data": {
      "text/plain": [
       "2"
      ]
     },
     "execution_count": 14,
     "metadata": {},
     "output_type": "execute_result"
    }
   ],
   "source": [
    "nums = [[10,16],[2,8],[1,6],[7,12]]\n",
    "solve(nums)"
   ]
  }
 ],
 "metadata": {
  "kernelspec": {
   "display_name": "Python 3",
   "language": "python",
   "name": "python3"
  },
  "language_info": {
   "codemirror_mode": {
    "name": "ipython",
    "version": 3
   },
   "file_extension": ".py",
   "mimetype": "text/x-python",
   "name": "python",
   "nbconvert_exporter": "python",
   "pygments_lexer": "ipython3",
   "version": "3.9.1"
  }
 },
 "nbformat": 4,
 "nbformat_minor": 5
}
