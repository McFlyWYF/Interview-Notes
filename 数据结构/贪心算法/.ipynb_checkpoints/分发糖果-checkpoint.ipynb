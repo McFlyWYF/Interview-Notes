{
 "cells": [
  {
   "cell_type": "markdown",
   "id": "2aef87c9-e7d6-45df-b6e5-5078e442a189",
   "metadata": {},
   "source": [
    "# 分发糖果"
   ]
  },
  {
   "cell_type": "markdown",
   "id": "5fe00551-1ba0-40c8-8950-6fc66423a6c0",
   "metadata": {},
   "source": [
    "### 老师想给孩子们分发糖果，有N个孩子站成一条直线，老师会根据每个孩子的表现，预先给他们评分。你需要按照以下要求，帮助老师给孩子分发糖果："
   ]
  },
  {
   "cell_type": "markdown",
   "id": "c7847138-8bd3-4c19-969e-fd3bd69c4319",
   "metadata": {},
   "source": [
    "* 每个孩子至少分配到1个糖果\n",
    "* 相邻的孩子中，评分高的孩子必须获得更多的糖果"
   ]
  },
  {
   "cell_type": "markdown",
   "id": "eff1bf14-2485-4208-9129-2f43a571eab6",
   "metadata": {},
   "source": [
    "### 这样下来，老师至少需要准备多少颗糖果呢？"
   ]
  },
  {
   "cell_type": "markdown",
   "id": "8231df45-cf45-41a2-ac9f-152fc094e9df",
   "metadata": {},
   "source": [
    "* 例如：\n",
    "    * 输入：[1,0,2]\n",
    "    * 输出：5"
   ]
  },
  {
   "cell_type": "code",
   "execution_count": 11,
   "id": "5e0b83ef-029f-4974-b4b7-9119b1f9d512",
   "metadata": {},
   "outputs": [],
   "source": [
    "def solve(ratings):\n",
    "    # 初始化，每个孩子得到一个糖果\n",
    "    count = [1 for i in range(len(ratings))]\n",
    "    # 从前向后遍历，比较右孩子大于左孩子的情况，大于就+1\n",
    "    for i in range(1, len(ratings)):\n",
    "        if ratings[i] > ratings[i - 1]:\n",
    "            count[i] = count[i - 1] + 1\n",
    "    # 从后向前遍历，比较左孩子大于右孩子的情况，大于就取(右孩子+1，左孩子)的最大值，保证得分高的孩子得到更多的糖果\n",
    "    for i in range(len(ratings) - 1, 0, -1):\n",
    "        if ratings[i] < ratings[i - 1]:\n",
    "            count[i - 1] = max(count[i] + 1, count[i - 1])\n",
    "    return sum(count)"
   ]
  },
  {
   "cell_type": "markdown",
   "id": "1345db24-9ada-4146-b368-5c728187a884",
   "metadata": {},
   "source": [
    "局部最优：只要右边评分比左边大，右边孩子多一个糖果；全局最优：相邻的孩子中，评分高的右孩子获得比左边孩子更过的糖果。"
   ]
  },
  {
   "cell_type": "code",
   "execution_count": 12,
   "id": "67b9861e-88b7-4c62-9c0c-a322b24ce9d0",
   "metadata": {},
   "outputs": [
    {
     "data": {
      "text/plain": [
       "4"
      ]
     },
     "execution_count": 12,
     "metadata": {},
     "output_type": "execute_result"
    }
   ],
   "source": [
    "nums = [1,2,2]\n",
    "solve(nums)"
   ]
  }
 ],
 "metadata": {
  "kernelspec": {
   "display_name": "Python 3",
   "language": "python",
   "name": "python3"
  },
  "language_info": {
   "codemirror_mode": {
    "name": "ipython",
    "version": 3
   },
   "file_extension": ".py",
   "mimetype": "text/x-python",
   "name": "python",
   "nbconvert_exporter": "python",
   "pygments_lexer": "ipython3",
   "version": "3.9.1"
  }
 },
 "nbformat": 4,
 "nbformat_minor": 5
}
