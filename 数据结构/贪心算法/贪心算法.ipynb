{
 "cells": [
  {
   "cell_type": "markdown",
   "id": "8f0909ec-7e4c-48c3-a577-9659410e606b",
   "metadata": {},
   "source": [
    "# 贪心算法"
   ]
  },
  {
   "cell_type": "markdown",
   "id": "b0752825-cf99-4cf3-bb6a-e730a76ea108",
   "metadata": {},
   "source": [
    "### 什么是贪心"
   ]
  },
  {
   "cell_type": "markdown",
   "id": "eccc7801-5c26-4ab5-9b3d-309bfc3445a3",
   "metadata": {},
   "source": [
    "* 本质是选择每一阶段的局部最优，从而达到全局最优。"
   ]
  },
  {
   "cell_type": "markdown",
   "id": "da285e84-3cb2-4676-b948-3386181aad5a",
   "metadata": {},
   "source": [
    "* 手动模拟一下可以局部最优推出整体最优，而且想不到反例，可以试一试贪心。"
   ]
  },
  {
   "cell_type": "markdown",
   "id": "6a7d42f5-ea83-41ca-8294-0ea6ae3db858",
   "metadata": {},
   "source": [
    "### 解题步骤"
   ]
  },
  {
   "cell_type": "markdown",
   "id": "e1158a5a-1600-4201-8c24-3396fd56b81f",
   "metadata": {},
   "source": [
    "* 将问题分解为若干个子问题\n",
    "* 找出适合的贪心策略\n",
    "* 求解每一个子问题的最优解\n",
    "* 将局部最优解堆叠成全局最优解"
   ]
  }
 ],
 "metadata": {
  "kernelspec": {
   "display_name": "Python 3",
   "language": "python",
   "name": "python3"
  },
  "language_info": {
   "codemirror_mode": {
    "name": "ipython",
    "version": 3
   },
   "file_extension": ".py",
   "mimetype": "text/x-python",
   "name": "python",
   "nbconvert_exporter": "python",
   "pygments_lexer": "ipython3",
   "version": "3.9.1"
  }
 },
 "nbformat": 4,
 "nbformat_minor": 5
}
