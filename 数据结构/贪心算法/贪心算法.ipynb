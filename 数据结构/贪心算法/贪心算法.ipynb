{
 "cells": [
  {
   "cell_type": "markdown",
   "id": "8f0909ec-7e4c-48c3-a577-9659410e606b",
   "metadata": {},
   "source": [
    "# 贪心算法"
   ]
  },
  {
   "cell_type": "markdown",
   "id": "b0752825-cf99-4cf3-bb6a-e730a76ea108",
   "metadata": {},
   "source": [
    "### 什么是贪心"
   ]
  },
  {
   "cell_type": "markdown",
   "id": "eccc7801-5c26-4ab5-9b3d-309bfc3445a3",
   "metadata": {},
   "source": [
    "* 本质是选择每一阶段的局部最优，从而达到全局最优。"
   ]
  },
  {
   "cell_type": "markdown",
   "id": "da285e84-3cb2-4676-b948-3386181aad5a",
   "metadata": {},
   "source": [
    "* 手动模拟一下可以局部最优推出整体最优，而且想不到反例，可以试一试贪心。"
   ]
  },
  {
   "cell_type": "markdown",
   "id": "6a7d42f5-ea83-41ca-8294-0ea6ae3db858",
   "metadata": {},
   "source": [
    "### 解题步骤"
   ]
  },
  {
   "cell_type": "markdown",
   "id": "e1158a5a-1600-4201-8c24-3396fd56b81f",
   "metadata": {},
   "source": [
    "* 将问题分解为若干个子问题\n",
    "* 找出适合的贪心策略\n",
    "* 求解每一个子问题的最优解\n",
    "* 将局部最优解堆叠成全局最优解"
   ]
  },
  {
   "cell_type": "markdown",
   "id": "c7d159cb-d0c6-407e-b171-c18070914e4d",
   "metadata": {},
   "source": [
    "#### 简单题"
   ]
  },
  {
   "cell_type": "markdown",
   "id": "d5ea938a-8986-4f36-b683-a3e839fe2ad8",
   "metadata": {},
   "source": [
    "* 分发饼干\n",
    "* K次取反后最大化的数组和\n",
    "* 柠檬水找零"
   ]
  },
  {
   "cell_type": "markdown",
   "id": "a6cf8550-adf1-41aa-83f3-bc665774d4ec",
   "metadata": {},
   "source": [
    "#### 中等题"
   ]
  },
  {
   "cell_type": "markdown",
   "id": "55720e8e-49b3-4abf-ae21-8c8c66b1cea8",
   "metadata": {},
   "source": [
    "* 摆动序列\n",
    "* 单调递增的数字"
   ]
  },
  {
   "cell_type": "markdown",
   "id": "8dcfe792-dff8-444c-85d1-7d845160b990",
   "metadata": {},
   "source": [
    "##### 解决股票问题"
   ]
  },
  {
   "cell_type": "markdown",
   "id": "353bff9f-85e1-482a-be9c-1b798455d93f",
   "metadata": {},
   "source": [
    "* 买卖股票的最佳时机II\n",
    "* 买卖股票的最佳时机含手续费"
   ]
  },
  {
   "cell_type": "markdown",
   "id": "832ca5ef-3bc8-4dd9-ab48-32bd20e1b6bf",
   "metadata": {},
   "source": [
    "##### 两个维度权衡问题"
   ]
  },
  {
   "cell_type": "markdown",
   "id": "f40af034-313c-4836-b4f7-72ef9f39e083",
   "metadata": {},
   "source": [
    "出现两个维度时，先确定一个维度，再确定另一个维度。"
   ]
  },
  {
   "cell_type": "markdown",
   "id": "2af56733-a062-4b69-bea7-310b13448bf8",
   "metadata": {},
   "source": [
    "* 分发糖果\n",
    "* 根据身高重建队列"
   ]
  },
  {
   "cell_type": "markdown",
   "id": "40af0b8d-3767-409f-a4de-74266fc3cbdf",
   "metadata": {},
   "source": [
    "#### 难题"
   ]
  },
  {
   "cell_type": "markdown",
   "id": "b7f25e50-9150-4940-bcd2-59b986642d23",
   "metadata": {},
   "source": [
    "* 跳跃游戏\n",
    "* 跳跃游戏II\n",
    "* 用最少数量的箭引爆气球\n",
    "* 无重叠区间\n",
    "* 划分字母区间\n",
    "* 合并区间"
   ]
  },
  {
   "cell_type": "markdown",
   "id": "2a2c2bc1-75ee-4ad9-a0f7-da66aae08807",
   "metadata": {},
   "source": [
    "#### 其他"
   ]
  },
  {
   "cell_type": "markdown",
   "id": "a0dbd83f-2f97-432b-bcf6-5e07f9cde84d",
   "metadata": {},
   "source": [
    "* 最大子序和\n",
    "* 加油站\n",
    "* 监控二叉树"
   ]
  }
 ],
 "metadata": {
  "kernelspec": {
   "display_name": "Python 3",
   "language": "python",
   "name": "python3"
  },
  "language_info": {
   "codemirror_mode": {
    "name": "ipython",
    "version": 3
   },
   "file_extension": ".py",
   "mimetype": "text/x-python",
   "name": "python",
   "nbconvert_exporter": "python",
   "pygments_lexer": "ipython3",
   "version": "3.9.1"
  }
 },
 "nbformat": 4,
 "nbformat_minor": 5
}
