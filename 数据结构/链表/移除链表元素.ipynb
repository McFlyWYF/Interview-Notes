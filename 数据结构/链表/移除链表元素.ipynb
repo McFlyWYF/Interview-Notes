{
 "cells": [
  {
   "cell_type": "markdown",
   "id": "28799918-4ac9-4a7c-8f25-437aa51a7cc8",
   "metadata": {},
   "source": [
    "### 1.移除链表元素（203）"
   ]
  },
  {
   "cell_type": "markdown",
   "id": "183815c2-6bc3-4dad-88e4-c59be3571df3",
   "metadata": {},
   "source": [
    "#### 删除链表中等于给定值val的所有节点。"
   ]
  },
  {
   "cell_type": "markdown",
   "id": "1d32c82d-0d48-467c-bb08-3bcf855c8e0e",
   "metadata": {},
   "source": [
    "* 链表操作的两种方式\n",
    "    * 直接使用原来的链表进行删除操作；\n",
    "    * 设置一个虚拟头节点进行删除操作；"
   ]
  },
  {
   "cell_type": "markdown",
   "id": "331bdbb2-f9e2-480a-ba62-ddcbc2c5dece",
   "metadata": {},
   "source": [
    "* 第一种：直接使用原来的链表进行移除"
   ]
  },
  {
   "cell_type": "markdown",
   "id": "fe41162b-bde8-4b40-a819-7dfa1f54241b",
   "metadata": {},
   "source": [
    "只需要将头节点向后移动一位就可以了，这样就从链表移除了一个头节点。"
   ]
  },
  {
   "cell_type": "code",
   "execution_count": 62,
   "id": "a0af57de-6600-4cfb-bdfd-8111bb30cc69",
   "metadata": {},
   "outputs": [],
   "source": [
    "def removeElements(head, val):\n",
    "    # 删除头节点\n",
    "    while head != None and head.val == val:\n",
    "        head = head.next\n",
    "    # 删除其余节点\n",
    "    p = head\n",
    "    while p != None and p.next != None:\n",
    "        if p.next.val == val:\n",
    "            p.next = p.next.next\n",
    "        else:\n",
    "            p = p.next\n",
    "    return head"
   ]
  },
  {
   "cell_type": "markdown",
   "id": "341d8a85-4c20-4492-af3a-f4b28ffda4aa",
   "metadata": {},
   "source": [
    "* 第二种：设置一个虚拟头节点，按照统一方式进行移除。"
   ]
  },
  {
   "cell_type": "markdown",
   "id": "1f8735c4-ff2a-4f76-8412-98316e398686",
   "metadata": {},
   "source": [
    "最后return头节点的时候，需要`return dummynode.next`。"
   ]
  },
  {
   "cell_type": "code",
   "execution_count": 41,
   "id": "74757be7-142d-49d5-9bbd-bcffcc111761",
   "metadata": {},
   "outputs": [],
   "source": [
    "class ListNode(object):\n",
    "    def __init__(self, val = 0):\n",
    "        self.val = val\n",
    "        self.next = None"
   ]
  },
  {
   "cell_type": "code",
   "execution_count": 65,
   "id": "8c4c472b-60f0-4d68-8db3-9292c2edf091",
   "metadata": {},
   "outputs": [],
   "source": [
    "def solve(head, val):\n",
    "    dummynode = ListNode(0)\n",
    "    dummynode.next = head\n",
    "    p = dummynode\n",
    "    \n",
    "    while p != None and p.next != None:\n",
    "        if p.next.val == val:\n",
    "            p.next = p.next.next\n",
    "        else:\n",
    "            p = p.next\n",
    "    return dummynode.next"
   ]
  },
  {
   "cell_type": "code",
   "execution_count": null,
   "id": "ddcbcfb2-72ca-4f7d-a420-bd09a8268c64",
   "metadata": {},
   "outputs": [],
   "source": []
  }
 ],
 "metadata": {
  "kernelspec": {
   "display_name": "Python 3",
   "language": "python",
   "name": "python3"
  },
  "language_info": {
   "codemirror_mode": {
    "name": "ipython",
    "version": 3
   },
   "file_extension": ".py",
   "mimetype": "text/x-python",
   "name": "python",
   "nbconvert_exporter": "python",
   "pygments_lexer": "ipython3",
   "version": "3.9.1"
  }
 },
 "nbformat": 4,
 "nbformat_minor": 5
}
