{
 "cells": [
  {
   "cell_type": "markdown",
   "metadata": {},
   "source": [
    "# 红黑树"
   ]
  },
  {
   "cell_type": "markdown",
   "metadata": {},
   "source": [
    "* 红黑树除了具备BST的特性外，还有以下特性：\n",
    "    * 每个节点都有颜色，黑色或红色\n",
    "    * 根节点是黑色的\n",
    "    * 每个叶子节点都是黑色的\n",
    "    * 如果一个节点是红色的，则它的子节点必须是黑色的\n",
    "    * 任意一个节点到该节点的每个叶子节点的所有路径上包含相同数目的黑节点"
   ]
  },
  {
   "cell_type": "markdown",
   "metadata": {},
   "source": [
    "* 性质5确保从任意一个节点出发到其叶子节点的所有路径中，最长路径长度也不会超过最短路径长度的两倍。且每个节点的左右子树中黑节点的层数是相等的，因此红黑树的黑节点是完美平衡的。"
   ]
  },
  {
   "cell_type": "markdown",
   "metadata": {},
   "source": [
    "#### 添加、删除"
   ]
  },
  {
   "cell_type": "markdown",
   "metadata": {},
   "source": [
    "* 在添加或删除红黑树中的节点之后，红黑树的结构就发生了变化，要采用旋转和节点变色两种操作让树保持红黑树的特性。"
   ]
  },
  {
   "cell_type": "markdown",
   "metadata": {},
   "source": [
    "* `\"左旋\"`：以某个结点P作为支点，其右子节点V变为旋转节点P的父节点，右子节点V的左子节点R变为旋转节点P的右子节点，左子节点F保持不变。"
   ]
  },
  {
   "cell_type": "markdown",
   "metadata": {},
   "source": [
    "* `\"右旋\"`：以某个节点P作为支点，其左子节点F变为旋转节点P的父节点，左子节点F的右子节点K变为旋转节点P的左子节点，右子节点V保持不变。"
   ]
  },
  {
   "cell_type": "markdown",
   "metadata": {},
   "source": [
    "### 红黑树节点定义"
   ]
  },
  {
   "cell_type": "code",
   "execution_count": 5,
   "metadata": {},
   "outputs": [],
   "source": [
    "class RbTreeNode():\n",
    "    def __init__(self):\n",
    "        this.color = color\n",
    "        this.left = left\n",
    "        this.right = right\n",
    "        this.parent = parent\n",
    "        this.key = key"
   ]
  },
  {
   "cell_type": "markdown",
   "metadata": {},
   "source": [
    "### 左旋操作"
   ]
  },
  {
   "cell_type": "code",
   "execution_count": 8,
   "metadata": {},
   "outputs": [],
   "source": [
    "def leftRotate(pNode):\n",
    "    pNode.right = rNode  # p的右子节点v的左子节点r变为旋转节点p的右子节点\n",
    "    if rNode != None:\n",
    "        rNode.parnet = pNode  # 修正r的parent为p\n",
    "        \n",
    "    vNode.parent = pNode.parent  # 修正v的parent为p原来的parent\n",
    "    \n",
    "    if pNode.parent == None:\n",
    "        this.mRoot = vNode  # 如果p原来就没有parent，说明p原来就是根节点。现在v要变成p的parent，则新的根节点要更新为v\n",
    "\n",
    "    else:\n",
    "        if pNode.parent.left == pNode:  # 如果p原来就有parent，则v取代p作为这个parent的左孩子或右孩子\n",
    "            pNode.parent.left = vNode\n",
    "        else:\n",
    "            pNode.parent.right = vNode\n",
    "    vNode.left = pNode  # 旋转节点p变为节点v的左孩子\n",
    "    pNode.parent = vNode  # 节点v变为旋转节点p的父节点"
   ]
  },
  {
   "cell_type": "markdown",
   "metadata": {},
   "source": [
    "### 右旋操作"
   ]
  },
  {
   "cell_type": "code",
   "execution_count": 10,
   "metadata": {},
   "outputs": [],
   "source": [
    "def rightRotate(pNode):\n",
    "    pNode.left = kNode  # p的左子节点f的右子节点k变为旋转节点p的左子节点\n",
    "    if kNode != None:\n",
    "        kNode.parnet = pNode  # 修正k的parent为p\n",
    "        \n",
    "    fNode.parent = pNode.parent  # 修正f的parent为p原来的parent\n",
    "    \n",
    "    if pNode.parent == None:\n",
    "        this.mRoot = fNode  # 如果p原来就没有parent，说明p原来就是根节点。现在f要变成p的parent，则新的根节点要更新为f\n",
    "\n",
    "    else:\n",
    "        if pNode.parent.right == pNode:  # 如果p原来就有parent，则v取代p作为这个parent的左孩子或右孩子\n",
    "            pNode.parent.right = fNode\n",
    "        else:\n",
    "            pNode.parent.left = fNode\n",
    "    fNode.right = pNode  # 旋转节点p变为节点f的右孩子\n",
    "    pNode.parent = fNode  # 节点f变为旋转节点p的父节点"
   ]
  },
  {
   "cell_type": "markdown",
   "metadata": {},
   "source": [
    "### 插入操作"
   ]
  },
  {
   "cell_type": "markdown",
   "metadata": {},
   "source": [
    "* 第一步：按照BST的节点插入过程，将节点插入。\n",
    "* 第二步：将插入的节点着色为红色，这是因为不会违背特性5，会违背特性4。\n",
    "* 第三步：通过一系列的旋转或变色操作，使之重新成为一棵红黑树。"
   ]
  },
  {
   "cell_type": "code",
   "execution_count": null,
   "metadata": {},
   "outputs": [],
   "source": []
  }
 ],
 "metadata": {
  "kernelspec": {
   "display_name": "Python 3",
   "language": "python",
   "name": "python3"
  },
  "language_info": {
   "codemirror_mode": {
    "name": "ipython",
    "version": 3
   },
   "file_extension": ".py",
   "mimetype": "text/x-python",
   "name": "python",
   "nbconvert_exporter": "python",
   "pygments_lexer": "ipython3",
   "version": "3.6.5"
  }
 },
 "nbformat": 4,
 "nbformat_minor": 5
}
