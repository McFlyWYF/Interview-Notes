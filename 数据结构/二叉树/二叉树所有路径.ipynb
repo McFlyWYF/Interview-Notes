{
 "cells": [
  {
   "cell_type": "markdown",
   "id": "4f17b4da-b9b8-4deb-9ac2-2b70f7d4b443",
   "metadata": {},
   "source": [
    "# 二叉树的所有路径"
   ]
  },
  {
   "cell_type": "markdown",
   "id": "8915c74d-add5-433a-9298-366d5956dffc",
   "metadata": {},
   "source": [
    "### 给定一个二叉树，返回所有从根节点到叶子节点到路径。"
   ]
  },
  {
   "cell_type": "markdown",
   "id": "8d59f59e-6ca6-4cf5-85fa-7a5c33131a77",
   "metadata": {},
   "source": [
    "使用前序遍历进行记录所有路径。"
   ]
  },
  {
   "cell_type": "markdown",
   "id": "40308c33-4a15-40db-98af-c8e65f436358",
   "metadata": {},
   "source": [
    "#### 递归法"
   ]
  },
  {
   "cell_type": "markdown",
   "id": "966405e6-0a8f-456d-98ef-cad6a7c0ec49",
   "metadata": {},
   "source": [
    "需要把路径记录下来，使用回溯来回退一个路径进入另一个路径。"
   ]
  },
  {
   "cell_type": "markdown",
   "id": "ef6ce659-811e-425e-8c4f-a0c4d6115c2a",
   "metadata": {},
   "source": [
    "* 终止条件：当搜索到叶子节点时，也就是当前节点到左右孩子都为空的时候。"
   ]
  },
  {
   "cell_type": "code",
   "execution_count": 23,
   "id": "b57069f1-aaaf-47e3-9e84-a5d8bb66f14f",
   "metadata": {},
   "outputs": [],
   "source": [
    "def solve(root):\n",
    "    result = []  # 保存结果\n",
    "    path = []  # 保存路径\n",
    "    if root == None:\n",
    "        return result\n",
    "    \n",
    "    def getpath(cur, path, result):\n",
    "        path.append(cur.val)  # 加入根\n",
    "        if cur.left:\n",
    "            getpath(cur.left, path, result)  # 遍历左\n",
    "            path.pop()  # 回溯\n",
    "        if cur.right:\n",
    "            getpath(cur.right, path, result)  # 遍历右\n",
    "            path.pop()  # 回溯\n",
    "        if cur.left == None and cur.right == None:  # 一条路径遍历结束\n",
    "            for i in range(len(path)):\n",
    "                path[i] = str(path[i])  # 转换为字符\n",
    "            result.append('->'.join(path))\n",
    "            return\n",
    "    getpath(root, path, result)\n",
    "    return result"
   ]
  },
  {
   "cell_type": "markdown",
   "id": "796cadfb-7c24-41a4-97f4-9cea19848902",
   "metadata": {},
   "source": [
    "#### 迭代法"
   ]
  },
  {
   "cell_type": "code",
   "execution_count": 24,
   "id": "dda8aa87-459a-4403-bfa0-a55934be3ee7",
   "metadata": {},
   "outputs": [],
   "source": [
    "def solve(root):\n",
    "    if root == None:\n",
    "        return None\n",
    "    stack = [root]\n",
    "    result = []\n",
    "    pathst = [node.val]\n",
    "    while stack:\n",
    "        node = stack.pop()  # 取出节点\n",
    "        path = pathst.pop()  # 取出节点对应的路径\n",
    "        if node.right:\n",
    "            stack.append(node.right)\n",
    "            pathst.append(path + '->' + to_string(node.right.val))\n",
    "        if node.left:\n",
    "            stack.append(node.left)\n",
    "            pathst.append(path + '->' + to_string(node.left.val))\n",
    "        if node.left == None and node.right == None:\n",
    "            result.append(path)\n",
    "    return result"
   ]
  }
 ],
 "metadata": {
  "kernelspec": {
   "display_name": "Python 3",
   "language": "python",
   "name": "python3"
  },
  "language_info": {
   "codemirror_mode": {
    "name": "ipython",
    "version": 3
   },
   "file_extension": ".py",
   "mimetype": "text/x-python",
   "name": "python",
   "nbconvert_exporter": "python",
   "pygments_lexer": "ipython3",
   "version": "3.9.1"
  }
 },
 "nbformat": 4,
 "nbformat_minor": 5
}
