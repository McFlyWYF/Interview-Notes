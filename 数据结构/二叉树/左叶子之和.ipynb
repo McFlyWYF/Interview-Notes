{
 "cells": [
  {
   "cell_type": "markdown",
   "id": "13e939d3-dc59-4609-b879-a3e0f7d0788d",
   "metadata": {},
   "source": [
    "# 左叶子之和"
   ]
  },
  {
   "cell_type": "markdown",
   "id": "59708d86-5fed-4780-a74d-bbb9b5ead1cc",
   "metadata": {},
   "source": [
    "### 计算给定二叉树的所有左叶子之和。"
   ]
  },
  {
   "cell_type": "markdown",
   "id": "09dc64d8-b941-40ba-ac9e-f1d7fb87e624",
   "metadata": {},
   "source": [
    "#### 迭代法"
   ]
  },
  {
   "cell_type": "code",
   "execution_count": 4,
   "id": "99d95851-ee20-4d2d-a64d-f1573d7e88d5",
   "metadata": {},
   "outputs": [],
   "source": [
    "def solve(root):\n",
    "    if root == None:\n",
    "        return None\n",
    "    stack = [root]\n",
    "    result = []\n",
    "    while stack:\n",
    "        node = stack.pop()\n",
    "        if node.right:\n",
    "            stack.append(node.right)\n",
    "        if node.left:\n",
    "            stack.append(node.left)\n",
    "        if node.left and not node.left.left and not node.left.right:  # 该节点的左节点不为空，该节点的左节点的左节点和右节点为空\n",
    "            result.append(node.left.val)\n",
    "    return sum(result)"
   ]
  },
  {
   "cell_type": "markdown",
   "id": "afec61f0-ea2c-44e9-8891-919a1a775509",
   "metadata": {},
   "source": [
    "#### 递归法"
   ]
  },
  {
   "cell_type": "code",
   "execution_count": 5,
   "id": "09b99bfe-3950-433b-93d0-3b4317ff54b8",
   "metadata": {},
   "outputs": [],
   "source": [
    "def sumofleft(root):\n",
    "    if root == None:\n",
    "        return 0\n",
    "    leftvalue = sumofleft(root.left)  # 左\n",
    "    rightvalue = sumofleft(root.right)  # 右\n",
    "    \n",
    "    midvalue = 0\n",
    "    if root.left and not root.left.left and not root.left.right:  # 中\n",
    "        midvalue = root.left.val\n",
    "    sums = midvalue + leftvalue + rightvalue\n",
    "    return sums"
   ]
  }
 ],
 "metadata": {
  "kernelspec": {
   "display_name": "Python 3",
   "language": "python",
   "name": "python3"
  },
  "language_info": {
   "codemirror_mode": {
    "name": "ipython",
    "version": 3
   },
   "file_extension": ".py",
   "mimetype": "text/x-python",
   "name": "python",
   "nbconvert_exporter": "python",
   "pygments_lexer": "ipython3",
   "version": "3.9.1"
  }
 },
 "nbformat": 4,
 "nbformat_minor": 5
}
