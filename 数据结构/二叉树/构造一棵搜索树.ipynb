{
 "cells": [
  {
   "cell_type": "markdown",
   "id": "3c658a58-5118-490a-87a8-11366b9d7f37",
   "metadata": {},
   "source": [
    "# 构造一棵搜索树"
   ]
  },
  {
   "cell_type": "markdown",
   "id": "a5bb9816-579e-4b52-ad5e-977b9300f2c2",
   "metadata": {},
   "source": [
    "### 将一个按照升序排列的有序数组，转换为一棵高度平衡的二叉搜索树。"
   ]
  },
  {
   "cell_type": "markdown",
   "id": "52818cd9-fb7c-40f8-a781-1a4c2d456648",
   "metadata": {},
   "source": [
    "分割点就是数组中间位置的节点，其余和二叉树构造一样。答案不唯一，长度为偶数的时候，取哪一个都可以。"
   ]
  },
  {
   "cell_type": "markdown",
   "id": "6e915e65-ce1c-4054-804f-015b290330c4",
   "metadata": {},
   "source": [
    "#### 递归法"
   ]
  },
  {
   "cell_type": "code",
   "execution_count": 1,
   "id": "a6a0ad3a-cca7-4b06-b161-b2286f8b43cc",
   "metadata": {},
   "outputs": [],
   "source": [
    "def buildtree(nums):\n",
    "    n = len(nums)\n",
    "    while n > 0:\n",
    "        # 找到切割点\n",
    "        rootnode = nums[n // 2]\n",
    "        # 创建节点\n",
    "        root = TreeNode(rootnode)\n",
    "        # 找到切割索引\n",
    "        last = nums.index(rootnode)\n",
    "        # 左区间\n",
    "        leftnode = nums[:last]\n",
    "        # 右区间\n",
    "        rightnode = nums[last + 1:]\n",
    "        # 递归\n",
    "        root.left = self.sortedArrayToBST(leftnode)\n",
    "        root.right = self.sortedArrayToBST(rightnode)\n",
    "    return root"
   ]
  },
  {
   "cell_type": "markdown",
   "id": "07953760-524c-44f9-988e-703f0b250abe",
   "metadata": {},
   "source": [
    "#### 迭代法"
   ]
  },
  {
   "cell_type": "code",
   "execution_count": 9,
   "id": "35498245-7b6d-4c0f-a713-fd4cca5506fe",
   "metadata": {},
   "outputs": [],
   "source": [
    "def buildtree(nums):\n",
    "    if len(nums) == 0:\n",
    "        return None\n",
    "    root = TreeNode(0)  # 初始根节点\n",
    "    nodeque = deque()  # 放遍历的节点\n",
    "    leftque = deque()  # 放左区间的下标\n",
    "    rightque = deque()  # 放右区间的下标\n",
    "    \n",
    "    nodeque.push(root)\n",
    "    leftque.push(0)\n",
    "    rightque.push(len(nums) - 1)\n",
    "    \n",
    "    while nodeque:\n",
    "        curnode = nodeque.leftpop()\n",
    "        left = leftque.leftpop()\n",
    "        right = rightque.leftpop()\n",
    "        mid = left + ((right - left) / 2)\n",
    "        \n",
    "        curnode.val = nums[mid]\n",
    "        \n",
    "        if left <= mid - 1:\n",
    "            curnode.left = TreeNode(0)\n",
    "            nodeque.push(curnode.left)\n",
    "            leftque.push(left)\n",
    "            rightque.push(mid - 1)\n",
    "        if right >= mid + 1:\n",
    "            curnode.right = TreeNode(0)\n",
    "            nodeque.push(curnode.right)\n",
    "            leftque.push(mid + 1)\n",
    "            rightque.push(right)\n",
    "    return root"
   ]
  },
  {
   "cell_type": "code",
   "execution_count": null,
   "id": "a0d33af8-e4c6-4b89-9ef1-2559edfd3fa6",
   "metadata": {},
   "outputs": [],
   "source": []
  }
 ],
 "metadata": {
  "kernelspec": {
   "display_name": "Python 3",
   "language": "python",
   "name": "python3"
  },
  "language_info": {
   "codemirror_mode": {
    "name": "ipython",
    "version": 3
   },
   "file_extension": ".py",
   "mimetype": "text/x-python",
   "name": "python",
   "nbconvert_exporter": "python",
   "pygments_lexer": "ipython3",
   "version": "3.9.1"
  }
 },
 "nbformat": 4,
 "nbformat_minor": 5
}
