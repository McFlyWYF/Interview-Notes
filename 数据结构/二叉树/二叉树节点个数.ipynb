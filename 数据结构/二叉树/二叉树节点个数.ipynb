{
 "cells": [
  {
   "cell_type": "markdown",
   "id": "aa0627e6-02fb-4051-a417-3e29f788413d",
   "metadata": {},
   "source": [
    "# 完全二叉树的节点个数"
   ]
  },
  {
   "cell_type": "markdown",
   "id": "1a1bdce6-051c-4dd6-8749-ff92ff7fa3d5",
   "metadata": {},
   "source": [
    "### 给出一个完全二叉树，求该树的节点个数。"
   ]
  },
  {
   "cell_type": "markdown",
   "id": "e67a95c1-ee04-4504-9ddb-228f9b4e0c57",
   "metadata": {},
   "source": [
    "#### 递归法（左右根）"
   ]
  },
  {
   "cell_type": "code",
   "execution_count": 4,
   "id": "f06f0d9c-9b32-4c0a-ae5a-92418cc44a60",
   "metadata": {},
   "outputs": [],
   "source": [
    "def getnum(root):\n",
    "    if root == None:\n",
    "        return 0\n",
    "    leftnum = self.countNodes(root.left)  # 左\n",
    "    rightnum = self.countNodes(root.right)  # 右\n",
    "    return leftnum + rightnum + 1"
   ]
  },
  {
   "cell_type": "markdown",
   "id": "4f65fc26-f725-45cb-acdb-8be9021ce49b",
   "metadata": {},
   "source": [
    "#### 迭代法"
   ]
  },
  {
   "cell_type": "code",
   "execution_count": 5,
   "id": "682222ea-9ff6-4ffe-89f0-63863de012da",
   "metadata": {},
   "outputs": [],
   "source": [
    "def solve(root):\n",
    "    if root == None:\n",
    "        return 0\n",
    "    que = deque([root])\n",
    "    result = []\n",
    "    while que:\n",
    "        size = len(stack)\n",
    "        for i in range(size):\n",
    "            node = stack.popleft()\n",
    "            result.append(node.val)\n",
    "            if node.left:\n",
    "                stack.append(node.left)\n",
    "            if node.right:\n",
    "                stack.append(node.right)                    \n",
    "    return len(result)"
   ]
  }
 ],
 "metadata": {
  "kernelspec": {
   "display_name": "Python 3",
   "language": "python",
   "name": "python3"
  },
  "language_info": {
   "codemirror_mode": {
    "name": "ipython",
    "version": 3
   },
   "file_extension": ".py",
   "mimetype": "text/x-python",
   "name": "python",
   "nbconvert_exporter": "python",
   "pygments_lexer": "ipython3",
   "version": "3.9.1"
  }
 },
 "nbformat": 4,
 "nbformat_minor": 5
}
