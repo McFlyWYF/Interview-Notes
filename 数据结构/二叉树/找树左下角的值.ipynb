{
 "cells": [
  {
   "cell_type": "markdown",
   "id": "e9d6de60-cf7f-4244-a10b-cb6920ff5604",
   "metadata": {},
   "source": [
    "# 找树左下角的值"
   ]
  },
  {
   "cell_type": "markdown",
   "id": "792659c1-443f-4239-902d-30e3705ffe45",
   "metadata": {},
   "source": [
    "### 给定一个二叉树，在树的最后一行找到最左边的值。"
   ]
  },
  {
   "cell_type": "markdown",
   "id": "4a84da15-20b1-4e20-a684-88df289009dc",
   "metadata": {},
   "source": [
    "层次遍历每一行，返回最后一行的第一个元素。"
   ]
  },
  {
   "cell_type": "markdown",
   "id": "2903a53f-64f3-442a-a9ec-bb8fddd5e4d8",
   "metadata": {},
   "source": [
    "#### 迭代法"
   ]
  },
  {
   "cell_type": "code",
   "execution_count": 3,
   "id": "48a38988-7481-41c7-8300-6bed4d52edb4",
   "metadata": {},
   "outputs": [],
   "source": [
    "def solve(root):\n",
    "    if root == None:\n",
    "        return None\n",
    "\n",
    "    q = deque([root])\n",
    "    result = []\n",
    "    while q:\n",
    "        size = len(q)\n",
    "        path = []\n",
    "        for i in range(size):\n",
    "            node = q.popleft()\n",
    "            path.append(node.val)\n",
    "            if node.left:\n",
    "                q.append(node.left)\n",
    "            if node.right:\n",
    "                q.append(node.right)\n",
    "        result.append(path)\n",
    "    return result[-1][0]"
   ]
  },
  {
   "cell_type": "markdown",
   "id": "c9ae60f4-c267-485a-a261-f2c02628768c",
   "metadata": {},
   "source": [
    "#### 递归法"
   ]
  },
  {
   "cell_type": "markdown",
   "id": "fc2df103-a156-48ec-9eee-3b0f2615ee26",
   "metadata": {},
   "source": [
    "**如果需要遍历整棵树，递归函数就不能有返回值。如果需要遍历某一条固定路线，递归函数就一定有返回值。**"
   ]
  },
  {
   "cell_type": "markdown",
   "id": "7e610799-294b-437c-a318-08b54e682517",
   "metadata": {},
   "source": [
    "终止条件：遇到叶子节点的时候，需要统计一下最大的深度了，所以需要遇到叶子节点来更新最大深度。"
   ]
  },
  {
   "cell_type": "code",
   "execution_count": 6,
   "id": "f7e2c6b4-eb82-4b28-8284-771010b17586",
   "metadata": {},
   "outputs": [],
   "source": [
    "def solve(root):\n",
    "    max_depth = -float(\"INF\")\n",
    "    leftmost_val = 0\n",
    "\n",
    "    def __traverse(root, cur_depth): \n",
    "        nonlocal max_depth, leftmost_val\n",
    "        if not root.left and not root.right: \n",
    "            if cur_depth > max_depth: \n",
    "                max_depth = cur_depth\n",
    "                leftmost_val = root.val  \n",
    "        if root.left: \n",
    "            cur_depth += 1\n",
    "            __traverse(root.left, cur_depth)\n",
    "            cur_depth -= 1\n",
    "        if root.right: \n",
    "            cur_depth += 1\n",
    "            __traverse(root.right, cur_depth)\n",
    "            cur_depth -= 1\n",
    "\n",
    "    __traverse(root, 0)\n",
    "    return leftmost_val"
   ]
  }
 ],
 "metadata": {
  "kernelspec": {
   "display_name": "Python 3",
   "language": "python",
   "name": "python3"
  },
  "language_info": {
   "codemirror_mode": {
    "name": "ipython",
    "version": 3
   },
   "file_extension": ".py",
   "mimetype": "text/x-python",
   "name": "python",
   "nbconvert_exporter": "python",
   "pygments_lexer": "ipython3",
   "version": "3.9.1"
  }
 },
 "nbformat": 4,
 "nbformat_minor": 5
}
