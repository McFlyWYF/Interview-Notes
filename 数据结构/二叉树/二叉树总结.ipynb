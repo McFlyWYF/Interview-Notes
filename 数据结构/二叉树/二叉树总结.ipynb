{
 "cells": [
  {
   "cell_type": "markdown",
   "id": "c59bce40-371a-4666-82b9-841424507738",
   "metadata": {},
   "source": [
    "# 二叉树总结"
   ]
  },
  {
   "cell_type": "markdown",
   "id": "57cfa583-9d10-41c1-be40-157e8a043a58",
   "metadata": {},
   "source": [
    "### 二叉树的理论基础"
   ]
  },
  {
   "cell_type": "markdown",
   "id": "f9e96cd4-4183-4f6f-9fb3-ccda85bd5c11",
   "metadata": {},
   "source": [
    "* 二叉树的种类、存储方式、遍历方式、定义方式"
   ]
  },
  {
   "cell_type": "markdown",
   "id": "e2eab710-497d-44f8-8f23-1d47022afbc8",
   "metadata": {},
   "source": [
    "### 二叉树的遍历方式"
   ]
  },
  {
   "cell_type": "markdown",
   "id": "4d731983-7205-48cd-8d33-0292edf5d841",
   "metadata": {},
   "source": [
    "* 深度优先遍历\n",
    "    * 前中后序递归法\n",
    "    * 前中后序迭代法（用栈模拟递归）\n",
    "* 广度优先遍历\n",
    "    * 层序遍历（队列）"
   ]
  },
  {
   "cell_type": "markdown",
   "id": "ec67ff2f-9f09-4662-8b75-9e677b922164",
   "metadata": {},
   "source": [
    "### 二叉树的属性"
   ]
  },
  {
   "cell_type": "markdown",
   "id": "c646a161-dfe9-4146-8e51-a6ea5e5d0a95",
   "metadata": {},
   "source": [
    "* 是否对称\n",
    "    * 递归：后序，比较的是根节点的左子树与右子树是不是相互翻转。\n",
    "    * 迭代：使用队列/栈将两个节点顺序放入容器中进行比较。"
   ]
  },
  {
   "cell_type": "markdown",
   "id": "3ee14291-ddf8-411e-9336-61c6fbc1623a",
   "metadata": {},
   "source": [
    "* 求最大深度\n",
    "    * 递归：后序，求根节点最大高度就是最大深度，通过递归函数的返回值做计算树的高度。\n",
    "    * 迭代：层序遍历"
   ]
  },
  {
   "cell_type": "markdown",
   "id": "8e31f125-c371-484d-8485-ff6c594ccbc2",
   "metadata": {},
   "source": [
    "* 求最小深度\n",
    "    * 递归：后序，求根节点最小高度就是最小深度。\n",
    "    * 迭代：层序遍历。"
   ]
  },
  {
   "cell_type": "markdown",
   "id": "b2446630-5f12-4cd4-aa25-635a8d17c0f7",
   "metadata": {},
   "source": [
    "* 求有多少个节点\n",
    "    * 递归：后序，通过递归函数的返回值计算节点数量。\n",
    "    * 迭代：层序遍历。"
   ]
  },
  {
   "cell_type": "markdown",
   "id": "0a2cedcc-281e-457f-a713-6e4cd8897c85",
   "metadata": {},
   "source": [
    "* 是否平衡\n",
    "    * 递归：后序，注意后序求高度和前序求深度，递归过程判断高度差。\n",
    "    * 迭代：效率很低，不推荐。"
   ]
  },
  {
   "cell_type": "markdown",
   "id": "0fe84ca4-db93-4889-87e5-727402dd8400",
   "metadata": {},
   "source": [
    "* 找所有路径\n",
    "    * 递归：前序，方便让父结点指向子节点，涉及回溯处理根节点到叶子的所有路径。\n",
    "    * 迭代：一个栈模拟递归，一个栈来存放对应的遍历路径。"
   ]
  },
  {
   "cell_type": "markdown",
   "id": "07ffe069-6ef6-419e-9a7f-7f167e41d789",
   "metadata": {},
   "source": [
    "* 求左叶子之和\n",
    "    * 递归：后序，必须三层约束条件，才能判断是否是左叶子。\n",
    "    * 迭代：直接模拟后序遍历。"
   ]
  },
  {
   "cell_type": "markdown",
   "id": "5402cb4d-dec6-4911-b190-cb5b76781d94",
   "metadata": {},
   "source": [
    "* 求左下角的值\n",
    "    * 递归：顺序无所谓，优先左孩子搜索，同时找深度最大的叶子节点。\n",
    "    * 迭代：层序遍历找最后一行最左边。"
   ]
  },
  {
   "cell_type": "markdown",
   "id": "a8ff6bcc-3cb7-48b2-8d78-b709b3f51dc9",
   "metadata": {},
   "source": [
    "* 求路径总和\n",
    "    * 递归：顺序无所谓，递归函数返回值为bool类型是为了搜索一条边，没有返回值是搜索整棵树。\n",
    "    * 迭代：栈里元素不仅要记录节点指针，还要记录从头节点到该节点的路径数值总和。"
   ]
  },
  {
   "cell_type": "markdown",
   "id": "dffad8e9-bd38-4db2-9e5e-eb138bff9a29",
   "metadata": {},
   "source": [
    "### 二叉树的修改与构造"
   ]
  },
  {
   "cell_type": "markdown",
   "id": "6e3e97dd-2dc1-4037-bb20-2bd72f75df1d",
   "metadata": {},
   "source": [
    "* 翻转二叉树\n",
    "    * 递归：前序，交换左右孩子\n",
    "    * 迭代：直接模拟前序遍历"
   ]
  },
  {
   "cell_type": "markdown",
   "id": "23328285-0c40-4e3f-bfbb-e83b59e18588",
   "metadata": {},
   "source": [
    "* 构造二叉树\n",
    "    * 递归：前序，重点在于找分割点，分左右区间构造\n",
    "    * 迭代：比较复杂，意义不大"
   ]
  },
  {
   "cell_type": "markdown",
   "id": "a9273c99-ad52-43b0-bccf-72ad9d87c637",
   "metadata": {},
   "source": [
    "* 构造最大的二叉树\n",
    "    * 递归：前序，分割点为数组最大值，分左右区间构造\n",
    "    * 迭代：比较复杂"
   ]
  },
  {
   "cell_type": "markdown",
   "id": "8c07b3f3-fdc0-4e8e-a10c-f5c996576948",
   "metadata": {},
   "source": [
    "* 合并两个二叉树\n",
    "    * 递归：前序，同时操作两个树的节点，注意合并的规则\n",
    "    * 迭代：使用队列，类似层序遍历"
   ]
  },
  {
   "cell_type": "markdown",
   "id": "2494410b-19a6-4fa5-a17d-a9a539c2f5f9",
   "metadata": {},
   "source": [
    "### 求二叉搜索树的属性"
   ]
  },
  {
   "cell_type": "markdown",
   "id": "33163bb9-96a1-494b-b74a-2c58b40537ec",
   "metadata": {},
   "source": [
    "* 二叉搜索树中的搜索\n",
    "    * 递归：二叉搜索树的递归是有方向的。\n",
    "    * 迭代：因为有方向，所以迭代法简单"
   ]
  },
  {
   "cell_type": "markdown",
   "id": "8d4382e8-1811-4300-93d2-371d7d4330a7",
   "metadata": {},
   "source": [
    "* 是不是二叉搜索树\n",
    "    * 递归：中序，相当于变成了判断一个序列是不是递增的。\n",
    "    * 迭代：模拟中序，逻辑相同"
   ]
  },
  {
   "cell_type": "markdown",
   "id": "56b5a82d-ed23-427a-917c-43272c1a2dd2",
   "metadata": {},
   "source": [
    "* 求二叉搜索树的最小绝对差\n",
    "    * 递归：中序，双指针操作\n",
    "    * 迭代：模拟中序，逻辑相同"
   ]
  },
  {
   "cell_type": "markdown",
   "id": "1a17bdd8-1b4b-464b-a163-907d79d1b2e4",
   "metadata": {},
   "source": [
    "* 求二叉搜索树的众数\n",
    "    * 递归：中序，清空结果集的技巧，遍历一遍可求众树集合\n",
    "    * 迭代：模拟中序，逻辑相同"
   ]
  },
  {
   "cell_type": "markdown",
   "id": "511dcdcf-d6d8-49f1-a0c2-698a67e875b1",
   "metadata": {},
   "source": [
    "* 二叉搜索树转成累加树\n",
    "    * 递归：中序，双指针操作累加\n",
    "    * 迭代：模拟中序，逻辑相同"
   ]
  },
  {
   "cell_type": "markdown",
   "id": "b7e21c68-834f-4933-adf5-64d2071009cf",
   "metadata": {},
   "source": [
    "### 二叉树公共祖先问题"
   ]
  },
  {
   "cell_type": "markdown",
   "id": "e55db568-bcba-4948-b5a1-c9732bff7a65",
   "metadata": {},
   "source": [
    "* 二叉树的公共祖先问题\n",
    "    * 递归：后序，回溯，找到左子树出现目标值，右子树出现目标值的节点\n",
    "    * 迭代：不适合模拟回溯"
   ]
  },
  {
   "cell_type": "markdown",
   "id": "8114d625-b666-48fb-8dc2-e5b144aadd3f",
   "metadata": {},
   "source": [
    "* 二叉搜索树的公共祖先问题\n",
    "    * 递归：顺序无所谓，如果节点的数值在目标区间就是最近公共祖先\n",
    "    * 迭代：按序遍历"
   ]
  },
  {
   "cell_type": "markdown",
   "id": "9b75266c-bc0e-412f-92ed-2efafbaba009",
   "metadata": {},
   "source": [
    "### 二叉搜索树的修改与改造"
   ]
  },
  {
   "cell_type": "markdown",
   "id": "cea3da9e-6b12-49f5-bd6f-defeea3d8eba",
   "metadata": {},
   "source": [
    "* 二叉搜索树中的插入操作\n",
    "    * 递归：顺序无所谓，通过递归函数返回值添加节点\n",
    "    * 迭代：按序遍历，徐亚记录插入父结点，才能做插入操作"
   ]
  },
  {
   "cell_type": "markdown",
   "id": "f8f8a864-5199-4a70-bc20-3a3b25c4ec39",
   "metadata": {},
   "source": [
    "* 二叉搜索树中的删除操作\n",
    "    * 递归：前序，想清楚删除非叶节点的情况\n",
    "    * 迭代：有序遍历，较复杂"
   ]
  },
  {
   "cell_type": "markdown",
   "id": "79d5e25e-22ce-4c81-9a12-eda855bdbdda",
   "metadata": {},
   "source": [
    "* 修剪二叉搜索树\n",
    "    * 递归：前序，通过递归函数返回值删除节点\n",
    "    * 迭代：有序遍历，较复杂"
   ]
  },
  {
   "cell_type": "markdown",
   "id": "2ce7b528-e789-4b13-a981-b64a1f3cc463",
   "metadata": {},
   "source": [
    "* 构造二叉搜索树\n",
    "    * 递归：前序，数组中间节点分割\n",
    "    * 迭代：较复杂，通过三个队列来模拟"
   ]
  },
  {
   "cell_type": "markdown",
   "id": "5c62ac2c-0de7-4051-9a16-d062df1d53f6",
   "metadata": {},
   "source": [
    "#### 涉及到二叉树的构造，无论普通二叉树还是二叉搜索树一定前序，都是先构造中节点。\n",
    "#### 求普通二叉树的属性，一般是后序，一般要通过递归函数的返回值做计算。\n",
    "#### 求二叉搜索树的属性，一定是中序了。"
   ]
  },
  {
   "cell_type": "code",
   "execution_count": null,
   "id": "3cb3cd19-c0d6-4352-8e5a-fffc5693545f",
   "metadata": {},
   "outputs": [],
   "source": []
  }
 ],
 "metadata": {
  "kernelspec": {
   "display_name": "Python 3",
   "language": "python",
   "name": "python3"
  },
  "language_info": {
   "codemirror_mode": {
    "name": "ipython",
    "version": 3
   },
   "file_extension": ".py",
   "mimetype": "text/x-python",
   "name": "python",
   "nbconvert_exporter": "python",
   "pygments_lexer": "ipython3",
   "version": "3.9.1"
  }
 },
 "nbformat": 4,
 "nbformat_minor": 5
}
