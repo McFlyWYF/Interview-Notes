{
 "cells": [
  {
   "cell_type": "markdown",
   "id": "political-nursery",
   "metadata": {},
   "source": [
    "# 对称二叉树"
   ]
  },
  {
   "cell_type": "markdown",
   "id": "expressed-dragon",
   "metadata": {},
   "source": [
    "### 给定一个二叉树，检查是否是镜像对称。"
   ]
  },
  {
   "cell_type": "markdown",
   "id": "developed-president",
   "metadata": {},
   "source": [
    "比较的是左子树和右子树是否相同。先比较外侧，左子树的左节点和右子树的右节点；再比较内侧，左子树的右节点和右子树的左节点。终止条件是左右子树只要一个不为空，则返回false。如果都为空，则判断数值是否相等。左子树是左右根遍历，右子树是右左根遍历。"
   ]
  },
  {
   "cell_type": "markdown",
   "id": "peaceful-robin",
   "metadata": {},
   "source": [
    "#### 递归"
   ]
  },
  {
   "cell_type": "code",
   "execution_count": 9,
   "id": "right-update",
   "metadata": {},
   "outputs": [],
   "source": [
    "def compare(left, right):\n",
    "    # 排除空节点的情况\n",
    "    if left == None and right != None:\n",
    "        return False\n",
    "    elif left != None and right == None:\n",
    "        return False\n",
    "    elif left == None and right == None:\n",
    "        return True\n",
    "    # 排除数值不相同的情况\n",
    "    elif left.val != right.val:\n",
    "        return False\n",
    "    else:\n",
    "        return compare(left.left, right.right) and compare(left.right, right.left) # 左子树：左右，右子树：右左\n",
    "    \n",
    "def solve(root):\n",
    "    if root == None:\n",
    "        return True\n",
    "    return compare(root.left, root.right)"
   ]
  },
  {
   "cell_type": "markdown",
   "id": "framed-patient",
   "metadata": {},
   "source": [
    "#### 迭代法"
   ]
  },
  {
   "cell_type": "markdown",
   "id": "devoted-nepal",
   "metadata": {},
   "source": [
    "##### 使用队列"
   ]
  },
  {
   "cell_type": "code",
   "execution_count": 10,
   "id": "ongoing-barcelona",
   "metadata": {},
   "outputs": [],
   "source": [
    "def solve(root):\n",
    "    if not root:\n",
    "        return True\n",
    "    que = deque()\n",
    "    que.append(root.left)   # 加入左子树\n",
    "    que.append(root.right)   # 加入右子树\n",
    "    while que:\n",
    "        leftnode = que.popleft()\n",
    "        rightnode = que.popleft()\n",
    "        if not leftnode and not rightnode:  # 左右节点为空，说明是对称的\n",
    "            continue\n",
    "        # 左右节点有一个不为空，或者都不为空但数值不同，返回false\n",
    "        if not leftnode or not rightnode or leftnode.val != rightnode.val:\n",
    "            return False\n",
    "        que.append(leftnode.left)  # 加入左节点左孩子\n",
    "        que.append(rightnode.right)  # 加入右节点右孩子\n",
    "        que.append(leftnode.right)  # 加入左节点右孩子\n",
    "        que.append(rightnode.left)  # 加入右节点左孩子\n",
    "    return True"
   ]
  },
  {
   "cell_type": "markdown",
   "id": "deluxe-determination",
   "metadata": {},
   "source": [
    "##### 使用栈"
   ]
  },
  {
   "cell_type": "code",
   "execution_count": 11,
   "id": "unlike-naples",
   "metadata": {},
   "outputs": [],
   "source": [
    "def solve(root):\n",
    "    if not root:\n",
    "        return True\n",
    "    stack = []\n",
    "    stack.append(root.left)\n",
    "    stack.append(root.right)\n",
    "    while stack:\n",
    "        leftnode = stack.pop()\n",
    "        rightnode = stack.pop()\n",
    "        if not leftnode and not rightnode:\n",
    "            continue\n",
    "        if not leftnode or not rightnode or leftnode.val != rightnode.val:\n",
    "            return False\n",
    "        stack.append(leftnode.left)\n",
    "        stack.append(rightnode.right)\n",
    "        stack.append(leftnode.right)\n",
    "        stack.append(rightnode.left)\n",
    "    return True"
   ]
  },
  {
   "cell_type": "markdown",
   "id": "august-psychology",
   "metadata": {},
   "source": [
    "# 相同二叉树"
   ]
  },
  {
   "cell_type": "markdown",
   "id": "coral-collar",
   "metadata": {},
   "source": [
    "### 判断两棵二叉树是否相同"
   ]
  },
  {
   "cell_type": "markdown",
   "id": "superb-hours",
   "metadata": {},
   "source": [
    "比较结构和对应的数值是否相同。如果其中一棵是空树，则返回false；如果都不为空，但数值不同，返回false；如果都为空树，返回true。"
   ]
  },
  {
   "cell_type": "markdown",
   "id": "pointed-surprise",
   "metadata": {},
   "source": [
    "#### 递归法"
   ]
  },
  {
   "cell_type": "code",
   "execution_count": 1,
   "id": "nuclear-custody",
   "metadata": {},
   "outputs": [],
   "source": [
    "def issame(p, q):\n",
    "    if not p and not q:\n",
    "        return True\n",
    "    elif not p or not q:\n",
    "        return False\n",
    "    elif p.val != q.val:\n",
    "        return False\n",
    "    else:\n",
    "        return issame(p.left, q.left) and issame(p.right, q.right)"
   ]
  },
  {
   "cell_type": "markdown",
   "id": "accessory-footage",
   "metadata": {},
   "source": [
    "#### 迭代法"
   ]
  },
  {
   "cell_type": "code",
   "execution_count": 5,
   "id": "fuzzy-schedule",
   "metadata": {},
   "outputs": [],
   "source": [
    "def issame(p, q):\n",
    "    stack1 = [p]\n",
    "    stack2 = [q]\n",
    "    if not p and not q:\n",
    "        return True\n",
    "        \n",
    "    while stack1 and stack2:\n",
    "        \n",
    "        node1 = stack1.pop()\n",
    "        node2 = stack2.pop()\n",
    "\n",
    "        if not node1 or not node2 or node1.val != node2.val:\n",
    "            return False\n",
    "\n",
    "        if (node1.left and not node2.left) or (node2.left and not node1.left):\n",
    "            return False\n",
    "        if (node1.right and not node2.right) or (node2.right and not node1.right):\n",
    "            return False\n",
    "        if node1.left and node2.left:\n",
    "            stack1.append(node1.left)\n",
    "            stack2.append(node2.left)\n",
    "        if node2.right and node1.right:\n",
    "            stack1.append(node1.right)\n",
    "            stack2.append(node2.right)\n",
    "    return True"
   ]
  },
  {
   "cell_type": "markdown",
   "id": "official-wages",
   "metadata": {},
   "source": [
    "# 另一棵树的子树"
   ]
  },
  {
   "cell_type": "markdown",
   "id": "nutritional-universe",
   "metadata": {},
   "source": [
    "### 判断root中是否包含和subroot具有相同结构和节点值的子树。"
   ]
  },
  {
   "cell_type": "code",
   "execution_count": null,
   "id": "twelve-couple",
   "metadata": {},
   "outputs": [],
   "source": [
    "class Solution(object):\n",
    "\n",
    "    def isSubStructure(self, A, B):\n",
    "        \"\"\"\n",
    "        :type A: TreeNode\n",
    "        :type B: TreeNode\n",
    "        :rtype: bool\n",
    "        \"\"\"\n",
    "        def isSame(p, q):\n",
    "            if not q:  # B为空\n",
    "                return True\n",
    "            if not p or p.val != q.val: # A为空，已经遍历结束了，或者节点值不相等\n",
    "                return False\n",
    "\n",
    "            return isSame(p.left, q.left) and isSame(p.right, q.right)  # 遍历AB的左右子树\n",
    "            \n",
    "        if not A or not B:  # A或B为空，则不是子树\n",
    "            return False\n",
    "        return bool(A and B) and (isSame(A, B) or self.isSubStructure(A.left, B) or self.isSubStructure(A.right, B))  # A和B不为空，且B的A的子树，或B是A的左子树，或B是A的右子树"
   ]
  }
 ],
 "metadata": {
  "kernelspec": {
   "display_name": "Python 3",
   "language": "python",
   "name": "python3"
  },
  "language_info": {
   "codemirror_mode": {
    "name": "ipython",
    "version": 3
   },
   "file_extension": ".py",
   "mimetype": "text/x-python",
   "name": "python",
   "nbconvert_exporter": "python",
   "pygments_lexer": "ipython3",
   "version": "3.9.1"
  }
 },
 "nbformat": 4,
 "nbformat_minor": 5
}
