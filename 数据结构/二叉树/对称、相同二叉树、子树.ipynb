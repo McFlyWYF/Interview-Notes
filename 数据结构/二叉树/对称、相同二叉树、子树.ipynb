{
 "cells": [
  {
   "cell_type": "markdown",
   "id": "6e12233b-ace3-4409-81d7-a5b0e4dc02e2",
   "metadata": {},
   "source": [
    "# 对称二叉树"
   ]
  },
  {
   "cell_type": "markdown",
   "id": "c5e372de-3878-494f-85f0-cdcf7ad4c7a3",
   "metadata": {},
   "source": [
    "### 给定一个二叉树，检查是否是镜像对称。"
   ]
  },
  {
   "cell_type": "markdown",
   "id": "ecff0d29-c701-42e5-9fa0-74ec4f15ba1d",
   "metadata": {},
   "source": [
    "比较的是左子树和右子树是否相同。先比较外侧，左子树的左节点和右子树的右节点；再比较内侧，左子树的右节点和右子树的左节点。终止条件是左右子树只要一个不为空，则返回false。如果都为空，则判断数值是否相等。左子树是左右根遍历，右子树是右左根遍历。"
   ]
  },
  {
   "cell_type": "markdown",
   "id": "f048112a-14f9-431a-8ba6-9f49608e601b",
   "metadata": {},
   "source": [
    "#### 递归"
   ]
  },
  {
   "cell_type": "code",
   "execution_count": 9,
   "id": "66848544-830c-4c09-ad67-853c388f3f3c",
   "metadata": {},
   "outputs": [],
   "source": [
    "def compare(left, right):\n",
    "    # 排除空节点的情况\n",
    "    if left == None and right != None:\n",
    "        return False\n",
    "    elif left != None and right == None:\n",
    "        return False\n",
    "    elif left == None and right == None:\n",
    "        return True\n",
    "    # 排除数值不相同的情况\n",
    "    elif left.val != right.val:\n",
    "        return False\n",
    "    else:\n",
    "        return compare(left.left, right.right) and compare(left.right, right.left) # 左子树：左右，右子树：右左\n",
    "    \n",
    "def solve(root):\n",
    "    if root == None:\n",
    "        return True\n",
    "    return compare(root.left, root.right)"
   ]
  },
  {
   "cell_type": "markdown",
   "id": "49dc32bf-a7ac-46c1-ba65-57a9f36a85dd",
   "metadata": {},
   "source": [
    "#### 迭代法"
   ]
  },
  {
   "cell_type": "markdown",
   "id": "b5748b0b-4d07-41cf-a36f-7622b3fcdcd5",
   "metadata": {},
   "source": [
    "##### 使用队列"
   ]
  },
  {
   "cell_type": "code",
   "execution_count": 10,
   "id": "56bd2e67-49f6-4113-92ea-d0d9e90e7eb4",
   "metadata": {},
   "outputs": [],
   "source": [
    "def solve(root):\n",
    "    if not root:\n",
    "        return True\n",
    "    que = deque()\n",
    "    que.append(root.left)   # 加入左子树\n",
    "    que.append(root.right)   # 加入右子树\n",
    "    while que:\n",
    "        leftnode = que.popleft()\n",
    "        rightnode = que.popleft()\n",
    "        if not leftnode and not rightnode:  # 左右节点为空，说明是对称的\n",
    "            continue\n",
    "        # 左右节点有一个不为空，或者都不为空但数值不同，返回false\n",
    "        if not leftnode or not rightnode or leftnode.val != rightnode.val:\n",
    "            return False\n",
    "        que.append(leftnode.left)  # 加入左节点左孩子\n",
    "        que.append(rightnode.right)  # 加入右节点右孩子\n",
    "        que.append(leftnode.right)  # 加入左节点右孩子\n",
    "        que.append(rightnode.left)  # 加入右节点左孩子\n",
    "    return True"
   ]
  },
  {
   "cell_type": "markdown",
   "id": "cf9cb23a-584d-4877-b425-6fae68899b98",
   "metadata": {},
   "source": [
    "##### 使用栈"
   ]
  },
  {
   "cell_type": "code",
   "execution_count": 11,
   "id": "ae94166f-b8dd-42d8-8325-c8c76020190e",
   "metadata": {},
   "outputs": [],
   "source": [
    "def solve(root):\n",
    "    if not root:\n",
    "        return True\n",
    "    stack = []\n",
    "    stack.append(root.left)\n",
    "    stack.append(root.right)\n",
    "    while stack:\n",
    "        leftnode = stack.pop()\n",
    "        rightnode = stack.pop()\n",
    "        if not leftnode and not rightnode:\n",
    "            continue\n",
    "        if not leftnode or not rightnode or leftnode.val != rightnode.val:\n",
    "            return False\n",
    "        stack.append(leftnode.left)\n",
    "        stack.append(rightnode.right)\n",
    "        stack.append(leftnode.right)\n",
    "        stack.append(rightnode.left)\n",
    "    return True"
   ]
  },
  {
   "cell_type": "markdown",
   "id": "478c67f8-5ca9-40ef-9ab5-367e7fe3261c",
   "metadata": {},
   "source": [
    "# 相同二叉树"
   ]
  },
  {
   "cell_type": "markdown",
   "id": "371401fc-d6d3-4e31-8a73-7f354a6e4282",
   "metadata": {},
   "source": [
    "### 判断两棵二叉树是否相同"
   ]
  },
  {
   "cell_type": "markdown",
   "id": "9c07e58a-e2a1-4576-aa08-6abdbb146a27",
   "metadata": {},
   "source": [
    "比较结构和对应的数值是否相同。如果其中一棵是空树，则返回false；如果都不为空，但数值不同，返回false；如果都为空树，返回true。"
   ]
  },
  {
   "cell_type": "markdown",
   "id": "01373a06-df35-4f10-ba5e-f646864be5c9",
   "metadata": {},
   "source": [
    "#### 递归法"
   ]
  },
  {
   "cell_type": "code",
   "execution_count": 1,
   "id": "f14a39f3-3ba1-46aa-b287-2e655943644a",
   "metadata": {},
   "outputs": [],
   "source": [
    "def issame(p, q):\n",
    "    if not p and not q:\n",
    "        return True\n",
    "    elif not p or not q:\n",
    "        return False\n",
    "    elif p.val != q.val:\n",
    "        return False\n",
    "    else:\n",
    "        return issame(p.left, q.left) and issame(p.right, q.right)"
   ]
  },
  {
   "cell_type": "markdown",
   "id": "b7d553b2-67af-40c3-93e9-dddb0a1f65e0",
   "metadata": {},
   "source": [
    "#### 迭代法"
   ]
  },
  {
   "cell_type": "code",
   "execution_count": 5,
   "id": "eeacc208-b484-4621-93d4-dafc673f4806",
   "metadata": {},
   "outputs": [],
   "source": [
    "def issame(p, q):\n",
    "    stack1 = [p]\n",
    "    stack2 = [q]\n",
    "    if not p and not q:\n",
    "        return True\n",
    "        \n",
    "    while stack1 and stack2:\n",
    "        \n",
    "        node1 = stack1.pop()\n",
    "        node2 = stack2.pop()\n",
    "\n",
    "        if not node1 or not node2 or node1.val != node2.val:\n",
    "            return False\n",
    "\n",
    "        if (node1.left and not node2.left) or (node2.left and not node1.left):\n",
    "            return False\n",
    "        if (node1.right and not node2.right) or (node2.right and not node1.right):\n",
    "            return False\n",
    "        if node1.left and node2.left:\n",
    "            stack1.append(node1.left)\n",
    "            stack2.append(node2.left)\n",
    "        if node2.right and node1.right:\n",
    "            stack1.append(node1.right)\n",
    "            stack2.append(node2.right)\n",
    "    return True"
   ]
  },
  {
   "cell_type": "markdown",
   "id": "b77619c1-748f-4246-b4a8-5b5bea5b4222",
   "metadata": {},
   "source": [
    "# 另一棵树的子树"
   ]
  },
  {
   "cell_type": "markdown",
   "id": "47d138b0-896c-4f68-8746-52de44f69cf1",
   "metadata": {},
   "source": [
    "### 判断root中是否包含和subroot具有相同结构和节点值的子树。"
   ]
  },
  {
   "cell_type": "code",
   "execution_count": 8,
   "id": "d9f4a252-7cde-45c5-b552-31c3a4ffdebb",
   "metadata": {},
   "outputs": [],
   "source": [
    "def isSubtree(root, subtree):\n",
    "    def isSame(p, q):\n",
    "        if not p and not q:\n",
    "            return True\n",
    "        if not p or not q:\n",
    "            return False\n",
    "        if p.val != q.val:\n",
    "            return False\n",
    "        return isSame(p.left, q.left) and isSame(p.right, q.right)\n",
    "        \n",
    "    if not root and not subRoot:\n",
    "        return True\n",
    "    if not root or not subRoot:\n",
    "        return False\n",
    "    return isSame(root, subRoot) or self.isSubtree(root.left, subRoot) or self.isSubtree(root.right, subRoot)"
   ]
  }
 ],
 "metadata": {
  "kernelspec": {
   "display_name": "Python 3",
   "language": "python",
   "name": "python3"
  },
  "language_info": {
   "codemirror_mode": {
    "name": "ipython",
    "version": 3
   },
   "file_extension": ".py",
   "mimetype": "text/x-python",
   "name": "python",
   "nbconvert_exporter": "python",
   "pygments_lexer": "ipython3",
   "version": "3.9.1"
  }
 },
 "nbformat": 4,
 "nbformat_minor": 5
}
