{
 "cells": [
  {
   "cell_type": "markdown",
   "id": "f5867a72-79fa-4095-885b-95699c80362a",
   "metadata": {},
   "source": [
    "# 平衡二叉树"
   ]
  },
  {
   "cell_type": "markdown",
   "id": "a267fae5-5510-45b5-959d-ab158596dfac",
   "metadata": {},
   "source": [
    "### 给定一个二叉树，判断是否是高度平衡的二叉树。(后序遍历）"
   ]
  },
  {
   "cell_type": "markdown",
   "id": "214fcfc3-6e6d-4511-95fd-86f74db8cef4",
   "metadata": {},
   "source": [
    "* 二叉树节点的深度：指从根节点到该节点的最长简单路径边的条数。（前序遍历）\n",
    "* 二叉树节点的高度：指从该节点到叶子节点的最长简单路径边的条数。（后序遍历）"
   ]
  },
  {
   "cell_type": "markdown",
   "id": "3fa79aeb-8b0c-49f1-802a-92eb347cc55e",
   "metadata": {},
   "source": [
    "#### 递归法"
   ]
  },
  {
   "cell_type": "code",
   "execution_count": 4,
   "id": "3f2d8783-bab2-4830-81af-375be26bf071",
   "metadata": {},
   "outputs": [],
   "source": [
    "def isBalanced(self, root):\n",
    "    if self.getdepth(root) == -1:\n",
    "        return False\n",
    "    else:\n",
    "        return True\n",
    "\n",
    "def getdepth(self, root):\n",
    "    if root == None:\n",
    "        return 0\n",
    "    leftdepth = self.getdepth(root.left)\n",
    "    # 左子树不是平衡树\n",
    "    if leftdepth == -1:\n",
    "        return -1\n",
    "    rightdepth = self.getdepth(root.right)\n",
    "    # 右子树不是平衡树\n",
    "    if rightdepth == -1:\n",
    "        return -1\n",
    "    # 判断高度是否相差小于等于1\n",
    "    if abs(leftdepth - rightdepth) <= 1:\n",
    "        return 1 + max(leftdepth, rightdepth)\n",
    "    else:\n",
    "        return -1"
   ]
  },
  {
   "cell_type": "markdown",
   "id": "708412ba-d1b3-4f3d-8163-3095d085f73c",
   "metadata": {},
   "source": [
    "#### 迭代法"
   ]
  },
  {
   "cell_type": "code",
   "execution_count": 1,
   "id": "8866a4c3-9ca7-46ad-b790-85ca87ec18a4",
   "metadata": {},
   "outputs": [],
   "source": [
    "def solve(root):\n",
    "    # 前序遍历每个节点，判断左右孩子高度是否符合\n",
    "    if root == None:\n",
    "        return True\n",
    "    stack = [root]\n",
    "    while stack:\n",
    "        node = stack.pop()  # 根\n",
    "        if abs(getdepth(node.left) - getdepth(node.right)) > 1:\n",
    "            return False\n",
    "        if node.right:  # 右\n",
    "            stack.append(node.right)\n",
    "        if node.left:  # 左\n",
    "            stack.append(node.left)\n",
    "        \n",
    "    return True\n",
    "\n",
    "def getdepth(cur):\n",
    "    # 后序遍历每一个节点的高度，将当前传入的节点作为根节点\n",
    "    st = []\n",
    "    if cur:\n",
    "        st.append(cur)\n",
    "    depth = 0\n",
    "    result = 0\n",
    "    while st:\n",
    "        node = st.pop()\n",
    "        if node:\n",
    "            st.append(node)\n",
    "            st.append(None)\n",
    "            depth += 1\n",
    "            if node.right:\n",
    "                st.append(node.right)\n",
    "            if node.left:\n",
    "                st.append(node.left)\n",
    "        else:\n",
    "            node = st.pop()\n",
    "            depth -= 1\n",
    "        result = max(result, depth)\n",
    "    return result"
   ]
  }
 ],
 "metadata": {
  "kernelspec": {
   "display_name": "Python 3",
   "language": "python",
   "name": "python3"
  },
  "language_info": {
   "codemirror_mode": {
    "name": "ipython",
    "version": 3
   },
   "file_extension": ".py",
   "mimetype": "text/x-python",
   "name": "python",
   "nbconvert_exporter": "python",
   "pygments_lexer": "ipython3",
   "version": "3.9.1"
  }
 },
 "nbformat": 4,
 "nbformat_minor": 5
}
