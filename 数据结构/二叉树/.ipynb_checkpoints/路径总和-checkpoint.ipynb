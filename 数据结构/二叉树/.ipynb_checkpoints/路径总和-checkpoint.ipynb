{
 "cells": [
  {
   "cell_type": "markdown",
   "id": "5e4812ab-d847-47d2-8aba-236ce4a8985f",
   "metadata": {},
   "source": [
    "# 路径总和"
   ]
  },
  {
   "cell_type": "markdown",
   "id": "fc5336d4-9a90-496d-9228-e08faa45714f",
   "metadata": {},
   "source": [
    "### 给定一个二叉树和一个目标和，判断该树中是否存在根节点到叶子节点的路径，这条路径上所有节点值相加等于目标和。"
   ]
  },
  {
   "cell_type": "markdown",
   "id": "31796026-2e53-4e6a-ac7a-8c7cb327a0bf",
   "metadata": {},
   "source": [
    "#### 递归法"
   ]
  },
  {
   "cell_type": "code",
   "execution_count": 6,
   "id": "b0b86bab-0b06-4126-b504-cff45ad60cd7",
   "metadata": {},
   "outputs": [],
   "source": [
    "def solve(root, targetSum):\n",
    "    result = []  # 保存结果\n",
    "    path = []  # 保存路径\n",
    "    if root == None:\n",
    "        return result\n",
    "    \n",
    "    def getpath(cur, path, result):\n",
    "        path.append(cur.val)  # 加入根\n",
    "        if cur.left:\n",
    "            getpath(cur.left, path, result)  # 遍历左\n",
    "            path.pop()  # 回溯\n",
    "        if cur.right:\n",
    "            getpath(cur.right, path, result)  # 遍历右\n",
    "            path.pop()  # 回溯\n",
    "        if cur.left == None and cur.right == None and targetSum == sum(path[:]):  # 一条路径遍历结束      \n",
    "            return True\n",
    "    getpath(root, path, result)\n",
    "    if targetSum in result:\n",
    "        return True\n",
    "    else:\n",
    "        return False"
   ]
  },
  {
   "cell_type": "markdown",
   "id": "21ed551e-ea20-4f66-bd54-a19af933570c",
   "metadata": {},
   "source": [
    "#### 迭代法"
   ]
  },
  {
   "cell_type": "code",
   "execution_count": 4,
   "id": "c5ec5ddf-d435-4148-9d42-02de113c5f7b",
   "metadata": {},
   "outputs": [],
   "source": [
    "def solve(root):\n",
    "    if root == None:\n",
    "        return None\n",
    "    stack = [root]\n",
    "    result = []\n",
    "    pathst = [root.val]\n",
    "    while stack:\n",
    "        node = stack.pop()  # 取出节点\n",
    "        path = pathst.pop()  # 取出节点对应的值\n",
    "        if node.right:\n",
    "            stack.append(node.right)\n",
    "            pathst.append(path + node.right.val)  # 求和\n",
    "        if node.left:\n",
    "            stack.append(node.left)\n",
    "            pathst.append(path + node.left.val)\n",
    "        if node.left == None and node.right == None and path == targetSum:\n",
    "            return True\n",
    "    return False"
   ]
  }
 ],
 "metadata": {
  "kernelspec": {
   "display_name": "Python 3",
   "language": "python",
   "name": "python3"
  },
  "language_info": {
   "codemirror_mode": {
    "name": "ipython",
    "version": 3
   },
   "file_extension": ".py",
   "mimetype": "text/x-python",
   "name": "python",
   "nbconvert_exporter": "python",
   "pygments_lexer": "ipython3",
   "version": "3.9.1"
  }
 },
 "nbformat": 4,
 "nbformat_minor": 5
}
