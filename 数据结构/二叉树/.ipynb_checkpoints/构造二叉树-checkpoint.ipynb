{
 "cells": [
  {
   "cell_type": "markdown",
   "id": "58064ff1-47bf-41ac-a3e7-38a8583ff1d1",
   "metadata": {},
   "source": [
    "# 构造二叉树"
   ]
  },
  {
   "cell_type": "markdown",
   "id": "49e67c90-abf7-4825-9b54-0420514888a2",
   "metadata": {},
   "source": [
    "### 1.根据一棵树的中序遍历与后序遍历构造二叉树。"
   ]
  },
  {
   "cell_type": "markdown",
   "id": "55d929e6-2398-4b90-b615-182c16413fa4",
   "metadata": {},
   "source": [
    "* 例如：\n",
    "    * 中序遍历：`[9,3,15,20,7]`\n",
    "    * 后序遍历：`[9,15,7,20,3]`"
   ]
  },
  {
   "cell_type": "markdown",
   "id": "eaf78b74-95e2-4c0e-97f3-2330f68486e5",
   "metadata": {},
   "source": [
    "* 第一步：如果数组大小为零的话，说明是空节点了。\n",
    "* 第二步：如果不为空，那么取后序数组最后一个元素作为节点元素。\n",
    "* 第三步：找到后序数组最后一个元素在中序数组的位置，作为切割点。\n",
    "* 第四步：切割中序数组，切成中序左数组和中序右数组。\n",
    "* 第五步：切割后序数组，切成后序左数组和后序右数组。\n",
    "* 第六步：递归处理左区间和右区间。"
   ]
  },
  {
   "cell_type": "code",
   "execution_count": 3,
   "id": "f22ebe74-9b7b-45ed-9189-fbfd1321da45",
   "metadata": {},
   "outputs": [],
   "source": [
    "def buildTree(inorder, postorder):\n",
    "    if not postorder:\n",
    "        return None\n",
    "    # 第一步：找最后一个元素，作为当前节点\n",
    "    rootvalue = postorder[-1]\n",
    "    root = TreeNode(rootvalue)\n",
    "    \n",
    "    # 第二步：找切割点\n",
    "    last = inorder.index(rootvalue)\n",
    "    \n",
    "    # 第三步：切割中序数组\n",
    "    leftinorder = inorder[:last]\n",
    "    rightinorder = inorder[last + 1:]\n",
    "            \n",
    "    # 第四步：切割后序数组\n",
    "    leftpost = postorder[:len(leftinorder)]\n",
    "    rightpost = postorder[len(leftinorder):len(postorder) - 1]\n",
    "    \n",
    "    # 第五步：递归\n",
    "    root.left = self.buildTree(leftinorder, leftpost)\n",
    "    root.right = self.buildTree(rightinorder, rightpost)\n",
    "    return root"
   ]
  },
  {
   "cell_type": "markdown",
   "id": "1d8b74ff-3712-4a12-b9c3-f409dc333d20",
   "metadata": {},
   "source": [
    "### 2.从前序和中序遍历序列构造二叉树"
   ]
  },
  {
   "cell_type": "markdown",
   "id": "427d487b-58ac-43bb-8901-4202bf897fed",
   "metadata": {},
   "source": [
    "* 例如：\n",
    "    * 前序遍历：`[3,9,20,15,7]`\n",
    "    * 中序遍历：`[9,3,15,20,7]`"
   ]
  },
  {
   "cell_type": "code",
   "execution_count": 5,
   "id": "5445ac31-455a-4e38-9c23-10cde81b001d",
   "metadata": {},
   "outputs": [],
   "source": [
    "def buildTree(preorder, inorder):\n",
    "    if not preorder:\n",
    "        return None\n",
    "    # 第一步：找最后一个元素，作为当前节点\n",
    "    rootvalue = preorder[0]\n",
    "    root = TreeNode(rootvalue)\n",
    "        \n",
    "    # 第二步：找切割点\n",
    "    last = inorder.index(rootvalue)\n",
    "        \n",
    "    # 第三步：切割中序数组\n",
    "    leftinorder = inorder[:last]\n",
    "    rightinorder = inorder[last + 1:]\n",
    "    \n",
    "    # 第四步：切割前序数组\n",
    "    leftpre = preorder[1:1 + len(leftinorder)]\n",
    "    rightpre = preorder[1 + len(leftinorder):]\n",
    "        \n",
    "    # 第五步：递归\n",
    "    root.left = self.buildTree(leftpre, leftinorder)\n",
    "    root.right = self.buildTree(rightpre, rightinorder)\n",
    "    return root"
   ]
  },
  {
   "cell_type": "markdown",
   "id": "589fcb43-59bf-440b-8efe-8b6ca79c0cf0",
   "metadata": {},
   "source": [
    "**前序和后序不能唯一确定一棵二叉树**"
   ]
  },
  {
   "cell_type": "markdown",
   "id": "696593c4-f563-40c7-91d8-30b3c13d3ea5",
   "metadata": {},
   "source": [
    "### 3.构造一棵最大的二叉树"
   ]
  },
  {
   "cell_type": "markdown",
   "id": "65541a68-1183-40bd-804d-30cf1e0524a8",
   "metadata": {},
   "source": [
    "#### 给定一个不含重复元素的整数数组，一个以此数组构建的最大二叉树定义如下：\n",
    "* 二叉树的根是数组中的最大元素。\n",
    "* 左子树是通过数组中最大值左边部分构造出的最大二叉树。\n",
    "* 右子树是通过数组中最大值右边部分构造出的最大二叉树。\n",
    "\n",
    "通过给定的数组构建最大二叉树，并输出这个树的根节点。"
   ]
  },
  {
   "cell_type": "markdown",
   "id": "760c1b77-beb8-4975-b71e-e51a15867e4b",
   "metadata": {},
   "source": [
    "* 例如：\n",
    "    * 输入：`[3,2,1,6,0,5]`\n",
    "    * 输出：`[6,3,5,null,2,0,null,null,1]`"
   ]
  },
  {
   "cell_type": "code",
   "execution_count": 6,
   "id": "0b99980c-d99b-462d-8256-26f795c08cc3",
   "metadata": {},
   "outputs": [],
   "source": [
    "def buildTree(nums):\n",
    "    if not nums:\n",
    "        return None\n",
    "    # 第一步：找最大元素，作为当前节点\n",
    "    rootvalue = max(nums)\n",
    "    root = TreeNode(rootvalue)\n",
    "        \n",
    "    # 第二步：找切割点\n",
    "    last = inorder.index(rootvalue)\n",
    "        \n",
    "    # 第三步：切割左右数组\n",
    "    lefttree = inorder[:last]\n",
    "    rightree = inorder[last + 1:]\n",
    "\n",
    "    # 第五步：递归\n",
    "    root.left = self.buildTree(lefttree)\n",
    "    root.right = self.buildTree(rightree)\n",
    "    return root"
   ]
  }
 ],
 "metadata": {
  "kernelspec": {
   "display_name": "Python 3",
   "language": "python",
   "name": "python3"
  },
  "language_info": {
   "codemirror_mode": {
    "name": "ipython",
    "version": 3
   },
   "file_extension": ".py",
   "mimetype": "text/x-python",
   "name": "python",
   "nbconvert_exporter": "python",
   "pygments_lexer": "ipython3",
   "version": "3.9.1"
  }
 },
 "nbformat": 4,
 "nbformat_minor": 5
}
