{
 "cells": [
  {
   "cell_type": "markdown",
   "id": "df3c9d6a-ceab-40c8-baf9-9748eebf8126",
   "metadata": {},
   "source": [
    "# 合并二叉树"
   ]
  },
  {
   "cell_type": "markdown",
   "id": "d5e4b3d0-bef8-4de7-bdfd-ffd76105b0f6",
   "metadata": {},
   "source": [
    "### 给定两个二叉树，合并为一个新的二叉树，合并的规则是如果两个节点重叠，那么将他们的值相加作为节点合并后的新值，否则不为null的节点将直接作为新二叉树的节点。"
   ]
  },
  {
   "cell_type": "code",
   "execution_count": null,
   "id": "43f879d5-1ec2-4fd2-8bd4-ebb8b69a9e2b",
   "metadata": {},
   "outputs": [],
   "source": [
    "def combinetree(tree1, tree2):\n",
    "    \n",
    "    if not tree1 and tree2:\n",
    "        return None\n",
    "    if tree1 == None:\n",
    "        return tree2\n",
    "    if tr2ee2 == None:\n",
    "        return tree1\n",
    "    \n",
    "    "
   ]
  }
 ],
 "metadata": {
  "kernelspec": {
   "display_name": "Python 3",
   "language": "python",
   "name": "python3"
  },
  "language_info": {
   "codemirror_mode": {
    "name": "ipython",
    "version": 3
   },
   "file_extension": ".py",
   "mimetype": "text/x-python",
   "name": "python",
   "nbconvert_exporter": "python",
   "pygments_lexer": "ipython3",
   "version": "3.9.1"
  }
 },
 "nbformat": 4,
 "nbformat_minor": 5
}
