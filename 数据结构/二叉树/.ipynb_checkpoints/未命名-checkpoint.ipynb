{
 "cells": [
  {
   "cell_type": "markdown",
   "metadata": {},
   "source": [
    "# 红黑树"
   ]
  },
  {
   "cell_type": "markdown",
   "metadata": {},
   "source": [
    "* 红黑树除了具备BST的特性外，还有以下特性：\n",
    "    * 每个节点都有颜色，黑色或红色\n",
    "    * 根节点是黑色的\n",
    "    * 每个叶子节点都是黑色的\n",
    "    * 如果一个节点是红色的，则它的子节点必须是黑色的\n",
    "    * 任意一个节点到该节点的每个叶子节点的所有路径上包含相同数目的黑节点"
   ]
  },
  {
   "cell_type": "markdown",
   "metadata": {},
   "source": [
    "* 性质5确保从任意一个节点出发到其叶子节点的所有路径中，最长路径长度也不会超过最短路径长度的两倍。且每个节点的左右子树中黑节点的层数是相等的，因此红黑树的黑节点是完美平衡的。"
   ]
  },
  {
   "cell_type": "markdown",
   "metadata": {},
   "source": [
    "#### 添加、删除"
   ]
  },
  {
   "cell_type": "markdown",
   "metadata": {},
   "source": [
    "* 在添加或删除红黑树中的节点之后，红黑树的结构就发生了变化，要采用旋转和节点变色两种操作让树保持红黑树的特性。"
   ]
  },
  {
   "cell_type": "code",
   "execution_count": null,
   "metadata": {},
   "outputs": [],
   "source": []
  }
 ],
 "metadata": {
  "kernelspec": {
   "display_name": "Python 3",
   "language": "python",
   "name": "python3"
  },
  "language_info": {
   "codemirror_mode": {
    "name": "ipython",
    "version": 3
   },
   "file_extension": ".py",
   "mimetype": "text/x-python",
   "name": "python",
   "nbconvert_exporter": "python",
   "pygments_lexer": "ipython3",
   "version": "3.6.5"
  }
 },
 "nbformat": 4,
 "nbformat_minor": 5
}
