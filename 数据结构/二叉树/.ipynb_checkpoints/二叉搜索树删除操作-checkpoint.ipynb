{
 "cells": [
  {
   "cell_type": "markdown",
   "id": "87c4a22b-5189-4284-ad08-42804eb56dbf",
   "metadata": {},
   "source": [
    "# 删除二叉搜索树中的节点"
   ]
  },
  {
   "cell_type": "markdown",
   "id": "67a00b50-8065-46ce-9b1d-3bee53cf55d4",
   "metadata": {},
   "source": [
    "### 给定一个二叉搜索树的根节点root和一个值key，删除二叉搜索树中的key对应的节点，并保证二叉搜索树的性质不变。返回二叉搜索树的根节点的引用。"
   ]
  },
  {
   "cell_type": "markdown",
   "id": "b38fa3c0-6e42-4c76-9ff0-7116dceeb8eb",
   "metadata": {},
   "source": [
    "删除节点有以下五种情况：\n",
    "* 第一种情况：没找到删除的节点，遍历到空节点直接返回了。\n",
    "* 找到删除的节点：\n",
    "    * 第二种情况：左右孩子都为空（叶子节点），直接删除节点，返回null为根节点。\n",
    "    * 第三种情况：删除节点的左孩子为空，右孩子不为空，删除节点，右孩子补位，返回右孩子为根节点。\n",
    "    * 第四种情况：删除节点的右孩子为空，左孩子不为空，删除节点，左孩子补位，返回左孩子为根节点。\n",
    "    * 第五种情况：左右孩子都不为空，则将删除节点的左子树头节点（左孩子）放到删除节点的右子树的最左面节点的左孩子上，返回删除节点右孩子为新的根节点。"
   ]
  },
  {
   "cell_type": "markdown",
   "id": "15206393-b8ee-421e-b704-caf81c627ab9",
   "metadata": {},
   "source": [
    "#### 递归法"
   ]
  },
  {
   "cell_type": "code",
   "execution_count": 3,
   "id": "2ac743df-6275-42d2-9d6e-de8383780e48",
   "metadata": {},
   "outputs": [],
   "source": [
    "def solve(root, key):\n",
    "    # 第一种\n",
    "    if root == None:\n",
    "        return root\n",
    "\n",
    "    if root.val == key:\n",
    "        # 第二种\n",
    "        if not root.left and not root.right:\n",
    "            return None\n",
    "        # 第三种\n",
    "        if not root.left:\n",
    "            return root.right\n",
    "        # 第四种\n",
    "        elif not root.right:\n",
    "            return root.left\n",
    "        # 第五种\n",
    "        else:\n",
    "            node = root.right  # 找到右子树\n",
    "            while node.left != None:\n",
    "                node = node.left  # 找到右子树的最左节点\n",
    "            node.left = root.left  # 最左节点的左子树为删除节点的左子树\n",
    "            root = root.right  # 删除root\n",
    "            return root\n",
    "    if root.val > key:\n",
    "        root.left = solve(root.left, key)\n",
    "    if root.val < key:\n",
    "        root.right = solve(root.right, key)\n",
    "    return root"
   ]
  },
  {
   "cell_type": "markdown",
   "id": "1609fbbc-d957-41d3-aef7-e417931e014d",
   "metadata": {},
   "source": [
    "#### 用普通二叉树的思路来删除（难理解）"
   ]
  },
  {
   "cell_type": "code",
   "execution_count": 2,
   "id": "c2c3787b-b32c-49e8-a0e0-165e5dbb3fe6",
   "metadata": {},
   "outputs": [],
   "source": [
    "def solve(root, key):\n",
    "    if root == None:\n",
    "        return root\n",
    "    if root.val == key:\n",
    "        if root.right == None:  # 第二次操作目标值，最终删除\n",
    "            return root.left\n",
    "        cur = root.right\n",
    "        while cur.left:\n",
    "            cur = cur.left\n",
    "        swap(root.val, cur.val)  # 第一次操作目标值，交换目标值其右子树最左面节点\n",
    "    root.left = solve(root.left, key)\n",
    "    root.right = solve(root.right, key)\n",
    "    return root"
   ]
  },
  {
   "cell_type": "markdown",
   "id": "518bf185-8cf3-403a-a353-3a72130da4d2",
   "metadata": {},
   "source": [
    "#### 迭代法"
   ]
  },
  {
   "cell_type": "code",
   "execution_count": 4,
   "id": "548ea295-02e0-4e3a-bf25-ff02b95a0b0f",
   "metadata": {},
   "outputs": [],
   "source": [
    "def solve(root, key):\n",
    "    if root == None:\n",
    "        return root\n",
    "        \n",
    "    pre = None\n",
    "    cur = root\n",
    "    while cur:\n",
    "        if cur.val == key:\n",
    "            break\n",
    "        pre = cur\n",
    "        if cur.val > key:\n",
    "            cur = cur.left\n",
    "        else:\n",
    "            cur = cur.right\n",
    "    # 只有根节点\n",
    "    if pre == None:\n",
    "        return self.deleteOneNode(cur)\n",
    "    # 判断删除的是左或右节点\n",
    "    if pre.left and pre.left.val == key:\n",
    "        pre.left = self.deleteOneNode(cur)\n",
    "    if pre.right and pre.right.val == key:\n",
    "        pre.right = self.deleteOneNode(cur)\n",
    "    return root\n",
    "\n",
    "def deleteOneNode(self, cur):\n",
    "    if cur == None:\n",
    "        return cur    \n",
    "    if cur.right == None:\n",
    "        return cur.left\n",
    "    node = cur.right\n",
    "    while node.left != None:\n",
    "        node = node.left  # 找到右子树的最左节点\n",
    "    node.left = cur.left  # 最左节点的左子树为删除节点的左子树\n",
    "    return cur.right"
   ]
  }
 ],
 "metadata": {
  "kernelspec": {
   "display_name": "Python 3",
   "language": "python",
   "name": "python3"
  },
  "language_info": {
   "codemirror_mode": {
    "name": "ipython",
    "version": 3
   },
   "file_extension": ".py",
   "mimetype": "text/x-python",
   "name": "python",
   "nbconvert_exporter": "python",
   "pygments_lexer": "ipython3",
   "version": "3.9.1"
  }
 },
 "nbformat": 4,
 "nbformat_minor": 5
}
