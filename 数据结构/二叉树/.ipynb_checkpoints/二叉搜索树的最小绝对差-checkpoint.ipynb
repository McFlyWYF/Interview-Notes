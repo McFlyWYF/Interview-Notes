{
 "cells": [
  {
   "cell_type": "markdown",
   "metadata": {},
   "source": [
    "# 二叉搜索树的最小绝对差"
   ]
  },
  {
   "cell_type": "markdown",
   "metadata": {},
   "source": [
    "### 给你一棵所有节点为非负值的二叉搜索树，计算树中任意两节点的差的绝对值的最小值。"
   ]
  },
  {
   "cell_type": "markdown",
   "metadata": {},
   "source": [
    "#### 递归法"
   ]
  },
  {
   "cell_type": "markdown",
   "metadata": {},
   "source": [
    "计算数组之间的差值。"
   ]
  },
  {
   "cell_type": "code",
   "execution_count": null,
   "metadata": {},
   "outputs": [],
   "source": [
    "def solve(root):\n",
    "    result = []\n",
    "    def traversal(cur):\n",
    "        if cur == None:\n",
    "            return None\n",
    "        traversal(cur.left, result)\n",
    "        result.append(cur.val)\n",
    "        traversal(root.right, result)\n",
    "    traversal(root, result)\n",
    "    minis = 1000000\n",
    "    for i in range(len(result) - 1):\n",
    "        diff = result[i + 1] - result[i]\n",
    "        if mins > diff:\n",
    "            mins = diff\n",
    "    return mins"
   ]
  },
  {
   "cell_type": "markdown",
   "metadata": {},
   "source": [
    "在递归的过程中计算前后两个节点之间的差值。"
   ]
  },
  {
   "cell_type": "code",
   "execution_count": 2,
   "metadata": {},
   "outputs": [],
   "source": [
    "def solve(root):\n",
    "    result = float('inf')\n",
    "    pre = None\n",
    "    def traversal(root):\n",
    "        nonlocal pre, result\n",
    "        if root == None:\n",
    "            return None\n",
    "        traversal(root.left)\n",
    "        if pre:\n",
    "            result = min(result, root.val - pre.val)\n",
    "        pre = root  # 记录前一个\n",
    "        traversal(root.right)\n",
    "    traversal(root)\n",
    "    return result"
   ]
  },
  {
   "cell_type": "markdown",
   "metadata": {},
   "source": [
    "#### 迭代法（计算前后两节点之间的差值）"
   ]
  },
  {
   "cell_type": "code",
   "execution_count": null,
   "metadata": {},
   "outputs": [],
   "source": [
    "def solve(root):\n",
    "    if not root:\n",
    "        return []\n",
    "    stack = []  # 不能提前将root结点加入stack中\n",
    "    cur = root\n",
    "    pre = None  # 前一个节点\n",
    "    mins = 10000000\n",
    "    while cur or stack:\n",
    "    # 先迭代访问最底层的左子树结点\n",
    "        if cur:     \n",
    "            stack.append(cur)\n",
    "            cur = cur.left\n",
    "        # 到达最左结点后处理栈顶结点    \n",
    "        else:\n",
    "            cur = stack.pop()\n",
    "            if pre != None and (cur.val - pre.val) < mins:  # 判断前一个节点是否小于下一个节点\n",
    "                mins = cur.val - pre.val\n",
    "            pre = cur\n",
    "            # 取栈顶元素右结点\n",
    "            cur = cur.right\n",
    "    return mins"
   ]
  }
 ],
 "metadata": {
  "kernelspec": {
   "display_name": "Python 3",
   "language": "python",
   "name": "python3"
  },
  "language_info": {
   "codemirror_mode": {
    "name": "ipython",
    "version": 3
   },
   "file_extension": ".py",
   "mimetype": "text/x-python",
   "name": "python",
   "nbconvert_exporter": "python",
   "pygments_lexer": "ipython3",
   "version": "3.6.5"
  }
 },
 "nbformat": 4,
 "nbformat_minor": 2
}
