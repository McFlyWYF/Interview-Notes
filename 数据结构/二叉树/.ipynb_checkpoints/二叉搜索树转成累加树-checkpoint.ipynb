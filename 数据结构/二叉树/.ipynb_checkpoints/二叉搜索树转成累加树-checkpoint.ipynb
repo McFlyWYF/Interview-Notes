{
 "cells": [
  {
   "cell_type": "markdown",
   "id": "f31ae136-250b-441d-bdcb-29361cc390aa",
   "metadata": {},
   "source": [
    "# 二叉搜索树转成累加树"
   ]
  },
  {
   "cell_type": "markdown",
   "id": "2ef24e9b-4df0-49cc-91f2-340d4b8b314e",
   "metadata": {},
   "source": [
    "### 给出二叉搜索树的根节点，该树的节点值各不相同，将其转换为累加树，使每个节点node的新值等于原树中大于或等于node.val的值之和。"
   ]
  },
  {
   "cell_type": "markdown",
   "id": "441cc193-0588-461d-aa3d-d59b1e1ce82a",
   "metadata": {},
   "source": [
    "* 反中序遍历二叉树，然后顺序累加就可以了。"
   ]
  },
  {
   "cell_type": "markdown",
   "id": "8cf61440-80ee-479a-ba2b-5082dcdb053c",
   "metadata": {},
   "source": [
    "#### 递归法"
   ]
  },
  {
   "cell_type": "code",
   "execution_count": 4,
   "id": "f5d5c096-2df2-421b-8ed3-04503acf03d9",
   "metadata": {},
   "outputs": [],
   "source": [
    "def solve(root):\n",
    "    def traversal(cur):\n",
    "        if not cur: return None\n",
    "        traversal(cur.right)  #右中左遍历\n",
    "        \n",
    "        cur.val += self.pre\n",
    "        self.pre = cur.val\n",
    "        \n",
    "        traversal(cur.left)\n",
    "\n",
    "    self.pre = 0\n",
    "    traversal(root)\n",
    "    return root"
   ]
  },
  {
   "cell_type": "markdown",
   "id": "d270be4c-f90b-4b3d-8c2d-2db49e822d25",
   "metadata": {},
   "source": [
    "#### 迭代法"
   ]
  },
  {
   "cell_type": "code",
   "execution_count": 3,
   "id": "f66971e7-d2b0-4d41-8917-06cacaf7717f",
   "metadata": {},
   "outputs": [],
   "source": [
    "def solve(root):\n",
    "    self.pre = 0\n",
    "    stack = []\n",
    "    cur = root\n",
    "    while cur or stack:\n",
    "        # 遍历到最右边\n",
    "        if cur:\n",
    "            stack.append(cur)\n",
    "            cur = cur.right\n",
    "        else:\n",
    "            cur = stack.pop()\n",
    "            # 数值叠加\n",
    "            cur.val += self.pre\n",
    "            self.pre = cur.val\n",
    "            # 遍历左\n",
    "            cur = cur.left\n",
    "    return root"
   ]
  }
 ],
 "metadata": {
  "kernelspec": {
   "display_name": "Python 3",
   "language": "python",
   "name": "python3"
  },
  "language_info": {
   "codemirror_mode": {
    "name": "ipython",
    "version": 3
   },
   "file_extension": ".py",
   "mimetype": "text/x-python",
   "name": "python",
   "nbconvert_exporter": "python",
   "pygments_lexer": "ipython3",
   "version": "3.9.1"
  }
 },
 "nbformat": 4,
 "nbformat_minor": 5
}
