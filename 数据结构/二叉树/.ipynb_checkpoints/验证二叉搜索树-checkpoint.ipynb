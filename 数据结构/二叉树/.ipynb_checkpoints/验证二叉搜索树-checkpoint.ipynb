{
 "cells": [
  {
   "cell_type": "markdown",
   "metadata": {},
   "source": [
    "# 验证二叉搜索树"
   ]
  },
  {
   "cell_type": "markdown",
   "metadata": {},
   "source": [
    "### 给定一个二叉树，判断其是否是一个有效的二叉搜索树。"
   ]
  },
  {
   "cell_type": "markdown",
   "metadata": {},
   "source": [
    "* 假设二叉搜索树具有如下特征：\n",
    "    * 节点的左子树只包含小于当前节点的数。\n",
    "    * 节点的右子树只包含大于当前节点的数。\n",
    "    * 所有左子树和右子树自身必须也是二叉搜素树。"
   ]
  },
  {
   "cell_type": "markdown",
   "metadata": {},
   "source": [
    "#### 递归法（中序遍历下，输出的节点数值是有序的）"
   ]
  },
  {
   "cell_type": "code",
   "execution_count": 4,
   "metadata": {},
   "outputs": [],
   "source": [
    "def solve(root):\n",
    "    result = []\n",
    "\n",
    "    def traversal(root, result):\n",
    "        if root == None:\n",
    "            return None\n",
    "        traversal(root.left,result)\n",
    "        result.append(root.val)\n",
    "        traversal(root.right,result)  \n",
    "        \n",
    "    traversal(root, result)\n",
    "    # 判断是否有序\n",
    "    for i in range(len(result) - 1):\n",
    "        if result[i] >= result[i + 1]:\n",
    "            return False\n",
    "    return True"
   ]
  },
  {
   "cell_type": "markdown",
   "metadata": {},
   "source": [
    "##### 误区：\n",
    "* 不能单纯的比较左节点、右节点和中间节点的大小，需要比较的是左子树、右子树所有节点和中间节点的大小。"
   ]
  },
  {
   "cell_type": "markdown",
   "metadata": {},
   "source": [
    "#### 迭代法"
   ]
  },
  {
   "cell_type": "code",
   "execution_count": 6,
   "metadata": {},
   "outputs": [],
   "source": [
    "def solve(root):\n",
    "    if not root:\n",
    "        return []\n",
    "    stack = []  # 不能提前将root结点加入stack中\n",
    "    cur = root\n",
    "    pre = None  # 前一个节点\n",
    "    while cur or stack:\n",
    "    # 先迭代访问最底层的左子树结点\n",
    "        if cur:     \n",
    "            stack.append(cur)\n",
    "            cur = cur.left\n",
    "        # 到达最左结点后处理栈顶结点    \n",
    "        else:\n",
    "            cur = stack.pop()\n",
    "            if pre != None and pre.val >= cur.val:  # 判断前一个节点是否小于下一个节点\n",
    "                return False\n",
    "            pre = cur\n",
    "            # 取栈顶元素右结点\n",
    "            cur = cur.right\n",
    "    return True"
   ]
  }
 ],
 "metadata": {
  "kernelspec": {
   "display_name": "Python 3",
   "language": "python",
   "name": "python3"
  },
  "language_info": {
   "codemirror_mode": {
    "name": "ipython",
    "version": 3
   },
   "file_extension": ".py",
   "mimetype": "text/x-python",
   "name": "python",
   "nbconvert_exporter": "python",
   "pygments_lexer": "ipython3",
   "version": "3.9.1"
  }
 },
 "nbformat": 4,
 "nbformat_minor": 4
}
