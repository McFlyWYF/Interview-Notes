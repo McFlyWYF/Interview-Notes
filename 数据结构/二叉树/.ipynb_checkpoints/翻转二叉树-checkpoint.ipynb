{
 "cells": [
  {
   "cell_type": "markdown",
   "id": "e4266e82-5e8e-4e7d-ab21-bbdfeb46ca0e",
   "metadata": {},
   "source": [
    "# 翻转二叉树"
   ]
  },
  {
   "cell_type": "markdown",
   "id": "35ba71cc-47a9-47e7-8588-9b02bdaa7083",
   "metadata": {},
   "source": [
    "### 翻转一棵二叉树"
   ]
  },
  {
   "cell_type": "markdown",
   "id": "5a999b40-d371-46f7-9fd1-3ead8a3a2652",
   "metadata": {},
   "source": [
    "* 使用前序和后序遍历都可以进行翻转，层序遍历也可以，只要把左右孩子翻转一下就行。"
   ]
  },
  {
   "cell_type": "markdown",
   "id": "7f69cb77-3768-48e6-9f11-ef568549208a",
   "metadata": {},
   "source": [
    "#### 递归法"
   ]
  },
  {
   "cell_type": "code",
   "execution_count": null,
   "id": "f695230a-39fd-40b1-91b1-a45b25d0a9cc",
   "metadata": {},
   "outputs": [],
   "source": [
    "def invert(root):\n",
    "    if root == None:\n",
    "        return None\n",
    "    root.left, root.right = root.right, root.left\n",
    "    invert(root.left)\n",
    "    invert(root.right)\n",
    "    return root"
   ]
  },
  {
   "cell_type": "markdown",
   "id": "439c7d63-666d-40d3-a7fd-c9233f5fd55e",
   "metadata": {},
   "source": [
    "#### 迭代法"
   ]
  },
  {
   "cell_type": "markdown",
   "id": "44c383f8-dd84-4739-aead-3999fa36adf6",
   "metadata": {},
   "source": [
    "##### 1.深度优先遍历（前序）"
   ]
  },
  {
   "cell_type": "code",
   "execution_count": 1,
   "id": "82496748-1c05-4bbd-ae36-6d506e764c67",
   "metadata": {},
   "outputs": [],
   "source": [
    "def invert(root):\n",
    "    if not root:\n",
    "        return None\n",
    "    st = [root]\n",
    "    while st:\n",
    "        cur = st.pop()\n",
    "        cur.left, cur.right = cur.right, cur.left   # 根\n",
    "        if cur.left:\n",
    "            st.append(cur.left)   # 左\n",
    "        if cur.right:\n",
    "            st.append(cur.right)   # 右\n",
    "    return root"
   ]
  },
  {
   "cell_type": "markdown",
   "id": "a7215af9-5cb1-4b35-b805-ad440e88e3d1",
   "metadata": {},
   "source": [
    "##### 2.广度优先遍历"
   ]
  },
  {
   "cell_type": "code",
   "execution_count": 5,
   "id": "105fa72c-02e0-450f-8f6d-4b4a0028b6c3",
   "metadata": {},
   "outputs": [],
   "source": [
    "def invert(root):\n",
    "    if not root:\n",
    "        return None\n",
    "    st = [root]\n",
    "    while st:\n",
    "        size = len(st)\n",
    "        for i in range(size):\n",
    "            cur = st.pop()\n",
    "            cur.left, cur.right = cur.right, cur.left   # 每一层进行交换\n",
    "            if cur.left:\n",
    "                st.append(cur.left)\n",
    "            if cur.right:\n",
    "                st.append(cur.right)\n",
    "    return root"
   ]
  }
 ],
 "metadata": {
  "kernelspec": {
   "display_name": "Python 3",
   "language": "python",
   "name": "python3"
  },
  "language_info": {
   "codemirror_mode": {
    "name": "ipython",
    "version": 3
   },
   "file_extension": ".py",
   "mimetype": "text/x-python",
   "name": "python",
   "nbconvert_exporter": "python",
   "pygments_lexer": "ipython3",
   "version": "3.9.1"
  }
 },
 "nbformat": 4,
 "nbformat_minor": 5
}
