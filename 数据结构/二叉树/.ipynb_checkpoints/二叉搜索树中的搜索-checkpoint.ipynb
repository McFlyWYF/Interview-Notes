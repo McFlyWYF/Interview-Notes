{
 "cells": [
  {
   "cell_type": "markdown",
   "metadata": {},
   "source": [
    "# 二叉搜索树中的搜索"
   ]
  },
  {
   "cell_type": "markdown",
   "metadata": {},
   "source": [
    "### 给定二叉搜索树的根节点和一个值。再BST中找到节点值等于给定值的节点。返回以该节点为根的子树。如果节点不存在，则返回NULL。"
   ]
  },
  {
   "cell_type": "markdown",
   "metadata": {},
   "source": [
    "二叉搜索树是一棵有序树，左子树的节点小于根节点，右子树的节点大于根节点。"
   ]
  },
  {
   "cell_type": "markdown",
   "metadata": {},
   "source": [
    "可以通过判断目标值是否大于根节点来决定在左或右子树上进行查找。"
   ]
  },
  {
   "cell_type": "markdown",
   "metadata": {},
   "source": [
    "#### 迭代法（前序遍历）"
   ]
  },
  {
   "cell_type": "code",
   "execution_count": 2,
   "metadata": {},
   "outputs": [],
   "source": [
    "def solve(root, target):\n",
    "    if root == None:\n",
    "        return None\n",
    "    stack = [root]\n",
    "    while stack:\n",
    "        node = stack.pop()\n",
    "        if node.val == target:\n",
    "            return node  # 返回该子树\n",
    "        if node.right and node.val < val:\n",
    "            stack.append(node.right)\n",
    "        if node.left and node.val > val:\n",
    "            stack.append(node.left)\n",
    "    return None"
   ]
  },
  {
   "cell_type": "markdown",
   "metadata": {},
   "source": [
    "因为二叉搜索树是有序的，不需要回溯，所以不用栈来进行遍历，直接根据节点值的大小来决定遍历顺序。"
   ]
  },
  {
   "cell_type": "code",
   "execution_count": 4,
   "metadata": {},
   "outputs": [],
   "source": [
    "def solve(root):\n",
    "    while root:\n",
    "        if root.val < val:\n",
    "            root = root.right\n",
    "        elif root.val > val:\n",
    "            root = root.left\n",
    "        else:\n",
    "            return root\n",
    "    return None"
   ]
  },
  {
   "cell_type": "markdown",
   "metadata": {},
   "source": [
    "#### 递归法"
   ]
  },
  {
   "cell_type": "code",
   "execution_count": null,
   "metadata": {},
   "outputs": [],
   "source": [
    "def solve(root, val):\n",
    "    if root == None or root.val == val:\n",
    "        return root\n",
    "    if root.val > val:\n",
    "        return solve(root.left)\n",
    "    if root.val < val:\n",
    "        return solve(root.right)\n",
    "    return None"
   ]
  }
 ],
 "metadata": {
  "kernelspec": {
   "display_name": "Python 3",
   "language": "python",
   "name": "python3"
  },
  "language_info": {
   "codemirror_mode": {
    "name": "ipython",
    "version": 3
   },
   "file_extension": ".py",
   "mimetype": "text/x-python",
   "name": "python",
   "nbconvert_exporter": "python",
   "pygments_lexer": "ipython3",
   "version": "3.6.5"
  }
 },
 "nbformat": 4,
 "nbformat_minor": 2
}
