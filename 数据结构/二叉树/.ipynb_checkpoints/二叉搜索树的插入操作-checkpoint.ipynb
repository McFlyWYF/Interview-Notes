{
 "cells": [
  {
   "cell_type": "markdown",
   "id": "5cb8ef27-5ebf-436c-b4fd-bdd18542d651",
   "metadata": {},
   "source": [
    "# 二叉搜索树中的插入操作"
   ]
  },
  {
   "cell_type": "markdown",
   "id": "9ebb1211-f735-4df1-9eab-70949c8f64e3",
   "metadata": {},
   "source": [
    "### 给定二叉搜索树的根节点和要插入树中的值，将值插入二叉搜索树。返回插入后二叉搜索树的根节点。输入数据保证，新值和原始二叉搜索树中的任意节点值都不同。"
   ]
  },
  {
   "cell_type": "markdown",
   "id": "8b6084dd-661a-4ccd-9127-0f64ada3f4df",
   "metadata": {},
   "source": [
    "#### 递归法"
   ]
  },
  {
   "cell_type": "code",
   "execution_count": 1,
   "id": "a822a3e3-4193-4d39-8e75-b5647fc2b308",
   "metadata": {},
   "outputs": [],
   "source": [
    "def insertnode(root, val):\n",
    "    # 建立新节点\n",
    "    if root == None:\n",
    "        node = TreeNode(val)\n",
    "        return node\n",
    "    if root.val > val:\n",
    "        root.left = insertnode(root.lef, val)\n",
    "    if root.val < val:\n",
    "        root.left = insertnode(root.right, val)\n",
    "    return root"
   ]
  },
  {
   "cell_type": "markdown",
   "id": "9905640e-a916-48d9-8526-1a00006c519c",
   "metadata": {},
   "source": [
    "#### 迭代法"
   ]
  },
  {
   "cell_type": "code",
   "execution_count": 2,
   "id": "2589f95f-4c5b-40c6-ad51-8158fb4a6c85",
   "metadata": {},
   "outputs": [],
   "source": [
    "def insertnode(root, val):\n",
    "    pre = None  # 保存空节点的父结点\n",
    "    q = root  # 保存根节点，用于返回\n",
    "    node = TreeNode(val)\n",
    "    \n",
    "    if root == None:\n",
    "        return node\n",
    "    while root:\n",
    "        if root.val > val:\n",
    "            pre = root\n",
    "            root = root.left\n",
    "        elif root.val < val:\n",
    "            pre = root\n",
    "            root = root.right\n",
    "    # 遍历到了空节点，判断插入左或右节点上\n",
    "    if pre.val > val:\n",
    "        pre.left = node\n",
    "    else:\n",
    "        pre.right = node\n",
    "    return q"
   ]
  }
 ],
 "metadata": {
  "kernelspec": {
   "display_name": "Python 3",
   "language": "python",
   "name": "python3"
  },
  "language_info": {
   "codemirror_mode": {
    "name": "ipython",
    "version": 3
   },
   "file_extension": ".py",
   "mimetype": "text/x-python",
   "name": "python",
   "nbconvert_exporter": "python",
   "pygments_lexer": "ipython3",
   "version": "3.9.1"
  }
 },
 "nbformat": 4,
 "nbformat_minor": 5
}
