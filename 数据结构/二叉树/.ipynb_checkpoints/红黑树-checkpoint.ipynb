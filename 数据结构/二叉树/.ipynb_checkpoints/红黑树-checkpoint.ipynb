{
 "cells": [
  {
   "cell_type": "markdown",
   "metadata": {},
   "source": [
    "# 红黑树"
   ]
  },
  {
   "cell_type": "markdown",
   "metadata": {},
   "source": [
    "* 红黑树除了具备BST的特性外，还有以下特性：\n",
    "    * 每个节点都有颜色，黑色或红色\n",
    "    * 根节点是黑色的\n",
    "    * 每个叶子节点都是黑色的\n",
    "    * 如果一个节点是红色的，则它的子节点必须是黑色的\n",
    "    * 任意一个节点到该节点的每个叶子节点的所有路径上包含相同数目的黑节点"
   ]
  },
  {
   "cell_type": "markdown",
   "metadata": {},
   "source": [
    "* 性质5确保从任意一个节点出发到其叶子节点的所有路径中，最长路径长度也不会超过最短路径长度的两倍。且每个节点的左右子树中黑节点的层数是相等的，因此红黑树的黑节点是完美平衡的。"
   ]
  },
  {
   "cell_type": "markdown",
   "metadata": {},
   "source": [
    "#### 添加、删除"
   ]
  },
  {
   "cell_type": "markdown",
   "metadata": {},
   "source": [
    "* 在添加或删除红黑树中的节点之后，红黑树的结构就发生了变化，要采用旋转和节点变色两种操作让树保持红黑树的特性。"
   ]
  },
  {
   "cell_type": "markdown",
   "metadata": {},
   "source": [
    "* `\"左旋\"`：以某个结点P作为支点，其右子节点V变为旋转节点P的父节点，右子节点V的左子节点R变为旋转节点P的右子节点，左子节点F保持不变。"
   ]
  },
  {
   "cell_type": "markdown",
   "metadata": {},
   "source": [
    "* `\"右旋\"`：以某个节点P作为支点，其左子节点F变为旋转节点P的父节点，左子节点F的右子节点K变为旋转节点P的左子节点，右子节点V保持不变。"
   ]
  },
  {
   "cell_type": "markdown",
   "metadata": {},
   "source": [
    "### 红黑树节点定义"
   ]
  },
  {
   "cell_type": "code",
   "execution_count": 5,
   "metadata": {},
   "outputs": [],
   "source": [
    "class RbTreeNode():\n",
    "    def __init__(self):\n",
    "        this.color = color\n",
    "        this.left = left\n",
    "        this.right = right\n",
    "        this.parent = parent\n",
    "        this.key = key"
   ]
  },
  {
   "cell_type": "markdown",
   "metadata": {},
   "source": [
    "### 左旋操作"
   ]
  },
  {
   "cell_type": "code",
   "execution_count": 8,
   "metadata": {},
   "outputs": [],
   "source": [
    "def leftRotate(pNode):\n",
    "    pNode.right = rNode  # p的右子节点v的左子节点r变为旋转节点p的右子节点\n",
    "    if rNode != None:\n",
    "        rNode.parnet = pNode  # 修正r的parent为p\n",
    "        \n",
    "    vNode.parent = pNode.parent  # 修正v的parent为p原来的parent\n",
    "    \n",
    "    if pNode.parent == None:\n",
    "        this.mRoot = vNode  # 如果p原来就没有parent，说明p原来就是根节点。现在v要变成p的parent，则新的根节点要更新为v\n",
    "\n",
    "    else:\n",
    "        if pNode.parent.left == pNode:  # 如果p原来就有parent，则v取代p作为这个parent的左孩子或右孩子\n",
    "            pNode.parent.left = vNode\n",
    "        else:\n",
    "            pNode.parent.right = vNode\n",
    "    vNode.left = pNode  # 旋转节点p变为节点v的左孩子\n",
    "    pNode.parent = vNode  # 节点v变为旋转节点p的父节点"
   ]
  },
  {
   "cell_type": "markdown",
   "metadata": {},
   "source": [
    "### 右旋操作"
   ]
  },
  {
   "cell_type": "code",
   "execution_count": 10,
   "metadata": {},
   "outputs": [],
   "source": [
    "def rightRotate(pNode):\n",
    "    pNode.left = kNode  # p的左子节点f的右子节点k变为旋转节点p的左子节点\n",
    "    if kNode != None:\n",
    "        kNode.parnet = pNode  # 修正k的parent为p\n",
    "        \n",
    "    fNode.parent = pNode.parent  # 修正f的parent为p原来的parent\n",
    "    \n",
    "    if pNode.parent == None:\n",
    "        this.mRoot = fNode  # 如果p原来就没有parent，说明p原来就是根节点。现在f要变成p的parent，则新的根节点要更新为f\n",
    "\n",
    "    else:\n",
    "        if pNode.parent.right == pNode:  # 如果p原来就有parent，则v取代p作为这个parent的左孩子或右孩子\n",
    "            pNode.parent.right = fNode\n",
    "        else:\n",
    "            pNode.parent.left = fNode\n",
    "    fNode.right = pNode  # 旋转节点p变为节点f的右孩子\n",
    "    pNode.parent = fNode  # 节点f变为旋转节点p的父节点"
   ]
  },
  {
   "cell_type": "markdown",
   "metadata": {},
   "source": [
    "### 插入操作"
   ]
  },
  {
   "cell_type": "markdown",
   "metadata": {},
   "source": [
    "* 第一步：按照BST的节点插入过程，将节点插入。\n",
    "* 第二步：将插入的节点着色为红色，这是因为不会违背特性5，会违背特性4。\n",
    "* 第三步：通过一系列的旋转或变色操作，使之重新成为一棵红黑树。\n",
    "    * 被插入的节点是根节点。直接把此节点涂为黑色。\n",
    "    * 被插入的节点的父节点是黑色。什么也不需要做，节点被插入后，仍是红黑树。\n",
    "    * 当前节点的父节点是红色。该情况与红黑树的特征４相冲突。这种情况下，当前节点是一定存在非空祖父节点的。进一步讲，当前节点也一定存在叔叔节点。\n",
    "        * 当前节点的父节点是红色，且当前节点的祖父节点的另一个子节点也是红色。\n",
    "            * 将当前节点的父节点设为黑色\n",
    "            * 将当前节点的叔叔节点设为黑色\n",
    "            * 将当前节点的祖父节点设为红色\n",
    "            * 将当前节点的祖父节点设为新的当前节点，之后继续对当前节点进行操作\n",
    "        * 当前节点的父节点是红色，叔叔节点是黑色，且当前节点是其父节点的右孩子\n",
    "            * 将当前节点的父节点作为新的当前节点\n",
    "            * 以新的当前节点作为支点进行左旋\n",
    "            * 根据新的当前节点所符合的情形继续操作\n",
    "        * 当前节点的父节点是红色，叔叔节点是黑色，且当前节点是其父节点的左孩子\n",
    "            * 将父节点设为黑色\n",
    "            * 将祖父节点设为红色\n",
    "            * 以祖父节点为支点进行右旋"
   ]
  },
  {
   "cell_type": "markdown",
   "metadata": {},
   "source": [
    "### 删除操作 "
   ]
  },
  {
   "cell_type": "markdown",
   "metadata": {},
   "source": [
    "* 首先将红黑树当作一颗二叉查找树，将该节点从二叉查找树中删除；\n",
    "    * 被删除节点没有儿子，即为叶节点\n",
    "        * 直接将该节点删除就行，若是红色节点，并不破坏红黑树的性质，不需要修正，只有被删除的节点是黑节点时再进行修正；\n",
    "    * 被删除节点只有一个儿子\n",
    "        * 直接删除该节点，并用该节点的唯一子节点顶替它的位置就行。\n",
    "    * 被删除节点有两个儿子\n",
    "        * 先找到它的中序后继节点，然后把它的中序后继节点的内容复制给该节点，之后，删除它的中序后继节点。\n",
    "    \n",
    "* 然后通过旋转和变色等一系列操作来修正该树，使之重新成为一颗红黑树。\n",
    "    * 当前节点是红＋黑节点\n",
    "        * 直接把当前节点设为黑色，结束。此时红黑树性质全部恢复。\n",
    "    * 当前节点是黑＋黑节点，且当前节点是根\n",
    "        * 什么都不做，结束。此时红黑树性质全部恢复。\n",
    "    * 当前节点是黑＋黑节点，且当前节点不是根\n",
    "        * 当前节点是黑＋黑，且当前节点的兄弟节点是红色\n",
    "            * 将当前节点的兄弟节点设为黑色\n",
    "            * 将当前节点的父节点设为红色\n",
    "            * 对当前节点的父节点进行左旋\n",
    "            * 左旋后，重新设置当前节点的兄弟节点\n",
    "            * 观察当前符合哪种case，继续迭代\n",
    "        * 当前节点是黑＋黑节点，且当前节点的兄弟节点是黑色，且兄弟的两个孩子也是黑色\n",
    "            * 将当前节点的兄弟节点设为红色\n",
    "            * 设置当前节点的父节点为新的当前节点\n",
    "            * 观察当前符合哪种case，继续迭代\n",
    "        * 当前节点是黑＋黑节点，且当前节点的兄弟节点是黑色，且兄弟的左孩子是红色，右孩子是黑色\n",
    "            * 将当前节点的兄弟节点的左孩子设为黑色\n",
    "            * 将当前节点的兄弟节点设为红色\n",
    "            * 对当前节点的兄弟节点进行右旋\n",
    "            * 观察当前符合哪种case，继续迭代\n",
    "        * 当前节点是黑＋黑节点，且当前节点的兄弟节点是黑色，且兄弟的左孩子是任意颜色，右孩子是红色\n",
    "            * 将当前节点的父节点颜色赋值给当前节点的兄弟节点\n",
    "            * 将当前节点的父节点设为黑色\n",
    "            * 将当前节点的兄弟节点的右子节点设为黑色\n",
    "            * 设置当前节点为根节点\n",
    "            * 结束迭代"
   ]
  }
 ],
 "metadata": {
  "kernelspec": {
   "display_name": "Python 3",
   "language": "python",
   "name": "python3"
  },
  "language_info": {
   "codemirror_mode": {
    "name": "ipython",
    "version": 3
   },
   "file_extension": ".py",
   "mimetype": "text/x-python",
   "name": "python",
   "nbconvert_exporter": "python",
   "pygments_lexer": "ipython3",
   "version": "3.6.5"
  }
 },
 "nbformat": 4,
 "nbformat_minor": 5
}
