{
 "cells": [
  {
   "cell_type": "markdown",
   "id": "47a94113-3057-4591-8631-cb2b5a03d3af",
   "metadata": {},
   "source": [
    "# 二叉树的最近公共祖先"
   ]
  },
  {
   "cell_type": "markdown",
   "id": "7d0c0a0e-5d96-4836-bb5c-cffd69655625",
   "metadata": {},
   "source": [
    "### 给定一个二叉树，找到该树中两个指定节点的最近公共祖先。"
   ]
  },
  {
   "cell_type": "markdown",
   "id": "5899ee53-6fc0-45ac-ae17-125341734903",
   "metadata": {},
   "source": [
    "* 公共祖先的定义为：对于有根树T的两个节点p,q，最近公共祖先表示为一个节点x，满足x是p,q的祖先且x的深度尽可能的大。"
   ]
  },
  {
   "cell_type": "markdown",
   "id": "01130b69-f52f-44b6-9e14-ac88577a137d",
   "metadata": {},
   "source": [
    "使用回溯自底向上查找，也就是后序遍历。如果找到一个节点，发现左子树出现节点p，右子树出现节点q，或者左子树出现q，右子树出现p，那么该节点就是节点p和节点q的最近公共祖先。"
   ]
  },
  {
   "cell_type": "code",
   "execution_count": 4,
   "id": "0ba57bea-f5b6-4599-8594-c5e93434b4ba",
   "metadata": {},
   "outputs": [],
   "source": [
    "def lowestCommonAncestor(self, root, p, q):\n",
    "    if root == None or root == p or root == q:\n",
    "        return root\n",
    "    left = self.lowestCommonAncestor(root.left, p, q)  # 这里遍历的是整棵树，所以需要返回值\n",
    "    right = self.lowestCommonAncestor(root.right, p, q)\n",
    "    # 找到了最近公共祖先\n",
    "    if left and right:\n",
    "        return root\n",
    "    # 左子树为空，返回右子树\n",
    "    if left == None:\n",
    "        return right\n",
    "    return left"
   ]
  },
  {
   "cell_type": "markdown",
   "id": "eedfc935-9da9-40ec-8c26-ff1cb771f313",
   "metadata": {},
   "source": [
    "#### 总结"
   ]
  },
  {
   "cell_type": "markdown",
   "id": "a38ec5e1-8475-4ea0-8d1c-177c3f272883",
   "metadata": {},
   "source": [
    "* 求最小公共祖先，需要从底向上遍历，那么二叉树，只能通过后序遍历实现从底向上的遍历方式。\n",
    "* 在回溯的过程中，必然要遍历整棵二叉树，即使已经找到结果了，依然要把其他节点遍历完，因为要使用递归函数的返回值做逻辑判断。"
   ]
  },
  {
   "cell_type": "markdown",
   "id": "1bfa4260-2b05-4e68-b80c-bd7a6d5cbc2e",
   "metadata": {},
   "source": [
    "**堆是一棵完全二叉树，同时保证父结点一定>=子节点的顺序关系。完全二叉树一定是平衡二叉树，搜索树是左小右大，堆不是平衡二叉搜索树。**"
   ]
  }
 ],
 "metadata": {
  "kernelspec": {
   "display_name": "Python 3",
   "language": "python",
   "name": "python3"
  },
  "language_info": {
   "codemirror_mode": {
    "name": "ipython",
    "version": 3
   },
   "file_extension": ".py",
   "mimetype": "text/x-python",
   "name": "python",
   "nbconvert_exporter": "python",
   "pygments_lexer": "ipython3",
   "version": "3.9.1"
  }
 },
 "nbformat": 4,
 "nbformat_minor": 5
}
