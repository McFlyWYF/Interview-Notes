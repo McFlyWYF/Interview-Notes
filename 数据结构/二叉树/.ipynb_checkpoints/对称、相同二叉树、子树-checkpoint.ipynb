{
 "cells": [
  {
   "cell_type": "markdown",
   "id": "478c67f8-5ca9-40ef-9ab5-367e7fe3261c",
   "metadata": {},
   "source": [
    "# 相同二叉树"
   ]
  },
  {
   "cell_type": "markdown",
   "id": "371401fc-d6d3-4e31-8a73-7f354a6e4282",
   "metadata": {},
   "source": [
    "### 判断两棵二叉树是否相同"
   ]
  },
  {
   "cell_type": "markdown",
   "id": "9c07e58a-e2a1-4576-aa08-6abdbb146a27",
   "metadata": {},
   "source": [
    "比较结构和对应的数值是否相同。如果其中一棵是空树，则返回false；如果都不为空，但数值不同，返回false；如果都为空树，返回true。"
   ]
  },
  {
   "cell_type": "markdown",
   "id": "01373a06-df35-4f10-ba5e-f646864be5c9",
   "metadata": {},
   "source": [
    "#### 递归法"
   ]
  },
  {
   "cell_type": "code",
   "execution_count": 1,
   "id": "f14a39f3-3ba1-46aa-b287-2e655943644a",
   "metadata": {},
   "outputs": [],
   "source": [
    "def issame(p, q):\n",
    "    if not p and not q:\n",
    "        return True\n",
    "    elif not p or not q:\n",
    "        return False\n",
    "    elif p.val != q.val:\n",
    "        return False\n",
    "    else:\n",
    "        return issame(p.left, q.left) and issame(p.right, q.right)"
   ]
  },
  {
   "cell_type": "markdown",
   "id": "b7d553b2-67af-40c3-93e9-dddb0a1f65e0",
   "metadata": {},
   "source": [
    "#### 迭代法"
   ]
  },
  {
   "cell_type": "code",
   "execution_count": 5,
   "id": "eeacc208-b484-4621-93d4-dafc673f4806",
   "metadata": {},
   "outputs": [],
   "source": [
    "def issame(p, q):\n",
    "    stack1 = [p]\n",
    "    stack2 = [q]\n",
    "    if not p and not q:\n",
    "        return True\n",
    "        \n",
    "    while stack1 and stack2:\n",
    "        \n",
    "        node1 = stack1.pop()\n",
    "        node2 = stack2.pop()\n",
    "\n",
    "        if not node1 or not node2 or node1.val != node2.val:\n",
    "            return False\n",
    "\n",
    "        if (node1.left and not node2.left) or (node2.left and not node1.left):\n",
    "            return False\n",
    "        if (node1.right and not node2.right) or (node2.right and not node1.right):\n",
    "            return False\n",
    "        if node1.left and node2.left:\n",
    "            stack1.append(node1.left)\n",
    "            stack2.append(node2.left)\n",
    "        if node2.right and node1.right:\n",
    "            stack1.append(node1.right)\n",
    "            stack2.append(node2.right)\n",
    "    return True"
   ]
  },
  {
   "cell_type": "markdown",
   "id": "b77619c1-748f-4246-b4a8-5b5bea5b4222",
   "metadata": {},
   "source": [
    "# 另一棵树的子树"
   ]
  },
  {
   "cell_type": "markdown",
   "id": "47d138b0-896c-4f68-8746-52de44f69cf1",
   "metadata": {},
   "source": [
    "### 判断root中是否包含和subroot具有相同结构和节点值的子树。"
   ]
  },
  {
   "cell_type": "code",
   "execution_count": 8,
   "id": "d9f4a252-7cde-45c5-b552-31c3a4ffdebb",
   "metadata": {},
   "outputs": [],
   "source": [
    "def isSubtree(root, subtree):\n",
    "    def isSame(p, q):\n",
    "        if not p and not q:\n",
    "            return True\n",
    "        if not p or not q:\n",
    "            return False\n",
    "        if p.val != q.val:\n",
    "            return False\n",
    "        return isSame(p.left, q.left) and isSame(p.right, q.right)\n",
    "        \n",
    "    if not root and not subRoot:\n",
    "        return True\n",
    "    if not root or not subRoot:\n",
    "        return False\n",
    "    return isSame(root, subRoot) or self.isSubtree(root.left, subRoot) or self.isSubtree(root.right, subRoot)"
   ]
  }
 ],
 "metadata": {
  "kernelspec": {
   "display_name": "Python 3",
   "language": "python",
   "name": "python3"
  },
  "language_info": {
   "codemirror_mode": {
    "name": "ipython",
    "version": 3
   },
   "file_extension": ".py",
   "mimetype": "text/x-python",
   "name": "python",
   "nbconvert_exporter": "python",
   "pygments_lexer": "ipython3",
   "version": "3.9.1"
  }
 },
 "nbformat": 4,
 "nbformat_minor": 5
}
