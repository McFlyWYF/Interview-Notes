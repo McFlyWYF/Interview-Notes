{
 "cells": [
  {
   "cell_type": "markdown",
   "metadata": {},
   "source": [
    "# 二叉搜索树中的众数"
   ]
  },
  {
   "cell_type": "markdown",
   "metadata": {},
   "source": [
    "### 给定一个有相同值的二叉搜索树，找出BST中的所有众数。"
   ]
  },
  {
   "cell_type": "markdown",
   "metadata": {},
   "source": [
    "#### 递归法（普通二叉树）"
   ]
  },
  {
   "cell_type": "code",
   "execution_count": 30,
   "metadata": {},
   "outputs": [],
   "source": [
    "def solve(root):\n",
    "    \n",
    "    hashmap = {}\n",
    "    def traversal(root):\n",
    "        if root == None:\n",
    "            return None\n",
    "        hashmap[root.val] = hashmap.get(root.val, 0) + 1\n",
    "        \n",
    "        traversal(root.right)\n",
    "        traversal(root.left)\n",
    "    traversal(root)\n",
    "    maxnum = max(hashmap, key=hashmap.get)  # 找出计数器最大的节点\n",
    "    maxCount = hashmap[maxnum]  # 找出最大的计数器\n",
    "    \n",
    "    return [k for k, v in hashmap.items() if v == maxCount]"
   ]
  },
  {
   "cell_type": "markdown",
   "metadata": {},
   "source": [
    "#### 递归法（二叉搜索树）"
   ]
  },
  {
   "cell_type": "code",
   "execution_count": 28,
   "metadata": {},
   "outputs": [],
   "source": [
    "def solve(root):\n",
    "    self.pre = None  # 前一个节点\n",
    "    self.count = 0  # 计数器\n",
    "    self.result = [] # 记录结果\n",
    "    self.maxCount = 0\n",
    "\n",
    "    def search(root):\n",
    "        if root == None:\n",
    "            return None\n",
    "        search(root.left)\n",
    "        \n",
    "        if self.pre == None:  # 第一个节点\n",
    "            self.count = 1\n",
    "        elif self.pre.val == root.val:  # 前后相等\n",
    "            self.count += 1\n",
    "        else:  # 与前一个不相等\n",
    "            self.count = 1\n",
    "        if self.count == self.maxCount:\n",
    "            self.result.append(root.val)\n",
    "        if self.count > self.maxCount:\n",
    "            self.maxCount = self.count\n",
    "            self.result = []\n",
    "            self.result.append(root.val)\n",
    "        self.pre = root\n",
    "\n",
    "        search(root.right)\n",
    "    search(root)\n",
    "    return self.result"
   ]
  },
  {
   "cell_type": "markdown",
   "metadata": {},
   "source": [
    "#### 迭代法"
   ]
  },
  {
   "cell_type": "code",
   "execution_count": 27,
   "metadata": {},
   "outputs": [],
   "source": [
    "def solve(root):\n",
    "    if not root:\n",
    "        return []\n",
    "    stack = []  # 不能提前将root结点加入stack中\n",
    "    cur = root\n",
    "    pre = None  # 前一个节点\n",
    "    result = []\n",
    "    count = 0\n",
    "    maxCount = 0\n",
    "    while cur or stack:\n",
    "    # 先迭代访问最底层的左子树结点\n",
    "        if cur:     \n",
    "            stack.append(cur)\n",
    "            cur = cur.left\n",
    "        # 到达最左结点后处理栈顶结点    \n",
    "        else:\n",
    "            cur = stack.pop()\n",
    "            if pre == None:  # 第一个节点\n",
    "                count = 1\n",
    "            elif pre.val == cur.val:  # 前后相等\n",
    "                count += 1\n",
    "            else:  # 与前一个不相等\n",
    "                count = 1\n",
    "            if maxCount == count:  # 加入和最大频率相同的节点\n",
    "                result.append(cur.val)\n",
    "            if maxCount < count:  # 更新最大频率\n",
    "                maxCount = count\n",
    "                result.clear()  # 清空result\n",
    "                result.append(cur.val)\n",
    "            pre = cur\n",
    "            cur = cur.right\n",
    "    return True"
   ]
  }
 ],
 "metadata": {
  "kernelspec": {
   "display_name": "Python 3",
   "language": "python",
   "name": "python3"
  },
  "language_info": {
   "codemirror_mode": {
    "name": "ipython",
    "version": 3
   },
   "file_extension": ".py",
   "mimetype": "text/x-python",
   "name": "python",
   "nbconvert_exporter": "python",
   "pygments_lexer": "ipython3",
   "version": "3.9.1"
  }
 },
 "nbformat": 4,
 "nbformat_minor": 4
}
