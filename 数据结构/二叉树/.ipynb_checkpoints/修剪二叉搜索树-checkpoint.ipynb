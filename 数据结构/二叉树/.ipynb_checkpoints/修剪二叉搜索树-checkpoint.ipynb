{
 "cells": [
  {
   "cell_type": "markdown",
   "id": "2a3b51be-4d83-4912-9cff-88898a452c46",
   "metadata": {},
   "source": [
    "# 修剪二叉搜索树"
   ]
  },
  {
   "cell_type": "markdown",
   "id": "f5103fd2-473b-40e9-9f91-d9209fb4c45e",
   "metadata": {},
   "source": [
    "### 给定一个二叉搜索树，同时给定最小边界L和最大边界R。通过修剪二叉搜索树，使得所有节点的值在[L,R]中，返回结果应当返回修剪好的二叉搜索树的新的根节点。"
   ]
  },
  {
   "cell_type": "markdown",
   "id": "ae50c92b-0109-42a9-9e42-4c6545c2e9b1",
   "metadata": {},
   "source": [
    "#### 递归法"
   ]
  },
  {
   "cell_type": "code",
   "execution_count": 3,
   "id": "1b607e7d-dceb-4368-8f6d-c5ab0707e9ce",
   "metadata": {},
   "outputs": [],
   "source": [
    "def solve(root, low, high):\n",
    "    if root == None:\n",
    "        return None\n",
    "    # 找到删除节点的左右子树\n",
    "    if root.val < low:\n",
    "        right = solve(root.right, low, high)\n",
    "        return right\n",
    "    if root.val > high:\n",
    "        left = solve(root.left, low, high)\n",
    "        return left\n",
    "    # 将找到的左右子树用删除节点给接住\n",
    "    root.left = solve(root.left, low, high)\n",
    "    root.right = solve(root.right, low, high)\n",
    "    return root"
   ]
  },
  {
   "cell_type": "markdown",
   "id": "3fdd0a89-8c84-4427-a12a-40fa85745d3d",
   "metadata": {},
   "source": [
    "#### 迭代法"
   ]
  },
  {
   "cell_type": "code",
   "execution_count": 4,
   "id": "9bfcff0b-4670-4c23-a9e0-b889359eb07c",
   "metadata": {},
   "outputs": [],
   "source": [
    "def solve(root, key):\n",
    "    if root == None:\n",
    "        return root\n",
    "    # 将root移动到[L,R]范围内\n",
    "    while root.val < L or root.val > R:\n",
    "        if root.val < L:  # 小于L向右走\n",
    "            root = root.right\n",
    "        else:\n",
    "            root = root.left  # 大于R向左走\n",
    "    # 剪枝左子树，处理左孩子小于L的情况\n",
    "    cur = root\n",
    "    while cur:\n",
    "        while cur.left and cur.left.val < L:\n",
    "            cur.left = cur.left.right\n",
    "        cur = cur.left\n",
    "    # 剪枝右子树，处理右孩子大于R的情况\n",
    "    cur = root\n",
    "    while cur:\n",
    "        while cur.right and cur.right.val > R:\n",
    "            cur.right = cur.right.left\n",
    "        cur = cur.right\n",
    "    return root"
   ]
  }
 ],
 "metadata": {
  "kernelspec": {
   "display_name": "Python 3",
   "language": "python",
   "name": "python3"
  },
  "language_info": {
   "codemirror_mode": {
    "name": "ipython",
    "version": 3
   },
   "file_extension": ".py",
   "mimetype": "text/x-python",
   "name": "python",
   "nbconvert_exporter": "python",
   "pygments_lexer": "ipython3",
   "version": "3.9.1"
  }
 },
 "nbformat": 4,
 "nbformat_minor": 5
}
