{
 "cells": [
  {
   "cell_type": "markdown",
   "id": "textile-attraction",
   "metadata": {},
   "source": [
    "# 二叉树"
   ]
  },
  {
   "cell_type": "markdown",
   "id": "attractive-keeping",
   "metadata": {},
   "source": [
    "### 1. 二叉树的种类"
   ]
  },
  {
   "cell_type": "markdown",
   "id": "built-forwarding",
   "metadata": {},
   "source": [
    "#### 满二叉树"
   ]
  },
  {
   "cell_type": "markdown",
   "id": "expanded-frequency",
   "metadata": {},
   "source": [
    "* 如果一棵二叉树只有度为0的结点和度为2的结点，并且度为0的结点在同一层上，则这棵二叉树为满二叉树。"
   ]
  },
  {
   "cell_type": "markdown",
   "id": "competitive-young",
   "metadata": {},
   "source": [
    "![image.png](attachment:e1efe9c6-3b68-455b-9792-49974eed8e6c.png)"
   ]
  },
  {
   "cell_type": "markdown",
   "id": "compliant-hopkins",
   "metadata": {},
   "source": [
    "这棵二叉树为满二叉树，深度为k，有$2^k-1$个结点的二叉树。例如：$2^4-1=15$"
   ]
  },
  {
   "cell_type": "markdown",
   "id": "broadband-fossil",
   "metadata": {},
   "source": [
    "#### 完全二叉树"
   ]
  },
  {
   "cell_type": "markdown",
   "id": "original-galaxy",
   "metadata": {},
   "source": [
    "* 在完全二叉树中，除了最底层结点可能没填满外，其余每层节点数都达到最大值，并且最下面一层的节点都集中在该层最左边的若干位置。若最底层为第h层，则该层包含$1--2h$个节点。"
   ]
  },
  {
   "cell_type": "markdown",
   "id": "minor-visibility",
   "metadata": {},
   "source": [
    "![image.png](attachment:ef2b86b7-c065-4502-bef0-f276e03ae625.png)"
   ]
  },
  {
   "cell_type": "markdown",
   "id": "great-paris",
   "metadata": {},
   "source": [
    "#### 二叉搜索树"
   ]
  },
  {
   "cell_type": "markdown",
   "id": "alive-marshall",
   "metadata": {},
   "source": [
    "* 二叉搜索树是有数值的，是一个有序树。\n",
    "    * 若它的左子树不空，则左子树上所有结点的值均小于它的根结点的值；\n",
    "    * 若它的右子树不空，则右子树上所有结点的值均大于它的根结点的值；\n",
    "    * 它的左、右子树也分别为二叉排序树。"
   ]
  },
  {
   "cell_type": "markdown",
   "id": "interracial-credits",
   "metadata": {},
   "source": [
    "![image.png](attachment:bdd16224-3b3e-475c-ab0d-e2e88bd7d0f6.png)"
   ]
  },
  {
   "cell_type": "markdown",
   "id": "promising-enemy",
   "metadata": {},
   "source": [
    "#### 平衡二叉搜索树"
   ]
  },
  {
   "cell_type": "markdown",
   "id": "atomic-flooring",
   "metadata": {},
   "source": [
    "* 称为AVL树。它是一棵空树或它的左右子树的高度差的绝对值不超过1，并且左右子树都是一棵平衡二叉树。"
   ]
  },
  {
   "cell_type": "markdown",
   "id": "introductory-recall",
   "metadata": {},
   "source": [
    "![image.png](attachment:7164eae9-16cc-4a15-99c2-d927380575d5.png)"
   ]
  },
  {
   "cell_type": "markdown",
   "id": "eleven-capability",
   "metadata": {},
   "source": [
    "### 2. 二叉树的存储方式"
   ]
  },
  {
   "cell_type": "markdown",
   "id": "exotic-industry",
   "metadata": {},
   "source": [
    "#### 链式存储"
   ]
  },
  {
   "cell_type": "markdown",
   "id": "separate-hygiene",
   "metadata": {},
   "source": [
    "链式存储用指针。通过指针把分布散落在各个地址的结点串联一起。"
   ]
  },
  {
   "cell_type": "markdown",
   "id": "three-peace",
   "metadata": {},
   "source": [
    "![image.png](attachment:74d050c3-893a-488d-902b-43e16d22d6ff.png)"
   ]
  },
  {
   "cell_type": "markdown",
   "id": "indoor-coating",
   "metadata": {},
   "source": [
    "#### 顺序存储"
   ]
  },
  {
   "cell_type": "markdown",
   "id": "decreased-democracy",
   "metadata": {},
   "source": [
    "顺序存储用数组。顺序存储的元素在内存是连续分布的。"
   ]
  },
  {
   "cell_type": "markdown",
   "id": "fiscal-symphony",
   "metadata": {},
   "source": [
    "![image.png](attachment:5ad056f8-88b1-408c-afcf-e5f7985b77a3.png)"
   ]
  },
  {
   "cell_type": "markdown",
   "id": "marked-wayne",
   "metadata": {},
   "source": [
    "遍历：如果父结点的数组下标是i，它的左孩子是$i*2+1$，右孩子是$i*2+2$。"
   ]
  },
  {
   "cell_type": "markdown",
   "id": "operating-wagner",
   "metadata": {},
   "source": [
    "### 3.二叉树的遍历方式"
   ]
  },
  {
   "cell_type": "markdown",
   "id": "choice-juvenile",
   "metadata": {},
   "source": [
    "* 二叉树有两种遍历方式：\n",
    "    * 深度优先遍历：先往深走，遇到叶子结点再往回走。\n",
    "        * 前序遍历（根左右）（递归法，迭代法）\n",
    "        * 中序遍历（左根右）（递归法，迭代法）\n",
    "        * 后序遍历（左右根）（递归法，迭代法）\n",
    "    * 广度优先遍历：一层一层的遍历。\n",
    "        * 层次遍历（迭代法）"
   ]
  },
  {
   "cell_type": "markdown",
   "id": "widespread-jewelry",
   "metadata": {},
   "source": [
    "![image.png](attachment:285ab7f0-4a3f-4149-912f-37c0012f9707.png)"
   ]
  },
  {
   "cell_type": "markdown",
   "id": "second-beach",
   "metadata": {},
   "source": [
    "前中后序遍历都可以借助栈使用非递归的方式来实现。广度优先遍历一般使用队列来实现。"
   ]
  },
  {
   "cell_type": "markdown",
   "id": "fleet-terry",
   "metadata": {},
   "source": [
    "### 4.二叉树的定义"
   ]
  },
  {
   "cell_type": "markdown",
   "id": "stone-guidance",
   "metadata": {},
   "source": [
    "```c++\n",
    "struct TreeNode{\n",
    "    int val;\n",
    "    TreeNode *left;\n",
    "    TreeNode *right;\n",
    "    TreeNode(int x) : val(x), left(NULL), right(NULL) {}\n",
    "};\n",
    "```"
   ]
  },
  {
   "cell_type": "markdown",
   "id": "material-brick",
   "metadata": {},
   "source": [
    "### 5.递归"
   ]
  },
  {
   "cell_type": "markdown",
   "id": "related-repair",
   "metadata": {},
   "source": [
    "##### 递归三要素：\n",
    "* 1. 确定递归函数的参数和返回值：确定哪些参数是递归的过程中需要处理的，就在递归函数里加上这个参数，并且还要明确每次递归的返回值是什么进而确定递归函数的返回类型。\n",
    "* 2. 确定终止条件。\n",
    "* 3. 确定单层递归的逻辑：确定每一层递归需要处理的信息。"
   ]
  },
  {
   "cell_type": "markdown",
   "id": "experimental-fault",
   "metadata": {},
   "source": [
    "#### 前序遍历"
   ]
  },
  {
   "cell_type": "markdown",
   "id": "monthly-viking",
   "metadata": {},
   "source": [
    "##### 二叉树"
   ]
  },
  {
   "cell_type": "code",
   "execution_count": 1,
   "id": "choice-vegetation",
   "metadata": {},
   "outputs": [],
   "source": [
    "def preorderTraversal(self, root):\n",
    "    result = []\n",
    "    def traversal(cur):\n",
    "        if cur == None:\n",
    "            return\n",
    "        result.append(cur.val)   # 根\n",
    "        traversal(cur.left)   # 左\n",
    "        traversal(cur.right)   # 右\n",
    "    traversal(root)\n",
    "    return result"
   ]
  },
  {
   "cell_type": "markdown",
   "id": "atomic-integral",
   "metadata": {},
   "source": [
    "##### N叉树"
   ]
  },
  {
   "cell_type": "code",
   "execution_count": 2,
   "id": "ceramic-irrigation",
   "metadata": {},
   "outputs": [],
   "source": [
    "def solve(root):\n",
    "    result = []\n",
    "    def traverse(cur):\n",
    "        if cur is None:\n",
    "            return\n",
    "        result.append(cur.val)\n",
    "        for i in range(len(cur.children)):\n",
    "            traverse(cur.children[i])\n",
    "    traverse(root)\n",
    "    return result"
   ]
  },
  {
   "cell_type": "markdown",
   "id": "declared-bread",
   "metadata": {},
   "source": [
    "##### 中序遍历"
   ]
  },
  {
   "cell_type": "code",
   "execution_count": 2,
   "id": "posted-assurance",
   "metadata": {},
   "outputs": [],
   "source": [
    "def traversal(cur, vec):\n",
    "    if cur == None:\n",
    "        return\n",
    "    traversal(cur.left, vec)   # 左\n",
    "    vec.push(cur.val)   # 根\n",
    "    traversal(cur.right, vec)  # 右"
   ]
  },
  {
   "cell_type": "markdown",
   "id": "treated-berkeley",
   "metadata": {},
   "source": [
    "#### 后序遍历"
   ]
  },
  {
   "cell_type": "markdown",
   "id": "dimensional-perception",
   "metadata": {},
   "source": [
    "##### 二叉树"
   ]
  },
  {
   "cell_type": "code",
   "execution_count": 3,
   "id": "center-angel",
   "metadata": {},
   "outputs": [],
   "source": [
    "def traversal(cur, vec):\n",
    "    if cur == None:\n",
    "        return\n",
    "    traversal(cur.left, vec)   # 左\n",
    "    traversal(cur.right, vec)  # 右\n",
    "    vec.push(cur.val)   # 根"
   ]
  },
  {
   "cell_type": "markdown",
   "id": "taken-palmer",
   "metadata": {},
   "source": [
    "##### N叉树"
   ]
  },
  {
   "cell_type": "code",
   "execution_count": 4,
   "id": "analyzed-store",
   "metadata": {},
   "outputs": [],
   "source": [
    "def postorder(self, root):\n",
    "    result = []\n",
    "    def traverse(cur):\n",
    "        if root == None:\n",
    "            return \n",
    "        for i in range(len(cur.children)):\n",
    "            traverse(cur.children[i])\n",
    "        result.append(cur.val)\n",
    "\n",
    "    traverse(root)\n",
    "    return result"
   ]
  },
  {
   "cell_type": "markdown",
   "id": "medium-cannon",
   "metadata": {},
   "source": [
    "### 6.迭代法"
   ]
  },
  {
   "cell_type": "markdown",
   "id": "nuclear-guinea",
   "metadata": {},
   "source": [
    "#### 不统一写法"
   ]
  },
  {
   "cell_type": "markdown",
   "id": "pleased-significance",
   "metadata": {},
   "source": [
    "#### 前序遍历"
   ]
  },
  {
   "cell_type": "markdown",
   "id": "demanding-rugby",
   "metadata": {},
   "source": [
    "每次先处理的是中间节点，先将根节点放入栈中，然后将右孩子加入栈，再加入左孩子。"
   ]
  },
  {
   "cell_type": "markdown",
   "id": "german-pizza",
   "metadata": {},
   "source": [
    "##### 二叉树"
   ]
  },
  {
   "cell_type": "code",
   "execution_count": 5,
   "id": "offshore-client",
   "metadata": {},
   "outputs": [],
   "source": [
    "def preorderTraversal(root):\n",
    "    # 根结点为空则返回空列表\n",
    "    if not root:\n",
    "        return []\n",
    "    stack = [root]   # 先将根节点保存\n",
    "    result = []\n",
    "    while stack:\n",
    "        node = stack.pop()\n",
    "        # 中结点先处理\n",
    "        result.append(node.val)\n",
    "        # 右孩子先入栈\n",
    "        if node.right:\n",
    "            stack.append(node.right)\n",
    "        # 左孩子后入栈\n",
    "        if node.left:\n",
    "            stack.append(node.left)\n",
    "    return result"
   ]
  },
  {
   "cell_type": "markdown",
   "id": "postal-worse",
   "metadata": {},
   "source": [
    "##### N叉树"
   ]
  },
  {
   "cell_type": "code",
   "execution_count": 7,
   "id": "nonprofit-victor",
   "metadata": {},
   "outputs": [],
   "source": [
    "def solve(root):\n",
    "    if root == None:\n",
    "        return []\n",
    "    result = []\n",
    "    stack = [root]\n",
    "    while stack:\n",
    "        node = stack.pop()\n",
    "        result.append(node.val)\n",
    "        for i in range(len(node.children)- 1,-1,-1):  # 倒序入栈\n",
    "            if node.children[i]:\n",
    "                stack.append(node.children[i])\n",
    "    return result    "
   ]
  },
  {
   "cell_type": "markdown",
   "id": "capital-glucose",
   "metadata": {},
   "source": [
    "#### 中序遍历"
   ]
  },
  {
   "cell_type": "code",
   "execution_count": 22,
   "id": "dominant-bennett",
   "metadata": {},
   "outputs": [],
   "source": [
    "def inorderTraversal(root):\n",
    "    if not root:\n",
    "        return []\n",
    "    stack = []  # 不能提前将root结点加入stack中\n",
    "    result = []\n",
    "    cur = root\n",
    "    while cur or stack:\n",
    "        # 先迭代访问最底层的左子树结点\n",
    "        if cur:     \n",
    "            stack.append(cur)\n",
    "            cur = cur.left\n",
    "        # 到达最左结点后处理栈顶结点    \n",
    "        else:\n",
    "            cur = stack.pop()\n",
    "            result.append(cur.val)\n",
    "            # 取栈顶元素右结点\n",
    "            cur = cur.right\n",
    "    return result"
   ]
  },
  {
   "cell_type": "markdown",
   "id": "integrated-ensemble",
   "metadata": {},
   "source": [
    "#### 后序遍历"
   ]
  },
  {
   "cell_type": "markdown",
   "id": "large-plasma",
   "metadata": {},
   "source": [
    "##### 二叉树"
   ]
  },
  {
   "cell_type": "code",
   "execution_count": 24,
   "id": "human-eagle",
   "metadata": {},
   "outputs": [],
   "source": [
    "def Traversal(root):\n",
    "    if not root:\n",
    "        return []\n",
    "    stack = [root]\n",
    "    result = []\n",
    "    while stack:\n",
    "        node = stack.pop()\n",
    "        # 中结点先处理\n",
    "        result.append(node.val)\n",
    "        # 左孩子先入栈\n",
    "        if node.left:\n",
    "            stack.append(node.left)\n",
    "        # 右孩子后入栈\n",
    "        if node.right:\n",
    "            stack.append(node.right)\n",
    "    # 将最终的数组翻转\n",
    "    return result[::-1]"
   ]
  },
  {
   "cell_type": "markdown",
   "id": "bronze-cookbook",
   "metadata": {},
   "source": [
    "##### N叉树"
   ]
  },
  {
   "cell_type": "code",
   "execution_count": 8,
   "id": "assured-silence",
   "metadata": {},
   "outputs": [],
   "source": [
    "def solve(root):\n",
    "    if root == None:\n",
    "        return []\n",
    "    stack = [root]\n",
    "    result = []\n",
    "    while stack:\n",
    "        cur = stack.pop()\n",
    "        result.append(cur.val)\n",
    "        for i in range(len(cur.children)):\n",
    "            stack.append(cur.children[i])\n",
    "    return result[::-1]"
   ]
  }
 ],
 "metadata": {
  "kernelspec": {
   "display_name": "Python 3",
   "language": "python",
   "name": "python3"
  },
  "language_info": {
   "codemirror_mode": {
    "name": "ipython",
    "version": 3
   },
   "file_extension": ".py",
   "mimetype": "text/x-python",
   "name": "python",
   "nbconvert_exporter": "python",
   "pygments_lexer": "ipython3",
   "version": "3.9.1"
  }
 },
 "nbformat": 4,
 "nbformat_minor": 5
}
