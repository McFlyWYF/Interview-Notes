{
 "cells": [
  {
   "cell_type": "markdown",
   "id": "df3c9d6a-ceab-40c8-baf9-9748eebf8126",
   "metadata": {},
   "source": [
    "# 合并二叉树"
   ]
  },
  {
   "cell_type": "markdown",
   "id": "d5e4b3d0-bef8-4de7-bdfd-ffd76105b0f6",
   "metadata": {},
   "source": [
    "### 给定两个二叉树，合并为一个新的二叉树，合并的规则是如果两个节点重叠，那么将他们的值相加作为节点合并后的新值，否则不为null的节点将直接作为新二叉树的节点。"
   ]
  },
  {
   "cell_type": "markdown",
   "id": "0a029133-e9e0-4c6e-a97e-0a6ce2fa9465",
   "metadata": {},
   "source": [
    "#### 递归法"
   ]
  },
  {
   "cell_type": "code",
   "execution_count": 4,
   "id": "25613ba6-9653-478b-b92e-0c68ed5aaeb9",
   "metadata": {},
   "outputs": [],
   "source": [
    "def combinetree(tree1, tree2):\n",
    "    if tree1 == None:\n",
    "        return tree2\n",
    "    if tree2 == None:\n",
    "        return tree1\n",
    "    # 前序遍历\n",
    "    tree1.val += tree2.val \n",
    "    tree1.left = combinetree(tree1.left, tree2.left)\n",
    "    tree1.right = combinetree(tree1.right, tree2.right)\n",
    "    \n",
    "    # 中序遍历\n",
    "    tree1.left = combinetree(tree1.left, tree2.left)\n",
    "    tree1.val += tree2.val\n",
    "    tree1.right = combinetree(tree1.right, tree2.right)\n",
    "    \n",
    "    # 后序遍历\n",
    "    tree1.left = combinetree(tree1.left, tree2.left)\n",
    "    tree1.val += tree2.val \n",
    "    tree1.right = combinetree(tree1.right, tree2.right)\n",
    "    return t1"
   ]
  },
  {
   "cell_type": "markdown",
   "id": "19384b53-0771-4f97-a68d-f7474b7e91eb",
   "metadata": {},
   "source": [
    "#### 迭代法"
   ]
  },
  {
   "cell_type": "code",
   "execution_count": 7,
   "id": "43f879d5-1ec2-4fd2-8bd4-ebb8b69a9e2b",
   "metadata": {},
   "outputs": [],
   "source": [
    "def combinetree():\n",
    "    if not root1:\n",
    "        return root2\n",
    "    if not root2:\n",
    "        return root1\n",
    "    if not root1 and root2:\n",
    "        return None\n",
    "        \n",
    "    que = deque()\n",
    "    que.append(root1)   # 加入t1\n",
    "    que.append(root2)   # 加入t2\n",
    "    while que:\n",
    "        t1node = que.popleft()\n",
    "        t2node = que.popleft()\n",
    "        # t1,t2都不为空\n",
    "        t1node.val += t2node.val\n",
    "        if t1node.left and t2node.left:\n",
    "            que.append(t1node.left)  # 加入t1左\n",
    "            que.append(t2node.left)  # 加入t2左\n",
    "        if t1node.right and t2node.right:\n",
    "            que.append(t1node.right)  # 加入t1右\n",
    "            que.append(t2node.right)  # 加入t2右\n",
    "        # t1节点为空，直接赋值\n",
    "        if not t1node.left and t2node.left:\n",
    "            t1node.left = t2node.left\n",
    "        if not t1node.right and t2node.right:\n",
    "            t1node.right = t2node.right\n",
    "    return root1"
   ]
  }
 ],
 "metadata": {
  "kernelspec": {
   "display_name": "Python 3",
   "language": "python",
   "name": "python3"
  },
  "language_info": {
   "codemirror_mode": {
    "name": "ipython",
    "version": 3
   },
   "file_extension": ".py",
   "mimetype": "text/x-python",
   "name": "python",
   "nbconvert_exporter": "python",
   "pygments_lexer": "ipython3",
   "version": "3.9.1"
  }
 },
 "nbformat": 4,
 "nbformat_minor": 5
}
