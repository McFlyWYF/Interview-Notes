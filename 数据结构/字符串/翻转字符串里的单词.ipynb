{
 "cells": [
  {
   "cell_type": "markdown",
   "id": "359b07c9-2634-4813-b24c-8d99c5a5771d",
   "metadata": {},
   "source": [
    "# 翻转字符串里的单词"
   ]
  },
  {
   "cell_type": "markdown",
   "id": "9f433c67-8649-45ea-9359-0be2a657b924",
   "metadata": {},
   "source": [
    "### 给定一个字符串，逐个翻转字符串中的每个单词。"
   ]
  },
  {
   "cell_type": "markdown",
   "id": "759554ef-8fa9-4b60-850b-b497341213e0",
   "metadata": {},
   "source": [
    "* 例如：\n",
    "    * 输入：'the sky is blue'\n",
    "    * 输出：'blue is sky the'"
   ]
  },
  {
   "cell_type": "markdown",
   "id": "a09960ce-95d7-4816-8886-92ff6448e6a1",
   "metadata": {},
   "source": [
    "不使用辅助空间，空间复杂度为$O(1)$。"
   ]
  },
  {
   "cell_type": "markdown",
   "id": "2714d7cd-7f48-493e-ac85-5bbfc7ee1ce0",
   "metadata": {},
   "source": [
    "* 移除多余空格。\n",
    "* 将整个字符串反转。\n",
    "* 将每个单词反转。"
   ]
  },
  {
   "cell_type": "code",
   "execution_count": 73,
   "id": "fe99f098-1c8f-428d-b8e4-3cf59fc8ba91",
   "metadata": {},
   "outputs": [],
   "source": [
    "def solve(s):\n",
    "    \n",
    "    s = s[::-1]   # 翻转字符串\n",
    "    s = s.split(' ')   # 根据空格切分单词\n",
    "    k = 0\n",
    "    for i in range(len(s)):\n",
    "        if s[i] == '':   # 去掉多余空格\n",
    "            continue\n",
    "        else:\n",
    "            s[k] = s[i][::-1]   # 翻转每个单词\n",
    "            k += 1\n",
    "    return ' '.join(s[:k])"
   ]
  },
  {
   "cell_type": "code",
   "execution_count": 74,
   "id": "48c6ff3d-ba9f-4900-aad5-53bbbe55781c",
   "metadata": {},
   "outputs": [
    {
     "data": {
      "text/plain": [
       "'blue is sky the'"
      ]
     },
     "execution_count": 74,
     "metadata": {},
     "output_type": "execute_result"
    }
   ],
   "source": [
    "s = '    the sky is   blue   '\n",
    "solve(s)"
   ]
  },
  {
   "cell_type": "code",
   "execution_count": null,
   "id": "529f6c91-61d2-4bde-96e5-6447288579be",
   "metadata": {},
   "outputs": [],
   "source": []
  }
 ],
 "metadata": {
  "kernelspec": {
   "display_name": "Python 3",
   "language": "python",
   "name": "python3"
  },
  "language_info": {
   "codemirror_mode": {
    "name": "ipython",
    "version": 3
   },
   "file_extension": ".py",
   "mimetype": "text/x-python",
   "name": "python",
   "nbconvert_exporter": "python",
   "pygments_lexer": "ipython3",
   "version": "3.9.1"
  }
 },
 "nbformat": 4,
 "nbformat_minor": 5
}
