{
 "cells": [
  {
   "cell_type": "markdown",
   "id": "988b2fb5-fb7e-4f24-b137-c38cfa84f0f4",
   "metadata": {},
   "source": [
    "# 替换空格"
   ]
  },
  {
   "cell_type": "markdown",
   "id": "8c965f5e-b04b-4bf5-91ed-73679b4275f0",
   "metadata": {},
   "source": [
    "### 实现一个函数，把字符串s中的每个空格替换成“$\\%20$\"。"
   ]
  },
  {
   "cell_type": "markdown",
   "id": "30b15228-805e-4871-8dc7-e63996fab9e1",
   "metadata": {},
   "source": [
    "* 例如：\n",
    "    * 输入：s = 'We are happy.'\n",
    "    * 输出：'We%20are%20happy.'"
   ]
  },
  {
   "cell_type": "markdown",
   "id": "adf1f1af-26d4-44db-af89-3c6fd7f0693a",
   "metadata": {},
   "source": [
    "先把数组扩充到每个空格替换成‘%20’之后的大小，然后从后向前替换空格，就是双指针法。i指向新长度的末尾，j指向旧长度的末尾，当i遇到空格的时候，j前面的3个位置填充'%20'，j再次向前移动到填充的字符第一位，如果i指向的不是空格，则位置j的元素替换成位置i的元素。"
   ]
  },
  {
   "cell_type": "markdown",
   "id": "731641b1-4c8b-4095-8946-d60211bd6d46",
   "metadata": {},
   "source": [
    "##### 对于数组填充类的问题，都可以预先给数组扩容到填充后的大小，然后从后向前进行操作。"
   ]
  },
  {
   "cell_type": "markdown",
   "id": "a69e9313-f1d9-402f-9358-ee4355157f30",
   "metadata": {},
   "source": [
    "* 好处：\n",
    "    * 1.不用申请新数组。\n",
    "    * 2.从后向前填充元素，避免了从前向后填充元素带来的每次添加元素都要将添加元素之后的所有元素向后移动。"
   ]
  },
  {
   "cell_type": "code",
   "execution_count": 42,
   "id": "91429ff0-b1a8-420d-bc90-e8c5fdf193d9",
   "metadata": {},
   "outputs": [],
   "source": [
    "def solve(s):\n",
    "    count = 0\n",
    "    # 统计空格\n",
    "    for i in range(len(s)):\n",
    "        if s[i] == ' ':\n",
    "            count += 1\n",
    "            \n",
    "    left = len(s) - 1\n",
    "    # 扩容\n",
    "    s = list(s)\n",
    "    for i in range(2 * count):\n",
    "        s.append(' ')\n",
    "    # 填充\n",
    "    right = len(s) - 1\n",
    "    while left < right:\n",
    "        if s[left] != ' ':   # 不是空格，直接复制\n",
    "            s[right] = s[left]\n",
    "            left -= 1\n",
    "            right -= 1\n",
    "        if s[left] == ' ':   # 是空格，填充字符\n",
    "            for n in '02%':\n",
    "                s[right] = n\n",
    "                right -= 1\n",
    "            left -= 1\n",
    "    return ''.join(s)"
   ]
  },
  {
   "cell_type": "code",
   "execution_count": 43,
   "id": "8347f580-cfb2-4506-9209-b7ccab4b3624",
   "metadata": {},
   "outputs": [
    {
     "data": {
      "text/plain": [
       "'we%20are%20happy'"
      ]
     },
     "execution_count": 43,
     "metadata": {},
     "output_type": "execute_result"
    }
   ],
   "source": [
    "s = 'we are happy'\n",
    "solve(s)"
   ]
  },
  {
   "cell_type": "markdown",
   "id": "710cc9de-00e2-4790-bc66-e3c86855a91e",
   "metadata": {},
   "source": [
    "* 时间复杂度：$O(n)$\n",
    "* 空间复杂度：$O(1)$"
   ]
  }
 ],
 "metadata": {
  "kernelspec": {
   "display_name": "Python 3",
   "language": "python",
   "name": "python3"
  },
  "language_info": {
   "codemirror_mode": {
    "name": "ipython",
    "version": 3
   },
   "file_extension": ".py",
   "mimetype": "text/x-python",
   "name": "python",
   "nbconvert_exporter": "python",
   "pygments_lexer": "ipython3",
   "version": "3.9.1"
  }
 },
 "nbformat": 4,
 "nbformat_minor": 5
}
