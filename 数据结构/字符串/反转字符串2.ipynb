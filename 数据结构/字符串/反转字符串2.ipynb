{
 "cells": [
  {
   "cell_type": "markdown",
   "id": "cce7270b-e8db-4b7c-a296-10f1ce48142a",
   "metadata": {},
   "source": [
    "# 反转字符串2"
   ]
  },
  {
   "cell_type": "markdown",
   "id": "01caa6f2-d7c2-4dc3-bdb2-7e903838d850",
   "metadata": {},
   "source": [
    "### 给定一个字符串s和一个整数k，对从字符串开头算起的每隔2k个字符的前k个字符进行反转。如果剩余字符少于k个，则将剩余字符全部反转。如果剩余字符小于2k但大于或等于k个，则反转前k个字符，其余字符保持原样。"
   ]
  },
  {
   "cell_type": "markdown",
   "id": "9b725dd9-2831-49df-9d1a-23456e37bb00",
   "metadata": {},
   "source": [
    "* 例如：\n",
    "    * 输入：s = 'abcdefg', k = 2\n",
    "    * 输出：'bacdfeg'"
   ]
  },
  {
   "cell_type": "code",
   "execution_count": 72,
   "id": "edcc9c94-8cbe-42e9-b11a-8974e437ceb3",
   "metadata": {},
   "outputs": [],
   "source": [
    "def solve(s, k):\n",
    "    n = len(s) // (2 * k)\n",
    "    result = ''\n",
    "    while n >= 0:\n",
    "        if n == 0 and s == '':   # 等于2k或为空字符串\n",
    "            return result\n",
    "        elif n == 0 and len(s) % (2 * k) < 2 * k:   # 大于k但小于2k\n",
    "            s2 = s[:k]\n",
    "            s2 = s2[::-1]\n",
    "            s = s2 + s[k:]\n",
    "            result += s\n",
    "            return result\n",
    "        elif n ==0 and len(s) % (2 * k) < k:   # 小于k\n",
    "            s = s[::-1]\n",
    "            result += s\n",
    "            return result\n",
    "        elif n != 0:   # 大于2k\n",
    "            s1 = s[:k]\n",
    "            s1 = s1[::-1]\n",
    "            n -= 1\n",
    "            result = result + s1 + s[k:2 * k]\n",
    "            s = s[2 * k:]\n",
    "    return result"
   ]
  },
  {
   "cell_type": "code",
   "execution_count": 76,
   "id": "39fd1eba-d8e8-4b87-ae63-787c125e52b3",
   "metadata": {},
   "outputs": [
    {
     "data": {
      "text/plain": [
       "'bacdfeg'"
      ]
     },
     "execution_count": 76,
     "metadata": {},
     "output_type": "execute_result"
    }
   ],
   "source": [
    "s = 'abcdefg'\n",
    "k = 2\n",
    "solve(s, k)"
   ]
  },
  {
   "cell_type": "code",
   "execution_count": 99,
   "id": "e0c3eded-8aa4-4afd-9342-12c1f6eeaff1",
   "metadata": {},
   "outputs": [],
   "source": [
    "def solve2(s, k):\n",
    "    for i in range(0, len(s), 2 * k):   # 每次以2k为起点进行反转\n",
    "        s1 = s[i:(i + k)]\n",
    "        s[i:(i+k)] = s1[::-1]\n",
    "    return ''.join(s)"
   ]
  },
  {
   "cell_type": "code",
   "execution_count": 100,
   "id": "4437c929-e764-4866-adbf-f2e5840c1824",
   "metadata": {},
   "outputs": [
    {
     "data": {
      "text/plain": [
       "'bacdfeg'"
      ]
     },
     "execution_count": 100,
     "metadata": {},
     "output_type": "execute_result"
    }
   ],
   "source": [
    "s = 'abcdefg'\n",
    "k = 2\n",
    "solve2(list(s), k)"
   ]
  }
 ],
 "metadata": {
  "kernelspec": {
   "display_name": "Python 3",
   "language": "python",
   "name": "python3"
  },
  "language_info": {
   "codemirror_mode": {
    "name": "ipython",
    "version": 3
   },
   "file_extension": ".py",
   "mimetype": "text/x-python",
   "name": "python",
   "nbconvert_exporter": "python",
   "pygments_lexer": "ipython3",
   "version": "3.9.1"
  }
 },
 "nbformat": 4,
 "nbformat_minor": 5
}
