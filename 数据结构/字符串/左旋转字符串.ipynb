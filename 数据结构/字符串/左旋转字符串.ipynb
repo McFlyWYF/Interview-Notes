{
 "cells": [
  {
   "cell_type": "markdown",
   "id": "de58680b-1ecd-4c54-9c94-90e0e3a0a9f9",
   "metadata": {},
   "source": [
    "#  左旋转字符串"
   ]
  },
  {
   "cell_type": "markdown",
   "id": "3c4f0bfb-2731-4e1c-8428-4d5412cd572b",
   "metadata": {},
   "source": [
    "### 字符串的左旋转操作是把字符串前面的若干个字符转移到字符串的尾部。定义一个函数实现字符串左旋转操作的功能。比如，输入字符串'abcdefg‘和数字2，该函数将返回左旋转两位得到的结果'cdefgab‘。"
   ]
  },
  {
   "cell_type": "markdown",
   "id": "d13ec345-73e3-4021-b6cf-ef17d682fd96",
   "metadata": {},
   "source": [
    "* 例如：\n",
    "    * 输入：s = 'abcdefg'，k=2\n",
    "    * 输出：'cdefgab'"
   ]
  },
  {
   "cell_type": "markdown",
   "id": "ae8410c7-a96c-4c5c-a2e3-668bd1c845b9",
   "metadata": {},
   "source": [
    "不申请额外空间，只能在本串上操作。"
   ]
  },
  {
   "cell_type": "markdown",
   "id": "c91c734e-03ab-42c8-a1c1-4cf543422771",
   "metadata": {},
   "source": [
    "#### 整体反转+局部反转"
   ]
  },
  {
   "cell_type": "markdown",
   "id": "8d664322-b95c-4539-b2bd-45fac46a2dfe",
   "metadata": {},
   "source": [
    "* 反转区间为前n的字符串\n",
    "* 反转区间为n到末尾的字符串\n",
    "* 反转整个字符串"
   ]
  },
  {
   "cell_type": "code",
   "execution_count": 48,
   "id": "7525302b-3171-493d-a533-ca710c5fce65",
   "metadata": {},
   "outputs": [],
   "source": [
    "def solve(s, k):\n",
    "    return s[k:] + s[0:k]   # 切片方法"
   ]
  },
  {
   "cell_type": "code",
   "execution_count": 49,
   "id": "6a635429-2900-4a69-a24e-3ac3a6c05335",
   "metadata": {},
   "outputs": [
    {
     "data": {
      "text/plain": [
       "'cdefgab'"
      ]
     },
     "execution_count": 49,
     "metadata": {},
     "output_type": "execute_result"
    }
   ],
   "source": [
    "s = 'abcdefg'\n",
    "k = 2\n",
    "solve(s, k)"
   ]
  },
  {
   "cell_type": "code",
   "execution_count": 52,
   "id": "ed976b36-3b9f-460e-b268-aa718972486a",
   "metadata": {},
   "outputs": [],
   "source": [
    "def solve2(s, k):\n",
    "    s = list(s)\n",
    "    s[0:k] = list(reversed(s[0:k]))\n",
    "    s[k:] = list(reversed(s[k:]))\n",
    "    s.reverse()\n",
    "    return ''.join(s) "
   ]
  },
  {
   "cell_type": "code",
   "execution_count": 53,
   "id": "f33b1c8c-e48f-4693-9260-654b3e1e9dac",
   "metadata": {},
   "outputs": [
    {
     "data": {
      "text/plain": [
       "'cdefgab'"
      ]
     },
     "execution_count": 53,
     "metadata": {},
     "output_type": "execute_result"
    }
   ],
   "source": [
    "s = 'abcdefg'\n",
    "k = 2\n",
    "solve(s, k)"
   ]
  },
  {
   "cell_type": "markdown",
   "id": "b7db183b-9f23-4fdd-8515-07bfe5835d70",
   "metadata": {},
   "source": [
    "* 时间复杂度：$O(n)$\n",
    "* 空间复杂度：$O(n)$，python中的string不可变，需要用list来解决。"
   ]
  }
 ],
 "metadata": {
  "kernelspec": {
   "display_name": "Python 3",
   "language": "python",
   "name": "python3"
  },
  "language_info": {
   "codemirror_mode": {
    "name": "ipython",
    "version": 3
   },
   "file_extension": ".py",
   "mimetype": "text/x-python",
   "name": "python",
   "nbconvert_exporter": "python",
   "pygments_lexer": "ipython3",
   "version": "3.9.1"
  }
 },
 "nbformat": 4,
 "nbformat_minor": 5
}
