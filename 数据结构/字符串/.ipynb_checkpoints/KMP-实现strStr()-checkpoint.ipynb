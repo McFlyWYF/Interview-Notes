{
 "cells": [
  {
   "cell_type": "markdown",
   "id": "2aedaecd-558e-4069-9b44-ceda9949dfda",
   "metadata": {},
   "source": [
    "# 实现strStr()"
   ]
  },
  {
   "cell_type": "markdown",
   "id": "1efcd5c4-84e5-441e-b28d-d3fdf1b75abb",
   "metadata": {},
   "source": [
    "### 实现strStr()函数。给定一个haystack字符串和一个needle字符串，在haystack字符串中找出needle字符串中出现的第一个位置。如果不存在，则返回-1。"
   ]
  },
  {
   "cell_type": "markdown",
   "id": "54f72674-e5f2-4e0f-9f96-9e4cdd2ae21f",
   "metadata": {},
   "source": [
    "* 例如：\n",
    "    * 输入：haystack=‘hello',needle='ll'\n",
    "    * 输出：2"
   ]
  },
  {
   "cell_type": "markdown",
   "id": "e99cf657-2216-4976-853c-aea01927fece",
   "metadata": {},
   "source": [
    "当needle字符串是空字符串时，我们返回0。"
   ]
  },
  {
   "cell_type": "markdown",
   "id": "2f22ea29-03ac-4309-ab0b-40c808bc1b35",
   "metadata": {},
   "source": [
    "#### 构造next数组"
   ]
  },
  {
   "cell_type": "markdown",
   "id": "ef3c904a-cb85-4eb2-b44b-97fe413e0467",
   "metadata": {},
   "source": [
    "1. 初始化\n",
    "2.处理前后缀不相同的情况\n",
    "3.处理前后缀相同的情况"
   ]
  },
  {
   "cell_type": "markdown",
   "id": "f87b9a80-0555-44d6-b47f-6d1214d840aa",
   "metadata": {},
   "source": [
    "##### 1.初始化"
   ]
  },
  {
   "cell_type": "markdown",
   "id": "e72ba7a4-c2ed-48c7-8b53-760523292a70",
   "metadata": {},
   "source": [
    "`j`指向前缀终止位置，`i`指向后缀终止位置，`j`初始化为`-1`。\n",
    "```python\n",
    "next[0] = j\n",
    "```"
   ]
  },
  {
   "cell_type": "markdown",
   "id": "e48103eb-3764-4139-8ccb-2add1cee40ad",
   "metadata": {},
   "source": [
    "##### 2.处理前后缀不相同的情况"
   ]
  },
  {
   "cell_type": "markdown",
   "id": "2d8d5342-0444-4efe-ae0b-2a1da796b0a1",
   "metadata": {},
   "source": [
    "因为j初始化为-1，`i`就从`1`开始，进行`s[i]`与`s[j+1]`的比较。"
   ]
  },
  {
   "cell_type": "markdown",
   "id": "d27ccb6a-3bef-4fcb-8375-8bfea0df1bd7",
   "metadata": {},
   "source": [
    "如果`s[i]`与`s[j+1]`不相同，就是遇到前后缀末尾不相同的情况，就要向前回溯。"
   ]
  },
  {
   "cell_type": "markdown",
   "id": "3f4438cc-7326-4820-8db5-df0d790b20e9",
   "metadata": {},
   "source": [
    "next[j]就是记录j之前的子串的相同前后缀的长度。那么s[i]和s[j+1]不相同，就要找j+1前一个元素在next数组里的值。"
   ]
  },
  {
   "cell_type": "markdown",
   "id": "998da9a9-a503-4228-9edf-3e40adbc8c44",
   "metadata": {},
   "source": [
    "```python\n",
    "while j >= 0 and s[i] != s[j + 1]:\n",
    "    j = next[j]\n",
    "```"
   ]
  },
  {
   "cell_type": "markdown",
   "id": "50929f46-2237-4749-915c-418933b4a8f8",
   "metadata": {},
   "source": [
    "##### 3.处理前后缀相同的情况"
   ]
  },
  {
   "cell_type": "markdown",
   "id": "b7bf7536-c8a4-46a5-b965-01faa49ae339",
   "metadata": {},
   "source": [
    "如果s[i]和s[j+1]相同，那么就同时向后移动`i`和`j`，说明找到了相同的前后缀，同时还要将j赋给next[i]，因为next[i]要记录相同前后缀的长度。"
   ]
  },
  {
   "cell_type": "markdown",
   "id": "bb096dcd-798d-4256-a702-bfd65227e03f",
   "metadata": {},
   "source": [
    "```python\n",
    "if s[i] == s[j+1]:\n",
    "    j += 1\n",
    "next[i] = j\n",
    "```"
   ]
  },
  {
   "cell_type": "code",
   "execution_count": 2,
   "id": "96ba25e1-5383-4e42-852d-e9af45259223",
   "metadata": {},
   "outputs": [],
   "source": [
    "def getNext():\n",
    "    j = -1\n",
    "    next[0] = j\n",
    "    for i in range(1, len(s)):\n",
    "        while j >= 0 and s[i] != s[j + 1]:   # 前后缀不同\n",
    "            j = next[j]\n",
    "        if s[i] == s[j+1]:   # 相同的前后缀\n",
    "            j += 1\n",
    "        next[i] = j"
   ]
  },
  {
   "cell_type": "markdown",
   "id": "b3a87f39-eaec-4f0d-9281-f87bd35029fd",
   "metadata": {},
   "source": [
    "#### 使用next数组来做匹配"
   ]
  },
  {
   "cell_type": "markdown",
   "id": "b15f1306-f39c-4681-8921-ce5175f8a182",
   "metadata": {},
   "source": [
    "定义两个下标j指向模式串t起始位置，i指向文本串s起始位置。j初始值依然为-1，i从0开始，遍历文本串。\n",
    "```python\n",
    "for i in range(len(s))\n",
    "```"
   ]
  },
  {
   "cell_type": "markdown",
   "id": "0ce426e0-1cee-4c12-9174-522faf8045ff",
   "metadata": {},
   "source": [
    "接下来就是s[i]与t[j+1]比较。如果s[i]与t[j+1]不相同，j就要从next数组里寻找下一个匹配的位置。"
   ]
  },
  {
   "cell_type": "markdown",
   "id": "5c4d13f0-151e-462b-848c-33cb9c63f6e8",
   "metadata": {},
   "source": [
    "```python\n",
    "while j >= 0 and s[i] != t[j+1]:\n",
    "    j = next[j\n",
    "```"
   ]
  },
  {
   "cell_type": "markdown",
   "id": "94017acf-229c-467c-a711-219fb137fea4",
   "metadata": {},
   "source": [
    "如果s[i]与t[j+1]相同，那么i和j同时向后移动。\n",
    "```python\n",
    "if s[i] == t[j+1]:\n",
    "    j += 1\n",
    "```"
   ]
  },
  {
   "cell_type": "markdown",
   "id": "b6dea207-f0d7-44e1-889e-d0f77cbe9607",
   "metadata": {},
   "source": [
    "如果j指向了模式串t的末尾，那么就说明模式串t完全匹配文本串s里的某个子串了。"
   ]
  },
  {
   "cell_type": "markdown",
   "id": "62089ebf-e996-46c3-9580-d71d402d9294",
   "metadata": {},
   "source": [
    "```python\n",
    "if j == len(t) - 1:\n",
    "    return i - len(t) + 1\n",
    "```"
   ]
  },
  {
   "cell_type": "code",
   "execution_count": 3,
   "id": "aa153f27-112c-4614-aa57-5b4744bc1940",
   "metadata": {},
   "outputs": [],
   "source": [
    "def KMP():\n",
    "    j = -1\n",
    "    for i in range(len(s)):\n",
    "        while j >= 0 and s[i] != t[j+1]:   # 不匹配\n",
    "            j = next[j]\n",
    "        if s[i] == t[j+1]:   # 匹配，i和j同时后移\n",
    "            j += 1\n",
    "        if j == (len(t) - 1):\n",
    "            return i - len(t) + 1"
   ]
  },
  {
   "cell_type": "markdown",
   "id": "6798ab37-b6f2-417e-ab06-4b4020eb3595",
   "metadata": {},
   "source": [
    "#### 代码实现"
   ]
  },
  {
   "cell_type": "markdown",
   "id": "325ee8b8-bad6-42da-8f8a-b43a52f96cdd",
   "metadata": {},
   "source": [
    "##### 前后缀减一"
   ]
  },
  {
   "cell_type": "code",
   "execution_count": 9,
   "id": "f286fcc3-2aaf-44be-a06f-9b269f0d6977",
   "metadata": {},
   "outputs": [],
   "source": [
    "def getnext(a,neddle):\n",
    "    next = ['' for i in range(a)]\n",
    "    k = -1\n",
    "    next[0] = k\n",
    "    for i in range(1, len(neddle)):\n",
    "        while k >= 0 and neddle[i] != neddle[k + 1]:   # 前后缀不同\n",
    "            k = next[k]\n",
    "        if neddle[i] == neddle[k+1]:   # 相同的前后缀\n",
    "            k += 1\n",
    "        next[i] = k\n",
    "    return next"
   ]
  },
  {
   "cell_type": "code",
   "execution_count": 14,
   "id": "a18e3606-e133-4973-ba5b-522d05b12290",
   "metadata": {
    "jupyter": {
     "source_hidden": true
    },
    "tags": []
   },
   "outputs": [],
   "source": [
    "def KMP(haystack, neddle):\n",
    "    a = len(haystack)\n",
    "    b = len(neddle)\n",
    "    if b == 0:\n",
    "        return 0\n",
    "    next = getnext(b,neddle)\n",
    "    j = -1\n",
    "    for i in range(a):\n",
    "        while j >= 0 and haystack[i] != neddle[j+1]:   # 不匹配\n",
    "            j = next[j]\n",
    "        if haystack[i] == neddle[j+1]:   # 匹配，i和j同时后移\n",
    "            j += 1\n",
    "        if j == (b - 1):\n",
    "            return i - b + 1\n",
    "    return -1"
   ]
  },
  {
   "cell_type": "code",
   "execution_count": 15,
   "id": "490eb7b2-2ba3-4e3b-866d-7709a976690b",
   "metadata": {},
   "outputs": [
    {
     "data": {
      "text/plain": [
       "2"
      ]
     },
     "execution_count": 15,
     "metadata": {},
     "output_type": "execute_result"
    }
   ],
   "source": [
    "haystack = 'hello'\n",
    "needle = 'll'\n",
    "KMP(haystack, needle)"
   ]
  },
  {
   "cell_type": "markdown",
   "id": "ef89bb86-035e-485b-b89a-d137219e69fb",
   "metadata": {},
   "source": [
    "##### 前后缀不减一"
   ]
  },
  {
   "cell_type": "code",
   "execution_count": 17,
   "id": "fe2d96dc-0eb7-4c59-9215-b1728931a75a",
   "metadata": {},
   "outputs": [],
   "source": [
    "def getnext(a,neddle):\n",
    "    next = ['' for i in range(a)]\n",
    "    k = -1\n",
    "    next[0] = k\n",
    "    for i in range(1, len(neddle)):\n",
    "        while k > 0 and neddle[i] != neddle[k]:   # 前后缀不同\n",
    "            k = next[k]\n",
    "        if neddle[i] == neddle[k]:   # 相同的前后缀\n",
    "            k += 1\n",
    "        next[i] = k\n",
    "    return next"
   ]
  },
  {
   "cell_type": "code",
   "execution_count": 18,
   "id": "449176a9-f895-4049-a86b-547bda744e44",
   "metadata": {},
   "outputs": [],
   "source": [
    "def KMP(haystack, neddle):\n",
    "    a = len(haystack)\n",
    "    b = len(neddle)\n",
    "    if b == 0:\n",
    "        return 0\n",
    "    next = getnext(b,neddle)\n",
    "    j = -1\n",
    "    for i in range(a):\n",
    "        while j > 0 and haystack[i] != neddle[j]:   # 不匹配\n",
    "            j = next[j]\n",
    "        if haystack[i] == neddle[j]:   # 匹配，i和j同时后移\n",
    "            j += 1\n",
    "        if j == (b - 1):\n",
    "            return i - b + 1\n",
    "    return -1"
   ]
  },
  {
   "cell_type": "code",
   "execution_count": 19,
   "id": "ae4d357b-b086-419b-aaca-00b6eb17f0b7",
   "metadata": {},
   "outputs": [
    {
     "data": {
      "text/plain": [
       "2"
      ]
     },
     "execution_count": 19,
     "metadata": {},
     "output_type": "execute_result"
    }
   ],
   "source": [
    "haystack = 'hello'\n",
    "needle = 'll'\n",
    "KMP(haystack, needle)"
   ]
  }
 ],
 "metadata": {
  "kernelspec": {
   "display_name": "Python 3",
   "language": "python",
   "name": "python3"
  },
  "language_info": {
   "codemirror_mode": {
    "name": "ipython",
    "version": 3
   },
   "file_extension": ".py",
   "mimetype": "text/x-python",
   "name": "python",
   "nbconvert_exporter": "python",
   "pygments_lexer": "ipython3",
   "version": "3.9.1"
  }
 },
 "nbformat": 4,
 "nbformat_minor": 5
}
