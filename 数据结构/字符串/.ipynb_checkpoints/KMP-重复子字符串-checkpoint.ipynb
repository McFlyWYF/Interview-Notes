{
 "cells": [
  {
   "cell_type": "markdown",
   "id": "a9ae6ca1-6e0f-4adf-89fc-f657dea3e023",
   "metadata": {},
   "source": [
    "# 重复的子字符串"
   ]
  },
  {
   "cell_type": "markdown",
   "id": "fe0074d2-d110-40fe-b32b-4ba534db6ee0",
   "metadata": {},
   "source": [
    "### 给定一个非空的字符串，判断它是否可以由它的一个子串重复多次构成。给定的字符串只含有小写英文字母，并且长度不超过1000。"
   ]
  },
  {
   "cell_type": "markdown",
   "id": "9801216a-ebcc-4cd6-ab78-10b81cbf38e7",
   "metadata": {},
   "source": [
    "* 例如：\n",
    "    * 输入：'abab'\n",
    "    * 输出：True"
   ]
  },
  {
   "cell_type": "markdown",
   "id": "db7937c8-7b7d-4bc1-be22-723adbb168ba",
   "metadata": {},
   "source": [
    "最长相等前后缀的长度为：`next[len -1] + 1`，如果`len % (len - (next[len - 1] + 1)) == 0`，则说明（数组长度-最长相等前后缀的长度）正好可以被数组的长度整除，说明该字符串有重复的子字符串。"
   ]
  },
  {
   "cell_type": "code",
   "execution_count": 68,
   "id": "34bf4813-2055-4aa4-812d-51821ed1d666",
   "metadata": {},
   "outputs": [],
   "source": [
    "def getnext(next, s):\n",
    "    next[0] = -1\n",
    "    j = -1\n",
    "    for i in range(1, len(s)):\n",
    "        while j >= 0 and s[i] != s[j+1]:\n",
    "            j = next[j]\n",
    "        if s[i] == s[j+1]:\n",
    "            j += 1\n",
    "        next[i] = j\n",
    "    return next"
   ]
  },
  {
   "cell_type": "code",
   "execution_count": 72,
   "id": "ba4d9c8c-5815-4611-8011-ac1786e29523",
   "metadata": {},
   "outputs": [],
   "source": [
    "def solve(s):\n",
    "    if len(s) == 0:\n",
    "        return False\n",
    "    next = [0 for _ in range(len(s))]\n",
    "    getnext(next, s)\n",
    "    print(next)\n",
    "    if next[-1] != -1 and len(s) % (len(s) - (next[-1] + 1)) == 0:\n",
    "        return True\n",
    "    return False"
   ]
  },
  {
   "cell_type": "code",
   "execution_count": 73,
   "id": "1607df0c-15e9-47c0-a44e-c6eea3518817",
   "metadata": {},
   "outputs": [
    {
     "name": "stdout",
     "output_type": "stream",
     "text": [
      "[-1, -1, -1, 0, 1]\n"
     ]
    },
    {
     "data": {
      "text/plain": [
       "False"
      ]
     },
     "execution_count": 73,
     "metadata": {},
     "output_type": "execute_result"
    }
   ],
   "source": [
    "s = 'abcab'\n",
    "solve(s)"
   ]
  },
  {
   "cell_type": "code",
   "execution_count": 74,
   "id": "46d73dc5-6473-4679-9574-2f170e42170e",
   "metadata": {},
   "outputs": [
    {
     "name": "stdout",
     "output_type": "stream",
     "text": [
      "[-1, -1, 0, 1]\n"
     ]
    },
    {
     "data": {
      "text/plain": [
       "True"
      ]
     },
     "execution_count": 74,
     "metadata": {},
     "output_type": "execute_result"
    }
   ],
   "source": [
    "s = 'abab'\n",
    "solve(s)"
   ]
  }
 ],
 "metadata": {
  "kernelspec": {
   "display_name": "Python 3",
   "language": "python",
   "name": "python3"
  },
  "language_info": {
   "codemirror_mode": {
    "name": "ipython",
    "version": 3
   },
   "file_extension": ".py",
   "mimetype": "text/x-python",
   "name": "python",
   "nbconvert_exporter": "python",
   "pygments_lexer": "ipython3",
   "version": "3.9.1"
  }
 },
 "nbformat": 4,
 "nbformat_minor": 5
}
