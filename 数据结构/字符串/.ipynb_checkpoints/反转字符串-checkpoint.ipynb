{
 "cells": [
  {
   "cell_type": "markdown",
   "id": "8d6cae43-933e-4eb5-9c62-312cac8f8f7a",
   "metadata": {},
   "source": [
    "# 反转字符串"
   ]
  },
  {
   "cell_type": "markdown",
   "id": "e0fd1f07-5477-4b28-b40f-077358037f39",
   "metadata": {},
   "source": [
    "### 编写一个函数，其作用是将输入的字符串反转过来，输入字符串以字符数组char[]的形式给出。使用O(1)的额外空间解决。"
   ]
  },
  {
   "cell_type": "markdown",
   "id": "bb172880-a34a-43f0-94fd-535bcbce31be",
   "metadata": {},
   "source": [
    "* 例如：\n",
    "    * 输入：['h', 'e', 'l', 'l', 'o']\n",
    "    * 输出：['o', 'l', 'l', 'e', 'h']"
   ]
  },
  {
   "cell_type": "markdown",
   "id": "259729d7-45d8-4efa-8a30-502093d4e7ad",
   "metadata": {},
   "source": [
    "#### 方法：前后元素交换（双指针法）"
   ]
  },
  {
   "cell_type": "code",
   "execution_count": 7,
   "id": "16db1794-eec9-4be7-ad51-b35428765740",
   "metadata": {},
   "outputs": [],
   "source": [
    "def solve(s):\n",
    "    i = 0\n",
    "    j = len(s) - 1\n",
    "    while i < j:\n",
    "        tmp = s[i]\n",
    "        s[i] = s[j]\n",
    "        s[j] = tmp\n",
    "        j -= 1\n",
    "        i += 1\n",
    "    return s"
   ]
  },
  {
   "cell_type": "code",
   "execution_count": 8,
   "id": "1db6a590-6c99-481b-9314-0323251b0b75",
   "metadata": {},
   "outputs": [
    {
     "data": {
      "text/plain": [
       "['o', 'l', 'l', 'e', 'h']"
      ]
     },
     "execution_count": 8,
     "metadata": {},
     "output_type": "execute_result"
    }
   ],
   "source": [
    "s = ['h', 'e', 'l', 'l', 'o']\n",
    "solve(s)"
   ]
  }
 ],
 "metadata": {
  "kernelspec": {
   "display_name": "Python 3",
   "language": "python",
   "name": "python3"
  },
  "language_info": {
   "codemirror_mode": {
    "name": "ipython",
    "version": 3
   },
   "file_extension": ".py",
   "mimetype": "text/x-python",
   "name": "python",
   "nbconvert_exporter": "python",
   "pygments_lexer": "ipython3",
   "version": "3.9.1"
  }
 },
 "nbformat": 4,
 "nbformat_minor": 5
}
