{
 "cells": [
  {
   "cell_type": "markdown",
   "id": "1be73831-65e2-417d-8a05-776fc68f5ca4",
   "metadata": {},
   "source": [
    "# 三数之和"
   ]
  },
  {
   "cell_type": "markdown",
   "id": "a99f5928-07e1-4e5b-a82d-c928020b81d7",
   "metadata": {},
   "source": [
    "### 给一个包含n个整数的数组nums，判断nums中是否存在三个元素a,b,c,使得a+b+c=0。"
   ]
  },
  {
   "cell_type": "markdown",
   "id": "86e89b29-63f9-4a96-998b-0ccf59066fa2",
   "metadata": {},
   "source": [
    "* 例如：\n",
    "    * 输入：`nums=[-1,0,1,2,-1,-4]`\n",
    "    * 输出：`[[-1,0,1],[-1,-1,2]]`"
   ]
  },
  {
   "cell_type": "markdown",
   "id": "cd465387-9862-4477-9d9b-e25a2f4618a1",
   "metadata": {},
   "source": [
    "#### 双指针法"
   ]
  },
  {
   "cell_type": "markdown",
   "id": "0d002a7a-203e-4061-be67-a333ff9fb2fc",
   "metadata": {},
   "source": [
    "* 首先将数组排序，然后有一层for循环，i从下标0的地方开始，同时定义个下标left定义在i+1的位置，定义下标right在数组结尾的位置。这里相当于`a = nums[i], b = nums[left], c = nums[right]`。\n",
    "* 如果`nums[i]+nums[left]+nums[right]>0`，说明三数之和大了，所以right下标应该向左移动。\n",
    "* 如果`nums[i]+nums[left]+nums[right]<0`，说明三数之和小了，所以left下标应该向右移动，直到left与right相遇为止。\n",
    "* 时间复杂度：$O(n^2)$"
   ]
  },
  {
   "cell_type": "code",
   "execution_count": 13,
   "id": "4011135a-d683-46df-9709-a5393bbf2622",
   "metadata": {},
   "outputs": [],
   "source": [
    "def solve(nums):\n",
    "    path = []\n",
    "    nums.sort()\n",
    "\n",
    "    for i in range(len(nums)):\n",
    "        # 第一个元素大于0直接返回\n",
    "        if nums[0] > 0:\n",
    "            return path\n",
    "        # 去重，前后元素一样直接跳过\n",
    "        if i > 0 and nums[i] == nums[i - 1]:\n",
    "            continue\n",
    "            \n",
    "        left = i + 1\n",
    "        right = len(nums) - 1\n",
    "            \n",
    "        while left < right:\n",
    "            if nums[i] + nums[left] + nums[right] < 0:\n",
    "                left += 1\n",
    "            elif nums[i] + nums[left] + nums[right] > 0:\n",
    "                right -= 1\n",
    "            else:\n",
    "                # 找到一个三元组，保存\n",
    "                path.append([nums[i], nums[left], nums[right]])\n",
    "                # 去重\n",
    "                while right > left and nums[right] == nums[right - 1]:\n",
    "                    right -= 1\n",
    "                while right > left and nums[left] == nums[left + 1]:\n",
    "                    left += 1\n",
    "                right -= 1\n",
    "                left += 1\n",
    "    return path"
   ]
  },
  {
   "cell_type": "code",
   "execution_count": 14,
   "id": "87bd671b-4e36-460c-b6ce-6ae383459216",
   "metadata": {},
   "outputs": [
    {
     "data": {
      "text/plain": [
       "[[-1, -1, 2], [-1, 0, 1]]"
      ]
     },
     "execution_count": 14,
     "metadata": {},
     "output_type": "execute_result"
    }
   ],
   "source": [
    "nums = [-1, 0, 1, 2, -1, -4]\n",
    "solve(nums)"
   ]
  }
 ],
 "metadata": {
  "kernelspec": {
   "display_name": "Python 3",
   "language": "python",
   "name": "python3"
  },
  "language_info": {
   "codemirror_mode": {
    "name": "ipython",
    "version": 3
   },
   "file_extension": ".py",
   "mimetype": "text/x-python",
   "name": "python",
   "nbconvert_exporter": "python",
   "pygments_lexer": "ipython3",
   "version": "3.9.1"
  }
 },
 "nbformat": 4,
 "nbformat_minor": 5
}
