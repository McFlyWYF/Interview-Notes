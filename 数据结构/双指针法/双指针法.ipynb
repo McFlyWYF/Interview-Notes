{
 "cells": [
  {
   "cell_type": "markdown",
   "id": "44b0a1a4-19d9-40f0-99ab-e2499441bb0d",
   "metadata": {},
   "source": [
    "#### 题目"
   ]
  },
  {
   "cell_type": "markdown",
   "id": "8861ae4c-d2e3-44ef-8795-d1a63ccb955d",
   "metadata": {},
   "source": [
    "* 27.移除元素：只能删除不能覆盖。通过两个指针在一个for循环下完成两个for循环的工作。\n",
    "* 15.三数之和：通过前后两个指针不断向中间逼近，在一个for循环下完成两个for循环的工作。\n",
    "* 18.四数之和：在三数之和的基础上再套一层for循环，依然使用双指针法。\n",
    "* 206.翻转链表：改变链表next指针的指向，直接将链表反转，不用重新定义一个新的链表。\n",
    "* 142.环形链表2：使用快慢指针，分别定义fast和slow指针，从头节点出发，fast指针每次移动两个节点，slow指针每次移动一个节点，如果fast和slow指针在途中相遇，说明链表有环。\n",
    "* 344.反转字符串：定义两个指针，一个从字符串前面，一个从字符串后面，两个指针同时向中间移动，并交换元素。"
   ]
  }
 ],
 "metadata": {
  "kernelspec": {
   "display_name": "Python 3",
   "language": "python",
   "name": "python3"
  },
  "language_info": {
   "codemirror_mode": {
    "name": "ipython",
    "version": 3
   },
   "file_extension": ".py",
   "mimetype": "text/x-python",
   "name": "python",
   "nbconvert_exporter": "python",
   "pygments_lexer": "ipython3",
   "version": "3.9.1"
  }
 },
 "nbformat": 4,
 "nbformat_minor": 5
}
