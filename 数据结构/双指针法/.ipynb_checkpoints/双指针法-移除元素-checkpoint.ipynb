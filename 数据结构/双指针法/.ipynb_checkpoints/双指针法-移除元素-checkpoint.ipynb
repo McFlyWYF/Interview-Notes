{
 "cells": [
  {
   "cell_type": "markdown",
   "id": "febd5097-3b06-4379-914a-22b1cb037c53",
   "metadata": {},
   "source": [
    "# 双指针法"
   ]
  },
  {
   "cell_type": "markdown",
   "id": "297a84db-4088-46ad-bb1e-ab6f4562ef0d",
   "metadata": {},
   "source": [
    "### 1.移除元素（27）"
   ]
  },
  {
   "cell_type": "markdown",
   "id": "ebb904ae-6018-47ce-bb6e-cf323f528158",
   "metadata": {},
   "source": [
    "#### 给定一个数组nums和一个值val，需要`原地`移除所有数值等于val的元素，并返回移除后数组的新长度。"
   ]
  },
  {
   "cell_type": "markdown",
   "id": "44d86842-17f9-4dce-8456-686d86b5b933",
   "metadata": {},
   "source": [
    "* 例如：\n",
    "    * 输入：nums=[3, 2, 2, 3], val = 3\n",
    "    * 输出：长度为2"
   ]
  },
  {
   "cell_type": "markdown",
   "id": "89a4cc91-9fa1-49ec-8deb-638401fa7cfb",
   "metadata": {},
   "source": [
    "#### 暴力解法"
   ]
  },
  {
   "cell_type": "code",
   "execution_count": 28,
   "id": "de811131-e5de-453d-907c-689098979554",
   "metadata": {},
   "outputs": [],
   "source": [
    "def solve(nums, val):\n",
    "    start = 0\n",
    "    l = len(nums)\n",
    "    for i in range(start, l):\n",
    "        if nums[i] == val:\n",
    "            for j in range(i + 1, l):\n",
    "                 nums[j - 1] = nums[j]\n",
    "            l -= 1\n",
    "            start -= 1\n",
    "    return l"
   ]
  },
  {
   "cell_type": "code",
   "execution_count": 29,
   "id": "6e1739e5-477d-48ab-a49f-92a47e15c971",
   "metadata": {},
   "outputs": [
    {
     "data": {
      "text/plain": [
       "5"
      ]
     },
     "execution_count": 29,
     "metadata": {},
     "output_type": "execute_result"
    }
   ],
   "source": [
    "nums = [0, 1, 2, 3, 3, 0, 4, 2]\n",
    "val = 2\n",
    "solve(nums, val)"
   ]
  },
  {
   "cell_type": "markdown",
   "id": "dd65740c-1ab3-418b-b71f-b066611f7612",
   "metadata": {},
   "source": [
    "#### 双指针法（快慢指针法）"
   ]
  },
  {
   "cell_type": "markdown",
   "id": "69b8e21c-9c4a-42eb-b965-76891445b2d8",
   "metadata": {},
   "source": [
    "* 通过一个快指针和慢指针在一个for循环下完成两个for循环的工作。"
   ]
  },
  {
   "cell_type": "markdown",
   "id": "0e9900d1-8fb0-40a7-9431-503f85c1562f",
   "metadata": {},
   "source": [
    "* 开始快慢指针指向同一个元素，当快指针对应的元素不等于val时，快慢指针同时后移；如果等于，快指针后移，将后面的元素依次向前移动。"
   ]
  },
  {
   "cell_type": "code",
   "execution_count": 31,
   "id": "70a51b7e-81e0-4399-9e24-7c5661515677",
   "metadata": {},
   "outputs": [],
   "source": [
    "def fastslow(nums, val):\n",
    "    slowindex = 0\n",
    "    for fastindex in range(0, len(nums)):\n",
    "        if nums[fastindex] != val:\n",
    "            nums[slowindex] = nums[fastindex]\n",
    "            slowindex += 1\n",
    "    return slowindex"
   ]
  },
  {
   "cell_type": "code",
   "execution_count": 32,
   "id": "5079f3c5-a8ef-413c-8926-148f52c378d2",
   "metadata": {},
   "outputs": [
    {
     "data": {
      "text/plain": [
       "6"
      ]
     },
     "execution_count": 32,
     "metadata": {},
     "output_type": "execute_result"
    }
   ],
   "source": [
    "nums = [0, 1, 2, 3, 3, 0, 4, 2]\n",
    "val = 2\n",
    "fastslow(nums, val)"
   ]
  },
  {
   "cell_type": "markdown",
   "id": "6f070c60-9a0e-4aac-bd36-8c710827d29d",
   "metadata": {},
   "source": [
    "* 时间复杂度$O(n)$"
   ]
  },
  {
   "cell_type": "markdown",
   "id": "e544b410-a46a-4c13-8653-cf1eff20fc95",
   "metadata": {},
   "source": [
    "#### 题目\n",
    "* 数字之和\n",
    "    * 15.三数之和\n",
    "    * 18.四数之和\n",
    "* 记录前后指针实现链表反转\n",
    "    * 206.反转链表\n",
    "* 确定是否有环\n",
    "    * 142.环形链表2"
   ]
  },
  {
   "cell_type": "code",
   "execution_count": null,
   "id": "974ba674-b3af-4839-8afd-29a16683e2d3",
   "metadata": {},
   "outputs": [],
   "source": []
  }
 ],
 "metadata": {
  "kernelspec": {
   "display_name": "Python 3",
   "language": "python",
   "name": "python3"
  },
  "language_info": {
   "codemirror_mode": {
    "name": "ipython",
    "version": 3
   },
   "file_extension": ".py",
   "mimetype": "text/x-python",
   "name": "python",
   "nbconvert_exporter": "python",
   "pygments_lexer": "ipython3",
   "version": "3.9.1"
  }
 },
 "nbformat": 4,
 "nbformat_minor": 5
}
