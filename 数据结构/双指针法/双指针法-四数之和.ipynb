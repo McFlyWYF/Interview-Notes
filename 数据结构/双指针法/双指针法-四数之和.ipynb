{
 "cells": [
  {
   "cell_type": "markdown",
   "id": "2a0695ce-7185-408d-b30e-b6fd5078ff2c",
   "metadata": {},
   "source": [
    "# 四数之和"
   ]
  },
  {
   "cell_type": "markdown",
   "id": "f90c4ed3-cfa4-4ef7-aa3e-30dad4427b7a",
   "metadata": {},
   "source": [
    "### 给定一个包含n个整数的数组nums和一个目标值target，判断nums中是否存在四个元素a,b,c,d，使得a+b+c+d的值与target相等。"
   ]
  },
  {
   "cell_type": "markdown",
   "id": "7689347e-81aa-4217-a4bb-e72a67db3713",
   "metadata": {},
   "source": [
    "* 例如：\n",
    "    * 输入：`nums = [1,0,-1,0,-2,2], target=0`\n",
    "    * 输出：`[[-1,0,0,1], [-2,-1,1,2],[-2,0,0,2]]`"
   ]
  },
  {
   "cell_type": "markdown",
   "id": "a3729a66-5e6e-49a4-8a00-4c930c31d6ec",
   "metadata": {},
   "source": [
    "和三数之和是一个思路，都是使用双指针法，解法就是在三数之和的基础上再套一层for循环。"
   ]
  },
  {
   "cell_type": "markdown",
   "id": "ee0e0ae5-c5a5-43bb-8ff7-0fbf5180e0a0",
   "metadata": {},
   "source": [
    "四数之和的双指针解法是两层for循环nums[k]+nums[i]为确定值，依然是循环内有left和right下标作为双指针，找出`nums[k]+nums[i]+nums[left]+nums[right]==target`的情况，时间复杂度是$O(n^3)$。"
   ]
  },
  {
   "cell_type": "code",
   "execution_count": 10,
   "id": "1e49e378-046e-4610-804d-e95a7cdd2515",
   "metadata": {},
   "outputs": [],
   "source": [
    "def solve(nums, target):\n",
    "    nums.sort()\n",
    "    path = []\n",
    "    for i in range(len(nums)):\n",
    "        if i > 0 and nums[i] == nums[i - 1]:\n",
    "            continue\n",
    "        for j in range(i+1, len(nums)):\n",
    "            if j > i + 1 and nums[j] == nums[j - 1]:\n",
    "                continue\n",
    "            left = j + 1\n",
    "            right = len(nums) - 1\n",
    "            while left < right:\n",
    "                if nums[i] + nums[j] + nums[left] + nums[right] > target:\n",
    "                    right -= 1\n",
    "                elif nums[i] + nums[j] + nums[left] + nums[right] > target:\n",
    "                    left += 1\n",
    "                else:\n",
    "                    path.append([nums[i], nums[j], nums[left], nums[right]])\n",
    "                    while left < right and nums[right] == nums[right - 1]:\n",
    "                        right -= 1\n",
    "                    while left < right and nums[left] == nums[left + 1]:\n",
    "                        left += 1\n",
    "                    right -= 1\n",
    "                    left += 1\n",
    "    return path"
   ]
  },
  {
   "cell_type": "code",
   "execution_count": 11,
   "id": "756d33f6-e50e-4d30-8ce5-2709f45b6c60",
   "metadata": {},
   "outputs": [
    {
     "data": {
      "text/plain": [
       "[[-2, -1, 0, 2], [-2, 0, 0, 2], [-1, 0, 0, 1]]"
      ]
     },
     "execution_count": 11,
     "metadata": {},
     "output_type": "execute_result"
    }
   ],
   "source": [
    "nums = [1,0,-1,0,-2,2]\n",
    "target = 0\n",
    "solve(nums, target)"
   ]
  }
 ],
 "metadata": {
  "kernelspec": {
   "display_name": "Python 3",
   "language": "python",
   "name": "python3"
  },
  "language_info": {
   "codemirror_mode": {
    "name": "ipython",
    "version": 3
   },
   "file_extension": ".py",
   "mimetype": "text/x-python",
   "name": "python",
   "nbconvert_exporter": "python",
   "pygments_lexer": "ipython3",
   "version": "3.9.1"
  }
 },
 "nbformat": 4,
 "nbformat_minor": 5
}
