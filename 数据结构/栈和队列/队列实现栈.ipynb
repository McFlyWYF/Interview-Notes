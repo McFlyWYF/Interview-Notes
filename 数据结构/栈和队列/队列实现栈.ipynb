{
 "cells": [
  {
   "cell_type": "markdown",
   "metadata": {},
   "source": [
    "# 队列实现栈"
   ]
  },
  {
   "cell_type": "markdown",
   "metadata": {},
   "source": [
    "### 使用队列实现栈的操作：\n",
    "* `push()`：元素x入栈\n",
    "* `pop()`：移除栈顶元素\n",
    "* `top()`：获取栈顶元素\n",
    "* `empty()`：返回栈是否为空"
   ]
  },
  {
   "cell_type": "markdown",
   "metadata": {},
   "source": [
    "#### 单队列实现"
   ]
  },
  {
   "cell_type": "markdown",
   "metadata": {},
   "source": [
    "* `top()`：将前len(queue) - 1个元素添加到队列末尾，输出队列第一个元素，再将第一个元素添加到末尾，就可以实现top()操作。\n",
    "* `pop()`：将前len(queue) - 1个元素添加到队列末尾，移除第一个元素。"
   ]
  },
  {
   "cell_type": "code",
   "execution_count": 200,
   "metadata": {},
   "outputs": [],
   "source": [
    "from queue import Queue\n",
    "class MyStack(object):\n",
    "\n",
    "    def __init__(self):\n",
    "        \"\"\"\n",
    "        Initialize your data structure here.\n",
    "        \"\"\"\n",
    "        self.q1 = Queue()\n",
    "\n",
    "\n",
    "    def push(self, x):\n",
    "        \"\"\"\n",
    "        Push element x onto stack.\n",
    "        :type x: int\n",
    "        :rtype: None\n",
    "        \"\"\"\n",
    "        self.q1.put(x)\n",
    "        \n",
    "\n",
    "\n",
    "    def pop(self):\n",
    "        \"\"\"\n",
    "        Removes the element on top of the stack and returns that element.\n",
    "        :rtype: int\n",
    "        \"\"\"\n",
    "\n",
    "        \n",
    "        for i in range(self.q1.qsize() - 1):\n",
    "            self.q1.put(self.q1.get())\n",
    "         \n",
    "        return self.q1.get()\n",
    "\n",
    "\n",
    "    def top(self):\n",
    "        \"\"\"\n",
    "        Get the top element.\n",
    "        :rtype: int\n",
    "        \"\"\"\n",
    "        for i in range(self.q1.qsize() - 1):\n",
    "            self.q1.put(self.q1.get())\n",
    "\n",
    "        res = self.q1.get()\n",
    "        self.q1.put(res)\n",
    "        return res\n",
    "\n",
    "\n",
    "    def empty(self):\n",
    "        \"\"\"\n",
    "        Returns whether the stack is empty.\n",
    "        :rtype: bool\n",
    "        \"\"\"\n",
    "        if self.q1.qsize() == 0:\n",
    "            return True\n",
    "        else:\n",
    "            return False"
   ]
  },
  {
   "cell_type": "code",
   "execution_count": 202,
   "metadata": {},
   "outputs": [],
   "source": [
    "obj = MyStack()\n",
    "obj.push(1)\n",
    "obj.push(2)\n",
    "\n",
    "param_1 = obj.top()\n",
    "param_2 = obj.pop()\n",
    "param_3 = obj.top()\n",
    "param_4 = obj.empty()\n",
    "param_5 = obj.pop()\n",
    "param_6 = obj.empty()"
   ]
  },
  {
   "cell_type": "markdown",
   "metadata": {},
   "source": [
    "#### 双队列实现"
   ]
  },
  {
   "cell_type": "markdown",
   "metadata": {},
   "source": [
    "* `top()`：将队列前len(queue) - 1个元素保存到第二个队列中，输出队列1中的元素。再将队列2中的元素放回队列1，同时将输出的元素添加到队列1末尾。\n",
    "* `pop()`：将队列前len(queue) - 1个元素保存到第二个队列中，输出队列1中的元素。再将队列2中的元素放回队列1。"
   ]
  },
  {
   "cell_type": "code",
   "execution_count": 220,
   "metadata": {},
   "outputs": [],
   "source": [
    "from queue import Queue\n",
    "class MyStack(object):\n",
    "\n",
    "    def __init__(self):\n",
    "        \"\"\"\n",
    "        Initialize your data structure here.\n",
    "        \"\"\"\n",
    "        self.q1 = Queue()\n",
    "        self.q2 = Queue()\n",
    "\n",
    "    def push(self, x):\n",
    "        \"\"\"\n",
    "        Push element x onto stack.\n",
    "        :type x: int\n",
    "        :rtype: None\n",
    "        \"\"\"\n",
    "        self.q1.put(x)\n",
    "        \n",
    "\n",
    "\n",
    "    def pop(self):\n",
    "        \"\"\"\n",
    "        Removes the element on top of the stack and returns that element.\n",
    "        :rtype: int\n",
    "        \"\"\"\n",
    "\n",
    "        \n",
    "        for i in range(self.q1.qsize() - 1):\n",
    "            self.q2.put(self.q1.get())\n",
    "        \n",
    "        res = self.q1.get()\n",
    "        self.q1 = self.q2\n",
    "        \n",
    "        return res\n",
    "\n",
    "\n",
    "    def top(self):\n",
    "        \"\"\"\n",
    "        Get the top element.\n",
    "        :rtype: int\n",
    "        \"\"\"\n",
    "        for i in range(self.q1.qsize() - 1):\n",
    "            self.q2.put(self.q1.get())\n",
    "\n",
    "        res = self.q1.get()\n",
    "        \n",
    "        self.q1 = self.q2\n",
    "        self.q1.put(res)\n",
    "        return res\n",
    "\n",
    "\n",
    "    def empty(self):\n",
    "        \"\"\"\n",
    "        Returns whether the stack is empty.\n",
    "        :rtype: bool\n",
    "        \"\"\"\n",
    "        if self.q1.qsize() == 0:\n",
    "            return True\n",
    "        else:\n",
    "            return False"
   ]
  },
  {
   "cell_type": "code",
   "execution_count": 222,
   "metadata": {},
   "outputs": [],
   "source": [
    "obj = MyStack()\n",
    "obj.push(1)\n",
    "obj.push(2)\n",
    "\n",
    "param_1 = obj.top()\n",
    "param_2 = obj.pop()\n",
    "param_4 = obj.empty()"
   ]
  }
 ],
 "metadata": {
  "kernelspec": {
   "display_name": "Python 3",
   "language": "python",
   "name": "python3"
  },
  "language_info": {
   "codemirror_mode": {
    "name": "ipython",
    "version": 3
   },
   "file_extension": ".py",
   "mimetype": "text/x-python",
   "name": "python",
   "nbconvert_exporter": "python",
   "pygments_lexer": "ipython3",
   "version": "3.6.5"
  }
 },
 "nbformat": 4,
 "nbformat_minor": 5
}
