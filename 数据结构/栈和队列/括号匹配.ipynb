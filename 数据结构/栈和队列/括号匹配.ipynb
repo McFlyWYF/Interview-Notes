{
 "cells": [
  {
   "cell_type": "markdown",
   "metadata": {},
   "source": [
    "# 栈的应用"
   ]
  },
  {
   "cell_type": "markdown",
   "metadata": {},
   "source": [
    "### 有效的括号"
   ]
  },
  {
   "cell_type": "markdown",
   "metadata": {},
   "source": [
    "#### 给定一个只包含括号`'(',')','{','}','[',']'`的字符串，判断字符串是否有效。"
   ]
  },
  {
   "cell_type": "markdown",
   "metadata": {},
   "source": [
    "* 例如：\n",
    "    * 输入：'()'\n",
    "    * 输出：true"
   ]
  },
  {
   "cell_type": "markdown",
   "metadata": {},
   "source": [
    "#### 解题思路"
   ]
  },
  {
   "cell_type": "markdown",
   "metadata": {},
   "source": [
    "* 第一种情况：字符串里括号有多余，数量是奇数个。\n",
    "\n",
    "![image.png](attachment:8d930899-8e03-4bff-8f83-000141253d2c.png)"
   ]
  },
  {
   "cell_type": "markdown",
   "metadata": {},
   "source": [
    "* 第二种情况：左右括号没有多余，但是括号类型没有匹配上。\n",
    "\n",
    "\n",
    "![image.png](attachment:61420b80-4aa0-4a1f-83d2-04cc044cd0a4.png)"
   ]
  },
  {
   "cell_type": "markdown",
   "metadata": {},
   "source": [
    "* 第三种情况：字符串右方向的括号多余了。\n",
    "\n",
    "![image.png](attachment:18db87c6-96c8-4b76-aefe-ba311fe9accf.png)"
   ]
  },
  {
   "cell_type": "code",
   "execution_count": 29,
   "metadata": {},
   "outputs": [],
   "source": [
    "def solve(s):\n",
    "    stack = list()\n",
    "        \n",
    "    for i in range(len(s)):\n",
    "        if s[i] == '(' or s[i] == '{' or s[i] == '[':\n",
    "            stack.append(s[i])\n",
    "        elif s[i] == ')' and stack and stack[-1] == '(':\n",
    "            stack.pop()\n",
    "        elif s[i] == '}' and stack and stack[-1] == '{':\n",
    "            stack.pop()\n",
    "        elif s[i] == ']' and stack and stack[-1] == '[':\n",
    "            stack.pop()\n",
    "        else:\n",
    "            return False\n",
    "    if len(stack) == 0:\n",
    "        return True\n",
    "    else:\n",
    "        return False"
   ]
  },
  {
   "cell_type": "code",
   "execution_count": 30,
   "metadata": {},
   "outputs": [
    {
     "data": {
      "text/plain": [
       "False"
      ]
     },
     "execution_count": 30,
     "metadata": {},
     "output_type": "execute_result"
    }
   ],
   "source": [
    "s = '){'\n",
    "solve(s)"
   ]
  }
 ],
 "metadata": {
  "kernelspec": {
   "display_name": "Python 3",
   "language": "python",
   "name": "python3"
  },
  "language_info": {
   "codemirror_mode": {
    "name": "ipython",
    "version": 3
   },
   "file_extension": ".py",
   "mimetype": "text/x-python",
   "name": "python",
   "nbconvert_exporter": "python",
   "pygments_lexer": "ipython3",
   "version": "3.6.5"
  }
 },
 "nbformat": 4,
 "nbformat_minor": 5
}
