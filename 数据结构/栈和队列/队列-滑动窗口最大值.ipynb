{
 "cells": [
  {
   "cell_type": "markdown",
   "id": "00359062-c54f-4417-8d06-aca79ea4152b",
   "metadata": {},
   "source": [
    "# 滑动窗口最大值"
   ]
  },
  {
   "cell_type": "markdown",
   "id": "8608d17d-9ba9-4740-b6f2-791e18bac7d1",
   "metadata": {},
   "source": [
    "### 给定一个数组nums，有一个大小为k的滑动窗口从数组的最左侧移动到数组的最右侧。只可以看到在滑动窗口内的k个数字。滑动窗口每次只向右移动一位。返回滑动窗口中的最大值。"
   ]
  },
  {
   "cell_type": "markdown",
   "id": "4e414cf6-77dd-4abc-900c-68a043d3a90d",
   "metadata": {},
   "source": [
    "* 例如：\n",
    "    * 输入：nums = [1,3,-1,-3,5,3,6,7]\n",
    "    * 输出：[3,3,5,5,6,7]"
   ]
  },
  {
   "cell_type": "markdown",
   "id": "2c76caf9-0391-411f-a7b5-d906492d4934",
   "metadata": {},
   "source": [
    "单调队列：单调递减或单调递增的队列。"
   ]
  },
  {
   "cell_type": "markdown",
   "id": "1e9085eb-302f-4af0-a7cc-5ec4561b58f3",
   "metadata": {},
   "source": [
    "当滑动窗口向右移动时，需要把一个新的元素放入队列中，为了保持队列的性质，不断地将新的元素与队尾的元素相比较，如果前者大于等于后者，那么队尾的元素被永久移除，将其弹出队列。不断进行此项操作，直到队列为空或新的元素小于队尾元素。"
   ]
  },
  {
   "cell_type": "code",
   "execution_count": 7,
   "id": "ec4032d6-ce36-456b-8989-c429542a6569",
   "metadata": {},
   "outputs": [],
   "source": [
    "import collections\n",
    "def solve(nums, k):\n",
    "    n = len(nums)\n",
    "    q = collections.deque()\n",
    "    for i in range(k):\n",
    "        while q and nums[i] >= nums[q[-1]]:   # 当前元素大于队尾元素\n",
    "            q.pop()   # 队尾元素弹出\n",
    "        q.append(i)\n",
    "    ans = [nums[q[0]]]\n",
    "    for i in range(k, n):\n",
    "        while q and nums[i] >= nums[q[-1]]:\n",
    "            q.pop()\n",
    "        q.append(i)\n",
    "        while q[0] <= i - k:\n",
    "            q.popleft()\n",
    "        ans.append(nums[q[0]])   # 队首元素弹出（最大值）\n",
    "    return ans"
   ]
  },
  {
   "cell_type": "code",
   "execution_count": 6,
   "id": "1d5026cd-e980-48ea-96b5-3a7cfb906f4d",
   "metadata": {},
   "outputs": [
    {
     "name": "stdout",
     "output_type": "stream",
     "text": [
      "deque([1, 2])\n",
      "[3]\n"
     ]
    },
    {
     "data": {
      "text/plain": [
       "[3, 3, 5, 5, 6, 7]"
      ]
     },
     "execution_count": 6,
     "metadata": {},
     "output_type": "execute_result"
    }
   ],
   "source": [
    "nums = [1,3,-1,-3,5,3,6,7]\n",
    "k = 3\n",
    "solve(nums, k)·"
   ]
  }
 ],
 "metadata": {
  "kernelspec": {
   "display_name": "Python 3",
   "language": "python",
   "name": "python3"
  },
  "language_info": {
   "codemirror_mode": {
    "name": "ipython",
    "version": 3
   },
   "file_extension": ".py",
   "mimetype": "text/x-python",
   "name": "python",
   "nbconvert_exporter": "python",
   "pygments_lexer": "ipython3",
   "version": "3.9.1"
  }
 },
 "nbformat": 4,
 "nbformat_minor": 5
}
