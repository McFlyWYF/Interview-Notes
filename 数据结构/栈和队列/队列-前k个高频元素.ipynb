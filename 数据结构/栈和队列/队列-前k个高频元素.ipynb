{
 "cells": [
  {
   "cell_type": "markdown",
   "id": "2db186c3-07b7-4647-bb54-c88a56dbbfe7",
   "metadata": {},
   "source": [
    "# 前k个高频元素"
   ]
  },
  {
   "cell_type": "markdown",
   "id": "a4afd3d4-bc9a-44c3-b24a-74ebdf2c89d5",
   "metadata": {},
   "source": [
    "### 给定一个非空的整数数组，返回其中出现频率前k高的元素。"
   ]
  },
  {
   "cell_type": "markdown",
   "id": "57274535-dbd6-4c39-8603-8ac81a496dab",
   "metadata": {},
   "source": [
    "* 例如：\n",
    "    * 输入：`nums = [1,1,1,2,2,3], k = 2`\n",
    "    * 输出：`[1,2]`"
   ]
  },
  {
   "cell_type": "markdown",
   "id": "1d49d0a4-21f3-4afa-b87e-d80601204148",
   "metadata": {},
   "source": [
    "* 具体操作为：\n",
    "    * 借助哈希表统计元素的频率。\n",
    "    * 维护一个元素数目为k的最小堆。\n",
    "    * 每次都将新的元素与堆顶元素进行比较。\n",
    "    * 如果新的元素的频率比堆顶的元素大，则弹出堆顶的元素，将新的元素添加进堆中。\n",
    "    * 最终，堆中的k个元素即为前k个高频元素。"
   ]
  },
  {
   "cell_type": "code",
   "execution_count": 30,
   "id": "5f27cba0-6e2a-46d1-94eb-1ffa0a422c4b",
   "metadata": {},
   "outputs": [],
   "source": [
    "import heapq\n",
    "\n",
    "def solve(nums, k):\n",
    "    hashmap = {}\n",
    "    # 统计元素频率\n",
    "    for i in nums:\n",
    "        hashmap[i] = hashmap.get(i, 0) + 1\n",
    "    \n",
    "    # 对频率排序，定义一个小顶堆，大小为k\n",
    "    pri_que = []\n",
    "    for key, freq in hashmap.items():\n",
    "        heapq.heappush(pri_que, (freq, key))\n",
    "        if len(pri_que) > k:   # 如果堆的大小大于k，则队列弹出，保证堆堆大小一直为k\n",
    "            heapq.heappop(pri_que)\n",
    "    \n",
    "    # 找出前k个高频元素，因为小顶堆先弹出堆最小的，倒序输出到数组\n",
    "    result = [0] * k\n",
    "    for i in range(k - 1, -1, -1):\n",
    "        result[i] = heapq.heappop(pri_que)[1]\n",
    "    return result"
   ]
  },
  {
   "cell_type": "code",
   "execution_count": 28,
   "id": "b6373bfa-ce4d-4ccd-9eca-0d09228d3f26",
   "metadata": {},
   "outputs": [
    {
     "data": {
      "text/plain": [
       "[1, 2]"
      ]
     },
     "execution_count": 28,
     "metadata": {},
     "output_type": "execute_result"
    }
   ],
   "source": [
    "nums = [1,1,1,2,2,3]\n",
    "solve(nums, 2)"
   ]
  }
 ],
 "metadata": {
  "kernelspec": {
   "display_name": "Python 3",
   "language": "python",
   "name": "python3"
  },
  "language_info": {
   "codemirror_mode": {
    "name": "ipython",
    "version": 3
   },
   "file_extension": ".py",
   "mimetype": "text/x-python",
   "name": "python",
   "nbconvert_exporter": "python",
   "pygments_lexer": "ipython3",
   "version": "3.9.1"
  }
 },
 "nbformat": 4,
 "nbformat_minor": 5
}
