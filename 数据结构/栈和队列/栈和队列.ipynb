{
 "cells": [
  {
   "cell_type": "markdown",
   "metadata": {},
   "source": [
    "# 栈和队列"
   ]
  },
  {
   "cell_type": "markdown",
   "metadata": {},
   "source": [
    "#### 栈是先进后出，队列是先进先出。"
   ]
  },
  {
   "cell_type": "markdown",
   "metadata": {},
   "source": [
    "![image.png](attachment:3f03ce4d-dca9-4a7d-a680-1b1330991c1e.png)"
   ]
  },
  {
   "cell_type": "markdown",
   "metadata": {},
   "source": [
    "### 栈"
   ]
  },
  {
   "cell_type": "markdown",
   "metadata": {},
   "source": [
    "![image.png](attachment:2a9aa4a5-2d3b-48db-9b05-3edac41b08f2.png)"
   ]
  },
  {
   "cell_type": "markdown",
   "metadata": {},
   "source": [
    "栈提供push和pop接口，所有元素必须符合先进后出规则，所以栈不提供走访功能，也不提供迭代器。"
   ]
  },
  {
   "cell_type": "markdown",
   "metadata": {},
   "source": [
    "栈的底层实现可以是vector，deuqe，list都可以，主要就是数组和链表的底层实现。"
   ]
  },
  {
   "cell_type": "markdown",
   "metadata": {},
   "source": [
    "![image.png](attachment:3fc4af3a-6c02-49ae-9b84-be3c84c9fbff.png)"
   ]
  },
  {
   "cell_type": "markdown",
   "metadata": {},
   "source": [
    "### 队列"
   ]
  },
  {
   "cell_type": "markdown",
   "metadata": {},
   "source": [
    "队列是先进先出，不允许遍历，不提供迭代器，可以指定底层list实现。"
   ]
  },
  {
   "cell_type": "markdown",
   "metadata": {},
   "source": [
    "### 常见问题"
   ]
  },
  {
   "cell_type": "markdown",
   "metadata": {},
   "source": [
    "* 栈里面的元素在内存中是连续分布的吗？\n",
    "    * 栈是容器适配器，底层容器使用不同的容器，导致栈内数据在内存中是连续分布。\n",
    "    * 缺省情况下，默认底层容器是deque，那么deque在内存中的数据分布是什么样的？答案是不连续的。"
   ]
  },
  {
   "cell_type": "markdown",
   "metadata": {},
   "source": [
    "#### 题目"
   ]
  },
  {
   "cell_type": "markdown",
   "metadata": {},
   "source": [
    "* 232.用栈实现队列（两个栈）\n",
    "* 225.用队列实现栈（两个队列或一个队列）\n",
    "* 20.有效的括号\n",
    "* 1047.删除字符串中的所有相邻重复项\n",
    "* 150.逆波兰表达式求值\n",
    "* 239.滑动窗口最大值\n",
    "* 347.前K个高频元素"
   ]
  }
 ],
 "metadata": {
  "kernelspec": {
   "display_name": "Python 3",
   "language": "python",
   "name": "python3"
  },
  "language_info": {
   "codemirror_mode": {
    "name": "ipython",
    "version": 3
   },
   "file_extension": ".py",
   "mimetype": "text/x-python",
   "name": "python",
   "nbconvert_exporter": "python",
   "pygments_lexer": "ipython3",
   "version": "3.6.5"
  }
 },
 "nbformat": 4,
 "nbformat_minor": 5
}
