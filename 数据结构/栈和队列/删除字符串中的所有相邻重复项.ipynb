{
 "cells": [
  {
   "cell_type": "markdown",
   "id": "1c882563-cd6b-4d4d-ae08-c4c3628cf320",
   "metadata": {},
   "source": [
    "# 删除字符串中的所有相邻重复项"
   ]
  },
  {
   "cell_type": "markdown",
   "id": "a63d092c-1457-4dc0-bfa1-0ea34fef9bca",
   "metadata": {},
   "source": [
    "### 给出由小写字母组成的字符串s，重复项删除操作会选择两个相邻且相同的字母，并删除它们。"
   ]
  },
  {
   "cell_type": "markdown",
   "id": "22cd1cd8-f946-4f7e-b928-c61580a3f482",
   "metadata": {},
   "source": [
    "* 例如：\n",
    "    * 输入：'abbaca‘\n",
    "    * 输出：'ca"
   ]
  },
  {
   "cell_type": "code",
   "execution_count": 24,
   "id": "dc57a2d2-26aa-4f0a-8b51-321661384f87",
   "metadata": {},
   "outputs": [],
   "source": [
    "def solve(s):\n",
    "    stack = list()\n",
    "    for i in range(len(s)):\n",
    "        if len(stack) == 0 or stack[-1] != s[i]:\n",
    "            stack.append(s[i])\n",
    "        else:\n",
    "            stack.pop()\n",
    "    return ''.join(stack)"
   ]
  },
  {
   "cell_type": "code",
   "execution_count": 25,
   "id": "944f932c-680b-4d20-bf2c-ae8bc0bff36b",
   "metadata": {},
   "outputs": [
    {
     "data": {
      "text/plain": [
       "'ca'"
      ]
     },
     "execution_count": 25,
     "metadata": {},
     "output_type": "execute_result"
    }
   ],
   "source": [
    "s = 'abbaca'\n",
    "solve(s)"
   ]
  },
  {
   "cell_type": "markdown",
   "id": "b260b1ca-335d-4c92-82db-6952e7bd530d",
   "metadata": {},
   "source": [
    "#### 双指针法模拟栈"
   ]
  },
  {
   "cell_type": "markdown",
   "id": "ff0cc18a-bde6-4068-b718-6d5d15013475",
   "metadata": {},
   "source": [
    "* 两个指针，如果slow和slow-1元素相等，slow指针减一，如果不相等，fast和slow同时加1。"
   ]
  },
  {
   "cell_type": "code",
   "execution_count": 26,
   "id": "1b7a6ec7-6473-4497-8a30-f01fc17c5fc4",
   "metadata": {},
   "outputs": [],
   "source": [
    "def removeDuplicates(s):\n",
    "    res = list(s)\n",
    "    slow = fast = 0\n",
    "    length = len(res)\n",
    "\n",
    "    while fast < length:\n",
    "        # 如果一样直接换，不一样会把后面的填在slow的位置\n",
    "        res[slow] = res[fast]\n",
    "            \n",
    "        # 如果发现和前一个一样，就退一格指针\n",
    "        if slow > 0 and res[slow] == res[slow - 1]:\n",
    "            slow -= 1\n",
    "        else:\n",
    "            slow += 1\n",
    "        fast += 1\n",
    "            \n",
    "    return ''.join(res[0: slow])"
   ]
  },
  {
   "cell_type": "code",
   "execution_count": 27,
   "id": "d31f1fc8-078e-4907-ba9e-08ef5a5c5e4c",
   "metadata": {},
   "outputs": [
    {
     "data": {
      "text/plain": [
       "'ca'"
      ]
     },
     "execution_count": 27,
     "metadata": {},
     "output_type": "execute_result"
    }
   ],
   "source": [
    "s = 'abbaca'\n",
    "removeDuplicates(s)"
   ]
  }
 ],
 "metadata": {
  "kernelspec": {
   "display_name": "Python 3",
   "language": "python",
   "name": "python3"
  },
  "language_info": {
   "codemirror_mode": {
    "name": "ipython",
    "version": 3
   },
   "file_extension": ".py",
   "mimetype": "text/x-python",
   "name": "python",
   "nbconvert_exporter": "python",
   "pygments_lexer": "ipython3",
   "version": "3.9.1"
  }
 },
 "nbformat": 4,
 "nbformat_minor": 5
}
