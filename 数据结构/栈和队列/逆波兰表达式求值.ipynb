{
 "cells": [
  {
   "cell_type": "markdown",
   "id": "a7392aa0-7eae-49bf-ad6c-d9b8c4402ab3",
   "metadata": {},
   "source": [
    "# 逆波兰表达式求值"
   ]
  },
  {
   "cell_type": "markdown",
   "id": "2f54acc1-0ddf-4a16-8493-725779c06d25",
   "metadata": {},
   "source": [
    "### 根据逆波兰表示法，求表达式的值。"
   ]
  },
  {
   "cell_type": "markdown",
   "id": "1cc10e70-88d9-406c-b44c-332755586539",
   "metadata": {},
   "source": [
    "* 例如：\n",
    "    * 输入：`['2', '1', '+', '3', '*']`\n",
    "    * 输出：9"
   ]
  },
  {
   "cell_type": "markdown",
   "id": "9d1029ff-2ab1-4b00-b603-ceaecef70152",
   "metadata": {},
   "source": [
    "* 如果当前元素是操作数，则操作数入栈；如果遇到运算符，则弹出栈中的两个元素进行操作，再将结果入栈。"
   ]
  },
  {
   "cell_type": "code",
   "execution_count": 78,
   "id": "36bca159-7092-4985-883a-4a1232c1f7e3",
   "metadata": {},
   "outputs": [],
   "source": [
    "def solve(tokens):\n",
    "    stack1 = list()\n",
    "\n",
    "    for i in range(len(tokens)):\n",
    "        if tokens[i] in ['+', '-', '*', '/']:\n",
    "            s1 = stack1.pop()\n",
    "            s2 = stack1.pop()\n",
    "            if tokens[i] == '+':\n",
    "                stack1.append(int(s1)+int(s2))\n",
    "            elif tokens[i] == '-':\n",
    "                stack1.append(int(s2)-int(s1))\n",
    "            elif tokens[i] == '*':\n",
    "                stack1.append(int(s1)*int(s2))\n",
    "                \n",
    "            elif tokens[i] == '/':\n",
    "                stack1.append(int(int(s2)/int(s1)))\n",
    "        else:\n",
    "            stack1.append(tokens[i])\n",
    "            \n",
    "    print(stack1[0])"
   ]
  },
  {
   "cell_type": "code",
   "execution_count": 79,
   "id": "10ed0b6e-f37f-450b-ad9c-30bd0e9055a5",
   "metadata": {},
   "outputs": [],
   "source": [
    "def solve2(tokens):\n",
    "    stack = list()\n",
    "    for item in tokens:\n",
    "        if item not in ['+' ,'-', '*', '/']:\n",
    "            stack.append(item)\n",
    "        else:\n",
    "            first, second = stack.pop(), stack.pop()\n",
    "            stack.append(int(eval(f'{second} {item} {first}')))\n",
    "    return int(stack[-1])"
   ]
  },
  {
   "cell_type": "code",
   "execution_count": 80,
   "id": "1cb8c252-88d1-438c-97d1-7f37f993010e",
   "metadata": {},
   "outputs": [
    {
     "name": "stdout",
     "output_type": "stream",
     "text": [
      "22\n"
     ]
    }
   ],
   "source": [
    "s = [\"10\",\"6\",\"9\",\"3\",\"+\",\"-11\",\"*\",\"/\",\"*\",\"17\",\"+\",\"5\",\"+\"]\n",
    "solve(s)"
   ]
  }
 ],
 "metadata": {
  "kernelspec": {
   "display_name": "Python 3",
   "language": "python",
   "name": "python3"
  },
  "language_info": {
   "codemirror_mode": {
    "name": "ipython",
    "version": 3
   },
   "file_extension": ".py",
   "mimetype": "text/x-python",
   "name": "python",
   "nbconvert_exporter": "python",
   "pygments_lexer": "ipython3",
   "version": "3.9.1"
  }
 },
 "nbformat": 4,
 "nbformat_minor": 5
}
