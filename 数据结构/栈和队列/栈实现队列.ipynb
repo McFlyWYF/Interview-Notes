{
 "cells": [
  {
   "cell_type": "markdown",
   "id": "fa8403a4-ed83-4054-94bf-9827eed31293",
   "metadata": {},
   "source": [
    "# 用栈实现队列"
   ]
  },
  {
   "cell_type": "markdown",
   "id": "948b77ea-d077-49e9-a7cd-495e1e8a80e4",
   "metadata": {},
   "source": [
    "### 使用栈实现队列的操作：\n",
    "* `push(x)`：将一个元素放入队列的尾部\n",
    "* `pop()`：从队列首部移除元素\n",
    "    * 将栈1中的元素移到栈2中，再返回栈顶元素\n",
    "* `peek()`：返回队列首部的元素\n",
    "    * 和pop()操作一样，只是栈顶元素不用出栈，直接输出。\n",
    "* `empty()`：返回队列是否为空\n",
    "    * 栈1和栈2都为空"
   ]
  },
  {
   "cell_type": "code",
   "execution_count": 40,
   "id": "6a13d70d-e9df-4cbb-bc92-86d595bc4022",
   "metadata": {},
   "outputs": [],
   "source": [
    "class MyQueue(object):\n",
    "\n",
    "    def __init__(self):\n",
    "        \"\"\"\n",
    "        Initialize your data structure here.\n",
    "        \"\"\"\n",
    "        self.sin = list()\n",
    "        self.sout = list()\n",
    "\n",
    "\n",
    "    def push(self, x):\n",
    "        \"\"\"\n",
    "        Push element x to the back of queue.\n",
    "        :type x: int\n",
    "        :rtype: None\n",
    "        \"\"\"\n",
    "        self.sin.append(x)\n",
    "\n",
    "\n",
    "    def pop(self):\n",
    "        \"\"\"\n",
    "        Removes the element from in front of queue and returns that element.\n",
    "        :rtype: int\n",
    "        \"\"\"\n",
    "        if self.sout == []:\n",
    "            while self.sin:\n",
    "                self.sout.append(self.sin.pop())\n",
    "        return self.sout.pop()\n",
    "\n",
    "    def peek(self):\n",
    "        \"\"\"\n",
    "        Get the front element.\n",
    "        :rtype: int\n",
    "        \"\"\"\n",
    "        if self.sout == []:\n",
    "            while self.sin:\n",
    "                self.sout.append(self.sin.pop())\n",
    "        return self.sout[-1]\n",
    "\n",
    "    def empty(self):\n",
    "        \"\"\"\n",
    "        Returns whether the queue is empty.\n",
    "        :rtype: bool\n",
    "        \"\"\"\n",
    "        if self.sin == [] and self.sout == []:\n",
    "            return True\n",
    "        else:\n",
    "            return False"
   ]
  },
  {
   "cell_type": "code",
   "execution_count": 41,
   "id": "010db15f-b922-49f1-ac24-c017591fddb7",
   "metadata": {},
   "outputs": [],
   "source": [
    "obj = MyQueue()\n",
    "obj.push(1)\n",
    "obj.push(2)\n",
    "param_2 = obj.pop()\n",
    "param_3 = obj.peek()\n",
    "param_4 = obj.empty()"
   ]
  },
  {
   "cell_type": "code",
   "execution_count": 42,
   "id": "4940dac7-a0ad-4bc9-836c-2d35cf9906a5",
   "metadata": {},
   "outputs": [
    {
     "data": {
      "text/plain": [
       "1"
      ]
     },
     "execution_count": 42,
     "metadata": {},
     "output_type": "execute_result"
    }
   ],
   "source": [
    "param_2"
   ]
  },
  {
   "cell_type": "code",
   "execution_count": 43,
   "id": "f67d2836-3e02-48a1-aa5a-6cdc6a0df92d",
   "metadata": {},
   "outputs": [
    {
     "data": {
      "text/plain": [
       "2"
      ]
     },
     "execution_count": 43,
     "metadata": {},
     "output_type": "execute_result"
    }
   ],
   "source": [
    "param_3"
   ]
  },
  {
   "cell_type": "code",
   "execution_count": 44,
   "id": "3fdcc414-bdc7-47c9-a9e3-6a26e0f8a4dc",
   "metadata": {},
   "outputs": [
    {
     "data": {
      "text/plain": [
       "False"
      ]
     },
     "execution_count": 44,
     "metadata": {},
     "output_type": "execute_result"
    }
   ],
   "source": [
    "param_4"
   ]
  }
 ],
 "metadata": {
  "kernelspec": {
   "display_name": "Python 3",
   "language": "python",
   "name": "python3"
  },
  "language_info": {
   "codemirror_mode": {
    "name": "ipython",
    "version": 3
   },
   "file_extension": ".py",
   "mimetype": "text/x-python",
   "name": "python",
   "nbconvert_exporter": "python",
   "pygments_lexer": "ipython3",
   "version": "3.9.1"
  }
 },
 "nbformat": 4,
 "nbformat_minor": 5
}
