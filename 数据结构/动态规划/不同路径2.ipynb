{
 "cells": [
  {
   "cell_type": "markdown",
   "id": "e567f257-1fbb-4007-aeb3-b2059d1665ae",
   "metadata": {},
   "source": [
    "# 不同路径2"
   ]
  },
  {
   "cell_type": "markdown",
   "id": "de94d2d1-aec3-4f47-a71d-2f185a2b52b7",
   "metadata": {},
   "source": [
    "### 一个机器人位于一个mxn网格的左上角。机器人每次只能向下或向右移动一步。机器人试图达到网格的右下角。现在考虑网格中有障碍物。那么从左上角到右下角将会有多少条不同的路径？"
   ]
  },
  {
   "cell_type": "markdown",
   "id": "811829c0-75cb-4623-bf89-403eb3def427",
   "metadata": {},
   "source": [
    "* 例如：\n",
    "    * 输入：`obstacleGrid=[[0,0,0],[0,1,0],[0,0,0]]`\n",
    "    * 输出：2"
   ]
  },
  {
   "cell_type": "markdown",
   "id": "adcaa3af-440e-46ae-b469-e5dd2e06cc2b",
   "metadata": {},
   "source": [
    "* 遇到障碍dp[i][j]=0就可以了。还有就是初始化的时候，障碍之后dp都是0。"
   ]
  },
  {
   "cell_type": "code",
   "execution_count": 46,
   "id": "dff09029-3c7b-4610-820a-017fc17b3d1e",
   "metadata": {},
   "outputs": [],
   "source": [
    "def solve(obstacleGrid):\n",
    "    # 定义dp数组\n",
    "    dp = [[0 for i in range(len(obstacleGrid[0]))] for j in range(len(obstacleGrid))]\n",
    "    # 如果第一个格子是障碍，那么直接返回0\n",
    "    dp[0][0] = 1 if obstacleGrid[0][0] != 1 else 0\n",
    "    if dp[0][0] == 0:\n",
    "        return 0\n",
    "    # 初始化，这里初始化的时候，把前一个格子的值赋值给当前格子\n",
    "    for i in range(1, len(obstacleGrid)):\n",
    "        if obstacleGrid[i][0] != 1:\n",
    "            dp[i][0] = dp[i - 1][0]\n",
    "    for j in range(1, len(obstacleGrid[0])):\n",
    "        if obstacleGrid[0][j] != 1:\n",
    "            dp[0][j] = dp[0][j - 1]\n",
    "    # 递推公式，遍历\n",
    "    for i in range(1, len(obstacleGrid)):\n",
    "        for j in range(1, len(obstacleGrid[0])):\n",
    "            if obstacleGrid[i][j] != 1:\n",
    "                dp[i][j] = dp[i - 1][j] + dp[i][j - 1]\n",
    "            if obstacleGrid[i][j] == 1:\n",
    "                continue\n",
    "    print(dp)\n",
    "    return dp[-1][-1]"
   ]
  },
  {
   "cell_type": "code",
   "execution_count": 47,
   "id": "bf562412-7692-43cf-b639-3dd085e12f51",
   "metadata": {},
   "outputs": [
    {
     "name": "stdout",
     "output_type": "stream",
     "text": [
      "[[1, 1], [0, 0], [0, 0]]\n"
     ]
    },
    {
     "data": {
      "text/plain": [
       "0"
      ]
     },
     "execution_count": 47,
     "metadata": {},
     "output_type": "execute_result"
    }
   ],
   "source": [
    "obstacleGrid = [[0,0],[1,1],[0,0]]\n",
    "solve(obstacleGrid)"
   ]
  },
  {
   "cell_type": "markdown",
   "id": "bcd8326b-7550-4a00-b789-885a6d95604b",
   "metadata": {},
   "source": [
    "* 时间复杂度：$O(n*m)$\n",
    "* 空间复杂度：$O(n*m)$"
   ]
  }
 ],
 "metadata": {
  "kernelspec": {
   "display_name": "Python 3",
   "language": "python",
   "name": "python3"
  },
  "language_info": {
   "codemirror_mode": {
    "name": "ipython",
    "version": 3
   },
   "file_extension": ".py",
   "mimetype": "text/x-python",
   "name": "python",
   "nbconvert_exporter": "python",
   "pygments_lexer": "ipython3",
   "version": "3.9.1"
  }
 },
 "nbformat": 4,
 "nbformat_minor": 5
}
