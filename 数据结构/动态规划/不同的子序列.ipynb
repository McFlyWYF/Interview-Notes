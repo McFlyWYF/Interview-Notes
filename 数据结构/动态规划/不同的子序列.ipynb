{
 "cells": [
  {
   "cell_type": "markdown",
   "id": "aed756f2-d40d-4a5c-8619-8de7527d89e8",
   "metadata": {},
   "source": [
    "# 不同的子序列"
   ]
  },
  {
   "cell_type": "markdown",
   "id": "94995473-68a9-42a8-8c14-1a31fb816b77",
   "metadata": {},
   "source": [
    "* 给定一个字符串s和一个字符串t，计算在s的子序列中t出现的个数。\n",
    "* 一个子序列是指，通过删除一些字符且不干扰剩余字符相对位置所组成的新字符串。"
   ]
  },
  {
   "cell_type": "markdown",
   "id": "9ff8adfe-63da-432c-824a-f45912aa88c3",
   "metadata": {},
   "source": [
    "* 例如：\n",
    "    * 输入：`s = 'rabbbit',t = 'rabbit'`\n",
    "    * 输出：3"
   ]
  },
  {
   "cell_type": "markdown",
   "id": "8cf8f99b-b3ab-4ad5-8aae-85d495a2e7eb",
   "metadata": {},
   "source": [
    "##### 定义dp数组\n",
    "* dp[i][j]：以i-1结尾的s子序列中出现以j-1结尾的t的个数为dp[i][j]\n",
    "\n",
    "##### 递推公式\n",
    "* s[i - 1]与t[j - 1]相等：\n",
    "    * 一部分是用s[i-1]匹配，个数为dp[i-1][j-1]\n",
    "    * 一部分是不用s[i-1]匹配，个数为dp[i-1][j]\n",
    "    * `dp[i][j] = dp[i-1][j-1]+dp[i-1][j]`\n",
    "* s[i - 1]与t[j - 1]不相等时：\n",
    "    * 不用s[i-1]来匹配\n",
    "    * `dp[i][j] = dp[i-1][j]`\n",
    "    \n",
    "##### 初始化\n",
    "* dp[i][0]表示：以i-1为结尾的s可以随便删除元素，出现空字符的个数。初始化为1.\n",
    "* dp[0][j]表示：空字符串s可以随便删除元素，出现以j-1为结尾的字符串t的个数。初始化为0.\n",
    "* dp[0][0] = 1"
   ]
  },
  {
   "cell_type": "code",
   "execution_count": 24,
   "id": "5f3d49e6-020c-4f76-bf06-24d770c71b86",
   "metadata": {},
   "outputs": [],
   "source": [
    "def solve(s, t):\n",
    "    dp = [[0] * (len(t)+1) for _ in range(len(s)+1)]\n",
    "    for i in range(len(s) + 1):\n",
    "        dp[i][0] = 1\n",
    "    for j in range(1, len(t)):\n",
    "        dp[0][j] = 0\n",
    "    \n",
    "    for i in range(1, len(s)+1):\n",
    "        for j in range(1, len(t)+1):\n",
    "            if s[i-1] == t[j-1]:\n",
    "                dp[i][j] = dp[i-1][j-1] + dp[i-1][j]\n",
    "            else:\n",
    "                dp[i][j] = dp[i-1][j]\n",
    "    print(dp)\n",
    "    return dp[-1][-1]"
   ]
  },
  {
   "cell_type": "code",
   "execution_count": 25,
   "id": "5972957c-062d-4773-b3cb-e1f719bd9998",
   "metadata": {},
   "outputs": [
    {
     "name": "stdout",
     "output_type": "stream",
     "text": [
      "[[1, 0, 0, 0], [1, 1, 0, 0], [1, 1, 1, 0], [1, 2, 1, 0], [1, 2, 1, 1], [1, 3, 1, 1], [1, 3, 4, 1], [1, 3, 4, 5]]\n"
     ]
    },
    {
     "data": {
      "text/plain": [
       "5"
      ]
     },
     "execution_count": 25,
     "metadata": {},
     "output_type": "execute_result"
    }
   ],
   "source": [
    "s = 'babgbag'\n",
    "t = 'bag'\n",
    "solve(s, t)"
   ]
  }
 ],
 "metadata": {
  "kernelspec": {
   "display_name": "Python 3",
   "language": "python",
   "name": "python3"
  },
  "language_info": {
   "codemirror_mode": {
    "name": "ipython",
    "version": 3
   },
   "file_extension": ".py",
   "mimetype": "text/x-python",
   "name": "python",
   "nbconvert_exporter": "python",
   "pygments_lexer": "ipython3",
   "version": "3.9.1"
  }
 },
 "nbformat": 4,
 "nbformat_minor": 5
}
