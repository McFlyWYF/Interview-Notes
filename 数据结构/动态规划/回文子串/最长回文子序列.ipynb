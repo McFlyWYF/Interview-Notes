{
 "cells": [
  {
   "cell_type": "markdown",
   "id": "608f5f0b-6c91-4093-85b9-c5416579ffe1",
   "metadata": {},
   "source": [
    "# 最长回文子序列"
   ]
  },
  {
   "cell_type": "markdown",
   "id": "32d01a97-a759-4c3f-917f-52714087957b",
   "metadata": {},
   "source": [
    "* 给定一个字符串s，找到其中最长的回文子序列，并返回该序列的长度。可以假设s的最大长度为1000."
   ]
  },
  {
   "cell_type": "markdown",
   "id": "e62b8763-b8be-4471-b122-8a5027a4efad",
   "metadata": {},
   "source": [
    "* 子序列定义为：不改变剩余字符顺序的情况下，删除某些字符或者不删除任何字符形成的一个序列。"
   ]
  },
  {
   "cell_type": "markdown",
   "id": "ff2d4616-b320-4a90-ac88-68da7da3270d",
   "metadata": {},
   "source": [
    "* 例如：\n",
    "    * 输入：'bbbab'\n",
    "    * 输出：4"
   ]
  },
  {
   "cell_type": "markdown",
   "id": "5fdb4a41-78b3-4636-9c7b-d67b1285d7c9",
   "metadata": {},
   "source": [
    "##### 定义dp数组\n",
    "* dp[i][j]：在区间[i,j]的最长回文子序列。\n",
    "\n",
    "##### 递推公式\n",
    "* 如果s[i] == s[j], dp[i][j] = dp[i + 1][j - 1] + 2\n",
    "* 如果s[i] != s[j], dp[i][j] = max(dp[i][j - 1], dp[i + 1][j])\n",
    "\n",
    "##### 初始化\n",
    "* 递推公式是计算不到i和j相等的时候，所以dp[i][i] = 1"
   ]
  },
  {
   "cell_type": "code",
   "execution_count": 27,
   "id": "15bc05a9-4007-4ec2-bb33-9d54b11a4003",
   "metadata": {},
   "outputs": [],
   "source": [
    "def solve(s):\n",
    "    result = 0\n",
    "    dp = [[0] * len(s) for _ in range(len(s))]\n",
    "    \n",
    "    for i in range(len(s)):\n",
    "        dp[i][i] = 1\n",
    "        \n",
    "    for i in range(len(s) - 1, -1, -1):\n",
    "        for j in range(i + 1, len(s)):\n",
    "            if s[i] == s[j]:\n",
    "                dp[i][j] = dp[i + 1][j - 1] + 2\n",
    "            else:\n",
    "                dp[i][j] = max(dp[i + 1][j], dp[i][j - 1])\n",
    "            \n",
    "            result = max(result, dp[i][j])\n",
    "    print(dp)\n",
    "    return result"
   ]
  },
  {
   "cell_type": "code",
   "execution_count": 28,
   "id": "3e1b4d98-933b-45c5-b8e0-c958ed85e4f7",
   "metadata": {},
   "outputs": [
    {
     "name": "stdout",
     "output_type": "stream",
     "text": [
      "[[1, 2, 3, 3, 4], [0, 1, 2, 2, 3], [0, 0, 1, 1, 3], [0, 0, 0, 1, 1], [0, 0, 0, 0, 1]]\n"
     ]
    },
    {
     "data": {
      "text/plain": [
       "4"
      ]
     },
     "execution_count": 28,
     "metadata": {},
     "output_type": "execute_result"
    }
   ],
   "source": [
    "s = 'bbbab'\n",
    "solve(s)"
   ]
  }
 ],
 "metadata": {
  "kernelspec": {
   "display_name": "Python 3",
   "language": "python",
   "name": "python3"
  },
  "language_info": {
   "codemirror_mode": {
    "name": "ipython",
    "version": 3
   },
   "file_extension": ".py",
   "mimetype": "text/x-python",
   "name": "python",
   "nbconvert_exporter": "python",
   "pygments_lexer": "ipython3",
   "version": "3.9.1"
  }
 },
 "nbformat": 4,
 "nbformat_minor": 5
}
