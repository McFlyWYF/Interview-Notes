{
 "cells": [
  {
   "cell_type": "markdown",
   "id": "1915edf7-195d-41cf-95cf-068dab812d5c",
   "metadata": {},
   "source": [
    "* 给定一个字符串，你的任务是计算这个字符串中有多少个回文子串。具有不同开始位置或结束位置的子串，即使是由相同的字符组成，也会被视作不同的子串。"
   ]
  },
  {
   "cell_type": "markdown",
   "id": "6781af6e-f6a1-4c1a-af91-6927a6f02d87",
   "metadata": {},
   "source": [
    "* 例如：\n",
    "    * 输入：'abc'\n",
    "    * 输出：3"
   ]
  },
  {
   "cell_type": "markdown",
   "id": "51ae562a-7e37-45fa-bff0-9214837952a8",
   "metadata": {},
   "source": [
    "##### 定义dp数组\n",
    "* dp[i][j]：区间[i,j]的字符串是否是回文子串，如果是为True，否则为False。\n",
    "\n",
    "##### 递推公式\n",
    "* 如果s[i] != s[j], dp[i][j] = False\n",
    "* 如果s[i] == s[j]:\n",
    "    * 下标i与j相同，同一个字符，当然是回文串；\n",
    "    * 下标i与j相差1，例如aa，也是回文串；\n",
    "    * 下标i与j相差很大，需要看i+1和j-1区间；\n",
    "\n",
    "##### 初始化\n",
    "* dp[i][j] = False\n",
    "\n",
    "##### 遍历方式\n",
    "* 从下到上，从左到右，i从len(s)-1到0，j从i到len(s)-1。"
   ]
  },
  {
   "cell_type": "code",
   "execution_count": 29,
   "id": "00c8b899-ee9e-40d0-9343-7e597bcaf997",
   "metadata": {},
   "outputs": [],
   "source": [
    "def solve(s):\n",
    "    dp = [[False] * len(s) for _ in range(len(s))]\n",
    "    result = 0\n",
    "    \n",
    "    for i in range(len(s) - 1, -1, -1):\n",
    "        for j in range(i, len(s)):\n",
    "            # 不相等\n",
    "            if s[i] != s[j]:\n",
    "                dp[i][j] = False\n",
    "                \n",
    "            # 相等\n",
    "            if s[i] == s[j]:\n",
    "                # 第一、二种情况\n",
    "                if j - i <= 1:\n",
    "                    dp[i][j] = True\n",
    "                    result += 1\n",
    "                # 第三种情况\n",
    "                elif dp[i + 1][j - 1] == True:\n",
    "                    dp[i][j] = True\n",
    "                    result += 1\n",
    "    print(dp)\n",
    "    return result"
   ]
  },
  {
   "cell_type": "code",
   "execution_count": 30,
   "id": "7ca2b5c3-1fcb-44ac-b2a5-27af8a22686b",
   "metadata": {},
   "outputs": [
    {
     "name": "stdout",
     "output_type": "stream",
     "text": [
      "[[True, True, True], [False, True, True], [False, False, True]]\n"
     ]
    },
    {
     "data": {
      "text/plain": [
       "6"
      ]
     },
     "execution_count": 30,
     "metadata": {},
     "output_type": "execute_result"
    }
   ],
   "source": [
    "s = 'aaa'\n",
    "solve(s)"
   ]
  },
  {
   "cell_type": "markdown",
   "id": "b078911b-8b60-48b5-afa0-c058eea22e4e",
   "metadata": {},
   "source": [
    "* 时间复杂度：$O(n^2)$\n",
    "* 空间复杂度：$O(n^2)$"
   ]
  },
  {
   "cell_type": "markdown",
   "id": "a4fffb76-e0ab-4daa-8458-dc6bd390d41c",
   "metadata": {},
   "source": [
    "### 双指针法"
   ]
  },
  {
   "cell_type": "markdown",
   "id": "b14a22b8-2a68-42fc-8c20-3e04b6eb0a80",
   "metadata": {},
   "source": [
    "* 以一个元素或两个元素为中心向外扩散。"
   ]
  },
  {
   "cell_type": "code",
   "execution_count": 27,
   "id": "c2bff989-540b-4952-8f97-581bf7a48c26",
   "metadata": {},
   "outputs": [],
   "source": [
    "def solve(s):\n",
    "    result = 0\n",
    "    for i in range(len(s)):\n",
    "        result += extend(i, i, s, len(s))\n",
    "        result += extend(i, i + 1, s, len(s))\n",
    "    return result\n",
    "    \n",
    "def extend(i,j,s,n):\n",
    "    res = 0\n",
    "    while(i >= 0 and j < n and s[i] == s[j]):\n",
    "        i -= 1\n",
    "        j += 1\n",
    "        res += 1\n",
    "    return res"
   ]
  },
  {
   "cell_type": "code",
   "execution_count": 28,
   "id": "a015b956-8c8a-47d6-a0c0-ba6100037155",
   "metadata": {},
   "outputs": [
    {
     "data": {
      "text/plain": [
       "3"
      ]
     },
     "execution_count": 28,
     "metadata": {},
     "output_type": "execute_result"
    }
   ],
   "source": [
    "s = 'abc'\n",
    "solve(s)"
   ]
  },
  {
   "cell_type": "markdown",
   "id": "95705e20-1f74-4e45-8ad1-20764dff0766",
   "metadata": {},
   "source": [
    "* 时间复杂度：$O(n^2)$\n",
    "* 空间复杂度：$O(1)$"
   ]
  }
 ],
 "metadata": {
  "kernelspec": {
   "display_name": "Python 3",
   "language": "python",
   "name": "python3"
  },
  "language_info": {
   "codemirror_mode": {
    "name": "ipython",
    "version": 3
   },
   "file_extension": ".py",
   "mimetype": "text/x-python",
   "name": "python",
   "nbconvert_exporter": "python",
   "pygments_lexer": "ipython3",
   "version": "3.9.1"
  }
 },
 "nbformat": 4,
 "nbformat_minor": 5
}
