{
 "cells": [
  {
   "cell_type": "markdown",
   "id": "a552ed8d-3b49-4c03-bb4c-034ba9c9c635",
   "metadata": {},
   "source": [
    "# 目标和"
   ]
  },
  {
   "cell_type": "markdown",
   "id": "1ff10ce4-5f9f-4669-9e41-eca807a844e2",
   "metadata": {},
   "source": [
    "### 给定一个非负整数数组，a1,a2,...,an和一个目标数S。现在有两个符号+和-。对于数组中的任意一个整数，都可以从+或-中选择一个符号添加在前面。返回可以使最终数组和为目标数S的所有添加符号的方法数。"
   ]
  },
  {
   "cell_type": "markdown",
   "id": "d7aecced-634c-4f4c-9b43-c4d1b3c9a4e9",
   "metadata": {},
   "source": [
    "* 例如：\n",
    "    * 输入：nums=[1,1,1,1,1], S = 3\n",
    "    * 输出：5"
   ]
  },
  {
   "cell_type": "markdown",
   "id": "5da19a2a-42b1-4c65-ae53-43ac8d7dece8",
   "metadata": {},
   "source": [
    "* 相当于是`left组合-right组合=target`。也就是`left - (sum-left) = target -> left = (sum + target) / 2`。target是固定的，sum是固定的，left就可以求出来。问题就是在集合nums中找出和为left的组合。"
   ]
  },
  {
   "cell_type": "code",
   "execution_count": 30,
   "id": "db579fee-e6c3-4db7-b3ad-774b5a4214cc",
   "metadata": {},
   "outputs": [],
   "source": [
    "def solve(nums, s):\n",
    "    # 目标和大于总和，返回0\n",
    "    if s > sum(nums):\n",
    "        return 0\n",
    "    # 如果是奇数，则无解\n",
    "    if (sum(nums) + s) % 2 != 0:\n",
    "        return 0\n",
    "    bagweight = (sum(nums) + s) // 2\n",
    "    # 背包容量为负，返回0\n",
    "    if bagweight < 0:\n",
    "        return 0\n",
    "        \n",
    "    # dp[j]表示装满容量为j的包，有dp[j]种方法\n",
    "    # 初始化，这里将dp[0]初始化为1，是一切递推结果的开始。\n",
    "    dp = [0 for _ in range(bagweight + 1)]\n",
    "    dp[0] = 1\n",
    "    for i in range(len(nums)):\n",
    "        for j in range(bagweight, nums[i] - 1, -1):\n",
    "            dp[j] += dp[j - nums[i]]\n",
    "\n",
    "    print(dp)\n",
    "    return dp[-1]"
   ]
  },
  {
   "cell_type": "code",
   "execution_count": 31,
   "id": "5e49bf76-eeca-4fae-9c44-8a1d3d4ecc19",
   "metadata": {},
   "outputs": [
    {
     "name": "stdout",
     "output_type": "stream",
     "text": [
      "[1, 5, 10, 10, 5]\n"
     ]
    },
    {
     "data": {
      "text/plain": [
       "5"
      ]
     },
     "execution_count": 31,
     "metadata": {},
     "output_type": "execute_result"
    }
   ],
   "source": [
    "nums = [1,1,1,1,1]\n",
    "s = 3\n",
    "solve(nums, s)"
   ]
  },
  {
   "cell_type": "markdown",
   "id": "b2c526e4-c33d-43eb-accc-c67a3c652ed6",
   "metadata": {},
   "source": [
    "* 时间复杂度：$O(m*n)$，m为背包容量，n为正数个数\n",
    "* 空间复杂度：$O(m)$"
   ]
  },
  {
   "cell_type": "markdown",
   "id": "f558c073-45eb-4ac5-8056-dc60a17731e0",
   "metadata": {},
   "source": [
    "##### 求装满背包有几种的情况下，递推公式一般为：`dp[j] += dp[j - nums[i]]`"
   ]
  }
 ],
 "metadata": {
  "kernelspec": {
   "display_name": "Python 3",
   "language": "python",
   "name": "python3"
  },
  "language_info": {
   "codemirror_mode": {
    "name": "ipython",
    "version": 3
   },
   "file_extension": ".py",
   "mimetype": "text/x-python",
   "name": "python",
   "nbconvert_exporter": "python",
   "pygments_lexer": "ipython3",
   "version": "3.9.1"
  }
 },
 "nbformat": 4,
 "nbformat_minor": 5
}
