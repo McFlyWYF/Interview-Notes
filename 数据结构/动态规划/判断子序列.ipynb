{
 "cells": [
  {
   "cell_type": "markdown",
   "id": "b4d4cdcc-b8ad-448e-bc72-2ab23691a4d2",
   "metadata": {},
   "source": [
    "# 判断子序列"
   ]
  },
  {
   "cell_type": "markdown",
   "id": "382a1ad0-ff93-4cd3-8557-98eaedc75d56",
   "metadata": {},
   "source": [
    "* 给定字符串s和t，判断s是否为t的子序列。字符串的一个子序列是原始字符串删除一些字符而不改变剩余字符相对位置形成的新字符串。"
   ]
  },
  {
   "cell_type": "markdown",
   "id": "4e3562d5-e73d-4b19-b517-6986c7fe10d1",
   "metadata": {},
   "source": [
    "* 例如：\n",
    "    * 输入：s = 'abc'，t = 'ahbgdc'\n",
    "    * 输出：true"
   ]
  },
  {
   "cell_type": "code",
   "execution_count": 22,
   "id": "aa566a2b-f0f7-4de0-90e6-fbf9b8883773",
   "metadata": {},
   "outputs": [],
   "source": [
    "def solve(s, t):\n",
    "    dp = [[0] * (len(t) + 1) for _ in range(len(s) + 1)]\n",
    "    for i in range(1, len(s) + 1):\n",
    "        for j in range(1, len(t) + 1):\n",
    "            if s[i - 1] == t[j - 1]:\n",
    "                dp[i][j] = dp[i - 1][j - 1] + 1\n",
    "            else:\n",
    "                dp[i][j] = dp[i][j - 1]  # 如果当前字符不匹配，则删除t中第i - 1个字符，继续匹配\n",
    "    print(dp)\n",
    "    if dp[-1][-1] == len(s):\n",
    "        return True\n",
    "    else:\n",
    "        return False"
   ]
  },
  {
   "cell_type": "code",
   "execution_count": 23,
   "id": "407f24ef-cf8f-4f18-946f-647a51a45523",
   "metadata": {},
   "outputs": [
    {
     "name": "stdout",
     "output_type": "stream",
     "text": [
      "[[0, 0, 0, 0, 0, 0, 0], [0, 1, 1, 1, 1, 1, 1], [0, 0, 0, 2, 2, 2, 2], [0, 0, 0, 0, 0, 0, 3]]\n"
     ]
    },
    {
     "data": {
      "text/plain": [
       "True"
      ]
     },
     "execution_count": 23,
     "metadata": {},
     "output_type": "execute_result"
    }
   ],
   "source": [
    "s = 'abc'\n",
    "t = 'ahbgdc'\n",
    "solve(s, t)"
   ]
  },
  {
   "cell_type": "markdown",
   "id": "64ea3725-f876-4885-8a9f-0bfc952e5ac1",
   "metadata": {},
   "source": [
    "* 时间复杂度：$O(n * m)$\n",
    "* 空间复杂度：$O(n * m)$"
   ]
  }
 ],
 "metadata": {
  "kernelspec": {
   "display_name": "Python 3",
   "language": "python",
   "name": "python3"
  },
  "language_info": {
   "codemirror_mode": {
    "name": "ipython",
    "version": 3
   },
   "file_extension": ".py",
   "mimetype": "text/x-python",
   "name": "python",
   "nbconvert_exporter": "python",
   "pygments_lexer": "ipython3",
   "version": "3.9.1"
  }
 },
 "nbformat": 4,
 "nbformat_minor": 5
}
