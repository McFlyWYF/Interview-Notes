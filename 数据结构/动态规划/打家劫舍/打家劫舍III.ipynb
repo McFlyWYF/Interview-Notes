{
 "cells": [
  {
   "cell_type": "markdown",
   "id": "4fe7fa84-4ff4-42a7-8446-278b2ecd39aa",
   "metadata": {},
   "source": [
    "# 打家劫舍III"
   ]
  },
  {
   "cell_type": "markdown",
   "id": "8a83ae1d-ab72-4bb1-9d83-52f70dfcb642",
   "metadata": {},
   "source": [
    "### 在上次打劫完一条街道之后和一圈房屋后，小偷又发现了一个新的可行窃的地区。这个地区只有一个入口，我们称之为“根”。除了“根”之外，每栋房子只有一个“父”房子与之相连。一番侦察之后，聪明的小偷意识到“这个地方的所有房屋的排列类似于一棵二叉树”。如果两个直接相连的房子在同一天晚上被打劫，房屋将自动报警。"
   ]
  },
  {
   "cell_type": "markdown",
   "id": "552d4a27-da06-459a-bea7-0ebf9e75a23f",
   "metadata": {},
   "source": [
    "* 计算在不触动警报的情况下，小偷一晚能够盗取的最高金额。"
   ]
  },
  {
   "cell_type": "markdown",
   "id": "03aa6853-e82c-4e25-aaff-b36a573c71e0",
   "metadata": {},
   "source": [
    "* 例如：\n",
    "    * 输入：[3,2,3,null,3,null,1]\n",
    "    * 输出：7"
   ]
  },
  {
   "cell_type": "markdown",
   "id": "dee95ea2-ce77-4f45-84b2-8f134231ad9c",
   "metadata": {},
   "source": [
    "* 每个节点的情况就是偷与不偷，其余和前两个打家劫舍一样。"
   ]
  },
  {
   "cell_type": "markdown",
   "id": "c8aca386-dd56-4ed6-8baf-28aa7ce8253a",
   "metadata": {},
   "source": [
    "* dp数组的含义：长度为2，下标为0记录偷该节点所得到的最大金钱，下标为1记录不偷该节点所得到的最大金钱。"
   ]
  },
  {
   "cell_type": "markdown",
   "id": "54843553-f9e2-4d3a-9d88-14fe995ac694",
   "metadata": {},
   "source": [
    "* 遍历顺序：\n",
    "    * 使用后序遍历\n",
    "        * 递归左节点，得到左节点偷与不偷的金钱。\n",
    "        * 递归右节点，得到右节点偷与不偷的金钱。"
   ]
  },
  {
   "cell_type": "code",
   "execution_count": 1,
   "id": "19411dfb-da23-4c3d-b7cc-1511192f5f2b",
   "metadata": {},
   "outputs": [],
   "source": [
    "def solve(root):\n",
    "\n",
    "    def robTree(cur):\n",
    "        # 初始化\n",
    "        if cur == None:\n",
    "            return (0, 0)\n",
    "        left = robTree(cur.left)\n",
    "        right = robTree(cur.right)\n",
    "        \n",
    "        # 下标0:偷，下标1:不偷\n",
    "        # 偷当前节点\n",
    "        val1 = cur.val + left[1] + right[1]\n",
    "        # 不偷当前节点\n",
    "        val2 = max(left[0], left[1]) + max(right[0], right[1])\n",
    "        return (val1, val2)\n",
    "    \n",
    "    result = robTree(root)\n",
    "    # 返回偷与不偷的最大值\n",
    "    return max(result[0], result[1])"
   ]
  },
  {
   "cell_type": "markdown",
   "id": "7691f895-63cf-422d-8e33-af090aaee87a",
   "metadata": {},
   "source": [
    "* 时间复杂度：$O(n)$，遍历了每个节点\n",
    "* 空间复杂度：$O(n)$，包括递归系统栈的时间"
   ]
  },
  {
   "cell_type": "markdown",
   "id": "6781bb7c-3827-4edd-b2dd-ee04513a7928",
   "metadata": {},
   "source": [
    "第一次树的遍历和动态规划结合的题目。"
   ]
  }
 ],
 "metadata": {
  "kernelspec": {
   "display_name": "Python 3",
   "language": "python",
   "name": "python3"
  },
  "language_info": {
   "codemirror_mode": {
    "name": "ipython",
    "version": 3
   },
   "file_extension": ".py",
   "mimetype": "text/x-python",
   "name": "python",
   "nbconvert_exporter": "python",
   "pygments_lexer": "ipython3",
   "version": "3.9.1"
  }
 },
 "nbformat": 4,
 "nbformat_minor": 5
}
