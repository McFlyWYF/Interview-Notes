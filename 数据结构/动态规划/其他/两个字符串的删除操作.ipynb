{
 "cells": [
  {
   "cell_type": "markdown",
   "id": "6351b2f4-4c11-43d3-9dc0-9ffd6cab2e72",
   "metadata": {},
   "source": [
    "# 两个字符串的删除操作"
   ]
  },
  {
   "cell_type": "markdown",
   "id": "f00b7ff8-58cc-4a21-b3cf-f0da1a6066d0",
   "metadata": {},
   "source": [
    "* 给定两个单词word1和word2，找到使得word1和word2相同所需的最小步数，每步可以删除任意一个字符串的一个字符。"
   ]
  },
  {
   "cell_type": "markdown",
   "id": "0c8c5b3f-f2a0-4ee9-9070-8c7c12b60e32",
   "metadata": {},
   "source": [
    "* 例如：\n",
    "    * 输入：'sea','eat'\n",
    "    * 输出：2"
   ]
  },
  {
   "cell_type": "markdown",
   "id": "701b8496-65e1-428b-9d13-2e435bdf1cc3",
   "metadata": {},
   "source": [
    "#### 方法1"
   ]
  },
  {
   "cell_type": "markdown",
   "id": "24c36a15-efc3-4f54-916e-de08d095d5b0",
   "metadata": {},
   "source": [
    "* 求两个字符串的最长公共子序列，其余元素的个数就是需要删除的最小步数。"
   ]
  },
  {
   "cell_type": "code",
   "execution_count": 7,
   "id": "1c9813da-52c7-4b07-9e46-18b299991c6b",
   "metadata": {},
   "outputs": [],
   "source": [
    "def solve(word1, word2):\n",
    "    dp = [[0] * (len(word2) + 1) for _ in range(len(word1) + 1)]\n",
    "    \n",
    "    for i in range(1, len(word1) + 1):\n",
    "        for j in range(1, len(word2) + 1):\n",
    "            if word1[i - 1] == word2[j - 1]:\n",
    "                dp[i][j] = dp[i - 1][j - 1] + 1\n",
    "            else:\n",
    "                dp[i][j] = max(dp[i - 1][j], dp[i][j - 1])\n",
    "    print(dp)\n",
    "    return len(word1) + len(word2) - dp[-1][-1] * 2  # 两个字符串的总长度-最长公共子序列的2倍就是需要删除的元素个数"
   ]
  },
  {
   "cell_type": "code",
   "execution_count": 8,
   "id": "180fd052-bc5d-43af-be76-8226c56c9187",
   "metadata": {},
   "outputs": [
    {
     "name": "stdout",
     "output_type": "stream",
     "text": [
      "[[0, 0, 0, 0], [0, 0, 0, 0], [0, 1, 1, 1], [0, 1, 2, 2]]\n"
     ]
    },
    {
     "data": {
      "text/plain": [
       "2"
      ]
     },
     "execution_count": 8,
     "metadata": {},
     "output_type": "execute_result"
    }
   ],
   "source": [
    "word1 = 'sea'\n",
    "word2 = 'eat'\n",
    "solve(word1, word2)"
   ]
  },
  {
   "cell_type": "markdown",
   "id": "2c6b201e-6187-45f6-b108-1d3027e068a2",
   "metadata": {},
   "source": [
    "#### 方法2"
   ]
  },
  {
   "cell_type": "markdown",
   "id": "9abd2381-b376-427f-88f9-1e505c76262f",
   "metadata": {},
   "source": [
    "##### 定义dp数组\n",
    "* dp[i][j]：以i-1为结尾的字符串1和以j-1结尾的字符串2，相等的时候需要删除的元素的最少次数。\n",
    "\n",
    "##### 递推公式\n",
    "* 当w1[i-1]和w2[j-1]相等的时候：dp[i][j] = dp[i-1][j-1]\n",
    "* 当w1[i-1]和w2[j-1]不相等的时候\n",
    "    * 删除w1[i-1]，最少次数dp[i-1][j]+1\n",
    "    * 删除w2[j-1]，最少次数dp[i][j-1]+1\n",
    "    * 同时删除w1[i-1]和w2[j-1]，最少次数dp[i-1][j-1]+2\n",
    "* `dp[i][j] = min(dp[i-1][j]+1,dp[i][j-1]+1, dp[i-1][j-1]+2)`\n",
    "\n",
    "##### 初始化\n",
    "* `dp[i][0] = i`\n",
    "* `dp[0][j] = j`"
   ]
  },
  {
   "cell_type": "code",
   "execution_count": 16,
   "id": "f769a0f7-ae8f-4237-9a4d-3686e973a709",
   "metadata": {},
   "outputs": [],
   "source": [
    "def solve(word1, word2):\n",
    "    dp = [[0] * (len(word2) + 1) for _ in range(len(word1) + 1)] \n",
    "    for i in range(len(word1) + 1):\n",
    "        dp[i][0] = i\n",
    "    \n",
    "    for j in range(len(word2) + 1):\n",
    "        dp[0][j] = j\n",
    "        \n",
    "    for i in range(1, len(word1) + 1):\n",
    "        for j in range(1, len(word2) + 1):\n",
    "            if word1[i-1] == word2[j-1]:\n",
    "                dp[i][j] = dp[i-1][j-1]\n",
    "            else:\n",
    "                dp[i][j] = min(dp[i-1][j]+1,dp[i][j-1]+1, dp[i-1][j-1]+2)\n",
    "    print(dp)\n",
    "    return dp[-1][-1]"
   ]
  },
  {
   "cell_type": "code",
   "execution_count": 17,
   "id": "8a115c4e-4daf-45ab-82d5-7430294b4874",
   "metadata": {},
   "outputs": [
    {
     "name": "stdout",
     "output_type": "stream",
     "text": [
      "[[0, 1, 2, 3], [1, 2, 3, 4], [2, 1, 2, 3], [3, 2, 1, 2]]\n"
     ]
    },
    {
     "data": {
      "text/plain": [
       "2"
      ]
     },
     "execution_count": 17,
     "metadata": {},
     "output_type": "execute_result"
    }
   ],
   "source": [
    "word1 = 'sea'\n",
    "word2 = 'eat'\n",
    "solve(word1, word2)"
   ]
  }
 ],
 "metadata": {
  "kernelspec": {
   "display_name": "Python 3",
   "language": "python",
   "name": "python3"
  },
  "language_info": {
   "codemirror_mode": {
    "name": "ipython",
    "version": 3
   },
   "file_extension": ".py",
   "mimetype": "text/x-python",
   "name": "python",
   "nbconvert_exporter": "python",
   "pygments_lexer": "ipython3",
   "version": "3.9.1"
  }
 },
 "nbformat": 4,
 "nbformat_minor": 5
}
