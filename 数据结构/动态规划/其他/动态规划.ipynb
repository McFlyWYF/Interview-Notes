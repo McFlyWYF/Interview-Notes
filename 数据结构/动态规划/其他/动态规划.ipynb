{
 "cells": [
  {
   "cell_type": "markdown",
   "id": "b50a3e12-48d4-4392-a761-949f5a0d8e7a",
   "metadata": {},
   "source": [
    "# 动态规划"
   ]
  },
  {
   "cell_type": "markdown",
   "id": "eb412c63-f31b-4137-b5da-e46418a6d39c",
   "metadata": {},
   "source": [
    "* 如果某一问题有很多重叠子问题，使用动态规划最有效。动态规划的每一个状态一定是由上一个状态推导出来的。"
   ]
  },
  {
   "cell_type": "markdown",
   "id": "1491be95-08f9-4230-8e5a-29b9cc1ce95c",
   "metadata": {},
   "source": [
    "### 解题步骤"
   ]
  },
  {
   "cell_type": "markdown",
   "id": "a1327c25-8413-4001-bd60-204db5ebf411",
   "metadata": {},
   "source": [
    "* 1.确定`dp`数组以及下标的含义\n",
    "* 2.确定递推公式\n",
    "* 3.`dp`数组如何初始化\n",
    "* 4.确定遍历顺序\n",
    "* 5.举例推导`dp`数组"
   ]
  },
  {
   "cell_type": "code",
   "execution_count": null,
   "id": "231c54ed-9162-4564-a230-63d7eb3816f6",
   "metadata": {},
   "outputs": [],
   "source": []
  }
 ],
 "metadata": {
  "kernelspec": {
   "display_name": "Python 3",
   "language": "python",
   "name": "python3"
  },
  "language_info": {
   "codemirror_mode": {
    "name": "ipython",
    "version": 3
   },
   "file_extension": ".py",
   "mimetype": "text/x-python",
   "name": "python",
   "nbconvert_exporter": "python",
   "pygments_lexer": "ipython3",
   "version": "3.9.1"
  }
 },
 "nbformat": 4,
 "nbformat_minor": 5
}
