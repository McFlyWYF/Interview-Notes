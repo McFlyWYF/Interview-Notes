{
 "cells": [
  {
   "cell_type": "markdown",
   "id": "5d62008d-1dd5-4a8c-a940-5fb4b2774374",
   "metadata": {},
   "source": [
    "# 编辑距离"
   ]
  },
  {
   "cell_type": "markdown",
   "id": "dccd1585-ae33-4473-9f08-373aa56b0e9f",
   "metadata": {},
   "source": [
    "* 给你两个单词word1和word2，请你计算出将word1转换成word2所使用的最少操作数。"
   ]
  },
  {
   "cell_type": "markdown",
   "id": "eb4b4263-a13f-44f9-84b5-7a1c8baf49fa",
   "metadata": {},
   "source": [
    "* 你可以对一个单词进行如下三种操作：\n",
    "    * 插入一个字符\n",
    "    * 删除一个字符\n",
    "    * 替换一个字符"
   ]
  },
  {
   "cell_type": "markdown",
   "id": "17abdacb-e93a-4d7e-97e5-f7a396bed2d9",
   "metadata": {},
   "source": [
    "* 例如：\n",
    "    * 输入：word1 = 'horse'，word2 = 'ros'\n",
    "    * 输出：3"
   ]
  },
  {
   "cell_type": "markdown",
   "id": "3570d4b4-9564-444b-802d-2c3daff9fe95",
   "metadata": {},
   "source": [
    "##### 确定dp数组\n",
    "* dp[i][j]：表示以下标i-1为结尾的字符串word1和以下标j-1为结尾的字符串word2，最近编辑距离为dp[i][j]。\n",
    "\n",
    "##### 递推公式\n",
    "* `word1[i - 1] == word2[j - 1]`：\n",
    "    * `dp[i][j] = dp[i - 1][j - 1]`\n",
    "* `word1[i - 1] != word2[j - 1]`：\n",
    "    * word1增加一个元素，使其word1[i-1]和word2[j-1]相同，就是以i-2结尾的word1与j-1结尾的word2的最近编辑距离加上一个增加元素的操作。\n",
    "        * `dp[i][j] = dp[i - 1][j] + 1`\n",
    "    * word2增加一个元素，相当于word1删除一个元素，以i-1结尾的word1与j-2结尾的word2的最近编辑距离加上一个增加元素的操作。\n",
    "        * `dp[i][j] = dp[i][j - 1] + 1`\n",
    "    * word1替换一个元素，以i-2结尾的word1和j-2结尾的word2的最近编辑距离加上一个替换元素的操作。\n",
    "        * `dp[i][j] = dp[i - 1][j - 1] + 1`\n",
    "    * `dp[i][j] = min(dp[i - 1][j] + 1, dp[i][j - 1] + 1, dp[i - 1][j - 1] + 1)`\n",
    "\n",
    "##### 初始化\n",
    "* `dp[i][0] = i`\n",
    "* `dp[0][j] = j`"
   ]
  },
  {
   "cell_type": "code",
   "execution_count": 7,
   "id": "06b36e06-c528-4532-91e1-ed79e42574cc",
   "metadata": {},
   "outputs": [],
   "source": [
    "def solve(word1, word2):\n",
    "    dp = [[0] * (len(word2) + 1) for _ in range(len(word1) + 1)]\n",
    "    \n",
    "    for i in range(len(word1) + 1):\n",
    "        dp[i][0] = i\n",
    "    \n",
    "    for j in range(len(word2) + 1):\n",
    "        dp[0][j] = j\n",
    "    \n",
    "    for i in range(1, len(word1) + 1):\n",
    "        for j in range(1, len(word2) + 1):\n",
    "            if word1[i - 1] == word2[j - 1]:\n",
    "                dp[i][j] = dp[i - 1][j - 1]\n",
    "            else:\n",
    "                dp[i][j] = min(dp[i - 1][j] + 1, dp[i][j - 1] + 1, dp[i - 1][j - 1] + 1)\n",
    "    print(dp)\n",
    "    return dp[-1][-1]"
   ]
  },
  {
   "cell_type": "code",
   "execution_count": 8,
   "id": "561423f4-30b2-43d7-84e5-f6f1b5ac606f",
   "metadata": {},
   "outputs": [
    {
     "name": "stdout",
     "output_type": "stream",
     "text": [
      "[[0, 1, 2, 3, 4, 5, 6, 7, 8, 9], [1, 1, 2, 3, 4, 5, 6, 6, 7, 8], [2, 2, 2, 3, 4, 5, 6, 7, 7, 7], [3, 3, 3, 3, 4, 5, 5, 6, 7, 8], [4, 3, 4, 3, 4, 5, 6, 6, 7, 8], [5, 4, 4, 4, 4, 5, 6, 7, 7, 7], [6, 5, 5, 5, 5, 5, 5, 6, 7, 8], [7, 6, 6, 6, 6, 6, 6, 5, 6, 7], [8, 7, 7, 7, 7, 7, 7, 6, 5, 6], [9, 8, 8, 8, 8, 8, 8, 7, 6, 5]]\n"
     ]
    },
    {
     "data": {
      "text/plain": [
       "5"
      ]
     },
     "execution_count": 8,
     "metadata": {},
     "output_type": "execute_result"
    }
   ],
   "source": [
    "word1 = 'intention'\n",
    "word2 = 'execution'\n",
    "solve(word1, word2)"
   ]
  }
 ],
 "metadata": {
  "kernelspec": {
   "display_name": "Python 3",
   "language": "python",
   "name": "python3"
  },
  "language_info": {
   "codemirror_mode": {
    "name": "ipython",
    "version": 3
   },
   "file_extension": ".py",
   "mimetype": "text/x-python",
   "name": "python",
   "nbconvert_exporter": "python",
   "pygments_lexer": "ipython3",
   "version": "3.9.1"
  }
 },
 "nbformat": 4,
 "nbformat_minor": 5
}
