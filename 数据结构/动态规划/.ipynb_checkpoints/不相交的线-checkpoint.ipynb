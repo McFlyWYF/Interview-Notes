{
 "cells": [
  {
   "cell_type": "markdown",
   "id": "c1ddf297-7085-4200-ac4c-32390c12a432",
   "metadata": {},
   "source": [
    "# 不相交的线"
   ]
  },
  {
   "cell_type": "markdown",
   "id": "c5dccc76-e8f5-457b-9aa3-d85cc2c06839",
   "metadata": {},
   "source": [
    "* 我们在两条独立的水平线上按给定的顺序写下A和B中的整数。现在，我们可以绘制一些连接两个数字A[i]和B[j]的直线，只要A[i]==B[j]，且我们绘制的直线不与任何其他连线相交。以这种方法绘制线条，并返回我们可以绘制的最大连线数。"
   ]
  },
  {
   "cell_type": "markdown",
   "id": "5fdc8ce1-c181-4c51-b89c-01a84679640b",
   "metadata": {},
   "source": [
    "* 例如：\n",
    "    * 输入：A = [1,4,2],B=[1,2,4]\n",
    "    * 输出：2"
   ]
  },
  {
   "cell_type": "markdown",
   "id": "470176e6-ca12-4942-ac4f-28fd551408ed",
   "metadata": {},
   "source": [
    "直线不能相交，就是在数组A中找到一个与数组B相同的子序列，且这个子序列的顺序不能改变。其实就是找A和B的最长公共子序列。"
   ]
  },
  {
   "cell_type": "markdown",
   "id": "9dfed3bd-ce7d-44a1-8371-29a411a3b260",
   "metadata": {},
   "source": [
    "#### 定义dp数组\n",
    "* dp[i][j]：数组A的第i个之前和数组B的第j个之前的最大连线数。\n",
    "\n",
    "#### 递推公式\n",
    "```python\n",
    "    if A[i - 1] == B[j - 1]:\n",
    "        dp[i][j] = dp[i - 1][j - 1] + 1\n",
    "    else:\n",
    "        dp[i][j] = max(dp[i][j - 1], dp[i - 1][j]\n",
    "```\n",
    "\n",
    "#### 初始化\n",
    "* 初始化为0"
   ]
  },
  {
   "cell_type": "code",
   "execution_count": 20,
   "id": "dd054d00-a3d1-47db-a439-42a5b0c3fc6e",
   "metadata": {},
   "outputs": [],
   "source": [
    "def solve(A, B):\n",
    "    dp = [[0] * (len(B) + 1) for _ in range(len(A) + 1)]\n",
    "    for i in range(1, len(A) + 1):\n",
    "        for j in range(1, len(B) + 1):\n",
    "            if A[i - 1] == B[j - 1]:\n",
    "                dp[i][j] = dp[i - 1][j - 1] + 1\n",
    "            else:\n",
    "                dp[i][j] = max(dp[i][j - 1], dp[i - 1][j])\n",
    "    print(dp)\n",
    "    return dp[-1][-1]"
   ]
  },
  {
   "cell_type": "code",
   "execution_count": 21,
   "id": "12966227-b923-40d1-b14b-db4c1fd86855",
   "metadata": {},
   "outputs": [
    {
     "name": "stdout",
     "output_type": "stream",
     "text": [
      "[[0, 0, 0, 0, 0, 0, 0], [0, 0, 0, 1, 1, 1, 1], [0, 0, 1, 1, 1, 2, 2], [0, 0, 1, 1, 2, 2, 2], [0, 0, 1, 2, 2, 2, 3], [0, 0, 1, 2, 2, 3, 3]]\n"
     ]
    },
    {
     "data": {
      "text/plain": [
       "3"
      ]
     },
     "execution_count": 21,
     "metadata": {},
     "output_type": "execute_result"
    }
   ],
   "source": [
    "A = [2,5,1,2,5]\n",
    "B = [10,5,2,1,5,2]\n",
    "solve(A, B)"
   ]
  }
 ],
 "metadata": {
  "kernelspec": {
   "display_name": "Python 3",
   "language": "python",
   "name": "python3"
  },
  "language_info": {
   "codemirror_mode": {
    "name": "ipython",
    "version": 3
   },
   "file_extension": ".py",
   "mimetype": "text/x-python",
   "name": "python",
   "nbconvert_exporter": "python",
   "pygments_lexer": "ipython3",
   "version": "3.9.1"
  }
 },
 "nbformat": 4,
 "nbformat_minor": 5
}
