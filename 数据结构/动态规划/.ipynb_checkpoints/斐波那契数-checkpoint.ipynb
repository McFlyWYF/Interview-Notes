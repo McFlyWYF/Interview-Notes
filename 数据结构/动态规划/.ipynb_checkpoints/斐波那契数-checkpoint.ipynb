{
 "cells": [
  {
   "cell_type": "markdown",
   "id": "70847223-c304-4eca-9223-98dc0dcb9945",
   "metadata": {},
   "source": [
    "# 斐波那契数"
   ]
  },
  {
   "cell_type": "markdown",
   "id": "3256a3c5-0115-4c8b-bf1c-61103a564a8e",
   "metadata": {},
   "source": [
    "### 斐波那契数，通常用F(n)表示，形成的序列称为斐波那契数列。该数列由0和1开始，后面的每一项数字都是前面两项数字的和，$F(0)=0,F(1)=1,F(n)=F(n-1)+F(n-2)$，给你n，请计算F(n)。"
   ]
  },
  {
   "cell_type": "markdown",
   "id": "9705e8d3-2077-4a8e-9512-d335aea9015c",
   "metadata": {},
   "source": [
    "* 例如：\n",
    "    * 输入：2\n",
    "    * 输出：1"
   ]
  },
  {
   "cell_type": "markdown",
   "id": "1adff9d2-e344-4bfb-b8cb-4cf943dbadd8",
   "metadata": {},
   "source": [
    "#### 步骤"
   ]
  },
  {
   "cell_type": "markdown",
   "id": "838db845-b9e8-48c2-b6bf-2cea13f6b151",
   "metadata": {},
   "source": [
    "* 1.确定dp数组以及下标的含义\n",
    "    * `dp[i]`的定义为：第i个数的斐波那契数值是`dp[i]`\n",
    "* 2.确定递推公式\n",
    "    * `dp[i] = dp[i - 1] + dp[i - 2]`\n",
    "* 3.dp数组初始化\n",
    "    `dp[0] = 0`\n",
    "    `dp[1] = 1`\n",
    "* 4.确定遍历顺序\n",
    "    * 从递推公式`dp[i]=dp[i - 1] + dp[i - 2]`可以看出，`dp[i]`依赖`dp[i - 1]`和`dp[i - 2]`，遍历顺序一定是从前到后的。\n",
    "* 5.举例推导dp数组\n",
    "    * n=10时，`0 1 1 2 3 5 8 13 21 34 55`"
   ]
  },
  {
   "cell_type": "markdown",
   "id": "fcb8db7c-89b9-41f1-a23c-5955c13fa117",
   "metadata": {},
   "source": [
    "#### 递归"
   ]
  },
  {
   "cell_type": "code",
   "execution_count": 4,
   "id": "1e2ff15b-b2e0-4f3d-8267-41b8b94230f0",
   "metadata": {},
   "outputs": [],
   "source": [
    "def solve(n):\n",
    "    if n == 0:\n",
    "        return 0\n",
    "    if n == 1:\n",
    "        return 1\n",
    "    \n",
    "    return solve(n - 1) + solve(n - 2)"
   ]
  },
  {
   "cell_type": "markdown",
   "id": "94bc7a06-0e3d-407d-99be-94ba30a7fb11",
   "metadata": {},
   "source": [
    "* 时间复杂度：$O(2^n)$\n",
    "* 空间复杂度：$O(n)$"
   ]
  },
  {
   "cell_type": "markdown",
   "id": "9bcb2065-137f-4fc7-83c5-8a685f07609c",
   "metadata": {},
   "source": [
    "#### 动态规划"
   ]
  },
  {
   "cell_type": "code",
   "execution_count": 25,
   "id": "624ec25b-4d20-43bf-847b-bf9935152a72",
   "metadata": {},
   "outputs": [],
   "source": [
    "def solve(n):\n",
    "    if n <= 1:\n",
    "        return n\n",
    "    # 确定dp数组\n",
    "    dp = [0 for i in range(n + 1)]\n",
    "    # 初始化\n",
    "    dp[0] = 0\n",
    "    dp[1] = 1\n",
    "    # 遍历\n",
    "    for i in range(2, n + 1):\n",
    "        dp[i] = dp[i - 1] + dp[i - 2]\n",
    "    return dp[n]"
   ]
  },
  {
   "cell_type": "markdown",
   "id": "c9d99eb2-118e-45cb-ac2e-cb34204e01c2",
   "metadata": {},
   "source": [
    "* 时间复杂度：$O(n)$\n",
    "* 空间复杂度：$O(n)$"
   ]
  },
  {
   "cell_type": "code",
   "execution_count": 30,
   "id": "f4f2fdd3-2ecf-436a-b260-09e8b10b6e99",
   "metadata": {},
   "outputs": [],
   "source": [
    "def solve(n):\n",
    "    if n <= 1:\n",
    "        return n\n",
    "    dp = [0 for i in range(2)]\n",
    "    dp[0] = 0\n",
    "    dp[1] = 1\n",
    "    for i in range(2, n + 1):\n",
    "        sums = dp[0] + dp[1]\n",
    "        dp[0] = dp[1]\n",
    "        dp[1] = sums\n",
    "    return dp[1]"
   ]
  },
  {
   "cell_type": "markdown",
   "id": "87375a9c-7a54-499a-b664-e9c0ab7d7202",
   "metadata": {},
   "source": [
    "* 时间复杂度：$O(n)$\n",
    "* 空间复杂度：$O(1)$"
   ]
  },
  {
   "cell_type": "code",
   "execution_count": 29,
   "id": "2edd5f2b-400e-4c36-b2ef-35cc32d174f5",
   "metadata": {},
   "outputs": [
    {
     "data": {
      "text/plain": [
       "3"
      ]
     },
     "execution_count": 29,
     "metadata": {},
     "output_type": "execute_result"
    }
   ],
   "source": [
    "n = 4\n",
    "solve(n)"
   ]
  }
 ],
 "metadata": {
  "kernelspec": {
   "display_name": "Python 3",
   "language": "python",
   "name": "python3"
  },
  "language_info": {
   "codemirror_mode": {
    "name": "ipython",
    "version": 3
   },
   "file_extension": ".py",
   "mimetype": "text/x-python",
   "name": "python",
   "nbconvert_exporter": "python",
   "pygments_lexer": "ipython3",
   "version": "3.9.1"
  }
 },
 "nbformat": 4,
 "nbformat_minor": 5
}
