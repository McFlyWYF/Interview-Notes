{
 "cells": [
  {
   "cell_type": "markdown",
   "id": "2ab09502-4d00-4c7c-9068-bf9d05570ec9",
   "metadata": {},
   "source": [
    "# 买卖股票的最佳时机III"
   ]
  },
  {
   "cell_type": "markdown",
   "id": "f8e882c1-b0fd-4e14-8ead-68c81a3d93fa",
   "metadata": {},
   "source": [
    "### 给定一个数组，它的第i个元素是一支给定的股票在第i天的价格。"
   ]
  },
  {
   "cell_type": "markdown",
   "id": "bfc6656d-7961-485c-a7cd-9f958963c8a9",
   "metadata": {},
   "source": [
    "* 设计一个算法来计算所能获取的最大利润。`最多`可以完成两笔交易。"
   ]
  },
  {
   "cell_type": "markdown",
   "id": "0c79e37d-28fc-4bb1-9df8-d8302a75c406",
   "metadata": {},
   "source": [
    "* 例如：\n",
    "    * 输入：prices=[3,3,5,0,0,3,1,4]\n",
    "    * 输出：6"
   ]
  },
  {
   "cell_type": "markdown",
   "id": "7314e0a8-b61b-4656-a3da-3ef4c9c888cc",
   "metadata": {},
   "source": [
    "##### 1.确定dp数组\n",
    "* 一天一共有5种状态：\n",
    "    * 0：没有操作\n",
    "    * 第一次买入\n",
    "    * 第一次卖出\n",
    "    * 第二次买入\n",
    "    * 第二次卖出\n",
    "    * `dp[i][j]`中的i表示第i天，j为[0-4]五种状态，dp[i][j]表示第i天状态j所剩最大现金。\n",
    "    \n",
    "##### 2.确定递推公式\n",
    "* dp[i][0]表示没有操作\n",
    "    * `dp[i][0] = dp[i - 1][0]`\n",
    "* dp[i][1]\n",
    "    * 第i天买入股票了，`dp[i][1] = dp[i - 1][0] - prices[i]`\n",
    "    * 第i天没有操作，`dp[i][1] = dp[i - 1][1]`\n",
    "    * `dp[i][1] = max(dp[i - 1][0] - prices[i], dp[i - 1][1])`\n",
    "* dp[i][2]\n",
    "    * 第i天卖出股票了，`dp[i][2] = prices[i] + dp[i - 1][1]`\n",
    "    * 第i天没有操作，`dp[i][2] = dp[i - 1][2]`\n",
    "    * `dp[i][2] = max(prices[i] + dp[i - 1][1], dp[i - 1][2])`\n",
    "* dp[i][3]\n",
    "    * `dp[i][3] = max(dp[i - 1][2] - prices[i], dp[i - 1][3])`\n",
    "* dp[i][4]\n",
    "    * `dp[i][4] = max(prices[i] + dp[i - 1][3], dp[i - 1][4])`\n",
    "    \n",
    "##### 3.初始化\n",
    "* `dp[0][0] = 0`\n",
    "* `dp[0][1] = -prices[0]`\n",
    "* `dp[0][2] = 0`\n",
    "* `dp[0][3] = -prices[0]`\n",
    "* `dp[0][4] = 0`"
   ]
  },
  {
   "cell_type": "code",
   "execution_count": 19,
   "id": "6b792c38-e3a4-4227-86a6-33e9dde3a50b",
   "metadata": {},
   "outputs": [],
   "source": [
    "def solve(prices):\n",
    "    if len(prices) == 0:\n",
    "        return 0\n",
    "    # 定义dp数组\n",
    "    dp = [[0] * 5 for _ in range(len(prices))]\n",
    "    # 初始化\n",
    "    dp[0][1] = -prices[0]\n",
    "    dp[0][3] = -prices[0]\n",
    "    # 遍历\n",
    "    for i in range(1, len(prices)):\n",
    "        dp[i][0] = dp[i-1][0]\n",
    "        dp[i][1] = max(dp[i-1][1], dp[i-1][0] - prices[i])\n",
    "        dp[i][2] = max(dp[i-1][2], dp[i-1][1] + prices[i])\n",
    "        dp[i][3] = max(dp[i-1][3], dp[i-1][2] - prices[i])\n",
    "        dp[i][4] = max(dp[i-1][4], dp[i-1][3] + prices[i])\n",
    "    print(dp)\n",
    "    return dp[-1][4]"
   ]
  },
  {
   "cell_type": "code",
   "execution_count": 20,
   "id": "309f039b-1c20-4b5e-b4a9-0a037b44cd91",
   "metadata": {},
   "outputs": [
    {
     "name": "stdout",
     "output_type": "stream",
     "text": [
      "[[0, -3, 0, -3, 0], [0, -3, 0, -3, 0], [0, -3, 2, -3, 2], [0, 0, 2, 2, 2], [0, 0, 2, 2, 2], [0, 0, 3, 2, 5], [0, 0, 3, 2, 5], [0, 0, 4, 2, 6]]\n"
     ]
    },
    {
     "data": {
      "text/plain": [
       "6"
      ]
     },
     "execution_count": 20,
     "metadata": {},
     "output_type": "execute_result"
    }
   ],
   "source": [
    "prices = [3,3,5,0,0,3,1,4]\n",
    "solve(prices)"
   ]
  },
  {
   "cell_type": "markdown",
   "id": "1b46de9a-0e45-4375-bd52-5049d3b158d9",
   "metadata": {},
   "source": [
    "* 时间复杂度：$O(n)$\n",
    "* 空间复杂度：$O(n*5)$"
   ]
  }
 ],
 "metadata": {
  "kernelspec": {
   "display_name": "Python 3",
   "language": "python",
   "name": "python3"
  },
  "language_info": {
   "codemirror_mode": {
    "name": "ipython",
    "version": 3
   },
   "file_extension": ".py",
   "mimetype": "text/x-python",
   "name": "python",
   "nbconvert_exporter": "python",
   "pygments_lexer": "ipython3",
   "version": "3.9.1"
  }
 },
 "nbformat": 4,
 "nbformat_minor": 5
}
