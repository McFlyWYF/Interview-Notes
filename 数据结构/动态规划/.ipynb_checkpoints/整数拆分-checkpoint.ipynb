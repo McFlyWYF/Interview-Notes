{
 "cells": [
  {
   "cell_type": "markdown",
   "id": "09a5e98a-6316-418f-b08d-93e6d5e70f6e",
   "metadata": {},
   "source": [
    "# 整数拆分"
   ]
  },
  {
   "cell_type": "markdown",
   "id": "b25e0f6e-eedf-42d5-a70d-e26aa804ee46",
   "metadata": {},
   "source": [
    "### 给定一个正整数n，将其拆分为至少两个正整数的和，并使这些整数的乘积最大化。返回你可以获得的最大乘积。"
   ]
  },
  {
   "cell_type": "markdown",
   "id": "3a4239ff-089c-44dc-8b6a-0432d20f3466",
   "metadata": {},
   "source": [
    "* 例如：\n",
    "    * 输入：2\n",
    "    * 输出：1"
   ]
  },
  {
   "cell_type": "markdown",
   "id": "cc0c4e02-40a5-43e7-8121-76c3544ec53f",
   "metadata": {},
   "source": [
    "* 确定dp数组\n",
    "    * dp[i]：分拆数字i，可以得到的最大乘积为dp[i]。\n",
    "* 确定递推公式\n",
    "    * 一个是`j*(i-j)`接相乘；一个是`dp[i - j]`，相当于拆分(i - j)。\n",
    "    * `dp[i] = max(dp[i], max((i - j) * j, dp[i - j] * j))`\n",
    "* dp初始化\n",
    "    * 这里只初始化dp[2]=1\n",
    "* 确定遍历顺序\n",
    "    * 遍历i一定是从前向后的，枚举j的时候，从1开始，i是从3开始。"
   ]
  },
  {
   "cell_type": "markdown",
   "id": "8451f868-942b-40bb-b9d9-f3312e3f62e7",
   "metadata": {},
   "source": [
    "* 0不是正整数，1是最小的正整数，0和1都不能拆分，因此`dp[0] = dp[1] = 0`。\n",
    "* 当i ≥ 2时，假设对正整数i拆分出的第一个正整数是j，则有以下两种方案：\n",
    "    * 将`i`拆分成`j`和`i − j`的和，且`i − j`不再拆分成多个正整数，此时的乘积是`j × (i − j)`；\n",
    "    * 将`i`拆分成`j`和`i − j`的和，且`i - j`继续拆分成多个正整数，此时的乘积是`j × dp[i − j]`。"
   ]
  },
  {
   "cell_type": "code",
   "execution_count": 17,
   "id": "9f37d3ac-3b7e-450f-8f01-1edf2f92084c",
   "metadata": {},
   "outputs": [],
   "source": [
    "def solve(n):\n",
    "    dp = [0 for _ in range(n + 1)]\n",
    "    dp[2] = 1\n",
    "    for i in range(3, n + 1):\n",
    "        for j in range(1, i - 1):\n",
    "            dp[i] = max(dp[i], (i - j) * j, dp[i - j] * j)\n",
    "    return dp[n]"
   ]
  },
  {
   "cell_type": "code",
   "execution_count": 16,
   "id": "4a851f6d-65fd-4ec7-86e9-0cc2264d1636",
   "metadata": {},
   "outputs": [
    {
     "data": {
      "text/plain": [
       "36"
      ]
     },
     "execution_count": 16,
     "metadata": {},
     "output_type": "execute_result"
    }
   ],
   "source": [
    "n = 10\n",
    "solve(n)"
   ]
  },
  {
   "cell_type": "markdown",
   "id": "5271c687-f3eb-45ec-b5bf-96740ee0e9d4",
   "metadata": {},
   "source": [
    "* 时间复杂度：$O(n^2)$\n",
    "* 空间复杂度：$O(n)$"
   ]
  },
  {
   "cell_type": "markdown",
   "id": "72d6089e-8df7-44c1-a252-9fffee46ba76",
   "metadata": {},
   "source": [
    "#### 数学方法"
   ]
  },
  {
   "cell_type": "markdown",
   "id": "464392c9-ab27-4c93-98df-84bdb335e291",
   "metadata": {},
   "source": [
    "每次拆成n个3，如果剩下是4，则保留4，然后相乘。"
   ]
  },
  {
   "cell_type": "code",
   "execution_count": 18,
   "id": "c17e74fd-0d66-4dc0-82fd-f4c4c70899b1",
   "metadata": {},
   "outputs": [],
   "source": [
    "def solve(n):\n",
    "    if n == 2:\n",
    "        return 1\n",
    "    if n == 3:\n",
    "        return 2\n",
    "    if n == 4:\n",
    "        return 4\n",
    "    result = 1\n",
    "    while n > 4:\n",
    "        result *= 3\n",
    "        n -= 3\n",
    "    result *= n\n",
    "    return result"
   ]
  },
  {
   "cell_type": "code",
   "execution_count": 10,
   "id": "e763ac8b-ba2d-403d-b7e3-aae5dce872f5",
   "metadata": {},
   "outputs": [
    {
     "data": {
      "text/plain": [
       "36"
      ]
     },
     "execution_count": 10,
     "metadata": {},
     "output_type": "execute_result"
    }
   ],
   "source": [
    "n = 10\n",
    "solve(n)"
   ]
  },
  {
   "cell_type": "markdown",
   "id": "42eaaee4-6dbe-48e4-82b7-269aacbe5639",
   "metadata": {},
   "source": [
    "* 时间复杂度：$O(n)$\n",
    "* 空间复杂度：$O(1)$"
   ]
  }
 ],
 "metadata": {
  "kernelspec": {
   "display_name": "Python 3",
   "language": "python",
   "name": "python3"
  },
  "language_info": {
   "codemirror_mode": {
    "name": "ipython",
    "version": 3
   },
   "file_extension": ".py",
   "mimetype": "text/x-python",
   "name": "python",
   "nbconvert_exporter": "python",
   "pygments_lexer": "ipython3",
   "version": "3.9.1"
  }
 },
 "nbformat": 4,
 "nbformat_minor": 5
}
