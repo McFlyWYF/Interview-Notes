{
 "cells": [
  {
   "cell_type": "markdown",
   "id": "f1f63054-c048-4e4d-b55d-e6eff752b2b2",
   "metadata": {},
   "source": [
    "# 不同的二叉搜索树"
   ]
  },
  {
   "cell_type": "markdown",
   "id": "49cd13f0-b7d9-4721-b946-be5d777236ac",
   "metadata": {},
   "source": [
    "### 给定一个正整数n，求以1...n为节点组成的二叉搜索树有多少种？"
   ]
  },
  {
   "cell_type": "markdown",
   "id": "c003c346-2b76-4cfa-abdd-77de526ee8ef",
   "metadata": {},
   "source": [
    "* 例如：\n",
    "    * 输入：3\n",
    "    * 输出：5"
   ]
  },
  {
   "cell_type": "markdown",
   "id": "3a8143e6-451c-4d4a-a714-099ad9741e7c",
   "metadata": {},
   "source": [
    "* 例如dp[3]：\n",
    "    * 元素1为头节点搜索树的数量+元素2为头节点搜索树的数量+元素3位头节点搜索树的数量\n",
    "        * 元素1为头节点搜索树的数量=右子树有2个元素的搜索树数量 * 左子树有0个元素的搜索树数量 = dp[2] + dp[0]\n",
    "        * 元素2为头节点搜索树的数量=右子树有1个元素的搜索树数量 * 左子树有1个元素的搜索树数量 = dp[1] + dp[1]\n",
    "        * 元素3为头节点搜索树的数量=右子树有0个元素的搜索树数量 * 左子树有2个元素的搜索树数量 = dp[0] + dp[2]"
   ]
  },
  {
   "cell_type": "markdown",
   "id": "699b22af-793e-45de-8012-3c60ecceb7ed",
   "metadata": {},
   "source": [
    "* 假设n个节点存在二叉排序树的个数是$G(n)$，令$f(i)$是以i为根的二叉搜索树的个数，则$G(n)=f(1)+f(2)+f(3)+f(4)+...+f(n)$\n",
    "* 当i为根节点时，其左子树节点个数为$i - 1$个，右子树节点为$n - i$，则$f(i) = G(i - 1) * G(n - i)$\n",
    "* 综合得$G(n) = G(0) * G(n - 1) + ... + G(n - 1) * G(0)$"
   ]
  },
  {
   "cell_type": "markdown",
   "id": "fda5036c-7dd4-420c-8a80-89a705bf38fc",
   "metadata": {},
   "source": [
    "* 确定dp数组\n",
    "    * dp[i]：1到i为节点组成的二叉搜索树的个数\n",
    "* 确定递推公式\n",
    "    * dp[i] += dp[以j为头节点左子树节点数量] * dp[以j为头节点右子树节点数量]\n",
    "    * `dp[i] += dp[j - 1] * dp[i - j]`"
   ]
  },
  {
   "cell_type": "code",
   "execution_count": 9,
   "id": "069c5cb4-63cf-4fa3-a5ac-025b8ab72f30",
   "metadata": {},
   "outputs": [],
   "source": [
    "def solve(n):\n",
    "    dp = [0 for _ in range(n + 1)]\n",
    "    dp[0] = 1\n",
    "    for i in range(1, n + 1):\n",
    "        for j in range(1, i + 1):\n",
    "            dp[i] += dp[j - 1] * dp[i - j]\n",
    "    print(dp)\n",
    "    return dp[n]"
   ]
  },
  {
   "cell_type": "code",
   "execution_count": 10,
   "id": "68a860bc-f42b-4147-af9c-809fb7ad4fbd",
   "metadata": {},
   "outputs": [
    {
     "name": "stdout",
     "output_type": "stream",
     "text": [
      "[1, 1, 2, 5]\n"
     ]
    },
    {
     "data": {
      "text/plain": [
       "5"
      ]
     },
     "execution_count": 10,
     "metadata": {},
     "output_type": "execute_result"
    }
   ],
   "source": [
    "n = 3\n",
    "solve(n)"
   ]
  },
  {
   "cell_type": "markdown",
   "id": "e2246dd0-9699-4972-80bf-976729b1c26b",
   "metadata": {},
   "source": [
    "* 时间复杂度：$O(n^2)$\n",
    "* 空间复杂度：$O(n)$"
   ]
  }
 ],
 "metadata": {
  "kernelspec": {
   "display_name": "Python 3",
   "language": "python",
   "name": "python3"
  },
  "language_info": {
   "codemirror_mode": {
    "name": "ipython",
    "version": 3
   },
   "file_extension": ".py",
   "mimetype": "text/x-python",
   "name": "python",
   "nbconvert_exporter": "python",
   "pygments_lexer": "ipython3",
   "version": "3.9.1"
  }
 },
 "nbformat": 4,
 "nbformat_minor": 5
}
