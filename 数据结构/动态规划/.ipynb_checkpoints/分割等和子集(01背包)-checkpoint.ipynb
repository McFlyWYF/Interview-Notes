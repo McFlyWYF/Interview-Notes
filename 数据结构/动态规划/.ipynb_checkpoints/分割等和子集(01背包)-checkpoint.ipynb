{
 "cells": [
  {
   "cell_type": "markdown",
   "id": "8eeef30a-fe66-474d-a605-605895d9c7a4",
   "metadata": {},
   "source": [
    "# 分割等和子集（01背包）"
   ]
  },
  {
   "cell_type": "markdown",
   "id": "61be3aba-8d71-4487-ac60-ae00c7912992",
   "metadata": {},
   "source": [
    "### 给定一个只包含正整数的非空数组。是否可以将这个数组分割成两个子集，使得两个子集的元素和相等。"
   ]
  },
  {
   "cell_type": "markdown",
   "id": "5d45e7da-6fbc-4e42-b758-974227c28dc2",
   "metadata": {},
   "source": [
    "* 例如：\n",
    "    * 输入：[1,5,11,5]\n",
    "    * 输出：true"
   ]
  },
  {
   "cell_type": "markdown",
   "id": "006510e4-70d1-459b-9582-70f577205a77",
   "metadata": {},
   "source": [
    "* 子集和=背包容量\n",
    "* 元素数值=物品重量\n",
    "* 元素数值=物品价值\n",
    "* 每个元素只能放入一次"
   ]
  },
  {
   "cell_type": "code",
   "execution_count": 8,
   "id": "94b170a0-0740-4395-b8ce-ad0c1fa04cf6",
   "metadata": {},
   "outputs": [],
   "source": [
    "def solve(nums):\n",
    "    if sum(nums) % 2 != 0:\n",
    "        return False\n",
    "    bagweight = sum(nums) // 2\n",
    "    # 定义dp数组，初始化\n",
    "    dp = [0 for _ in range(bagweight + 1)]  # 背包容量是i，最大凑成i的子集总和为dp[i]\n",
    "    # 遍历\n",
    "    for i in range(len(nums)):\n",
    "        for j in range(bagweight, nums[i] - 1, -1):\n",
    "            dp[j] = max(dp[j], dp[j - nums[i]] + nums[i])\n",
    "    if dp[-1] == bagweight:\n",
    "        return True\n",
    "    else:\n",
    "        return False"
   ]
  },
  {
   "cell_type": "code",
   "execution_count": 9,
   "id": "12745c7e-0369-4867-8ff5-9198948f889d",
   "metadata": {},
   "outputs": [
    {
     "data": {
      "text/plain": [
       "True"
      ]
     },
     "execution_count": 9,
     "metadata": {},
     "output_type": "execute_result"
    }
   ],
   "source": [
    "nums = [1,5,11,5]\n",
    "solve(nums)"
   ]
  },
  {
   "cell_type": "markdown",
   "id": "294ec55c-fcab-410f-b1bc-0b611ef62dfe",
   "metadata": {},
   "source": [
    "* 时间复杂度：$O(n)$\n",
    "* 空间复杂度：$O(n)$"
   ]
  }
 ],
 "metadata": {
  "kernelspec": {
   "display_name": "Python 3",
   "language": "python",
   "name": "python3"
  },
  "language_info": {
   "codemirror_mode": {
    "name": "ipython",
    "version": 3
   },
   "file_extension": ".py",
   "mimetype": "text/x-python",
   "name": "python",
   "nbconvert_exporter": "python",
   "pygments_lexer": "ipython3",
   "version": "3.9.1"
  }
 },
 "nbformat": 4,
 "nbformat_minor": 5
}
