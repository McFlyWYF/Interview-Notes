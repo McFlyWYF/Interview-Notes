{
 "cells": [
  {
   "cell_type": "markdown",
   "metadata": {},
   "source": [
    "# Homewrok Coding: Logistic Regression.\n",
    "#### Please export this jupyter notebook as PDF, and hand in .pdf file.\n"
   ]
  },
  {
   "cell_type": "markdown",
   "metadata": {},
   "source": [
    "### In this part of homework, you need to implement Logistic Regression using Python in this jupyter notebook."
   ]
  },
  {
   "cell_type": "code",
   "execution_count": 1,
   "metadata": {},
   "outputs": [],
   "source": [
    "#importing all the required libraries\n",
    "import pandas as pd\n",
    "from sklearn.datasets import load_breast_cancer\n",
    "import numpy as np\n",
    "from sklearn import preprocessing\n",
    "from sklearn.linear_model import LogisticRegression\n",
    "from sklearn.model_selection import train_test_split\n",
    "import matplotlib.pyplot as plt\n",
    "from sklearn.metrics import confusion_matrix\n",
    "import seaborn as sns"
   ]
  },
  {
   "cell_type": "code",
   "execution_count": 2,
   "metadata": {},
   "outputs": [],
   "source": [
    "#Loading the dataset\n",
    "data = load_breast_cancer().data\n",
    "target = load_breast_cancer().target"
   ]
  },
  {
   "cell_type": "code",
   "execution_count": 5,
   "metadata": {},
   "outputs": [
    {
     "data": {
      "text/plain": [
       "(569, 30)"
      ]
     },
     "execution_count": 5,
     "metadata": {},
     "output_type": "execute_result"
    }
   ],
   "source": [
    "data.shape"
   ]
  },
  {
   "cell_type": "code",
   "execution_count": 6,
   "metadata": {},
   "outputs": [
    {
     "data": {
      "text/plain": [
       "(array([0, 1]), array([212, 357], dtype=int64))"
      ]
     },
     "execution_count": 6,
     "metadata": {},
     "output_type": "execute_result"
    }
   ],
   "source": [
    "np.unique(target,return_counts=True)"
   ]
  },
  {
   "cell_type": "code",
   "execution_count": 7,
   "metadata": {},
   "outputs": [],
   "source": [
    "#Splitting the data into train and test sets\n",
    "X_train, X_test, y_train, y_test = train_test_split(data, target, test_size=0.33, random_state = 42)"
   ]
  },
  {
   "cell_type": "code",
   "execution_count": 8,
   "metadata": {},
   "outputs": [],
   "source": [
    "#Standardizing data\n",
    "scaler = preprocessing.StandardScaler().fit(X_train)\n",
    "X_train = scaler.transform(X_train)\n",
    "X_test = scaler.transform(X_test)"
   ]
  },
  {
   "cell_type": "markdown",
   "metadata": {},
   "source": [
    "###  Some helper functions are given below, you are free to use them or not."
   ]
  },
  {
   "cell_type": "code",
   "execution_count": 9,
   "metadata": {},
   "outputs": [],
   "source": [
    "# Function to predict y of x with current weights\n",
    "def predict(x,w):\n",
    "    y_pred=[]\n",
    "    for i in range(len(x)):\n",
    "        y = (np.asscalar(1/(1+np.exp(-(np.dot(w,x[i]))))))\n",
    "        if y<0.5:\n",
    "            y_pred.append(0)\n",
    "        else:\n",
    "            y_pred.append(1)\n",
    "    return np.array(y_pred)"
   ]
  },
  {
   "cell_type": "code",
   "execution_count": 10,
   "metadata": {},
   "outputs": [],
   "source": [
    "#Function to calulate TPR,FPR,TNR and FNR to be included in confusion matrix\n",
    "def find_rates(mat):\n",
    "    mat2=[]\n",
    "    mat2.append((mat[0,0]))\n",
    "    mat2.append((mat[1,0]))\n",
    "    mat2.append((mat[0,1]))\n",
    "    mat2.append((mat[1,1]))\n",
    "    mat2=np.reshape(mat2,(2,2))\n",
    "    mat2 = pd.DataFrame(mat2,columns=[0,1],index=[0,1])\n",
    "    mat2.index.name = 'Predicted'\n",
    "    mat2.columns.name = 'Actual'\n",
    "    return mat2"
   ]
  },
  {
   "cell_type": "markdown",
   "metadata": {},
   "source": [
    "## Part 1: Implement Logistic Regression using sklearn."
   ]
  },
  {
   "cell_type": "markdown",
   "metadata": {},
   "source": [
    "### Sklearn Implementation Example"
   ]
  },
  {
   "cell_type": "code",
   "execution_count": 11,
   "metadata": {},
   "outputs": [
    {
     "data": {
      "text/plain": [
       "LogisticRegression(C=0.1, solver='liblinear')"
      ]
     },
     "execution_count": 11,
     "metadata": {},
     "output_type": "execute_result"
    }
   ],
   "source": [
    "#Logistic regression using sklearn\n",
    "LRclf = LogisticRegression(penalty = 'l2', C=0.1, solver = 'liblinear')\n",
    "LRclf.fit(X_train, y_train)"
   ]
  },
  {
   "cell_type": "code",
   "execution_count": 12,
   "metadata": {},
   "outputs": [],
   "source": [
    "y_pred_sklearn = LRclf.predict(X_test)"
   ]
  },
  {
   "cell_type": "code",
   "execution_count": 13,
   "metadata": {},
   "outputs": [
    {
     "data": {
      "text/plain": [
       "(array([0, 1]), array([ 67, 121], dtype=int64))"
      ]
     },
     "execution_count": 13,
     "metadata": {},
     "output_type": "execute_result"
    }
   ],
   "source": [
    "np.unique(y_test,return_counts=True)"
   ]
  },
  {
   "cell_type": "code",
   "execution_count": 14,
   "metadata": {},
   "outputs": [
    {
     "data": {
      "text/plain": [
       "(array([0, 1]), array([ 67, 121], dtype=int64))"
      ]
     },
     "execution_count": 14,
     "metadata": {},
     "output_type": "execute_result"
    }
   ],
   "source": [
    "np.unique(y_pred_sklearn,return_counts=True)"
   ]
  },
  {
   "cell_type": "code",
   "execution_count": 15,
   "metadata": {},
   "outputs": [
    {
     "data": {
      "text/plain": [
       "(66, 1, 1, 120)"
      ]
     },
     "execution_count": 15,
     "metadata": {},
     "output_type": "execute_result"
    }
   ],
   "source": [
    "tn, fp, fn, tp = confusion_matrix(y_test, y_pred_sklearn).ravel()\n",
    "(tn, fp, fn, tp)"
   ]
  },
  {
   "cell_type": "code",
   "execution_count": 16,
   "metadata": {},
   "outputs": [
    {
     "data": {
      "text/plain": [
       "<AxesSubplot:title={'center':'Confusion Matrix for test data using sklearn Logistic Regression'}, xlabel='Actual', ylabel='Predicted'>"
      ]
     },
     "execution_count": 16,
     "metadata": {},
     "output_type": "execute_result"
    },
    {
     "data": {
      "image/png": "[encoded data removed]",
      "text/plain": [
       "<Figure size 576x432 with 2 Axes>"
      ]
     },
     "metadata": {
      "needs_background": "light"
     },
     "output_type": "display_data"
    }
   ],
   "source": [
    "mat_test = find_rates(confusion_matrix(y_test, y_pred_sklearn))\n",
    "\n",
    "fig=plt.figure(figsize=(8,6))\n",
    "plt.title('Confusion Matrix for test data using sklearn Logistic Regression')\n",
    "sns.heatmap(mat_test,annot=True,fmt='g')"
   ]
  },
  {
   "cell_type": "code",
   "execution_count": 17,
   "metadata": {},
   "outputs": [
    {
     "data": {
      "text/plain": [
       "0.9893617021276596"
      ]
     },
     "execution_count": 17,
     "metadata": {},
     "output_type": "execute_result"
    }
   ],
   "source": [
    "LRclf.score(X_test, y_test)"
   ]
  },
  {
   "cell_type": "markdown",
   "metadata": {},
   "source": [
    "### Now try different solvers and parameters. Answer these questions below:\n",
    "#### 1. Explain the parameters and their effects in LogisticRegression()\n",
    "#### 2. Is it feasible to set parameters 'penalty' and 'solver' to (penalty = 'l1', solver = 'newton-cg')? If not, briefly explain why (you don't have to do any mathematical derivation).\n",
    "#### Hints: you can read official document from \n",
    "https://scikit-learn.org/stable/modules/generated/sklearn.linear_model.LogisticRegression.html"
   ]
  },
  {
   "cell_type": "markdown",
   "metadata": {},
   "source": [
    "# <font color=\"#0000dd\">My Answer:</font>"
   ]
  },
  {
   "cell_type": "markdown",
   "metadata": {},
   "source": [
    "### 1. Explain the parameters and their effects in LogisticRegression()\n",
    "\n",
    "#### i) penalty = 'l2'\n",
    "\n",
    "- **penalty** has the following parameters: {'l1', 'l2', 'elasticnet', 'none'} with default = 'l2'.\n",
    "\n",
    "    It specifies the norm of the penalty:\n",
    "\n",
    "    - `none`: no penalty is added;\n",
    "    - `l2`: add a L2 penalty term and it is the default choice; \n",
    "    - `l1`: add a L1 penalty term;\n",
    "    - `elasticnet`: both L1 and L2 penalty terms are added.\n",
    "\n",
    "    Here in Part1, it chooses the $l_2$ regularization.\n",
    "\n",
    "#### ii) C = 0.1\n",
    "\n",
    "&emsp; **C** is float with default = 1.0.\n",
    "\n",
    "&emsp; It is the inverse of regularization strength and must be a positive float. Like in support vector machines, smaller values specify stronger regularization.\n",
    "\n",
    "&emsp; Here in Part1, it chooses the $C = 0.1$, implying the regularization strength is $10$.\n",
    "\n",
    "#### iii) solver = 'liblinear'\n",
    "\n",
    "- **solver** has the following parameters: {'newton-cg', 'lbfgs', 'liblinear', 'sag', 'saga'} with default='lbfgs'.\n",
    "\n",
    "    It denotes the algorithm to use in the optimization problem. Default is 'lbfgs'. To choose a solver, you might want to consider the following aspects:\n",
    "\n",
    "    - For small datasets, 'liblinear' is a good choice, whereas 'sag' and 'saga' are faster for large ones;\n",
    "    - For multiclass problems, only 'newton-cg', 'sag', 'saga' and 'lbfgs' handle multinomial loss;\n",
    "    - 'liblinear' is limited to one-versus-rest schemes.\n",
    "    \n",
    "    Here in Part1, it chooses 'liblinear' which uses a coordinate descent (CD) algorithm."
   ]
  },
  {
   "cell_type": "markdown",
   "metadata": {},
   "source": [
    "### 2.  Is it feasible to set parameters 'penalty' and 'solver' to (penalty = 'l1', solver = 'newton-cg')? If not, briefly explain why (you don't have to do any mathematical derivation).\n",
    "\n",
    "- No. Because this optimization algorithm requires the first-order or second-order continuous derivatives of the loss function. It can not be used for L1 regularization without continuous derivatives, but can only be used for L2 regularization."
   ]
  },
  {
   "cell_type": "markdown",
   "metadata": {},
   "source": [
    "## Part 2: Implement Logistic Regression without using its library. In other words, you need to implement logistic regression by yourself"
   ]
  },
  {
   "cell_type": "code",
   "execution_count": 18,
   "metadata": {},
   "outputs": [],
   "source": [
    "# In this part, the hyper parameters are given, do not change them. \n",
    "# Note that the Logistic regression in this part has regularization terms."
   ]
  },
  {
   "cell_type": "markdown",
   "metadata": {},
   "source": [
    "### Part 2.1: Implement logistic regression using Batch-GD"
   ]
  },
  {
   "cell_type": "code",
   "execution_count": null,
   "metadata": {},
   "outputs": [],
   "source": [
    "\"\"\"\n",
    "At each iteration, train all the samples and update weights.\n",
    "\"\"\"\n",
    "n_iter=50  # number of iterations\n",
    "reg=0.01   # regularization parameter lambda\n",
    "r=0.1      # learning rate\n",
    "sample_size=X_train.shape[0]    # batch size for BGD\n",
    "N=X_train.shape[0]\n",
    "\n",
    "\n",
    "for j in range(n_iter):\n",
    "    #Your codes below:\n",
    "    \n"
   ]
  },
  {
   "cell_type": "code",
   "execution_count": null,
   "metadata": {},
   "outputs": [],
   "source": [
    "#Getting predictions for test datapoints\n",
    "y_pred_BGD = predict(X_test,w_BGD)"
   ]
  },
  {
   "cell_type": "code",
   "execution_count": null,
   "metadata": {},
   "outputs": [],
   "source": [
    "np.unique(y_test,return_counts=True)"
   ]
  },
  {
   "cell_type": "code",
   "execution_count": null,
   "metadata": {},
   "outputs": [],
   "source": [
    "np.unique(y_pred_BGD,return_counts=True)"
   ]
  },
  {
   "cell_type": "code",
   "execution_count": null,
   "metadata": {},
   "outputs": [],
   "source": [
    "# Draw confusion matrix\n",
    "mat_test = find_rates(confusion_matrix(y_test, y_pred_BGD))\n",
    "\n",
    "fig=plt.figure(figsize=(8,6))\n",
    "plt.title('Confusion Matrix for test data using BGD Logistic Regression')\n",
    "sns.heatmap(mat_test,annot=True,fmt='g')"
   ]
  },
  {
   "cell_type": "markdown",
   "metadata": {},
   "source": [
    "### Part 2.2: Implement logistic regression using SGD"
   ]
  },
  {
   "cell_type": "code",
   "execution_count": null,
   "metadata": {},
   "outputs": [],
   "source": [
    "\"\"\"\n",
    "In this part, you need to implement logistic regression using SGD method. \n",
    "At each iteration, choose 20 samples randomly and compute dJ(theta)/d(theta) among \n",
    "those 20 samples then update the vector of weights.\n",
    "\n",
    "***Note that the random seed at each iteration is given, do NOT modify it!!!***\n",
    "\"\"\"\n",
    "n_iter=50  # number of iterations\n",
    "reg=0.01   # regularization parameter lambda\n",
    "r=0.1      # learning rate\n",
    "sample_size=20    # sample size for SGD\n",
    "N=X_train.shape[0]\n",
    "\n",
    "for j in range(n_iter):\n",
    "    np.random.seed(j) \n",
    "    idx=np.random.randint(X_train.shape[0],size=sample_size) \n",
    "    # Do NOT modify codes above, especially the random code.\n",
    "    # At each iterations, choose samples from X_train, y_train, with index idx.\n",
    "    # Your codes below:\n",
    "    \n",
    "    \n"
   ]
  },
  {
   "cell_type": "code",
   "execution_count": null,
   "metadata": {},
   "outputs": [],
   "source": [
    "#Getting predictions for test datapoints\n",
    "y_pred_SGD = predict(X_test,w_SGD)"
   ]
  },
  {
   "cell_type": "code",
   "execution_count": null,
   "metadata": {},
   "outputs": [],
   "source": [
    "np.unique(y_test,return_counts=True)"
   ]
  },
  {
   "cell_type": "code",
   "execution_count": null,
   "metadata": {},
   "outputs": [],
   "source": [
    "np.unique(y_pred_SGD,return_counts=True)"
   ]
  },
  {
   "cell_type": "code",
   "execution_count": null,
   "metadata": {},
   "outputs": [],
   "source": [
    "# Draw confusion matrix\n",
    "mat_test = find_rates(confusion_matrix(y_test, y_pred_SGD))\n",
    "\n",
    "fig=plt.figure(figsize=(8,6))\n",
    "plt.title('Confusion Matrix for test data using SGD Logistic Regression')\n",
    "sns.heatmap(mat_test,annot=True,fmt='g')"
   ]
  },
  {
   "cell_type": "code",
   "execution_count": null,
   "metadata": {
    "scrolled": true
   },
   "outputs": [],
   "source": []
  },
  {
   "cell_type": "code",
   "execution_count": null,
   "metadata": {
    "scrolled": true
   },
   "outputs": [],
   "source": [
    "\"\"\"\n",
    "Print a table to show every coefficients in vector w, \n",
    "and compute the absolute difference between coefficients of BGD and SGD methods.\n",
    "\"\"\"\n",
    "\n",
    "from prettytable import PrettyTable\n",
    "p = PrettyTable()\n",
    "p.title='Weights from both models'\n",
    "p.field_names=['SKlearn','BGD', 'SGD', 'Difference']\n",
    "\n",
    "# You can rewrite codes below\n",
    "# Please remain five decimal places\n",
    "for i in range(30):\n",
    "    p.add_row(['{:.5f}'.format(LRclf.coef_[0,i]),'{:.5f}'.format(w_BGD[i]), \n",
    "               '{:.5f}'.format(w_SGD[i]), '{:.5f}'.format(abs(w_BGD[i]-w_SGD[i]))])\n",
    "print(p)"
   ]
  },
  {
   "cell_type": "code",
   "execution_count": null,
   "metadata": {},
   "outputs": [],
   "source": [
    "# Hint: Given hyperparameters and random seeds, the w obtained by BGD and SGD should be unique. \n",
    "# In fact, the answer has been shown to you, if yours are not the same with the answer, score will be penalized.\n"
   ]
  }
 ],
 "metadata": {
  "kernelspec": {
   "display_name": "Python 3 (ipykernel)",
   "language": "python",
   "name": "python3"
  },
  "language_info": {
   "codemirror_mode": {
    "name": "ipython",
    "version": 3
   },
   "file_extension": ".py",
   "mimetype": "text/x-python",
   "name": "python",
   "nbconvert_exporter": "python",
   "pygments_lexer": "ipython3",
   "version": "3.9.7"
  }
 },
 "nbformat": 4,
 "nbformat_minor": 2
}