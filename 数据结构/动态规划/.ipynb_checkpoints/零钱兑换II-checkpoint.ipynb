{
 "cells": [
  {
   "cell_type": "markdown",
   "id": "e4379a5b-09cd-43a1-82cd-0fdd9ba0f53f",
   "metadata": {},
   "source": [
    "# 零钱兑换II"
   ]
  },
  {
   "cell_type": "markdown",
   "id": "43d85908-215c-4cea-b9d2-95232ebf6ca3",
   "metadata": {},
   "source": [
    "### 给定不同面额的硬币和一个总金额，写出函数来计算可以凑成总金额的硬币组合数。假设每一种面额的硬币有无限个。"
   ]
  },
  {
   "cell_type": "markdown",
   "id": "c10c6487-f607-4dec-a326-050dce894369",
   "metadata": {},
   "source": [
    "* 例如：\n",
    "    * 输入：amount = 5，coins = [1, 2, 5]\n",
    "    * 输出：4"
   ]
  },
  {
   "cell_type": "markdown",
   "id": "13ce73a2-bac6-460a-833b-ea9b3d0777af",
   "metadata": {},
   "source": [
    "* 确定dp数组\n",
    "    * dp[j]：凑成总金额为j的组合数为dp[j]\n",
    "* 确定递推公式\n",
    "    * dp[j]就是所有的dp[j - coins[i]]相加\n",
    "    * `dp[j] += dp[j - coins[i]]`\n",
    "* dp数组初始化\n",
    "    * dp[0]=1，凑成总金额为0的组合数为1，其他初始化为0\n",
    "* 确定遍历顺序\n",
    "    * 先遍历物品，再遍历背包，这样计算出来的是组合数\n",
    "    * 先遍历背包，再遍历物品，计算出来的是排列数，包含了重复的集合，这种遍历顺序是不行的。"
   ]
  },
  {
   "cell_type": "code",
   "execution_count": 8,
   "id": "a31f8aaa-2e11-4029-ae94-03f294034c49",
   "metadata": {},
   "outputs": [],
   "source": [
    "def solve(amount, coins):\n",
    "    dp = [0 for _ in range(amount + 1)]\n",
    "    dp[0] = 1\n",
    "    for i in range(len(coins)):\n",
    "        for j in range(coins[i], amount + 1):\n",
    "            dp[j] += dp[j - coins[i]]\n",
    "    print(dp)\n",
    "    return dp[-1]"
   ]
  },
  {
   "cell_type": "code",
   "execution_count": 10,
   "id": "bcb02ee7-ad26-4ab2-bed8-8e9346519528",
   "metadata": {},
   "outputs": [
    {
     "name": "stdout",
     "output_type": "stream",
     "text": [
      "[1, 1, 2, 2, 3, 4]\n"
     ]
    },
    {
     "data": {
      "text/plain": [
       "4"
      ]
     },
     "execution_count": 10,
     "metadata": {},
     "output_type": "execute_result"
    }
   ],
   "source": [
    "amount = 5\n",
    "coins = [1, 2, 5]\n",
    "solve(amount, coins)"
   ]
  },
  {
   "cell_type": "markdown",
   "id": "4dbb9c75-d2df-4125-8d1b-0c0ab7e90bbe",
   "metadata": {},
   "source": [
    "#### 遍历顺序"
   ]
  },
  {
   "cell_type": "markdown",
   "id": "632547ff-d74c-4196-bd7b-7cca1de850c6",
   "metadata": {},
   "source": [
    "* 如果求组合数，先遍历物品，再遍历背包。\n",
    "* 如果求排列数，先遍历背包，再遍历物品。"
   ]
  }
 ],
 "metadata": {
  "kernelspec": {
   "display_name": "Python 3",
   "language": "python",
   "name": "python3"
  },
  "language_info": {
   "codemirror_mode": {
    "name": "ipython",
    "version": 3
   },
   "file_extension": ".py",
   "mimetype": "text/x-python",
   "name": "python",
   "nbconvert_exporter": "python",
   "pygments_lexer": "ipython3",
   "version": "3.9.1"
  }
 },
 "nbformat": 4,
 "nbformat_minor": 5
}
