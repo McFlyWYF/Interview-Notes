{
 "cells": [
  {
   "cell_type": "markdown",
   "id": "e27cc0ea-4515-490b-9fa3-abffc3ea9626",
   "metadata": {},
   "source": [
    "# 一和零"
   ]
  },
  {
   "cell_type": "markdown",
   "id": "fccabb60-e307-406a-aef6-74f8573e448a",
   "metadata": {},
   "source": [
    "### 给你一个二进制字符串数组strs和两个整数m和n。请你找出并返回strs的最大子集的大小，该子集中最多有m个0和n个1。如果x的所有元素也是y的元素，集合x是集合y的子集。"
   ]
  },
  {
   "cell_type": "markdown",
   "id": "ac92ecc2-10a4-45fb-b672-f89831946bc0",
   "metadata": {},
   "source": [
    "##### 两个维度的01背包"
   ]
  },
  {
   "cell_type": "markdown",
   "id": "d789d077-fb63-438d-b7c9-c4c792dc125a",
   "metadata": {},
   "source": [
    "* 例如：\n",
    "    * 输入：`strs=['10','0001','111001','1','0'],m=5,n=3`\n",
    "    * 输出：4"
   ]
  },
  {
   "cell_type": "markdown",
   "id": "d1de8bb4-efdb-41fc-a607-afe1f2d04f6f",
   "metadata": {},
   "source": [
    "* 确定dp数组\n",
    "    * `dp[i][j]:最多有i个0和j个1的strs的最大子集的大小为dp[i][j]`\n",
    "* 确定递推公式\n",
    "    * 可以由前一个strs里的字符串推导出来，strs里的字符串有zeronum个0，onenum个1。\n",
    "    * `dp[i][j] = max(dp[i][j], dp[i - zeronum][j - onenum] + 1)`\n",
    "    * zeronum和onenum相当于物品的重量，个数相当于物品的价值。\n",
    "* 初始化\n",
    "    * `dp = [[0 for _ in range(len(zero) ] for _ in range(len(one)]`\n",
    "* 遍历顺序\n",
    "    * 先遍历物品，再遍历背包"
   ]
  },
  {
   "cell_type": "code",
   "execution_count": 25,
   "id": "f1ab6a83-61da-4bde-b0f1-789d96a12e3f",
   "metadata": {},
   "outputs": [],
   "source": [
    "def solve(strs, m, n):\n",
    "                \n",
    "    # 定义dp，初始化，多维背包\n",
    "    dp = [[0 for _ in range(n + 1)] for _ in range(m + 1)]\n",
    "    # 遍历\n",
    "    for i in range(len(strs)):\n",
    "        onenum = 0\n",
    "        zeronum = 0\n",
    "        for c in strs[i]:\n",
    "            if c == '0':\n",
    "                zeronum += 1\n",
    "            else:\n",
    "                onenum += 1\n",
    "        # 遍历背包，从后向前遍历\n",
    "        for j in range(m, zeronum - 1, -1):\n",
    "            for k in range(n, onenum - 1, -1):\n",
    "                dp[j][k] = max(dp[j][k], dp[j - zeronum][k - onenum] + 1)\n",
    "    print('dp: ', dp)\n",
    "    return dp[-1][-1]"
   ]
  },
  {
   "cell_type": "code",
   "execution_count": 26,
   "id": "3d962f48-6c32-461e-86bd-daf82bbd2ce6",
   "metadata": {},
   "outputs": [
    {
     "name": "stdout",
     "output_type": "stream",
     "text": [
      "dp:  [[0, 1, 1, 1], [1, 2, 2, 2], [1, 2, 3, 3], [1, 2, 3, 3], [1, 2, 3, 3], [1, 2, 3, 4]]\n"
     ]
    },
    {
     "data": {
      "text/plain": [
       "4"
      ]
     },
     "execution_count": 26,
     "metadata": {},
     "output_type": "execute_result"
    }
   ],
   "source": [
    "strs=['10','0001','111001','1','0']\n",
    "m = 5\n",
    "n = 3\n",
    "solve(strs, m, n)"
   ]
  },
  {
   "cell_type": "markdown",
   "id": "2deb3c51-d8c4-40e1-9775-8e27be2ba61e",
   "metadata": {},
   "source": [
    "* 时间复杂度：$O(m * n * len(strs))$\n",
    "* 空间复杂度：$O(m * n)$"
   ]
  }
 ],
 "metadata": {
  "kernelspec": {
   "display_name": "Python 3",
   "language": "python",
   "name": "python3"
  },
  "language_info": {
   "codemirror_mode": {
    "name": "ipython",
    "version": 3
   },
   "file_extension": ".py",
   "mimetype": "text/x-python",
   "name": "python",
   "nbconvert_exporter": "python",
   "pygments_lexer": "ipython3",
   "version": "3.9.1"
  }
 },
 "nbformat": 4,
 "nbformat_minor": 5
}
