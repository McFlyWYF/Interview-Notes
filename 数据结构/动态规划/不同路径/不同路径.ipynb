{
 "cells": [
  {
   "cell_type": "markdown",
   "id": "1fcec5aa-0df4-4116-8519-d3b3bfcee75a",
   "metadata": {},
   "source": [
    "# 不同路径"
   ]
  },
  {
   "cell_type": "markdown",
   "id": "25269ef0-2c1a-4533-9380-aedb7ab1542e",
   "metadata": {},
   "source": [
    "### 一个机器人位于一个mxn网格的左上角。机器人每次只能向下或者向右移动一步。机器人试图达到网格的右下角。问总共有多少条不同的路径。"
   ]
  },
  {
   "cell_type": "markdown",
   "id": "d9a9e566-c1ae-4eea-a72a-6b7461b2accf",
   "metadata": {},
   "source": [
    "* 例如：\n",
    "    * 输入：m=3, n=7\n",
    "    * 输出：28"
   ]
  },
  {
   "cell_type": "markdown",
   "id": "aab8706d-ff93-4efb-8ea8-680badeaf900",
   "metadata": {},
   "source": [
    "* 确定dp数组：\n",
    "    * dp[i][j]：表示从(0,0)出发，到(i,j)有dp[i][j]条不同的路径。\n",
    "* 确定递推公式\n",
    "    * dp[i][j]只能从`dp[i][j - 1]`和`dp[i - 1][j]`推导出来。`dp[i][j] = dp[i - 1][j] + dp[i][j - 1]`"
   ]
  },
  {
   "cell_type": "code",
   "execution_count": 54,
   "id": "1f11c37a-0f02-412b-a5ad-af1d624abec6",
   "metadata": {},
   "outputs": [],
   "source": [
    "def solve(m, n):\n",
    "    dp = [[0 for i in range(n)] for j in range(m)]\n",
    "    # 初始化\n",
    "    for i in range(n):\n",
    "        dp[0][i] = 1\n",
    "    for j in range(m):\n",
    "        dp[j][0] = 1\n",
    "    # 遍历\n",
    "    for i in range(1, m):\n",
    "        for j in range(1, n):\n",
    "            dp[i][j] = dp[i - 1][j] + dp[i][j - 1]\n",
    "    print(dp)\n",
    "    return dp[m - 1][n - 1]"
   ]
  },
  {
   "cell_type": "code",
   "execution_count": 55,
   "id": "4fc67f48-148f-461b-a1ef-38e088cdf4c8",
   "metadata": {},
   "outputs": [
    {
     "name": "stdout",
     "output_type": "stream",
     "text": [
      "[[1, 1, 1, 1, 1, 1, 1], [1, 2, 3, 4, 5, 6, 7], [1, 3, 6, 10, 15, 21, 28]]\n"
     ]
    },
    {
     "data": {
      "text/plain": [
       "28"
      ]
     },
     "execution_count": 55,
     "metadata": {},
     "output_type": "execute_result"
    }
   ],
   "source": [
    "m = 3\n",
    "n = 7\n",
    "solve(m, n)"
   ]
  },
  {
   "cell_type": "markdown",
   "id": "745d4f43-bc9c-4454-9945-f072e0e3064a",
   "metadata": {},
   "source": [
    "* 时间复杂度：$O(m*n)$\n",
    "* 空间复杂度：$O(m*n)$"
   ]
  },
  {
   "cell_type": "code",
   "execution_count": 68,
   "id": "957f868c-f580-42ee-b542-b7763d0bb37c",
   "metadata": {},
   "outputs": [],
   "source": [
    "def solve(m, n):\n",
    "    dp = [1 for i in range(n)]\n",
    "    # 遍历\n",
    "    for i in range(1, m):\n",
    "        for j in range(1, n):\n",
    "            dp[j] += dp[j - 1]\n",
    "    return dp[n - 1]"
   ]
  },
  {
   "cell_type": "code",
   "execution_count": 69,
   "id": "c36c9e64-5df6-4d2c-9d5e-cba599ee3049",
   "metadata": {},
   "outputs": [
    {
     "data": {
      "text/plain": [
       "28"
      ]
     },
     "execution_count": 69,
     "metadata": {},
     "output_type": "execute_result"
    }
   ],
   "source": [
    "m = 3\n",
    "n = 7\n",
    "solve(m, n)"
   ]
  },
  {
   "cell_type": "markdown",
   "id": "30a9256a-ab02-430b-9b8f-7d3648067a09",
   "metadata": {},
   "source": [
    "* 时间复杂度：$O(m*n)$\n",
    "* 空间复杂度：$O(n)$"
   ]
  },
  {
   "cell_type": "markdown",
   "id": "c192caf2-7f24-477c-b572-8201e079b9d2",
   "metadata": {},
   "source": [
    "#### 数论方法"
   ]
  },
  {
   "cell_type": "markdown",
   "id": "f2180368-07a3-479c-85c4-164aad46aaca",
   "metadata": {},
   "source": [
    "* 一共m，n的话，无论怎么走，走到终点都需要m+n-2步。在这m+n-2步中，一定有m-1步是向下走的。可以转化为，给m+n-2个不同的数，随便取m-1个数，有几种取法。也就是$C_{m+n-2}^{m-1}$。"
   ]
  },
  {
   "cell_type": "code",
   "execution_count": 72,
   "id": "944f072f-efb0-4ae4-bb41-5a21c8860f27",
   "metadata": {},
   "outputs": [],
   "source": [
    "def solve(m,n):\n",
    "    numerator = 1 # 分子\n",
    "    denominator = m - 1 # 分母\n",
    "    count = m - 1\n",
    "    t = m + n - 2\n",
    "    while count:\n",
    "        count -= 1\n",
    "        numerator *= t\n",
    "        t -= 1\n",
    "        while denominator != 0 and numerator % denominator == 0:\n",
    "            numerator //= denominator\n",
    "            denominator -= 1\n",
    "    return numerator"
   ]
  },
  {
   "cell_type": "code",
   "execution_count": 73,
   "id": "a396d892-8447-4732-aefd-b37fae48c123",
   "metadata": {},
   "outputs": [
    {
     "data": {
      "text/plain": [
       "28"
      ]
     },
     "execution_count": 73,
     "metadata": {},
     "output_type": "execute_result"
    }
   ],
   "source": [
    "m = 3\n",
    "n = 7\n",
    "solve(m,n)"
   ]
  },
  {
   "cell_type": "markdown",
   "id": "8069d775-397e-4cac-8dd2-2866e2425893",
   "metadata": {},
   "source": [
    "* 时间复杂度：$O(m)$\n",
    "* 空间复杂度：$O(1)$"
   ]
  }
 ],
 "metadata": {
  "kernelspec": {
   "display_name": "Python 3",
   "language": "python",
   "name": "python3"
  },
  "language_info": {
   "codemirror_mode": {
    "name": "ipython",
    "version": 3
   },
   "file_extension": ".py",
   "mimetype": "text/x-python",
   "name": "python",
   "nbconvert_exporter": "python",
   "pygments_lexer": "ipython3",
   "version": "3.9.1"
  }
 },
 "nbformat": 4,
 "nbformat_minor": 5
}
