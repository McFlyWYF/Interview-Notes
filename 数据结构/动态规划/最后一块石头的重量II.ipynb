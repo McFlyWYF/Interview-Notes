{
 "cells": [
  {
   "cell_type": "markdown",
   "id": "6364ba9f-82b4-4c7e-a487-9369f13036a3",
   "metadata": {},
   "source": [
    "# 最后一块石头的重量II"
   ]
  },
  {
   "cell_type": "markdown",
   "id": "8feaaada-5a01-4dda-8de6-720556685220",
   "metadata": {},
   "source": [
    "### 有一堆石头，每块石头的重量都是正整数。每一回合，从中选出任意两块石头，然后将它们一起粉碎。假设石头的重量分别为x和y，且x<=y。那么粉碎的可能结果如下："
   ]
  },
  {
   "cell_type": "markdown",
   "id": "6051da2b-b3cc-4408-b5c1-bf0a639d7376",
   "metadata": {},
   "source": [
    "* 如果x==y，那么两块石头都会被完全粉碎。\n",
    "* 如果x!=y，那么重量为x的石头将会完全粉碎，而重量为y的石头新重量为y-x。"
   ]
  },
  {
   "cell_type": "markdown",
   "id": "89d75d80-acd2-424d-8051-dec0cd0850a9",
   "metadata": {},
   "source": [
    "### 最后，最多只会剩下一块石头。返回此石头最小的可能重量。如果没有石头剩下，就返回0."
   ]
  },
  {
   "cell_type": "markdown",
   "id": "21e0fa24-ceea-4a99-bdac-09de0e80c2f3",
   "metadata": {},
   "source": [
    "* 例如：\n",
    "    * 输入：[2,7,4,1,8,1]\n",
    "    * 输出：1"
   ]
  },
  {
   "cell_type": "markdown",
   "id": "0b78cc8f-64a0-4389-a233-0eeb545f7cf5",
   "metadata": {},
   "source": [
    "* 尽量让石头分成重量相同的两堆，相撞之后剩下的石头最小，这样就转化为01背包问题。\n",
    "    * 石头重量=物品重量\n",
    "    * 石头重量=物品价值\n",
    "    * 石头重量的一半=背包容量\n",
    "    * 每次取一个"
   ]
  },
  {
   "cell_type": "code",
   "execution_count": 21,
   "id": "4ccc76cb-80ab-4124-b19c-ea8925b5404a",
   "metadata": {},
   "outputs": [],
   "source": [
    "def solve(nums):\n",
    "    if sum(nums) % 2 == 0:\n",
    "        bagweight = sum(nums) // 2\n",
    "    else:\n",
    "        bagweight = sum(nums) // 2 + 1\n",
    "    print(bagweight)\n",
    "    # 定义，初始化    \n",
    "    dp = [0 for _ in range(bagweight + 1)]\n",
    "    # 遍历\n",
    "    for i in range(len(nums)):\n",
    "        for j in range(bagweight, nums[i] - 1, -1):\n",
    "            dp[j] = max(dp[j], dp[j - nums[i]] + nums[i])\n",
    "            \n",
    "    print(dp)\n",
    "    return abs(sum(nums) - dp[-1] - dp[-1])  # 用总重量减去背包最大重量等于另一堆的重量，再两者相减，得到差"
   ]
  },
  {
   "cell_type": "code",
   "execution_count": 22,
   "id": "022ed3c1-dc64-41cb-a864-cc4cab460480",
   "metadata": {},
   "outputs": [
    {
     "name": "stdout",
     "output_type": "stream",
     "text": [
      "76\n",
      "[0, 0, 0, 0, 0, 0, 0, 0, 0, 0, 0, 0, 0, 0, 0, 0, 0, 0, 0, 0, 0, 21, 21, 21, 21, 21, 26, 26, 26, 26, 26, 31, 31, 33, 33, 33, 33, 33, 33, 33, 40, 40, 40, 40, 40, 40, 40, 47, 47, 47, 47, 47, 52, 52, 54, 54, 54, 57, 57, 59, 59, 61, 61, 61, 64, 64, 66, 66, 66, 66, 66, 71, 71, 73, 73, 73, 73]\n"
     ]
    },
    {
     "data": {
      "text/plain": [
       "5"
      ]
     },
     "execution_count": 22,
     "metadata": {},
     "output_type": "execute_result"
    }
   ],
   "source": [
    "nums = [31,26,33,21,40]\n",
    "solve(nums)"
   ]
  },
  {
   "cell_type": "markdown",
   "id": "c61d74ed-7fb2-44a9-b59b-01c8db89e97f",
   "metadata": {},
   "source": [
    "* 时间复杂度：$O(m*n)$，m是石头总重量，n是石头块数\n",
    "* 空间复杂度：$O(m)$"
   ]
  }
 ],
 "metadata": {
  "kernelspec": {
   "display_name": "Python 3",
   "language": "python",
   "name": "python3"
  },
  "language_info": {
   "codemirror_mode": {
    "name": "ipython",
    "version": 3
   },
   "file_extension": ".py",
   "mimetype": "text/x-python",
   "name": "python",
   "nbconvert_exporter": "python",
   "pygments_lexer": "ipython3",
   "version": "3.9.1"
  }
 },
 "nbformat": 4,
 "nbformat_minor": 5
}
