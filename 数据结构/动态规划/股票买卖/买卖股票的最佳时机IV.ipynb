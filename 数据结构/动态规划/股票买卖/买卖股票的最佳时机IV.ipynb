{
 "cells": [
  {
   "cell_type": "markdown",
   "id": "000ce13b-da7a-439e-b982-56485559b5de",
   "metadata": {},
   "source": [
    "# 买卖股票的最佳时机IV"
   ]
  },
  {
   "cell_type": "markdown",
   "id": "27bde937-e559-486a-b9a7-ba467d483550",
   "metadata": {},
   "source": [
    "### 给定一个整数数组prices，它的第i个元素prices[i]是一支给定的股票在第i天的价格。"
   ]
  },
  {
   "cell_type": "markdown",
   "id": "79d2760b-736f-4328-bc03-5cc660ddad15",
   "metadata": {},
   "source": [
    "* 设计一个算法来计算你所能获取的最大利润。你最多可以完成k笔交易。"
   ]
  },
  {
   "cell_type": "markdown",
   "id": "18ff30db-4d9c-46e1-a1f9-1c03774fd293",
   "metadata": {},
   "source": [
    "* 例如：\n",
    "    * 输入：k=2, prices=[2,4,1]\n",
    "    * 输出：2"
   ]
  },
  {
   "cell_type": "markdown",
   "id": "53c98e92-55ca-4be7-9156-631f743a069d",
   "metadata": {},
   "source": [
    "##### 定义dp数组\n",
    "* dp[i][j]：第i天的状态为j，所剩下的最大现金是dp[i][j]。\n",
    "\n",
    "##### 确定递推公式\n",
    "* dp[i][0]：没有操作\n",
    "* dp[i][1]：买入，dp[i][1] = max(dp[i - 1][1], dp[i - 1][0] - prices[i])\n",
    "* dp[i][2]：卖出，dp[i][2] = max(dp[i - 1][2], dp[i - 1][1] + prices[i])\n",
    "* ......\n",
    "\n",
    "##### 初始化\n",
    "* dp[0][0] = 0\n",
    "* dp[0][1] = -prices[0]\n",
    "* dp[0][2] = 0"
   ]
  },
  {
   "cell_type": "code",
   "execution_count": 34,
   "id": "9c3e2d16-5f9f-4281-b75b-5b477454a14b",
   "metadata": {},
   "outputs": [],
   "source": [
    "def solve(k, prices):\n",
    "    if len(prices) == 0 or len(prices) == 1:\n",
    "        return 0\n",
    "    # 定义\n",
    "    dp = [[0 for _ in range(k * 2 + 1)] for _ in range(len(prices))]\n",
    "    # 初始化\n",
    "    for i in range(1, 2 * k + 1, 2):\n",
    "        dp[0][i] = -prices[0]\n",
    "    # 遍历\n",
    "    for i in range(1, len(prices)):\n",
    "        for j in range(0, 2 * k - 1, 2):\n",
    "            dp[i][j + 1] = max(dp[i-1][j + 1], dp[i-1][j] - prices[i])\n",
    "            dp[i][j + 2] = max(dp[i-1][j + 2], dp[i-1][j + 1] + prices[i])\n",
    "    \n",
    "    print(dp)\n",
    "    return dp[-1][2 * k]"
   ]
  },
  {
   "cell_type": "code",
   "execution_count": 35,
   "id": "ae485d32-198d-4111-b712-a1b4e7d48dd6",
   "metadata": {},
   "outputs": [
    {
     "name": "stdout",
     "output_type": "stream",
     "text": [
      "[[0, -3, 0, -3, 0], [0, -2, 0, -2, 0], [0, -2, 4, -2, 4], [0, -2, 4, -1, 4], [0, 0, 4, 4, 4], [0, 0, 4, 4, 7]]\n"
     ]
    },
    {
     "data": {
      "text/plain": [
       "7"
      ]
     },
     "execution_count": 35,
     "metadata": {},
     "output_type": "execute_result"
    }
   ],
   "source": [
    "k = 2\n",
    "prices = [3,2,6,5,0,3]\n",
    "solve(k, prices)"
   ]
  },
  {
   "cell_type": "markdown",
   "id": "571e5e20-3a9a-40f8-a026-43646fa46352",
   "metadata": {},
   "source": [
    "和买卖股票的最佳时机III类似，只不过最多两次变为k次。"
   ]
  }
 ],
 "metadata": {
  "kernelspec": {
   "display_name": "Python 3",
   "language": "python",
   "name": "python3"
  },
  "language_info": {
   "codemirror_mode": {
    "name": "ipython",
    "version": 3
   },
   "file_extension": ".py",
   "mimetype": "text/x-python",
   "name": "python",
   "nbconvert_exporter": "python",
   "pygments_lexer": "ipython3",
   "version": "3.9.1"
  }
 },
 "nbformat": 4,
 "nbformat_minor": 5
}
