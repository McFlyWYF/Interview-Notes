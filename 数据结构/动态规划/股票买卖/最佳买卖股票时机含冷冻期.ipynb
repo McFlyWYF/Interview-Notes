{
 "cells": [
  {
   "cell_type": "markdown",
   "id": "d8de8844-108a-4f2b-982f-dfcc8079189e",
   "metadata": {},
   "source": [
    "# 最佳买卖股票时机含冷冻期"
   ]
  },
  {
   "cell_type": "markdown",
   "id": "83d7d5e1-555d-4915-9abb-b29d8f391b7a",
   "metadata": {},
   "source": [
    "* 给定一个整数数组，其中第i个元素代表了第i天的股票价格。设计一个算法计算出最大利润。再满足以下约束条件下，你可以尽可能地完成更多的交易。\n",
    "    * 你不能同时参与多笔交易。\n",
    "    * 卖出股票后，无法在第二天买入股票。"
   ]
  },
  {
   "cell_type": "markdown",
   "id": "f55c722a-a493-4246-840d-c775c27a9239",
   "metadata": {},
   "source": [
    "* 例如：\n",
    "    * 输入：[1,2,3,0,2]\n",
    "    * 输出：3"
   ]
  },
  {
   "cell_type": "markdown",
   "id": "05dd78af-e075-4aa1-8ff7-5a81320649b1",
   "metadata": {},
   "source": [
    "本题在买卖股票的最佳时机II的基础上加上了一个冷冻期，也就是一共3个状态，持有股票，不持有股票，冷冻期。"
   ]
  },
  {
   "cell_type": "markdown",
   "id": "bc30b166-1b55-4c4d-a0b8-791cecf29b5d",
   "metadata": {},
   "source": [
    "##### 确定dp数组\n",
    "* dp[i][0]：第i天持有股票所得现金\n",
    "    * 第i - 1天持有，dp[i][0] = dp[i - 1][0]\n",
    "    * 第i - 1天不持有，第i天买入，dp[i][0] = dp[i - 1][1] - prices[i]\n",
    "    * `dp[i][0] = max(dp[i - 1][0], dp[i - 1][1] - prices[i])`\n",
    "* dp[i][1]：第i天不持有股票所得现金\n",
    "    * 第i - 1天不持有，dp[i][1] = dp[i - 1][1]\n",
    "    * 第i - 1天卖掉，在冷冻期，dp[i][1] = dp[i - 1][2]\n",
    "    * `dp[i][1] = max(dp[i - 1][1], dp[i - 1][2])`\n",
    "* dp[i][2]：第i天冷冻期所得现金\n",
    "    * 第i - 1天卖出股票\n",
    "    * `dp[i][2] = dp[i - 1][0] + prices[i]`"
   ]
  },
  {
   "cell_type": "markdown",
   "id": "ab7fa15c-a3c0-42da-abe1-9f0dd404b1e3",
   "metadata": {},
   "source": [
    "##### 初始化\n",
    "* dp[0][0] = -prices[0]\n",
    "* dp[0][1] = 0\n",
    "* dp[0][2] = 0"
   ]
  },
  {
   "cell_type": "code",
   "execution_count": 11,
   "id": "3d077a6a-2c4e-4721-ad50-a3d365a1dab9",
   "metadata": {},
   "outputs": [],
   "source": [
    "def solve(prices):\n",
    "    dp = [[0 for _ in range(3)] for _ in range(len(prices))]\n",
    "    dp[0][0] = -prices[0]\n",
    "    \n",
    "    for i in range(1, len(prices)):\n",
    "        dp[i][0] = max(dp[i - 1][0], dp[i - 1][1] - prices[i])\n",
    "        dp[i][1] = max(dp[i - 1][1], dp[i - 1][2])\n",
    "        dp[i][2] = dp[i - 1][0] + prices[i]\n",
    "    print(dp)\n",
    "    return max(dp[-1][1], dp[-1][2])"
   ]
  },
  {
   "cell_type": "code",
   "execution_count": 12,
   "id": "f9f935a9-3f84-4303-8298-07a93beda662",
   "metadata": {},
   "outputs": [
    {
     "name": "stdout",
     "output_type": "stream",
     "text": [
      "[[-1, 0, 0], [-1, 0, 1], [-1, 1, 2], [1, 2, -1], [1, 2, 3]]\n"
     ]
    },
    {
     "data": {
      "text/plain": [
       "3"
      ]
     },
     "execution_count": 12,
     "metadata": {},
     "output_type": "execute_result"
    }
   ],
   "source": [
    "prices = [1,2,3,0,2]\n",
    "solve(prices)"
   ]
  },
  {
   "cell_type": "markdown",
   "id": "a0c96600-99fd-4896-b56b-9225015437d9",
   "metadata": {},
   "source": [
    "* 时间复杂度：$O(n)$\n",
    "* 空间复杂度：$O(1)$"
   ]
  },
  {
   "cell_type": "code",
   "execution_count": null,
   "id": "b36d0eeb-a94e-4b44-88cc-72eddb4f5d14",
   "metadata": {},
   "outputs": [],
   "source": []
  }
 ],
 "metadata": {
  "kernelspec": {
   "display_name": "Python 3",
   "language": "python",
   "name": "python3"
  },
  "language_info": {
   "codemirror_mode": {
    "name": "ipython",
    "version": 3
   },
   "file_extension": ".py",
   "mimetype": "text/x-python",
   "name": "python",
   "nbconvert_exporter": "python",
   "pygments_lexer": "ipython3",
   "version": "3.9.1"
  }
 },
 "nbformat": 4,
 "nbformat_minor": 5
}
