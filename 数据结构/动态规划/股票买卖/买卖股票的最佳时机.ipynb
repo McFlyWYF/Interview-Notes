{
 "cells": [
  {
   "cell_type": "markdown",
   "metadata": {},
   "source": [
    "# 买卖股票的最佳时机"
   ]
  },
  {
   "cell_type": "markdown",
   "metadata": {},
   "source": [
    "### 给定一个数组prices，它的第i个元素prices[i]表示一支给定股票第i天的价格。你只能选择某一天买入这只股，并选择在未来的某一个不同的日子卖出该股票。设计一个算法来实现所能获取的最大利润。"
   ]
  },
  {
   "cell_type": "markdown",
   "metadata": {},
   "source": [
    "* 返回你可以从这笔交易中获取的最大利润。如果你不能获取任何利润，返回0."
   ]
  },
  {
   "cell_type": "markdown",
   "metadata": {},
   "source": [
    "* 例如：\n",
    "    * 输入：[7,1,5,3,6,4]\n",
    "    * 输出：5"
   ]
  },
  {
   "cell_type": "markdown",
   "metadata": {},
   "source": [
    "* dp[i][0]：第i天持有股票所得现金。\n",
    "* dp[i][1]：第i天不持有股票所得现金。"
   ]
  },
  {
   "cell_type": "markdown",
   "metadata": {},
   "source": [
    "##### 递推公式\n",
    "* 如果第i天持有股票：dp[i][0]\n",
    "    * 第i-1天就持有股票，就保持现状，所得现金就是昨天持有股票的所得现金：dp[i - 1][0]。\n",
    "    * 第i天买入股票，所得现金就是买入今天的股票后所得现金：-prices[i]。\n",
    "    * 取最大：`dp[i][0] = max(dp[i -1][0], -prices[i])`\n",
    "* 如果第i天不持有股票：dp[i][1]\n",
    "    * 第i-1天就不持有股票，保持现状，所得现金是昨天不持有股票的所得现金：dp[i - 1][1]。\n",
    "    * 第i天卖出股票，所得现金就是按照今天股票价格卖出后所得现金：prices[i] + dp[i - 1][0]\n",
    "    * 取最大：`dp[i][1] = max(dp[i - 1][1], dp[i - 1][1] + prices[i])`"
   ]
  },
  {
   "cell_type": "code",
   "execution_count": 17,
   "metadata": {},
   "outputs": [],
   "source": [
    "def solve(prices):\n",
    "    dp = [[0 for _ in range(2)] for _ in range(len(prices))]\n",
    "    dp[0][0] = -prices[0]\n",
    "    dp[0][1] = 0\n",
    "    for i in range(1, len(prices)):\n",
    "        dp[i][0] = max(dp[i -1][0], -prices[i])\n",
    "        dp[i][1] = max(dp[i - 1][1], dp[i - 1][0] + prices[i])\n",
    "    print(dp)\n",
    "    return dp[-1][1]"
   ]
  },
  {
   "cell_type": "code",
   "execution_count": 18,
   "metadata": {},
   "outputs": [
    {
     "name": "stdout",
     "output_type": "stream",
     "text": [
      "[[-7, 0], [-1, 0], [-1, 4], [-1, 4], [-1, 5], [-1, 5]]\n"
     ]
    },
    {
     "data": {
      "text/plain": [
       "5"
      ]
     },
     "execution_count": 18,
     "metadata": {},
     "output_type": "execute_result"
    }
   ],
   "source": [
    "nums = [7,1,5,3,6,4]\n",
    "solve(nums)"
   ]
  },
  {
   "cell_type": "markdown",
   "metadata": {},
   "source": [
    "* 时间复杂度：$O(n)$\n",
    "* 空间复杂度：$O(n)$"
   ]
  },
  {
   "cell_type": "markdown",
   "metadata": {},
   "source": [
    "##### 滚动数组"
   ]
  },
  {
   "cell_type": "markdown",
   "metadata": {},
   "source": [
    "* 只需要记录当前天和前一天的dp状态就可以了"
   ]
  },
  {
   "cell_type": "code",
   "execution_count": 12,
   "metadata": {},
   "outputs": [],
   "source": [
    "def solve(prices):\n",
    "    dp = [[0 for _ in range(2)] for _ in range(2)]\n",
    "    dp[0][0] = -prices[0]\n",
    "    dp[0][1] = 0\n",
    "    \n",
    "    for i in range(1, len(prices)):\n",
    "        dp[i % 2][0] = max(dp[(i - 1) % 2][0], -prices[i])\n",
    "        dp[i % 2][1] = max(dp[(i - 1) % 2][1], dp[(i - 1) % 2][0] + prices[i])\n",
    "    return dp[(len(prices) - 1) % 2][1]"
   ]
  },
  {
   "cell_type": "code",
   "execution_count": 13,
   "metadata": {},
   "outputs": [
    {
     "data": {
      "text/plain": [
       "5"
      ]
     },
     "execution_count": 13,
     "metadata": {},
     "output_type": "execute_result"
    }
   ],
   "source": [
    "prices = [7,1,5,3,6,4]\n",
    "solve(prices)"
   ]
  },
  {
   "cell_type": "markdown",
   "metadata": {},
   "source": [
    "* 时间复杂度：$O(n)$\n",
    "* 空间复杂度：$O(1)$"
   ]
  },
  {
   "cell_type": "markdown",
   "metadata": {},
   "source": [
    "#### 贪心算法\n",
    "* 取最左最小值，最右最大值，得到的差值就是最大利润。"
   ]
  }
 ],
 "metadata": {
  "kernelspec": {
   "display_name": "Python 3",
   "language": "python",
   "name": "python3"
  },
  "language_info": {
   "codemirror_mode": {
    "name": "ipython",
    "version": 3
   },
   "file_extension": ".py",
   "mimetype": "text/x-python",
   "name": "python",
   "nbconvert_exporter": "python",
   "pygments_lexer": "ipython3",
   "version": "3.6.5"
  }
 },
 "nbformat": 4,
 "nbformat_minor": 5
}
