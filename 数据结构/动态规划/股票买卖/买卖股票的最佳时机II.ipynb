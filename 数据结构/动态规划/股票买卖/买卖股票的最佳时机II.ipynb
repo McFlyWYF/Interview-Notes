{
 "cells": [
  {
   "cell_type": "markdown",
   "id": "fcb43567-bb76-4087-ba25-3b481daf74b2",
   "metadata": {},
   "source": [
    "# 买卖股票的最佳时机II"
   ]
  },
  {
   "cell_type": "markdown",
   "id": "34a7d98f-dc83-4803-88c3-3d7d1a007d9b",
   "metadata": {},
   "source": [
    "### 给定一个数组，它的第i个元素是一支给定股票第i天的价格。"
   ]
  },
  {
   "cell_type": "markdown",
   "id": "f3f8a6ba-d4af-455a-b49c-e50b69b3ae61",
   "metadata": {},
   "source": [
    "* 设计一个算法来计算你所能获取的最大利润。你可以尽可能地完成更多的交易。"
   ]
  },
  {
   "cell_type": "markdown",
   "id": "d00295b8-5c6c-4112-afb2-c79747b19f2e",
   "metadata": {},
   "source": [
    "* 例如：\n",
    "    * 输入：[7,1,5,3,6,4]\n",
    "    * 输出：7"
   ]
  },
  {
   "cell_type": "markdown",
   "id": "8d912b60-7d76-4bfe-a936-cf3f18a7c611",
   "metadata": {},
   "source": [
    "* dp[i][0]：第i天持有股票所得现金\n",
    "    * 第i-1天持有股票`dp[i - 1][0]`\n",
    "    * 第i天买入股票，所得现金是昨天不持有股票所得现金减去今天的股票价格`dp[i-1][1]-prices[i]`，这里是因为股票可以多次买卖，\n",
    "* dp[i][1]：第i天不持有股票所得现金\n",
    "    * 第i-1天不持有`dp[i - 1][1]`\n",
    "    * 第i-1天持有，第i天卖掉，`prices[i] + dp[i-1][0]`"
   ]
  },
  {
   "cell_type": "code",
   "execution_count": 23,
   "id": "870b13e6-4ae4-45b3-b725-d0349541d19d",
   "metadata": {},
   "outputs": [],
   "source": [
    "def solve(prices):\n",
    "    dp = [[0 for _ in range(2)] for _ in range(len(prices))]\n",
    "    dp[0][0] = -prices[0]\n",
    "    dp[0][1] = 0\n",
    "    for i in range(1, len(prices)):\n",
    "        dp[i][0] = max(dp[i - 1][0],dp[i - 1][1] -prices[i])  # 区别\n",
    "        dp[i][1] = max(dp[i - 1][1], dp[i - 1][0] + prices[i])\n",
    "    print(dp)\n",
    "    return dp[-1][1]"
   ]
  },
  {
   "cell_type": "code",
   "execution_count": 21,
   "id": "2c20c3a4-6f52-4084-8bf0-4f23384c1904",
   "metadata": {},
   "outputs": [
    {
     "name": "stdout",
     "output_type": "stream",
     "text": [
      "[[-7, 0], [-1, 0], [-1, 4], [1, 4], [1, 7], [3, 7]]\n"
     ]
    },
    {
     "data": {
      "text/plain": [
       "7"
      ]
     },
     "execution_count": 21,
     "metadata": {},
     "output_type": "execute_result"
    }
   ],
   "source": [
    "prices = [7,1,5,3,6,4]\n",
    "solve(prices)"
   ]
  },
  {
   "cell_type": "markdown",
   "id": "81985520-61b5-4a06-a4a3-0a23b225ab2d",
   "metadata": {},
   "source": [
    "* 时间复杂度：$O(n)$\n",
    "* 空间复杂度：$O(n)$"
   ]
  }
 ],
 "metadata": {
  "kernelspec": {
   "display_name": "Python 3",
   "language": "python",
   "name": "python3"
  },
  "language_info": {
   "codemirror_mode": {
    "name": "ipython",
    "version": 3
   },
   "file_extension": ".py",
   "mimetype": "text/x-python",
   "name": "python",
   "nbconvert_exporter": "python",
   "pygments_lexer": "ipython3",
   "version": "3.9.1"
  }
 },
 "nbformat": 4,
 "nbformat_minor": 5
}
