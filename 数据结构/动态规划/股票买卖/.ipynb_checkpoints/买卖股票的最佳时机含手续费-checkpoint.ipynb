{
 "cells": [
  {
   "cell_type": "markdown",
   "id": "f0a4d4db-c95c-469d-ae30-92b6fb207417",
   "metadata": {},
   "source": [
    "# 买卖股票的最佳时机含手续费"
   ]
  },
  {
   "cell_type": "markdown",
   "id": "f2415321-cdca-4363-81e2-a14286c653a9",
   "metadata": {},
   "source": [
    "* 给定一个整数数组prices，其中第i个元素代表了第i天的股票价格，非负整数fee代表了交易股票的手续费用。可以无限次的完成交易，但是每笔交易都需要付手续费。如果你已经购买了一个股票，在卖出之前你就不能再继续购买股票了。返回获得利润的最大值。"
   ]
  },
  {
   "cell_type": "markdown",
   "id": "768edcc5-afab-4fd4-b920-1733a05dff97",
   "metadata": {},
   "source": [
    "* 例如：\n",
    "    * 输入：prices = [1,3,2,8,4,9]，fee = 2\n",
    "    * 输出：8"
   ]
  },
  {
   "cell_type": "code",
   "execution_count": 4,
   "id": "4b4a8cd5-6aa3-4083-b757-a2a1ac1f88a4",
   "metadata": {},
   "outputs": [],
   "source": [
    "def solve(fee, prices):\n",
    "    dp = [[0 for _ in range(2)] for _ in range(len(prices))]\n",
    "    dp[0][0] = -prices[0]\n",
    "    dp[0][1] = 0\n",
    "    for i in range(1, len(prices)):\n",
    "        dp[i][0] = max(dp[i - 1][0],dp[i - 1][1] - prices[i])\n",
    "        dp[i][1] = max(dp[i - 1][1], dp[i - 1][0] + prices[i] - fee)  # 区别，卖出的同时减去手续费\n",
    "    print(dp)\n",
    "    return dp[-1][1]"
   ]
  },
  {
   "cell_type": "code",
   "execution_count": 5,
   "id": "07448643-6787-4dd1-85d2-cc0a86d5c21f",
   "metadata": {},
   "outputs": [
    {
     "name": "stdout",
     "output_type": "stream",
     "text": [
      "[[-1, 0], [-1, 0], [-1, 0], [-1, 5], [1, 5], [1, 8]]\n"
     ]
    },
    {
     "data": {
      "text/plain": [
       "8"
      ]
     },
     "execution_count": 5,
     "metadata": {},
     "output_type": "execute_result"
    }
   ],
   "source": [
    "fee = 2\n",
    "prices = [1,3,2,8,4,9]\n",
    "solve(fee, prices)"
   ]
  },
  {
   "cell_type": "markdown",
   "id": "3529504e-88f8-4466-8ab1-c824cbd3de75",
   "metadata": {},
   "source": [
    "* 时间复杂度：$O(n)$\n",
    "* 空间复杂度：$O(n)$"
   ]
  }
 ],
 "metadata": {
  "kernelspec": {
   "display_name": "Python 3",
   "language": "python",
   "name": "python3"
  },
  "language_info": {
   "codemirror_mode": {
    "name": "ipython",
    "version": 3
   },
   "file_extension": ".py",
   "mimetype": "text/x-python",
   "name": "python",
   "nbconvert_exporter": "python",
   "pygments_lexer": "ipython3",
   "version": "3.9.1"
  }
 },
 "nbformat": 4,
 "nbformat_minor": 5
}
