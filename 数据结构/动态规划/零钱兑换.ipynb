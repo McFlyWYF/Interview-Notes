{
 "cells": [
  {
   "cell_type": "markdown",
   "id": "171b3be6-6b04-4f2a-92d4-7814d6b37610",
   "metadata": {},
   "source": [
    "# 零钱兑换"
   ]
  },
  {
   "cell_type": "markdown",
   "id": "c98b6d51-128d-4542-bb6b-986d62b01b55",
   "metadata": {},
   "source": [
    "### 给定不同面额的硬币coins和一个总金额amount。编写一个函数来计算可以凑成总金额所需的最少的硬币个数。如果没有任何一种硬不组合能组成总金额，返回-1。"
   ]
  },
  {
   "cell_type": "markdown",
   "id": "c8692829-ec19-46dc-b09b-d6f238d28810",
   "metadata": {},
   "source": [
    "* 例如：\n",
    "    * 输入：coins=[1,2,5],amount=11\n",
    "    * 输出：3"
   ]
  },
  {
   "cell_type": "code",
   "execution_count": 27,
   "id": "48576cc4-9c04-4c3b-a247-c6401c76daac",
   "metadata": {},
   "outputs": [],
   "source": [
    "import sys\n",
    "def solve(coins, amount):\n",
    "    # dp[j]凑成金额j所需的最少硬币个数是dp[j]\n",
    "    # dp[j]的非0下标初始化为最大值，，否则会被初始值覆盖\n",
    "    dp = [sys.maxsize for _ in range(amount + 1)]\n",
    "    dp[0] = 0\n",
    "    # 遍历顺序两者都可以\n",
    "    for i in range(len(coins)):\n",
    "        for j in range(coins[i], amount + 1):\n",
    "            if dp[j - coins[i]] != sys.maxsize:\n",
    "                dp[j] = min(dp[j], dp[j - coins[i]] + 1)\n",
    "    print(dp)\n",
    "    if dp[-1] == sys.maxsize:\n",
    "        return -1\n",
    "    return dp[-1]"
   ]
  },
  {
   "cell_type": "code",
   "execution_count": 29,
   "id": "127397b0-ac0d-49a1-a6ad-9926b913c0cb",
   "metadata": {},
   "outputs": [
    {
     "name": "stdout",
     "output_type": "stream",
     "text": [
      "[0, 1, 1, 2, 2, 1, 2, 2, 3, 3, 2, 3]\n"
     ]
    },
    {
     "data": {
      "text/plain": [
       "3"
      ]
     },
     "execution_count": 29,
     "metadata": {},
     "output_type": "execute_result"
    }
   ],
   "source": [
    "coins = [1,2,5]\n",
    "amount = 11\n",
    "solve(coins, amount)"
   ]
  }
 ],
 "metadata": {
  "kernelspec": {
   "display_name": "Python 3",
   "language": "python",
   "name": "python3"
  },
  "language_info": {
   "codemirror_mode": {
    "name": "ipython",
    "version": 3
   },
   "file_extension": ".py",
   "mimetype": "text/x-python",
   "name": "python",
   "nbconvert_exporter": "python",
   "pygments_lexer": "ipython3",
   "version": "3.9.1"
  }
 },
 "nbformat": 4,
 "nbformat_minor": 5
}
