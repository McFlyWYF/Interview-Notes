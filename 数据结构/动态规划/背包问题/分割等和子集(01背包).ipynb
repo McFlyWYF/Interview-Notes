{
 "cells": [
  {
   "cell_type": "markdown",
   "id": "8eeef30a-fe66-474d-a605-605895d9c7a4",
   "metadata": {},
   "source": [
    "# 分割等和子集（01背包）"
   ]
  },
  {
   "cell_type": "markdown",
   "id": "61be3aba-8d71-4487-ac60-ae00c7912992",
   "metadata": {},
   "source": [
    "### 给定一个只包含正整数的非空数组。是否可以将这个数组分割成两个子集，使得两个子集的元素和相等。"
   ]
  },
  {
   "cell_type": "markdown",
   "id": "5d45e7da-6fbc-4e42-b758-974227c28dc2",
   "metadata": {},
   "source": [
    "* 例如：\n",
    "    * 输入：[1,5,11,5]\n",
    "    * 输出：true"
   ]
  },
  {
   "cell_type": "markdown",
   "id": "006510e4-70d1-459b-9582-70f577205a77",
   "metadata": {},
   "source": [
    "* 子集和=背包容量\n",
    "* 元素数值=物品重量\n",
    "* 元素数值=物品价值\n",
    "* 每个元素只能放入一次"
   ]
  },
  {
   "cell_type": "code",
   "execution_count": 22,
   "id": "94b170a0-0740-4395-b8ce-ad0c1fa04cf6",
   "metadata": {},
   "outputs": [],
   "source": [
    "def solve(nums):\n",
    "    if sum(nums) % 2 != 0:\n",
    "        return False\n",
    "    bagweight = sum(nums) // 2\n",
    "    # 定义dp数组，初始化\n",
    "    dp = [0 for _ in range(bagweight + 1)]  # 背包容量是i，最大凑成i的子集总和为dp[i]\n",
    "    # 遍历\n",
    "    for i in range(len(nums)):\n",
    "        for j in range(bagweight, nums[i] - 1, -1):\n",
    "            dp[j] = max(dp[j], dp[j - nums[i]] + nums[i])\n",
    "        print(dp)\n",
    "    if dp[-1] == bagweight:\n",
    "        return True\n",
    "    else:\n",
    "        return False"
   ]
  },
  {
   "cell_type": "code",
   "execution_count": 23,
   "id": "12745c7e-0369-4867-8ff5-9198948f889d",
   "metadata": {},
   "outputs": [
    {
     "name": "stdout",
     "output_type": "stream",
     "text": [
      "[0, 1, 1, 1, 1, 1, 1, 1, 1, 1, 1, 1]\n",
      "[0, 1, 1, 1, 1, 5, 6, 6, 6, 6, 6, 6]\n",
      "[0, 1, 1, 1, 1, 5, 6, 6, 6, 6, 6, 11]\n",
      "[0, 1, 1, 1, 1, 5, 6, 6, 6, 6, 10, 11]\n"
     ]
    },
    {
     "data": {
      "text/plain": [
       "True"
      ]
     },
     "execution_count": 23,
     "metadata": {},
     "output_type": "execute_result"
    }
   ],
   "source": [
    "nums = [1,5,11,5]\n",
    "solve(nums)"
   ]
  },
  {
   "cell_type": "markdown",
   "id": "294ec55c-fcab-410f-b1bc-0b611ef62dfe",
   "metadata": {},
   "source": [
    "* 时间复杂度：$O(n)$\n",
    "* 空间复杂度：$O(n)$"
   ]
  },
  {
   "cell_type": "code",
   "execution_count": 24,
   "id": "02a94d79-e8da-461b-9ef5-1c0ee6cc631b",
   "metadata": {},
   "outputs": [],
   "source": [
    "def solve(nums):\n",
    "    if sum(nums) % 2 != 0:\n",
    "        return False\n",
    "    bagweight = sum(nums) // 2\n",
    "    # 定义dp数组，初始化\n",
    "    dp = [False for _ in range(bagweight + 1)]\n",
    "    dp[0] = True\n",
    "    # 遍历\n",
    "    for i in range(len(nums)):\n",
    "        for j in range(bagweight, nums[i] - 1, -1):\n",
    "            dp[j] |= dp[j - nums[i]]\n",
    "        print(dp)\n",
    "    return dp[-1]"
   ]
  },
  {
   "cell_type": "code",
   "execution_count": 25,
   "id": "34a5e2f3-ba0a-4147-a706-def78bdcc9b0",
   "metadata": {},
   "outputs": [
    {
     "name": "stdout",
     "output_type": "stream",
     "text": [
      "[True, True, False, False, False, False, False, False, False, False, False, False]\n",
      "[True, True, False, False, False, True, True, False, False, False, False, False]\n",
      "[True, True, False, False, False, True, True, False, False, False, False, True]\n",
      "[True, True, False, False, False, True, True, False, False, False, True, True]\n"
     ]
    },
    {
     "data": {
      "text/plain": [
       "True"
      ]
     },
     "execution_count": 25,
     "metadata": {},
     "output_type": "execute_result"
    }
   ],
   "source": [
    "nums = [1,5,11,5]\n",
    "solve(nums)"
   ]
  }
 ],
 "metadata": {
  "kernelspec": {
   "display_name": "Python 3",
   "language": "python",
   "name": "python3"
  },
  "language_info": {
   "codemirror_mode": {
    "name": "ipython",
    "version": 3
   },
   "file_extension": ".py",
   "mimetype": "text/x-python",
   "name": "python",
   "nbconvert_exporter": "python",
   "pygments_lexer": "ipython3",
   "version": "3.9.1"
  }
 },
 "nbformat": 4,
 "nbformat_minor": 5
}
