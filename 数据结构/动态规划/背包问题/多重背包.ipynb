{
 "cells": [
  {
   "cell_type": "markdown",
   "id": "41df0737-363f-4cc7-88e2-282c5f7b82ef",
   "metadata": {},
   "source": [
    "# 多重背包"
   ]
  },
  {
   "cell_type": "markdown",
   "id": "e7178cb6-c76a-466d-9ba9-6a98a82df139",
   "metadata": {},
   "source": [
    "### 有N种物品和一个容量为V的背包。第i种物品最多有$M_i$件可用，每件耗费的空间是$C_i$，价值是$W_i$。求解将哪些物品装入背包可使这些物品耗费的空间总和不超过背包容量，且价值总和最大。"
   ]
  },
  {
   "cell_type": "markdown",
   "id": "373ced68-1ca8-4f70-82a3-758f92a6e0c5",
   "metadata": {},
   "source": [
    "* 多重背包和01背包是很类似的，把$M_i$件物品拆开，就是01背包了。"
   ]
  },
  {
   "cell_type": "markdown",
   "id": "e554938d-58c6-4a27-ac69-161195cf8141",
   "metadata": {},
   "source": [
    "* 例如：背包的最大重量为10。物品为\n",
    "|     | 重量  | 价值 | 数量 \n",
    "|  ----  | ----  | ----  | ---- |\n",
    "| 物品0  | 1 | 15  | 2 |\n",
    "| 物品1  | 3 | 20  | 3 |\n",
    "| 物品2  | 4 | 30  | 2 |"
   ]
  },
  {
   "cell_type": "markdown",
   "id": "deb50778-b61e-441a-8161-a85c565d457f",
   "metadata": {},
   "source": [
    "* 转换成等价形式：\n",
    "|     | 重量  | 价值 | 数量 \n",
    "|  ----  | ----  | ----  | ---- |\n",
    "| 物品0  | 1 | 15  | 1 |\n",
    "| 物品0  | 1 | 15  | 1 |\n",
    "| 物品1  | 3 | 20  | 1 |\n",
    "| 物品1  | 3 | 20  | 1 |\n",
    "| 物品1  | 3 | 20  | 1 |\n",
    "| 物品2  | 4 | 30  | 1 |\n",
    "| 物品2  | 4 | 30  | 1 |"
   ]
  },
  {
   "cell_type": "code",
   "execution_count": 9,
   "id": "9ebb53e6-06a6-4613-8020-881aa62982a0",
   "metadata": {},
   "outputs": [],
   "source": [
    "def solve(weight, value, count):\n",
    "    bagweight = 10\n",
    "    for i in range(len(count)):\n",
    "        while count[i] > 1:\n",
    "            weight.append(weight[i])\n",
    "            value.append(value[i])\n",
    "            count[i] -= 1\n",
    "    dp = [0 for _ in range(bagweight + 1)]\n",
    "    for i in range(len(weight)):\n",
    "        for j in range(bagweight, weight[i] - 1, -1):\n",
    "            dp[j] = max(dp[j], dp[j - weight[i]] + value[i])\n",
    "    print(dp)\n",
    "    return dp[-1]"
   ]
  },
  {
   "cell_type": "code",
   "execution_count": 10,
   "id": "4623c3dd-4400-4741-872c-a78cb33257f5",
   "metadata": {},
   "outputs": [
    {
     "name": "stdout",
     "output_type": "stream",
     "text": [
      "[0, 15, 30, 30, 35, 50, 60, 60, 70, 80, 90]\n"
     ]
    },
    {
     "data": {
      "text/plain": [
       "90"
      ]
     },
     "execution_count": 10,
     "metadata": {},
     "output_type": "execute_result"
    }
   ],
   "source": [
    "weight = [1, 3, 4]\n",
    "value = [15, 20, 30]\n",
    "count = [2, 3, 2]\n",
    "solve(weight, value, count)"
   ]
  },
  {
   "cell_type": "markdown",
   "id": "3f65e356-5463-40ca-adf8-db475371685d",
   "metadata": {},
   "source": [
    "* 时间复杂度：$O(m * n * k)$"
   ]
  }
 ],
 "metadata": {
  "kernelspec": {
   "display_name": "Python 3",
   "language": "python",
   "name": "python3"
  },
  "language_info": {
   "codemirror_mode": {
    "name": "ipython",
    "version": 3
   },
   "file_extension": ".py",
   "mimetype": "text/x-python",
   "name": "python",
   "nbconvert_exporter": "python",
   "pygments_lexer": "ipython3",
   "version": "3.9.1"
  }
 },
 "nbformat": 4,
 "nbformat_minor": 5
}
