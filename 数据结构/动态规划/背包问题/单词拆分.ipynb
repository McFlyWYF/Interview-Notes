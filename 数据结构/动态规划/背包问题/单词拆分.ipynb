{
 "cells": [
  {
   "cell_type": "markdown",
   "id": "d4b2b642-070b-4010-acaf-2e63feda5e70",
   "metadata": {},
   "source": [
    "# 单词拆分"
   ]
  },
  {
   "cell_type": "markdown",
   "id": "f8cf90ec-357e-4be1-82ef-63b0e2d9b07e",
   "metadata": {},
   "source": [
    "### 给定一个非空字符串s和一个包含非空单词的列表wordDict，判定s是否可以被空格拆分为一个或多个在字典中出现的单词。"
   ]
  },
  {
   "cell_type": "markdown",
   "id": "cdee6771-7de5-4150-b10c-bd0613875e14",
   "metadata": {},
   "source": [
    "* 例如：\n",
    "    * 输入：s = \"leetcode\", wordDict = [\"leet\", \"code\"]\n",
    "    * 输出：true"
   ]
  },
  {
   "cell_type": "markdown",
   "id": "de5e37e3-be15-4c14-9982-f103aabc48a8",
   "metadata": {},
   "source": [
    "* 物品=单词，背包=字符串s，单词能否组成字符串s，就是问物品能不能把背包装满。"
   ]
  },
  {
   "cell_type": "markdown",
   "id": "cf5584f2-f2fc-469b-a1d0-6269e22a77ac",
   "metadata": {},
   "source": [
    "* 确定dp数组\n",
    "    * dp[i]：字符串长度为i的话，dp[i]为true，表示可以拆分为一个或多个在字典中出现的单词。\n",
    "* 确定递推公式\n",
    "    * 如果dp[j]是true，且[j,i]这个区间的子串出现在字典里，那么dp[i]一定是true。\n",
    "    * 递推公式：if([j,i]这个区间的字串出现在字典里 and dp[j]=true),那么dp[i]=true。\n",
    "* 初始化\n",
    "    * dp[0]初始化为true，其他初始化为false。\n",
    "* 确定遍历顺序\n",
    "    * 先遍历字符串，再遍历字典。"
   ]
  },
  {
   "cell_type": "code",
   "execution_count": 25,
   "id": "62b47eaf-1f19-4a79-a3f5-848f41c5e8a0",
   "metadata": {},
   "outputs": [],
   "source": [
    "def solve(s, wordDict):\n",
    "    dp = [False for _ in range(len(s) + 1)]\n",
    "    dp[0] = True\n",
    "    for i in range(len(s) + 1):  # 遍历背包\n",
    "        for j in range(i):  # 遍历物品\n",
    "            if dp[j] and s[j:i] in wordDict:\n",
    "                dp[i] = True\n",
    "    print(dp)\n",
    "    return dp[-1]"
   ]
  },
  {
   "cell_type": "code",
   "execution_count": 26,
   "id": "5fb8379c-db86-469d-ae6a-f957db07b675",
   "metadata": {},
   "outputs": [
    {
     "name": "stdout",
     "output_type": "stream",
     "text": [
      "[True, False, False, False, True, False, False, False, True]\n"
     ]
    },
    {
     "data": {
      "text/plain": [
       "True"
      ]
     },
     "execution_count": 26,
     "metadata": {},
     "output_type": "execute_result"
    }
   ],
   "source": [
    "s = \"leetcode\"\n",
    "wordDict = [\"leet\", \"code\"]\n",
    "solve(s, wordDict)"
   ]
  },
  {
   "cell_type": "markdown",
   "id": "94941b83-f8e9-4b45-8034-6df505ba9730",
   "metadata": {},
   "source": [
    "* 时间复杂度：$O(len(s)^3)$\n",
    "* 空间复杂度：$O(len(s))$"
   ]
  }
 ],
 "metadata": {
  "kernelspec": {
   "display_name": "Python 3",
   "language": "python",
   "name": "python3"
  },
  "language_info": {
   "codemirror_mode": {
    "name": "ipython",
    "version": 3
   },
   "file_extension": ".py",
   "mimetype": "text/x-python",
   "name": "python",
   "nbconvert_exporter": "python",
   "pygments_lexer": "ipython3",
   "version": "3.9.1"
  }
 },
 "nbformat": 4,
 "nbformat_minor": 5
}
