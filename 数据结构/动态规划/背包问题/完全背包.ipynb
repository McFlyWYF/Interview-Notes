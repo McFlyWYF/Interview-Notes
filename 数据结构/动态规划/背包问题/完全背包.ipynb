{
 "cells": [
  {
   "cell_type": "markdown",
   "id": "5a0ed823-b49d-46b4-9102-eb55d43ef1a1",
   "metadata": {},
   "source": [
    "# 完全背包"
   ]
  },
  {
   "cell_type": "markdown",
   "id": "af0afd76-0f93-40a1-8bae-1b586176309e",
   "metadata": {},
   "source": [
    "### 有N件物品和一个最多能背重量为W的背包。第i件物品的重量是weight[i]，得到的价值是value[i]。每个物品都有无限个，求解将哪些物品装入背包里物品价值总和最大。"
   ]
  },
  {
   "cell_type": "markdown",
   "id": "78c293a4-aab1-4ead-84a1-df7c2896ce1d",
   "metadata": {},
   "source": [
    "* 背包的最大重量为4\n",
    "* 物品：\n",
    "|     | 重量  | 价值 \n",
    "|  ----  | ----  | ----  |\n",
    "| 物品0  | 1 | 15  |\n",
    "| 物品1  | 3 | 20  |\n",
    "| 物品2  | 4 | 30  |"
   ]
  },
  {
   "cell_type": "markdown",
   "id": "d6cef9cf-5b23-438f-9039-6a03c4ad0621",
   "metadata": {},
   "source": [
    "问背包能背的物品最大价值是多少？"
   ]
  },
  {
   "cell_type": "markdown",
   "id": "c092510f-7749-4df0-95e9-3dc3fb135e76",
   "metadata": {},
   "source": [
    "* 01背包遍历背包重量的时候，从大到小遍历，为了保证每个物品仅被添加一次。\n",
    "* 完全背包的物品时可以添加多次的，所以小到大遍历\n",
    "```python\n",
    "for i in range(len(weight)):\n",
    "    for j in range(weight[i], bagweight + 1):\n",
    "        dp[j] = max(dp[j], dp[j - weight[i]] + value[i])\n",
    "```\n",
    "##### 先遍历物品，或先遍历背包都可以\n",
    "* 因为dp[j]是根据下标j之前所对应的dp[j]计算出来的。只要保证j之前的dp[j]都是经过计算的就可以。"
   ]
  },
  {
   "cell_type": "markdown",
   "id": "24d949e8-2fbc-4a2f-8fac-df2a615eceab",
   "metadata": {},
   "source": [
    "#### 测试代码"
   ]
  },
  {
   "cell_type": "markdown",
   "id": "6086beb7-2519-4837-a646-b6016315276c",
   "metadata": {},
   "source": [
    "##### 二维dp数组"
   ]
  },
  {
   "cell_type": "code",
   "execution_count": 17,
   "id": "038882f4-9b52-4fe5-abf7-4d4847eb0fa0",
   "metadata": {},
   "outputs": [],
   "source": [
    "def solve(bagweight, weight, value):\n",
    "    # 定义初始化\n",
    "    dp = [[0 for _ in range(bagweight + 1)] for _ in range(len(weight))]\n",
    "    for i in range(len(weight)):\n",
    "        dp[i][0] = 0\n",
    "    for j in range(weight[0], bagweight + 1):\n",
    "        dp[0][j] = dp[0][j - weight[0]] + value[0]\n",
    "    # 遍历\n",
    "    for i in range(1, len(weight)):\n",
    "        for j in range(bagweight + 1):\n",
    "            if j < weight[i]:\n",
    "                dp[i][j] = dp[i - 1][j]\n",
    "            else:\n",
    "                dp[i][j] = max(dp[i - 1][j], dp[i - 1][j - weight[i]] + value[i])\n",
    "    print(dp)\n",
    "    return dp[-1][-1]"
   ]
  },
  {
   "cell_type": "code",
   "execution_count": 18,
   "id": "7fbe6388-a076-4af6-afc9-68246395ecad",
   "metadata": {},
   "outputs": [
    {
     "name": "stdout",
     "output_type": "stream",
     "text": [
      "[[0, 15, 30, 45, 60], [0, 15, 30, 45, 60], [0, 15, 30, 45, 60]]\n"
     ]
    },
    {
     "data": {
      "text/plain": [
       "60"
      ]
     },
     "execution_count": 18,
     "metadata": {},
     "output_type": "execute_result"
    }
   ],
   "source": [
    "bagweight = 4\n",
    "weight = [1, 3, 4]\n",
    "value = [15, 20, 30]\n",
    "solve(bagweight, weight, value)"
   ]
  },
  {
   "cell_type": "markdown",
   "id": "8016a8ed-8060-40d6-96d8-6f0291b26caa",
   "metadata": {},
   "source": [
    "##### 一维dp数组"
   ]
  },
  {
   "cell_type": "markdown",
   "id": "3459b93c-ba8a-48b7-85e1-c37acf84b7fd",
   "metadata": {},
   "source": [
    "##### 先物品后背包"
   ]
  },
  {
   "cell_type": "code",
   "execution_count": 1,
   "id": "951039ec-6821-48dc-af56-c48ab7ea388e",
   "metadata": {},
   "outputs": [],
   "source": [
    "def solve(bagweight, weight, value):\n",
    "    # 定义初始化\n",
    "    dp = [0 for _ in range(bagweight + 1)]\n",
    "    # 遍历\n",
    "    for i in range(len(weight)):\n",
    "        for j in range(weight[i], bagweight + 1):\n",
    "            dp[j] = max(dp[j], dp[j - weight[i]] + value[i])\n",
    "    return dp[bagweight]"
   ]
  },
  {
   "cell_type": "markdown",
   "id": "44ed3ead-819d-41d0-addf-ba2286f4081e",
   "metadata": {},
   "source": [
    "##### 先背包后物品"
   ]
  },
  {
   "cell_type": "code",
   "execution_count": 21,
   "id": "fa3ecc15-acd8-4874-afad-7041b02915a2",
   "metadata": {},
   "outputs": [],
   "source": [
    "def solve(bagweight, weight, value):\n",
    "    # 定义初始化\n",
    "    dp = [0 for _ in range(bagweight + 1)]\n",
    "    # 遍历\n",
    "    for j in range(bagweight + 1):\n",
    "        for i in range(len(weight)):\n",
    "            if j - weight[i] >= 0:\n",
    "                dp[j] = max(dp[j], dp[j - weight[i]] + value[i])\n",
    "    return dp[bagweight]"
   ]
  },
  {
   "cell_type": "code",
   "execution_count": 22,
   "id": "301f3665-9738-4e68-89d5-aa23d467c739",
   "metadata": {},
   "outputs": [
    {
     "data": {
      "text/plain": [
       "60"
      ]
     },
     "execution_count": 22,
     "metadata": {},
     "output_type": "execute_result"
    }
   ],
   "source": [
    "bagweight = 4\n",
    "weight = [1, 3, 4]\n",
    "value = [15, 20, 30]\n",
    "solve(bagweight, weight, value)"
   ]
  }
 ],
 "metadata": {
  "kernelspec": {
   "display_name": "tf",
   "language": "python",
   "name": "py38"
  },
  "language_info": {
   "codemirror_mode": {
    "name": "ipython",
    "version": 3
   },
   "file_extension": ".py",
   "mimetype": "text/x-python",
   "name": "python",
   "nbconvert_exporter": "python",
   "pygments_lexer": "ipython3",
   "version": "3.8.6"
  }
 },
 "nbformat": 4,
 "nbformat_minor": 5
}
