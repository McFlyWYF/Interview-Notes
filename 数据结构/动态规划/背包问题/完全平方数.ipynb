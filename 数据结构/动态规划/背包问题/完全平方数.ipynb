{
 "cells": [
  {
   "cell_type": "markdown",
   "id": "87581904-2073-4e40-a0a2-cb1f72c6d40a",
   "metadata": {},
   "source": [
    "# 完全平方数"
   ]
  },
  {
   "cell_type": "markdown",
   "id": "46403f30-f539-45cb-9eca-845fa54b7b5a",
   "metadata": {},
   "source": [
    "### 给定正整数n，找到若干个完全平方数，使得它们的和等于n。需要让组成和的完全平方数的个数最少。给你一个整数n，返回和为n的完全平方数的最少数量。"
   ]
  },
  {
   "cell_type": "markdown",
   "id": "d7fa3b24-4cce-4e59-af17-e524e662e078",
   "metadata": {},
   "source": [
    "* 例如：\n",
    "    * 输入：n = 12\n",
    "    * 输出：3"
   ]
  },
  {
   "cell_type": "code",
   "execution_count": 23,
   "id": "a22de69e-398d-4232-b3d5-863a8273f7f3",
   "metadata": {},
   "outputs": [],
   "source": [
    "import sys\n",
    "def solve(n):\n",
    "    # dp[j]表示和为j的完全平方数的最少数量\n",
    "    dp = [sys.maxsize for _ in range(n + 1)]\n",
    "    # 初始化\n",
    "    dp[0] = 0\n",
    "    for i in range(n):\n",
    "        num = i * i\n",
    "        for j in range(num, n + 1):\n",
    "            if dp[j - num] != sys.maxsize and j - num >= 0:\n",
    "                dp[j] = min(dp[j], dp[j - num] + 1)\n",
    "    print(dp)\n",
    "    return dp[-1]"
   ]
  },
  {
   "cell_type": "code",
   "execution_count": 24,
   "id": "9d8f05bb-3241-42bb-80fb-5e5610ac04c4",
   "metadata": {},
   "outputs": [
    {
     "name": "stdout",
     "output_type": "stream",
     "text": [
      "[0, 1, 2, 3, 1, 2]\n"
     ]
    },
    {
     "data": {
      "text/plain": [
       "2"
      ]
     },
     "execution_count": 24,
     "metadata": {},
     "output_type": "execute_result"
    }
   ],
   "source": [
    "n = 5\n",
    "solve(n)"
   ]
  }
 ],
 "metadata": {
  "kernelspec": {
   "display_name": "Python 3",
   "language": "python",
   "name": "python3"
  },
  "language_info": {
   "codemirror_mode": {
    "name": "ipython",
    "version": 3
   },
   "file_extension": ".py",
   "mimetype": "text/x-python",
   "name": "python",
   "nbconvert_exporter": "python",
   "pygments_lexer": "ipython3",
   "version": "3.9.1"
  }
 },
 "nbformat": 4,
 "nbformat_minor": 5
}
