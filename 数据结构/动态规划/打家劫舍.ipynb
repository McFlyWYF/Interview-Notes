{
 "cells": [
  {
   "cell_type": "markdown",
   "id": "242d3448-2b0f-46c9-b77e-cce3a0b82852",
   "metadata": {},
   "source": [
    "# 打家劫舍"
   ]
  },
  {
   "cell_type": "markdown",
   "id": "31cced76-c169-4d30-8249-c95bd992aedf",
   "metadata": {},
   "source": [
    "### 你是一个专业的小偷，计划偷窃沿街的房屋。每间房内都藏有一定的现金，影响你偷窃的唯一制约因素就是相邻的房屋装有相互连通的防盗系统，如果两间相邻的房屋在同一晚上被小偷闯入，系统会自动报警。"
   ]
  },
  {
   "cell_type": "markdown",
   "id": "ff1e2690-de4e-4d17-87cd-00834c20851f",
   "metadata": {},
   "source": [
    "* 给定一个代表每个房屋存放金额的非负整数数组，计算你不触动报警装置的情况下，一夜之内能够偷窃到的最高金额。"
   ]
  },
  {
   "cell_type": "markdown",
   "id": "4ff7e79f-b711-4809-be5d-528b23e7c663",
   "metadata": {},
   "source": [
    "* 例如：\n",
    "    * 输入：[1, 2, 3, 1]\n",
    "    * 输出：4"
   ]
  },
  {
   "cell_type": "markdown",
   "id": "a18eaaa5-39a4-4532-a1a3-04628c3db16e",
   "metadata": {},
   "source": [
    "* 确定dp数组\n",
    "    * dp[i]：下标i以内的房屋，最多可以偷窃到的最高金额。\n",
    "* 确定递推公式\n",
    "    * dp[i] = dp[i - 2] + nums[i]，保证第i间房子被偷，则第i-1间房子不会被偷。如果不偷第i房间，dp[i] = dp[i -1]。\n",
    "    * `dp[i] = max(dp[i - 1], dp[i - 2] + nums[i])`\n",
    "* 初始化\n",
    "    * `dp[0] = nums[0]`\n",
    "    * `dp[1] = max(nums[0], nums[1])`\n",
    "* 确定遍历顺序\n",
    "    * 从前向后遍历"
   ]
  },
  {
   "cell_type": "code",
   "execution_count": 39,
   "id": "1a5980e7-9444-4ac8-8fcc-92a90844730d",
   "metadata": {},
   "outputs": [],
   "source": [
    "def solve(nums):\n",
    "    if len(nums) == 0:\n",
    "        return 0\n",
    "    if len(nums) == 1:\n",
    "        return nums[0]\n",
    "    # 确定dp数组\n",
    "    dp = [0 for _ in range(len(nums))]\n",
    "    # 初始化\n",
    "    dp[0] = nums[0]\n",
    "    dp[1] = max(nums[0], nums[1])\n",
    "    # 遍历\n",
    "    for i in range(2, len(nums)):\n",
    "        dp[i] = max(dp[i - 1], dp[i - 2] + nums[i])\n",
    "    \n",
    "    print(dp)\n",
    "    return dp[-1]"
   ]
  },
  {
   "cell_type": "code",
   "execution_count": 40,
   "id": "5d48ad08-a9c0-4a6d-9c3c-e02b4c75f6a1",
   "metadata": {},
   "outputs": [
    {
     "name": "stdout",
     "output_type": "stream",
     "text": [
      "[1, 2, 4, 4]\n"
     ]
    },
    {
     "data": {
      "text/plain": [
       "4"
      ]
     },
     "execution_count": 40,
     "metadata": {},
     "output_type": "execute_result"
    }
   ],
   "source": [
    "nums = [1,2,3,1]\n",
    "solve(nums)"
   ]
  }
 ],
 "metadata": {
  "kernelspec": {
   "display_name": "Python 3",
   "language": "python",
   "name": "python3"
  },
  "language_info": {
   "codemirror_mode": {
    "name": "ipython",
    "version": 3
   },
   "file_extension": ".py",
   "mimetype": "text/x-python",
   "name": "python",
   "nbconvert_exporter": "python",
   "pygments_lexer": "ipython3",
   "version": "3.9.1"
  }
 },
 "nbformat": 4,
 "nbformat_minor": 5
}
