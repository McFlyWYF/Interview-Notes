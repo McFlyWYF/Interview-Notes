{
 "cells": [
  {
   "cell_type": "markdown",
   "id": "3a6f19d9-ae49-48ab-bcdc-e16b0ab7b51c",
   "metadata": {},
   "source": [
    "# 内存管理"
   ]
  },
  {
   "cell_type": "markdown",
   "id": "4bb459e1-abc5-4c14-95e1-beea58f27ad9",
   "metadata": {},
   "source": [
    "#### 不同编程语言的内存管理方式"
   ]
  },
  {
   "cell_type": "markdown",
   "id": "c73b766d-1fa4-4600-8027-67294c782cf1",
   "metadata": {},
   "source": [
    "* C/C++内存堆空间的申请和释放完全靠自己管理。\n",
    "* Java依赖JVM做内存管理。\n",
    "* Python内存管理是由私有堆空间管理的，所有的Python对象和数据结构都存储在私有堆空间中。程序员没有访问堆的权限，只有解释器才能操作。"
   ]
  },
  {
   "cell_type": "markdown",
   "id": "680a1b22-65ff-4170-a49b-b9e77506b5be",
   "metadata": {},
   "source": [
    "##### C++程序运行时所需内存空间"
   ]
  },
  {
   "cell_type": "markdown",
   "id": "3ecfd7d2-b7c8-43ab-b914-121c44ee570d",
   "metadata": {},
   "source": [
    "* 固定部分\n",
    "    * 代码区\n",
    "        * 存储二进制代码\n",
    "    * 数据区\n",
    "        * 全局变量、静态变量、常量等。\n",
    "* 可变部分\n",
    "    * 栈区（系统自动回收）\n",
    "        * 运行方法等形参、局部变量、返回值、以及递归栈所需的空间。系统自动分配和回收\n",
    "    * 堆区（需要程序员自己回收）\n",
    "        * 动态开辟的空间，存放new出来的对象在堆区中的真实数据。需要手动回收。"
   ]
  },
  {
   "cell_type": "markdown",
   "id": "3fb46312-4bad-4b6b-b279-ecdaa1843fd3",
   "metadata": {},
   "source": [
    "#### 内存对齐"
   ]
  },
  {
   "cell_type": "markdown",
   "id": "06d8588e-0a38-47f3-a6db-2d8b3bc3b2cd",
   "metadata": {},
   "source": [
    "* 为什么会有内存对齐？\n",
    "    * 1.平台原因：不是所有的硬件平台都能访问任意内存地址上的任意数据，某些硬件平台只能在某些地址处取某些特定类型的数据，否则抛出硬件异常。为了同一个程序可以在多平台运行，需要内存对齐。\n",
    "    * 硬件原因：经过内存对齐后，CPU访问内存的速度大大提升。"
   ]
  }
 ],
 "metadata": {
  "kernelspec": {
   "display_name": "Python 3",
   "language": "python",
   "name": "python3"
  },
  "language_info": {
   "codemirror_mode": {
    "name": "ipython",
    "version": 3
   },
   "file_extension": ".py",
   "mimetype": "text/x-python",
   "name": "python",
   "nbconvert_exporter": "python",
   "pygments_lexer": "ipython3",
   "version": "3.9.1"
  }
 },
 "nbformat": 4,
 "nbformat_minor": 5
}
