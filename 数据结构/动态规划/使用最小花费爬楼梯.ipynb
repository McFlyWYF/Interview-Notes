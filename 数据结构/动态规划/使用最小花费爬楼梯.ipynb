{
 "cells": [
  {
   "cell_type": "markdown",
   "id": "1b835658-d66e-478e-bae4-ee6fe9762c5a",
   "metadata": {},
   "source": [
    "# 使用最小花费爬楼梯"
   ]
  },
  {
   "cell_type": "markdown",
   "id": "c37ecaca-4023-4638-a3c9-4668bfce9d25",
   "metadata": {},
   "source": [
    "### 数组的每个下标作为一个阶梯，第i个阶梯对应着一个非负数的体力花费值cost[i]。每当你爬上一个阶梯你都要花费对应的体力值，一旦支付了相应的体力值，你就可以选择向上爬一个阶梯或爬两个阶梯。请你找出达到楼层顶部的最低花费。在开始时，你可以选择从下标为0或1的元素作为初始阶梯。"
   ]
  },
  {
   "cell_type": "markdown",
   "id": "7a7a9a9d-60b9-49df-9c96-f3c943aad73d",
   "metadata": {},
   "source": [
    "* 例如：\n",
    "    * 输入：cost=[10,15,20]\n",
    "    * 输出：15\n",
    "    * 解释：最低花费从sost[1]开始，然后走两步即可到阶梯顶，一共花费15。"
   ]
  },
  {
   "cell_type": "markdown",
   "id": "80a18b4a-2dfb-425d-be6e-1a53fe1a3ce1",
   "metadata": {},
   "source": [
    "* 确定dp数组\n",
    "    * dp[i]表示第i个台阶所花费的最少体力为dp[i]\n",
    "* 确定递推公式\n",
    "    * dp[i]可以通过dp[i - 1]或dp[i - 2]得到。"
   ]
  },
  {
   "cell_type": "code",
   "execution_count": 38,
   "id": "4695a691-7005-494a-9c66-4ad8f20552d7",
   "metadata": {},
   "outputs": [],
   "source": [
    "def solve(cost):\n",
    "    # 确定dp数组\n",
    "    dp = [0 for i in range(len(cost))]\n",
    "    # 初始化\n",
    "    dp[1] = cost[1]\n",
    "    dp[0] = cost[0]\n",
    "    # 递推公式，遍历\n",
    "    for i in range(2, len(cost)):\n",
    "        dp[i] = min(dp[i - 1], dp[i - 2]) + cost[i]\n",
    "    print('dp:', dp)\n",
    "    return min(dp[-1], dp[-2])  # 最后取后两位的最小值就可以达到楼顶"
   ]
  },
  {
   "cell_type": "code",
   "execution_count": 39,
   "id": "4b6aba59-6490-48cc-9923-cf78ccf54361",
   "metadata": {},
   "outputs": [
    {
     "name": "stdout",
     "output_type": "stream",
     "text": [
      "dp: [10, 15, 30]\n"
     ]
    },
    {
     "data": {
      "text/plain": [
       "15"
      ]
     },
     "execution_count": 39,
     "metadata": {},
     "output_type": "execute_result"
    }
   ],
   "source": [
    "cost = [10,15,20]\n",
    "solve(cost)"
   ]
  },
  {
   "cell_type": "markdown",
   "id": "e737febe-12f4-4dca-9182-232efb4ad5da",
   "metadata": {},
   "source": [
    "* 时间复杂度：$O(n)$\n",
    "* 空间复杂度：$O(n)$"
   ]
  },
  {
   "cell_type": "code",
   "execution_count": 49,
   "id": "86cc84ea-305d-4d0d-a0f9-8174533eb574",
   "metadata": {},
   "outputs": [],
   "source": [
    "def solve(cost):\n",
    "    dp = 0\n",
    "    dp1 = cost[1]\n",
    "    dp0 = cost[0]\n",
    "    for i in range(2, len(cost)):\n",
    "        dp = min(dp1, dp0) + cost[i]\n",
    "        dp0 = dp1\n",
    "        dp1 = dp\n",
    "    return min(dp1, dp0)  # 最后取后两位的最小值就可以达到楼顶"
   ]
  },
  {
   "cell_type": "code",
   "execution_count": 50,
   "id": "8441396c-4140-43a3-afe0-166e4924c115",
   "metadata": {},
   "outputs": [
    {
     "data": {
      "text/plain": [
       "15"
      ]
     },
     "execution_count": 50,
     "metadata": {},
     "output_type": "execute_result"
    }
   ],
   "source": [
    "cost = [10,15,20]\n",
    "solve(cost)"
   ]
  },
  {
   "cell_type": "markdown",
   "id": "a051be53-c253-4b77-b598-bde760dcb862",
   "metadata": {},
   "source": [
    "* 时间复杂度：$O(n)$\n",
    "* 空间复杂度：$O(1)$"
   ]
  }
 ],
 "metadata": {
  "kernelspec": {
   "display_name": "Python 3",
   "language": "python",
   "name": "python3"
  },
  "language_info": {
   "codemirror_mode": {
    "name": "ipython",
    "version": 3
   },
   "file_extension": ".py",
   "mimetype": "text/x-python",
   "name": "python",
   "nbconvert_exporter": "python",
   "pygments_lexer": "ipython3",
   "version": "3.9.1"
  }
 },
 "nbformat": 4,
 "nbformat_minor": 5
}
