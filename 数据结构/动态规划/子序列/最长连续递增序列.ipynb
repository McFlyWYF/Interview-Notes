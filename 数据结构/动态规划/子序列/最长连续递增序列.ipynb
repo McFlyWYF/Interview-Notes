{
 "cells": [
  {
   "cell_type": "markdown",
   "metadata": {},
   "source": [
    "# 最长连续递增序列"
   ]
  },
  {
   "cell_type": "markdown",
   "metadata": {},
   "source": [
    "* 给定一个未经排序的整数数组，找到最长且连续递增的子序列，并返回该序列的长度。"
   ]
  },
  {
   "cell_type": "markdown",
   "metadata": {},
   "source": [
    "* 连续递增的子序列可以由两个下标l和r确定，如果对于每个l<=i<r，都有nums[i]<nums[i+1]，那么子序列`[nums[l],nums[l+1],...,nums[r-1],nums[r]]`就是连续递增子序列。"
   ]
  },
  {
   "cell_type": "markdown",
   "metadata": {},
   "source": [
    "* 例如：\n",
    "    * 输入：nums = [1,3,5,7]\n",
    "    * 输出：3"
   ]
  },
  {
   "cell_type": "code",
   "execution_count": 5,
   "metadata": {},
   "outputs": [],
   "source": [
    "def solve(nums):\n",
    "    dp = [1 for _ in range(len(nums))]\n",
    "    for i in range(1, len(nums)):\n",
    "        for j in range(0, i):\n",
    "            if nums[i] > nums[j] and i == j + 1:  # 第i个元素比j（i-1）之前的元素都大，并且i和j是连续的元素\n",
    "                dp[i] = max(dp[i], dp[j] + 1)\n",
    "    print(dp)\n",
    "    return max(dp)"
   ]
  },
  {
   "cell_type": "code",
   "execution_count": 6,
   "metadata": {},
   "outputs": [
    {
     "name": "stdout",
     "output_type": "stream",
     "text": [
      "[1, 2, 3, 1, 2, 3]\n"
     ]
    },
    {
     "data": {
      "text/plain": [
       "3"
      ]
     },
     "execution_count": 6,
     "metadata": {},
     "output_type": "execute_result"
    }
   ],
   "source": [
    "nums = [1,3,5,4,7,9]\n",
    "solve(nums)"
   ]
  },
  {
   "cell_type": "markdown",
   "metadata": {},
   "source": [
    "##### 确定dp数组\n",
    "* dp[i]表示以i结尾的元素的最长连续递增子序列，这里并不是以0开始。\n",
    "\n",
    "##### 递推公式\n",
    "* 考虑连续，nums[i+1]与nums[i]一定是连续的，如果后一个元素比前一个元素大，那么前一个元素的最长子序列+1。\n",
    "```python \n",
    "if nums[i + 1] > nums[i]:\n",
    "    dp[i] = dp[i] + 1\n",
    "```"
   ]
  },
  {
   "cell_type": "code",
   "execution_count": 9,
   "metadata": {},
   "outputs": [],
   "source": [
    "def solve(nums):\n",
    "    dp = [1 for _ in range(len(nums))]\n",
    "    for i in range(len(nums) - 1):\n",
    "        if nums[i + 1] > nums[i]:  # 第i+1个元素比第i个元素大\n",
    "            dp[i + 1] = dp[i] + 1\n",
    "    print(dp)\n",
    "    return max(dp)"
   ]
  },
  {
   "cell_type": "code",
   "execution_count": 10,
   "metadata": {},
   "outputs": [
    {
     "name": "stdout",
     "output_type": "stream",
     "text": [
      "[1, 2, 3, 1, 2, 3]\n"
     ]
    },
    {
     "data": {
      "text/plain": [
       "3"
      ]
     },
     "execution_count": 10,
     "metadata": {},
     "output_type": "execute_result"
    }
   ],
   "source": [
    "nums = [1,3,5,4,7,9]\n",
    "solve(nums)"
   ]
  },
  {
   "cell_type": "markdown",
   "metadata": {},
   "source": [
    "* 时间复杂度：$O(n)$\n",
    "* 空间复杂度：$O(1)$"
   ]
  }
 ],
 "metadata": {
  "kernelspec": {
   "display_name": "Python 3",
   "language": "python",
   "name": "python3"
  },
  "language_info": {
   "codemirror_mode": {
    "name": "ipython",
    "version": 3
   },
   "file_extension": ".py",
   "mimetype": "text/x-python",
   "name": "python",
   "nbconvert_exporter": "python",
   "pygments_lexer": "ipython3",
   "version": "3.6.5"
  }
 },
 "nbformat": 4,
 "nbformat_minor": 5
}
