{
 "cells": [
  {
   "cell_type": "markdown",
   "id": "222f0a52-ce30-4c7b-8d8d-6e548358ee76",
   "metadata": {},
   "source": [
    "# 53.最大子序和"
   ]
  },
  {
   "cell_type": "markdown",
   "id": "35238426-983a-4667-850f-93e5cca58bdc",
   "metadata": {},
   "source": [
    "* 给定一个整数数组nums，找到一个具有最大和的连续子数组（子数组最少包含一个元素），返回其最大子序和。"
   ]
  },
  {
   "cell_type": "markdown",
   "id": "95ed81db-e33b-4887-917e-2c859ade35dd",
   "metadata": {},
   "source": [
    "* 例如：\n",
    "    * 输入：[-2,1,-3,4,-1,2,1,-5,4]\n",
    "    * 输出：6"
   ]
  },
  {
   "cell_type": "markdown",
   "id": "ab9af577-08ff-4873-b6f3-0d5ada1ed3b8",
   "metadata": {},
   "source": [
    "##### 定义dp数组\n",
    "* dp[i]:第i个元素之前的最大子序和为dp[i]。\n",
    "\n",
    "##### 递推公式\n",
    "* 在第i个元素和第i-1个元素之前+第i个元素之间取最大值\n",
    "* `dp[i] = max(dp[i], dp[i - 1] + nums[i])`\n",
    "\n",
    "##### 初始化\n",
    "* `dp[0] = nums[0]`"
   ]
  },
  {
   "cell_type": "code",
   "execution_count": 29,
   "id": "a6ffbdd2-eb5e-4d4c-9f93-e86916f42cf1",
   "metadata": {},
   "outputs": [],
   "source": [
    "def solve(nums):\n",
    "    dp = [0] * (len(nums))\n",
    "    dp[0] = nums[0]\n",
    "    for i in range(1, len(nums)):\n",
    "        dp[i] = max(nums[i], dp[i - 1] + nums[i])\n",
    "    print(dp)\n",
    "    return max(dp)"
   ]
  },
  {
   "cell_type": "code",
   "execution_count": 30,
   "id": "8b401423-c3cb-4279-a783-c7ddd44a365c",
   "metadata": {},
   "outputs": [
    {
     "name": "stdout",
     "output_type": "stream",
     "text": [
      "[-2, 1, -2, 4, 3, 5, 6, 1, 5]\n"
     ]
    },
    {
     "data": {
      "text/plain": [
       "6"
      ]
     },
     "execution_count": 30,
     "metadata": {},
     "output_type": "execute_result"
    }
   ],
   "source": [
    "nums = [-2,1,-3,4,-1,2,1,-5,4]\n",
    "solve(nums)"
   ]
  },
  {
   "cell_type": "markdown",
   "id": "d58d6d31-0591-4246-b687-e6d72abb9450",
   "metadata": {},
   "source": [
    "* 时间复杂度：$O(n)$\n",
    "* 空间复杂度：$O(n)$"
   ]
  }
 ],
 "metadata": {
  "kernelspec": {
   "display_name": "Python 3",
   "language": "python",
   "name": "python3"
  },
  "language_info": {
   "codemirror_mode": {
    "name": "ipython",
    "version": 3
   },
   "file_extension": ".py",
   "mimetype": "text/x-python",
   "name": "python",
   "nbconvert_exporter": "python",
   "pygments_lexer": "ipython3",
   "version": "3.9.1"
  }
 },
 "nbformat": 4,
 "nbformat_minor": 5
}
