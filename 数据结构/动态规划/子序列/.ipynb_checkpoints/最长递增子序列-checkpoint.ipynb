{
 "cells": [
  {
   "cell_type": "markdown",
   "id": "54b5e580-108e-4dc3-93c0-dda25a9c8f94",
   "metadata": {},
   "source": [
    "# 最长递增子序列"
   ]
  },
  {
   "cell_type": "markdown",
   "id": "45060432-a813-4c07-a360-3f69bf3bcd07",
   "metadata": {},
   "source": [
    "* 给定一个整数数组nums，找到其中最长严格递增子序列的长度。"
   ]
  },
  {
   "cell_type": "markdown",
   "id": "d638ea26-451e-4d61-a245-c4889a732111",
   "metadata": {},
   "source": [
    "* 子序列是由数组派生而来的序列，删除数组中的元素而不改变其余元素的顺序。例如，[3,6,2,7]是数组[0,3,1,6,2,2,7]的子序列。"
   ]
  },
  {
   "cell_type": "markdown",
   "id": "47ad2f5e-7d9d-4e9c-9008-17e2f7aed6b4",
   "metadata": {},
   "source": [
    "* 例如：\n",
    "    * 输入：nums = [10,9,2,5,3,7,101,18]\n",
    "    * 输出：4"
   ]
  },
  {
   "cell_type": "markdown",
   "id": "d950c5f5-c9da-4872-8b29-8a981e4400fb",
   "metadata": {},
   "source": [
    "##### 定义dp数组\n",
    "* dp[i]表示第i个元素之前的最长子序列。\n",
    "\n",
    "##### 递推公式\n",
    "* 位置i之前的最长子序列就是j从0到i - 1之前的子序列+1\n",
    "```python\n",
    "if nums[i] > nums[j]:\n",
    "    dp[i] = max(dp[i], dp[j] + 1)\n",
    "```\n",
    "\n",
    "##### 初始化\n",
    "* 对每一个i，对应的dp[i]起始大小至少都是1.\n",
    "\n",
    "##### 遍历\n",
    "* 从前向后遍历，i在外层，j在内层，从0到i-1."
   ]
  },
  {
   "cell_type": "code",
   "execution_count": 21,
   "id": "dbab02c9-d3e6-4cb4-b960-df8df2d38906",
   "metadata": {},
   "outputs": [],
   "source": [
    "def solve(nums):\n",
    "    dp = [1 for _ in range(len(nums))]\n",
    "    for i in range(1, len(nums)):\n",
    "        for j in range(0, i):\n",
    "            if nums[i] > nums[j]:  # 第i个元素比j（i-1）之前的元素都大\n",
    "                dp[i] = max(dp[i], dp[j] + 1)\n",
    "    print(dp)\n",
    "    return max(dp)"
   ]
  },
  {
   "cell_type": "code",
   "execution_count": 20,
   "id": "cb529fbf-c884-4521-91ad-2935e20a4194",
   "metadata": {},
   "outputs": [
    {
     "name": "stdout",
     "output_type": "stream",
     "text": [
      "[1, 1, 1, 2, 2, 3, 4, 4]\n"
     ]
    },
    {
     "data": {
      "text/plain": [
       "4"
      ]
     },
     "execution_count": 20,
     "metadata": {},
     "output_type": "execute_result"
    }
   ],
   "source": [
    "nums = [10,9,2,5,3,7,101,18]\n",
    "solve(nums)"
   ]
  }
 ],
 "metadata": {
  "kernelspec": {
   "display_name": "Python 3",
   "language": "python",
   "name": "python3"
  },
  "language_info": {
   "codemirror_mode": {
    "name": "ipython",
    "version": 3
   },
   "file_extension": ".py",
   "mimetype": "text/x-python",
   "name": "python",
   "nbconvert_exporter": "python",
   "pygments_lexer": "ipython3",
   "version": "3.9.1"
  }
 },
 "nbformat": 4,
 "nbformat_minor": 5
}
