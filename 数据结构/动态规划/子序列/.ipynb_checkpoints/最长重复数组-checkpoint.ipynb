{
 "cells": [
  {
   "cell_type": "markdown",
   "id": "e244b161-2935-43ff-b220-cb17cf4cf3a4",
   "metadata": {},
   "source": [
    "# 最长重复子数组"
   ]
  },
  {
   "cell_type": "markdown",
   "id": "526817fa-f1fe-4318-be3f-430f899e2e16",
   "metadata": {},
   "source": [
    "* 给两个整数数组A和B，返回两个数组中公共的、长度最长的子数组的长度。"
   ]
  },
  {
   "cell_type": "markdown",
   "id": "ec537b1c-eb5d-4cb8-be61-85d9c4b09013",
   "metadata": {},
   "source": [
    "* 例如：\n",
    "    * 输入：A：[1,2,3,2,1], B：[3,2,1,4,7]\n",
    "    * 输出：3"
   ]
  },
  {
   "cell_type": "markdown",
   "id": "15f2f2e8-ce1d-48f3-b60d-96fd294a6757",
   "metadata": {},
   "source": [
    "##### 确定dp数组\n",
    "* dp[i][j]：以下标i - 1为结尾的A和以j - 1为结尾的B，最长重复子数组长度为dp[i][j]。\n",
    "\n",
    "##### 递推公式\n",
    "```python\n",
    "if A[i - 1] == B[j - 1]:\n",
    "    dp[i][j] = dp[i - 1][j - 1] + 1\n",
    "```\n",
    "\n",
    "##### 初始化\n",
    "* 全部初始化为0\n",
    "\n",
    "##### 遍历\n",
    "* 遍历是从1开始，到len(A)为止。"
   ]
  },
  {
   "cell_type": "code",
   "execution_count": 28,
   "id": "282371e8-24d5-4752-a18d-135f0e9088f4",
   "metadata": {},
   "outputs": [],
   "source": [
    "def solve(nums1, nums2):\n",
    "    result = 0\n",
    "    # 定义为len(nums1) + 1 x len(nums2) + 1维度的数组\n",
    "    dp = [[0] * (len(nums2) + 1) for _ in range(len(nums2) + 1)]\n",
    "    # 从1开始遍历\n",
    "    for i in range(1, len(nums1) + 1):\n",
    "        for j in range(1, len(nums2) + 1):\n",
    "            # 递推公式\n",
    "            if nums1[i - 1] == nums2[j - 1]:\n",
    "                dp[i][j] = dp[i - 1][j - 1] + 1\n",
    "            result = max(result, dp[i][j])\n",
    "    print(dp)\n",
    "    return result"
   ]
  },
  {
   "cell_type": "code",
   "execution_count": 29,
   "id": "41100d67-fb1f-4e17-833b-5a30a394b47a",
   "metadata": {},
   "outputs": [
    {
     "name": "stdout",
     "output_type": "stream",
     "text": [
      "[[0, 0, 0, 0, 0, 0], [0, 0, 0, 1, 0, 0], [0, 0, 1, 0, 0, 0], [0, 1, 0, 0, 0, 0], [0, 0, 2, 0, 0, 0], [0, 0, 0, 3, 0, 0]]\n"
     ]
    },
    {
     "data": {
      "text/plain": [
       "3"
      ]
     },
     "execution_count": 29,
     "metadata": {},
     "output_type": "execute_result"
    }
   ],
   "source": [
    "A = [1,2,3,2,1]\n",
    "B = [3,2,1,4,7]\n",
    "solve(A, B)"
   ]
  },
  {
   "cell_type": "markdown",
   "id": "a7f1f389-1988-417c-ae62-4c33ce97e712",
   "metadata": {},
   "source": [
    "* 时间复杂度：$O(n*m)$\n",
    "* 空间复杂度：$O(n*m)$"
   ]
  },
  {
   "cell_type": "markdown",
   "id": "eabdd477-8cea-4607-b6de-d1a83973090c",
   "metadata": {},
   "source": [
    "#### 滚动数组"
   ]
  },
  {
   "cell_type": "code",
   "execution_count": 62,
   "id": "7a8a0d88-3339-4096-b918-a9d469f308a1",
   "metadata": {},
   "outputs": [],
   "source": [
    "def solve(A, B):\n",
    "    result = 0\n",
    "    dp = [0 for _ in range(len(A) + 1)]\n",
    "    for i in range(1, len(A) + 1):\n",
    "        for j in range(len(B), 0, -1):\n",
    "            if A[i - 1] == B[j - 1]:\n",
    "                dp[j] = dp[j - 1] + 1\n",
    "            else:\n",
    "                dp[j] = 0 # 不相等的时候赋值为0\n",
    "            result = max(result, dp[j])\n",
    "        print(dp)\n",
    "    return result"
   ]
  },
  {
   "cell_type": "code",
   "execution_count": 63,
   "id": "bc4822b6-e76b-432c-8d47-dd9e0b9d57f2",
   "metadata": {},
   "outputs": [
    {
     "name": "stdout",
     "output_type": "stream",
     "text": [
      "[0, 0, 0, 1, 0, 0]\n",
      "[0, 0, 1, 0, 0, 0]\n",
      "[0, 1, 0, 0, 0, 0]\n",
      "[0, 0, 2, 0, 0, 0]\n",
      "[0, 0, 0, 3, 0, 0]\n"
     ]
    },
    {
     "data": {
      "text/plain": [
       "3"
      ]
     },
     "execution_count": 63,
     "metadata": {},
     "output_type": "execute_result"
    }
   ],
   "source": [
    "A = [1,2,3,2,1]\n",
    "B = [3,2,1,4,7]\n",
    "solve(A, B)"
   ]
  },
  {
   "cell_type": "markdown",
   "id": "129fc8ce-e302-4723-ab66-78e1a3379be1",
   "metadata": {},
   "source": [
    "* 时间复杂度：$O(n*m)$\n",
    "* 空间复杂度：$O(n)$"
   ]
  }
 ],
 "metadata": {
  "kernelspec": {
   "display_name": "Python 3",
   "language": "python",
   "name": "python3"
  },
  "language_info": {
   "codemirror_mode": {
    "name": "ipython",
    "version": 3
   },
   "file_extension": ".py",
   "mimetype": "text/x-python",
   "name": "python",
   "nbconvert_exporter": "python",
   "pygments_lexer": "ipython3",
   "version": "3.9.1"
  }
 },
 "nbformat": 4,
 "nbformat_minor": 5
}
