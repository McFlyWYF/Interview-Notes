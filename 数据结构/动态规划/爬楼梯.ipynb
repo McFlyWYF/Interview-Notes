{
 "cells": [
  {
   "cell_type": "markdown",
   "id": "ff2d2a45-08fb-42e0-97f3-4efb1063ab9d",
   "metadata": {},
   "source": [
    "# 爬楼梯"
   ]
  },
  {
   "cell_type": "markdown",
   "id": "a17f5284-0102-495b-a41a-973cdf3d1662",
   "metadata": {},
   "source": [
    "### 假设你正在爬楼梯。需要n阶你才能达到楼顶。每次你可以爬1或2个台阶。你有多少种不同的方法可以爬到楼顶吗？"
   ]
  },
  {
   "cell_type": "markdown",
   "id": "d96df92d-f126-419f-a9ba-9e3540b33fc5",
   "metadata": {},
   "source": [
    "* 例如：\n",
    "    * 输入：2\n",
    "    * 输出：2"
   ]
  },
  {
   "cell_type": "code",
   "execution_count": 13,
   "id": "14ebf1d3-af7b-4612-b095-22da20cf3b7e",
   "metadata": {},
   "outputs": [],
   "source": [
    "def solve(n):\n",
    "    if n <= 2:\n",
    "        return n\n",
    "    # 确定dp数组\n",
    "    dp = [0 for i in range(n + 1)]\n",
    "    # 初始化\n",
    "    dp[1] = 1\n",
    "    dp[2] = 2\n",
    "    # 遍历\n",
    "    for i in range(3, n + 1):\n",
    "        # 递推公式\n",
    "        dp[i] = dp[i - 1] + dp[i - 2]\n",
    "    return dp[n]"
   ]
  },
  {
   "cell_type": "code",
   "execution_count": 14,
   "id": "6f2866cb-73b5-423d-8631-7fd3dfcf13c2",
   "metadata": {},
   "outputs": [
    {
     "data": {
      "text/plain": [
       "5"
      ]
     },
     "execution_count": 14,
     "metadata": {},
     "output_type": "execute_result"
    }
   ],
   "source": [
    "n = 4\n",
    "solve(n)"
   ]
  },
  {
   "cell_type": "markdown",
   "id": "fb6610d3-27b7-48fc-a065-e39dfc9f8f29",
   "metadata": {},
   "source": [
    "* 时间复杂度：$O(n)$\n",
    "* 空间复杂度：$O(n)$"
   ]
  },
  {
   "cell_type": "markdown",
   "id": "ca87c8bd-3fe5-4b0b-b4c9-3d55bc425c21",
   "metadata": {},
   "source": [
    "### 空间优化"
   ]
  },
  {
   "cell_type": "code",
   "execution_count": 19,
   "id": "6cfd65dc-d3c4-4425-9b18-ed3d9baa7523",
   "metadata": {},
   "outputs": [],
   "source": [
    "def solve(n):\n",
    "    if n <= 2:\n",
    "        return n\n",
    "    dp = [0 for i in range(3)]\n",
    "    dp[1] = 1\n",
    "    dp[2] = 2\n",
    "    for i in range(3, n + 1):\n",
    "        sums = dp[1] + dp[2]\n",
    "        dp[1] = dp[2]\n",
    "        dp[2] = sums\n",
    "    return dp[2]"
   ]
  },
  {
   "cell_type": "code",
   "execution_count": 20,
   "id": "269e296f-e096-469b-8687-d273d827d35c",
   "metadata": {},
   "outputs": [
    {
     "data": {
      "text/plain": [
       "5"
      ]
     },
     "execution_count": 20,
     "metadata": {},
     "output_type": "execute_result"
    }
   ],
   "source": [
    "n = 4\n",
    "solve(n)"
   ]
  },
  {
   "cell_type": "markdown",
   "id": "a5a0ad4a-b3d4-4e07-9122-ed13cfbacf2a",
   "metadata": {},
   "source": [
    "* 时间复杂度：$O(n)$\n",
    "* 空间复杂度：$O(1)$"
   ]
  }
 ],
 "metadata": {
  "kernelspec": {
   "display_name": "Python 3",
   "language": "python",
   "name": "python3"
  },
  "language_info": {
   "codemirror_mode": {
    "name": "ipython",
    "version": 3
   },
   "file_extension": ".py",
   "mimetype": "text/x-python",
   "name": "python",
   "nbconvert_exporter": "python",
   "pygments_lexer": "ipython3",
   "version": "3.9.1"
  }
 },
 "nbformat": 4,
 "nbformat_minor": 5
}
