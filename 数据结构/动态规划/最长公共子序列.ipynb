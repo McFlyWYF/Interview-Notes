{
 "cells": [
  {
   "cell_type": "markdown",
   "id": "a83e4abf-ca3f-46da-837f-4c0ab5137d78",
   "metadata": {},
   "source": [
    "# 最长公共子序列"
   ]
  },
  {
   "cell_type": "markdown",
   "id": "82d26c96-ccd8-4739-a5d9-9dec4d1b31c5",
   "metadata": {},
   "source": [
    "* 给定两个字符串text1和text2，返回这两个字符串的最长公共子序列的长度。"
   ]
  },
  {
   "cell_type": "markdown",
   "id": "5b70e6cc-3a97-4b38-9867-16078883715c",
   "metadata": {},
   "source": [
    "* 一个字符串的子序列是指这样一个新的字符串：它是由原字符串在不改变字符的相对顺序的情况下删除某些字符后组成的新字符串。"
   ]
  },
  {
   "cell_type": "markdown",
   "id": "d7bda56b-8d7d-461f-9928-a4a85c3e674d",
   "metadata": {},
   "source": [
    "* 若两个字符串没有公共子序列，返回0。"
   ]
  },
  {
   "cell_type": "markdown",
   "id": "757176a8-f8fa-40a8-b03f-0b6f443f1820",
   "metadata": {},
   "source": [
    "* 例如：\n",
    "    * 输入：text1='abcde', text2='ace'。\n",
    "    * 输出：3"
   ]
  },
  {
   "cell_type": "markdown",
   "id": "88b2fac6-c15f-4f51-8566-5b919b6b248f",
   "metadata": {},
   "source": [
    "##### 定义dp数组\n",
    "* dp[i][j]：text1第i个之前，text2第j个之前的最长公共子序列dp[i][j]。\n",
    "\n",
    "##### 递推公式\n",
    "* 如果text1[i - 1]与text2[j - 1]相同，找到了一个公共元素，dp[i][j] = dp[i - 1][j - 1] + 1\n",
    "* 如果text1[i - 1]与text2[j - 1]不相同，取text1[0,i - 2]与text2[0,j-1]的最长公共子序列和text1[0,i - 1]与text2[0,j - 2]的最长公共子序列最大的。\n",
    "\n",
    "```python\n",
    "if text1[i] == text2[j]:\n",
    "    dp[i][j] = max(dp[i - 1][j - 1], dp[i - 1][j - 1] + 1)\n",
    "```\n",
    "\n",
    "##### 初始化\n",
    "* 全部初始化为0"
   ]
  },
  {
   "cell_type": "code",
   "execution_count": 5,
   "id": "6f5bf191-67b1-48d9-8073-8c54bc20eb9b",
   "metadata": {},
   "outputs": [],
   "source": [
    "def solve(text1, text2):\n",
    "    dp = [[0] * (len(text2) + 1) for _ in range(len(text1) + 1)]\n",
    "    for i in range(1, len(text1) + 1):\n",
    "        for j in range(1, len(text2) + 1):\n",
    "            if text1[i - 1] == text2[j - 1]:\n",
    "                dp[i][j] = dp[i - 1][j - 1] + 1\n",
    "            else:\n",
    "                dp[i][j] = max(dp[i][j - 1], dp[i - 1][j])\n",
    "    print(dp)\n",
    "    return dp[-1][-1]"
   ]
  },
  {
   "cell_type": "code",
   "execution_count": 6,
   "id": "4de963f9-5b8c-4906-84d9-b8498fa18a1c",
   "metadata": {},
   "outputs": [
    {
     "name": "stdout",
     "output_type": "stream",
     "text": [
      "[[0, 0, 0, 0, 0, 0, 0], [0, 1, 1, 1, 1, 1, 1], [0, 1, 2, 2, 2, 2, 2], [0, 1, 2, 3, 3, 3, 3], [0, 1, 2, 3, 4, 4, 4], [0, 1, 2, 3, 4, 4, 4], [0, 1, 2, 3, 4, 5, 5], [0, 1, 2, 3, 4, 5, 6]]\n"
     ]
    },
    {
     "data": {
      "text/plain": [
       "6"
      ]
     },
     "execution_count": 6,
     "metadata": {},
     "output_type": "execute_result"
    }
   ],
   "source": [
    "text1='rabbbit'\n",
    "text2='rabbit'\n",
    "solve(text1, text2)"
   ]
  }
 ],
 "metadata": {
  "kernelspec": {
   "display_name": "Python 3",
   "language": "python",
   "name": "python3"
  },
  "language_info": {
   "codemirror_mode": {
    "name": "ipython",
    "version": 3
   },
   "file_extension": ".py",
   "mimetype": "text/x-python",
   "name": "python",
   "nbconvert_exporter": "python",
   "pygments_lexer": "ipython3",
   "version": "3.9.1"
  }
 },
 "nbformat": 4,
 "nbformat_minor": 5
}
