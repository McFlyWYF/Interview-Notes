{
 "cells": [
  {
   "cell_type": "markdown",
   "id": "416610d2-0b2a-4b9a-a32f-20378a1e32d2",
   "metadata": {},
   "source": [
    "# 其他"
   ]
  },
  {
   "cell_type": "markdown",
   "id": "45d8092b-ce00-406d-98cd-2f5610a77ea9",
   "metadata": {},
   "source": [
    "### 1.重新安排行程"
   ]
  },
  {
   "cell_type": "markdown",
   "id": "479f93b1-b049-4b70-85e6-9589ce923dbe",
   "metadata": {},
   "source": [
    "#### 给定一个机票的字符串二维数组[from, to]，子数组中的两个成员分别表示飞机出发和降落的机场地点，对该行程进行重新规划排序。所有这些机票都属于一个从JFK出发的先生，所以该行程必须从JFK开始。"
   ]
  },
  {
   "cell_type": "markdown",
   "id": "fc659562-dc57-4242-b525-f3dc31232875",
   "metadata": {},
   "source": [
    "* 如果存在多种有效的行程，按字符自然排序返回最小的行程组合。\n",
    "* 所有的机场至少存在一种合理的行程。\n",
    "* 所有的机票必须都用一次且只能用一次。"
   ]
  },
  {
   "cell_type": "markdown",
   "id": "ae86fb95-80b4-4ddb-a37d-550adb9cb6f5",
   "metadata": {},
   "source": [
    "* 例如\n",
    "    * 输入：`[['MUC', 'LHB'], ['JFK', 'MUC'], ['SFO', 'SJC'], ['LHR', 'SFO']]`\n",
    "    * 输出：`['JFK', 'MUC', 'LHR', 'SFO', 'SJC']`"
   ]
  },
  {
   "cell_type": "markdown",
   "id": "62ddd287-c4ab-4143-af7b-f58bd2e6793c",
   "metadata": {},
   "source": [
    "* 终止条件：遇到的机场个数，如果达到了（航班数量+1），就找到了一个行程。"
   ]
  },
  {
   "cell_type": "code",
   "execution_count": 23,
   "id": "8c095537-9d36-4f7e-a57b-11403af29151",
   "metadata": {},
   "outputs": [],
   "source": [
    "def findItinerary(tickets):\n",
    "    \n",
    "    from collections import defaultdict\n",
    "    \n",
    "    ticket_dict = defaultdict(list)\n",
    "\n",
    "    for item in tickets:\n",
    "        ticket_dict[item[0]].append(item[1])\n",
    "\n",
    "    path = ['JFK']\n",
    "\n",
    "    def backtrack(cur_from):\n",
    "        if len(path) == len(tickets) + 1:   # 结束条件\n",
    "            return True\n",
    "        ticket_dict[cur_from].sort()\n",
    "        for _ in ticket_dict[cur_from]:\n",
    "            cur_to = ticket_dict[cur_from].pop(0)   # 删除当前节点\n",
    "            path.append(cur_to)   # 做选择\n",
    "            if backtrack(cur_to):   # 进入下一层决策树\n",
    "                return True\n",
    "            path.pop()\n",
    "            ticket_dict[cur_from].append(cur_to)   # 恢复当前节点\n",
    "        return False\n",
    "    backtrack('JFK')\n",
    "    return path"
   ]
  },
  {
   "cell_type": "code",
   "execution_count": 24,
   "id": "ff4334db-7c5c-441a-8fec-7fdb9a991657",
   "metadata": {},
   "outputs": [
    {
     "data": {
      "text/plain": [
       "['JFK']"
      ]
     },
     "execution_count": 24,
     "metadata": {},
     "output_type": "execute_result"
    }
   ],
   "source": [
    "tickets = [['MUC', 'LHB'], ['JFK', 'MUC'], ['SFO', 'SJC'], ['LHR', 'SFO']]\n",
    "findItinerary(tickets)"
   ]
  },
  {
   "cell_type": "markdown",
   "id": "9108002e-9ca9-4404-8f4d-d9f3dd830152",
   "metadata": {},
   "source": [
    "### 递增子序列"
   ]
  },
  {
   "cell_type": "markdown",
   "id": "939a064b-3ca4-4f62-b682-59639480bb65",
   "metadata": {},
   "source": [
    "#### 给定一个整型数组，你的任务是找到所有该数组的递增子序列，递增子序列的长度至少是2."
   ]
  },
  {
   "cell_type": "markdown",
   "id": "23573f35-f9a9-41d7-96f2-a0ebb0c75b7b",
   "metadata": {},
   "source": [
    "* 例如\n",
    "    * 输入：`[4, 6, 7, 7]`\n",
    "    * 输出：`[[4, 6], [4, 7], [4, 6, 7], [4, 6, 7, 7], [6, 7], [6, 7, 7], [7, 7], [4, 7, 7]]`"
   ]
  },
  {
   "cell_type": "markdown",
   "id": "09905a3f-132b-4f2e-bc6d-1764f60dd0cd",
   "metadata": {},
   "source": [
    "* 终止条件：子序列长度至少为2。"
   ]
  },
  {
   "cell_type": "code",
   "execution_count": 79,
   "id": "44e131b5-9ab5-409d-9eb8-cbf1f38d13aa",
   "metadata": {},
   "outputs": [],
   "source": [
    "result = []\n",
    "path = []\n",
    "def backtrack(start):\n",
    "    repeat = [] # 去重复元素\n",
    "    if len(path) >= 2:\n",
    "        result.append(path[:])\n",
    "    for i in range(start, len(nums)):\n",
    "        if nums[i] in repeat:   # 去重\n",
    "            continue\n",
    "        \n",
    "        if len(path) >= 1:\n",
    "            if nums[i] < path[-1]:   # 要添加的元素小于最后一个\n",
    "                continue\n",
    "        path.append(nums[i])\n",
    "        repeat.append(nums[i])\n",
    "        backtrack(i + 1)\n",
    "        path.pop()"
   ]
  },
  {
   "cell_type": "code",
   "execution_count": 80,
   "id": "546ec5af-da9c-401c-b048-484468b627b1",
   "metadata": {},
   "outputs": [],
   "source": [
    "nums = [4, 6, 7, 7]\n",
    "backtrack(0)"
   ]
  },
  {
   "cell_type": "code",
   "execution_count": 81,
   "id": "5ca3e7c1-fad2-49cb-8c38-c71d85124cbc",
   "metadata": {},
   "outputs": [
    {
     "data": {
      "text/plain": [
       "[[4, 6], [4, 6, 7], [4, 6, 7, 7], [4, 7], [4, 7, 7], [6, 7], [6, 7, 7], [7, 7]]"
      ]
     },
     "execution_count": 81,
     "metadata": {},
     "output_type": "execute_result"
    }
   ],
   "source": [
    "result"
   ]
  }
 ],
 "metadata": {
  "kernelspec": {
   "display_name": "Python 3",
   "language": "python",
   "name": "python3"
  },
  "language_info": {
   "codemirror_mode": {
    "name": "ipython",
    "version": 3
   },
   "file_extension": ".py",
   "mimetype": "text/x-python",
   "name": "python",
   "nbconvert_exporter": "python",
   "pygments_lexer": "ipython3",
   "version": "3.9.1"
  }
 },
 "nbformat": 4,
 "nbformat_minor": 5
}
