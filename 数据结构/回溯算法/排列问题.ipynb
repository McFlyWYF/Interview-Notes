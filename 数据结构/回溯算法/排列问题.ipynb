{
 "cells": [
  {
   "cell_type": "markdown",
   "metadata": {},
   "source": [
    "# 排列问题"
   ]
  },
  {
   "cell_type": "markdown",
   "metadata": {},
   "source": [
    "### 1.全排列（1）"
   ]
  },
  {
   "cell_type": "markdown",
   "metadata": {},
   "source": [
    "#### 给定一个没有重复数字的序列`[1,2,3]`，返回其所有可能的全排列。"
   ]
  },
  {
   "cell_type": "markdown",
   "metadata": {},
   "source": [
    "![F9B6ECC21A11972D16EED6C18BD161A1.png](attachment:F9B6ECC21A11972D16EED6C18BD161A1.png)"
   ]
  },
  {
   "cell_type": "markdown",
   "metadata": {},
   "source": [
    "* 首先排列是有序的，所以就不需要使用start了。但排列问题需要一个used数组，标记已经选择的元素。"
   ]
  },
  {
   "cell_type": "markdown",
   "metadata": {},
   "source": [
    "* 终止条件：叶子节点就是所需要的结果，当收集元素的数组和nums的大小一样的时候，就是找到了一组全排列。也就是达到了叶子节点。"
   ]
  },
  {
   "cell_type": "code",
   "execution_count": 11,
   "metadata": {},
   "outputs": [],
   "source": [
    "result = []\n",
    "path = []\n",
    "def backtrack(nums, used):\n",
    "    if len(path) == len(nums):\n",
    "        result.append(path[:])\n",
    "    for i in range(len(nums)):\n",
    "        if used[i] == True:\n",
    "            continue\n",
    "        path.append(nums[i])\n",
    "        used[i] = True\n",
    "        backtrack(nums, used)\n",
    "        path.pop()\n",
    "        used[i] = False"
   ]
  },
  {
   "cell_type": "code",
   "execution_count": 12,
   "metadata": {},
   "outputs": [],
   "source": [
    "nums = [1,2,3]\n",
    "used = [False for _ in range(len(nums))]"
   ]
  },
  {
   "cell_type": "code",
   "execution_count": 13,
   "metadata": {},
   "outputs": [],
   "source": [
    "backtrack(nums, used)"
   ]
  },
  {
   "cell_type": "code",
   "execution_count": 15,
   "metadata": {},
   "outputs": [
    {
     "data": {
      "text/plain": [
       "[[1, 2, 3], [1, 3, 2], [2, 1, 3], [2, 3, 1], [3, 1, 2], [3, 2, 1]]"
      ]
     },
     "execution_count": 15,
     "metadata": {},
     "output_type": "execute_result"
    }
   ],
   "source": [
    "result"
   ]
  },
  {
   "cell_type": "markdown",
   "metadata": {},
   "source": [
    "* 不用used数组"
   ]
  },
  {
   "cell_type": "code",
   "execution_count": 16,
   "metadata": {},
   "outputs": [],
   "source": [
    "result = []\n",
    "path = []\n",
    "def backtrack(nums):\n",
    "    if len(path) == len(nums):\n",
    "        result.append(path[:])\n",
    "    for i in range(len(nums)):\n",
    "        if nums[i] in path:\n",
    "            continue\n",
    "        path.append(nums[i])\n",
    "        backtrack(nums)\n",
    "        path.pop()"
   ]
  },
  {
   "cell_type": "code",
   "execution_count": 18,
   "metadata": {},
   "outputs": [],
   "source": [
    "nums = [1,2,3]\n",
    "backtrack(nums)"
   ]
  },
  {
   "cell_type": "code",
   "execution_count": 19,
   "metadata": {},
   "outputs": [
    {
     "data": {
      "text/plain": [
       "[[1, 2, 3], [1, 3, 2], [2, 1, 3], [2, 3, 1], [3, 1, 2], [3, 2, 1]]"
      ]
     },
     "execution_count": 19,
     "metadata": {},
     "output_type": "execute_result"
    }
   ],
   "source": [
    "result"
   ]
  },
  {
   "cell_type": "markdown",
   "metadata": {},
   "source": [
    "* 和组合问题的不同之处就是没有start"
   ]
  },
  {
   "cell_type": "markdown",
   "metadata": {},
   "source": [
    "### 2.全排列（2）"
   ]
  },
  {
   "cell_type": "markdown",
   "metadata": {},
   "source": [
    "#### 给定一个可包含重复数字的序列`[1,1,2]`，按任意顺序返回所有不重复的全排列."
   ]
  },
  {
   "cell_type": "markdown",
   "metadata": {},
   "source": [
    "* 重点就是去重问题，去重前要对元素进行排序。我们对同一树层，前一位如果使用过，就进行去重。"
   ]
  },
  {
   "cell_type": "code",
   "execution_count": 47,
   "metadata": {},
   "outputs": [],
   "source": [
    "# 同一树层中的前一位去重\n",
    "used[i - 1] = False\n",
    "# 对树枝前一位去重\n",
    "used[i - 1] = True"
   ]
  },
  {
   "cell_type": "code",
   "execution_count": 50,
   "metadata": {},
   "outputs": [],
   "source": [
    "result = []\n",
    "path = []\n",
    "def backtrack(nums, used):\n",
    "    if len(path) == len(nums):\n",
    "        result.append(path[:])\n",
    "    for i in range(len(nums)):\n",
    "        # 如果同一树层nums[i-1]使用过则直接跳过\n",
    "        if i > 0 and nums[i] == nums[i - 1] and used[i - 1] == False:\n",
    "            continue\n",
    "        if used[i] == False:\n",
    "            path.append(nums[i])\n",
    "            used[i] = True\n",
    "            backtrack(nums, used)\n",
    "            path.pop()\n",
    "            used[i] = False"
   ]
  },
  {
   "cell_type": "code",
   "execution_count": 51,
   "metadata": {},
   "outputs": [],
   "source": [
    "nums = [1,1,2]\n",
    "used = [False for _ in range(len(nums))]\n",
    "nums.sort()\n",
    "backtrack(nums, used)"
   ]
  },
  {
   "cell_type": "code",
   "execution_count": 52,
   "metadata": {},
   "outputs": [
    {
     "data": {
      "text/plain": [
       "[[1, 1, 2], [1, 2, 1], [2, 1, 1]]"
      ]
     },
     "execution_count": 52,
     "metadata": {},
     "output_type": "execute_result"
    }
   ],
   "source": [
    "result"
   ]
  }
 ],
 "metadata": {
  "kernelspec": {
   "display_name": "Python 3",
   "language": "python",
   "name": "python3"
  },
  "language_info": {
   "codemirror_mode": {
    "name": "ipython",
    "version": 3
   },
   "file_extension": ".py",
   "mimetype": "text/x-python",
   "name": "python",
   "nbconvert_exporter": "python",
   "pygments_lexer": "ipython3",
   "version": "3.6.5"
  }
 },
 "nbformat": 4,
 "nbformat_minor": 5
}
