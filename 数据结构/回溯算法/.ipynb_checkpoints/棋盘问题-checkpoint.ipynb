{
 "cells": [
  {
   "cell_type": "markdown",
   "id": "e63d0802-7733-4e45-b686-8bc0d0ad0b09",
   "metadata": {},
   "source": [
    "# 棋盘问题"
   ]
  },
  {
   "cell_type": "markdown",
   "id": "2dff3e8d-d73b-4663-b033-69edf2c5a125",
   "metadata": {},
   "source": [
    "### 1. N皇后"
   ]
  },
  {
   "cell_type": "markdown",
   "id": "bdf348dd-762d-4657-a3e8-e6027cdcf152",
   "metadata": {},
   "source": [
    "#### 给一个NxN的棋盘，放置N个皇后，使得它们不能互相攻击。（同一行、同一列、对角线不能同时存在皇后）"
   ]
  },
  {
   "cell_type": "markdown",
   "id": "046fca18-5b32-4444-a1c5-929f62feffc1",
   "metadata": {},
   "source": [
    "* 本质上和全排列问题差不多，决策树的每一层表示棋盘的每一行，每个节点可以做出的选择是，在该行的任意一个位置放置一个皇后。\n",
    "* 先检查同一列，再检查左上角和右上角，这里不检查同一行是因为每一次for循环，只选择一个元素，不检查右下角和左下角是因为从上到下的，下面还不存在皇后。"
   ]
  },
  {
   "cell_type": "markdown",
   "id": "d9f8b94a-4b45-45c5-95d4-573784d9f182",
   "metadata": {},
   "source": [
    "* 终止条件：递归到棋盘最底层的时候，可以收集结果并返回了。"
   ]
  },
  {
   "cell_type": "code",
   "execution_count": 26,
   "id": "b1f216f3-53b0-4a08-9fa2-9f3aaff2dabb",
   "metadata": {},
   "outputs": [],
   "source": [
    "class Solution(object):\n",
    "    def solveNQueens(self, n):\n",
    "        \"\"\"\n",
    "        :type n: int\n",
    "        :rtype: List[List[str]]\n",
    "        \"\"\"\n",
    "        board = [['.'] * n for _ in range(n)]  # 初始化棋盘\n",
    "        result = []\n",
    "        def backtrack(board, row, col):\n",
    "        # 如果走到最后一行，说明已经找到一个解\n",
    "            if row == n:\n",
    "                temp_res = []\n",
    "                for temp in board:\n",
    "                    temp_str = \"\".join(temp)\n",
    "                    temp_res.append(temp_str)\n",
    "                result.append(temp_res)\n",
    "            for col in range(n):\n",
    "                if not isValid(board, row, col):\n",
    "                    continue\n",
    "                board[row][col] = 'Q'\n",
    "                backtrack(board, row + 1, n)\n",
    "                board[row][col] = '.'\n",
    "                \n",
    "        def isValid(board, row, col):\n",
    "            # 检查列\n",
    "            for i in range(0, row):\n",
    "                if board[i][col] == 'Q':\n",
    "                    return False\n",
    "            # 检查左上角\n",
    "            i = row - 1\n",
    "            j = col - 1\n",
    "            while i >= 0 and j >= 0:\n",
    "                if board[i][j] == 'Q':\n",
    "                    return False\n",
    "                i -= 1\n",
    "                j -= 1\n",
    "            # 检查右上角\n",
    "            i = row - 1\n",
    "            j = col + 1\n",
    "            while i >= 0 and j < n:\n",
    "                if board[i][j] == 'Q':\n",
    "                    return False\n",
    "                i -= 1\n",
    "                j += 1\n",
    "            return True\n",
    "        backtrack(board, 0, n)\n",
    "        return result"
   ]
  },
  {
   "cell_type": "code",
   "execution_count": 29,
   "id": "df0aea5f-9823-4fc0-8727-ceba07b7d1e8",
   "metadata": {},
   "outputs": [
    {
     "data": {
      "text/plain": [
       "[['.Q..', '...Q', 'Q...', '..Q.'], ['..Q.', 'Q...', '...Q', '.Q..']]"
      ]
     },
     "execution_count": 29,
     "metadata": {},
     "output_type": "execute_result"
    }
   ],
   "source": [
    "n = 4\n",
    "s = Solution()\n",
    "s.solveNQueens(n)"
   ]
  },
  {
   "cell_type": "markdown",
   "id": "ea1d277c-1600-479a-883b-61668859b282",
   "metadata": {},
   "source": [
    "* 时间复杂度：`O(N!)`\n",
    "* 空间复杂度：`O(N)`"
   ]
  },
  {
   "cell_type": "markdown",
   "id": "a36d3c3d-13cd-40f9-8dc0-528f00ab9a4e",
   "metadata": {},
   "source": [
    "### 2.解数独"
   ]
  },
  {
   "cell_type": "markdown",
   "id": "ee286255-fb47-4312-ab46-c0e81762e5af",
   "metadata": {},
   "source": [
    "#### 编写一个程序，通过填充空格来解决数独问题。（二维递归）"
   ]
  },
  {
   "cell_type": "markdown",
   "id": "50fd203b-524e-4e00-9353-278421daea78",
   "metadata": {},
   "source": [
    "* 一个数独的解法遵循以下规则：\n",
    "    * 数字1-9在每一行只能出现一次。\n",
    "    * 数字1-9在每一列只能出现一次。\n",
    "    * 数字1-9在每一个以粗实线分隔的3x3宫内只能出现一次。"
   ]
  },
  {
   "cell_type": "markdown",
   "id": "4968f32d-9ce6-4fda-8a92-56582a15a071",
   "metadata": {},
   "source": [
    "* 终止条件：不需要终止条件，是要遍历整个树形结构寻找可能的叶子节点就立刻返回。"
   ]
  },
  {
   "cell_type": "markdown",
   "id": "72ad25d0-6429-484e-81d4-cd67776e4312",
   "metadata": {},
   "source": [
    "* 二维递归：一个for循环遍历棋盘的行，一个for循环遍历棋盘的列，一行一列确定下来之后，递归遍历这个位置放9个数字的可能性。"
   ]
  },
  {
   "cell_type": "code",
   "execution_count": 24,
   "id": "7f918875-20fe-47bc-9a76-2ce03b460e1d",
   "metadata": {},
   "outputs": [],
   "source": [
    "s = ['1', '2', '3', '4', '5', '6', '7', '8', '9']\n",
    "def backtrack(board):\n",
    "    for i in range(len(board)):\n",
    "        for j in range(len(board[0])):\n",
    "            if board[i][j] != '.':\n",
    "                continue\n",
    "            for k in range(9):\n",
    "                if isValid(i, j, s[k], board):   # 判断是否可以填入该数字\n",
    "                    board[i][j] = s[k]   # 放置\n",
    "                    if backtrack(board):\n",
    "                        return True\n",
    "                    board[i][j] = '.'\n",
    "                            \n",
    "            return False   # 9个数都试完了，都不行，返回false\n",
    "    return True   # 找到合适的棋盘位置了\n",
    "\n",
    "def isValid(row, col, val, board):\n",
    "    for i in range(9):   # 判断行是否重复\n",
    "        if board[row][i] == val:\n",
    "            return False\n",
    "                \n",
    "    for j in range(9):   # 判断列是否重复\n",
    "        if board[j][col] == val:\n",
    "            return False\n",
    "                \n",
    "    startRow = int((row / 3) * 3)\n",
    "    startCol = int((col / 3) * 3)\n",
    "    for i in range(startRow, startRow + 3):\n",
    "        for j in range(startCol, startCol + 3):\n",
    "            if board[i][j] == val:\n",
    "                return False\n",
    "    return True"
   ]
  }
 ],
 "metadata": {
  "kernelspec": {
   "display_name": "Python 3",
   "language": "python",
   "name": "python3"
  },
  "language_info": {
   "codemirror_mode": {
    "name": "ipython",
    "version": 3
   },
   "file_extension": ".py",
   "mimetype": "text/x-python",
   "name": "python",
   "nbconvert_exporter": "python",
   "pygments_lexer": "ipython3",
   "version": "3.9.1"
  }
 },
 "nbformat": 4,
 "nbformat_minor": 5
}
