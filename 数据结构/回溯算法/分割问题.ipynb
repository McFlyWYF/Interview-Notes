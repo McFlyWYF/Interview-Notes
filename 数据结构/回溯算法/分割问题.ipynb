{
 "cells": [
  {
   "cell_type": "markdown",
   "id": "86cd04f4-ca14-45aa-8f88-218869574ae8",
   "metadata": {},
   "source": [
    "# 分割问题"
   ]
  },
  {
   "cell_type": "markdown",
   "id": "a8f9b67a-862e-4b50-adb4-2e31c24ab427",
   "metadata": {},
   "source": [
    "### 1. 分割回文串"
   ]
  },
  {
   "cell_type": "markdown",
   "id": "5b36065e-5715-4f84-9d03-801bf87c4fd6",
   "metadata": {},
   "source": [
    "#### 给定一个字符串s，将s分割成一些子串，使每个子串都是回文串。"
   ]
  },
  {
   "cell_type": "markdown",
   "id": "f4981e71-846e-4bd1-b5ee-4c5b89434edb",
   "metadata": {},
   "source": [
    "* 例如：输入`'aab'`，输出`[['aa','b'],['a','a','b']]`。"
   ]
  },
  {
   "cell_type": "markdown",
   "id": "fcd65007-5db9-4bef-b10f-9c1f8d4f0222",
   "metadata": {},
   "source": [
    "* 主要是切割问题和判断回文。"
   ]
  },
  {
   "cell_type": "markdown",
   "id": "fea45ba7-4de6-4a57-bdc5-0438f9b2390b",
   "metadata": {},
   "source": [
    "* 这个和组合问题很相似，也是需要start，搜索完当前元素后，在剩下的元素中继续搜索。"
   ]
  },
  {
   "cell_type": "markdown",
   "id": "52293318-6721-41df-9697-417a85458717",
   "metadata": {},
   "source": [
    "* 终止条件：切割线切到了字符串最后面。"
   ]
  },
  {
   "cell_type": "code",
   "execution_count": 78,
   "id": "7de3cbb8-53eb-41e8-89a4-5db27db134ff",
   "metadata": {},
   "outputs": [],
   "source": [
    "result = []\n",
    "path = []\n",
    "\n",
    "def backtrack(s, start):\n",
    "    if start >= len(s):   # 切割起始位置已经大于s的大小，找到一组解决方案\n",
    "        result.append(path[:])\n",
    "    for i in range(start, len(s)):\n",
    "        substr = s[start:i + 1]\n",
    "        if substr == substr[::-1]:   # 判断是否是回文串\n",
    "            path.append(substr)\n",
    "        else:\n",
    "            continue\n",
    "        backtrack(s, i + 1)\n",
    "        path.pop()"
   ]
  },
  {
   "cell_type": "code",
   "execution_count": 79,
   "id": "6e660ad1-621b-4c0d-b82a-42f117d76846",
   "metadata": {},
   "outputs": [],
   "source": [
    "s = 'aab'\n",
    "backtrack(s, 0)"
   ]
  },
  {
   "cell_type": "code",
   "execution_count": 80,
   "id": "3de1266b-ec9c-4352-830a-9aaf72ad9a0b",
   "metadata": {},
   "outputs": [
    {
     "data": {
      "text/plain": [
       "[['a', 'a', 'b'], ['aa', 'b']]"
      ]
     },
     "execution_count": 80,
     "metadata": {},
     "output_type": "execute_result"
    }
   ],
   "source": [
    "result"
   ]
  },
  {
   "cell_type": "markdown",
   "id": "dcbeb179-6df8-42c7-acca-1825031aa949",
   "metadata": {},
   "source": [
    "### 2.复原IP地址"
   ]
  },
  {
   "cell_type": "markdown",
   "id": "7f886bfc-9dd6-4dbd-937e-123d0d8f29dd",
   "metadata": {},
   "source": [
    "#### 给定一个只包含数字的字符串，复原它并返回所有可能的IP地址格式。（不能有前导0，每个整数位于0-255之间）"
   ]
  },
  {
   "cell_type": "markdown",
   "id": "07b97674-9b0d-45a0-9253-dcfcd7883089",
   "metadata": {},
   "source": [
    "* 例如：`0.1.2.201`，`192.168.1.1`是有效IP地址，但`0.011.255.245`，`192.168.1.312`是无效IP地址。"
   ]
  },
  {
   "cell_type": "markdown",
   "id": "4e08eee2-8a9f-44ea-84ed-ae03941f4b55",
   "metadata": {},
   "source": [
    "* 输入：s=`'25525511135’`,输出：`['255.255.11.135','255.255.111.35']`"
   ]
  },
  {
   "cell_type": "markdown",
   "id": "1f7f3f56-5a4c-467d-a780-f19ae79284ea",
   "metadata": {},
   "source": [
    "* 终止条件，分割的段数。"
   ]
  },
  {
   "cell_type": "markdown",
   "id": "8417aacc-e45a-4526-8a16-6a1104bc4131",
   "metadata": {},
   "source": [
    "* 判断子串是否合法：\n",
    "    * 段位以0为开头的数字不合法\n",
    "    * 段位里有非正整数字符不合法\n",
    "    * 段位如果大于255里不合法"
   ]
  },
  {
   "cell_type": "code",
   "execution_count": 128,
   "id": "c0096f28-2850-48f5-b241-a7778ef53654",
   "metadata": {},
   "outputs": [],
   "source": [
    "result = []\n",
    "\n",
    "def backtrack(s, path, start):\n",
    "    if len(path) == 4:   # 分割4段且分割到字符串末尾\n",
    "        if start == len(s):\n",
    "            result.append('.'.join(path[:]))\n",
    "        return\n",
    "    for i in range(start, min(start + 3, len(s))):   # 剪枝\n",
    "        substr = s[start:i + 1]\n",
    "        if not 0 <= int(substr) <= 255:   # 是否是数字或在0-255之间\n",
    "            continue\n",
    "        if not substr == '0' and not substr.lstrip('0') == substr:   # 是否以0开头\n",
    "            continue\n",
    "        \n",
    "        path.append(substr)\n",
    "        backtrack(s, path, i + 1)\n",
    "        path.pop()"
   ]
  },
  {
   "cell_type": "code",
   "execution_count": 129,
   "id": "8986e3cd-71e7-4627-992a-0d2fa9715abb",
   "metadata": {},
   "outputs": [],
   "source": [
    "s = '010010'\n",
    "backtrack(s, [], 0)"
   ]
  },
  {
   "cell_type": "code",
   "execution_count": 130,
   "id": "5093a91c-360b-4bcb-a8e2-9475c5b670aa",
   "metadata": {},
   "outputs": [
    {
     "data": {
      "text/plain": [
       "['0.10.0.10', '0.100.1.0']"
      ]
     },
     "execution_count": 130,
     "metadata": {},
     "output_type": "execute_result"
    }
   ],
   "source": [
    "result"
   ]
  }
 ],
 "metadata": {
  "kernelspec": {
   "display_name": "Python 3",
   "language": "python",
   "name": "python3"
  },
  "language_info": {
   "codemirror_mode": {
    "name": "ipython",
    "version": 3
   },
   "file_extension": ".py",
   "mimetype": "text/x-python",
   "name": "python",
   "nbconvert_exporter": "python",
   "pygments_lexer": "ipython3",
   "version": "3.9.1"
  }
 },
 "nbformat": 4,
 "nbformat_minor": 5
}
