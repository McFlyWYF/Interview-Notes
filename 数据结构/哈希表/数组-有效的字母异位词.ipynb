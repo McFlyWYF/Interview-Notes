{
 "cells": [
  {
   "cell_type": "markdown",
   "id": "8d76b779-aec8-45c9-9dba-dc71799ed2aa",
   "metadata": {},
   "source": [
    "# 有效的字母异位词"
   ]
  },
  {
   "cell_type": "markdown",
   "id": "22311133-d7b6-46e5-aeed-d73ba4a74091",
   "metadata": {},
   "source": [
    "### 给定两个字符串s和t，编写一个函数来判断t是否是s的字母异位词。"
   ]
  },
  {
   "cell_type": "markdown",
   "id": "e842a774-6c7a-4e37-b5b6-117c466b6a0a",
   "metadata": {},
   "source": [
    "* 例如：\n",
    "    * 输入：s = 'anagram', t = 'nagaram'\n",
    "    * 输出：true"
   ]
  },
  {
   "cell_type": "markdown",
   "id": "bb06110e-93e8-48a2-9580-0b32326c9ab2",
   "metadata": {},
   "source": [
    "* 数组就是一个简单哈希表，可以定义一个数组，来记录字符串s里字符出现的次数。"
   ]
  },
  {
   "cell_type": "markdown",
   "id": "83d1d1d4-89ea-4222-a95a-9b0740529960",
   "metadata": {},
   "source": [
    "需要把字符映射到数组也就是哈希表的索引下标上，因为字符a到字符z的ASCII是26个连续的数值，所以字符a映射为下标0，相应的字符z映射为下标25。再次遍历字符s的时候，只需要将s[i] - ‘a'所在的元素做+1即可，并不需要记住字符a的ASCII，只要求一个相对数值就可以了，这样就统计出字符串s中字符的次数。"
   ]
  },
  {
   "cell_type": "markdown",
   "id": "6c01da40-4d6f-4105-a468-1384db4e2d13",
   "metadata": {},
   "source": [
    "检查字符串t中是否出现了这些字符，同样在遍历字符串t的时候，对t中出现的字符映射哈希表索引上的数值再做-1操作。"
   ]
  },
  {
   "cell_type": "markdown",
   "id": "4b186ce5-fbe0-45a1-b0f3-96602e5768fa",
   "metadata": {},
   "source": [
    "最后检查一下，数组如果有的元素不为零0，说明字符串s和t一定是谁多了字符或谁少了字符，返回false。如果数组所有元素都为零0，返回true。"
   ]
  },
  {
   "cell_type": "markdown",
   "id": "28aaa288-9cdb-428c-b139-ce5d1059ee66",
   "metadata": {},
   "source": [
    "* 时间复杂度为`O(n)`，空间复杂度为`O(1)`。"
   ]
  },
  {
   "cell_type": "code",
   "execution_count": 31,
   "id": "367cb1c2-edfb-45c0-b76b-1a71a738202b",
   "metadata": {},
   "outputs": [],
   "source": [
    "def isAnagram(s, t):\n",
    "    record = [0 for _ in range(26)]\n",
    "    for i in range(len(s)):\n",
    "        record[ord(s[i]) - ord('a')] += 1\n",
    "    for i in range(len(t)):\n",
    "        record[ord(t[i]) - ord('a')] -= 1\n",
    "    print('record:', record)\n",
    "    for i in range(len(record)):\n",
    "        if record[i] != 0:\n",
    "            return False\n",
    "    return True"
   ]
  },
  {
   "cell_type": "code",
   "execution_count": 32,
   "id": "e609df55-f7c0-4454-9f74-102b0b0e9a35",
   "metadata": {},
   "outputs": [
    {
     "name": "stdout",
     "output_type": "stream",
     "text": [
      "record: [0, 0, 0, 0, 0, 0, 0, 0, 0, 0, 0, 0, 0, 0, 0, 0, 0, 0, 0, 0, 0, 0, 0, 0, 0, 0]\n"
     ]
    },
    {
     "data": {
      "text/plain": [
       "True"
      ]
     },
     "execution_count": 32,
     "metadata": {},
     "output_type": "execute_result"
    }
   ],
   "source": [
    "s = 'abcd'\n",
    "t = 'dcba'\n",
    "isAnagram(s, t)"
   ]
  }
 ],
 "metadata": {
  "kernelspec": {
   "display_name": "Python 3",
   "language": "python",
   "name": "python3"
  },
  "language_info": {
   "codemirror_mode": {
    "name": "ipython",
    "version": 3
   },
   "file_extension": ".py",
   "mimetype": "text/x-python",
   "name": "python",
   "nbconvert_exporter": "python",
   "pygments_lexer": "ipython3",
   "version": "3.9.1"
  }
 },
 "nbformat": 4,
 "nbformat_minor": 5
}
