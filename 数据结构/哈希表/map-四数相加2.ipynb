{
 "cells": [
  {
   "cell_type": "markdown",
   "id": "64fe0837-e820-4d57-8249-331ddd0707cd",
   "metadata": {},
   "source": [
    "# 四数相加2"
   ]
  },
  {
   "cell_type": "markdown",
   "id": "277c1b92-9c63-41a1-a7d6-f28417ea14cb",
   "metadata": {},
   "source": [
    "### 给定两个包含整数的数组列表A, B, C, D, 计算有多少个元组(i, j, k, l)，使得A[i]+B[j]+C[k]+D[l]=0。"
   ]
  },
  {
   "cell_type": "markdown",
   "id": "be3e0afe-910a-453b-941d-192b2c09e7b8",
   "metadata": {},
   "source": [
    "* 例如：\n",
    "    * 输入：A=[1,2], B=[-2,-1], C=[-1,2], D=[0,2]\n",
    "    * 输出：2"
   ]
  },
  {
   "cell_type": "markdown",
   "id": "1410da8c-e321-48f2-8ec9-91ff399e79e7",
   "metadata": {},
   "source": [
    "#### 解题步骤\n",
    "* 首先定义一个map，key放a和b两数之和，value放a和b两数之和出现的次数。\n",
    "* 遍历大A和大B数组，统计两个数组元素之和，和出现的次数，放到map中。\n",
    "* 定义变量count，用来统计a+b+c+d=0出现的次数。\n",
    "* 在遍历大C和大D数组，找到如果0-(c+d)在map中出现过的话，就用count把map中key对应的value也就是出现的次数统计出来。\n",
    "* 最后返回统计值count就可以了。"
   ]
  },
  {
   "cell_type": "code",
   "execution_count": 7,
   "id": "55ccd722-e81e-423c-bb0e-eddde8cdf02a",
   "metadata": {},
   "outputs": [],
   "source": [
    "def solve(A,B,C,D):\n",
    "    sum_map = dict()\n",
    "    for a in A:\n",
    "        for b in B:\n",
    "            if a + b in sum_map:\n",
    "                sum_map[a+b] += 1\n",
    "            else:\n",
    "                sum_map[a+b] = 1\n",
    "    count = 0\n",
    "    for c in C:\n",
    "        for d in D:\n",
    "            if (-1) * (c+d) in sum_map:\n",
    "                count += sum_map[0-c-d]\n",
    "    return count"
   ]
  },
  {
   "cell_type": "code",
   "execution_count": 6,
   "id": "e5f135ed-2237-4b9e-8d84-f3ab7d970fca",
   "metadata": {},
   "outputs": [
    {
     "data": {
      "text/plain": [
       "2"
      ]
     },
     "execution_count": 6,
     "metadata": {},
     "output_type": "execute_result"
    }
   ],
   "source": [
    "A = [1, 2]\n",
    "B = [-2, -1]\n",
    "C = [-1, 2]\n",
    "D = [0, 2]\n",
    "solve(A, B, C, D)"
   ]
  }
 ],
 "metadata": {
  "kernelspec": {
   "display_name": "Python 3",
   "language": "python",
   "name": "python3"
  },
  "language_info": {
   "codemirror_mode": {
    "name": "ipython",
    "version": 3
   },
   "file_extension": ".py",
   "mimetype": "text/x-python",
   "name": "python",
   "nbconvert_exporter": "python",
   "pygments_lexer": "ipython3",
   "version": "3.9.1"
  }
 },
 "nbformat": 4,
 "nbformat_minor": 5
}
