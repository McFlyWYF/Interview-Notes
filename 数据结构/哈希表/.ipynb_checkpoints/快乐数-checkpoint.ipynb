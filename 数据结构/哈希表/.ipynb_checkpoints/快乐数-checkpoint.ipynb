{
 "cells": [
  {
   "cell_type": "markdown",
   "id": "9544f49f-55a4-4965-a2be-84aa56a0c8d7",
   "metadata": {},
   "source": [
    "# 快乐数"
   ]
  },
  {
   "cell_type": "markdown",
   "id": "4cb65887-8e51-4ddd-8ae3-6eb273275e25",
   "metadata": {},
   "source": [
    "### 编写一个算法来判断一个数n是不是快乐数。"
   ]
  },
  {
   "cell_type": "markdown",
   "id": "f97c925e-23f4-4446-9e50-c9f8fe8c268f",
   "metadata": {},
   "source": [
    "* 快乐数定义为：对于一个正整数，每一次将该数替换为它每个位置上的数字的平方和，然后重复这个过程直到这个数变为1，也可能是无限循环，但始终变不到1.如果可以变为1，那么这个数就是快乐数。"
   ]
  },
  {
   "cell_type": "markdown",
   "id": "25a29844-a011-488c-b7da-9e4e81b80be5",
   "metadata": {},
   "source": [
    "* 例如：\n",
    "    * 输入：19\n",
    "    * 输出：true\n",
    "    * 解释：\n",
    "        $1^2+9^2=82$, $8^2+2^2=68$, $6^2+8^2=100$, $1^2+0^2+0^2=1$"
   ]
  },
  {
   "cell_type": "markdown",
   "id": "64169818-d0d7-40a5-8141-b6a11e652930",
   "metadata": {},
   "source": [
    "这道题使用哈希法判断sum是否重复出现，如果重复出现返回false，否则一直找到sum为1为止。"
   ]
  },
  {
   "cell_type": "code",
   "execution_count": 18,
   "id": "eaa1301a-0045-490e-90e6-5f9fef1ee188",
   "metadata": {},
   "outputs": [],
   "source": [
    "def solve(n):\n",
    "    sumset = set()\n",
    "    while 1:\n",
    "        sums = 0\n",
    "        while n:\n",
    "            sums += (n % 10)**2\n",
    "            n = n // 10\n",
    "        if sums in sumset:\n",
    "            return False\n",
    "        elif sums == 1:\n",
    "            return True\n",
    "        else:\n",
    "            sumset.add(sums)\n",
    "            n = sums"
   ]
  },
  {
   "cell_type": "code",
   "execution_count": 19,
   "id": "b0ba1fe4-fc7b-4931-9e51-7b2b3303cb1c",
   "metadata": {},
   "outputs": [
    {
     "data": {
      "text/plain": [
       "True"
      ]
     },
     "execution_count": 19,
     "metadata": {},
     "output_type": "execute_result"
    }
   ],
   "source": [
    "solve(19)"
   ]
  }
 ],
 "metadata": {
  "kernelspec": {
   "display_name": "Python 3",
   "language": "python",
   "name": "python3"
  },
  "language_info": {
   "codemirror_mode": {
    "name": "ipython",
    "version": 3
   },
   "file_extension": ".py",
   "mimetype": "text/x-python",
   "name": "python",
   "nbconvert_exporter": "python",
   "pygments_lexer": "ipython3",
   "version": "3.9.1"
  }
 },
 "nbformat": 4,
 "nbformat_minor": 5
}
