{
 "cells": [
  {
   "cell_type": "markdown",
   "id": "c6a4b124-527d-483e-9624-beadc1efd2e2",
   "metadata": {},
   "source": [
    "# 两数之和"
   ]
  },
  {
   "cell_type": "markdown",
   "id": "80908b50-880e-42fd-b1ed-28757a694394",
   "metadata": {},
   "source": [
    "### 给定一个整数数组nums和一个目标值target，在该数组中找出和为目标值的那两个整数，并返回他们的数组下标。"
   ]
  },
  {
   "cell_type": "markdown",
   "id": "05dfab9f-91ae-4dae-8bf9-65562152e1c5",
   "metadata": {},
   "source": [
    "* 例如：\n",
    "    * 输入：nums = [2, 7, 11, 15], target = 9\n",
    "    * 输出：[0, 1]"
   ]
  },
  {
   "cell_type": "markdown",
   "id": "7a64da5a-26d6-499c-8c13-833d9f2a2a4f",
   "metadata": {},
   "source": [
    "使用暴力法是两层for循环，时间复杂度是`O(n^2)`。使用哈希法最为合适。"
   ]
  },
  {
   "cell_type": "markdown",
   "id": "f0f6fe63-02fb-4376-9f5d-0d0b20053aa4",
   "metadata": {},
   "source": [
    "* 数组和set做哈希法的局限：\n",
    "    * 数组的大小是受限制的，而且如果元素很少，而哈希值太大会造成内存空间的浪费。\n",
    "    * set是一个集合，里面放的元素只能是一个key，而两数之和，不仅要判断y是否存在，而且还要记录y的下标位置。所以set不能用。"
   ]
  },
  {
   "cell_type": "code",
   "execution_count": 3,
   "id": "82d6d8a8-0a40-4633-a3dc-e23bbaaf622c",
   "metadata": {},
   "outputs": [],
   "source": [
    "def solve(nums, target):\n",
    "    index_map = {}\n",
    "    for index, num in enumerate(nums):\n",
    "        index_map[num] = index\n",
    "    for i, num in enumerate(nums):\n",
    "        j = index_map.get(target - num)\n",
    "        if j is not None and i != j:\n",
    "            return [i, j]"
   ]
  },
  {
   "cell_type": "code",
   "execution_count": 4,
   "id": "80bbccd2-b31d-40ce-a901-c7d007d53304",
   "metadata": {},
   "outputs": [
    {
     "data": {
      "text/plain": [
       "[0, 1]"
      ]
     },
     "execution_count": 4,
     "metadata": {},
     "output_type": "execute_result"
    }
   ],
   "source": [
    "nums = [2, 7, 11, 15]\n",
    "target = 9\n",
    "solve(nums, target)"
   ]
  }
 ],
 "metadata": {
  "kernelspec": {
   "display_name": "Python 3",
   "language": "python",
   "name": "python3"
  },
  "language_info": {
   "codemirror_mode": {
    "name": "ipython",
    "version": 3
   },
   "file_extension": ".py",
   "mimetype": "text/x-python",
   "name": "python",
   "nbconvert_exporter": "python",
   "pygments_lexer": "ipython3",
   "version": "3.9.1"
  }
 },
 "nbformat": 4,
 "nbformat_minor": 5
}
