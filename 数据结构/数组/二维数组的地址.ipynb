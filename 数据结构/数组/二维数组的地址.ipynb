{
 "cells": [
  {
   "cell_type": "markdown",
   "metadata": {},
   "source": [
    "### 二维数组的地址"
   ]
  },
  {
   "cell_type": "markdown",
   "metadata": {},
   "source": [
    "* 在C++中，数组之间的地址是连续的。"
   ]
  },
  {
   "cell_type": "markdown",
   "metadata": {},
   "source": [
    "```C++\n",
    "// 测存储地址\n",
    "void test_arr() {\n",
    "    int array[2][3] = {\n",
    "  {0, 1, 2},\n",
    "  {3, 4, 5}\n",
    "    };\n",
    "    cout << &array[0][0] << \" \" << &array[0][1] << \" \" << &array[0][2] << endl;\n",
    "    cout << &array[1][0] << \" \" << &array[1][1] << \" \" << &array[1][2] << endl;\n",
    "}\n",
    "\n",
    "int main() {\n",
    "    test_arr();\n",
    "}\n",
    "```"
   ]
  },
  {
   "cell_type": "markdown",
   "metadata": {},
   "source": [
    "测试地址为：`0x7ffee4065820`, `0x7ffee4065824`, `0x7ffee4065828`,\n",
    "`0x7ffee406582c`, `0x7ffee4065830`, `0x7ffee4065834`。"
   ]
  },
  {
   "cell_type": "markdown",
   "metadata": {},
   "source": [
    "![image.png](attachment:7e39e1ee-0ddb-463c-9ad1-c4112f436282.png)"
   ]
  },
  {
   "cell_type": "markdown",
   "metadata": {},
   "source": [
    "* 在java中，数组的首地址是随机的，对地址进行了隐藏，看不到地址。"
   ]
  },
  {
   "cell_type": "markdown",
   "metadata": {},
   "source": [
    "```java\n",
    "public static void test_arr() {\n",
    "    int[][] arr = {{1, 2, 3}, {3, 4, 5}, {6, 7, 8}, {9,9,9}};\n",
    "    System.out.println(arr[0]);\n",
    "    System.out.println(arr[1]);\n",
    "    System.out.println(arr[2]);\n",
    "    System.out.println(arr[3]);\n",
    "}\n",
    "```"
   ]
  },
  {
   "cell_type": "markdown",
   "metadata": {},
   "source": [
    "测试地址为：`[I@7852e922`,`[I@4e25154f`,`[I@70dea4e`,`[I@5c647e05`。"
   ]
  },
  {
   "cell_type": "markdown",
   "metadata": {},
   "source": [
    "如下排列方式：![image.png](attachment:8421c75a-3932-4cfa-a35c-55f0be716dc2.png)"
   ]
  },
  {
   "cell_type": "markdown",
   "metadata": {},
   "source": [
    "* 数组的元素是不能删的，只能覆盖。"
   ]
  }
 ],
 "metadata": {
  "kernelspec": {
   "display_name": "Python 3",
   "language": "python",
   "name": "python3"
  },
  "language_info": {
   "codemirror_mode": {
    "name": "ipython",
    "version": 3
   },
   "file_extension": ".py",
   "mimetype": "text/x-python",
   "name": "python",
   "nbconvert_exporter": "python",
   "pygments_lexer": "ipython3",
   "version": "3.6.5"
  }
 },
 "nbformat": 4,
 "nbformat_minor": 5
}
