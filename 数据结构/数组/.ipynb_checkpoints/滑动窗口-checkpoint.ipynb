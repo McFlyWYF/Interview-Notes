{
 "cells": [
  {
   "cell_type": "markdown",
   "id": "71c9d891-632f-48b3-9b8e-f16e75e22ca6",
   "metadata": {},
   "source": [
    "# 滑动窗口"
   ]
  },
  {
   "cell_type": "markdown",
   "id": "4a19cacb-46b5-40d7-b4b4-6db88cd4cc04",
   "metadata": {},
   "source": [
    "### 1.长度最小的子数组（209）"
   ]
  },
  {
   "cell_type": "markdown",
   "id": "8f41a5df-c3f0-4788-b23d-7d5c59cf484e",
   "metadata": {},
   "source": [
    "#### 给定一个含有n个正整数的数组和一个正整数s，找出该数组中满足其和$>=s$的长度最小的连续子数组，并返回其长度。如果不存在符合条件的子数组，返回0."
   ]
  },
  {
   "cell_type": "markdown",
   "id": "39c91893-2914-4eff-a084-4f3af5a0f69f",
   "metadata": {},
   "source": [
    "* 例如：\n",
    "    * 输入s = 7, nums = [2, 3, 1, 2, 4, 3]\n",
    "    * 输出：2"
   ]
  },
  {
   "cell_type": "markdown",
   "id": "5ff302a3-2e66-40b7-be71-f5d49908be18",
   "metadata": {},
   "source": [
    "#### 暴力解法"
   ]
  },
  {
   "cell_type": "code",
   "execution_count": 42,
   "id": "8d8d8fb6-9f6d-4010-9350-a508606e3edb",
   "metadata": {},
   "outputs": [],
   "source": [
    "import math\n",
    "def solve(nums, s):\n",
    "    minlen = 0\n",
    "    result = math.inf\n",
    "    for i in range(len(nums)):\n",
    "        sums = 0\n",
    "        for j in range(i, len(nums)):\n",
    "            sums += nums[j]\n",
    "            if sums >= s:\n",
    "                minlen = j - i + 1\n",
    "                if result > minlen:\n",
    "                    result = minlen\n",
    "    return result"
   ]
  },
  {
   "cell_type": "code",
   "execution_count": 43,
   "id": "e5d719d6-d466-4510-89f5-cb0eb0c5f197",
   "metadata": {},
   "outputs": [
    {
     "data": {
      "text/plain": [
       "2"
      ]
     },
     "execution_count": 43,
     "metadata": {},
     "output_type": "execute_result"
    }
   ],
   "source": [
    "nums = [2, 3, 1, 2, 4, 3]\n",
    "s = 7\n",
    "solve(nums, s)"
   ]
  },
  {
   "cell_type": "markdown",
   "id": "25680ac6-b891-4340-9b92-83f354eca6f1",
   "metadata": {},
   "source": [
    "* 时间复杂度：$O(n^2)$\n",
    "* 空间复杂度：$O(1)$"
   ]
  },
  {
   "cell_type": "markdown",
   "id": "faa337ef-4ff6-46f4-9904-ef12c18a852a",
   "metadata": {},
   "source": [
    "#### 滑动窗口"
   ]
  },
  {
   "cell_type": "markdown",
   "id": "0768bf71-86ce-4f45-99e8-b3f9f0f38043",
   "metadata": {},
   "source": [
    "* 不断调节子序列的起始位置和终止位置。"
   ]
  },
  {
   "cell_type": "markdown",
   "id": "30043f4b-fb77-4651-b9d4-2fa254d4f877",
   "metadata": {},
   "source": [
    "##### 窗口：满足其和>=s的长度最小的连续子数组。\n",
    "##### 起始位置：如果当前窗口的值大于s了，窗口就要向前移动了（缩小）。\n",
    "##### 结束位置：结束位置就是遍历数组的指针。"
   ]
  },
  {
   "cell_type": "code",
   "execution_count": 64,
   "id": "076254ba-757d-4cb5-84d0-d6c72e17b220",
   "metadata": {},
   "outputs": [],
   "source": [
    "def solve(nums, s):\n",
    "    startindex = 0\n",
    "    minlen = 0\n",
    "    sums = 0\n",
    "    result = 100000\n",
    "    if sum(nums) < s:\n",
    "        return 0\n",
    "    \n",
    "    for i in range(len(nums)):\n",
    "        sums += nums[i]\n",
    "        \n",
    "        while sums >= s:\n",
    "            minlen = i - startindex + 1   # 子序列长度\n",
    "            if result > minlen:\n",
    "                result = minlen   # 更新\n",
    "            sums -= nums[startindex]   # 减去前一个元素值，窗口后移\n",
    "            startindex += 1\n",
    "    return result"
   ]
  },
  {
   "cell_type": "code",
   "execution_count": 65,
   "id": "82b6e7cc-b269-4944-9ca9-c069893d8211",
   "metadata": {},
   "outputs": [
    {
     "data": {
      "text/plain": [
       "2"
      ]
     },
     "execution_count": 65,
     "metadata": {},
     "output_type": "execute_result"
    }
   ],
   "source": [
    "nums = [2, 3, 1, 2, 4, 3]\n",
    "s = 7\n",
    "solve(nums, s)"
   ]
  },
  {
   "cell_type": "markdown",
   "id": "40fa7414-b5ac-445f-bb63-19509070b168",
   "metadata": {},
   "source": [
    "* 时间复杂度：$O(n)$\n",
    "* 空间复杂度：$O(1)$"
   ]
  }
 ],
 "metadata": {
  "kernelspec": {
   "display_name": "Python 3",
   "language": "python",
   "name": "python3"
  },
  "language_info": {
   "codemirror_mode": {
    "name": "ipython",
    "version": 3
   },
   "file_extension": ".py",
   "mimetype": "text/x-python",
   "name": "python",
   "nbconvert_exporter": "python",
   "pygments_lexer": "ipython3",
   "version": "3.9.1"
  }
 },
 "nbformat": 4,
 "nbformat_minor": 5
}
