{
 "cells": [
  {
   "cell_type": "markdown",
   "id": "2e7c8a21-59e6-4e5f-9787-add36068f257",
   "metadata": {},
   "source": [
    "# 35.搜索插入位置"
   ]
  },
  {
   "cell_type": "markdown",
   "id": "131c49d3-edc8-48ca-83e1-51dd44ec12ca",
   "metadata": {},
   "source": [
    "#### 给定一个排序数组和一个目标值，在数组中找到目标值，并返回其索引，如果目标值不存在于数组中，返回它将会按顺序插入的位置。"
   ]
  },
  {
   "cell_type": "markdown",
   "id": "295872ef-d070-4f3b-8e89-073a55560d66",
   "metadata": {},
   "source": [
    "* 例如：\n",
    "    * 输入：[1, 3, 5, 6], 5\n",
    "    * 输出：2"
   ]
  },
  {
   "cell_type": "markdown",
   "id": "24c9d86a-af8e-49c6-ae17-74f6d8c409ce",
   "metadata": {},
   "source": [
    "* 目标值存在四种情况：1.在数组所有元素之前；2.等于数组中某个元素；3.插入数组中间的位置；4.在所有元素之后。"
   ]
  },
  {
   "cell_type": "markdown",
   "id": "fdf6d5c3-9cec-480e-8176-9f46b1e6b15b",
   "metadata": {},
   "source": [
    "#### 暴力解法"
   ]
  },
  {
   "cell_type": "code",
   "execution_count": 12,
   "id": "105bc05e-ad28-40d1-9924-063fb571ed97",
   "metadata": {},
   "outputs": [],
   "source": [
    "def solve(nums, target):\n",
    "    \n",
    "    # 前3种情况\n",
    "    for i in range(len(nums)):\n",
    "        if target <= nums[i]:\n",
    "            return i\n",
    "    # 最后一种\n",
    "    return len(nums)"
   ]
  },
  {
   "cell_type": "code",
   "execution_count": 13,
   "id": "350073fc-f098-471d-a0a4-850680f28843",
   "metadata": {},
   "outputs": [
    {
     "data": {
      "text/plain": [
       "0"
      ]
     },
     "execution_count": 13,
     "metadata": {},
     "output_type": "execute_result"
    }
   ],
   "source": [
    "nums = [1, 3, 4, 6]\n",
    "target = 0\n",
    "solve(nums, target)"
   ]
  },
  {
   "cell_type": "markdown",
   "id": "9e53d9b7-d9f5-4c4d-a095-66475568c218",
   "metadata": {},
   "source": [
    "* 时间复杂度：$O(n)$\n",
    "* 空间复杂度：$O(1)$"
   ]
  },
  {
   "cell_type": "markdown",
   "id": "ef3e5b63-a08d-4d0b-aaaa-815dee6b579e",
   "metadata": {},
   "source": [
    "#### 二分法"
   ]
  },
  {
   "cell_type": "code",
   "execution_count": 22,
   "id": "3e83dff0-1f1e-410e-b65b-272c0cec53f1",
   "metadata": {},
   "outputs": [],
   "source": [
    "def binarysolve(nums, target):\n",
    "    left = 0\n",
    "    right = len(nums) - 1\n",
    "    while left <= right:\n",
    "        middle = (left + right) // 2\n",
    "        \n",
    "        if nums[middle] == target:\n",
    "            return middle\n",
    "        if nums[middle] > target:\n",
    "            right = middle - 1\n",
    "        if nums[middle] < target:\n",
    "            left = middle + 1\n",
    "    return right + 1        "
   ]
  },
  {
   "cell_type": "code",
   "execution_count": 23,
   "id": "49253185-6d4e-49a5-8363-7d1e4176a4c7",
   "metadata": {},
   "outputs": [
    {
     "data": {
      "text/plain": [
       "2"
      ]
     },
     "execution_count": 23,
     "metadata": {},
     "output_type": "execute_result"
    }
   ],
   "source": [
    "nums = [1, 3, 4, 5, 6]\n",
    "target = 4\n",
    "binarysolve(nums, target)"
   ]
  },
  {
   "cell_type": "markdown",
   "id": "48b207d2-82dd-48b4-981f-51b82ef85043",
   "metadata": {},
   "source": [
    "* 时间复杂度：$O(logn)$\n",
    "* 空间复杂度：$O(1)$"
   ]
  }
 ],
 "metadata": {
  "kernelspec": {
   "display_name": "Python 3",
   "language": "python",
   "name": "python3"
  },
  "language_info": {
   "codemirror_mode": {
    "name": "ipython",
    "version": 3
   },
   "file_extension": ".py",
   "mimetype": "text/x-python",
   "name": "python",
   "nbconvert_exporter": "python",
   "pygments_lexer": "ipython3",
   "version": "3.9.1"
  }
 },
 "nbformat": 4,
 "nbformat_minor": 5
}
