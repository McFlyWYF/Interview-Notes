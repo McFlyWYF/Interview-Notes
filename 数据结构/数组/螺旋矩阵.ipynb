{
 "cells": [
  {
   "cell_type": "markdown",
   "id": "d15dbbf2-264c-4b26-bf0c-af2e858a0dad",
   "metadata": {},
   "source": [
    "### 螺旋矩阵1（54）"
   ]
  },
  {
   "cell_type": "markdown",
   "id": "089e952a-c7be-462d-8448-77339cbf895f",
   "metadata": {},
   "source": [
    "#### 给定一个$mxn$的矩阵matrix，按照顺时针螺旋顺序，返回矩阵中的元素。"
   ]
  },
  {
   "cell_type": "markdown",
   "id": "1201f910-12a8-42ce-ab18-6a5b3d78b2e4",
   "metadata": {},
   "source": [
    "* 例如：\n",
    "    * 输入：`matrix = [[1, 2, 3, 4], [5, 6, 7, 8], [9, 10, 11, 12]]`\n",
    "    * 输出：`[1,2,3,4,5,6,7,8,9,10,11,12]`"
   ]
  },
  {
   "cell_type": "markdown",
   "id": "c680ed31-39dc-4e4c-8c1d-40ae9fd0b30a",
   "metadata": {},
   "source": [
    "* 从左到右，从上到下，从右到左，从下到上，依次遍历。如果上下，左右交叉重叠，则退出循环，返回结果。"
   ]
  },
  {
   "cell_type": "code",
   "execution_count": 10,
   "id": "c5754561-322a-4e30-80da-63648d948f36",
   "metadata": {},
   "outputs": [],
   "source": [
    "def solve(matrix):\n",
    "    left = 0\n",
    "    up = 0\n",
    "    right = len(matrix[0]) - 1\n",
    "    down = len(matrix) - 1\n",
    "    \n",
    "    ans = []\n",
    "    if len(matrix) == 0:\n",
    "        return ans\n",
    "    \n",
    "    while left <= right and up <= down:\n",
    "        for i in range(left, right + 1):\n",
    "            ans.append(matrix[up][i])\n",
    "        up += 1\n",
    "        if up > down:\n",
    "            break\n",
    "        \n",
    "        for i in range(up, down + 1):\n",
    "            ans.append(matrix[i][right])\n",
    "        right -= 1\n",
    "        if right < left:\n",
    "            break\n",
    "            \n",
    "        for i in range(right, left - 1, -1):\n",
    "            ans.append(matrix[down][i])\n",
    "        down -= 1\n",
    "        if up > down:\n",
    "            break\n",
    "        \n",
    "        for i in range(down, up - 1, -1):\n",
    "            ans.append(matrix[i][left])\n",
    "        left += 1\n",
    "        if left > right:\n",
    "            break\n",
    "    return ans"
   ]
  },
  {
   "cell_type": "code",
   "execution_count": 11,
   "id": "02ce5e3f-8d94-4ede-bf20-bfd181e7a88e",
   "metadata": {},
   "outputs": [
    {
     "data": {
      "text/plain": [
       "[1, 2, 3, 4, 8, 12, 11, 10, 9, 5, 6, 7]"
      ]
     },
     "execution_count": 11,
     "metadata": {},
     "output_type": "execute_result"
    }
   ],
   "source": [
    "matrix = [[1, 2, 3, 4], [5, 6, 7, 8], [9, 10, 11, 12]]\n",
    "solve(matrix)"
   ]
  },
  {
   "cell_type": "markdown",
   "id": "70fca062-93c6-4d89-94df-4bd47e54ace0",
   "metadata": {},
   "source": [
    "### 螺旋矩阵2（59）"
   ]
  },
  {
   "cell_type": "markdown",
   "id": "9d5687fe-095e-4207-ae4a-5b90b19a8d3e",
   "metadata": {},
   "source": [
    "#### 给定一个正整数n，生成一个包含1到$n^2$ 所有元素，且元素按顺时针顺序螺旋排列的方形矩阵。"
   ]
  },
  {
   "cell_type": "markdown",
   "id": "662e06b7-0d74-4145-8736-573e5a535721",
   "metadata": {},
   "source": [
    "* 例如：\n",
    "    * 输入：3\n",
    "    * 输出：[[1, 2, 3], [8, 9, 4], [7, 6, 5]]"
   ]
  },
  {
   "cell_type": "markdown",
   "id": "7c88b348-850a-4659-a4ae-1d4a68c82cee",
   "metadata": {},
   "source": [
    "* 模拟顺时针矩阵过程：\n",
    "    * 填充上行从左到右\n",
    "    * 填充右列从上到下\n",
    "    * 填充下行从右到左\n",
    "    * 填充左行从下到上"
   ]
  },
  {
   "cell_type": "code",
   "execution_count": 12,
   "id": "ea7f0ab1-ace7-45a4-8c44-639b033912bc",
   "metadata": {},
   "outputs": [],
   "source": [
    "def solve(n):\n",
    "    \n",
    "    count = 1\n",
    "    loop = n // 2\n",
    "    \n",
    "    up = 0\n",
    "    left = 0\n",
    "    right = n - 1\n",
    "    down = n - 1\n",
    "    \n",
    "    nums = [[0] * n for _ in range(n)]\n",
    "    \n",
    "    while left <= right and up <= down:\n",
    "        \n",
    "        for i in range(left, right + 1):   # 上行\n",
    "            nums[up][i] = count\n",
    "            count += 1\n",
    "        up += 1\n",
    "        \n",
    "        for i in range(up, down + 1):   # 右列\n",
    "            nums[i][right] = count\n",
    "            count += 1\n",
    "        right -= 1\n",
    "        \n",
    "        for i in range(right, left - 1, -1):  # 下行\n",
    "            nums[down][i] = count\n",
    "            count += 1\n",
    "        down -= 1\n",
    "\n",
    "        for i in range(down, up - 1, -1):   # 左列\n",
    "            nums[i][left] = count\n",
    "            count += 1\n",
    "        \n",
    "        left += 1\n",
    "    return nums"
   ]
  },
  {
   "cell_type": "code",
   "execution_count": 13,
   "id": "4e1fbc0f-e5af-48dd-ab17-3076674c721a",
   "metadata": {},
   "outputs": [
    {
     "data": {
      "text/plain": [
       "[[1, 2, 3], [8, 9, 4], [7, 6, 5]]"
      ]
     },
     "execution_count": 13,
     "metadata": {},
     "output_type": "execute_result"
    }
   ],
   "source": [
    "solve(3)"
   ]
  },
  {
   "cell_type": "code",
   "execution_count": null,
   "id": "c3af6dc1-38b2-4a14-a5e2-66ae25e0f1e6",
   "metadata": {},
   "outputs": [],
   "source": []
  }
 ],
 "metadata": {
  "kernelspec": {
   "display_name": "Python 3",
   "language": "python",
   "name": "python3"
  },
  "language_info": {
   "codemirror_mode": {
    "name": "ipython",
    "version": 3
   },
   "file_extension": ".py",
   "mimetype": "text/x-python",
   "name": "python",
   "nbconvert_exporter": "python",
   "pygments_lexer": "ipython3",
   "version": "3.9.1"
  }
 },
 "nbformat": 4,
 "nbformat_minor": 5
}
