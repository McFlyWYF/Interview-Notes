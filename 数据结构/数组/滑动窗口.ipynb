{
 "cells": [
  {
   "cell_type": "markdown",
   "metadata": {},
   "source": [
    "# 滑动窗口"
   ]
  },
  {
   "cell_type": "markdown",
   "metadata": {},
   "source": [
    "### 1.长度最小的子数组（209）"
   ]
  },
  {
   "cell_type": "markdown",
   "metadata": {},
   "source": [
    "#### 给定一个含有n个正整数的数组和一个正整数s，找出该数组中满足其和$>=s$的长度最小的连续子数组，并返回其长度。如果不存在符合条件的子数组，返回0."
   ]
  },
  {
   "cell_type": "markdown",
   "metadata": {},
   "source": [
    "* 例如：\n",
    "    * 输入s = 7, nums = [2, 3, 1, 2, 4, 3]\n",
    "    * 输出：2"
   ]
  },
  {
   "cell_type": "markdown",
   "metadata": {},
   "source": [
    "#### 暴力解法"
   ]
  },
  {
   "cell_type": "code",
   "execution_count": 42,
   "metadata": {},
   "outputs": [],
   "source": [
    "import math\n",
    "def solve(nums, s):\n",
    "    minlen = 0\n",
    "    result = math.inf\n",
    "    for i in range(len(nums)):\n",
    "        sums = 0\n",
    "        for j in range(i, len(nums)):\n",
    "            sums += nums[j]\n",
    "            if sums >= s:\n",
    "                minlen = j - i + 1\n",
    "                if result > minlen:\n",
    "                    result = minlen\n",
    "    return result"
   ]
  },
  {
   "cell_type": "code",
   "execution_count": 43,
   "metadata": {},
   "outputs": [
    {
     "data": {
      "text/plain": [
       "2"
      ]
     },
     "execution_count": 43,
     "metadata": {},
     "output_type": "execute_result"
    }
   ],
   "source": [
    "nums = [2, 3, 1, 2, 4, 3]\n",
    "s = 7\n",
    "solve(nums, s)"
   ]
  },
  {
   "cell_type": "markdown",
   "metadata": {},
   "source": [
    "* 时间复杂度：$O(n^2)$\n",
    "* 空间复杂度：$O(1)$"
   ]
  },
  {
   "cell_type": "markdown",
   "metadata": {},
   "source": [
    "#### 滑动窗口"
   ]
  },
  {
   "cell_type": "markdown",
   "metadata": {},
   "source": [
    "* 不断调节子序列的起始位置和终止位置。"
   ]
  },
  {
   "cell_type": "markdown",
   "metadata": {},
   "source": [
    "##### 窗口：满足其和>=s的长度最小的连续子数组。\n",
    "##### 起始位置：如果当前窗口的值大于s了，窗口就要向前移动了（缩小）。\n",
    "##### 结束位置：结束位置就是遍历数组的指针。"
   ]
  },
  {
   "cell_type": "code",
   "execution_count": 64,
   "metadata": {},
   "outputs": [],
   "source": [
    "def solve(nums, s):\n",
    "    startindex = 0\n",
    "    minlen = 0\n",
    "    sums = 0\n",
    "    result = 100000\n",
    "    if sum(nums) < s:\n",
    "        return 0\n",
    "    \n",
    "    for i in range(len(nums)):\n",
    "        sums += nums[i]\n",
    "        \n",
    "        while sums >= s:\n",
    "            minlen = i - startindex + 1   # 子序列长度\n",
    "            if result > minlen:\n",
    "                result = minlen   # 更新\n",
    "            sums -= nums[startindex]   # 减去前一个元素值，窗口后移\n",
    "            startindex += 1\n",
    "    return result"
   ]
  },
  {
   "cell_type": "code",
   "execution_count": 65,
   "metadata": {},
   "outputs": [
    {
     "data": {
      "text/plain": [
       "2"
      ]
     },
     "execution_count": 65,
     "metadata": {},
     "output_type": "execute_result"
    }
   ],
   "source": [
    "nums = [2, 3, 1, 2, 4, 3]\n",
    "s = 7\n",
    "solve(nums, s)"
   ]
  },
  {
   "cell_type": "markdown",
   "metadata": {},
   "source": [
    "* 时间复杂度：$O(n)$\n",
    "* 空间复杂度：$O(1)$"
   ]
  }
 ],
 "metadata": {
  "kernelspec": {
   "display_name": "Python 3",
   "language": "python",
   "name": "python3"
  },
  "language_info": {
   "codemirror_mode": {
    "name": "ipython",
    "version": 3
   },
   "file_extension": ".py",
   "mimetype": "text/x-python",
   "name": "python",
   "nbconvert_exporter": "python",
   "pygments_lexer": "ipython3",
   "version": "3.6.5"
  }
 },
 "nbformat": 4,
 "nbformat_minor": 5
}
