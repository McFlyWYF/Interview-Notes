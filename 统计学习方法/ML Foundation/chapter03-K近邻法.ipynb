{
 "cells": [
  {
   "cell_type": "markdown",
   "id": "planned-tattoo",
   "metadata": {},
   "source": [
    "# K近邻法"
   ]
  },
  {
   "cell_type": "markdown",
   "id": "previous-collectible",
   "metadata": {},
   "source": [
    "### 1. 定义"
   ]
  },
  {
   "cell_type": "markdown",
   "id": "registered-plymouth",
   "metadata": {},
   "source": [
    "* 给定一个训练数据集，对新的输入实例，在训练集中找到与该实例最近邻的k个实例，这k个实例的多数属于某个类，就把该输入实例分为这个类。\n",
    "* 三要素：距离度量，k值选择，分类决策规则。"
   ]
  },
  {
   "cell_type": "markdown",
   "id": "simple-aside",
   "metadata": {},
   "source": [
    "### 2. 算法流程"
   ]
  },
  {
   "cell_type": "markdown",
   "id": "formal-dallas",
   "metadata": {},
   "source": [
    "* 输入训练集，输出实例`x`所属的类`y`。\n",
    "    * (1) 根据给定的距离度量，在训练集中找出与x最近邻的k个点，记作$N_k(x)$。\n",
    "    * (2) 在$N_k(x)$中根据分类决策规则（多数表决）决定x的类别y。\n",
    "  $$\n",
    "  y=argmax_{c_j}\\sum_{x_i\\in N_k(x)}I(y_i=c_j)\n",
    "  $$"
   ]
  },
  {
   "cell_type": "markdown",
   "id": "equipped-perth",
   "metadata": {},
   "source": [
    "### 3. 距离度量（常用的是欧式距离）"
   ]
  },
  {
   "cell_type": "markdown",
   "id": "genetic-nickname",
   "metadata": {},
   "source": [
    "设特征空间$X$是n维实数向量空间$R$，$x_{i}, x_{j} \\in \\mathcal{X}$,$x_{i}=\\left(x_{i}^{(1)}, x_{i}^{(2)}, \\cdots, x_{i}^{(n)}\\right)^{\\mathrm{T}}$,$x_{j}=\\left(x_{j}^{(1)}, x_{j}^{(2)}, \\cdots, x_{j}^{(n)}\\right)^{\\mathrm{T}}$，则：$x_i$,$x_j$的$L_p$距离定义为:\n",
    "$$\n",
    "L_{p}\\left(x_{i}, x_{j}\\right)=\\left(\\sum_{i=1}^{n}\\left|x_{i}^{(i)}-x_{j}^{(l)}\\right|^{p}\\right)^{\\frac{1}{p}}\n",
    "$$\n",
    "\n",
    "* p = 1时，曼哈顿距离\n",
    "* p = 2时，欧式距离\n",
    "* p = $\\infty$时，是各个坐标距离的最大值，也就是切比雪夫距离，即$L\\infty = (x_i,x_j)=max_{l}|x_{i}^{(l)}-x_{j}^{(l)}|$"
   ]
  },
  {
   "cell_type": "markdown",
   "id": "electoral-springer",
   "metadata": {},
   "source": [
    "### 4. k值的选择"
   ]
  },
  {
   "cell_type": "markdown",
   "id": "blond-being",
   "metadata": {},
   "source": [
    "* 选择较小的k值，”学习“的近似误差会减小，只有与输入实例近似的训练实例才会对预测结果起作用，但缺点是”学习“的估计误差会增大，容易发生过拟合。\n",
    "* 选择较大的k值，可以减少学习的估计误差，缺点是学习的近似误差会增大。\n",
    "\n",
    "一般k值的选取取一个较小的值，采用交叉验证法来选取最优的k值。"
   ]
  },
  {
   "cell_type": "markdown",
   "id": "handmade-wallpaper",
   "metadata": {},
   "source": [
    "### 5. 分类决策规则"
   ]
  },
  {
   "cell_type": "markdown",
   "id": "micro-feeding",
   "metadata": {},
   "source": [
    "* k近邻中的分类决策规则往往是多数表决，即由输入实例的k个邻近的训练实例中的多数类决定输入实例的类。"
   ]
  },
  {
   "cell_type": "markdown",
   "id": "dressed-flavor",
   "metadata": {},
   "source": [
    "* 对给定的实例$x\\in X$，其最近邻的k个训练实例点构成集合$N_k(x)$。如果涵盖$N_k(x)$的区域的类别是$c_j$，误分类率是\n",
    "$$ \\frac{1}{k}\\sum_{x_i\\in N_k(x)}I(y_i\\ne c_j)=1-\\frac{1}{k}\\sum_{x_i\\in N_k(x)}I(y_i = c_j) $$\n",
    "\n",
    "要使误分类率最小即经验风险最小，就要使$\\sum_{x_i\\in N_k(x)}I(y_i = c_j)$最大，所以多数表决规则等价于经验风险最小化。"
   ]
  },
  {
   "cell_type": "markdown",
   "id": "certain-beauty",
   "metadata": {},
   "source": [
    "##### 例：$x_1=[1,1], x_2=[5,1], x_3=[4,4]$，求在$p$取不同值时，$L_p$距离下$x_1$的最近邻点。"
   ]
  },
  {
   "cell_type": "code",
   "execution_count": 1,
   "id": "artificial-electric",
   "metadata": {},
   "outputs": [],
   "source": [
    "x1 = [1,1]\n",
    "x2 = [5,1]\n",
    "x3 = [4,4]"
   ]
  },
  {
   "cell_type": "code",
   "execution_count": 4,
   "id": "immediate-stress",
   "metadata": {},
   "outputs": [],
   "source": [
    "import math\n",
    "def L(x1, x, p):\n",
    "    distance = 0\n",
    "    for i in range(len(x1)):\n",
    "        distance += math.pow(abs(x1[i] - x[i]), p)\n",
    "    return math.pow(distance, 1 / p)"
   ]
  },
  {
   "cell_type": "code",
   "execution_count": 5,
   "id": "marine-system",
   "metadata": {},
   "outputs": [
    {
     "name": "stdout",
     "output_type": "stream",
     "text": [
      "p = 1, x1 and x3 distance:  6.0\n",
      "p = 2, x1 and x3 distance:  4.242640687119285\n",
      "p = 3, x1 and x3 distance:  3.7797631496846193\n",
      "p = 4, x1 and x3 distance:  3.5676213450081633\n"
     ]
    }
   ],
   "source": [
    "for i in range(1, 5):\n",
    "    print('p = %d, x1 and x3 distance: ' % i, L(x1, x3, i))"
   ]
  },
  {
   "cell_type": "code",
   "execution_count": 6,
   "id": "funded-slope",
   "metadata": {},
   "outputs": [],
   "source": [
    "import numpy as np\n",
    "import pandas as pd\n",
    "import matplotlib.pyplot as plt\n",
    "\n",
    "from sklearn.datasets import load_iris\n",
    "from sklearn.model_selection import train_test_split\n",
    "from collections import Counter"
   ]
  },
  {
   "cell_type": "code",
   "execution_count": 7,
   "id": "approximate-brazilian",
   "metadata": {},
   "outputs": [],
   "source": [
    "# data\n",
    "iris = load_iris()\n",
    "df = pd.DataFrame(iris.data, columns=iris.feature_names)\n",
    "df['label'] = iris.target\n",
    "df.columns = ['sepal length', 'sepal width', 'petal length', 'petal width', 'label']"
   ]
  },
  {
   "cell_type": "code",
   "execution_count": 8,
   "id": "sufficient-quarterly",
   "metadata": {},
   "outputs": [
    {
     "data": {
      "text/html": [
       "<div>\n",
       "<style scoped>\n",
       "    .dataframe tbody tr th:only-of-type {\n",
       "        vertical-align: middle;\n",
       "    }\n",
       "\n",
       "    .dataframe tbody tr th {\n",
       "        vertical-align: top;\n",
       "    }\n",
       "\n",
       "    .dataframe thead th {\n",
       "        text-align: right;\n",
       "    }\n",
       "</style>\n",
       "<table border=\"1\" class=\"dataframe\">\n",
       "  <thead>\n",
       "    <tr style=\"text-align: right;\">\n",
       "      <th></th>\n",
       "      <th>sepal length</th>\n",
       "      <th>sepal width</th>\n",
       "      <th>petal length</th>\n",
       "      <th>petal width</th>\n",
       "      <th>label</th>\n",
       "    </tr>\n",
       "  </thead>\n",
       "  <tbody>\n",
       "    <tr>\n",
       "      <th>0</th>\n",
       "      <td>5.1</td>\n",
       "      <td>3.5</td>\n",
       "      <td>1.4</td>\n",
       "      <td>0.2</td>\n",
       "      <td>0</td>\n",
       "    </tr>\n",
       "    <tr>\n",
       "      <th>1</th>\n",
       "      <td>4.9</td>\n",
       "      <td>3.0</td>\n",
       "      <td>1.4</td>\n",
       "      <td>0.2</td>\n",
       "      <td>0</td>\n",
       "    </tr>\n",
       "    <tr>\n",
       "      <th>2</th>\n",
       "      <td>4.7</td>\n",
       "      <td>3.2</td>\n",
       "      <td>1.3</td>\n",
       "      <td>0.2</td>\n",
       "      <td>0</td>\n",
       "    </tr>\n",
       "    <tr>\n",
       "      <th>3</th>\n",
       "      <td>4.6</td>\n",
       "      <td>3.1</td>\n",
       "      <td>1.5</td>\n",
       "      <td>0.2</td>\n",
       "      <td>0</td>\n",
       "    </tr>\n",
       "    <tr>\n",
       "      <th>4</th>\n",
       "      <td>5.0</td>\n",
       "      <td>3.6</td>\n",
       "      <td>1.4</td>\n",
       "      <td>0.2</td>\n",
       "      <td>0</td>\n",
       "    </tr>\n",
       "    <tr>\n",
       "      <th>...</th>\n",
       "      <td>...</td>\n",
       "      <td>...</td>\n",
       "      <td>...</td>\n",
       "      <td>...</td>\n",
       "      <td>...</td>\n",
       "    </tr>\n",
       "    <tr>\n",
       "      <th>145</th>\n",
       "      <td>6.7</td>\n",
       "      <td>3.0</td>\n",
       "      <td>5.2</td>\n",
       "      <td>2.3</td>\n",
       "      <td>2</td>\n",
       "    </tr>\n",
       "    <tr>\n",
       "      <th>146</th>\n",
       "      <td>6.3</td>\n",
       "      <td>2.5</td>\n",
       "      <td>5.0</td>\n",
       "      <td>1.9</td>\n",
       "      <td>2</td>\n",
       "    </tr>\n",
       "    <tr>\n",
       "      <th>147</th>\n",
       "      <td>6.5</td>\n",
       "      <td>3.0</td>\n",
       "      <td>5.2</td>\n",
       "      <td>2.0</td>\n",
       "      <td>2</td>\n",
       "    </tr>\n",
       "    <tr>\n",
       "      <th>148</th>\n",
       "      <td>6.2</td>\n",
       "      <td>3.4</td>\n",
       "      <td>5.4</td>\n",
       "      <td>2.3</td>\n",
       "      <td>2</td>\n",
       "    </tr>\n",
       "    <tr>\n",
       "      <th>149</th>\n",
       "      <td>5.9</td>\n",
       "      <td>3.0</td>\n",
       "      <td>5.1</td>\n",
       "      <td>1.8</td>\n",
       "      <td>2</td>\n",
       "    </tr>\n",
       "  </tbody>\n",
       "</table>\n",
       "<p>150 rows × 5 columns</p>\n",
       "</div>"
      ],
      "text/plain": [
       "     sepal length  sepal width  petal length  petal width  label\n",
       "0             5.1          3.5           1.4          0.2      0\n",
       "1             4.9          3.0           1.4          0.2      0\n",
       "2             4.7          3.2           1.3          0.2      0\n",
       "3             4.6          3.1           1.5          0.2      0\n",
       "4             5.0          3.6           1.4          0.2      0\n",
       "..            ...          ...           ...          ...    ...\n",
       "145           6.7          3.0           5.2          2.3      2\n",
       "146           6.3          2.5           5.0          1.9      2\n",
       "147           6.5          3.0           5.2          2.0      2\n",
       "148           6.2          3.4           5.4          2.3      2\n",
       "149           5.9          3.0           5.1          1.8      2\n",
       "\n",
       "[150 rows x 5 columns]"
      ]
     },
     "execution_count": 8,
     "metadata": {},
     "output_type": "execute_result"
    }
   ],
   "source": [
    "df"
   ]
  },
  {
   "cell_type": "code",
   "execution_count": 9,
   "id": "classified-hardwood",
   "metadata": {},
   "outputs": [
    {
     "data": {
      "text/plain": [
       "<matplotlib.legend.Legend at 0x1377c9310>"
      ]
     },
     "execution_count": 9,
     "metadata": {},
     "output_type": "execute_result"
    },
    {
     "data": {
      "image/png": "[encoded data removed]",
      "text/plain": [
       "<Figure size 432x288 with 1 Axes>"
      ]
     },
     "metadata": {
      "needs_background": "light"
     },
     "output_type": "display_data"
    }
   ],
   "source": [
    "plt.scatter(df[:50]['sepal length'], df[:50]['sepal width'], label='0')\n",
    "plt.scatter(df[50:100]['sepal length'], df[50:100]['sepal width'], label='1')\n",
    "plt.xlabel('sepal length')\n",
    "plt.ylabel('sepal width')\n",
    "plt.legend()"
   ]
  },
  {
   "cell_type": "code",
   "execution_count": 10,
   "id": "conservative-arrival",
   "metadata": {},
   "outputs": [],
   "source": [
    "data = np.array(df.iloc[:100, [0, 1, -1]])\n",
    "X, y = data[:,:-1], data[:, -1]\n",
    "X_train, X_test, y_train, y_test = train_test_split(X, y, test_size=0.2)"
   ]
  },
  {
   "cell_type": "code",
   "execution_count": 2,
   "id": "hollow-adventure",
   "metadata": {},
   "outputs": [],
   "source": [
    "class KNN:\n",
    "    def __init__(self, X_train, y_train, n_neighbors=3, p = 2):\n",
    "        self.n = n_neighbors\n",
    "        self.p = p\n",
    "        self.X_train = X_train\n",
    "        self.y_train = y_train\n",
    "        \n",
    "    def predict(self, X):\n",
    "        # 取出n个点\n",
    "        knn_list = []\n",
    "        for i in range(self.n):\n",
    "            dist = np.linalg.norm(X - self.X_train[i], ord=self.p)   # 计算欧式距离\n",
    "            knn_list.append((dist, self.y_train[i]))\n",
    "            \n",
    "        for i in range(self.n, len(self.X_train)):\n",
    "            max_index = knn_list.index(max(knn_list, key = lambda x : x[0]))\n",
    "            dist = np.linalg.norm(X - self.X_train[i], ord=self.p)\n",
    "            if knn_list[max_index][0] > dist:\n",
    "                knn_list[max_index] = (dist, self.y_train[i])\n",
    "                \n",
    "        # 统计\n",
    "        knn = [k[-1] for k in knn_list]\n",
    "        count_pairs = Counter(knn)\n",
    "        max_count = sorted(count_pairs.items(), key = lambda x : x[1])[-1][0]\n",
    "        return max_count\n",
    "    \n",
    "    def score(self, X_test, y_test):\n",
    "        right_count = 0\n",
    "        n = 10\n",
    "        for X, y in zip(X_test, y_test):\n",
    "            label = self.predict(X)\n",
    "            if label == y:\n",
    "                right_count += 1\n",
    "        return right_count / len(X_test)"
   ]
  },
  {
   "cell_type": "code",
   "execution_count": 43,
   "id": "crucial-miracle",
   "metadata": {},
   "outputs": [],
   "source": [
    "clf = KNN(X_train, y_train)"
   ]
  },
  {
   "cell_type": "code",
   "execution_count": 44,
   "id": "economic-contractor",
   "metadata": {},
   "outputs": [
    {
     "data": {
      "text/plain": [
       "1.0"
      ]
     },
     "execution_count": 44,
     "metadata": {},
     "output_type": "execute_result"
    }
   ],
   "source": [
    "clf.score(X_test, y_test)"
   ]
  },
  {
   "cell_type": "code",
   "execution_count": 48,
   "id": "tropical-offset",
   "metadata": {},
   "outputs": [
    {
     "name": "stdout",
     "output_type": "stream",
     "text": [
      "Test Point: 1.0\n"
     ]
    }
   ],
   "source": [
    "test_point = [6.0, 3.0]\n",
    "print('Test Point: {}'.format(clf.predict(test_point)))"
   ]
  },
  {
   "cell_type": "code",
   "execution_count": 49,
   "id": "jewish-venture",
   "metadata": {},
   "outputs": [
    {
     "data": {
      "text/plain": [
       "<matplotlib.legend.Legend at 0x166c04df0>"
      ]
     },
     "execution_count": 49,
     "metadata": {},
     "output_type": "execute_result"
    },
    {
     "data": {
      "image/png": "[encoded data removed]",
      "text/plain": [
       "<Figure size 432x288 with 1 Axes>"
      ]
     },
     "metadata": {
      "needs_background": "light"
     },
     "output_type": "display_data"
    }
   ],
   "source": [
    "plt.scatter(df[:50]['sepal length'], df[:50]['sepal width'], label='0')\n",
    "plt.scatter(df[50:100]['sepal length'], df[50:100]['sepal width'], label='1')\n",
    "plt.plot(test_point[0], test_point[1], 'bo', label='test point')\n",
    "plt.xlabel('sepal length')\n",
    "plt.ylabel('sepal width')\n",
    "plt.legend()"
   ]
  },
  {
   "cell_type": "markdown",
   "id": "ultimate-complex",
   "metadata": {},
   "source": [
    "### scikit-learn k近邻实例"
   ]
  },
  {
   "cell_type": "code",
   "execution_count": 50,
   "id": "concrete-mechanism",
   "metadata": {},
   "outputs": [],
   "source": [
    "from sklearn.neighbors import KNeighborsClassifier"
   ]
  },
  {
   "cell_type": "code",
   "execution_count": 51,
   "id": "laden-tunnel",
   "metadata": {},
   "outputs": [
    {
     "data": {
      "text/plain": [
       "KNeighborsClassifier()"
      ]
     },
     "execution_count": 51,
     "metadata": {},
     "output_type": "execute_result"
    }
   ],
   "source": [
    "clf_sk = KNeighborsClassifier()\n",
    "clf_sk.fit(X_train, y_train)"
   ]
  },
  {
   "cell_type": "code",
   "execution_count": 52,
   "id": "plain-nightmare",
   "metadata": {},
   "outputs": [
    {
     "data": {
      "text/plain": [
       "1.0"
      ]
     },
     "execution_count": 52,
     "metadata": {},
     "output_type": "execute_result"
    }
   ],
   "source": [
    "clf_sk.score(X_test, y_test)"
   ]
  },
  {
   "cell_type": "code",
   "execution_count": 57,
   "id": "typical-moment",
   "metadata": {},
   "outputs": [
    {
     "data": {
      "text/plain": [
       "array([0.])"
      ]
     },
     "execution_count": 57,
     "metadata": {},
     "output_type": "execute_result"
    }
   ],
   "source": [
    "test_point2 = [[4.0, 3.0]]\n",
    "clf_sk.predict(test_point2)"
   ]
  },
  {
   "cell_type": "markdown",
   "id": "incident-madrid",
   "metadata": {},
   "source": [
    "### kd树"
   ]
  },
  {
   "cell_type": "markdown",
   "id": "accepted-chorus",
   "metadata": {},
   "source": [
    "#### 1. 构造kd树"
   ]
  },
  {
   "cell_type": "markdown",
   "id": "configured-washington",
   "metadata": {},
   "source": [
    "* **kd**树是一种对k维空间中的实例点进行存储以便对其进行快速检索的树形数据结构。\n",
    "\n",
    "* **kd**树是二叉树，表示对$k$维空间的一个划分（partition）。构造**kd**树相当于不断地用垂直于坐标轴的超平面将$k$维空间切分，构成一系列的k维超矩形区域。kd树的每个结点对应于一个$k$维超矩形区域。\n",
    "\n",
    "* 构造**kd**树的方法如下：\n",
    "\n",
    "    * 构造根结点，使根结点对应于$k$维空间中包含所有实例点的超矩形区域；通过下面的递归方法，不断地对$k$维空间进行切分，生成子结点。在超矩形区域（结点）上选择一个坐标轴和在此坐标轴上的一个切分点，确定一个超平面，这个超平面通过选定的切分点并垂直于选定的坐标轴，将当前超矩形区域切分为左右两个子区域\n",
    "（子结点）；这时，实例被分到两个子区域。这个过程直到子区域内没有实例时终止（终止时的结点为叶结点）。在此过程中，将实例保存在相应的结点上。\n",
    "\n",
    "* 通常，依次选择坐标轴对空间切分，选择训练实例点在选定坐标轴上的中位数（median）为切分点，这样得到的**kd**树是平衡的。注意，平衡的**kd**树搜索时的效率未必是最优的。"
   ]
  },
  {
   "cell_type": "markdown",
   "id": "usual-treat",
   "metadata": {},
   "source": [
    "#### 构造平衡kd树算法"
   ]
  },
  {
   "cell_type": "markdown",
   "id": "neither-local",
   "metadata": {},
   "source": [
    "* 输入：$k$维空间数据集$T＝\\{x_1，x_2,…,x_N\\}$， 其中$x_{i}=\\left(x_{i}^{(1)}, x_{i}^{(2)}, \\cdots, x_{i}^{(k)}\\right)^{\\mathrm{T}}$ ，$i＝1,2,…,N$；\n",
    "\n",
    "* 输出：**kd**树。\n",
    "\n",
    "    * （1）开始：构造根结点，根结点对应于包含$T$的$k$维空间的超矩形区域。\n",
    "\n",
    "        * 选择$x^{(1)}$为坐标轴，以T中所有实例的$x^{(1)}$坐标的中位数为切分点，将根结点对应的超矩形区域切分为两个子区域。切分由通过切分点并与坐标轴$x^{(1)}$垂直的超平面实现。\n",
    "        * 由根结点生成深度为1的左、右子结点：左子结点对应坐标$x^{(1)}$小于切分点的子区域， 右子结点对应于坐标$x^{(1)}$大于切分点的子区域。\n",
    "        * 将落在切分超平面上的实例点保存在根结点。\n",
    "\n",
    "    * （2）重复：对深度为$j$的结点，选择$x^{(1)}$为切分的坐标轴，$l＝j(modk)+1$，以该结点的区域中所有实例的$x^{(1)}$坐标的中位数为切分点，将该结点对应的超矩形区域切分为两个子区域。切分由通过切分点并与坐标轴$x^{(1)}$垂直的超平面实现。\n",
    "\n",
    "        * 由该结点生成深度为$j+1$的左、右子结点：左子结点对应坐标$x^{(1)}$小于切分点的子区域，右子结点对应坐标$x^{(1)}$大于切分点的子区域。\n",
    "\n",
    "        * 将落在切分超平面上的实例点保存在该结点。\n",
    "\n",
    "    * （3）直到两个子区域没有实例存在时停止。从而形成**kd**树的区域划分。"
   ]
  },
  {
   "cell_type": "markdown",
   "id": "statutory-company",
   "metadata": {},
   "source": [
    "* 先对其data_set进行排序，再用len(data_set) // 2找到切分点寻找中位数，再对其进行切分，左子树小于切分点，右子树大于切分点。"
   ]
  },
  {
   "cell_type": "code",
   "execution_count": 46,
   "id": "express-wagner",
   "metadata": {},
   "outputs": [],
   "source": [
    "# kd-tree每个结点中主要包含的数据结构如下\n",
    "class KdNode(object):\n",
    "    def __init__(self, dom_elt, split, left, right):\n",
    "        self.dom_elt = dom_elt  # k维向量节点(k维空间中的一个样本点)\n",
    "        self.split = split  # 整数（进行分割维度的序号）\n",
    "        self.left = left  # 该结点分割超平面左子空间构成的kd-tree\n",
    "        self.right = right  # 该结点分割超平面右子空间构成的kd-tree\n",
    "\n",
    "\n",
    "class KdTree(object):\n",
    "    def __init__(self, data):\n",
    "        k = len(data[0])  # 数据维度\n",
    "\n",
    "        def CreateNode(split, data_set):  # 按第split维划分数据集exset创建KdNode\n",
    "            if not data_set:  # 数据集为空\n",
    "                return None\n",
    "            # key参数的值为一个函数，此函数只有一个参数且返回一个值用来进行比较\n",
    "            # operator模块提供的itemgetter函数用于获取对象的哪些维的数据，参数为需要获取的数据在对象中的序号\n",
    "            #data_set.sort(key=itemgetter(split)) # 按要进行分割的那一维数据排序\n",
    "            data_set.sort(key=lambda x: x[split])\n",
    "#             print(data_set)\n",
    "#             print(len(data_set))\n",
    "            split_pos = len(data_set) // 2  # //为Python中的整数除法\n",
    "#             print(split_pos)\n",
    "            median = data_set[split_pos]  # 中位数分割点\n",
    "            print('切分中位数：', median)\n",
    "            split_next = (split + 1) % k  # cycle coordinates\n",
    "\n",
    "            # 递归的创建kd树\n",
    "            return KdNode(\n",
    "                median,\n",
    "                split,\n",
    "                CreateNode(split_next, data_set[:split_pos]),  # 创建左子树\n",
    "                CreateNode(split_next, data_set[split_pos + 1:]))  # 创建右子树\n",
    "\n",
    "        self.root = CreateNode(0, data)  # 从第0维分量开始构建kd树,返回根节点\n",
    "\n",
    "\n",
    "# KDTree的前序遍历\n",
    "def preorder(root):\n",
    "#     print(root.dom_elt)\n",
    "    if root.left:  # 节点不为空\n",
    "        preorder(root.left)\n",
    "    if root.right:\n",
    "        preorder(root.right)"
   ]
  },
  {
   "cell_type": "markdown",
   "id": "chinese-store",
   "metadata": {},
   "source": [
    "#### 例3.2"
   ]
  },
  {
   "cell_type": "code",
   "execution_count": 47,
   "id": "incredible-alexandria",
   "metadata": {},
   "outputs": [
    {
     "name": "stdout",
     "output_type": "stream",
     "text": [
      "切分中位数： [7, 2]\n",
      "切分中位数： [5, 4]\n",
      "切分中位数： [2, 3]\n",
      "切分中位数： [4, 7]\n",
      "切分中位数： [9, 6]\n",
      "切分中位数： [8, 1]\n"
     ]
    }
   ],
   "source": [
    "data = [[2,3], [5,4], [9,6], [4,7], [8,1], [7,2]]\n",
    "kd = KdTree(data)\n",
    "preorder(kd.root)"
   ]
  },
  {
   "cell_type": "markdown",
   "id": "developed-baseline",
   "metadata": {},
   "source": [
    "### 搜索kd树"
   ]
  },
  {
   "cell_type": "markdown",
   "id": "split-travel",
   "metadata": {},
   "source": [
    "#### 用kd树的最近邻搜索"
   ]
  },
  {
   "cell_type": "markdown",
   "id": "political-greek",
   "metadata": {},
   "source": [
    "* 输入：已构造的kd树，目标点x；\n",
    "* 输出：x的最近邻；\n",
    "* （1）在kd树中找出包含目标点x的叶节点：从根节点出发，递归地向下访问kd树，若目标点x当前维的坐标小于切分点的坐标，则移动到左子节点，否则移动到右子节点，直到子节点为叶节点为止。\n",
    "* （2）以此叶节点为“当前最近点”。\n",
    "* （3）递归地向上回退，在每个节点进行以下操作：\n",
    "    * （a）如果该节点保存的实例点比当前最近点距离目标点更近，则以该实例点为“当前最近点”。\n",
    "    * （b）当前最近点一定存在于该节点一个子节点对应的区域，检查该子节点的父节点的另一子节点对应的区域是否有更近的点。具体地，检查另一子节点对应的区域是否与以目标为球心、以目标点与“当前最近点”间的距离为半径的超球体相交。\n",
    "    \n",
    "    如果相交，可能在另一个子节点对应的区域内存在距目标点更近的点，移动到另一个子节点。接着，递归地进行最近邻搜索。\n",
    "    \n",
    "    如果不相交，向上回退。\n",
    "* （4）当回退到根节点时，搜索结束。最后的“当前最近点”即为x的最近邻点。"
   ]
  },
  {
   "cell_type": "code",
   "execution_count": 48,
   "id": "fresh-clerk",
   "metadata": {},
   "outputs": [],
   "source": [
    "# 搜索kd树\n",
    "from math import sqrt\n",
    "from collections import namedtuple\n",
    "\n",
    "# namedtuple存放最近坐标点，最近距离和访问过的节点数\n",
    "result = namedtuple(\"Result_tuple\", 'nearest_point nearest_dist nodes_visited')"
   ]
  },
  {
   "cell_type": "code",
   "execution_count": 54,
   "id": "veterinary-diary",
   "metadata": {},
   "outputs": [],
   "source": [
    "def find_nearest(tree, point):\n",
    "    k = len(point)  # 数据维度\n",
    "\n",
    "    def travel(kd_node, target, max_dist):\n",
    "        if kd_node is None:\n",
    "            return result([0] * k, float(\"inf\"),\n",
    "                          0)  # python中用float(\"inf\")和float(\"-inf\")表示正负无穷\n",
    "\n",
    "        nodes_visited = 1\n",
    "\n",
    "        s = kd_node.split  # 进行分割的维度\n",
    "        pivot = kd_node.dom_elt  # 进行分割的“轴”\n",
    "\n",
    "        if target[s] <= pivot[s]:  # 如果目标点第s维小于分割轴的对应值(目标离左子树更近)\n",
    "            nearer_node = kd_node.left  # 下一个访问节点为左子树根节点\n",
    "            further_node = kd_node.right  # 同时记录下右子树\n",
    "        else:  # 目标离右子树更近\n",
    "            nearer_node = kd_node.right  # 下一个访问节点为右子树根节点\n",
    "            further_node = kd_node.left\n",
    "\n",
    "        temp1 = travel(nearer_node, target, max_dist)  # 进行遍历找到包含目标点的区域\n",
    "\n",
    "        nearest = temp1.nearest_point  # 以此叶结点作为“当前最近点”\n",
    "        dist = temp1.nearest_dist  # 更新最近距离\n",
    "\n",
    "        nodes_visited += temp1.nodes_visited\n",
    "\n",
    "        if dist < max_dist:\n",
    "            max_dist = dist  # 最近点将在以目标点为球心，max_dist为半径的超球体内\n",
    "\n",
    "        temp_dist = abs(pivot[s] - target[s])  # 第s维上目标点与分割超平面的距离\n",
    "        if max_dist < temp_dist:  # 判断超球体是否与超平面相交\n",
    "            return result(nearest, dist, nodes_visited)  # 不相交则可以直接返回，不用继续判断\n",
    "\n",
    "        #----------------------------------------------------------------------\n",
    "        # 计算目标点与分割点的欧氏距离\n",
    "        temp_dist = sqrt(sum((p1 - p2)**2 for p1, p2 in zip(pivot, target)))\n",
    "\n",
    "        if temp_dist < dist:  # 如果“更近”\n",
    "            nearest = pivot  # 更新最近点\n",
    "            dist = temp_dist  # 更新最近距离\n",
    "            max_dist = dist  # 更新超球体半径\n",
    "\n",
    "        # 检查另一个子结点对应的区域是否有更近的点\n",
    "        temp2 = travel(further_node, target, max_dist)\n",
    "\n",
    "        nodes_visited += temp2.nodes_visited\n",
    "        if temp2.nearest_dist < dist:  # 如果另一个子结点内存在更近距离\n",
    "            nearest = temp2.nearest_point  # 更新最近点\n",
    "            dist = temp2.nearest_dist  # 更新最近距离\n",
    "\n",
    "        return result(nearest, dist, nodes_visited)\n",
    "\n",
    "    return travel(tree.root, point, float(\"inf\"))  # 从根节点开始递归"
   ]
  },
  {
   "cell_type": "code",
   "execution_count": 56,
   "id": "technological-combination",
   "metadata": {},
   "outputs": [
    {
     "name": "stdout",
     "output_type": "stream",
     "text": [
      "Result_tuple(nearest_point=[2, 3], nearest_dist=1.8027756377319946, nodes_visited=4)\n"
     ]
    }
   ],
   "source": [
    "ret = find_nearest(kd, [3, 4.5])\n",
    "print(ret)"
   ]
  },
  {
   "cell_type": "markdown",
   "id": "alpine-inspector",
   "metadata": {},
   "source": [
    "#### 习题3.2\n",
    "* 利用例3.2构造的kd树求点$x=(3,4.5)^T$的最近邻点。"
   ]
  },
  {
   "cell_type": "code",
   "execution_count": 23,
   "id": "mature-study",
   "metadata": {},
   "outputs": [],
   "source": [
    "import numpy as np\n",
    "from sklearn.neighbors import KDTree"
   ]
  },
  {
   "cell_type": "code",
   "execution_count": 30,
   "id": "governing-exposure",
   "metadata": {},
   "outputs": [
    {
     "name": "stdout",
     "output_type": "stream",
     "text": [
      "x的最近邻点是 (2, 3)\n"
     ]
    }
   ],
   "source": [
    "train_data = np.array([(2,3),(5,4),(9,6),(4,7),(8,1),(7,2)])\n",
    "tree = KDTree(train_data, leaf_size=2)\n",
    "dist, ind = tree.query(np.array([(3, 4.5)]), k=1)\n",
    "x1 = train_data[ind[0]][0][0]\n",
    "x2 = train_data[ind[0]][0][1]\n",
    "print('x的最近邻点是', (x1, x2))"
   ]
  }
 ],
 "metadata": {
  "kernelspec": {
   "display_name": "Python 3",
   "language": "python",
   "name": "python3"
  },
  "language_info": {
   "codemirror_mode": {
    "name": "ipython",
    "version": 3
   },
   "file_extension": ".py",
   "mimetype": "text/x-python",
   "name": "python",
   "nbconvert_exporter": "python",
   "pygments_lexer": "ipython3",
   "version": "3.9.1"
  }
 },
 "nbformat": 4,
 "nbformat_minor": 5
}
