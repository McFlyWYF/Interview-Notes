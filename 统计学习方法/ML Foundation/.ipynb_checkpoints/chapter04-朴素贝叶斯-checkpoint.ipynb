{
 "cells": [
  {
   "cell_type": "markdown",
   "id": "487d807f-d331-4548-be99-b3a744638ed1",
   "metadata": {},
   "source": [
    "# 朴素贝叶斯"
   ]
  },
  {
   "cell_type": "markdown",
   "id": "411c5c7f-7456-40dc-aaea-ba7292fac5e2",
   "metadata": {},
   "source": [
    "### 基本方法"
   ]
  },
  {
   "cell_type": "markdown",
   "id": "f0dfd06f-883c-4f2d-9c1a-6c8da9dfa71b",
   "metadata": {},
   "source": [
    "1．朴素贝叶斯法是典型的生成学习方法。生成方法由训练数据学习联合概率分布\n",
    "$P(X,Y)$，然后求得后验概率分布$P(Y|X)$。具体来说，利用训练数据学习$P(X|Y)$和$P(Y)$的估计，得到联合概率分布：\n",
    "\n",
    "$$P(X,Y)＝P(Y)P(X|Y)$$\n",
    "\n",
    "概率估计方法可以是极大似然估计或贝叶斯估计。\n",
    "\n",
    "2．朴素贝叶斯法的基本假设是条件独立性，\n",
    "\n",
    "$$\\begin{aligned} P(X&=x | Y=c_{k} )=P\\left(X^{(1)}=x^{(1)}, \\cdots, X^{(n)}=x^{(n)} | Y=c_{k}\\right) \\\\ &=\\prod_{j=1}^{n} P\\left(X^{(j)}=x^{(j)} | Y=c_{k}\\right) \\end{aligned}$$\n",
    "\n",
    "\n",
    "这是一个较强的假设。由于这一假设，模型包含的条件概率的数量大为减少，朴素贝叶斯法的学习与预测大为简化。因而朴素贝叶斯法高效，且易于实现。其缺点是分类的性能不一定很高。\n",
    "\n",
    "### 后验概率最大化\n",
    "\n",
    "* 朴素贝叶斯法利用贝叶斯定理与学到的联合概率模型进行分类预测。\n",
    "\n",
    "$$P(Y | X)=\\frac{P(X, Y)}{P(X)}=\\frac{P(Y) P(X | Y)}{\\sum_{Y} P(Y) P(X | Y)}$$\n",
    " \n",
    "将输入$x$分到后验概率最大的类$y$。\n",
    "\n",
    "$$y=\\arg \\max _{c_{k}} P\\left(Y=c_{k}\\right) \\prod_{j=1}^{n} P\\left(X_{j}=x^{(j)} | Y=c_{k}\\right)$$\n",
    "\n",
    "后验概率最大等价于0-1损失函数时的期望风险最小化。\n",
    "\n",
    "* 后验概率最大化准则：\n",
    "$$ f(x)=\\arg \\max _{c_k}P(c_k|X=x) $$\n",
    "即朴素贝叶斯法所采用的原理。\n",
    "\n",
    "模型：\n",
    "\n",
    "- 高斯模型\n",
    "- 多项式模型\n",
    "- 伯努利模型"
   ]
  },
  {
   "cell_type": "markdown",
   "id": "6ffb7752-7d58-412d-817f-27069351e9ca",
   "metadata": {},
   "source": [
    "### 朴素贝叶斯的参数估计"
   ]
  },
  {
   "cell_type": "markdown",
   "id": "61a112ef-d187-4f2d-9d6a-6e32cb9193e0",
   "metadata": {},
   "source": [
    "#### 极大似然估计"
   ]
  },
  {
   "cell_type": "markdown",
   "id": "7c1eb161-02ac-4d52-be66-859e3c53de0b",
   "metadata": {},
   "source": [
    "* 先验概率$P(Y=c_k)$的极大似然估计是\n",
    "$$\n",
    "P(Y=c_k)=\\frac{\\sum_{i=1}^{N}I(y_i=c_k)}{N}, k=1,2,...,K\n",
    "$$"
   ]
  },
  {
   "cell_type": "markdown",
   "id": "2a63c988-0fe9-4466-96ab-6af83804d5e2",
   "metadata": {},
   "source": [
    "* 条件概率$P(x^(j)=a_jl|Y=c_k)$的极大似然估计是\n",
    "$$\n",
    "P(X^{(j)}=a_{jl}|Y=c_k)=\\frac{\\sum_{i=1}^{N}I(x_i^{(j)}=a_{jl},y_i=c_k)}{\\sum_{i=1}^{N}I(y_i=c_k)}\n",
    "$$\n",
    "\n",
    "$x_i^{(j)}$是第$i$个样本的第$j$个特征；$a_{jl}$是第$j$个特征可能取的第$l$个值；$I$为指示函数。"
   ]
  },
  {
   "cell_type": "markdown",
   "id": "64c839fa-352e-4da4-ac2a-9e1432862488",
   "metadata": {},
   "source": [
    "#### 朴素贝叶斯算法"
   ]
  },
  {
   "cell_type": "markdown",
   "id": "16788fad-4be6-47e8-9c0e-11e549ed203a",
   "metadata": {},
   "source": [
    "* 输入：训练数据T；\n",
    "* 输出：实例x的分类；"
   ]
  },
  {
   "cell_type": "markdown",
   "id": "a06b1395-ca95-4387-8dea-759816d40c01",
   "metadata": {},
   "source": [
    "（1）计算先验概率及条件概率\n",
    "$$\n",
    "P(Y=c_k)=\\frac{\\sum_{i=1}^{N}I(y_i=c_k)}{N}, k=1,2,...,K\n",
    "$$\n",
    "\n",
    "$$\n",
    "P(X^{(j)}=a_{jl}|Y=c_k)=\\frac{\\sum_{i=1}^{N}I(x_i^{(j)}=a_{jl},y_i=c_k)}{\\sum_{i=1}^{N}I(y_i=c_k)}, j=1,2,...,n; l=1,2,...,S_j; k=1,2,...,K\n",
    "$$"
   ]
  },
  {
   "cell_type": "markdown",
   "id": "3423eba6-f374-4e92-89b1-4ca068b1f1f7",
   "metadata": {},
   "source": [
    "（2）对于给定的实例$x=(x^{(1)}, x^{(2)},..., x^{(n)})^T$，计算\n",
    "$$\n",
    "P\\left(Y=c_{k}\\right) \\prod_{j=1}^{n} P\\left(X_{j}=x^{(j)} | Y=c_{k}\\right), k=1,2,..,K\n",
    "$$"
   ]
  },
  {
   "cell_type": "markdown",
   "id": "825bae61-adf6-4767-a969-9ac8dfda2448",
   "metadata": {},
   "source": [
    "（3）确定实例$x$的类\n",
    "$$y=\\arg \\max _{c_{k}} P\\left(Y=c_{k}\\right) \\prod_{j=1}^{n} P\\left(X_{j}=x^{(j)} | Y=c_{k}\\right)$$"
   ]
  },
  {
   "cell_type": "markdown",
   "id": "cd9d4d36-84c4-4e8a-99ed-d71bd08ba691",
   "metadata": {},
   "source": [
    "#### 贝叶斯估计"
   ]
  },
  {
   "cell_type": "markdown",
   "id": "f5c7c97c-de2f-4d64-a4e2-1b52f1726e2f",
   "metadata": {},
   "source": [
    "用极大似然估计可能会出现所要估计的概率值为0的情况，会影响到后验概率的计算结果，使分类产生偏差。解决这一问题的方法是采用贝叶斯估计。"
   ]
  },
  {
   "cell_type": "markdown",
   "id": "f8df1a6d-6f24-4941-aea1-ca2c2e4647c3",
   "metadata": {},
   "source": [
    "条件概率的贝叶斯估计是\n",
    "$$\n",
    "p_\\lambda (X^{(j)}=\\frac{a_{jl}|Y=c_k)=\\sum_{i=1}^{N}I(x_i^{(j)}=a_{jl},y_i=c_k)+\\lambda}{\\sum_{i=1}^{N}I(y_i=c_k) + S_j\\lambda} \n",
    "$$"
   ]
  },
  {
   "cell_type": "markdown",
   "id": "350fc630-0287-4755-941c-957880f8423f",
   "metadata": {},
   "source": [
    "其中，$\\lambda>=0$，当$\\lambda=0$时，就是极大似然估计。常取$\\lambda=1$，这时称为拉普拉斯平滑。"
   ]
  },
  {
   "cell_type": "markdown",
   "id": "11455b6c-e4b0-4734-b341-7191309b966b",
   "metadata": {},
   "source": [
    "先验概率的贝叶斯估计是\n",
    "$$\n",
    "P_\\lambda(Y=c_k)=\\frac{\\sum_{i=1}^{N}I(y_i=c_k)+\\lambda}{N+K\\lambda}\n",
    "$$"
   ]
  },
  {
   "cell_type": "markdown",
   "id": "721efe6b-657e-4d16-84b3-353ec4dc694c",
   "metadata": {},
   "source": [
    "##### 优点"
   ]
  },
  {
   "cell_type": "markdown",
   "id": "9e3678d2-ae07-4236-83f7-d5f8ed0c04ed",
   "metadata": {},
   "source": [
    "* 是生成模型，能处理多分类任务，适合增量式训练。\n",
    "* 对缺失数据不敏感，算法比较简单，常用于文本分类。"
   ]
  }
 ],
 "metadata": {
  "kernelspec": {
   "display_name": "Python 3",
   "language": "python",
   "name": "python3"
  },
  "language_info": {
   "codemirror_mode": {
    "name": "ipython",
    "version": 3
   },
   "file_extension": ".py",
   "mimetype": "text/x-python",
   "name": "python",
   "nbconvert_exporter": "python",
   "pygments_lexer": "ipython3",
   "version": "3.9.1"
  }
 },
 "nbformat": 4,
 "nbformat_minor": 5
}
