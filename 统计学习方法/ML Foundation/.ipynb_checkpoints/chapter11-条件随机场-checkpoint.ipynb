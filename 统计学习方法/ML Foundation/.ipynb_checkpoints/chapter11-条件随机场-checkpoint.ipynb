{
 "cells": [
  {
   "cell_type": "markdown",
   "id": "44c6036e-284b-433d-a0fb-f2ad0533e3de",
   "metadata": {},
   "source": [
    "# 条件随机场（CRF）"
   ]
  },
  {
   "cell_type": "markdown",
   "id": "be23f1b2-5239-4b2b-b0b9-b0da558ceede",
   "metadata": {},
   "source": [
    "* 概率无向图模型是由无向图表示的联合概率分布。无向图上的结点之间的连接关系表示了联合分布的随机变量集合之间的条件独立性，即马尔可夫性。因此，概率无向图模型也称为马尔可夫随机场。\n",
    "\n",
    "概率无向图模型或马尔可夫随机场的联合概率分布可以分解为无向图最大团上的正值函数的乘积的形式。"
   ]
  },
  {
   "cell_type": "markdown",
   "id": "4d69c96a-ffdf-4cfc-87cb-843a14f23475",
   "metadata": {},
   "source": [
    "* 条件随机场是给定输入随机变量X条件下，输出随机变量Y的条件概率分布模型，其形式为参数化的对数线性模型。条件随机场的最大特点是假设输出变量之间的联合概率分布构成概率无向图模型，即马尔可夫随机场。条件随机场是判别模型。"
   ]
  },
  {
   "cell_type": "markdown",
   "id": "bb5905bb-4379-4859-815b-7dba09f1c760",
   "metadata": {},
   "source": [
    "* 线性链条件随机场是定义在观测序列与标记序列上的条件随机场。线性链条件随机场一般表示为给定观测序列条件下的标记序列的条件概率分布，由参数化的对数线性模型表示。模型包含特征及相应的权值，特征是定义在线性链的边与结点上的。线性链条件随机场的数学表达式是\n",
    "$$\n",
    "P(y|x)=\\frac{1}{Z(x)}exp(\\sum_{i,k}\\lambda_k t_k(y_{i-1},y_i,x,i)+\\sum_{i,l}\\mu_l s_l(y_i,x,i))\n",
    "$$\n",
    "\n",
    "其中，\n",
    "$$\n",
    "Z(x)=\\sum_{y}exp(\\sum_{i,k}\\lambda_k t_k(y_{i-1},y_i,x,i)+\\sum_{i,l}\\mu_l s_l(y_i,x,i))\n",
    "$$"
   ]
  },
  {
   "cell_type": "markdown",
   "id": "5aae4410-93b5-4f34-9bb4-f42e3c34afc2",
   "metadata": {},
   "source": [
    "* 线性链条件随机场的概率计算通常利用前向-后向算法。"
   ]
  },
  {
   "cell_type": "markdown",
   "id": "0f994942-a310-4d3f-90a8-dc32ddcac0fd",
   "metadata": {},
   "source": [
    "* 条件随机场的学习方法通常是极大似然估计方法或正则化的极大似然估计，即在给定训练数据下，通过极大化训练数据的对数似然函数以估计模型参数。具体的算法有改进的迭代尺度算法，梯度下降法，拟牛顿法。"
   ]
  },
  {
   "cell_type": "markdown",
   "id": "d2265645-2e55-46a1-820c-6770be396834",
   "metadata": {},
   "source": [
    "* 线性链条件随机场的一个重要应用是标注。维特比算法是给定观测序列求条件概率最大的标记序列的方法。"
   ]
  }
 ],
 "metadata": {
  "kernelspec": {
   "display_name": "Python 3",
   "language": "python",
   "name": "python3"
  },
  "language_info": {
   "codemirror_mode": {
    "name": "ipython",
    "version": 3
   },
   "file_extension": ".py",
   "mimetype": "text/x-python",
   "name": "python",
   "nbconvert_exporter": "python",
   "pygments_lexer": "ipython3",
   "version": "3.9.1"
  }
 },
 "nbformat": 4,
 "nbformat_minor": 5
}
