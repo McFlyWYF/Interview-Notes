{
 "cells": [
  {
   "cell_type": "markdown",
   "id": "30a8c7cb-f246-4c95-b04e-bb0d69433f3d",
   "metadata": {},
   "source": [
    "#### 机器学习分类"
   ]
  },
  {
   "cell_type": "markdown",
   "id": "74dfe7b6-4c5a-4b43-b429-8bb7d110285b",
   "metadata": {},
   "source": [
    "* 根据标签分为：\n",
    "    * 监督学习：数据的所有标签都知道\n",
    "    * 半监督学习：知道一部分数据的标签\n",
    "    * 无监督学习：不知道标签\n",
    "    * 强化学习：对好的结果给予激励，对不好的结果给予惩罚，不断调整模型。"
   ]
  },
  {
   "cell_type": "markdown",
   "id": "4dec54c5-5768-4ac4-826f-d6ae06509d98",
   "metadata": {},
   "source": [
    "* 根据不同协议分为：\n",
    "    * Batch学习：数据的输入是一批的。\n",
    "    * 在线学习：数据是实时更新，不断优化模型。\n",
    "    * 主动学习：具备主动问问题的能力。"
   ]
  },
  {
   "cell_type": "markdown",
   "id": "e17f455d-8a27-4d42-99e4-bf75a45b04b3",
   "metadata": {},
   "source": [
    "#### 输入数据分类"
   ]
  },
  {
   "cell_type": "markdown",
   "id": "6a10d3c1-0e7c-4168-9635-c16d51d1cb58",
   "metadata": {},
   "source": [
    "* concrete features：具体特征\n",
    "* raw features：如图像像素\n",
    "* abstract features：抽象特征"
   ]
  },
  {
   "cell_type": "markdown",
   "id": "6184df47-929a-4d1c-bfbc-c1be91764e72",
   "metadata": {},
   "source": [
    "#### 机器学习必须满足的条件"
   ]
  },
  {
   "cell_type": "markdown",
   "id": "b28ea9dd-769d-4a2b-870b-71a37ab82e13",
   "metadata": {},
   "source": [
    "* 假设空间H的size M是有限的，即当N足够大的时候，那么对于假设空间中任意一个假设g，$E_{in}=E_{out}$。\n",
    "* 利用算法A从假设空间H中，挑选一个g，$E_{in}(g)=0, E_{out}=0$。"
   ]
  },
  {
   "cell_type": "markdown",
   "id": "777bd1eb-6454-46dd-a93b-1251a932e92d",
   "metadata": {},
   "source": [
    "#### 误差"
   ]
  },
  {
   "cell_type": "markdown",
   "id": "35523108-97ba-4261-9774-fb83b7049ede",
   "metadata": {},
   "source": [
    "* 在训练集上的叫做训练（经验）误差，新样本上叫做泛化误差。"
   ]
  },
  {
   "cell_type": "markdown",
   "id": "18a9ef7a-f761-453c-b4cb-1831e43628fc",
   "metadata": {},
   "source": [
    "* 过拟合是无法避免的，只能缓解或者减小风险。"
   ]
  },
  {
   "cell_type": "markdown",
   "id": "39499f59-2147-483f-a8ff-35b5a4c34d3f",
   "metadata": {},
   "source": [
    "* 数据集划分方法：留出法，交叉验证法，自助法。"
   ]
  },
  {
   "cell_type": "markdown",
   "id": "94f73fec-eed9-4d59-b314-6064f3fec99b",
   "metadata": {},
   "source": [
    "* 评价指标：错误率，精度，查全率，查准率，F1\n",
    "$$\n",
    "F1 = \\frac{2\\cdot TP}{样本总数+TP-TN}\n",
    "$$"
   ]
  },
  {
   "cell_type": "markdown",
   "id": "ff2ce9f6-f2d9-4593-930e-ee41bc698ec4",
   "metadata": {},
   "source": [
    "* ROC曲线横轴是假正例率，纵轴是真正例率。若一个学习器的ROC曲线被另一个学习器的曲线完全包住，则可断言后者的性能优于前者。ROC曲线下的面积称为AUC。"
   ]
  },
  {
   "cell_type": "markdown",
   "id": "5c0ba51c-32bb-4528-9947-a5f449956c06",
   "metadata": {},
   "source": [
    "* 偏差；度量学习算法的期望预测与真实结果的偏离程度，刻画了学习算法本身的拟合能力；\n",
    "* 方差：度量同样大小的训练集的变动所导致的学习性能的变化，刻画了数据扰动所造成的影响；\n",
    "* 噪声：表达了在当前任务上任何学习算法所能达到的期望泛化误差的下界，刻画了学习问题本身的难度。"
   ]
  },
  {
   "cell_type": "code",
   "execution_count": null,
   "id": "ef83f496-1986-42e1-8085-287f16d3c5cf",
   "metadata": {},
   "outputs": [],
   "source": []
  }
 ],
 "metadata": {
  "kernelspec": {
   "display_name": "Python 3",
   "language": "python",
   "name": "python3"
  },
  "language_info": {
   "codemirror_mode": {
    "name": "ipython",
    "version": 3
   },
   "file_extension": ".py",
   "mimetype": "text/x-python",
   "name": "python",
   "nbconvert_exporter": "python",
   "pygments_lexer": "ipython3",
   "version": "3.9.1"
  }
 },
 "nbformat": 4,
 "nbformat_minor": 5
}
