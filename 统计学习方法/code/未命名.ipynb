{
 "cells": [
  {
   "cell_type": "markdown",
   "id": "214eb95f-eb69-48d0-9149-5f8e11a1f322",
   "metadata": {},
   "source": [
    "# 支持向量机"
   ]
  },
  {
   "cell_type": "markdown",
   "id": "43c073c7-4da2-47e5-a63d-c5c0dfb1d546",
   "metadata": {},
   "source": [
    "* 支持向量机是二分类模型，是定义在特征空间上的间隔最大的线性分类器。支持向量机的学习算法是求解凸二次规划的最优化方法。"
   ]
  },
  {
   "cell_type": "markdown",
   "id": "8dcb9869-c9ed-467c-95df-e4e7348c25ed",
   "metadata": {},
   "source": [
    "* 分为：线性可分支持向量机，线性支持向量机，非线性支持向量机。"
   ]
  },
  {
   "cell_type": "markdown",
   "id": "8068defa-571f-4908-9252-b9fedaa500f6",
   "metadata": {},
   "source": [
    "### 线性可分支持向量机与硬间隔最大化"
   ]
  },
  {
   "cell_type": "markdown",
   "id": "6aca7fc7-a113-4925-a01f-3d5271636ee6",
   "metadata": {},
   "source": [
    "* 给定线性可分训练数据集，通过间隔最大化火等价地求解相应的凸二次规划问题学习到的分离超平面为\n",
    "$$\n",
    "w^*·x+b=0\n",
    "$$"
   ]
  },
  {
   "cell_type": "markdown",
   "id": "2e68491a-69cc-4fa0-be28-d45f50f05b01",
   "metadata": {},
   "source": [
    "以及相应的分类决策函数\n",
    "$$\n",
    "f(x)=sign(w^*·x+b)\n",
    "$$"
   ]
  },
  {
   "cell_type": "markdown",
   "id": "693838e0-2980-4674-8330-44daff48c390",
   "metadata": {},
   "source": [
    "称为线性可分支持向量机。"
   ]
  },
  {
   "cell_type": "markdown",
   "id": "3489079b-90b2-4cba-8b90-a2064a7b3e80",
   "metadata": {},
   "source": [
    "#### 1.函数间隔"
   ]
  },
  {
   "cell_type": "markdown",
   "id": "0685d055-9bad-4f13-bf31-dedb632da42e",
   "metadata": {},
   "source": [
    "对于给定的训练数据集T和超平面(w,b)，定义超平面(w,b)关于样本点$(x_i,y_i)$的函数间隔为\n",
    "$$\n",
    "\\hat{\\gamma_i}=y_i(w·x_i+b)\n",
    "$$"
   ]
  },
  {
   "cell_type": "markdown",
   "id": "9c058c51-4bff-4e9d-8caf-a0dc2279f156",
   "metadata": {},
   "source": [
    "#### 2.几何间隔"
   ]
  },
  {
   "cell_type": "markdown",
   "id": "6fd0e4e5-80f4-4ba5-b5b6-9d6603be97fd",
   "metadata": {},
   "source": [
    "对于给定的训练数据集T和超平面(w,b)，定义超平面(w,b)关于样本点(x_i,y_i)的几何间隔为\n",
    "$$\n",
    "\\gamma_i=y_i(\\frac{w}{||w||}·x_i+\\frac{b}{||w||})\n",
    "$$"
   ]
  },
  {
   "cell_type": "markdown",
   "id": "02445b59-619c-44af-80e2-13548b9ddd27",
   "metadata": {},
   "source": [
    "两者关系：\n",
    "$$\n",
    "\\gamma_i=\\frac{\\hat{\\gamma_i}}{||w||}\n",
    "$$"
   ]
  },
  {
   "cell_type": "markdown",
   "id": "9648655f-5b75-4eeb-a4da-2d3a5115b32a",
   "metadata": {},
   "source": [
    "#### 3.间隔最大化"
   ]
  },
  {
   "cell_type": "markdown",
   "id": "623ae8b5-a36e-42dd-90d7-cd5b551ed0fa",
   "metadata": {},
   "source": [
    "* 支持向量机学习的基本想法是求解能够正确划分训练数据集并且几何间隔最大的分离超平面。间隔最大化是：对训练数据集找到几何间隔最大的超平面意味着以充分大的确信度对训练数据进行分类。"
   ]
  },
  {
   "cell_type": "markdown",
   "id": "f1d98cec-bffa-4c7d-8ebe-39473d3cc467",
   "metadata": {},
   "source": [
    "##### 最大间隔分离超平面的约束最优化问题：\n",
    "$$\n",
    "max_{w,b}  \\gamma\n",
    "$$\n",
    "\n",
    "$$\n",
    "s.t. y_i(\\frac{w}{||w||}·x_i+\\frac{b}{||w||}) \\ge \\gamma\n",
    "$$"
   ]
  },
  {
   "cell_type": "markdown",
   "id": "627e7692-22d4-4c66-9dec-51204907982b",
   "metadata": {},
   "source": [
    "考虑两者的关系，改写为\n",
    "$$\n",
    "max_{w,b}  \\frac{\\hat{\\gamma}}{||w||}\n",
    "$$\n",
    "\n",
    "$$\n",
    "s.t. y_i(w·x_i+b) \\ge \\hat{\\gamma}\n",
    "$$"
   ]
  },
  {
   "cell_type": "markdown",
   "id": "2cb4ef5b-803f-4c11-ba10-7ce457d42eec",
   "metadata": {},
   "source": [
    "$\\hat{\\gamma}=1$等价于\n",
    "$$\n",
    "min_{w,b} \\frac{1}{2}||w||^2\n",
    "$$\n",
    "\n",
    "$$\n",
    "s.t. y_i(w·x_i+b) - 1 \\ge 0\n",
    "$$"
   ]
  },
  {
   "cell_type": "markdown",
   "id": "008a3fdb-9e63-4157-acaf-7634ef0cf26f",
   "metadata": {},
   "source": [
    "##### 算法1-最大间隔法"
   ]
  },
  {
   "cell_type": "markdown",
   "id": "a5b0704b-f8ee-4e95-a675-bd33b87eba3a",
   "metadata": {},
   "source": [
    "* 输入：训练数据集\n",
    "* 输出：最大间隔分离超平面和分类决策函数"
   ]
  },
  {
   "cell_type": "markdown",
   "id": "936cc222-5e61-4e72-8b0a-26fbd9c8700a",
   "metadata": {},
   "source": [
    "（1）构造并求解约束最优化问题：\n",
    "$$\n",
    "min_{w,b} \\frac{1}{2}||w||^2\n",
    "$$\n",
    "\n",
    "$$\n",
    "s.t. y_i(w·x_i+b) - 1 \\ge 0\n",
    "$$\n",
    "\n",
    "求解最优解$w^*,b^*$"
   ]
  },
  {
   "cell_type": "markdown",
   "id": "73a8b5c1-e609-4e70-bb4c-7b310a58adef",
   "metadata": {},
   "source": [
    "（2）由此得到分类超平面：\n",
    "$$\n",
    "w^*·x+b^*=0\n",
    "$$\n",
    "分类决策函数\n",
    "$$\n",
    "f(x)=sign(w^*·x+b^*)\n",
    "$$"
   ]
  },
  {
   "cell_type": "markdown",
   "id": "8925b15e-a299-481d-8a0e-8b95d685f009",
   "metadata": {},
   "source": [
    "##### 支持向量"
   ]
  },
  {
   "cell_type": "markdown",
   "id": "5e29b894-3431-4e0e-b367-f0cb23848f44",
   "metadata": {},
   "source": [
    "* 在线性可分的情况下，训练数据集的样本点中与分离超平面距离最近的样本点的实例称为支持向量。"
   ]
  },
  {
   "cell_type": "markdown",
   "id": "40eb49cc-54c3-41ff-9a9b-93eca8282ba6",
   "metadata": {},
   "source": [
    "##### 间隔边界"
   ]
  },
  {
   "cell_type": "markdown",
   "id": "995c56c7-04f9-4706-9305-d6721c9cd493",
   "metadata": {},
   "source": [
    "* 在正负支持向量之间的距离称为间隔。间隔依赖于分离超平面的法向量w，等于$\\frac{2}{||w||}$，H1和H2是间隔边界。"
   ]
  },
  {
   "cell_type": "markdown",
   "id": "b02e4bbe-4d32-4625-adf5-b5af97d4d91f",
   "metadata": {},
   "source": [
    "决定分离超平面的只有支持向量，其他实例点不起作用。"
   ]
  },
  {
   "cell_type": "markdown",
   "id": "e111158e-d1c1-4ba7-998d-2fe6c094497e",
   "metadata": {},
   "source": [
    "##### 线性可分支持向量机学习算法"
   ]
  },
  {
   "cell_type": "markdown",
   "id": "524fecc0-7573-46b8-a923-e526bc20f9c9",
   "metadata": {},
   "source": [
    "* 输入：训练数据集\n",
    "* 输出：分离超平面和分类决策函数"
   ]
  },
  {
   "cell_type": "markdown",
   "id": "f61da99b-b486-425f-b9c6-cb155d1c8dd8",
   "metadata": {},
   "source": [
    "（1）构造并求解约束最优化问题\n",
    "$$\n",
    "min_a \\frac{1}{2} \\sum_{i=1}^{N}\\sum_{j=1}^{N}a_ia_jy_iy_j(x_i·x_j)-\\sum_{i=1}^{N}a_i\n",
    "$$\n",
    "\n",
    "$$\n",
    "s.t. \\sum_{i=1}^{N}a_iy_i=0\n",
    "$$\n",
    "\n",
    "$$\n",
    "a_i \\ge 0,i=1,2,...,N\n",
    "$$\n",
    "\n",
    "求得最优解$a^*=(a_1^*,a_2^*,...,a_N^*)^T$"
   ]
  },
  {
   "cell_type": "markdown",
   "id": "22df6cf4-11de-4344-ac57-3971b0f3a45d",
   "metadata": {},
   "source": [
    "（2）计算\n",
    "$$\n",
    "w^*=\\sum_{i=1}^{N}a_i^*y_ix_i\n",
    "$$\n",
    "并选择$a^*$的一个正分量$a_j^*>0$，计算\n",
    "$$\n",
    "b^*=y_i-\\sum_{i=1}^{N}a_i^*y_i(x_i·y_i)\n",
    "$$"
   ]
  },
  {
   "cell_type": "markdown",
   "id": "12b082fb-040b-4926-8682-398c8daebcde",
   "metadata": {},
   "source": [
    "（3）分离超平面\n",
    "$$\n",
    "w^*·x+b^*=0\n",
    "$$\n",
    "\n",
    "分类决策函数\n",
    "$$\n",
    "f(x) =sign(w^*·x+b^*)\n",
    "$$"
   ]
  },
  {
   "cell_type": "markdown",
   "id": "11e7574f-ca18-4404-b901-0ed06c70a0fa",
   "metadata": {},
   "source": [
    "$w^*,b^*$只依赖于$a_i^*>0$的样本点，这些点称为支持向量。"
   ]
  },
  {
   "cell_type": "markdown",
   "id": "2cde6fbf-a7cb-4024-bb9b-c96811f286ca",
   "metadata": {},
   "source": [
    "### 线性支持向量机与软间隔最大化"
   ]
  },
  {
   "cell_type": "markdown",
   "id": "78d635ad-16d7-4458-bbc1-fbe6ad38c160",
   "metadata": {},
   "source": [
    "假设训练数据集存在某些特异样本点，使得数据集不是线性可分。也就是某些样本点不能满足函数间隔大于等于1的约束条件。为了解决这个问题，对每个样本点引进一个松弛变量$\\xi \\ge 0$，使函数间隔加上松弛变量大于等于1。这样约束最优化就变为：\n",
    "$$\n",
    "min_{w,b,\\xi} \\frac{1}{2}||w||^2+C\\sum_{i=1}^{N}\\xi_i\n",
    "$$\n",
    "$$\n",
    "s.t. y_i(w·x_i+b)\\ge 1-\\xi_i\n",
    "$$\n",
    "$$\n",
    "\\xi_i \\ge 0\n",
    "$$"
   ]
  },
  {
   "cell_type": "markdown",
   "id": "a2e3cdbd-4ab0-4db8-bc71-9b12ed858ae2",
   "metadata": {},
   "source": [
    "等价于\n",
    "$$\n",
    "min_{w,b}\\sum_{N}^{i=1}[1-y_i(w·x_i+b)]_++\\lambda||w||^2\n",
    "$$"
   ]
  },
  {
   "cell_type": "markdown",
   "id": "ad485b4e-e449-46d1-98df-352d494cb84c",
   "metadata": {},
   "source": [
    "C是惩罚参数。"
   ]
  },
  {
   "cell_type": "markdown",
   "id": "6af1e63a-9461-4337-8823-e937fe8d7b9a",
   "metadata": {},
   "source": [
    "这样的模型为训练样本线性不可分时的线性支持向量机，间隔称为软间隔最大化。"
   ]
  },
  {
   "cell_type": "markdown",
   "id": "c3baeebe-c6c0-413b-8896-3dce3bdc562f",
   "metadata": {},
   "source": [
    "#### 线性支持向量机"
   ]
  },
  {
   "cell_type": "markdown",
   "id": "125706f9-9e92-4ebb-b99e-c6e9f0343596",
   "metadata": {},
   "source": [
    "对于给定的线性不可分的训练数据集，通过求解凸二次规划问题（软间隔最大化），得到的分离超平面为\n",
    "$$\n",
    "w^*·x+b^*=0\n",
    "$$\n",
    "以及相应的分类决策函数\n",
    "$$\n",
    "f(x)=sign(w^*·x+b^*)\n",
    "$$"
   ]
  },
  {
   "cell_type": "markdown",
   "id": "f1e66df7-970a-446d-99dc-83a7a5230eb0",
   "metadata": {},
   "source": [
    "##### 线性支持向量机学习算法"
   ]
  },
  {
   "cell_type": "markdown",
   "id": "eb8bf260-9e25-4417-97de-a343c463bc2c",
   "metadata": {},
   "source": [
    "* 输入：训练数据集\n",
    "* 输出：分离超平面和分类决策函数"
   ]
  },
  {
   "cell_type": "markdown",
   "id": "2ff86573-f0b9-4c51-8d15-78928dab382c",
   "metadata": {},
   "source": [
    "（1）选择惩罚参数C>0，构造并求解约束最优化问题\n",
    "$$\n",
    "min_a \\frac{1}{2} \\sum_{i=1}^{N}\\sum_{j=1}^{N}a_ia_jy_iy_j(x_i·x_j)-\\sum_{i=1}^{N}a_i\n",
    "$$\n",
    "\n",
    "$$\n",
    "s.t. \\sum_{i=1}^{N}a_iy_i=0\n",
    "$$\n",
    "\n",
    "$$\n",
    "0 \\le a_i \\le C,i=1,2,...,N\n",
    "$$\n",
    "\n",
    "求得最优解$a^*=(a_1^*,a_2^*,...,a_N^*)^T$"
   ]
  },
  {
   "cell_type": "markdown",
   "id": "cee7c533-ff1e-45da-bdae-b576c965c73f",
   "metadata": {},
   "source": [
    "（2）计算\n",
    "$$\n",
    "w^*=\\sum_{i=1}^{N}a_i^*y_ix_i\n",
    "$$\n",
    "并选择$a^*$的一个分量$0<a_j^*<C$，计算\n",
    "$$\n",
    "b^*=y_i-\\sum_{i=1}^{N}a_i^*y_i(x_i·y_i)\n",
    "$$"
   ]
  },
  {
   "cell_type": "markdown",
   "id": "f07a7613-7e3a-49a6-8421-882459cc1632",
   "metadata": {},
   "source": [
    "（3）分离超平面\n",
    "$$\n",
    "w^*·x+b^*=0\n",
    "$$\n",
    "\n",
    "分类决策函数\n",
    "$$\n",
    "f(x) =sign(w^*·x+b^*)\n",
    "$$"
   ]
  },
  {
   "cell_type": "markdown",
   "id": "c2401484-1de8-485f-83e9-a3c3f8de5f37",
   "metadata": {},
   "source": [
    "##### 支持向量"
   ]
  },
  {
   "cell_type": "markdown",
   "id": "20f1c738-5d48-4401-aaf1-cf8cbc517a34",
   "metadata": {},
   "source": [
    "* $a_i^*>0$的样本点的实例$x_i$称为支持向量。实例$x_i$到间隔边界的距离为$\\frac{\\xi_i}{||w||}$"
   ]
  },
  {
   "cell_type": "markdown",
   "id": "320bba6f-ba07-40ff-9953-3fe517107c09",
   "metadata": {},
   "source": [
    "* 软间隔的支持向量在间隔边界上，或者在间隔边界与分离超平面之间，或者在分离超平面误分的一侧。\n",
    "    * $a_i^*<C, \\xi_i=0$：在间隔边界上；\n",
    "    * $a_i^*=C, 0 < \\xi_i<1$：分类正确；\n",
    "    * $a_i^*=C, \\xi_i=1$：在分离超平面上；\n",
    "    * $a_i^*=C, \\xi_i>1$：在分离超平面误分类一侧；"
   ]
  },
  {
   "cell_type": "markdown",
   "id": "74106a67-7b07-4c2f-a0c3-0864e076714c",
   "metadata": {},
   "source": [
    "##### 合页损失函数"
   ]
  },
  {
   "cell_type": "markdown",
   "id": "c397d467-f9a8-433f-98ff-58492ad5d5e2",
   "metadata": {},
   "source": [
    "线性支持向量机学习另一种就是最小化以下目标函数：\n",
    "$$\n",
    "\\sum_{N}^{i=1}[1-y_i(w·x_i+b)]_++\\lambda||w||^2\n",
    "$$"
   ]
  },
  {
   "cell_type": "markdown",
   "id": "88802774-1462-4237-90a1-e98ccbe4a5d2",
   "metadata": {},
   "source": [
    "目标函数的第1项是经验损失或经验风险，函数\n",
    "$$\n",
    "L(y(w·x+b))=[1-y_i(w·x_i+b)]_+\n",
    "$$"
   ]
  },
  {
   "cell_type": "markdown",
   "id": "3dc1c951-cef1-4e43-adf0-61fa70d316eb",
   "metadata": {},
   "source": [
    "称为合页损失函数。下标'+'表示以下取正值的函数\n",
    "$$\n",
    "[z]_+=\\left\\{\\begin{matrix}\n",
    " z & z>0\\\\\n",
    " 0 & z \\le 0\n",
    "\\end{matrix}\\right.\n",
    "$$"
   ]
  },
  {
   "cell_type": "markdown",
   "id": "836e5855-a508-4b13-bae5-55d683e2af19",
   "metadata": {},
   "source": [
    "当样本点$(x_i,y_i)$被正确分类且函数间隔（确信度）大于1时，损失是0，否则损失是$1-y_i(w·x_i+b)$。"
   ]
  },
  {
   "cell_type": "markdown",
   "id": "482cd1ca-6ee2-44b5-bf51-cf37cb9a806a",
   "metadata": {},
   "source": [
    "### 非线性支持向量机与核函数"
   ]
  },
  {
   "cell_type": "markdown",
   "id": "a009eba3-2af5-40eb-b0df-ff37a648bba0",
   "metadata": {},
   "source": [
    "* 这类问题是非线性的，不能直接使用直接对其进行分类，需要使用曲线将其正确分类。一般解决此类问题是用线性分类方法求解非线性分类问题：1.首先使用一个变换将原空间的数据映射到新空间；2.在新空间里用线性分类学习方法从训练数据中学习分类模型。"
   ]
  },
  {
   "cell_type": "code",
   "execution_count": null,
   "id": "0c7b3f8d-85a4-4820-b38b-d3b57a9a8a30",
   "metadata": {},
   "outputs": [],
   "source": []
  }
 ],
 "metadata": {
  "kernelspec": {
   "display_name": "Python 3",
   "language": "python",
   "name": "python3"
  },
  "language_info": {
   "codemirror_mode": {
    "name": "ipython",
    "version": 3
   },
   "file_extension": ".py",
   "mimetype": "text/x-python",
   "name": "python",
   "nbconvert_exporter": "python",
   "pygments_lexer": "ipython3",
   "version": "3.9.1"
  }
 },
 "nbformat": 4,
 "nbformat_minor": 5
}
