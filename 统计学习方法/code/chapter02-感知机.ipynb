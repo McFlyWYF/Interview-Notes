{
 "cells": [
  {
   "cell_type": "markdown",
   "id": "literary-concord",
   "metadata": {},
   "source": [
    "# 感知机"
   ]
  },
  {
   "cell_type": "markdown",
   "id": "impossible-practice",
   "metadata": {},
   "source": [
    "* 感知机是二类分类的线性分类模型，输入为实例的特征向量，输出为实例的类别，取`+1`和`-1`二值。\n",
    "* 感知机模型\n",
    "$$ f(x)=sign(w·x+b) $$\n",
    "`w`和`b`为感知机模型参数。感知机对应于输入空间中的分离超平面`w·x+b=0`。"
   ]
  },
  {
   "cell_type": "markdown",
   "id": "exposed-calendar",
   "metadata": {},
   "source": [
    "* 符号函数\n",
    "$$sign(x)=\\begin{cases}\n",
    "& +1 \\text{ if } x\\ge0 \\\\\n",
    "& -1 \\text{ if } x<0\n",
    "\\end{cases}$$"
   ]
  },
  {
   "cell_type": "markdown",
   "id": "tamil-absolute",
   "metadata": {},
   "source": [
    "### 感知机学习策略"
   ]
  },
  {
   "cell_type": "markdown",
   "id": "czech-hearts",
   "metadata": {},
   "source": [
    "* 目标是求得一个能够将训练集正实例点和负实例点完全正确分开的分离超平面。\n",
    "* 感知机学习的策略是极小化损失函数：\n",
    "$$min_{w,b}L(w,b)=-\\sum_{x_{i}\\in M}y_i(w·x_i+b)$$\n",
    "损失函数对应于误分类点到分离超平面的总距离。"
   ]
  },
  {
   "cell_type": "markdown",
   "id": "universal-incidence",
   "metadata": {},
   "source": [
    "### 感知机学习算法"
   ]
  },
  {
   "cell_type": "markdown",
   "id": "according-fruit",
   "metadata": {},
   "source": [
    "* 感知机学习算法是基于随机梯度下降法的对损失函数的最优化算法，有`原始形式`和`对偶形式`。算法简单且易于实现。"
   ]
  },
  {
   "cell_type": "markdown",
   "id": "popular-danger",
   "metadata": {},
   "source": [
    "* **原始形式**\n",
    "    * 首先任意选取一个超平面，然后用梯度下降法不断极小化目标函数。在这个过程中一次随机选取一个误分类点使其梯度下降。\n",
    "    $$ \\bigtriangledown _wL(w,b)=-\\sum_{x_i\\in M}y_ix_i\\\\\n",
    "    \\bigtriangledown _bL(w,b)=-\\sum_{x_i\\in M}y_i\n",
    "    $$"
   ]
  },
  {
   "cell_type": "markdown",
   "id": "opened-jewel",
   "metadata": {},
   "source": [
    "随机选取一个误分类点$(x_i,y_i)$，对w，b进行更新：\n",
    "$$w \\gets w+\\eta y_ix_i\\\\\n",
    "b \\gets b+\\eta y_i\n",
    "$$"
   ]
  },
  {
   "cell_type": "markdown",
   "id": "suited-implement",
   "metadata": {},
   "source": [
    "* 步骤\n",
    "    * （1）选取初值$w_0, b_0$；\n",
    "    * （2）在训练集中选取数据$(x_i, y_i)$；\n",
    "    * （3）如果$y_i(w·x_i+b)\\le0$，执行参数更新；\n",
    "    * （4）转至（2），直至训练集中没有误分类点；"
   ]
  },
  {
   "cell_type": "markdown",
   "id": "indian-jacket",
   "metadata": {},
   "source": [
    "解释：当一个实例点被误分类，即位于分离超平面的错误一侧时，则调整`w, b`的值，使分离超平面向该误分类点的一侧移动，以减少该误分类点与超平面间的距离，直至超平面越过该误分类点使其被正确分类。"
   ]
  },
  {
   "cell_type": "markdown",
   "id": "organic-faith",
   "metadata": {},
   "source": [
    "* 当训练数据集线性可分时，感知机学习算法是收敛的。感知机算法在训练数据集上的误分类次数`k`满足不等式：\n",
    "$$\n",
    "xk\\le(\\frac{R}{\\gamma})^2\n",
    "$$\n",
    "当训练数据集线性可分时，感知机学习算法存在无穷多个解，其解由于不同的初值或不同的迭代顺序而可能有所不同。"
   ]
  },
  {
   "cell_type": "markdown",
   "id": "spoken-former",
   "metadata": {},
   "source": [
    "* **对偶形式**"
   ]
  },
  {
   "cell_type": "markdown",
   "id": "exciting-guest",
   "metadata": {},
   "source": [
    "* 将`w`和`b`表示为实例$x_i$和标记$y_i$的线性组合的形式，通过求解其系数而求得`w`和`b`。\n",
    "* 感知机模型\n",
    "$$ f(x)=sign(\\sum_{j=1}^Na_jy_jx_j·x+b) $$"
   ]
  },
  {
   "cell_type": "markdown",
   "id": "industrial-pitch",
   "metadata": {},
   "source": [
    "* 步骤\n",
    "    * （1）$a \\gets 0, b \\gets 0$；\n",
    "    * （2）在训练集选取数据$(x_i, y_i)$；\n",
    "    * （3）如果$y_i(\\sum_{j=1}^N a_jy_jx_j·x_i+b)\\le0$，则（先更新对应x的`a`和`b`，再更新`w`和`b`）\n",
    "    $$ a_i \\gets a_i+\\eta\\\\\n",
    "b \\gets b+\\eta y_i\\\\\n",
    "w=\\sum_{i=1}^Na_iy_ix_i\\\\\n",
    "b=\\sum_{i=1}^Na_iy_i $$\n",
    "    * （4）转至（2）直到没有误分类数据。"
   ]
  },
  {
   "cell_type": "markdown",
   "id": "classified-education",
   "metadata": {},
   "source": [
    "### 代码实现一个感知机模型"
   ]
  },
  {
   "cell_type": "markdown",
   "id": "recorded-titanium",
   "metadata": {},
   "source": [
    "#### 使用iris数据集中两个分类的数据和【length, width]作为特征"
   ]
  },
  {
   "cell_type": "code",
   "execution_count": 181,
   "id": "respected-stopping",
   "metadata": {},
   "outputs": [],
   "source": [
    "import pandas as pd\n",
    "import numpy as np\n",
    "from sklearn.datasets import load_iris\n",
    "import matplotlib.pyplot as plt"
   ]
  },
  {
   "cell_type": "code",
   "execution_count": 182,
   "id": "temporal-minimum",
   "metadata": {},
   "outputs": [],
   "source": [
    "# load data\n",
    "iris = load_iris()\n",
    "df = pd.DataFrame(iris.data, columns=iris.feature_names)\n",
    "df['label'] = iris.target"
   ]
  },
  {
   "cell_type": "code",
   "execution_count": 183,
   "id": "looking-contribution",
   "metadata": {},
   "outputs": [
    {
     "data": {
      "text/html": [
       "<div>\n",
       "<style scoped>\n",
       "    .dataframe tbody tr th:only-of-type {\n",
       "        vertical-align: middle;\n",
       "    }\n",
       "\n",
       "    .dataframe tbody tr th {\n",
       "        vertical-align: top;\n",
       "    }\n",
       "\n",
       "    .dataframe thead th {\n",
       "        text-align: right;\n",
       "    }\n",
       "</style>\n",
       "<table border=\"1\" class=\"dataframe\">\n",
       "  <thead>\n",
       "    <tr style=\"text-align: right;\">\n",
       "      <th></th>\n",
       "      <th>sepal length (cm)</th>\n",
       "      <th>sepal width (cm)</th>\n",
       "      <th>petal length (cm)</th>\n",
       "      <th>petal width (cm)</th>\n",
       "      <th>label</th>\n",
       "    </tr>\n",
       "  </thead>\n",
       "  <tbody>\n",
       "    <tr>\n",
       "      <th>0</th>\n",
       "      <td>5.1</td>\n",
       "      <td>3.5</td>\n",
       "      <td>1.4</td>\n",
       "      <td>0.2</td>\n",
       "      <td>0</td>\n",
       "    </tr>\n",
       "    <tr>\n",
       "      <th>1</th>\n",
       "      <td>4.9</td>\n",
       "      <td>3.0</td>\n",
       "      <td>1.4</td>\n",
       "      <td>0.2</td>\n",
       "      <td>0</td>\n",
       "    </tr>\n",
       "    <tr>\n",
       "      <th>2</th>\n",
       "      <td>4.7</td>\n",
       "      <td>3.2</td>\n",
       "      <td>1.3</td>\n",
       "      <td>0.2</td>\n",
       "      <td>0</td>\n",
       "    </tr>\n",
       "    <tr>\n",
       "      <th>3</th>\n",
       "      <td>4.6</td>\n",
       "      <td>3.1</td>\n",
       "      <td>1.5</td>\n",
       "      <td>0.2</td>\n",
       "      <td>0</td>\n",
       "    </tr>\n",
       "    <tr>\n",
       "      <th>4</th>\n",
       "      <td>5.0</td>\n",
       "      <td>3.6</td>\n",
       "      <td>1.4</td>\n",
       "      <td>0.2</td>\n",
       "      <td>0</td>\n",
       "    </tr>\n",
       "    <tr>\n",
       "      <th>...</th>\n",
       "      <td>...</td>\n",
       "      <td>...</td>\n",
       "      <td>...</td>\n",
       "      <td>...</td>\n",
       "      <td>...</td>\n",
       "    </tr>\n",
       "    <tr>\n",
       "      <th>145</th>\n",
       "      <td>6.7</td>\n",
       "      <td>3.0</td>\n",
       "      <td>5.2</td>\n",
       "      <td>2.3</td>\n",
       "      <td>2</td>\n",
       "    </tr>\n",
       "    <tr>\n",
       "      <th>146</th>\n",
       "      <td>6.3</td>\n",
       "      <td>2.5</td>\n",
       "      <td>5.0</td>\n",
       "      <td>1.9</td>\n",
       "      <td>2</td>\n",
       "    </tr>\n",
       "    <tr>\n",
       "      <th>147</th>\n",
       "      <td>6.5</td>\n",
       "      <td>3.0</td>\n",
       "      <td>5.2</td>\n",
       "      <td>2.0</td>\n",
       "      <td>2</td>\n",
       "    </tr>\n",
       "    <tr>\n",
       "      <th>148</th>\n",
       "      <td>6.2</td>\n",
       "      <td>3.4</td>\n",
       "      <td>5.4</td>\n",
       "      <td>2.3</td>\n",
       "      <td>2</td>\n",
       "    </tr>\n",
       "    <tr>\n",
       "      <th>149</th>\n",
       "      <td>5.9</td>\n",
       "      <td>3.0</td>\n",
       "      <td>5.1</td>\n",
       "      <td>1.8</td>\n",
       "      <td>2</td>\n",
       "    </tr>\n",
       "  </tbody>\n",
       "</table>\n",
       "<p>150 rows × 5 columns</p>\n",
       "</div>"
      ],
      "text/plain": [
       "     sepal length (cm)  sepal width (cm)  petal length (cm)  petal width (cm)  \\\n",
       "0                  5.1               3.5                1.4               0.2   \n",
       "1                  4.9               3.0                1.4               0.2   \n",
       "2                  4.7               3.2                1.3               0.2   \n",
       "3                  4.6               3.1                1.5               0.2   \n",
       "4                  5.0               3.6                1.4               0.2   \n",
       "..                 ...               ...                ...               ...   \n",
       "145                6.7               3.0                5.2               2.3   \n",
       "146                6.3               2.5                5.0               1.9   \n",
       "147                6.5               3.0                5.2               2.0   \n",
       "148                6.2               3.4                5.4               2.3   \n",
       "149                5.9               3.0                5.1               1.8   \n",
       "\n",
       "     label  \n",
       "0        0  \n",
       "1        0  \n",
       "2        0  \n",
       "3        0  \n",
       "4        0  \n",
       "..     ...  \n",
       "145      2  \n",
       "146      2  \n",
       "147      2  \n",
       "148      2  \n",
       "149      2  \n",
       "\n",
       "[150 rows x 5 columns]"
      ]
     },
     "execution_count": 183,
     "metadata": {},
     "output_type": "execute_result"
    }
   ],
   "source": [
    "df"
   ]
  },
  {
   "cell_type": "code",
   "execution_count": 184,
   "id": "minus-religious",
   "metadata": {},
   "outputs": [
    {
     "data": {
      "text/plain": [
       "0    50\n",
       "1    50\n",
       "2    50\n",
       "Name: label, dtype: int64"
      ]
     },
     "execution_count": 184,
     "metadata": {},
     "output_type": "execute_result"
    }
   ],
   "source": [
    "df.columns = [\n",
    "    'sepal length', 'sepal width', 'petal length', 'petal width', 'label'\n",
    "]\n",
    "df.label.value_counts()"
   ]
  },
  {
   "cell_type": "code",
   "execution_count": 185,
   "id": "innocent-shuttle",
   "metadata": {},
   "outputs": [
    {
     "data": {
      "text/plain": [
       "<matplotlib.legend.Legend at 0x14282ff40>"
      ]
     },
     "execution_count": 185,
     "metadata": {},
     "output_type": "execute_result"
    },
    {
     "data": {
      "image/png": "[encoded data removed]",
      "text/plain": [
       "<Figure size 432x288 with 1 Axes>"
      ]
     },
     "metadata": {
      "needs_background": "light"
     },
     "output_type": "display_data"
    }
   ],
   "source": [
    "plt.scatter(df[:50]['sepal length'], df[:50]['sepal width'], label='0')\n",
    "plt.scatter(df[50:100]['sepal length'], df[50:100]['sepal width'], label='1')\n",
    "plt.xlabel('sepal length')\n",
    "plt.ylabel('sepal width')\n",
    "plt.legend()"
   ]
  },
  {
   "cell_type": "code",
   "execution_count": 186,
   "id": "caring-asset",
   "metadata": {},
   "outputs": [],
   "source": [
    "data = np.array(df.iloc[:100, [0, 1, -1]])"
   ]
  },
  {
   "cell_type": "code",
   "execution_count": 187,
   "id": "younger-michigan",
   "metadata": {},
   "outputs": [],
   "source": [
    "X, y = data[:, :-1], data[:, -1]"
   ]
  },
  {
   "cell_type": "code",
   "execution_count": 188,
   "id": "serial-immigration",
   "metadata": {},
   "outputs": [],
   "source": [
    "y = np.array([1 if i == 1 else -1 for i in y])"
   ]
  },
  {
   "cell_type": "markdown",
   "id": "weekly-screening",
   "metadata": {},
   "source": [
    "### perceptron"
   ]
  },
  {
   "cell_type": "code",
   "execution_count": 189,
   "id": "assumed-comfort",
   "metadata": {},
   "outputs": [],
   "source": [
    "# 数据线性可分，二分类数据\n",
    "class Model:\n",
    "    def __init__(self):\n",
    "        self.w = np.ones(len(data[0]) - 1, dtype = np.float32)# 初始化w\n",
    "        self.b = 0\n",
    "        self.l_rate = 0.1\n",
    "        \n",
    "    # 符号函数\n",
    "    def sign(self, x, w, b):\n",
    "        y = np.dot(x, w) + b\n",
    "        return y\n",
    "    \n",
    "    # 随机梯度下降\n",
    "    def fit(self, X_train, y_train):\n",
    "        is_wrong = False\n",
    "        while not is_wrong:\n",
    "            wrong_count = 0\n",
    "            for d in range(len(X_train)):\n",
    "                X = X_train[d]\n",
    "#                 print(X)\n",
    "                y = y_train[d]\n",
    "                if y * self.sign(X, self.w, self.b) <= 0:   # 被误分类\n",
    "                    self.w = self.w + self.l_rate * np.dot(y, X)   # 更新w\n",
    "                    self.b = self.b + self.l_rate * y    # 更新b\n",
    "                    wrong_count += 1\n",
    "            if wrong_count == 0:\n",
    "                is_wrong = True\n",
    "                \n",
    "        return 'perceptron model!'\n",
    "    def score(self):\n",
    "        pass"
   ]
  },
  {
   "cell_type": "code",
   "execution_count": 190,
   "id": "played-planning",
   "metadata": {},
   "outputs": [
    {
     "data": {
      "text/plain": [
       "'perceptron model!'"
      ]
     },
     "execution_count": 190,
     "metadata": {},
     "output_type": "execute_result"
    }
   ],
   "source": [
    "perceptron = Model()\n",
    "perceptron.fit(X, y)"
   ]
  },
  {
   "cell_type": "code",
   "execution_count": 191,
   "id": "unexpected-network",
   "metadata": {},
   "outputs": [
    {
     "name": "stdout",
     "output_type": "stream",
     "text": [
      "[  7.8 -10. ]\n",
      "-12.099999999999973\n"
     ]
    }
   ],
   "source": [
    "print(perceptron.w)\n",
    "print(perceptron.b)"
   ]
  },
  {
   "cell_type": "code",
   "execution_count": 192,
   "id": "ranging-subsection",
   "metadata": {},
   "outputs": [
    {
     "data": {
      "text/plain": [
       "<matplotlib.legend.Legend at 0x1428b3190>"
      ]
     },
     "execution_count": 192,
     "metadata": {},
     "output_type": "execute_result"
    },
    {
     "data": {
      "image/png": "[encoded data removed]",
      "text/plain": [
       "<Figure size 432x288 with 1 Axes>"
      ]
     },
     "metadata": {
      "needs_background": "light"
     },
     "output_type": "display_data"
    }
   ],
   "source": [
    "x_points = np.linspace(4, 7, 10)\n",
    "y_ = -(perceptron.w[0] * x_points + perceptron.b) / perceptron.w[1]\n",
    "plt.plot(x_points, y_)\n",
    "\n",
    "plt.plot(data[:50, 0], data[:50, 1], 'bo', color='blue', label='0')\n",
    "plt.plot(data[50:100, 0], data[50:100, 1], 'bo', color='orange', label='1')\n",
    "plt.xlabel('sepal length')\n",
    "plt.ylabel('sepal width')\n",
    "plt.legend()"
   ]
  },
  {
   "cell_type": "markdown",
   "id": "human-federation",
   "metadata": {},
   "source": [
    "### 调用scikit-learn实现感知机"
   ]
  },
  {
   "cell_type": "code",
   "execution_count": 43,
   "id": "sporting-belarus",
   "metadata": {},
   "outputs": [],
   "source": [
    "import sklearn\n",
    "from sklearn.linear_model import Perceptron"
   ]
  },
  {
   "cell_type": "code",
   "execution_count": 51,
   "id": "union-shock",
   "metadata": {},
   "outputs": [
    {
     "data": {
      "text/plain": [
       "Perceptron(tol=None)"
      ]
     },
     "execution_count": 51,
     "metadata": {},
     "output_type": "execute_result"
    }
   ],
   "source": [
    "clf = Perceptron(fit_intercept=True,\n",
    "                max_iter=1000,\n",
    "                shuffle=True,\n",
    "                tol=None)\n",
    "clf.fit(X, y)"
   ]
  },
  {
   "cell_type": "code",
   "execution_count": 52,
   "id": "pressed-alias",
   "metadata": {},
   "outputs": [
    {
     "data": {
      "text/plain": [
       "array([[ 70.7, -87.9]])"
      ]
     },
     "execution_count": 52,
     "metadata": {},
     "output_type": "execute_result"
    }
   ],
   "source": [
    "clf.coef_    # w"
   ]
  },
  {
   "cell_type": "code",
   "execution_count": 53,
   "id": "secret-imaging",
   "metadata": {},
   "outputs": [
    {
     "data": {
      "text/plain": [
       "array([-117.])"
      ]
     },
     "execution_count": 53,
     "metadata": {},
     "output_type": "execute_result"
    }
   ],
   "source": [
    "clf.intercept_   # b"
   ]
  },
  {
   "cell_type": "code",
   "execution_count": 54,
   "id": "announced-desperate",
   "metadata": {},
   "outputs": [
    {
     "data": {
      "text/plain": [
       "<matplotlib.legend.Legend at 0x14109cca0>"
      ]
     },
     "execution_count": 54,
     "metadata": {},
     "output_type": "execute_result"
    },
    {
     "data": {
      "image/png": "[encoded data removed]",
      "text/plain": [
       "<Figure size 432x288 with 1 Axes>"
      ]
     },
     "metadata": {
      "needs_background": "light"
     },
     "output_type": "display_data"
    }
   ],
   "source": [
    "plt.scatter(data[:50, 0], data[:50,1], color = 'blue', label='iris-setosa',)\n",
    "plt.scatter(data[50:100, 0], data[50:100,1], color = 'orange', label='iris-versicolor',)\n",
    "\n",
    "x_points = np.arange(4, 8)\n",
    "y_ = -(clf.coef_[0][0] * x_points + clf.intercept_) / clf.coef_[0][1]\n",
    "plt.plot(x_points, y_)\n",
    "plt.legend()"
   ]
  },
  {
   "cell_type": "markdown",
   "id": "coated-empire",
   "metadata": {},
   "source": [
    "### 感知机简单计算"
   ]
  },
  {
   "cell_type": "code",
   "execution_count": 201,
   "id": "occasional-press",
   "metadata": {},
   "outputs": [],
   "source": [
    "x = np.array([[3, 3], [4,3], [1,1]])\n",
    "y = np.array([1, 1, -1])"
   ]
  },
  {
   "cell_type": "code",
   "execution_count": 202,
   "id": "czech-bronze",
   "metadata": {},
   "outputs": [],
   "source": [
    "w = np.array([0.0, 0.0])\n",
    "b = 0"
   ]
  },
  {
   "cell_type": "code",
   "execution_count": 203,
   "id": "alert-credits",
   "metadata": {},
   "outputs": [],
   "source": [
    "is_wrong = False\n",
    "j = 0\n",
    "while not is_wrong:\n",
    "    j += 1\n",
    "    wrong_counts = 0\n",
    "    for i in range(len(x)):\n",
    "        if y[i] * (np.dot(x[i], w) + b) <= 0:\n",
    "            w = w + 1 * np.dot(y[i], x[i])\n",
    "            b = b + 1 * y[i]\n",
    "            wrong_counts += 1\n",
    "    if wrong_counts == 0:\n",
    "        is_wrong = True"
   ]
  },
  {
   "cell_type": "code",
   "execution_count": 204,
   "id": "forbidden-belle",
   "metadata": {},
   "outputs": [
    {
     "name": "stdout",
     "output_type": "stream",
     "text": [
      "[1. 1.] -3\n"
     ]
    }
   ],
   "source": [
    "print(w, b)"
   ]
  },
  {
   "cell_type": "code",
   "execution_count": 205,
   "id": "sufficient-hospital",
   "metadata": {},
   "outputs": [
    {
     "data": {
      "text/plain": [
       "<matplotlib.legend.Legend at 0x142aa2160>"
      ]
     },
     "execution_count": 205,
     "metadata": {},
     "output_type": "execute_result"
    },
    {
     "data": {
      "image/png": "[encoded data removed]",
      "text/plain": [
       "<Figure size 432x288 with 1 Axes>"
      ]
     },
     "metadata": {
      "needs_background": "light"
     },
     "output_type": "display_data"
    }
   ],
   "source": [
    "plt.scatter(x[0][0], x[0][1], label='x1')\n",
    "plt.scatter(x[1][0], x[1][1], label='x2')\n",
    "plt.scatter(x[2][0], x[2][1], label='x3')\n",
    "x_p = np.linspace(0, 5, 10)\n",
    "y_p = -(w[0] * x_p + b) / w[1]\n",
    "plt.plot(x_p, y_p)\n",
    "plt.legend()"
   ]
  }
 ],
 "metadata": {
  "kernelspec": {
   "display_name": "Python 3",
   "language": "python",
   "name": "python3"
  },
  "language_info": {
   "codemirror_mode": {
    "name": "ipython",
    "version": 3
   },
   "file_extension": ".py",
   "mimetype": "text/x-python",
   "name": "python",
   "nbconvert_exporter": "python",
   "pygments_lexer": "ipython3",
   "version": "3.9.1"
  }
 },
 "nbformat": 4,
 "nbformat_minor": 5
}
