{
 "cells": [
  {
   "cell_type": "markdown",
   "id": "50623fbc-485a-45bb-abc3-a788339b9213",
   "metadata": {},
   "source": [
    "# 线性模型"
   ]
  },
  {
   "cell_type": "markdown",
   "id": "91f922bb-7940-404d-b09f-d1c0eb5faf91",
   "metadata": {},
   "source": [
    "* 分类函数\n",
    "* 损失函数\n",
    "* 更新步骤\n",
    "* 优缺点"
   ]
  }
 ],
 "metadata": {
  "kernelspec": {
   "display_name": "Python 3",
   "language": "python",
   "name": "python3"
  },
  "language_info": {
   "codemirror_mode": {
    "name": "ipython",
    "version": 3
   },
   "file_extension": ".py",
   "mimetype": "text/x-python",
   "name": "python",
   "nbconvert_exporter": "python",
   "pygments_lexer": "ipython3",
   "version": "3.9.1"
  }
 },
 "nbformat": 4,
 "nbformat_minor": 5
}
