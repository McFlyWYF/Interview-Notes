{
 "cells": [
  {
   "cell_type": "markdown",
   "id": "baa3b825-7976-41eb-ae17-3b333b96d261",
   "metadata": {},
   "source": [
    "### ViT模型"
   ]
  },
  {
   "cell_type": "code",
   "execution_count": 34,
   "id": "52a45268-daa1-470e-8218-1587bfb06538",
   "metadata": {},
   "outputs": [],
   "source": [
    "import numpy as np\n",
    "import tensorflow as tf\n",
    "from tensorflow import keras\n",
    "from tensorflow.keras import layers\n",
    "import tensorflow_addons as tfa"
   ]
  },
  {
   "cell_type": "markdown",
   "id": "2aa65f31-62ec-4efb-9680-1db6cde603f9",
   "metadata": {},
   "source": [
    "#### 超参数"
   ]
  },
  {
   "cell_type": "code",
   "execution_count": 35,
   "id": "d9f2fa33-53de-4841-82a1-f9098bf9a5f2",
   "metadata": {},
   "outputs": [],
   "source": [
    "leanring_rate = 0.001\n",
    "weight_decay = 0.001\n",
    "batch_size = 256\n",
    "num_epochs = 100\n",
    "image_size = 72\n",
    "patch_size = 6\n",
    "num_patches = (image_size // patch_size) **2\n",
    "projection_dim = 64\n",
    "num_heads = 4\n",
    "\n",
    "transformer_uints = [\n",
    "    projection_dim * 2,\n",
    "    projection_dim,\n",
    "]\n",
    "transformer_layers = 8\n",
    "mlp_head_uints = [2048, 1024]"
   ]
  },
  {
   "cell_type": "markdown",
   "id": "27a56753-2448-4943-87ed-aa567c9c094e",
   "metadata": {},
   "source": [
    "#### 数据"
   ]
  },
  {
   "cell_type": "code",
   "execution_count": 49,
   "id": "fd0f14c3-8b81-4180-92c8-7c88f8d1d72c",
   "metadata": {},
   "outputs": [
    {
     "name": "stdout",
     "output_type": "stream",
     "text": [
      "x_train shape: (50000, 32, 32, 3)\n",
      "x_test shape: (10000, 32, 32, 3)\n"
     ]
    }
   ],
   "source": [
    "num_classes = 100\n",
    "input_shape = (32, 32, 3)\n",
    "\n",
    "(x_train, y_train), (x_test, y_test) = keras.datasets.cifar100.load_data()\n",
    "\n",
    "print('x_train shape:', x_train.shape)\n",
    "print('x_test shape:', x_test.shape)"
   ]
  },
  {
   "cell_type": "markdown",
   "id": "b83e7e80-7263-400b-aae7-3474235e3ba0",
   "metadata": {},
   "source": [
    "* 数据扩充"
   ]
  },
  {
   "cell_type": "code",
   "execution_count": 69,
   "id": "7752fbf2-e843-4f86-9ea9-8248b3d9e300",
   "metadata": {},
   "outputs": [],
   "source": [
    "data_augmentation = keras.Sequential(\n",
    "    [\n",
    "        layers.experimental.preprocessing.Normalization(),\n",
    "        layers.experimental.preprocessing.Resizing(image_size, image_size),\n",
    "        layers.experimental.preprocessing.RandomFlip('horizontal'),\n",
    "        layers.experimental.preprocessing.RandomRotation(factor=0.02),\n",
    "        layers.experimental.preprocessing.RandomZoom(\n",
    "            height_factor = 0.2, width_factor = 0.2),\n",
    "    ],\n",
    "    name = 'data_augmentation',\n",
    ")\n",
    "\n",
    "# compute the mean and the variance for normalization\n",
    "data_augmentation.layers[0].adapt(x_train)"
   ]
  },
  {
   "cell_type": "markdown",
   "id": "abaf7bd5-b374-404a-aaf0-0d75348bc783",
   "metadata": {},
   "source": [
    "#### 多层感知器"
   ]
  },
  {
   "cell_type": "code",
   "execution_count": 70,
   "id": "58274341-fb3e-4a76-ba75-a2b66b4326a6",
   "metadata": {},
   "outputs": [],
   "source": [
    "def mlp(x, hidden_uints, dropout_rate):\n",
    "    for uints in hidden_uints:\n",
    "        x = layers.Dense(uints, activation = tf.nn.gelu)(x)\n",
    "        x = layers.Dropout(dropout_rate)(x)\n",
    "    return x"
   ]
  },
  {
   "cell_type": "markdown",
   "id": "3220ae24-6b37-428b-aa6e-91c9f3dd5b29",
   "metadata": {},
   "source": [
    "#### 将patch创建实施为一层"
   ]
  },
  {
   "cell_type": "code",
   "execution_count": 71,
   "id": "334cdb38-44ed-4e29-b72d-4ae85c494aef",
   "metadata": {},
   "outputs": [],
   "source": [
    "class Patches(layers.Layer):\n",
    "    def __init__(self, patch_size):\n",
    "        super(Patches, self).__init__()\n",
    "        self.patch_size = patch_size\n",
    "        \n",
    "    def call(self, images):\n",
    "        batch_size = tf.shape(images)[0]\n",
    "        patches = tf.image.extract_patches(\n",
    "            images=images,\n",
    "            sizes = [1, self.patch_size, self.patch_size,1],\n",
    "            strides = [1,self.patch_size, self.patch_size, 1],\n",
    "            rates = [1,1,1,1],\n",
    "            padding='VALID',\n",
    "        )\n",
    "        \n",
    "        patch_dims = patches.shape[-1]\n",
    "        patches = tf.reshape(patches, [batch_size, -1, patch_dims])\n",
    "        return patches"
   ]
  },
  {
   "cell_type": "markdown",
   "id": "a862b3c9-fcde-4722-85e3-48a6307e247f",
   "metadata": {},
   "source": [
    "* 显示示例图像的patch"
   ]
  },
  {
   "cell_type": "code",
   "execution_count": 72,
   "id": "ddca40aa-1744-4ece-83a9-c5f755c025ea",
   "metadata": {},
   "outputs": [],
   "source": [
    "import matplotlib.pyplot as plt"
   ]
  },
  {
   "cell_type": "code",
   "execution_count": 73,
   "id": "c5725a06-7f90-4e03-94ed-f9ae837bdff9",
   "metadata": {},
   "outputs": [
    {
     "data": {
      "image/png": "[encoded data removed]",
      "text/plain": [
       "<Figure size 288x288 with 1 Axes>"
      ]
     },
     "metadata": {
      "needs_background": "light"
     },
     "output_type": "display_data"
    }
   ],
   "source": [
    "plt.figure(figsize=(4, 4))\n",
    "image = x_train[np.random.choice(range(x_train.shape[0]))]\n",
    "plt.imshow(image.astype('uint8'))\n",
    "plt.axis('off')\n",
    "plt.show()"
   ]
  },
  {
   "cell_type": "code",
   "execution_count": 74,
   "id": "99424a3d-7bb1-44bb-abfc-4dd71d91a435",
   "metadata": {},
   "outputs": [
    {
     "name": "stdout",
     "output_type": "stream",
     "text": [
      "image size: 72 x 72\n",
      "Patch size: 6 x 6\n",
      "Patches per image: 144\n",
      "Elements per patch: 108\n"
     ]
    }
   ],
   "source": [
    "resized_image = tf.image.resize(\n",
    "    tf.convert_to_tensor([image]), size = (image_size, image_size)\n",
    ")\n",
    "patches = Patches(patch_size)(resized_image)\n",
    "print(f\"image size: {image_size} x {image_size}\")\n",
    "print(f\"Patch size: {patch_size} x {patch_size}\")\n",
    "print(f\"Patches per image: {patches.shape[1]}\")\n",
    "print(f\"Elements per patch: {patches.shape[-1]}\")"
   ]
  },
  {
   "cell_type": "code",
   "execution_count": 75,
   "id": "05ff8011-a217-4f00-9529-04f6ea4901c0",
   "metadata": {},
   "outputs": [
    {
     "data": {
      "image/png": "[encoded data removed]",
      "text/plain": [
       "<Figure size 288x288 with 144 Axes>"
      ]
     },
     "metadata": {
      "needs_background": "light"
     },
     "output_type": "display_data"
    }
   ],
   "source": [
    "n = int(np.sqrt(patches.shape[1]))\n",
    "plt.figure(figsize=(4, 4))\n",
    "for i, patch in enumerate(patches[0]):\n",
    "    ax = plt.subplot(n, n, i + 1)\n",
    "    patch_img = tf.reshape(patch, (patch_size, patch_size, 3))\n",
    "    plt.imshow(patch_img.numpy().astype('uint8'))\n",
    "    plt.axis('off')"
   ]
  },
  {
   "cell_type": "markdown",
   "id": "fc438cab-14d7-43ef-a2cd-69162dba0de3",
   "metadata": {},
   "source": [
    "#### 实现patch编码层"
   ]
  },
  {
   "cell_type": "markdown",
   "id": "a33187df-530b-4d56-b915-adc294f34af8",
   "metadata": {},
   "source": [
    "* PatchEncoder层通过将patch投影到大小为projection_dim的向量中来线性地对其进行变换。此外，它还向嵌入的向量中添加了可学习的位置。"
   ]
  },
  {
   "cell_type": "code",
   "execution_count": 76,
   "id": "bd3a26d9-d6ce-4501-87e4-dffe88276ef1",
   "metadata": {},
   "outputs": [],
   "source": [
    "class PatchEncoder(layers.Layer):\n",
    "    def __init__(self, num_patches, projection_dim):\n",
    "        super(PatchEncoder, self).__init__()\n",
    "        self.num_patches = num_patches\n",
    "        self.projection = layers.Dense(units = projection_dim)\n",
    "        self.position_embedding = layers.Embedding(\n",
    "            input_dim = num_patches, output_dim = projection_dim\n",
    "        )\n",
    "        \n",
    "    def call(self, patch):\n",
    "        positions = tf.range(start=0, limit = self.num_patches, delta = 1)\n",
    "        encoded = self.projection(patch) + self.position_embedding(positions)\n",
    "        return encoded"
   ]
  },
  {
   "cell_type": "markdown",
   "id": "b2876e75-f2a0-4feb-9e25-7c5c1419fdcf",
   "metadata": {},
   "source": [
    "#### 建立ViT模型"
   ]
  },
  {
   "cell_type": "markdown",
   "id": "06be7a42-b193-40d7-874e-b7ed66f6395a",
   "metadata": {},
   "source": [
    "* ViT模型是由多个Transformer模块组成，这些模块使用layer.MultiHeadAttention层作为应用于补丁序列的自注意力机制。Transformer块产生一个[batch_size, num_patches, projection_dim]张量，该张量通过带有softmax的分类器头进行处理以产生最终的类概率输出。"
   ]
  },
  {
   "cell_type": "code",
   "execution_count": 77,
   "id": "ea5cb288-2a90-4f1a-818f-ba3ac553ab68",
   "metadata": {},
   "outputs": [],
   "source": [
    "def create_vit_classifier():\n",
    "    inputs = layers.Input(shape = input_shape)\n",
    "    # augment data\n",
    "    augmented = data_augmentation(inputs)\n",
    "    # create patches\n",
    "    patches = Patches(patch_size)(inputs)\n",
    "    # encode patches\n",
    "    encoded_patches = PatchEncoder(num_patches, projection_dim)(patches)\n",
    "    \n",
    "    # create multiple layers of the transformer block\n",
    "    for _ in range(transformer_layers):\n",
    "        # layer normalization 1\n",
    "        x1 = layers.LayerNormalization(epsilon = 1e-6)(encoded_patches)\n",
    "        # create a multi-head attention layer\n",
    "        attention_output = layers.MultiHeadAttention(\n",
    "            num_heads = num_heads, key_dim = projection_dim, dropout = 0.1\n",
    "        )(x1, x1)\n",
    "        # skip connection 1\n",
    "        x2 = layers.Add()([attention_output, encoded_patches])\n",
    "        # layer normalization 2\n",
    "        x3 = layers.LayerNormalization(epsilon=1e-6)(x2)\n",
    "        # mlp\n",
    "        x3 = mlp(x3, hidden_uints=transformer_uints, dropout_rate=0.1)\n",
    "        # skip connection 2\n",
    "        encoded_patches = layers.Add()([x3, x2])\n",
    "        \n",
    "    # create a [batch_size, proprojection_dim] tensor\n",
    "    representation = layers.LayerNormalization(epsilon = 1e-6)(encoded_patches)\n",
    "    representation = layers.Flatten()(representation)\n",
    "    representation = layers.Dropout(0.5)(representation)\n",
    "    \n",
    "    # add mlp\n",
    "    features = mlp(representationm, hidden_uints=mlp_head_uints,dropout_rate=0.5)\n",
    "    # classify outputs\n",
    "    logits = layers.Dense(num_classes)(features)\n",
    "    # create the keras model\n",
    "    model = keras.Model(inputs=inputs, outputs = logits)\n",
    "    return model"
   ]
  },
  {
   "cell_type": "markdown",
   "id": "7798b901-93cd-4c0f-911b-645984ca429a",
   "metadata": {},
   "source": [
    "#### 编译，训练和评估模型"
   ]
  },
  {
   "cell_type": "code",
   "execution_count": 78,
   "id": "e566d48b-683f-42ca-8a3e-629287b32929",
   "metadata": {},
   "outputs": [],
   "source": [
    "def run_experiment(model):\n",
    "    optimizer = tfa.optimizers.AdamW(\n",
    "        learning_rate=leanring_rate, weight_decay = weight_decay\n",
    "    )\n",
    "    \n",
    "    model.compile(\n",
    "        optimizer = optimizer,\n",
    "        loss = keras.losses.SparseCategoricalCrossentropy(from_logits=True),\n",
    "        metrics = [\n",
    "            keras.metrics.SparseCategoricalAccuracy(name = 'accuracy'),\n",
    "            keras.metrics.SparseTopKCategoricalAccuracy(5, name = 'top-5-accuracy'),\n",
    "        ],\n",
    "    )\n",
    "    \n",
    "    checkpoint_filepath = '/ckeckpoint'\n",
    "    checkpoint_callback = keras,callbacks.ModelCheckpoint(\n",
    "        checkpoint_filepath,\n",
    "        monitor = 'val_accuracy',\n",
    "        save_best_only = True,\n",
    "        save_weights_only = True,\n",
    "    )\n",
    "    \n",
    "    history = model.fit(\n",
    "        x = x_train,\n",
    "        y = y_train,\n",
    "        batch_size = batch_size,\n",
    "        epochs = num_epochs,\n",
    "        validation_split = 0.1,\n",
    "        callbacks = [checkpoint_callback],\n",
    "    )\n",
    "    \n",
    "    model.load_weights(checkpoint_filepath)\n",
    "    _, accuracy, top_5_accuracy = model.evaluate(x_test,y_test)\n",
    "    print('test accuracy: ', round(accuracy * 100, 2))\n",
    "    \n",
    "    return history"
   ]
  },
  {
   "cell_type": "code",
   "execution_count": 80,
   "id": "9a1f2d2d-3e39-41d0-8606-6414c47f0bcd",
   "metadata": {},
   "outputs": [],
   "source": [
    "vit_classifier = create_vit_classifier()\n",
    "history = run_experiment(vit_classifier)"
   ]
  }
 ],
 "metadata": {
  "kernelspec": {
   "display_name": "tf",
   "language": "python",
   "name": "py38"
  },
  "language_info": {
   "codemirror_mode": {
    "name": "ipython",
    "version": 3
   },
   "file_extension": ".py",
   "mimetype": "text/x-python",
   "name": "python",
   "nbconvert_exporter": "python",
   "pygments_lexer": "ipython3",
   "version": "3.8.6"
  }
 },
 "nbformat": 4,
 "nbformat_minor": 5
}
